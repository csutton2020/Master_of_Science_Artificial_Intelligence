{
 "cells": [
  {
   "cell_type": "code",
   "execution_count": 1,
   "metadata": {},
   "outputs": [],
   "source": [
    "# Chris Sutton \n",
    "# NVDA data"
   ]
  },
  {
   "cell_type": "code",
   "execution_count": 26,
   "metadata": {},
   "outputs": [],
   "source": [
    "import pandas as pd\n",
    "from sklearn.model_selection import train_test_split\n",
    "from sklearn.preprocessing import normalize, MinMaxScaler\n",
    "from sklearn.ensemble import RandomForestClassifier\n",
    "from sklearn.svm import SVC"
   ]
  },
  {
   "cell_type": "code",
   "execution_count": 3,
   "metadata": {},
   "outputs": [],
   "source": [
    "\n",
    "income= pd.read_csv(\"C:/Users/physi/Desktop/EN.705.603_Creating_AI_EnabledSystems/Mod7/financial/ReNotebook1.csv\")\n",
    "income= income.drop(['shift','name',], axis =1)\n",
    "income2= pd.read_csv(\"C:/Users/physi/Desktop/EN.705.603_Creating_AI_EnabledSystems/Mod10/GOOGL_quarterly_financials.csv\")\n",
    "income2 =income2.drop(['shift','name',], axis =1)\n",
    "\n",
    "\n"
   ]
  },
  {
   "cell_type": "code",
   "execution_count": 4,
   "metadata": {},
   "outputs": [
    {
     "data": {
      "text/html": [
       "<div>\n",
       "<style scoped>\n",
       "    .dataframe tbody tr th:only-of-type {\n",
       "        vertical-align: middle;\n",
       "    }\n",
       "\n",
       "    .dataframe tbody tr th {\n",
       "        vertical-align: top;\n",
       "    }\n",
       "\n",
       "    .dataframe thead th {\n",
       "        text-align: right;\n",
       "    }\n",
       "</style>\n",
       "<table border=\"1\" class=\"dataframe\">\n",
       "  <thead>\n",
       "    <tr style=\"text-align: right;\">\n",
       "      <th></th>\n",
       "      <th>TotalRevenue</th>\n",
       "      <th>\\tOperatingRevenue</th>\n",
       "      <th>CostOfRevenue</th>\n",
       "      <th>GrossProfit</th>\n",
       "      <th>OperatingExpense</th>\n",
       "      <th>\\tSellingGeneralAndAdministration</th>\n",
       "      <th>\\tResearchAndDevelopment</th>\n",
       "      <th>OperatingIncome</th>\n",
       "      <th>PretaxIncome</th>\n",
       "      <th>\\t\\t\\tNetIncomeContinuousOperations</th>\n",
       "      <th>quarterly</th>\n",
       "      <th>target</th>\n",
       "    </tr>\n",
       "  </thead>\n",
       "  <tbody>\n",
       "    <tr>\n",
       "      <th>0</th>\n",
       "      <td>71000000</td>\n",
       "      <td>71000000</td>\n",
       "      <td>44200000</td>\n",
       "      <td>26800000</td>\n",
       "      <td>17800000</td>\n",
       "      <td>7300000</td>\n",
       "      <td>8800000</td>\n",
       "      <td>9000000</td>\n",
       "      <td>9400000</td>\n",
       "      <td>6300000</td>\n",
       "      <td>-0.468750</td>\n",
       "      <td>0</td>\n",
       "    </tr>\n",
       "    <tr>\n",
       "      <th>1</th>\n",
       "      <td>78000000</td>\n",
       "      <td>78000000</td>\n",
       "      <td>47200000</td>\n",
       "      <td>30800000</td>\n",
       "      <td>21300000</td>\n",
       "      <td>8100000</td>\n",
       "      <td>10800000</td>\n",
       "      <td>9500000</td>\n",
       "      <td>9800000</td>\n",
       "      <td>6700000</td>\n",
       "      <td>0.927083</td>\n",
       "      <td>1</td>\n",
       "    </tr>\n",
       "    <tr>\n",
       "      <th>2</th>\n",
       "      <td>97000000</td>\n",
       "      <td>97000000</td>\n",
       "      <td>57600000</td>\n",
       "      <td>39400000</td>\n",
       "      <td>24300000</td>\n",
       "      <td>9300000</td>\n",
       "      <td>12400000</td>\n",
       "      <td>15100000</td>\n",
       "      <td>15600000</td>\n",
       "      <td>10600000</td>\n",
       "      <td>0.598959</td>\n",
       "      <td>1</td>\n",
       "    </tr>\n",
       "    <tr>\n",
       "      <th>3</th>\n",
       "      <td>128400000</td>\n",
       "      <td>128400000</td>\n",
       "      <td>76800000</td>\n",
       "      <td>51600000</td>\n",
       "      <td>30800000</td>\n",
       "      <td>12400000</td>\n",
       "      <td>15400000</td>\n",
       "      <td>20800000</td>\n",
       "      <td>21500000</td>\n",
       "      <td>14600000</td>\n",
       "      <td>2.416666</td>\n",
       "      <td>1</td>\n",
       "    </tr>\n",
       "    <tr>\n",
       "      <th>4</th>\n",
       "      <td>148483000</td>\n",
       "      <td>148483000</td>\n",
       "      <td>89874000</td>\n",
       "      <td>58609000</td>\n",
       "      <td>33045000</td>\n",
       "      <td>12114000</td>\n",
       "      <td>17830000</td>\n",
       "      <td>25564000</td>\n",
       "      <td>26892000</td>\n",
       "      <td>18287000</td>\n",
       "      <td>3.959636</td>\n",
       "      <td>1</td>\n",
       "    </tr>\n",
       "  </tbody>\n",
       "</table>\n",
       "</div>"
      ],
      "text/plain": [
       "   TotalRevenue  \\tOperatingRevenue  CostOfRevenue  GrossProfit  \\\n",
       "0      71000000            71000000       44200000     26800000   \n",
       "1      78000000            78000000       47200000     30800000   \n",
       "2      97000000            97000000       57600000     39400000   \n",
       "3     128400000           128400000       76800000     51600000   \n",
       "4     148483000           148483000       89874000     58609000   \n",
       "\n",
       "   OperatingExpense  \\tSellingGeneralAndAdministration  \\\n",
       "0          17800000                            7300000   \n",
       "1          21300000                            8100000   \n",
       "2          24300000                            9300000   \n",
       "3          30800000                           12400000   \n",
       "4          33045000                           12114000   \n",
       "\n",
       "   \\tResearchAndDevelopment  OperatingIncome  PretaxIncome  \\\n",
       "0                   8800000          9000000       9400000   \n",
       "1                  10800000          9500000       9800000   \n",
       "2                  12400000         15100000      15600000   \n",
       "3                  15400000         20800000      21500000   \n",
       "4                  17830000         25564000      26892000   \n",
       "\n",
       "   \\t\\t\\tNetIncomeContinuousOperations  quarterly  target  \n",
       "0                              6300000  -0.468750       0  \n",
       "1                              6700000   0.927083       1  \n",
       "2                             10600000   0.598959       1  \n",
       "3                             14600000   2.416666       1  \n",
       "4                             18287000   3.959636       1  "
      ]
     },
     "execution_count": 4,
     "metadata": {},
     "output_type": "execute_result"
    }
   ],
   "source": [
    "income.head()"
   ]
  },
  {
   "cell_type": "code",
   "execution_count": 5,
   "metadata": {},
   "outputs": [],
   "source": [
    "#N\n",
    "y= income['target']\n",
    "x= income.loc[:,(income.columns!='target') & (income.columns!='quarterly') & (income.columns!='\\tOperatingRevenue')]\n",
    "#googl\n",
    "y2 = income2['target']\n",
    "x2 = income2.loc[:,(income2.columns!='target') & (income2.columns!='PriceChange')]"
   ]
  },
  {
   "cell_type": "code",
   "execution_count": 6,
   "metadata": {},
   "outputs": [
    {
     "data": {
      "text/plain": [
       "(65,)"
      ]
     },
     "execution_count": 6,
     "metadata": {},
     "output_type": "execute_result"
    }
   ],
   "source": [
    "y2.shape"
   ]
  },
  {
   "cell_type": "code",
   "execution_count": 7,
   "metadata": {},
   "outputs": [
    {
     "data": {
      "text/plain": [
       "(65, 9)"
      ]
     },
     "execution_count": 7,
     "metadata": {},
     "output_type": "execute_result"
    }
   ],
   "source": [
    "x2.shape"
   ]
  },
  {
   "cell_type": "code",
   "execution_count": 8,
   "metadata": {},
   "outputs": [
    {
     "data": {
      "text/html": [
       "<div>\n",
       "<style scoped>\n",
       "    .dataframe tbody tr th:only-of-type {\n",
       "        vertical-align: middle;\n",
       "    }\n",
       "\n",
       "    .dataframe tbody tr th {\n",
       "        vertical-align: top;\n",
       "    }\n",
       "\n",
       "    .dataframe thead th {\n",
       "        text-align: right;\n",
       "    }\n",
       "</style>\n",
       "<table border=\"1\" class=\"dataframe\">\n",
       "  <thead>\n",
       "    <tr style=\"text-align: right;\">\n",
       "      <th></th>\n",
       "      <th>TotalRevenue</th>\n",
       "      <th>CostOfRevenue</th>\n",
       "      <th>GrossProfit</th>\n",
       "      <th>OperatingExpense</th>\n",
       "      <th>\\tSellingGeneralAndAdministration</th>\n",
       "      <th>\\tResearchAndDevelopment</th>\n",
       "      <th>OperatingIncome</th>\n",
       "      <th>PretaxIncome</th>\n",
       "      <th>\\t\\t\\tNetIncomeContinuousOperations</th>\n",
       "    </tr>\n",
       "  </thead>\n",
       "  <tbody>\n",
       "    <tr>\n",
       "      <th>0</th>\n",
       "      <td>71000000</td>\n",
       "      <td>44200000</td>\n",
       "      <td>26800000</td>\n",
       "      <td>17800000</td>\n",
       "      <td>7300000</td>\n",
       "      <td>8800000</td>\n",
       "      <td>9000000</td>\n",
       "      <td>9400000</td>\n",
       "      <td>6300000</td>\n",
       "    </tr>\n",
       "    <tr>\n",
       "      <th>1</th>\n",
       "      <td>78000000</td>\n",
       "      <td>47200000</td>\n",
       "      <td>30800000</td>\n",
       "      <td>21300000</td>\n",
       "      <td>8100000</td>\n",
       "      <td>10800000</td>\n",
       "      <td>9500000</td>\n",
       "      <td>9800000</td>\n",
       "      <td>6700000</td>\n",
       "    </tr>\n",
       "    <tr>\n",
       "      <th>2</th>\n",
       "      <td>97000000</td>\n",
       "      <td>57600000</td>\n",
       "      <td>39400000</td>\n",
       "      <td>24300000</td>\n",
       "      <td>9300000</td>\n",
       "      <td>12400000</td>\n",
       "      <td>15100000</td>\n",
       "      <td>15600000</td>\n",
       "      <td>10600000</td>\n",
       "    </tr>\n",
       "    <tr>\n",
       "      <th>3</th>\n",
       "      <td>128400000</td>\n",
       "      <td>76800000</td>\n",
       "      <td>51600000</td>\n",
       "      <td>30800000</td>\n",
       "      <td>12400000</td>\n",
       "      <td>15400000</td>\n",
       "      <td>20800000</td>\n",
       "      <td>21500000</td>\n",
       "      <td>14600000</td>\n",
       "    </tr>\n",
       "    <tr>\n",
       "      <th>4</th>\n",
       "      <td>148483000</td>\n",
       "      <td>89874000</td>\n",
       "      <td>58609000</td>\n",
       "      <td>33045000</td>\n",
       "      <td>12114000</td>\n",
       "      <td>17830000</td>\n",
       "      <td>25564000</td>\n",
       "      <td>26892000</td>\n",
       "      <td>18287000</td>\n",
       "    </tr>\n",
       "  </tbody>\n",
       "</table>\n",
       "</div>"
      ],
      "text/plain": [
       "   TotalRevenue  CostOfRevenue  GrossProfit  OperatingExpense  \\\n",
       "0      71000000       44200000     26800000          17800000   \n",
       "1      78000000       47200000     30800000          21300000   \n",
       "2      97000000       57600000     39400000          24300000   \n",
       "3     128400000       76800000     51600000          30800000   \n",
       "4     148483000       89874000     58609000          33045000   \n",
       "\n",
       "   \\tSellingGeneralAndAdministration  \\tResearchAndDevelopment  \\\n",
       "0                            7300000                   8800000   \n",
       "1                            8100000                  10800000   \n",
       "2                            9300000                  12400000   \n",
       "3                           12400000                  15400000   \n",
       "4                           12114000                  17830000   \n",
       "\n",
       "   OperatingIncome  PretaxIncome  \\t\\t\\tNetIncomeContinuousOperations  \n",
       "0          9000000       9400000                              6300000  \n",
       "1          9500000       9800000                              6700000  \n",
       "2         15100000      15600000                             10600000  \n",
       "3         20800000      21500000                             14600000  \n",
       "4         25564000      26892000                             18287000  "
      ]
     },
     "execution_count": 8,
     "metadata": {},
     "output_type": "execute_result"
    }
   ],
   "source": [
    "x.head()"
   ]
  },
  {
   "cell_type": "code",
   "execution_count": 9,
   "metadata": {},
   "outputs": [
    {
     "data": {
      "text/html": [
       "<div>\n",
       "<style scoped>\n",
       "    .dataframe tbody tr th:only-of-type {\n",
       "        vertical-align: middle;\n",
       "    }\n",
       "\n",
       "    .dataframe tbody tr th {\n",
       "        vertical-align: top;\n",
       "    }\n",
       "\n",
       "    .dataframe thead th {\n",
       "        text-align: right;\n",
       "    }\n",
       "</style>\n",
       "<table border=\"1\" class=\"dataframe\">\n",
       "  <thead>\n",
       "    <tr style=\"text-align: right;\">\n",
       "      <th></th>\n",
       "      <th>TotalRevenue</th>\n",
       "      <th>CostOfRevenue</th>\n",
       "      <th>GrossProfit</th>\n",
       "      <th>OperatingExpense</th>\n",
       "      <th>SellingGeneralAndAdministration</th>\n",
       "      <th>ResearchAndDevelopment</th>\n",
       "      <th>OperatingIncome</th>\n",
       "      <th>PretaxIncome</th>\n",
       "      <th>NetIncomeContinuousOperations</th>\n",
       "    </tr>\n",
       "  </thead>\n",
       "  <tbody>\n",
       "    <tr>\n",
       "      <th>0</th>\n",
       "      <td>8.058870e+08</td>\n",
       "      <td>362099000.0</td>\n",
       "      <td>443788000.0</td>\n",
       "      <td>432676000.0</td>\n",
       "      <td>174267000.0</td>\n",
       "      <td>57409000.0</td>\n",
       "      <td>11112000.0</td>\n",
       "      <td>14978000.0</td>\n",
       "      <td>51983000.0</td>\n",
       "    </tr>\n",
       "    <tr>\n",
       "      <th>1</th>\n",
       "      <td>1.031501e+09</td>\n",
       "      <td>453779000.0</td>\n",
       "      <td>577722000.0</td>\n",
       "      <td>274923000.0</td>\n",
       "      <td>187481000.0</td>\n",
       "      <td>87442000.0</td>\n",
       "      <td>302799000.0</td>\n",
       "      <td>310173000.0</td>\n",
       "      <td>204100000.0</td>\n",
       "    </tr>\n",
       "    <tr>\n",
       "      <th>2</th>\n",
       "      <td>1.256516e+09</td>\n",
       "      <td>545208000.0</td>\n",
       "      <td>711308000.0</td>\n",
       "      <td>268538000.0</td>\n",
       "      <td>189126000.0</td>\n",
       "      <td>79412000.0</td>\n",
       "      <td>442770000.0</td>\n",
       "      <td>456456000.0</td>\n",
       "      <td>369193000.0</td>\n",
       "    </tr>\n",
       "    <tr>\n",
       "      <th>3</th>\n",
       "      <td>1.384495e+09</td>\n",
       "      <td>597095000.0</td>\n",
       "      <td>787400000.0</td>\n",
       "      <td>311702000.0</td>\n",
       "      <td>215930000.0</td>\n",
       "      <td>95772000.0</td>\n",
       "      <td>475698000.0</td>\n",
       "      <td>495420000.0</td>\n",
       "      <td>342814000.0</td>\n",
       "    </tr>\n",
       "    <tr>\n",
       "      <th>4</th>\n",
       "      <td>1.578456e+09</td>\n",
       "      <td>653826000.0</td>\n",
       "      <td>924630000.0</td>\n",
       "      <td>395459000.0</td>\n",
       "      <td>243738000.0</td>\n",
       "      <td>151721000.0</td>\n",
       "      <td>529171000.0</td>\n",
       "      <td>549968000.0</td>\n",
       "      <td>381182000.0</td>\n",
       "    </tr>\n",
       "  </tbody>\n",
       "</table>\n",
       "</div>"
      ],
      "text/plain": [
       "   TotalRevenue  CostOfRevenue  GrossProfit  OperatingExpense  \\\n",
       "0  8.058870e+08    362099000.0  443788000.0       432676000.0   \n",
       "1  1.031501e+09    453779000.0  577722000.0       274923000.0   \n",
       "2  1.256516e+09    545208000.0  711308000.0       268538000.0   \n",
       "3  1.384495e+09    597095000.0  787400000.0       311702000.0   \n",
       "4  1.578456e+09    653826000.0  924630000.0       395459000.0   \n",
       "\n",
       "   SellingGeneralAndAdministration  ResearchAndDevelopment  OperatingIncome  \\\n",
       "0                      174267000.0              57409000.0       11112000.0   \n",
       "1                      187481000.0              87442000.0      302799000.0   \n",
       "2                      189126000.0              79412000.0      442770000.0   \n",
       "3                      215930000.0              95772000.0      475698000.0   \n",
       "4                      243738000.0             151721000.0      529171000.0   \n",
       "\n",
       "   PretaxIncome  NetIncomeContinuousOperations  \n",
       "0    14978000.0                     51983000.0  \n",
       "1   310173000.0                    204100000.0  \n",
       "2   456456000.0                    369193000.0  \n",
       "3   495420000.0                    342814000.0  \n",
       "4   549968000.0                    381182000.0  "
      ]
     },
     "execution_count": 9,
     "metadata": {},
     "output_type": "execute_result"
    }
   ],
   "source": [
    "x2.head()"
   ]
  },
  {
   "cell_type": "code",
   "execution_count": 10,
   "metadata": {},
   "outputs": [
    {
     "name": "stdout",
     "output_type": "stream",
     "text": [
      "<class 'pandas.core.frame.DataFrame'>\n",
      "RangeIndex: 88 entries, 0 to 87\n",
      "Data columns (total 9 columns):\n",
      " #   Column                            Non-Null Count  Dtype\n",
      "---  ------                            --------------  -----\n",
      " 0   TotalRevenue                      88 non-null     int64\n",
      " 1   CostOfRevenue                     88 non-null     int64\n",
      " 2   GrossProfit                       88 non-null     int64\n",
      " 3   OperatingExpense                  88 non-null     int64\n",
      " 4   \tSellingGeneralAndAdministration  88 non-null     int64\n",
      " 5   \tResearchAndDevelopment           88 non-null     int64\n",
      " 6   OperatingIncome                   88 non-null     int64\n",
      " 7   PretaxIncome                      88 non-null     int64\n",
      " 8   \t\t\tNetIncomeContinuousOperations  88 non-null     int64\n",
      "dtypes: int64(9)\n",
      "memory usage: 6.3 KB\n"
     ]
    }
   ],
   "source": [
    "x.info()"
   ]
  },
  {
   "cell_type": "code",
   "execution_count": 11,
   "metadata": {},
   "outputs": [
    {
     "name": "stdout",
     "output_type": "stream",
     "text": [
      "<class 'pandas.core.frame.DataFrame'>\n",
      "RangeIndex: 65 entries, 0 to 64\n",
      "Data columns (total 9 columns):\n",
      " #   Column                           Non-Null Count  Dtype  \n",
      "---  ------                           --------------  -----  \n",
      " 0   TotalRevenue                     65 non-null     float64\n",
      " 1   CostOfRevenue                    65 non-null     float64\n",
      " 2   GrossProfit                      65 non-null     float64\n",
      " 3   OperatingExpense                 65 non-null     float64\n",
      " 4   SellingGeneralAndAdministration  65 non-null     float64\n",
      " 5   ResearchAndDevelopment           65 non-null     float64\n",
      " 6   OperatingIncome                  65 non-null     float64\n",
      " 7   PretaxIncome                     65 non-null     float64\n",
      " 8   NetIncomeContinuousOperations    65 non-null     float64\n",
      "dtypes: float64(9)\n",
      "memory usage: 4.7 KB\n"
     ]
    }
   ],
   "source": [
    "x2.info()"
   ]
  },
  {
   "cell_type": "code",
   "execution_count": 12,
   "metadata": {},
   "outputs": [],
   "source": [
    "## xnorm = normalize(x)\n",
    "mm1 =MinMaxScaler()\n",
    "mm2 =MinMaxScaler()\n",
    "\n",
    "#NVDA\n",
    "xnorm2 = mm1.fit_transform(x)\n",
    "\n",
    "#googl\n",
    "x2norm = mm2.fit_transform(x2)"
   ]
  },
  {
   "cell_type": "code",
   "execution_count": 178,
   "metadata": {},
   "outputs": [],
   "source": [
    "#NVDA\n",
    "X_train, X_test, y_train, y_test = train_test_split(xnorm2, y, test_size=0.70)\n",
    "\n",
    "X2_train, X2_test, y2_train, y2_test = train_test_split(x2norm, y2, test_size=0.60)"
   ]
  },
  {
   "cell_type": "code",
   "execution_count": 179,
   "metadata": {},
   "outputs": [],
   "source": [
    "rf = RandomForestClassifier()\n",
    "rf.fit(X_train,y_train)\n",
    "ypred= rf.predict(X_test)\n",
    "\n",
    "sv1 = SVC()\n",
    "sv1.fit(X_train,y_train)\n",
    "ypredsvc= sv1.predict(X_test)\n",
    "\n",
    "\n",
    "rf2 =  RandomForestClassifier()\n",
    "rf2.fit(X2_train,y2_train)\n",
    "ypred2=rf2.predict(X2_test)\n",
    "\n",
    "sv2 = SVC()\n",
    "sv2.fit(X2_train,y2_train)\n",
    "ypredsvc2= sv1.predict(X2_test)"
   ]
  },
  {
   "cell_type": "code",
   "execution_count": 180,
   "metadata": {},
   "outputs": [
    {
     "data": {
      "text/plain": [
       "0.6612903225806451"
      ]
     },
     "execution_count": 180,
     "metadata": {},
     "output_type": "execute_result"
    }
   ],
   "source": [
    "rf.score(X_test, y_test)"
   ]
  },
  {
   "cell_type": "code",
   "execution_count": 181,
   "metadata": {},
   "outputs": [
    {
     "data": {
      "text/plain": [
       "0.6153846153846154"
      ]
     },
     "execution_count": 181,
     "metadata": {},
     "output_type": "execute_result"
    }
   ],
   "source": [
    "rf2.score(X2_test,y2_test)"
   ]
  },
  {
   "cell_type": "code",
   "execution_count": 182,
   "metadata": {},
   "outputs": [
    {
     "data": {
      "text/plain": [
       "0.6451612903225806"
      ]
     },
     "execution_count": 182,
     "metadata": {},
     "output_type": "execute_result"
    }
   ],
   "source": [
    "sv1.score(X_test, y_test)"
   ]
  },
  {
   "cell_type": "code",
   "execution_count": 183,
   "metadata": {},
   "outputs": [
    {
     "data": {
      "text/plain": [
       "0.5897435897435898"
      ]
     },
     "execution_count": 183,
     "metadata": {},
     "output_type": "execute_result"
    }
   ],
   "source": [
    "sv2.score(X2_test,y2_test)"
   ]
  },
  {
   "cell_type": "code",
   "execution_count": 159,
   "metadata": {},
   "outputs": [
    {
     "data": {
      "text/plain": [
       "(62,)"
      ]
     },
     "execution_count": 159,
     "metadata": {},
     "output_type": "execute_result"
    }
   ],
   "source": [
    "ypred.shape"
   ]
  },
  {
   "cell_type": "code",
   "execution_count": 18,
   "metadata": {},
   "outputs": [
    {
     "data": {
      "text/plain": [
       "[(1, 1),\n",
       " (0, 1),\n",
       " (1, 1),\n",
       " (1, 1),\n",
       " (1, 1),\n",
       " (1, 1),\n",
       " (0, 1),\n",
       " (0, 1),\n",
       " (0, 1),\n",
       " (1, 1),\n",
       " (1, 1),\n",
       " (1, 0),\n",
       " (0, 1),\n",
       " (1, 0),\n",
       " (0, 0),\n",
       " (1, 1),\n",
       " (0, 1),\n",
       " (1, 1),\n",
       " (1, 1),\n",
       " (1, 1),\n",
       " (1, 0),\n",
       " (1, 1),\n",
       " (1, 1),\n",
       " (1, 1),\n",
       " (1, 1),\n",
       " (1, 1),\n",
       " (1, 1),\n",
       " (0, 1),\n",
       " (0, 1),\n",
       " (1, 1),\n",
       " (0, 1),\n",
       " (1, 1),\n",
       " (0, 1),\n",
       " (0, 1),\n",
       " (1, 1),\n",
       " (1, 1),\n",
       " (0, 1),\n",
       " (1, 1),\n",
       " (1, 1),\n",
       " (0, 1),\n",
       " (0, 0),\n",
       " (1, 0),\n",
       " (1, 1),\n",
       " (1, 0),\n",
       " (1, 1),\n",
       " (1, 1),\n",
       " (1, 1),\n",
       " (1, 1),\n",
       " (1, 1),\n",
       " (1, 0),\n",
       " (1, 1),\n",
       " (0, 1),\n",
       " (1, 0)]"
      ]
     },
     "execution_count": 18,
     "metadata": {},
     "output_type": "execute_result"
    }
   ],
   "source": [
    "#NVDA\n",
    "list(zip(y_test,ypred))"
   ]
  },
  {
   "cell_type": "code",
   "execution_count": 19,
   "metadata": {},
   "outputs": [
    {
     "data": {
      "text/plain": [
       "[(1, 0),\n",
       " (1, 1),\n",
       " (1, 1),\n",
       " (1, 1),\n",
       " (1, 0),\n",
       " (0, 1),\n",
       " (1, 1),\n",
       " (1, 1),\n",
       " (1, 1),\n",
       " (1, 1),\n",
       " (0, 0),\n",
       " (1, 0),\n",
       " (1, 1),\n",
       " (1, 1),\n",
       " (1, 0),\n",
       " (0, 1),\n",
       " (1, 1),\n",
       " (0, 1),\n",
       " (1, 1),\n",
       " (1, 1),\n",
       " (0, 1),\n",
       " (1, 1),\n",
       " (1, 1),\n",
       " (1, 1),\n",
       " (1, 1),\n",
       " (1, 1),\n",
       " (1, 1),\n",
       " (1, 1),\n",
       " (1, 1),\n",
       " (1, 1),\n",
       " (0, 0),\n",
       " (0, 1),\n",
       " (1, 1),\n",
       " (1, 1),\n",
       " (1, 1),\n",
       " (0, 0),\n",
       " (1, 0),\n",
       " (0, 0),\n",
       " (1, 1)]"
      ]
     },
     "execution_count": 19,
     "metadata": {},
     "output_type": "execute_result"
    }
   ],
   "source": [
    "#GOOGL\n",
    "list(zip(y2_test,ypred2))"
   ]
  },
  {
   "cell_type": "code",
   "execution_count": null,
   "metadata": {},
   "outputs": [],
   "source": []
  }
 ],
 "metadata": {
  "kernelspec": {
   "display_name": "Python 3 (ipykernel)",
   "language": "python",
   "name": "python3"
  },
  "language_info": {
   "codemirror_mode": {
    "name": "ipython",
    "version": 3
   },
   "file_extension": ".py",
   "mimetype": "text/x-python",
   "name": "python",
   "nbconvert_exporter": "python",
   "pygments_lexer": "ipython3",
   "version": "3.11.7"
  }
 },
 "nbformat": 4,
 "nbformat_minor": 4
}
