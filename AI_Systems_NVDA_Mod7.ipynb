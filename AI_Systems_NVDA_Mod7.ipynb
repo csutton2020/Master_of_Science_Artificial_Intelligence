{
 "cells": [
  {
   "cell_type": "code",
   "execution_count": 1,
   "metadata": {},
   "outputs": [],
   "source": [
    "# Chris Sutton \n",
    "# NVDA data"
   ]
  },
  {
   "cell_type": "code",
   "execution_count": 2,
   "metadata": {},
   "outputs": [],
   "source": [
    "import pandas as pd\n",
    "from sklearn.model_selection import train_test_split\n",
    "from sklearn.preprocessing import normalize\n",
    "from sklearn.ensemble import RandomForestClassifier"
   ]
  },
  {
   "cell_type": "code",
   "execution_count": 3,
   "metadata": {},
   "outputs": [],
   "source": [
    "\n",
    "income= pd.read_csv(\"C:/Users/physi/Desktop/EN.705.603_Creating_AI_EnabledSystems/Mod7/financial/ReNotebook1.csv\")\n",
    "income= income.drop(['shift','name',], axis =1)\n",
    "\n",
    "\n"
   ]
  },
  {
   "cell_type": "code",
   "execution_count": 4,
   "metadata": {},
   "outputs": [
    {
     "data": {
      "text/html": [
       "<div>\n",
       "<style scoped>\n",
       "    .dataframe tbody tr th:only-of-type {\n",
       "        vertical-align: middle;\n",
       "    }\n",
       "\n",
       "    .dataframe tbody tr th {\n",
       "        vertical-align: top;\n",
       "    }\n",
       "\n",
       "    .dataframe thead th {\n",
       "        text-align: right;\n",
       "    }\n",
       "</style>\n",
       "<table border=\"1\" class=\"dataframe\">\n",
       "  <thead>\n",
       "    <tr style=\"text-align: right;\">\n",
       "      <th></th>\n",
       "      <th>TotalRevenue</th>\n",
       "      <th>\\tOperatingRevenue</th>\n",
       "      <th>CostOfRevenue</th>\n",
       "      <th>GrossProfit</th>\n",
       "      <th>OperatingExpense</th>\n",
       "      <th>\\tSellingGeneralAndAdministration</th>\n",
       "      <th>\\tResearchAndDevelopment</th>\n",
       "      <th>OperatingIncome</th>\n",
       "      <th>PretaxIncome</th>\n",
       "      <th>\\t\\t\\tNetIncomeContinuousOperations</th>\n",
       "      <th>quarterly</th>\n",
       "      <th>target</th>\n",
       "    </tr>\n",
       "  </thead>\n",
       "  <tbody>\n",
       "    <tr>\n",
       "      <th>0</th>\n",
       "      <td>71000000</td>\n",
       "      <td>71000000</td>\n",
       "      <td>44200000</td>\n",
       "      <td>26800000</td>\n",
       "      <td>17800000</td>\n",
       "      <td>7300000</td>\n",
       "      <td>8800000</td>\n",
       "      <td>9000000</td>\n",
       "      <td>9400000</td>\n",
       "      <td>6300000</td>\n",
       "      <td>-0.468750</td>\n",
       "      <td>0</td>\n",
       "    </tr>\n",
       "    <tr>\n",
       "      <th>1</th>\n",
       "      <td>78000000</td>\n",
       "      <td>78000000</td>\n",
       "      <td>47200000</td>\n",
       "      <td>30800000</td>\n",
       "      <td>21300000</td>\n",
       "      <td>8100000</td>\n",
       "      <td>10800000</td>\n",
       "      <td>9500000</td>\n",
       "      <td>9800000</td>\n",
       "      <td>6700000</td>\n",
       "      <td>0.927083</td>\n",
       "      <td>1</td>\n",
       "    </tr>\n",
       "    <tr>\n",
       "      <th>2</th>\n",
       "      <td>97000000</td>\n",
       "      <td>97000000</td>\n",
       "      <td>57600000</td>\n",
       "      <td>39400000</td>\n",
       "      <td>24300000</td>\n",
       "      <td>9300000</td>\n",
       "      <td>12400000</td>\n",
       "      <td>15100000</td>\n",
       "      <td>15600000</td>\n",
       "      <td>10600000</td>\n",
       "      <td>0.598959</td>\n",
       "      <td>1</td>\n",
       "    </tr>\n",
       "    <tr>\n",
       "      <th>3</th>\n",
       "      <td>128400000</td>\n",
       "      <td>128400000</td>\n",
       "      <td>76800000</td>\n",
       "      <td>51600000</td>\n",
       "      <td>30800000</td>\n",
       "      <td>12400000</td>\n",
       "      <td>15400000</td>\n",
       "      <td>20800000</td>\n",
       "      <td>21500000</td>\n",
       "      <td>14600000</td>\n",
       "      <td>2.416666</td>\n",
       "      <td>1</td>\n",
       "    </tr>\n",
       "    <tr>\n",
       "      <th>4</th>\n",
       "      <td>148483000</td>\n",
       "      <td>148483000</td>\n",
       "      <td>89874000</td>\n",
       "      <td>58609000</td>\n",
       "      <td>33045000</td>\n",
       "      <td>12114000</td>\n",
       "      <td>17830000</td>\n",
       "      <td>25564000</td>\n",
       "      <td>26892000</td>\n",
       "      <td>18287000</td>\n",
       "      <td>3.959636</td>\n",
       "      <td>1</td>\n",
       "    </tr>\n",
       "  </tbody>\n",
       "</table>\n",
       "</div>"
      ],
      "text/plain": [
       "   TotalRevenue  \\tOperatingRevenue  CostOfRevenue  GrossProfit  \\\n",
       "0      71000000            71000000       44200000     26800000   \n",
       "1      78000000            78000000       47200000     30800000   \n",
       "2      97000000            97000000       57600000     39400000   \n",
       "3     128400000           128400000       76800000     51600000   \n",
       "4     148483000           148483000       89874000     58609000   \n",
       "\n",
       "   OperatingExpense  \\tSellingGeneralAndAdministration  \\\n",
       "0          17800000                            7300000   \n",
       "1          21300000                            8100000   \n",
       "2          24300000                            9300000   \n",
       "3          30800000                           12400000   \n",
       "4          33045000                           12114000   \n",
       "\n",
       "   \\tResearchAndDevelopment  OperatingIncome  PretaxIncome  \\\n",
       "0                   8800000          9000000       9400000   \n",
       "1                  10800000          9500000       9800000   \n",
       "2                  12400000         15100000      15600000   \n",
       "3                  15400000         20800000      21500000   \n",
       "4                  17830000         25564000      26892000   \n",
       "\n",
       "   \\t\\t\\tNetIncomeContinuousOperations  quarterly  target  \n",
       "0                              6300000  -0.468750       0  \n",
       "1                              6700000   0.927083       1  \n",
       "2                             10600000   0.598959       1  \n",
       "3                             14600000   2.416666       1  \n",
       "4                             18287000   3.959636       1  "
      ]
     },
     "execution_count": 4,
     "metadata": {},
     "output_type": "execute_result"
    }
   ],
   "source": [
    "income.head()"
   ]
  },
  {
   "cell_type": "code",
   "execution_count": 5,
   "metadata": {},
   "outputs": [],
   "source": [
    "y= income['target']\n",
    "x= income.loc[:,income.columns!='target']"
   ]
  },
  {
   "cell_type": "code",
   "execution_count": 6,
   "metadata": {},
   "outputs": [],
   "source": [
    "xnorm = normalize(x)"
   ]
  },
  {
   "cell_type": "code",
   "execution_count": 7,
   "metadata": {},
   "outputs": [],
   "source": [
    "X_train, X_test, y_train, y_test = train_test_split(xnorm, y, test_size=0.1, random_state=42)"
   ]
  },
  {
   "cell_type": "code",
   "execution_count": 8,
   "metadata": {},
   "outputs": [
    {
     "data": {
      "text/plain": [
       "(79, 11)"
      ]
     },
     "execution_count": 8,
     "metadata": {},
     "output_type": "execute_result"
    }
   ],
   "source": [
    "X_train.shape"
   ]
  },
  {
   "cell_type": "code",
   "execution_count": 9,
   "metadata": {},
   "outputs": [
    {
     "data": {
      "text/plain": [
       "(9,)"
      ]
     },
     "execution_count": 9,
     "metadata": {},
     "output_type": "execute_result"
    }
   ],
   "source": [
    "y_test.shape"
   ]
  },
  {
   "cell_type": "code",
   "execution_count": 10,
   "metadata": {},
   "outputs": [
    {
     "data": {
      "text/plain": [
       "(9, 11)"
      ]
     },
     "execution_count": 10,
     "metadata": {},
     "output_type": "execute_result"
    }
   ],
   "source": [
    "X_test.shape"
   ]
  },
  {
   "cell_type": "code",
   "execution_count": 11,
   "metadata": {},
   "outputs": [],
   "source": [
    "rf = RandomForestClassifier(n_estimators=100)\n",
    "rf.fit(X_train,y_train)\n",
    "ypred= rf.predict(X_test)"
   ]
  },
  {
   "cell_type": "code",
   "execution_count": 12,
   "metadata": {},
   "outputs": [
    {
     "data": {
      "text/plain": [
       "0.6666666666666666"
      ]
     },
     "execution_count": 12,
     "metadata": {},
     "output_type": "execute_result"
    }
   ],
   "source": [
    "rf.score(X_test, y_test)"
   ]
  },
  {
   "cell_type": "code",
   "execution_count": 13,
   "metadata": {},
   "outputs": [
    {
     "data": {
      "text/plain": [
       "(9,)"
      ]
     },
     "execution_count": 13,
     "metadata": {},
     "output_type": "execute_result"
    }
   ],
   "source": [
    "ypred.shape"
   ]
  },
  {
   "cell_type": "code",
   "execution_count": 14,
   "metadata": {},
   "outputs": [
    {
     "data": {
      "text/plain": [
       "[(1, 1), (1, 1), (0, 1), (1, 1), (0, 0), (1, 1), (0, 0), (1, 0), (0, 1)]"
      ]
     },
     "execution_count": 14,
     "metadata": {},
     "output_type": "execute_result"
    }
   ],
   "source": [
    "list(zip(y_train,ypred))"
   ]
  },
  {
   "cell_type": "code",
   "execution_count": null,
   "metadata": {},
   "outputs": [],
   "source": []
  }
 ],
 "metadata": {
  "kernelspec": {
   "display_name": "Python 3 (ipykernel)",
   "language": "python",
   "name": "python3"
  },
  "language_info": {
   "codemirror_mode": {
    "name": "ipython",
    "version": 3
   },
   "file_extension": ".py",
   "mimetype": "text/x-python",
   "name": "python",
   "nbconvert_exporter": "python",
   "pygments_lexer": "ipython3",
   "version": "3.11.7"
  }
 },
 "nbformat": 4,
 "nbformat_minor": 4
}
