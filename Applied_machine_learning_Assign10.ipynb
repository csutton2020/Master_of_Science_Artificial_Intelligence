{
 "cells": [
  {
   "cell_type": "raw",
   "metadata": {},
   "source": [
    "Christian Sutton\n",
    "EN.705.601.82\n",
    "11/07/20\n",
    "302-650-5780"
   ]
  },
  {
   "cell_type": "code",
   "execution_count": 1,
   "metadata": {},
   "outputs": [
    {
     "name": "stderr",
     "output_type": "stream",
     "text": [
      "In C:\\Users\\physi\\Anaconda4\\lib\\site-packages\\matplotlib\\mpl-data\\stylelib\\_classic_test.mplstyle: \n",
      "The text.latex.unicode rcparam was deprecated in Matplotlib 3.0 and will be removed in 3.2.\n",
      "In C:\\Users\\physi\\Anaconda4\\lib\\site-packages\\matplotlib\\mpl-data\\stylelib\\_classic_test.mplstyle: \n",
      "The savefig.frameon rcparam was deprecated in Matplotlib 3.1 and will be removed in 3.3.\n",
      "In C:\\Users\\physi\\Anaconda4\\lib\\site-packages\\matplotlib\\mpl-data\\stylelib\\_classic_test.mplstyle: \n",
      "The pgf.debug rcparam was deprecated in Matplotlib 3.0 and will be removed in 3.2.\n",
      "In C:\\Users\\physi\\Anaconda4\\lib\\site-packages\\matplotlib\\mpl-data\\stylelib\\_classic_test.mplstyle: \n",
      "The verbose.level rcparam was deprecated in Matplotlib 3.1 and will be removed in 3.3.\n",
      "In C:\\Users\\physi\\Anaconda4\\lib\\site-packages\\matplotlib\\mpl-data\\stylelib\\_classic_test.mplstyle: \n",
      "The verbose.fileo rcparam was deprecated in Matplotlib 3.1 and will be removed in 3.3.\n"
     ]
    }
   ],
   "source": [
    "import pandas as pd\n",
    "import numpy as np\n",
    "import matplotlib.pyplot "
   ]
  },
  {
   "cell_type": "markdown",
   "metadata": {},
   "source": [
    "# Problem 1  \n",
    "**[10 pts] Download the labeled dataset, if you like use a dummy email address for registration. There must be 8 data files, each representing a particular cyber-attack type and it's day, and it's collected pcap data.**  \n"
   ]
  },
  {
   "cell_type": "markdown",
   "metadata": {},
   "source": [
    "# Problem 2  \n",
    "**[10 pts] Pick one of the data files, call it Dataset 1, and examine its features. Make sure it has more than one class value for its label.**  \n"
   ]
  },
  {
   "cell_type": "code",
   "execution_count": 2,
   "metadata": {},
   "outputs": [],
   "source": [
    "Dataset1 = pd.read_csv(\"C:/Users/physi/Desktop/AppliedMachineLearning_EN.705.601/Mod10/GeneratedLabelledFlows/ThursdayMorning.csv\",encoding='cp1252',low_memory=False )"
   ]
  },
  {
   "cell_type": "code",
   "execution_count": 3,
   "metadata": {},
   "outputs": [],
   "source": [
    "# Dataset1.info()"
   ]
  },
  {
   "cell_type": "markdown",
   "metadata": {},
   "source": [
    "# Problem 3  \n",
    "**[10 pts] For the Dataset 1, pick a machine learning methodology and justify your choice.**  \n",
    "For these datasets I will use classification to detect network attacks by training on a a large subset of data or through the use of 10 fold cross validation. The model will then be used on the other datasets after first accounting for new predictive features in each dataset. "
   ]
  },
  {
   "cell_type": "code",
   "execution_count": 5,
   "metadata": {},
   "outputs": [],
   "source": [
    "# check for unique items\n",
    "\n",
    "# for col in Dataset1.columns:\n",
    "#     if Dataset1[col].dtype == np.object:\n",
    "#         print(col, Dataset1[col].unique())"
   ]
  },
  {
   "cell_type": "code",
   "execution_count": 6,
   "metadata": {},
   "outputs": [],
   "source": [
    "Dataset1 =Dataset1.drop(['Flow ID'], axis =1)\n",
    "Dataset1 =Dataset1.drop([' Source IP'], axis =1)\n",
    "Dataset1 =Dataset1.drop([' Destination IP'], axis =1) \n",
    "Dataset1 =Dataset1.drop([' Timestamp'], axis =1) \n",
    "Dataset1 =Dataset1.drop(['Flow Bytes/s'], axis =1) \n",
    "Dataset1 =Dataset1.drop([' Flow Packets/s'], axis =1)"
   ]
  },
  {
   "cell_type": "markdown",
   "metadata": {},
   "source": [
    "# Problem 4  \n",
    "**[10 pts] Process the class feature/category as binary classes for supervised learning, assign BENIGN to value 0 and the rest to value 1. Check its balance for the Dataset 1.**  \n"
   ]
  },
  {
   "cell_type": "code",
   "execution_count": 7,
   "metadata": {},
   "outputs": [],
   "source": [
    "# map the labels feature for clasification \n",
    "attacks = {'BENIGN':0, 'Web Attack – Brute Force':1, 'Web Attack – XSS':1,\n",
    " 'Web Attack – Sql Injection':1}\n",
    "Dataset1[' Label'] = Dataset1[' Label'].map(attacks)"
   ]
  },
  {
   "cell_type": "markdown",
   "metadata": {},
   "source": [
    "# Problem 5  \n",
    "**[10 pts] Explore Dataset 1 features with respect to the class. (Hint: features Source Port and Destination Port are very useful, research and find out important networking port numbers and one-hot-encode them. Unimportant port numbers or source port numbers can be assigned to a feature called 'other ports')**  \n"
   ]
  },
  {
   "cell_type": "code",
   "execution_count": 8,
   "metadata": {},
   "outputs": [],
   "source": [
    "# Dataset1[' Source port']= Dataset1[' Source Port'].astype('int32')"
   ]
  },
  {
   "cell_type": "raw",
   "metadata": {},
   "source": [
    "# dataset1 columns im interested in \n",
    "\n",
    "min_seg_size_forward, Init_Win_bytes_backward, Init_Win_bytes_forward, Down/Up Ratio, Protocol\n"
   ]
  },
  {
   "cell_type": "code",
   "execution_count": 9,
   "metadata": {},
   "outputs": [],
   "source": [
    "# make all non interesting ports -10 for both Source and Destination port\n",
    "\n",
    "for i in range(2):\n",
    "    for j in range(170366):\n",
    "        if Dataset1.iloc[j,i] not in (20, 21, 22, 23, 25, 53, 80, 110, 119, 123, 143, 161, 194, 443):\n",
    "            Dataset1.iloc[j,i] = -10"
   ]
  },
  {
   "cell_type": "code",
   "execution_count": 10,
   "metadata": {},
   "outputs": [],
   "source": [
    "Dataset1= Dataset1.drop(Dataset1.columns.difference([' Source Port',' Destination Port', ' min_seg_size_forward', ' Init_Win_bytes_backward', ' Init_Win_bytes_forward', ' Down/Up Ratio', ' Label' ]), 1)"
   ]
  },
  {
   "cell_type": "markdown",
   "metadata": {},
   "source": [
    "# Problem 6  \n",
    "**[10 pts] Display some histograms and anything you deem fit to pick independent Dataset 1 features. (Hint: source/destination bytes, packets, ports and the duration features)**  \n",
    "\n"
   ]
  },
  {
   "cell_type": "code",
   "execution_count": 11,
   "metadata": {},
   "outputs": [
    {
     "data": {
      "text/html": [
       "<div>\n",
       "<style scoped>\n",
       "    .dataframe tbody tr th:only-of-type {\n",
       "        vertical-align: middle;\n",
       "    }\n",
       "\n",
       "    .dataframe tbody tr th {\n",
       "        vertical-align: top;\n",
       "    }\n",
       "\n",
       "    .dataframe thead th {\n",
       "        text-align: right;\n",
       "    }\n",
       "</style>\n",
       "<table border=\"1\" class=\"dataframe\">\n",
       "  <thead>\n",
       "    <tr style=\"text-align: right;\">\n",
       "      <th></th>\n",
       "      <th>Source Port</th>\n",
       "      <th>Destination Port</th>\n",
       "      <th>Down/Up Ratio</th>\n",
       "      <th>Init_Win_bytes_backward</th>\n",
       "      <th>min_seg_size_forward</th>\n",
       "      <th>Label</th>\n",
       "    </tr>\n",
       "  </thead>\n",
       "  <tbody>\n",
       "    <tr>\n",
       "      <th>Source Port</th>\n",
       "      <td>1.000000</td>\n",
       "      <td>-0.316274</td>\n",
       "      <td>-0.187558</td>\n",
       "      <td>0.092782</td>\n",
       "      <td>-0.014838</td>\n",
       "      <td>-0.045503</td>\n",
       "    </tr>\n",
       "    <tr>\n",
       "      <th>Destination Port</th>\n",
       "      <td>-0.316274</td>\n",
       "      <td>1.000000</td>\n",
       "      <td>-0.287812</td>\n",
       "      <td>0.034583</td>\n",
       "      <td>-0.062896</td>\n",
       "      <td>-0.032914</td>\n",
       "    </tr>\n",
       "    <tr>\n",
       "      <th>Down/Up Ratio</th>\n",
       "      <td>-0.187558</td>\n",
       "      <td>-0.287812</td>\n",
       "      <td>1.000000</td>\n",
       "      <td>-0.114341</td>\n",
       "      <td>0.124837</td>\n",
       "      <td>-0.124441</td>\n",
       "    </tr>\n",
       "    <tr>\n",
       "      <th>Init_Win_bytes_backward</th>\n",
       "      <td>0.092782</td>\n",
       "      <td>0.034583</td>\n",
       "      <td>-0.114341</td>\n",
       "      <td>1.000000</td>\n",
       "      <td>-0.026618</td>\n",
       "      <td>0.258545</td>\n",
       "    </tr>\n",
       "    <tr>\n",
       "      <th>min_seg_size_forward</th>\n",
       "      <td>-0.014838</td>\n",
       "      <td>-0.062896</td>\n",
       "      <td>0.124837</td>\n",
       "      <td>-0.026618</td>\n",
       "      <td>1.000000</td>\n",
       "      <td>0.114952</td>\n",
       "    </tr>\n",
       "    <tr>\n",
       "      <th>Label</th>\n",
       "      <td>-0.045503</td>\n",
       "      <td>-0.032914</td>\n",
       "      <td>-0.124441</td>\n",
       "      <td>0.258545</td>\n",
       "      <td>0.114952</td>\n",
       "      <td>1.000000</td>\n",
       "    </tr>\n",
       "  </tbody>\n",
       "</table>\n",
       "</div>"
      ],
      "text/plain": [
       "                           Source Port   Destination Port   Down/Up Ratio  \\\n",
       " Source Port                  1.000000          -0.316274       -0.187558   \n",
       " Destination Port            -0.316274           1.000000       -0.287812   \n",
       " Down/Up Ratio               -0.187558          -0.287812        1.000000   \n",
       " Init_Win_bytes_backward      0.092782           0.034583       -0.114341   \n",
       " min_seg_size_forward        -0.014838          -0.062896        0.124837   \n",
       " Label                       -0.045503          -0.032914       -0.124441   \n",
       "\n",
       "                           Init_Win_bytes_backward   min_seg_size_forward  \\\n",
       " Source Port                              0.092782              -0.014838   \n",
       " Destination Port                         0.034583              -0.062896   \n",
       " Down/Up Ratio                           -0.114341               0.124837   \n",
       " Init_Win_bytes_backward                  1.000000              -0.026618   \n",
       " min_seg_size_forward                    -0.026618               1.000000   \n",
       " Label                                    0.258545               0.114952   \n",
       "\n",
       "                             Label  \n",
       " Source Port             -0.045503  \n",
       " Destination Port        -0.032914  \n",
       " Down/Up Ratio           -0.124441  \n",
       " Init_Win_bytes_backward  0.258545  \n",
       " min_seg_size_forward     0.114952  \n",
       " Label                    1.000000  "
      ]
     },
     "execution_count": 11,
     "metadata": {},
     "output_type": "execute_result"
    }
   ],
   "source": [
    "Dataset1.corr()"
   ]
  },
  {
   "cell_type": "code",
   "execution_count": 12,
   "metadata": {},
   "outputs": [
    {
     "data": {
      "text/html": [
       "<div>\n",
       "<style scoped>\n",
       "    .dataframe tbody tr th:only-of-type {\n",
       "        vertical-align: middle;\n",
       "    }\n",
       "\n",
       "    .dataframe tbody tr th {\n",
       "        vertical-align: top;\n",
       "    }\n",
       "\n",
       "    .dataframe thead th {\n",
       "        text-align: right;\n",
       "    }\n",
       "</style>\n",
       "<table border=\"1\" class=\"dataframe\">\n",
       "  <thead>\n",
       "    <tr style=\"text-align: right;\">\n",
       "      <th></th>\n",
       "      <th>Source Port</th>\n",
       "      <th>Destination Port</th>\n",
       "      <th>Down/Up Ratio</th>\n",
       "      <th>Init_Win_bytes_backward</th>\n",
       "      <th>min_seg_size_forward</th>\n",
       "      <th>Label</th>\n",
       "    </tr>\n",
       "  </thead>\n",
       "  <tbody>\n",
       "    <tr>\n",
       "      <th>0</th>\n",
       "      <td>-10.0</td>\n",
       "      <td>-10.0</td>\n",
       "      <td>0.0</td>\n",
       "      <td>2079.0</td>\n",
       "      <td>32.0</td>\n",
       "      <td>0.0</td>\n",
       "    </tr>\n",
       "    <tr>\n",
       "      <th>1</th>\n",
       "      <td>-10.0</td>\n",
       "      <td>-10.0</td>\n",
       "      <td>0.0</td>\n",
       "      <td>2081.0</td>\n",
       "      <td>32.0</td>\n",
       "      <td>0.0</td>\n",
       "    </tr>\n",
       "    <tr>\n",
       "      <th>2</th>\n",
       "      <td>-10.0</td>\n",
       "      <td>-10.0</td>\n",
       "      <td>0.0</td>\n",
       "      <td>-1.0</td>\n",
       "      <td>0.0</td>\n",
       "      <td>0.0</td>\n",
       "    </tr>\n",
       "    <tr>\n",
       "      <th>3</th>\n",
       "      <td>-10.0</td>\n",
       "      <td>443.0</td>\n",
       "      <td>0.0</td>\n",
       "      <td>513.0</td>\n",
       "      <td>20.0</td>\n",
       "      <td>0.0</td>\n",
       "    </tr>\n",
       "    <tr>\n",
       "      <th>4</th>\n",
       "      <td>-10.0</td>\n",
       "      <td>53.0</td>\n",
       "      <td>1.0</td>\n",
       "      <td>-1.0</td>\n",
       "      <td>32.0</td>\n",
       "      <td>0.0</td>\n",
       "    </tr>\n",
       "  </tbody>\n",
       "</table>\n",
       "</div>"
      ],
      "text/plain": [
       "    Source Port   Destination Port   Down/Up Ratio   Init_Win_bytes_backward  \\\n",
       "0         -10.0              -10.0             0.0                    2079.0   \n",
       "1         -10.0              -10.0             0.0                    2081.0   \n",
       "2         -10.0              -10.0             0.0                      -1.0   \n",
       "3         -10.0              443.0             0.0                     513.0   \n",
       "4         -10.0               53.0             1.0                      -1.0   \n",
       "\n",
       "    min_seg_size_forward   Label  \n",
       "0                   32.0     0.0  \n",
       "1                   32.0     0.0  \n",
       "2                    0.0     0.0  \n",
       "3                   20.0     0.0  \n",
       "4                   32.0     0.0  "
      ]
     },
     "execution_count": 12,
     "metadata": {},
     "output_type": "execute_result"
    }
   ],
   "source": [
    "Dataset1.head()"
   ]
  },
  {
   "cell_type": "code",
   "execution_count": 13,
   "metadata": {},
   "outputs": [],
   "source": [
    "Dataset1= Dataset1.dropna(axis=0)"
   ]
  },
  {
   "cell_type": "code",
   "execution_count": 14,
   "metadata": {},
   "outputs": [
    {
     "name": "stdout",
     "output_type": "stream",
     "text": [
      "<class 'pandas.core.frame.DataFrame'>\n",
      "Int64Index: 170366 entries, 0 to 170365\n",
      "Data columns (total 6 columns):\n",
      " Source Port                170366 non-null float64\n",
      " Destination Port           170366 non-null float64\n",
      " Down/Up Ratio              170366 non-null float64\n",
      " Init_Win_bytes_backward    170366 non-null float64\n",
      " min_seg_size_forward       170366 non-null float64\n",
      " Label                      170366 non-null float64\n",
      "dtypes: float64(6)\n",
      "memory usage: 9.1 MB\n"
     ]
    }
   ],
   "source": [
    "Dataset1.info()"
   ]
  },
  {
   "cell_type": "code",
   "execution_count": 15,
   "metadata": {},
   "outputs": [
    {
     "name": "stderr",
     "output_type": "stream",
     "text": [
      "C:\\Users\\physi\\Anaconda4\\lib\\site-packages\\pandas\\plotting\\_tools.py:307: MatplotlibDeprecationWarning: \n",
      "The rowNum attribute was deprecated in Matplotlib 3.2 and will be removed two minor releases later. Use ax.get_subplotspec().rowspan.start instead.\n",
      "  layout[ax.rowNum, ax.colNum] = ax.get_visible()\n",
      "C:\\Users\\physi\\Anaconda4\\lib\\site-packages\\pandas\\plotting\\_tools.py:307: MatplotlibDeprecationWarning: \n",
      "The colNum attribute was deprecated in Matplotlib 3.2 and will be removed two minor releases later. Use ax.get_subplotspec().colspan.start instead.\n",
      "  layout[ax.rowNum, ax.colNum] = ax.get_visible()\n",
      "C:\\Users\\physi\\Anaconda4\\lib\\site-packages\\pandas\\plotting\\_tools.py:313: MatplotlibDeprecationWarning: \n",
      "The rowNum attribute was deprecated in Matplotlib 3.2 and will be removed two minor releases later. Use ax.get_subplotspec().rowspan.start instead.\n",
      "  if not layout[ax.rowNum + 1, ax.colNum]:\n",
      "C:\\Users\\physi\\Anaconda4\\lib\\site-packages\\pandas\\plotting\\_tools.py:313: MatplotlibDeprecationWarning: \n",
      "The colNum attribute was deprecated in Matplotlib 3.2 and will be removed two minor releases later. Use ax.get_subplotspec().colspan.start instead.\n",
      "  if not layout[ax.rowNum + 1, ax.colNum]:\n"
     ]
    },
    {
     "data": {
      "text/plain": [
       "array([[<matplotlib.axes._subplots.AxesSubplot object at 0x00000287B1EDF128>,\n",
       "        <matplotlib.axes._subplots.AxesSubplot object at 0x00000287B104DEB8>,\n",
       "        <matplotlib.axes._subplots.AxesSubplot object at 0x00000287B1CBF080>],\n",
       "       [<matplotlib.axes._subplots.AxesSubplot object at 0x00000287B1CD92E8>,\n",
       "        <matplotlib.axes._subplots.AxesSubplot object at 0x00000287B13AB550>,\n",
       "        <matplotlib.axes._subplots.AxesSubplot object at 0x00000287AC20F7B8>],\n",
       "       [<matplotlib.axes._subplots.AxesSubplot object at 0x00000287AACF8A20>,\n",
       "        <matplotlib.axes._subplots.AxesSubplot object at 0x00000287AAD26C50>,\n",
       "        <matplotlib.axes._subplots.AxesSubplot object at 0x00000287AAD26CC0>]],\n",
       "      dtype=object)"
      ]
     },
     "execution_count": 15,
     "metadata": {},
     "output_type": "execute_result"
    },
    {
     "data": {
      "image/png": "[encoded data removed]",
      "text/plain": [
       "<Figure size 720x720 with 9 Axes>"
      ]
     },
     "metadata": {
      "needs_background": "light"
     },
     "output_type": "display_data"
    }
   ],
   "source": [
    "Dataset1.hist(layout=(3,3), figsize=(10,10))"
   ]
  },
  {
   "cell_type": "markdown",
   "metadata": {},
   "source": [
    "# Problem 7   \n",
    "**[10 pts] Attempt a few classifier models and report their 10-fold CV performance.**  "
   ]
  },
  {
   "cell_type": "code",
   "execution_count": 58,
   "metadata": {},
   "outputs": [],
   "source": [
    "from sklearn.metrics import confusion_matrix\n",
    "from sklearn.model_selection import train_test_split\n",
    "from sklearn.preprocessing import StandardScaler\n",
    "from sklearn.pipeline import make_pipeline\n",
    "from sklearn.ensemble import RandomForestClassifier\n",
    "from sklearn.svm import LinearSVC\n",
    "from sklearn.neural_network import MLPClassifier\n",
    "from sklearn.linear_model import LogisticRegression\n",
    "from sklearn.model_selection import cross_val_score\n",
    "from sklearn.metrics import f1_score"
   ]
  },
  {
   "cell_type": "code",
   "execution_count": 17,
   "metadata": {},
   "outputs": [
    {
     "data": {
      "text/plain": [
       "array([0.98017224, 0.97890701, 0.98011347, 0.97987829, 0.97996649,\n",
       "       0.98028978, 0.97993592, 0.97975948, 0.97996532, 0.97996532])"
      ]
     },
     "execution_count": 17,
     "metadata": {},
     "output_type": "execute_result"
    }
   ],
   "source": [
    "#logistic regression \n",
    "scaler1 = StandardScaler()\n",
    "LR =LogisticRegression(solver='lbfgs')\n",
    "f1scores_LG = cross_val_score(LR, scaler1.fit_transform(Dataset1.iloc[:,[0,1,2,3,4]],Dataset1.iloc[:,5]),Dataset1.iloc[:,5], cv=10, scoring='f1_weighted')\n",
    "f1scores_LG"
   ]
  },
  {
   "cell_type": "code",
   "execution_count": 18,
   "metadata": {},
   "outputs": [
    {
     "data": {
      "text/plain": [
       "array([0.9972506 , 0.99710449, 0.99655762, 0.99620375, 0.9956353 ,\n",
       "       0.99825861, 0.99520779, 0.9977219 , 0.99592264, 0.99561915])"
      ]
     },
     "execution_count": 18,
     "metadata": {},
     "output_type": "execute_result"
    }
   ],
   "source": [
    "# random forest\n",
    "RF= RandomForestClassifier(20)\n",
    "f1scores_RF = cross_val_score(RF, scaler1.fit_transform(Dataset1.iloc[:,[0,1,2,3,4]],Dataset1.iloc[:,5]),Dataset1.iloc[:,5], cv=10, scoring='f1_weighted')\n",
    "f1scores_RF"
   ]
  },
  {
   "cell_type": "code",
   "execution_count": 19,
   "metadata": {},
   "outputs": [
    {
     "name": "stderr",
     "output_type": "stream",
     "text": [
      "C:\\Users\\physi\\Anaconda4\\lib\\site-packages\\sklearn\\metrics\\classification.py:1437: UndefinedMetricWarning: F-score is ill-defined and being set to 0.0 in labels with no predicted samples.\n",
      "  'precision', 'predicted', average, warn_for)\n"
     ]
    },
    {
     "data": {
      "text/plain": [
       "array([0.99541078, 0.99509167, 0.99379799, 0.99420608, 0.99392564,\n",
       "       0.99615428, 0.99216541, 0.99736931, 0.99500879, 0.98084655])"
      ]
     },
     "execution_count": 19,
     "metadata": {},
     "output_type": "execute_result"
    }
   ],
   "source": [
    "#multi layer perceptron \n",
    "MLP= MLPClassifier(3)\n",
    "f1scores_MLP = cross_val_score(MLP, scaler1.fit_transform(Dataset1.iloc[:,[0,1,2,3,4]],Dataset1.iloc[:,5]),Dataset1.iloc[:,5], cv=10, scoring='f1_weighted')\n",
    "f1scores_MLP"
   ]
  },
  {
   "cell_type": "markdown",
   "metadata": {},
   "source": [
    "# Problem 8 \n",
    "**[10 pts] Convert your code to be used for the remaining 7 datasets, i.e. Datasets 2-8.** \n"
   ]
  },
  {
   "cell_type": "code",
   "execution_count": 20,
   "metadata": {},
   "outputs": [],
   "source": [
    "dataset2= pd.read_csv(\"C:/Users/physi/Desktop/AppliedMachineLearning_EN.705.601/Mod10/GeneratedLabelledFlows/Thursday-WorkingHours-Afternoon-Infilteration.pcap_ISCX.csv\",encoding='cp1252',low_memory=False )\n",
    "dataset3= pd.read_csv(\"C:/Users/physi/Desktop/AppliedMachineLearning_EN.705.601/Mod10/GeneratedLabelledFlows/Tuesday-WorkingHours.pcap_ISCX.csv\",encoding='cp1252',low_memory=False )\n",
    "dataset4= pd.read_csv(\"C:/Users/physi/Desktop/AppliedMachineLearning_EN.705.601/Mod10/GeneratedLabelledFlows/Wednesday-workingHours.pcap_ISCX.csv\",encoding='cp1252',low_memory=False )\n",
    "dataset5= pd.read_csv(\"C:/Users/physi/Desktop/AppliedMachineLearning_EN.705.601/Mod10/GeneratedLabelledFlows/Friday-WorkingHours-Morning.pcap_ISCX.csv\",encoding='cp1252',low_memory=False )\n",
    "dataset6= pd.read_csv(\"C:/Users/physi/Desktop/AppliedMachineLearning_EN.705.601/Mod10/GeneratedLabelledFlows/Friday-WorkingHours-Afternoon-PortScan.pcap_ISCX.csv\",encoding='cp1252',low_memory=False )\n",
    "dataset7= pd.read_csv(\"C:/Users/physi/Desktop/AppliedMachineLearning_EN.705.601/Mod10/GeneratedLabelledFlows/Friday-WorkingHours-Afternoon-DDos.pcap_ISCX.csv\",encoding='cp1252',low_memory=False )\n",
    "dataset8= pd.read_csv(\"C:/Users/physi/Desktop/AppliedMachineLearning_EN.705.601/Mod10/GeneratedLabelledFlows/Monday-WorkingHours.pcap_ISCX.csv\",encoding='cp1252',low_memory=False )"
   ]
  },
  {
   "cell_type": "code",
   "execution_count": 21,
   "metadata": {},
   "outputs": [],
   "source": [
    "#choose features based on correlation\n",
    "\n",
    "dataset2= dataset2.drop(dataset2.columns.difference([' act_data_pkt_fwd',' Subflow Fwd Bytes','Total Length of Fwd Packets','Subflow Fwd Packets',' Total Fwd Packets', ' Label']), 1)\n",
    "\n",
    "dataset3= dataset3.drop(dataset3.columns.difference([' Protocol', ' Min Packet Length' , ' Bwd Packet Length Min' ,  ' PSH Flag Count' ,  ' SYN Flag Count' , 'Fwd PSH Flags', ' Label']), 1)\n",
    "\n",
    "dataset4= dataset4.drop(dataset4.columns.difference([' Protocol' , ' Bwd Packet Length Min' , ' Min Packet Length' ,' Destination Port' , ' Down/Up Ratio' , ' URG Flag Count' , ' Bwd Packet Length Mean' , ' Avg Bwd Segment Size' , ' Bwd Packet Length Std' , 'Bwd Packet Length Max' , ' Idle Max', ' Label']), 1)\n",
    "\n",
    "dataset5= dataset5.drop(dataset5.columns.difference([' Protocol' , ' URG Flag Count' , ' PSH Flag Count', ' Label']), 1)\n",
    "\n",
    "dataset6= dataset6.drop(dataset6.columns.difference([' Protocol' , ' Min Packet Length' , ' Bwd Packet Length Min' , ' Average Packet Size' , ' PSH Flag Count' , ' min_seg_size_forward' , ' Down/Up Ratio' , 'Init_Win_bytes_forward', ' Label']), 1)\n",
    "\n",
    "dataset7= dataset7.drop(dataset7.columns.difference([' Destination Port' , ' Protocol' , ' URG Flag Count' , ' Min Packet Length' , ' min_seg_size_forward' , ' Bwd Packet Length Mean' , ' Avg Bwd Segment Size' , 'Bwd Packet Length Max' , ' Bwd Packet Length Std' , ' Packet Length Mean', ' Label']), 1)"
   ]
  },
  {
   "cell_type": "code",
   "execution_count": 22,
   "metadata": {},
   "outputs": [],
   "source": [
    "\n",
    "dataset8 =dataset8.drop(['Flow ID'], axis =1)\n",
    "dataset8 =dataset8.drop([' Source IP'], axis =1)\n",
    "dataset8 =dataset8.drop([' Destination IP'], axis =1) \n",
    "dataset8 =dataset8.drop([' Timestamp'], axis =1) \n",
    "dataset8 =dataset8.drop(['Flow Bytes/s'], axis =1) \n",
    "dataset8 =dataset8.drop([' Flow Packets/s'], axis =1)"
   ]
  },
  {
   "cell_type": "code",
   "execution_count": 23,
   "metadata": {},
   "outputs": [],
   "source": [
    "dataset2= dataset2.dropna(axis=0)\n",
    "dataset3= dataset3.dropna(axis=0)\n",
    "dataset4= dataset4.dropna(axis=0)\n",
    "dataset5= dataset5.dropna(axis=0)\n",
    "dataset6= dataset6.dropna(axis=0)\n",
    "dataset7= dataset7.dropna(axis=0)\n",
    "dataset8= dataset8.dropna(axis=0)"
   ]
  },
  {
   "cell_type": "code",
   "execution_count": 24,
   "metadata": {},
   "outputs": [],
   "source": [
    "\n",
    "\n",
    "# for col in dataset8.columns:\n",
    "#     if dataset8[col].dtype == np.object:\n",
    "#         print(col, dataset8[col].unique())"
   ]
  },
  {
   "cell_type": "raw",
   "metadata": {},
   "source": [
    "# unique values of of each dataset label feature\n",
    "\n",
    "\n",
    "ds2 Label ['BENIGN' 'Infiltration']\n",
    "ds3 Label ['BENIGN' 'FTP-Patator' 'SSH-Patator']\n",
    "ds4 Label ['BENIGN' 'DoS slowloris' 'DoS Slowhttptest' 'DoS Hulk' 'DoS GoldenEye'\n",
    " 'Heartbleed']\n",
    "ds5 Label ['BENIGN' 'Bot']\n",
    "ds6 Label ['BENIGN' 'PortScan']\n",
    "ds7 Label ['BENIGN' 'DDoS'] \n",
    "ds8 Label ['BENIGN']"
   ]
  },
  {
   "cell_type": "code",
   "execution_count": 25,
   "metadata": {},
   "outputs": [],
   "source": [
    "# map the labels feature for clasification\n",
    "\n",
    "attacks2 = {'BENIGN':0, 'Infiltration':1}\n",
    "attacks3 = {'BENIGN':0, 'FTP-Patator':1, 'SSH-Patator':1}\n",
    "attacks4 = {'BENIGN':0, 'DoS slowloris':1, 'DoS Slowhttptest':1, 'DoS Hulk':1, 'DoS GoldenEye':1,\n",
    " 'Heartbleed':1}\n",
    "attacks5 = {'BENIGN':0, 'Bot':1}\n",
    "attacks6 = {'BENIGN':0, 'PortScan':1}\n",
    "attacks7 = {'BENIGN':0, 'DDoS':1}\n",
    "attacks8 = {'BENIGN':0}\n",
    "dataset2[' Label'] = dataset2[' Label'].map(attacks2)\n",
    "dataset3[' Label'] = dataset3[' Label'].map(attacks3)\n",
    "dataset4[' Label'] = dataset4[' Label'].map(attacks4)\n",
    "dataset5[' Label'] = dataset5[' Label'].map(attacks5)\n",
    "dataset6[' Label'] = dataset6[' Label'].map(attacks6)\n",
    "dataset7[' Label'] = dataset7[' Label'].map(attacks7)\n",
    "dataset8[' Label'] = dataset8[' Label'].map(attacks8)"
   ]
  },
  {
   "cell_type": "code",
   "execution_count": 26,
   "metadata": {},
   "outputs": [],
   "source": [
    "#notes on features to be used\n",
    "\n",
    "# ' act_data_pkt_fwd' ' Subflow Fwd Bytes'' Total Length of Fwd Packets' ' Subflow Fwd Packets' ' Total Fwd Packets'\n",
    "# dataset2.corr().sort_values([' Label'])"
   ]
  },
  {
   "cell_type": "code",
   "execution_count": 28,
   "metadata": {},
   "outputs": [],
   "source": [
    "#notes on features to be used\n",
    "\n",
    "# Protocol, Min Packet Length , Bwd Packet Length Min ,  PSH Flag Count ,  SYN Flag Count , Fwd PSH Flags\n",
    "# dataset3.corr().sort_values([' Label'])"
   ]
  },
  {
   "cell_type": "code",
   "execution_count": 32,
   "metadata": {},
   "outputs": [],
   "source": [
    "#notes on features to be used\n",
    "\n",
    "# Protocol , Bwd Packet Length Min , Min Packet Length , Destination Port , Down/Up Ratio , URG Flag Count , Bwd Packet Length Mean , Avg Bwd Segment Size , Bwd Packet Length Std , Bwd Packet Length Max , Idle Max\n",
    "# dataset4.corr().sort_values([' Label'])"
   ]
  },
  {
   "cell_type": "code",
   "execution_count": 35,
   "metadata": {},
   "outputs": [],
   "source": [
    "#notes on features to be used\n",
    "\n",
    "# Protocol , URG Flag Count , PSH Flag Count\n",
    "# dataset5.corr().sort_values([' Label'])"
   ]
  },
  {
   "cell_type": "code",
   "execution_count": 38,
   "metadata": {},
   "outputs": [],
   "source": [
    "#notes on features to be used\n",
    "\n",
    "# Protocol , Min Packet Length , Bwd Packet Length Min , Average Packet Size , PSH Flag Count , min_seg_size_forward , Down/Up Ratio , Init_Win_bytes_forward\n",
    "# dataset6.corr().sort_values([' Label'])"
   ]
  },
  {
   "cell_type": "code",
   "execution_count": 41,
   "metadata": {},
   "outputs": [],
   "source": [
    "#notes on features to be used\n",
    "\n",
    "# Destination Port , Protocol , URG Flag Count , Min Packet Length , min_seg_size_forward , Bwd Packet Length Mean , Avg Bwd Segment Size , Bwd Packet Length Max , Bwd Packet Length Std , Packet Length Mean\n",
    "# dataset7.corr().sort_values([' Label'])"
   ]
  },
  {
   "cell_type": "code",
   "execution_count": 44,
   "metadata": {},
   "outputs": [],
   "source": [
    "# dataset8.corr().sort_values([' Label'])"
   ]
  },
  {
   "cell_type": "markdown",
   "metadata": {},
   "source": [
    "# Problem 9  \n",
    "**[10 pts] Pick a classifier and report it's evaluation for the remaining 7 datasets. Note that one dataset has a single class, which might need an unsupervised learning.**  "
   ]
  },
  {
   "cell_type": "code",
   "execution_count": 60,
   "metadata": {},
   "outputs": [
    {
     "data": {
      "text/plain": [
       "0.9999324342783787"
      ]
     },
     "execution_count": 60,
     "metadata": {},
     "output_type": "execute_result"
    }
   ],
   "source": [
    "# random forest for dataset2 #### for some reason my cross val wouln't run so I used test train split here\n",
    "scaler2 = StandardScaler()\n",
    "RF2= RandomForestClassifier(20)\n",
    "# f1scores_RF2 = cross_val_score(RF2, scaler2.fit_transform(dataset2.iloc[:,[0,1,2,3,4]],dataset2.iloc[:,5]),dataset2.iloc[:,5], cv=10, scoring='f1_weighted')\n",
    "# f1scores_RF2\n",
    "\n",
    "X_train, X_test, Y_train, Y_test = train_test_split(dataset2.iloc[:,[0,1,2,3,4]], dataset2.iloc[:,5], test_size=0.2, random_state=10)\n",
    "pipe_l2 = make_pipeline(StandardScaler(),\n",
    "                            RandomForestClassifier(20,\n",
    "                                                   random_state=10))\n",
    "pipe_l2.fit(X_train, Y_train)\n",
    "Y_pred2 = pipe_l2.predict(X_test)\n",
    "f1_score(Y_test, Y_pred2,average='weighted')"
   ]
  },
  {
   "cell_type": "code",
   "execution_count": 61,
   "metadata": {},
   "outputs": [
    {
     "name": "stderr",
     "output_type": "stream",
     "text": [
      "C:\\Users\\physi\\Anaconda4\\lib\\site-packages\\sklearn\\metrics\\classification.py:1437: UndefinedMetricWarning: F-score is ill-defined and being set to 0.0 in labels with no predicted samples.\n",
      "  'precision', 'predicted', average, warn_for)\n"
     ]
    },
    {
     "data": {
      "text/plain": [
       "0.9544703683562507"
      ]
     },
     "execution_count": 61,
     "metadata": {},
     "output_type": "execute_result"
    }
   ],
   "source": [
    "# random forest for dataset3 #### for some reason my cross val wouln't run so I used test train split here\n",
    "scaler3 = StandardScaler()\n",
    "RF3= RandomForestClassifier(20)\n",
    "# f1scores_RF3 = cross_val_score(RF3, scaler3.fit_transform(dataset3.iloc[:,[0,1,2,3,4,5]],dataset3.iloc[:,6]),dataset3.iloc[:,6], cv=10, scoring='f1_weighted')\n",
    "# f1scores_RF3\n",
    "\n",
    "X_train3, X_test3, Y_train3, Y_test3 = train_test_split(dataset3.iloc[:,[0,1,2,3,4,5]], dataset3.iloc[:,6], test_size=0.2, random_state=10)\n",
    "pipe_l3 = make_pipeline(StandardScaler(),\n",
    "                            RandomForestClassifier(20,\n",
    "                                                   random_state=10))\n",
    "pipe_l3.fit(X_train3, Y_train3)\n",
    "Y_pred3 = pipe_l3.predict(X_test3)\n",
    "f1_score(Y_test3, Y_pred3,average='weighted')"
   ]
  },
  {
   "cell_type": "code",
   "execution_count": 50,
   "metadata": {},
   "outputs": [
    {
     "data": {
      "text/plain": [
       "array([0.95336686, 0.96703057, 0.97689987, 0.97738506, 0.96741474,\n",
       "       0.9760152 , 0.9949402 , 0.9997113 , 0.99955248, 0.94809413])"
      ]
     },
     "execution_count": 50,
     "metadata": {},
     "output_type": "execute_result"
    }
   ],
   "source": [
    "# random forest for dataset4\n",
    "scaler4 = StandardScaler()\n",
    "RF4= RandomForestClassifier(20)\n",
    "f1scores_RF4 = cross_val_score(RF4, scaler4.fit_transform(dataset4.iloc[:,[0,1,2,3,4,5,6,7,8,9,10]],dataset4.iloc[:,11]),dataset4.iloc[:,11], cv=10, scoring='f1_weighted')\n",
    "f1scores_RF4"
   ]
  },
  {
   "cell_type": "code",
   "execution_count": 63,
   "metadata": {},
   "outputs": [
    {
     "name": "stderr",
     "output_type": "stream",
     "text": [
      "C:\\Users\\physi\\Anaconda4\\lib\\site-packages\\sklearn\\metrics\\classification.py:1437: UndefinedMetricWarning: F-score is ill-defined and being set to 0.0 in labels with no predicted samples.\n",
      "  'precision', 'predicted', average, warn_for)\n"
     ]
    },
    {
     "data": {
      "text/plain": [
       "0.9850278645867069"
      ]
     },
     "execution_count": 63,
     "metadata": {},
     "output_type": "execute_result"
    }
   ],
   "source": [
    "# random forest for dataset5 #### for some reason my cross val wouln't run so I used test train split here\n",
    "scaler5 = StandardScaler()\n",
    "RF5= RandomForestClassifier(20)\n",
    "# f1scores_RF5 = cross_val_score(RF5, scaler5.fit_transform(dataset5.iloc[:,[0,1,2]],dataset5.iloc[:,3]),dataset5.iloc[:,3], cv=10, scoring='f1_weighted')\n",
    "# f1scores_RF5\n",
    "\n",
    "X_train5, X_test5, Y_train5, Y_test5 = train_test_split(dataset5.iloc[:,[0,1,2]], dataset5.iloc[:,3], test_size=0.2, random_state=10)\n",
    "pipe_l5 = make_pipeline(StandardScaler(),\n",
    "                            RandomForestClassifier(20,\n",
    "                                                   random_state=10))\n",
    "pipe_l5.fit(X_train5, Y_train5)\n",
    "Y_pred5 = pipe_l5.predict(X_test5)\n",
    "f1_score(Y_test5, Y_pred5,average='weighted')\n"
   ]
  },
  {
   "cell_type": "code",
   "execution_count": 52,
   "metadata": {},
   "outputs": [
    {
     "data": {
      "text/plain": [
       "array([0.9970338 , 0.99975564, 0.99940653, 0.99909248, 0.9970686 ,\n",
       "       0.99609109, 0.99664968, 0.9971034 , 0.99776634, 0.99930182])"
      ]
     },
     "execution_count": 52,
     "metadata": {},
     "output_type": "execute_result"
    }
   ],
   "source": [
    "# random forest for dataset6\n",
    "scaler6 = StandardScaler()\n",
    "RF6= RandomForestClassifier(20)\n",
    "f1scores_RF6 = cross_val_score(RF6, scaler6.fit_transform(dataset6.iloc[:,[0,1,2,3,4,5,6,7]],dataset6.iloc[:,8]),dataset6.iloc[:,8], cv=10, scoring='f1_weighted')\n",
    "f1scores_RF6"
   ]
  },
  {
   "cell_type": "code",
   "execution_count": 53,
   "metadata": {},
   "outputs": [
    {
     "data": {
      "text/plain": [
       "array([0.99237265, 0.99476916, 0.998405  , 0.99929119, 0.97272574,\n",
       "       0.9976073 , 0.99525706, 0.99179519, 0.98788438, 0.98610899])"
      ]
     },
     "execution_count": 53,
     "metadata": {},
     "output_type": "execute_result"
    }
   ],
   "source": [
    "# random forest for dataset7\n",
    "scaler7 = StandardScaler()\n",
    "RF7= RandomForestClassifier(20)\n",
    "f1scores_RF7 = cross_val_score(RF7, scaler7.fit_transform(dataset7.iloc[:,[0,1,2,3,4,5,6,7,8,9]],dataset7.iloc[:,10]),dataset7.iloc[:,10], cv=10, scoring='f1_weighted')\n",
    "f1scores_RF7"
   ]
  },
  {
   "cell_type": "raw",
   "metadata": {},
   "source": [
    "#Problem 10 \n",
    "**[10 pts] Briefly write up your thoughts about developing a machine learning model where you are not a subject matter expert, such as, developing a cybersecurity intrusion detection pipeline as in this assignment.**  \n",
    "\n",
    "In this assignment I used the downloaded data and tried to find correlations between the independant variable and the various features. As a non-expert in cybersecurity my approach also involved searching the internet to find info related to the assignment that might help my to engineer better predictive features for the task of classification. Care must be taken to understand the raw data as delivered for the project. It would be best to consult with a cybersecurity expert about the features I am using and if they can detect the signature of an intrusion method. \n"
   ]
  }
 ],
 "metadata": {
  "kernelspec": {
   "display_name": "Python 3",
   "language": "python",
   "name": "python3"
  },
  "language_info": {
   "codemirror_mode": {
    "name": "ipython",
    "version": 3
   },
   "file_extension": ".py",
   "mimetype": "text/x-python",
   "name": "python",
   "nbconvert_exporter": "python",
   "pygments_lexer": "ipython3",
   "version": "3.7.1"
  }
 },
 "nbformat": 4,
 "nbformat_minor": 2
}
