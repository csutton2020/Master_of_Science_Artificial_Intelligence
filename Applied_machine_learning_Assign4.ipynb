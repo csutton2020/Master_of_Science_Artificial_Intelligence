{
 "cells": [
  {
   "cell_type": "markdown",
   "metadata": {},
   "source": [
    "Christian Sutton  \n",
    "Module 4   \n",
    "9/27/20   \n",
    "  "
   ]
  },
  {
   "cell_type": "markdown",
   "metadata": {},
   "source": [
    "# Problem 1\n",
    "**[70 pts] By using at least 4 classifiers and 5 different hyper-parameter settings for each, generate operating points and plot them on ROC. Do not hesitate to use/modify the ROC plot code in the module notebook. In case you do not see enough variety in Pd-Pf you might need to work on the classifiers set and/or hyper parameters. And do not hesitate to try hundreds if necessary, since the ROC is just a natural scatter plot. (Recommend linear SVM, RBF SVM, logistic regression, random forest, etc.)**  "
   ]
  },
  {
   "cell_type": "code",
   "execution_count": 1,
   "metadata": {},
   "outputs": [],
   "source": [
    "import pandas as pd\n",
    "import numpy as np\n",
    "from sklearn.preprocessing import OneHotEncoder\n",
    "from sklearn.metrics import confusion_matrix\n",
    "from sklearn.model_selection import train_test_split\n",
    "from sklearn.preprocessing import StandardScaler\n",
    "from sklearn.pipeline import make_pipeline\n",
    "from sklearn.ensemble import RandomForestClassifier\n",
    "from sklearn.svm import LinearSVC\n",
    "from sklearn.neural_network import MLPClassifier\n",
    "from sklearn.linear_model import LogisticRegression\n",
    "import seaborn as sns; sns.set(style=\"ticks\", color_codes=True)\n",
    "import matplotlib.pyplot as plt\n",
    "Mdata = pd.read_csv(\"C:/Users/physi/Desktop/AppliedMachineLearning_EN.705.601/mod4/assignment04_mushroom_dataset.csv\")"
   ]
  },
  {
   "cell_type": "code",
   "execution_count": 2,
   "metadata": {},
   "outputs": [
    {
     "data": {
      "text/html": [
       "<div>\n",
       "<style scoped>\n",
       "    .dataframe tbody tr th:only-of-type {\n",
       "        vertical-align: middle;\n",
       "    }\n",
       "\n",
       "    .dataframe tbody tr th {\n",
       "        vertical-align: top;\n",
       "    }\n",
       "\n",
       "    .dataframe thead th {\n",
       "        text-align: right;\n",
       "    }\n",
       "</style>\n",
       "<table border=\"1\" class=\"dataframe\">\n",
       "  <thead>\n",
       "    <tr style=\"text-align: right;\">\n",
       "      <th></th>\n",
       "      <th>class</th>\n",
       "      <th>cap-shape</th>\n",
       "      <th>cap-surface</th>\n",
       "      <th>cap-color</th>\n",
       "      <th>bruises</th>\n",
       "      <th>odor</th>\n",
       "      <th>gill-attachment</th>\n",
       "      <th>gill-spacing</th>\n",
       "      <th>gill-size</th>\n",
       "      <th>gill-color</th>\n",
       "      <th>...</th>\n",
       "      <th>stalk-surface-below-ring</th>\n",
       "      <th>stalk-color-above-ring</th>\n",
       "      <th>stalk-color-below-ring</th>\n",
       "      <th>veil-type</th>\n",
       "      <th>veil-color</th>\n",
       "      <th>ring-number</th>\n",
       "      <th>ring-type</th>\n",
       "      <th>spore-print-color</th>\n",
       "      <th>population</th>\n",
       "      <th>habitat</th>\n",
       "    </tr>\n",
       "  </thead>\n",
       "  <tbody>\n",
       "    <tr>\n",
       "      <th>0</th>\n",
       "      <td>p</td>\n",
       "      <td>x</td>\n",
       "      <td>s</td>\n",
       "      <td>n</td>\n",
       "      <td>t</td>\n",
       "      <td>p</td>\n",
       "      <td>f</td>\n",
       "      <td>c</td>\n",
       "      <td>n</td>\n",
       "      <td>k</td>\n",
       "      <td>...</td>\n",
       "      <td>s</td>\n",
       "      <td>w</td>\n",
       "      <td>w</td>\n",
       "      <td>p</td>\n",
       "      <td>w</td>\n",
       "      <td>o</td>\n",
       "      <td>p</td>\n",
       "      <td>k</td>\n",
       "      <td>s</td>\n",
       "      <td>u</td>\n",
       "    </tr>\n",
       "    <tr>\n",
       "      <th>1</th>\n",
       "      <td>e</td>\n",
       "      <td>x</td>\n",
       "      <td>s</td>\n",
       "      <td>y</td>\n",
       "      <td>t</td>\n",
       "      <td>a</td>\n",
       "      <td>f</td>\n",
       "      <td>c</td>\n",
       "      <td>b</td>\n",
       "      <td>k</td>\n",
       "      <td>...</td>\n",
       "      <td>s</td>\n",
       "      <td>w</td>\n",
       "      <td>w</td>\n",
       "      <td>p</td>\n",
       "      <td>w</td>\n",
       "      <td>o</td>\n",
       "      <td>p</td>\n",
       "      <td>n</td>\n",
       "      <td>n</td>\n",
       "      <td>g</td>\n",
       "    </tr>\n",
       "    <tr>\n",
       "      <th>2</th>\n",
       "      <td>e</td>\n",
       "      <td>b</td>\n",
       "      <td>s</td>\n",
       "      <td>w</td>\n",
       "      <td>t</td>\n",
       "      <td>l</td>\n",
       "      <td>f</td>\n",
       "      <td>c</td>\n",
       "      <td>b</td>\n",
       "      <td>n</td>\n",
       "      <td>...</td>\n",
       "      <td>s</td>\n",
       "      <td>w</td>\n",
       "      <td>w</td>\n",
       "      <td>p</td>\n",
       "      <td>w</td>\n",
       "      <td>o</td>\n",
       "      <td>p</td>\n",
       "      <td>n</td>\n",
       "      <td>n</td>\n",
       "      <td>m</td>\n",
       "    </tr>\n",
       "    <tr>\n",
       "      <th>3</th>\n",
       "      <td>p</td>\n",
       "      <td>x</td>\n",
       "      <td>y</td>\n",
       "      <td>w</td>\n",
       "      <td>t</td>\n",
       "      <td>p</td>\n",
       "      <td>f</td>\n",
       "      <td>c</td>\n",
       "      <td>n</td>\n",
       "      <td>n</td>\n",
       "      <td>...</td>\n",
       "      <td>s</td>\n",
       "      <td>w</td>\n",
       "      <td>w</td>\n",
       "      <td>p</td>\n",
       "      <td>w</td>\n",
       "      <td>o</td>\n",
       "      <td>p</td>\n",
       "      <td>k</td>\n",
       "      <td>s</td>\n",
       "      <td>u</td>\n",
       "    </tr>\n",
       "    <tr>\n",
       "      <th>4</th>\n",
       "      <td>e</td>\n",
       "      <td>x</td>\n",
       "      <td>s</td>\n",
       "      <td>g</td>\n",
       "      <td>f</td>\n",
       "      <td>n</td>\n",
       "      <td>f</td>\n",
       "      <td>w</td>\n",
       "      <td>b</td>\n",
       "      <td>k</td>\n",
       "      <td>...</td>\n",
       "      <td>s</td>\n",
       "      <td>w</td>\n",
       "      <td>w</td>\n",
       "      <td>p</td>\n",
       "      <td>w</td>\n",
       "      <td>o</td>\n",
       "      <td>e</td>\n",
       "      <td>n</td>\n",
       "      <td>a</td>\n",
       "      <td>g</td>\n",
       "    </tr>\n",
       "  </tbody>\n",
       "</table>\n",
       "<p>5 rows × 23 columns</p>\n",
       "</div>"
      ],
      "text/plain": [
       "  class cap-shape cap-surface cap-color bruises odor gill-attachment  \\\n",
       "0     p         x           s         n       t    p               f   \n",
       "1     e         x           s         y       t    a               f   \n",
       "2     e         b           s         w       t    l               f   \n",
       "3     p         x           y         w       t    p               f   \n",
       "4     e         x           s         g       f    n               f   \n",
       "\n",
       "  gill-spacing gill-size gill-color  ... stalk-surface-below-ring  \\\n",
       "0            c         n          k  ...                        s   \n",
       "1            c         b          k  ...                        s   \n",
       "2            c         b          n  ...                        s   \n",
       "3            c         n          n  ...                        s   \n",
       "4            w         b          k  ...                        s   \n",
       "\n",
       "  stalk-color-above-ring stalk-color-below-ring veil-type veil-color  \\\n",
       "0                      w                      w         p          w   \n",
       "1                      w                      w         p          w   \n",
       "2                      w                      w         p          w   \n",
       "3                      w                      w         p          w   \n",
       "4                      w                      w         p          w   \n",
       "\n",
       "  ring-number ring-type spore-print-color population habitat      \n",
       "0           o         p                 k          s           u  \n",
       "1           o         p                 n          n           g  \n",
       "2           o         p                 n          n           m  \n",
       "3           o         p                 k          s           u  \n",
       "4           o         e                 n          a           g  \n",
       "\n",
       "[5 rows x 23 columns]"
      ]
     },
     "execution_count": 2,
     "metadata": {},
     "output_type": "execute_result"
    }
   ],
   "source": [
    "Mdata.head()\n"
   ]
  },
  {
   "cell_type": "code",
   "execution_count": 3,
   "metadata": {},
   "outputs": [
    {
     "name": "stdout",
     "output_type": "stream",
     "text": [
      "<class 'pandas.core.frame.DataFrame'>\n",
      "RangeIndex: 8124 entries, 0 to 8123\n",
      "Data columns (total 23 columns):\n",
      "class                       8124 non-null object\n",
      "cap-shape                   8124 non-null object\n",
      "cap-surface                 8124 non-null object\n",
      "cap-color                   8124 non-null object\n",
      "bruises                     8124 non-null object\n",
      "odor                        8124 non-null object\n",
      "gill-attachment             8124 non-null object\n",
      "gill-spacing                8124 non-null object\n",
      "gill-size                   8124 non-null object\n",
      "gill-color                  8124 non-null object\n",
      "stalk-shape                 8124 non-null object\n",
      "stalk-root                  8124 non-null object\n",
      "stalk-surface-above-ring    8124 non-null object\n",
      "stalk-surface-below-ring    8124 non-null object\n",
      "stalk-color-above-ring      8124 non-null object\n",
      "stalk-color-below-ring      8124 non-null object\n",
      "veil-type                   8124 non-null object\n",
      "veil-color                  8124 non-null object\n",
      "ring-number                 8124 non-null object\n",
      "ring-type                   8124 non-null object\n",
      "spore-print-color           8124 non-null object\n",
      "population                  8124 non-null object\n",
      "habitat                     8124 non-null object\n",
      "dtypes: object(23)\n",
      "memory usage: 1.4+ MB\n"
     ]
    }
   ],
   "source": [
    "#checking info of features\n",
    "Mdata.info()"
   ]
  },
  {
   "cell_type": "code",
   "execution_count": 4,
   "metadata": {},
   "outputs": [
    {
     "name": "stdout",
     "output_type": "stream",
     "text": [
      "class ['p' 'e']\n",
      "cap-shape ['x' 'b' 's' 'f' 'k' 'c']\n",
      "cap-surface ['s' 'y' 'f' 'g']\n",
      "cap-color ['n' 'y' 'w' 'g' 'e' 'p' 'b' 'u' 'c' 'r']\n",
      "bruises ['t' 'f']\n",
      "odor ['p' 'a' 'l' 'n' 'f' 'c' 'y' 's' 'm']\n",
      "gill-attachment ['f' 'a']\n",
      "gill-spacing ['c' 'w']\n",
      "gill-size ['n' 'b']\n",
      "gill-color ['k' 'n' 'g' 'p' 'w' 'h' 'u' 'e' 'b' 'r' 'y' 'o']\n",
      "stalk-shape ['e' 't']\n",
      "stalk-root ['e' 'c' 'b' 'r' '?']\n",
      "stalk-surface-above-ring ['s' 'f' 'k' 'y']\n",
      "stalk-surface-below-ring ['s' 'f' 'y' 'k']\n",
      "stalk-color-above-ring ['w' 'g' 'p' 'n' 'b' 'e' 'o' 'c' 'y']\n",
      "stalk-color-below-ring ['w' 'p' 'g' 'b' 'n' 'e' 'y' 'o' 'c']\n",
      "veil-type ['p']\n",
      "veil-color ['w' 'n' 'o' 'y']\n",
      "ring-number ['o' 't' 'n']\n",
      "ring-type ['p' 'e' 'l' 'f' 'n']\n",
      "spore-print-color ['k' 'n' 'u' 'h' 'w' 'r' 'o' 'y' 'b']\n",
      "population ['s' 'n' 'a' 'v' 'y' 'c']\n",
      "habitat     ['u' 'g' 'm' 'd' 'p' 'w' 'l']\n"
     ]
    }
   ],
   "source": [
    "#Checking Unique values\n",
    "for col in Mdata.columns:\n",
    "    if Mdata[col].dtype == np.object:\n",
    "        print(col, Mdata[col].unique())"
   ]
  },
  {
   "cell_type": "code",
   "execution_count": 5,
   "metadata": {},
   "outputs": [
    {
     "name": "stdout",
     "output_type": "stream",
     "text": [
      "2480\n"
     ]
    }
   ],
   "source": [
    "# how many \"?\" in stalk-root\n",
    "count = 0\n",
    "for i in range(0,8124):\n",
    "    if(Mdata.iloc[i,11]== \"?\"):\n",
    "        count+=1\n",
    "print(count)"
   ]
  },
  {
   "cell_type": "code",
   "execution_count": 6,
   "metadata": {},
   "outputs": [],
   "source": [
    "# drop stalk-root split data into X,Y too many missing values\n",
    "Mdata = Mdata.drop([\"stalk-root\"], axis =1)\n",
    "\n",
    "#OneHotEncode all category features \n",
    "Mdata1 =pd.get_dummies(Mdata)"
   ]
  },
  {
   "cell_type": "code",
   "execution_count": 7,
   "metadata": {},
   "outputs": [],
   "source": [
    "# clean data of redundant features from oneHotEncoding\n",
    "\n",
    "#list(Mdata1.columns)\n",
    "Mdata1=Mdata1.drop([\"class_e\",\"cap-shape_b\",\"cap-surface_s\",\"cap-color_n\",\"bruises_f\",\"odor_p\",\"gill-attachment_f\",\"gill-spacing_c\",\\\n",
    "                  \"gill-size_n\",\"gill-color_k\",\"stalk-shape_e\",\"stalk-surface-above-ring_s\",\"stalk-surface-below-ring_s\",\"stalk-color-above-ring_w\",\\\n",
    "                  \"stalk-color-below-ring_w\",\"veil-color_w\",\"ring-number_o\",\"ring-type_p\",\"spore-print-color_k\",\"population_s\",\"habitat    _u\"],axis =1)"
   ]
  },
  {
   "cell_type": "code",
   "execution_count": 8,
   "metadata": {},
   "outputs": [],
   "source": [
    "# split data target, train \n",
    "Y, X = Mdata1.iloc[:,0], Mdata1.iloc[:,1:]"
   ]
  },
  {
   "cell_type": "code",
   "execution_count": 9,
   "metadata": {},
   "outputs": [],
   "source": [
    "# Training and testing datasets\n",
    "#### NOTE WHAT FOLLOWS IS BASED ON 98.8% TEST SIZE, this was done for better graphing and more ROC points that vary\n",
    "X_train, X_test, y_train, y_test = train_test_split(X, Y, test_size=0.998, random_state=10)"
   ]
  },
  {
   "cell_type": "code",
   "execution_count": 10,
   "metadata": {},
   "outputs": [],
   "source": [
    "# Parameter to vary for classifers\n",
    "A = (2e-1, 0.5, 0.8, 1, 2, 5, 1e1, 5e1, 1e2)\n",
    "B = (1, 3, 8, 15, 20, 50, 1e2, 5e2, 1e3)\n",
    "C = (1, 3, 8, 15, 20, 50, 1e2, 5e2, 1e3)\n",
    "D = (1e-3,1e-2, 1e-1, 1e0, 2, 5, 1e1, 5e1, 1e2)\n",
    "\n",
    "\n",
    "FPR1, TPR1,FPR2, TPR2,FPR3, TPR3,FPR4, TPR4 = [],[],[],[],[],[],[],[]\n",
    "\n"
   ]
  },
  {
   "cell_type": "code",
   "execution_count": 11,
   "metadata": {},
   "outputs": [
    {
     "name": "stdout",
     "output_type": "stream",
     "text": [
      "Logistic Regression\n",
      "Test Accuracy= 0.604, A=      0.20000, TPR1 0.984, FPR1 0.750\n",
      "Test Accuracy= 0.911, A=      0.50000, TPR1 0.908, FPR1 0.086\n",
      "Test Accuracy= 0.911, A=      0.80000, TPR1 0.908, FPR1 0.086\n",
      "Test Accuracy= 0.907, A=      1.00000, TPR1 0.899, FPR1 0.086\n",
      "Test Accuracy= 0.916, A=      2.00000, TPR1 0.899, FPR1 0.069\n",
      "Test Accuracy= 0.916, A=      5.00000, TPR1 0.899, FPR1 0.069\n",
      "Test Accuracy= 0.916, A=     10.00000, TPR1 0.899, FPR1 0.069\n",
      "Test Accuracy= 0.962, A=     50.00000, TPR1 0.982, FPR1 0.057\n",
      "Test Accuracy= 0.962, A=    100.00000, TPR1 0.982, FPR1 0.057\n",
      "\n",
      "RandomForest\n",
      "Test Accuracy= 0.778, B=      1.00000, TPR2 0.868, FPR2 0.307\n",
      "Test Accuracy= 0.922, B=      3.00000, TPR2 0.883, FPR2 0.043\n",
      "Test Accuracy= 0.909, B=      8.00000, TPR2 0.836, FPR2 0.023\n",
      "Test Accuracy= 0.896, B=     15.00000, TPR2 0.896, FPR2 0.105\n",
      "Test Accuracy= 0.894, B=     20.00000, TPR2 0.911, FPR2 0.122\n",
      "Test Accuracy= 0.868, B=     50.00000, TPR2 0.917, FPR2 0.178\n",
      "Test Accuracy= 0.854, B=    100.00000, TPR2 0.916, FPR2 0.204\n",
      "Test Accuracy= 0.889, B=    500.00000, TPR2 0.936, FPR2 0.154\n",
      "Test Accuracy= 0.885, B=   1000.00000, TPR2 0.928, FPR2 0.155\n",
      "\n",
      "MLP classifier\n",
      "Test Accuracy= 0.841, C=      1.00000, TPR3 0.767, FPR3 0.091\n"
     ]
    },
    {
     "name": "stderr",
     "output_type": "stream",
     "text": [
      "C:\\Users\\physi\\Anaconda4\\lib\\site-packages\\sklearn\\neural_network\\multilayer_perceptron.py:566: ConvergenceWarning: Stochastic Optimizer: Maximum iterations (200) reached and the optimization hasn't converged yet.\n",
      "  % self.max_iter, ConvergenceWarning)\n",
      "C:\\Users\\physi\\Anaconda4\\lib\\site-packages\\sklearn\\neural_network\\multilayer_perceptron.py:566: ConvergenceWarning: Stochastic Optimizer: Maximum iterations (200) reached and the optimization hasn't converged yet.\n",
      "  % self.max_iter, ConvergenceWarning)\n"
     ]
    },
    {
     "name": "stdout",
     "output_type": "stream",
     "text": [
      "Test Accuracy= 0.685, C=      3.00000, TPR3 0.875, FPR3 0.493\n",
      "Test Accuracy= 0.685, C=      8.00000, TPR3 0.914, FPR3 0.529\n"
     ]
    },
    {
     "name": "stderr",
     "output_type": "stream",
     "text": [
      "C:\\Users\\physi\\Anaconda4\\lib\\site-packages\\sklearn\\neural_network\\multilayer_perceptron.py:566: ConvergenceWarning: Stochastic Optimizer: Maximum iterations (200) reached and the optimization hasn't converged yet.\n",
      "  % self.max_iter, ConvergenceWarning)\n",
      "C:\\Users\\physi\\Anaconda4\\lib\\site-packages\\sklearn\\neural_network\\multilayer_perceptron.py:566: ConvergenceWarning: Stochastic Optimizer: Maximum iterations (200) reached and the optimization hasn't converged yet.\n",
      "  % self.max_iter, ConvergenceWarning)\n"
     ]
    },
    {
     "name": "stdout",
     "output_type": "stream",
     "text": [
      "Test Accuracy= 0.812, C=     15.00000, TPR3 0.906, FPR3 0.276\n",
      "Test Accuracy= 0.716, C=     20.00000, TPR3 0.963, FPR3 0.514"
     ]
    },
    {
     "name": "stderr",
     "output_type": "stream",
     "text": [
      "C:\\Users\\physi\\Anaconda4\\lib\\site-packages\\sklearn\\neural_network\\multilayer_perceptron.py:566: ConvergenceWarning: Stochastic Optimizer: Maximum iterations (200) reached and the optimization hasn't converged yet.\n",
      "  % self.max_iter, ConvergenceWarning)\n",
      "C:\\Users\\physi\\Anaconda4\\lib\\site-packages\\sklearn\\neural_network\\multilayer_perceptron.py:566: ConvergenceWarning: Stochastic Optimizer: Maximum iterations (200) reached and the optimization hasn't converged yet.\n",
      "  % self.max_iter, ConvergenceWarning)\n"
     ]
    },
    {
     "name": "stdout",
     "output_type": "stream",
     "text": [
      "\n",
      "Test Accuracy= 0.718, C=     50.00000, TPR3 0.927, FPR3 0.477\n"
     ]
    },
    {
     "name": "stderr",
     "output_type": "stream",
     "text": [
      "C:\\Users\\physi\\Anaconda4\\lib\\site-packages\\sklearn\\neural_network\\multilayer_perceptron.py:566: ConvergenceWarning: Stochastic Optimizer: Maximum iterations (200) reached and the optimization hasn't converged yet.\n",
      "  % self.max_iter, ConvergenceWarning)\n"
     ]
    },
    {
     "name": "stdout",
     "output_type": "stream",
     "text": [
      "Test Accuracy= 0.801, C=    100.00000, TPR3 0.922, FPR3 0.312\n",
      "Test Accuracy= 0.740, C=    500.00000, TPR3 0.951, FPR3 0.456\n",
      "Test Accuracy= 0.738, C=   1000.00000, TPR3 0.945, FPR3 0.454\n",
      "\n",
      "SVM - SVC\n",
      "Test Accuracy= 0.787, D=      0.00100, TPR4 0.945, FPR4 0.454\n",
      "Test Accuracy= 0.792, D=      0.01000, TPR4 0.945, FPR4 0.454\n",
      "Test Accuracy= 0.779, D=      0.10000, TPR4 0.945, FPR4 0.454\n",
      "Test Accuracy= 0.777, D=      1.00000, TPR4 0.945, FPR4 0.454\n",
      "Test Accuracy= 0.777, D=      2.00000, TPR4 0.945, FPR4 0.454\n",
      "Test Accuracy= 0.776, D=      5.00000, TPR4 0.945, FPR4 0.454\n",
      "Test Accuracy= 0.776, D=     10.00000, TPR4 0.945, FPR4 0.454\n",
      "Test Accuracy= 0.776, D=     50.00000, TPR4 0.945, FPR4 0.454\n",
      "Test Accuracy= 0.776, D=    100.00000, TPR4 0.945, FPR4 0.454\n"
     ]
    }
   ],
   "source": [
    "#logistic regression -note bad test train split must bt used to make the plotted points different\n",
    "print(\"Logistic Regression\")\n",
    "for c in A:\n",
    "    pipe_l1 = make_pipeline(StandardScaler(),\n",
    "                            LogisticRegression(random_state=10,\n",
    "                                               penalty='l1',\n",
    "                                               solver='liblinear',\n",
    "                                               class_weight='balanced',\n",
    "                                               C=c,\n",
    "                                               multi_class='auto',\n",
    "                                               max_iter=100))\n",
    "    pipe_l1.fit(X_train, y_train)\n",
    "    y_pred = pipe_l1.predict(X_test)\n",
    "    tn, fp, fn, tp = confusion_matrix(y_test, y_pred).ravel()\n",
    "    TPR1 += [tp/(tp+fn)]  # Pd\n",
    "    FPR1 += [fp/(fp+tn)]  # Pf\n",
    "   \n",
    "    print(f'Test Accuracy= {pipe_l1.score(X_test, y_test):.3f}, A={c:13.5f}, TPR1 {TPR1[-1]:.3f}, FPR1 {FPR1[-1]:.3f}')\n",
    "print(\"\")\n",
    "print(\"RandomForest\")\n",
    "for i in B:\n",
    "    pipe_l2 = make_pipeline(StandardScaler(),\n",
    "                            RandomForestClassifier(int(i),random_state=10))\n",
    "    pipe_l2.fit(X_train, y_train)\n",
    "    y_pred = pipe_l2.predict(X_test)\n",
    "    tn, fp, fn, tp = confusion_matrix(y_test, y_pred).ravel()\n",
    "    TPR2 += [tp/(tp+fn)]  # Pd\n",
    "    FPR2 += [fp/(fp+tn)]  # Pf\n",
    "    print(f'Test Accuracy= {pipe_l2.score(X_test, y_test):.3f}, B={i:13.5f}, TPR2 {TPR2[-1]:.3f}, FPR2 {FPR2[-1]:.3f}')\n",
    "print(\"\")\n",
    "print(\"MLP classifier\")    \n",
    "for i in C:\n",
    "    pipe_l3 = make_pipeline(StandardScaler(),\n",
    "                            MLPClassifier(int(i),random_state=10, solver='adam', n_iter_no_change= 100))\n",
    "    pipe_l3.fit(X_train, y_train)\n",
    "    y_pred = pipe_l3.predict(X_test)\n",
    "    tn, fp, fn, tp = confusion_matrix(y_test, y_pred).ravel()\n",
    "    TPR3 += [tp/(tp+fn)]  # Pd\n",
    "    FPR3 += [fp/(fp+tn)]  # Pf\n",
    "    print(f'Test Accuracy= {pipe_l3.score(X_test, y_test):.3f}, C={i:13.5f}, TPR3 {TPR3[-1]:.3f}, FPR3 {FPR3[-1]:.3f}')\n",
    "    \n",
    "print(\"\")\n",
    "print(\"SVM - SVC\")    \n",
    "for i in D:\n",
    "    pipe_l4 = make_pipeline(StandardScaler(),\n",
    "                            LinearSVC(C=i,random_state=10,))\n",
    "    pipe_l4.fit(X_train, y_train)\n",
    "    y_pred = pipe_l3.predict(X_test)\n",
    "    tn, fp, fn, tp = confusion_matrix(y_test, y_pred).ravel()\n",
    "    TPR4 += [tp/(tp+fn)]  # Pd\n",
    "    FPR4 += [fp/(fp+tn)]  # Pf\n",
    "    print(f'Test Accuracy= {pipe_l4.score(X_test, y_test):.3f}, D={i:13.5f}, TPR4 {TPR4[-1]:.3f}, FPR4 {FPR4[-1]:.3f}')\n"
   ]
  },
  {
   "cell_type": "code",
   "execution_count": 12,
   "metadata": {},
   "outputs": [
    {
     "data": {
      "image/png": "[encoded data removed]",
      "text/plain": [
       "<Figure size 432x288 with 1 Axes>"
      ]
     },
     "metadata": {
      "needs_background": "light"
     },
     "output_type": "display_data"
    }
   ],
   "source": [
    "# Sorts the points to display nicely on ROC\n",
    "FPR1, TPR1 = zip(*sorted(zip(FPR1, TPR1)))\n",
    "fpr1 = [0.]+list(FPR1)+[1.]; tpr1 = [0.]+list(TPR1)+[1.]\n",
    "\n",
    "# Plot\n",
    "fig, ax = plt.subplots()\n",
    "plt.plot(fpr1, tpr1, ':', label='ROC')\n",
    "plt.scatter(FPR1, TPR1, 50, color='red', marker='o', label='operating points')\n",
    "plt.plot([0, 1], [0, 1], linestyle='--', color=(0.6, 0.6, 0.6), label='coin flip')\n",
    "\n",
    "\n",
    "# Labels\n",
    "plt.xlabel('False Positive Rate')\n",
    "plt.ylabel('True Positive Rate')\n",
    "plt.legend(loc='lower right')\n",
    "plt.grid()\n",
    "plt.title(\"Logistic Regression with 99.8% test size\")\n",
    "plt.show()"
   ]
  },
  {
   "cell_type": "code",
   "execution_count": 13,
   "metadata": {},
   "outputs": [
    {
     "data": {
      "image/png": "[encoded data removed]",
      "text/plain": [
       "<Figure size 432x288 with 1 Axes>"
      ]
     },
     "metadata": {
      "needs_background": "light"
     },
     "output_type": "display_data"
    }
   ],
   "source": [
    "# Sorts the points to display nicely on ROC\n",
    "FPR2, TPR2 = zip(*sorted(zip(FPR2, TPR2)))\n",
    "fpr2 = [0.]+list(FPR2)+[1.]; tpr2 = [0.]+list(TPR2)+[1.]\n",
    "\n",
    "# Plot\n",
    "fig, ax = plt.subplots()\n",
    "plt.plot(fpr2, tpr2, ':', label='ROC')\n",
    "plt.scatter(FPR2, TPR2, 50, color='red', marker='o', label='operating points')\n",
    "plt.plot([0, 1], [0, 1], linestyle='--', color=(0.6, 0.6, 0.6), label='coin flip')\n",
    "\n",
    "# Labels\n",
    "plt.xlabel('False Positive Rate')\n",
    "plt.ylabel('True Positive Rate')\n",
    "plt.legend(loc='lower right')\n",
    "plt.grid()\n",
    "plt.title(\"Random Forest with 99.8% test size\")\n",
    "plt.show()"
   ]
  },
  {
   "cell_type": "code",
   "execution_count": 14,
   "metadata": {},
   "outputs": [
    {
     "data": {
      "image/png": "[encoded data removed]",
      "text/plain": [
       "<Figure size 432x288 with 1 Axes>"
      ]
     },
     "metadata": {
      "needs_background": "light"
     },
     "output_type": "display_data"
    }
   ],
   "source": [
    "# Sorts the points to display nicely on ROC\n",
    "FPR3, TPR3 = zip(*sorted(zip(FPR3, TPR3)))\n",
    "fpr3 = [0.]+list(FPR3)+[1.]; tpr3 = [0.]+list(TPR3)+[1.]\n",
    "\n",
    "# Plot\n",
    "fig, ax = plt.subplots()\n",
    "plt.plot(fpr3, tpr3, ':', label='ROC')\n",
    "plt.scatter(FPR3, TPR3, 50, color='red', marker='o', label='operating points')\n",
    "plt.plot([0, 1], [0, 1], linestyle='--', color=(0.6, 0.6, 0.6), label='coin flip')\n",
    "\n",
    "# Labels\n",
    "plt.xlabel('False Positive Rate')\n",
    "plt.ylabel('True Positive Rate')\n",
    "plt.legend(loc='lower right')\n",
    "plt.grid()\n",
    "plt.title(\"MLP classifier with 99.8% test size\")\n",
    "plt.show()"
   ]
  },
  {
   "cell_type": "code",
   "execution_count": 15,
   "metadata": {},
   "outputs": [
    {
     "data": {
      "image/png": "[encoded data removed]",
      "text/plain": [
       "<Figure size 432x288 with 1 Axes>"
      ]
     },
     "metadata": {
      "needs_background": "light"
     },
     "output_type": "display_data"
    }
   ],
   "source": [
    "# Sorts the points to display nicely on ROC\n",
    "FPR4, TPR4 = zip(*sorted(zip(FPR4, TPR4)))\n",
    "fpr4 = [0.]+list(FPR4)+[1.]; tpr4 = [0.]+list(TPR4)+[1.]\n",
    "\n",
    "# Plot\n",
    "fig, ax = plt.subplots()\n",
    "plt.plot(fpr4, tpr4, ':', label='ROC')\n",
    "plt.scatter(FPR4, TPR4, 50, color='red', marker='o', label='operating points')\n",
    "plt.plot([0, 1], [0, 1], linestyle='--', color=(0.6, 0.6, 0.6), label='coin flip')\n",
    "\n",
    "# # Annotate certain operating points\n",
    "# annot(1, fpr[1], tpr[1])\n",
    "# annot(2, fpr[4], tpr[4])\n",
    "# annot(3, fpr[8], tpr[8])\n",
    "# annot(4, fpr[9], tpr[9])\n",
    "\n",
    "# Labels\n",
    "plt.xlabel('False Positive Rate')\n",
    "plt.ylabel('True Positive Rate')\n",
    "plt.legend(loc='lower right')\n",
    "plt.grid()\n",
    "plt.title(\"LinearSVC with 99.8% test size\")\n",
    "plt.show()"
   ]
  },
  {
   "cell_type": "markdown",
   "metadata": {},
   "source": [
    "# Problem 2\n",
    "**[10 pts] What kind of behavior would you expect to see in Pd – Pf interaction of an ROC plot? Do you see it in yours?**  \n",
    "As the parameters of the classifier are varied the data points should move around the ROC Graph. Movement in the ROC graph results in trade-offs between detection (Pd) and false alarm (Pf). Depending on application, such as cancer detection or poison detection, the highest Pd might be desired irregardless of Pf value. For some reason, no matter the \"C\" value used by linearSVC there isn't any movement in the operating point on the ROC graph. However, the other graphs do show some movement given the non-ideal test/train split. "
   ]
  },
  {
   "cell_type": "markdown",
   "metadata": {},
   "source": [
    "# Problem 3\n",
    "\n",
    "**[20 pts] From the ROC plot that you created make a selection of the classifier and hyper-parameter setting for this problem. Note that we are classifying mushrooms so your conclusion might be subjective but has to be supported by your findings.**\n",
    "\n",
    "Let me point out that since I've set the test split a 99.8% this isn't an ideal case, actually far from ideal. However, given that statement, I would choose the Logistic regression classifier with the operating point of (Test Accuracy= 0.604, A=0.20000, TPR1 0.984, FPR1 0.750) where A= the hyperparameter C and this produces the highest TRP & FPR. This is helpful in dectecting every possible case of poison mushrooms. "
   ]
  },
  {
   "cell_type": "raw",
   "metadata": {},
   "source": []
  }
 ],
 "metadata": {
  "kernelspec": {
   "display_name": "Python 3",
   "language": "python",
   "name": "python3"
  },
  "language_info": {
   "codemirror_mode": {
    "name": "ipython",
    "version": 3
   },
   "file_extension": ".py",
   "mimetype": "text/x-python",
   "name": "python",
   "nbconvert_exporter": "python",
   "pygments_lexer": "ipython3",
   "version": "3.7.1"
  }
 },
 "nbformat": 4,
 "nbformat_minor": 2
}
