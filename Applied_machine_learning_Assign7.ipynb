{
 "cells": [
  {
   "cell_type": "markdown",
   "metadata": {},
   "source": [
    "Christian Sutton  \n",
    "10/17/20      \n",
    "Module 7  "
   ]
  },
  {
   "cell_type": "code",
   "execution_count": 1,
   "metadata": {},
   "outputs": [],
   "source": [
    "import pandas as pd\n",
    "import numpy as np\n",
    "from sklearn.preprocessing import OneHotEncoder\n",
    "#import matplotlib.pyplot as plt\n",
    "SRdata = pd.read_csv(\"C:/Users/physi/Desktop/AppliedMachineLearning_EN.705.601/Mod3/master.csv\")"
   ]
  },
  {
   "cell_type": "code",
   "execution_count": 2,
   "metadata": {},
   "outputs": [],
   "source": [
    "#I am removing countries that have been contributing repeated zeros to the data set\n",
    "\n",
    "SRdata = SRdata[SRdata.country != \"Antigua and Barbuda\"]\n",
    "SRdata = SRdata[SRdata.country != \"Aruba\"]\n",
    "SRdata = SRdata[SRdata.country != \"Bosnia and Herzegovina\"]\n",
    "SRdata = SRdata[SRdata.country != \"Cabo Verdea\"]\n",
    "SRdata = SRdata[SRdata.country != \"Cyprus\"]\n",
    "SRdata = SRdata[SRdata.country != \"Dominica\"]\n",
    "SRdata = SRdata[SRdata.country != \"Grenada\"]\n",
    "SRdata = SRdata[SRdata.country != \"Jamaica\"]\n",
    "SRdata = SRdata[SRdata.country != \"Kuwait\"]\n",
    "SRdata = SRdata[SRdata.country != \"Maldives\"]\n",
    "SRdata = SRdata[SRdata.country != \"Montenegro\"]\n",
    "SRdata = SRdata[SRdata.country != \"Oman\"]\n",
    "SRdata = SRdata[SRdata.country != \"Qatar\"]\n",
    "SRdata = SRdata[SRdata.country != \"Saint Kitts and Nevis\"]"
   ]
  },
  {
   "cell_type": "code",
   "execution_count": 3,
   "metadata": {},
   "outputs": [],
   "source": [
    "#Since HDI for year -  is missing most of it's values, this feature will be removed\n",
    "#Country-year -  is redundant to features \"year\" and \"country\"\n",
    "#gdp_for_year - removing this feature because it isn't used later\n",
    "#removing counntry, year and gdp_per_capita, due to low correlation\n",
    "#population and suicides_no are being removed due to unwanted correlation between features\n",
    "\n",
    "SRdata =SRdata.drop([\"HDI for year\",\"country-year\",\" gdp_for_year ($) \",\"country\",\"year\",\\\n",
    "                     \"gdp_per_capita ($)\",\"population\",\"suicides_no\"], axis =1)"
   ]
  },
  {
   "cell_type": "code",
   "execution_count": 4,
   "metadata": {},
   "outputs": [
    {
     "data": {
      "text/html": [
       "<div>\n",
       "<style scoped>\n",
       "    .dataframe tbody tr th:only-of-type {\n",
       "        vertical-align: middle;\n",
       "    }\n",
       "\n",
       "    .dataframe tbody tr th {\n",
       "        vertical-align: top;\n",
       "    }\n",
       "\n",
       "    .dataframe thead th {\n",
       "        text-align: right;\n",
       "    }\n",
       "</style>\n",
       "<table border=\"1\" class=\"dataframe\">\n",
       "  <thead>\n",
       "    <tr style=\"text-align: right;\">\n",
       "      <th></th>\n",
       "      <th>sex</th>\n",
       "      <th>age</th>\n",
       "      <th>suicides/100k pop</th>\n",
       "      <th>generation</th>\n",
       "    </tr>\n",
       "  </thead>\n",
       "  <tbody>\n",
       "    <tr>\n",
       "      <th>0</th>\n",
       "      <td>male</td>\n",
       "      <td>15-24 years</td>\n",
       "      <td>6.71</td>\n",
       "      <td>Generation X</td>\n",
       "    </tr>\n",
       "    <tr>\n",
       "      <th>1</th>\n",
       "      <td>male</td>\n",
       "      <td>35-54 years</td>\n",
       "      <td>5.19</td>\n",
       "      <td>Silent</td>\n",
       "    </tr>\n",
       "    <tr>\n",
       "      <th>2</th>\n",
       "      <td>female</td>\n",
       "      <td>15-24 years</td>\n",
       "      <td>4.83</td>\n",
       "      <td>Generation X</td>\n",
       "    </tr>\n",
       "    <tr>\n",
       "      <th>3</th>\n",
       "      <td>male</td>\n",
       "      <td>75+ years</td>\n",
       "      <td>4.59</td>\n",
       "      <td>G.I. Generation</td>\n",
       "    </tr>\n",
       "    <tr>\n",
       "      <th>4</th>\n",
       "      <td>male</td>\n",
       "      <td>25-34 years</td>\n",
       "      <td>3.28</td>\n",
       "      <td>Boomers</td>\n",
       "    </tr>\n",
       "  </tbody>\n",
       "</table>\n",
       "</div>"
      ],
      "text/plain": [
       "      sex          age  suicides/100k pop       generation\n",
       "0    male  15-24 years               6.71     Generation X\n",
       "1    male  35-54 years               5.19           Silent\n",
       "2  female  15-24 years               4.83     Generation X\n",
       "3    male    75+ years               4.59  G.I. Generation\n",
       "4    male  25-34 years               3.28          Boomers"
      ]
     },
     "execution_count": 4,
     "metadata": {},
     "output_type": "execute_result"
    }
   ],
   "source": [
    "SRdata.head()"
   ]
  },
  {
   "cell_type": "code",
   "execution_count": 5,
   "metadata": {},
   "outputs": [
    {
     "data": {
      "text/html": [
       "<div>\n",
       "<style scoped>\n",
       "    .dataframe tbody tr th:only-of-type {\n",
       "        vertical-align: middle;\n",
       "    }\n",
       "\n",
       "    .dataframe tbody tr th {\n",
       "        vertical-align: top;\n",
       "    }\n",
       "\n",
       "    .dataframe thead th {\n",
       "        text-align: right;\n",
       "    }\n",
       "</style>\n",
       "<table border=\"1\" class=\"dataframe\">\n",
       "  <thead>\n",
       "    <tr style=\"text-align: right;\">\n",
       "      <th></th>\n",
       "      <th>suicides/100k pop</th>\n",
       "      <th>sex_male</th>\n",
       "      <th>age_15-24 years</th>\n",
       "      <th>age_25-34 years</th>\n",
       "      <th>age_35-54 years</th>\n",
       "      <th>age_5-14 years</th>\n",
       "      <th>age_55-74 years</th>\n",
       "      <th>generation_Boomers</th>\n",
       "      <th>generation_G.I. Generation</th>\n",
       "      <th>generation_Generation X</th>\n",
       "      <th>generation_Generation Z</th>\n",
       "      <th>generation_Millenials</th>\n",
       "    </tr>\n",
       "  </thead>\n",
       "  <tbody>\n",
       "    <tr>\n",
       "      <th>0</th>\n",
       "      <td>6.71</td>\n",
       "      <td>1</td>\n",
       "      <td>1</td>\n",
       "      <td>0</td>\n",
       "      <td>0</td>\n",
       "      <td>0</td>\n",
       "      <td>0</td>\n",
       "      <td>0</td>\n",
       "      <td>0</td>\n",
       "      <td>1</td>\n",
       "      <td>0</td>\n",
       "      <td>0</td>\n",
       "    </tr>\n",
       "    <tr>\n",
       "      <th>1</th>\n",
       "      <td>5.19</td>\n",
       "      <td>1</td>\n",
       "      <td>0</td>\n",
       "      <td>0</td>\n",
       "      <td>1</td>\n",
       "      <td>0</td>\n",
       "      <td>0</td>\n",
       "      <td>0</td>\n",
       "      <td>0</td>\n",
       "      <td>0</td>\n",
       "      <td>0</td>\n",
       "      <td>0</td>\n",
       "    </tr>\n",
       "    <tr>\n",
       "      <th>2</th>\n",
       "      <td>4.83</td>\n",
       "      <td>0</td>\n",
       "      <td>1</td>\n",
       "      <td>0</td>\n",
       "      <td>0</td>\n",
       "      <td>0</td>\n",
       "      <td>0</td>\n",
       "      <td>0</td>\n",
       "      <td>0</td>\n",
       "      <td>1</td>\n",
       "      <td>0</td>\n",
       "      <td>0</td>\n",
       "    </tr>\n",
       "    <tr>\n",
       "      <th>3</th>\n",
       "      <td>4.59</td>\n",
       "      <td>1</td>\n",
       "      <td>0</td>\n",
       "      <td>0</td>\n",
       "      <td>0</td>\n",
       "      <td>0</td>\n",
       "      <td>0</td>\n",
       "      <td>0</td>\n",
       "      <td>1</td>\n",
       "      <td>0</td>\n",
       "      <td>0</td>\n",
       "      <td>0</td>\n",
       "    </tr>\n",
       "    <tr>\n",
       "      <th>4</th>\n",
       "      <td>3.28</td>\n",
       "      <td>1</td>\n",
       "      <td>0</td>\n",
       "      <td>1</td>\n",
       "      <td>0</td>\n",
       "      <td>0</td>\n",
       "      <td>0</td>\n",
       "      <td>1</td>\n",
       "      <td>0</td>\n",
       "      <td>0</td>\n",
       "      <td>0</td>\n",
       "      <td>0</td>\n",
       "    </tr>\n",
       "  </tbody>\n",
       "</table>\n",
       "</div>"
      ],
      "text/plain": [
       "   suicides/100k pop  sex_male  age_15-24 years  age_25-34 years  \\\n",
       "0               6.71         1                1                0   \n",
       "1               5.19         1                0                0   \n",
       "2               4.83         0                1                0   \n",
       "3               4.59         1                0                0   \n",
       "4               3.28         1                0                1   \n",
       "\n",
       "   age_35-54 years  age_5-14 years  age_55-74 years  generation_Boomers  \\\n",
       "0                0               0                0                   0   \n",
       "1                1               0                0                   0   \n",
       "2                0               0                0                   0   \n",
       "3                0               0                0                   0   \n",
       "4                0               0                0                   1   \n",
       "\n",
       "   generation_G.I. Generation  generation_Generation X  \\\n",
       "0                           0                        1   \n",
       "1                           0                        0   \n",
       "2                           0                        1   \n",
       "3                           1                        0   \n",
       "4                           0                        0   \n",
       "\n",
       "   generation_Generation Z  generation_Millenials  \n",
       "0                        0                      0  \n",
       "1                        0                      0  \n",
       "2                        0                      0  \n",
       "3                        0                      0  \n",
       "4                        0                      0  "
      ]
     },
     "execution_count": 5,
     "metadata": {},
     "output_type": "execute_result"
    }
   ],
   "source": [
    "# OneHOTEncode for problem 1 fitting \n",
    "SRdata1 = pd.get_dummies(SRdata)\n",
    "SRdata1 =SRdata1.drop([\"sex_female\",\"age_75+ years\",\"generation_Silent\"], axis =1)\n",
    "SRdata1.head()"
   ]
  },
  {
   "cell_type": "code",
   "execution_count": 6,
   "metadata": {},
   "outputs": [
    {
     "data": {
      "text/html": [
       "<div>\n",
       "<style scoped>\n",
       "    .dataframe tbody tr th:only-of-type {\n",
       "        vertical-align: middle;\n",
       "    }\n",
       "\n",
       "    .dataframe tbody tr th {\n",
       "        vertical-align: top;\n",
       "    }\n",
       "\n",
       "    .dataframe thead th {\n",
       "        text-align: right;\n",
       "    }\n",
       "</style>\n",
       "<table border=\"1\" class=\"dataframe\">\n",
       "  <thead>\n",
       "    <tr style=\"text-align: right;\">\n",
       "      <th></th>\n",
       "      <th>suicides/100k pop</th>\n",
       "      <th>sex_male</th>\n",
       "      <th>age_15-24 years</th>\n",
       "      <th>age_25-34 years</th>\n",
       "      <th>age_35-54 years</th>\n",
       "      <th>age_5-14 years</th>\n",
       "      <th>age_55-74 years</th>\n",
       "      <th>generation_Boomers</th>\n",
       "      <th>generation_G.I. Generation</th>\n",
       "      <th>generation_Generation X</th>\n",
       "      <th>generation_Generation Z</th>\n",
       "      <th>generation_Millenials</th>\n",
       "    </tr>\n",
       "  </thead>\n",
       "  <tbody>\n",
       "    <tr>\n",
       "      <th>0</th>\n",
       "      <td>6.71</td>\n",
       "      <td>1</td>\n",
       "      <td>1</td>\n",
       "      <td>0</td>\n",
       "      <td>0</td>\n",
       "      <td>0</td>\n",
       "      <td>0</td>\n",
       "      <td>0</td>\n",
       "      <td>0</td>\n",
       "      <td>1</td>\n",
       "      <td>0</td>\n",
       "      <td>0</td>\n",
       "    </tr>\n",
       "    <tr>\n",
       "      <th>13</th>\n",
       "      <td>5.33</td>\n",
       "      <td>1</td>\n",
       "      <td>1</td>\n",
       "      <td>0</td>\n",
       "      <td>0</td>\n",
       "      <td>0</td>\n",
       "      <td>0</td>\n",
       "      <td>0</td>\n",
       "      <td>0</td>\n",
       "      <td>1</td>\n",
       "      <td>0</td>\n",
       "      <td>0</td>\n",
       "    </tr>\n",
       "    <tr>\n",
       "      <th>28</th>\n",
       "      <td>3.71</td>\n",
       "      <td>1</td>\n",
       "      <td>1</td>\n",
       "      <td>0</td>\n",
       "      <td>0</td>\n",
       "      <td>0</td>\n",
       "      <td>0</td>\n",
       "      <td>0</td>\n",
       "      <td>0</td>\n",
       "      <td>1</td>\n",
       "      <td>0</td>\n",
       "      <td>0</td>\n",
       "    </tr>\n",
       "    <tr>\n",
       "      <th>37</th>\n",
       "      <td>3.41</td>\n",
       "      <td>1</td>\n",
       "      <td>1</td>\n",
       "      <td>0</td>\n",
       "      <td>0</td>\n",
       "      <td>0</td>\n",
       "      <td>0</td>\n",
       "      <td>0</td>\n",
       "      <td>0</td>\n",
       "      <td>1</td>\n",
       "      <td>0</td>\n",
       "      <td>0</td>\n",
       "    </tr>\n",
       "    <tr>\n",
       "      <th>48</th>\n",
       "      <td>7.40</td>\n",
       "      <td>1</td>\n",
       "      <td>1</td>\n",
       "      <td>0</td>\n",
       "      <td>0</td>\n",
       "      <td>0</td>\n",
       "      <td>0</td>\n",
       "      <td>0</td>\n",
       "      <td>0</td>\n",
       "      <td>1</td>\n",
       "      <td>0</td>\n",
       "      <td>0</td>\n",
       "    </tr>\n",
       "  </tbody>\n",
       "</table>\n",
       "</div>"
      ],
      "text/plain": [
       "    suicides/100k pop  sex_male  age_15-24 years  age_25-34 years  \\\n",
       "0                6.71         1                1                0   \n",
       "13               5.33         1                1                0   \n",
       "28               3.71         1                1                0   \n",
       "37               3.41         1                1                0   \n",
       "48               7.40         1                1                0   \n",
       "\n",
       "    age_35-54 years  age_5-14 years  age_55-74 years  generation_Boomers  \\\n",
       "0                 0               0                0                   0   \n",
       "13                0               0                0                   0   \n",
       "28                0               0                0                   0   \n",
       "37                0               0                0                   0   \n",
       "48                0               0                0                   0   \n",
       "\n",
       "    generation_G.I. Generation  generation_Generation X  \\\n",
       "0                            0                        1   \n",
       "13                           0                        1   \n",
       "28                           0                        1   \n",
       "37                           0                        1   \n",
       "48                           0                        1   \n",
       "\n",
       "    generation_Generation Z  generation_Millenials  \n",
       "0                         0                      0  \n",
       "13                        0                      0  \n",
       "28                        0                      0  \n",
       "37                        0                      0  \n",
       "48                        0                      0  "
      ]
     },
     "execution_count": 6,
     "metadata": {},
     "output_type": "execute_result"
    }
   ],
   "source": [
    "# copy dataset and use for MAE y-true, y-predict, 1002 Rows\n",
    "SRFiltered = SRdata1\n",
    "\n",
    "#filter for Male, 20, Gen X\n",
    "SRFiltered = SRFiltered[SRFiltered.sex_male != 0]\n",
    "SRFiltered = SRFiltered[SRFiltered['age_15-24 years'] != 0] \n",
    "SRFiltered = SRFiltered[SRFiltered['generation_Generation X'] != 0] \n",
    "SRFiltered.head()"
   ]
  },
  {
   "cell_type": "markdown",
   "metadata": {},
   "source": [
    "# Problem 1\n",
    "**[20 pts] Keep the variables as one-hot encoded and develop a multiple linear regression model. Use your model to predict the target variable for the people with age 20, male, and generation X. What is the MAE error of this prediction? How many line coefficients are there?**  \n",
    "\n"
   ]
  },
  {
   "cell_type": "code",
   "execution_count": 7,
   "metadata": {},
   "outputs": [
    {
     "data": {
      "text/plain": [
       "array([ 15.77651065, -13.5495341 , -10.70817809,  -8.30171004,\n",
       "       -22.20322163,  -7.4834319 ,   0.07376695,   2.55850094,\n",
       "        -0.69344613,  -1.37886703,  -1.59621382])"
      ]
     },
     "execution_count": 7,
     "metadata": {},
     "output_type": "execute_result"
    }
   ],
   "source": [
    "from sklearn import linear_model\n",
    "reg = linear_model.LinearRegression().fit(SRdata1.iloc[:,1:], SRdata1.iloc[:,0])\n",
    "\n",
    "# coefficients for oneHotEncoded features. 11 coefficients for the 11 column features I'm fitting \n",
    "reg.coef_"
   ]
  },
  {
   "cell_type": "code",
   "execution_count": 8,
   "metadata": {},
   "outputs": [
    {
     "data": {
      "text/plain": [
       "16.378536153322425"
      ]
     },
     "execution_count": 8,
     "metadata": {},
     "output_type": "execute_result"
    }
   ],
   "source": [
    "reg.intercept_"
   ]
  },
  {
   "cell_type": "code",
   "execution_count": 9,
   "metadata": {},
   "outputs": [
    {
     "data": {
      "text/plain": [
       "9.443522385685892"
      ]
     },
     "execution_count": 9,
     "metadata": {},
     "output_type": "execute_result"
    }
   ],
   "source": [
    "Y_Pred = reg.predict(SRFiltered.iloc[:,1:])\n",
    "\n",
    "# MAE ERROR Male, 20yrs, Gen X\n",
    "from sklearn.metrics import mean_absolute_error\n",
    "mean_absolute_error(SRFiltered.iloc[:,0], Y_Pred)"
   ]
  },
  {
   "cell_type": "code",
   "execution_count": 10,
   "metadata": {},
   "outputs": [
    {
     "data": {
      "text/plain": [
       "array([17.91206657])"
      ]
     },
     "execution_count": 10,
     "metadata": {},
     "output_type": "execute_result"
    }
   ],
   "source": [
    "# prediction 20 yr, male , gen x\n",
    "reg.predict(np.array([1,1,0,0,0,0,0,0,1,0,0]).reshape(1,-1))"
   ]
  },
  {
   "cell_type": "markdown",
   "metadata": {},
   "source": [
    "# Problem 2\n",
    "**[30 pts] Now use the original sex, age and generation variables in numerical form and develop a new model. Use your model to predict the target value for the people with age 20, male, and generation X. What is the MAE error of this prediction? How many line coefficients are there? (Note that for this step you have to think of a way of encoding the original nominal age feature and generation feature into numerical features.)**  \n",
    "\n"
   ]
  },
  {
   "cell_type": "code",
   "execution_count": 11,
   "metadata": {},
   "outputs": [],
   "source": [
    "# encode values\n",
    "ages = {'15-24 years':20, '5-14 years':10,'25-34 years':30,'35-54 years':45,'55-74 years':65,'75+ years':75}\n",
    "Generations = {'G.I. Generation':1,'Silent':2,'Boomers':3,\\\n",
    "               'Generation X':4,'Millenials':5,'Generation Z':6}\n",
    "sex ={'male':1, 'female':0}\n",
    "\n",
    "SRdata['age']= SRdata['age'].map(ages)\n",
    "SRdata['generation']= SRdata['generation'].map(Generations)\n",
    "SRdata['sex']=SRdata['sex'].map(sex)"
   ]
  },
  {
   "cell_type": "code",
   "execution_count": 12,
   "metadata": {},
   "outputs": [
    {
     "data": {
      "text/html": [
       "<div>\n",
       "<style scoped>\n",
       "    .dataframe tbody tr th:only-of-type {\n",
       "        vertical-align: middle;\n",
       "    }\n",
       "\n",
       "    .dataframe tbody tr th {\n",
       "        vertical-align: top;\n",
       "    }\n",
       "\n",
       "    .dataframe thead th {\n",
       "        text-align: right;\n",
       "    }\n",
       "</style>\n",
       "<table border=\"1\" class=\"dataframe\">\n",
       "  <thead>\n",
       "    <tr style=\"text-align: right;\">\n",
       "      <th></th>\n",
       "      <th>sex</th>\n",
       "      <th>age</th>\n",
       "      <th>suicides/100k pop</th>\n",
       "      <th>generation</th>\n",
       "    </tr>\n",
       "  </thead>\n",
       "  <tbody>\n",
       "    <tr>\n",
       "      <th>0</th>\n",
       "      <td>1</td>\n",
       "      <td>20</td>\n",
       "      <td>6.71</td>\n",
       "      <td>4</td>\n",
       "    </tr>\n",
       "    <tr>\n",
       "      <th>1</th>\n",
       "      <td>1</td>\n",
       "      <td>45</td>\n",
       "      <td>5.19</td>\n",
       "      <td>2</td>\n",
       "    </tr>\n",
       "    <tr>\n",
       "      <th>2</th>\n",
       "      <td>0</td>\n",
       "      <td>20</td>\n",
       "      <td>4.83</td>\n",
       "      <td>4</td>\n",
       "    </tr>\n",
       "    <tr>\n",
       "      <th>3</th>\n",
       "      <td>1</td>\n",
       "      <td>75</td>\n",
       "      <td>4.59</td>\n",
       "      <td>1</td>\n",
       "    </tr>\n",
       "    <tr>\n",
       "      <th>4</th>\n",
       "      <td>1</td>\n",
       "      <td>30</td>\n",
       "      <td>3.28</td>\n",
       "      <td>3</td>\n",
       "    </tr>\n",
       "  </tbody>\n",
       "</table>\n",
       "</div>"
      ],
      "text/plain": [
       "   sex  age  suicides/100k pop  generation\n",
       "0    1   20               6.71           4\n",
       "1    1   45               5.19           2\n",
       "2    0   20               4.83           4\n",
       "3    1   75               4.59           1\n",
       "4    1   30               3.28           3"
      ]
     },
     "execution_count": 12,
     "metadata": {},
     "output_type": "execute_result"
    }
   ],
   "source": [
    "# create data for problem two \n",
    "SRdata2 = SRdata\n",
    "SRdata2.head()"
   ]
  },
  {
   "cell_type": "code",
   "execution_count": 13,
   "metadata": {},
   "outputs": [
    {
     "data": {
      "text/html": [
       "<div>\n",
       "<style scoped>\n",
       "    .dataframe tbody tr th:only-of-type {\n",
       "        vertical-align: middle;\n",
       "    }\n",
       "\n",
       "    .dataframe tbody tr th {\n",
       "        vertical-align: top;\n",
       "    }\n",
       "\n",
       "    .dataframe thead th {\n",
       "        text-align: right;\n",
       "    }\n",
       "</style>\n",
       "<table border=\"1\" class=\"dataframe\">\n",
       "  <thead>\n",
       "    <tr style=\"text-align: right;\">\n",
       "      <th></th>\n",
       "      <th>sex</th>\n",
       "      <th>age</th>\n",
       "      <th>suicides/100k pop</th>\n",
       "      <th>generation</th>\n",
       "    </tr>\n",
       "  </thead>\n",
       "  <tbody>\n",
       "    <tr>\n",
       "      <th>0</th>\n",
       "      <td>1</td>\n",
       "      <td>20</td>\n",
       "      <td>6.71</td>\n",
       "      <td>4</td>\n",
       "    </tr>\n",
       "    <tr>\n",
       "      <th>13</th>\n",
       "      <td>1</td>\n",
       "      <td>20</td>\n",
       "      <td>5.33</td>\n",
       "      <td>4</td>\n",
       "    </tr>\n",
       "    <tr>\n",
       "      <th>28</th>\n",
       "      <td>1</td>\n",
       "      <td>20</td>\n",
       "      <td>3.71</td>\n",
       "      <td>4</td>\n",
       "    </tr>\n",
       "    <tr>\n",
       "      <th>37</th>\n",
       "      <td>1</td>\n",
       "      <td>20</td>\n",
       "      <td>3.41</td>\n",
       "      <td>4</td>\n",
       "    </tr>\n",
       "    <tr>\n",
       "      <th>48</th>\n",
       "      <td>1</td>\n",
       "      <td>20</td>\n",
       "      <td>7.40</td>\n",
       "      <td>4</td>\n",
       "    </tr>\n",
       "  </tbody>\n",
       "</table>\n",
       "</div>"
      ],
      "text/plain": [
       "    sex  age  suicides/100k pop  generation\n",
       "0     1   20               6.71           4\n",
       "13    1   20               5.33           4\n",
       "28    1   20               3.71           4\n",
       "37    1   20               3.41           4\n",
       "48    1   20               7.40           4"
      ]
     },
     "execution_count": 13,
     "metadata": {},
     "output_type": "execute_result"
    }
   ],
   "source": [
    "# MAE data y-predict, y-true 20yr, male, Genx\n",
    "SRFilter2 = SRdata\n",
    "SRFilter2 = SRFilter2[SRFilter2.sex != 0]\n",
    "SRFilter2 = SRFilter2[SRFilter2.age == 20] \n",
    "SRFilter2 = SRFilter2[SRFilter2.generation == 4] \n",
    "SRFilter2.head()"
   ]
  },
  {
   "cell_type": "code",
   "execution_count": 14,
   "metadata": {},
   "outputs": [
    {
     "data": {
      "text/plain": [
       "array([15.77651065,  0.24052537, -1.12001762])"
      ]
     },
     "execution_count": 14,
     "metadata": {},
     "output_type": "execute_result"
    }
   ],
   "source": [
    "reg2 = linear_model.LinearRegression().fit(SRdata2.iloc[:,[0,1,3]], SRdata2.iloc[:,2])\n",
    "\n",
    "# Coefficients for numeric features. 3 coefficients for the 3 columns features I'm fitting \n",
    "reg2.coef_"
   ]
  },
  {
   "cell_type": "code",
   "execution_count": 15,
   "metadata": {},
   "outputs": [
    {
     "data": {
      "text/plain": [
       "-0.32558987282572005"
      ]
     },
     "execution_count": 15,
     "metadata": {},
     "output_type": "execute_result"
    }
   ],
   "source": [
    "reg2.intercept_"
   ]
  },
  {
   "cell_type": "code",
   "execution_count": 16,
   "metadata": {},
   "outputs": [
    {
     "data": {
      "text/plain": [
       "8.74733190009631"
      ]
     },
     "execution_count": 16,
     "metadata": {},
     "output_type": "execute_result"
    }
   ],
   "source": [
    "#make prediction for problem 2\n",
    "Y_Pred2 = reg2.predict(SRFilter2.iloc[:,[0,1,3]])\n",
    "\n",
    "# MAE ERROR of 20y , male , genX\n",
    "mean_absolute_error(SRFilter2.iloc[:,2], Y_Pred2)"
   ]
  },
  {
   "cell_type": "code",
   "execution_count": 17,
   "metadata": {},
   "outputs": [
    {
     "data": {
      "text/plain": [
       "array([15.78135764])"
      ]
     },
     "execution_count": 17,
     "metadata": {},
     "output_type": "execute_result"
    }
   ],
   "source": [
    "# prediction 20yr, male, gen x\n",
    "reg2.predict(np.array([1, 20, 4]).reshape(1,-1))"
   ]
  },
  {
   "cell_type": "markdown",
   "metadata": {},
   "source": [
    "# Problem 3\n",
    "**[10 pts] Did you note any change in these two model performances?**  \n",
    "\n",
    "The first model from problem 1 had a higher MAE and higher rate of suicide. The second model had both a lower MAE and lower rate of suicide. \n"
   ]
  },
  {
   "cell_type": "markdown",
   "metadata": {},
   "source": [
    "# Problem 4\n",
    "\n",
    "** [10 pts] What is the prediction for age 33, male and generation Alpha (i.e. the generation after generation Z)?**  \n",
    "\n"
   ]
  },
  {
   "cell_type": "code",
   "execution_count": 18,
   "metadata": {},
   "outputs": [
    {
     "data": {
      "text/plain": [
       "array([14.82655845])"
      ]
     },
     "execution_count": 18,
     "metadata": {},
     "output_type": "execute_result"
    }
   ],
   "source": [
    "# prediction for male=1 , age 33 = 30, gen alpha =7 \n",
    "reg2.predict(np.array([1, 30, 7]).reshape(1,-1))"
   ]
  },
  {
   "cell_type": "markdown",
   "metadata": {},
   "source": [
    "# Problem 5\n",
    "**[10 pts] Give one advantage when using regression (as opposed to classification with nominal features) in terms of input data features.**  \n",
    "\n",
    "Regression allows the data scientist to build a model that targets prediction for any crosssection of the the model. I could quickly check the risk of suicide for any combination of features I wish. In classification, I built a whole module for just one type of prediction, such as high risk or not"
   ]
  },
  {
   "cell_type": "markdown",
   "metadata": {},
   "source": [
    "# Problem 6 \n",
    "\n",
    "**[10 pts bonus] Give one advantage when using regular numerical values rather than one-hot encoding for regression.**  \n",
    "\n",
    "One advantage is there are less features and the data is represented compactly. In this case the numerical data had less error \n",
    "\n"
   ]
  },
  {
   "cell_type": "markdown",
   "metadata": {},
   "source": [
    "# Problem 7\n",
    "\n",
    "** [10 pts bonus] Now that you developed both a classifier and a regression model for this problem, which method do you suggest to your machine learning model customer and why?**  \n",
    "\n",
    "In my opinion I like the regression model for ease of use and for it's more simplistic explaination of how the model is constructed. The regression model more intuitive and eaiser to describe to a customer versus a classification model on a random forest classifer. "
   ]
  },
  {
   "cell_type": "code",
   "execution_count": null,
   "metadata": {},
   "outputs": [],
   "source": []
  }
 ],
 "metadata": {
  "kernelspec": {
   "display_name": "Python 3",
   "language": "python",
   "name": "python3"
  },
  "language_info": {
   "codemirror_mode": {
    "name": "ipython",
    "version": 3
   },
   "file_extension": ".py",
   "mimetype": "text/x-python",
   "name": "python",
   "nbconvert_exporter": "python",
   "pygments_lexer": "ipython3",
   "version": "3.7.1"
  }
 },
 "nbformat": 4,
 "nbformat_minor": 2
}
