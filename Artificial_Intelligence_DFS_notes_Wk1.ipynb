{
 "cells": [
  {
   "cell_type": "code",
   "execution_count": 66,
   "id": "59074d8b",
   "metadata": {},
   "outputs": [],
   "source": [
    "from typing import List, Tuple, Dict, Callable\n",
    "from copy import deepcopy"
   ]
  },
  {
   "cell_type": "code",
   "execution_count": 67,
   "id": "3ae8d43a",
   "metadata": {},
   "outputs": [],
   "source": [
    "small_world = [\n",
    "    ['🌾', '🌲', '🌲', '🌲', '🌲', '🌲', '🌲'],\n",
    "    ['🌾', '🌲', '🌲', '🌲', '🌲', '🌲', '🌲'],\n",
    "    ['🌾', '🌲', '🌲', '🌲', '🌲', '🌲', '🌲'],\n",
    "    ['🌾', '🌾', '🌾', '🌾', '🌾', '🌾', '🌾'],\n",
    "    ['🌲', '🌲', '🌲', '🌲', '🌲', '🌲', '🌾'],\n",
    "    ['🌲', '🌲', '🌲', '🌲', '🌲', '🌲', '🌾'],\n",
    "    ['🌲', '🌲', '🌲', '🌲', '🌲', '🌲', '🌾']\n",
    "]"
   ]
  },
  {
   "cell_type": "code",
   "execution_count": 68,
   "id": "c480b7fc",
   "metadata": {},
   "outputs": [],
   "source": [
    "MOVES = [(0,-1), (1,0), (0,1), (-1,0)] # up, right , down , left"
   ]
  },
  {
   "cell_type": "code",
   "execution_count": 69,
   "id": "65683f8f",
   "metadata": {},
   "outputs": [],
   "source": [
    "COSTS = { '🌾': 1, '🌲': 3, '⛰': 5, '🐊': 7}"
   ]
  },
  {
   "cell_type": "code",
   "execution_count": 70,
   "id": "96ef75e4",
   "metadata": {},
   "outputs": [],
   "source": [
    "def isterminal(g: Tuple[int, int], state: Tuple[int, int]):\n",
    "    if g == state:\n",
    "        return True\n",
    "    else:\n",
    "        return False\n",
    "assert isterminal((1,1),(1,2)) == False\n",
    "assert isterminal((1,1),(1,1)) == True\n",
    "assert isterminal((0,0),(0,0)) == True\n",
    "    \n",
    "    "
   ]
  },
  {
   "cell_type": "code",
   "execution_count": 71,
   "id": "c999833e",
   "metadata": {},
   "outputs": [],
   "source": [
    "def successors(state: Tuple[int, int], w:  List[List[str]], m: List[Tuple[int, int]], path,  heristic):\n",
    "    children = []\n",
    "    world_size_Y = len(w)\n",
    "    world_size_X = len(w[0])\n",
    "    for move in m:\n",
    "        if 0 <= tuple(sum(x) for x in zip(state, move))[0] < world_size_X and 0 <=tuple(sum(x) for x in zip(state, move))[1] < world_size_Y:\n",
    "            children.append(tuple(sum(x) for x in zip(state, move)))\n",
    "        else:\n",
    "            pass # illegal move off of the board\n",
    "#     print(children)\n",
    "    return children "
   ]
  },
  {
   "cell_type": "code",
   "execution_count": 72,
   "id": "ceb5e552",
   "metadata": {},
   "outputs": [],
   "source": [
    "def heuristic(): # you can add formal parameters\n",
    "    pass"
   ]
  },
  {
   "cell_type": "code",
   "execution_count": 73,
   "id": "9b99fb70",
   "metadata": {},
   "outputs": [],
   "source": [
    "def a_star_search( world: List[List[str]], start: Tuple[int, int], goal: Tuple[int, int], costs: Dict[str, int], moves: List[Tuple[int, int]], heuristic: Callable) -> List[Tuple[int, int]]:\n",
    "    frontier = []\n",
    "    explored = []\n",
    "    path = []\n",
    "    frontier.append(start)\n",
    "    path.append(start)\n",
    "    while len(frontier) != 0:\n",
    "        current_state = frontier.pop()\n",
    "        if isterminal(goal, current_state):\n",
    "            explored.append(current_state)\n",
    "            path.append(current_state)\n",
    "            return explored\n",
    "        children = successors(current_state, world, moves)\n",
    "        for child in children:\n",
    "            if child not in explored + frontier:\n",
    "                frontier.append(child)\n",
    "        explored.append(current_state)\n",
    "    return explored # change to return the real answer"
   ]
  },
  {
   "cell_type": "code",
   "execution_count": 74,
   "id": "094d36ae",
   "metadata": {},
   "outputs": [],
   "source": [
    "p1 = ([(0,0),(0,1)])\n",
    "p2 = ([(0,0),(1,0)])\n",
    "p3 = ([(0,0),(0,-1)])\n",
    "p4 = ([(0,0),(-1,0)])"
   ]
  },
  {
   "cell_type": "code",
   "execution_count": 75,
   "id": "3c6a3827",
   "metadata": {},
   "outputs": [],
   "source": [
    "def deltaPath(p):\n",
    "    trails = {(1,0):'⏩', (-1,0):'⏪', (0,1):'⏬', (0,-1):'⏫'}\n",
    "    steps={}\n",
    "    for i in range(len(p)-1):\n",
    "#         print(i, (p[i+1][0]-p[i][0],p[i+1][1]-p[i][1]))\n",
    "        steps[p[i]]=trails[(p[i+1][0]-p[i][0],p[i+1][1]-p[i][1])]\n",
    "    return steps\n",
    "assert  deltaPath(p1) == {(0, 0):'⏬'}\n",
    "assert  deltaPath(p2) == {(0, 0):'⏩'}\n",
    "assert  deltaPath(p3) == {(0, 0):'⏫'}\n",
    "assert  deltaPath(p4) == {(0, 0):'⏪'}"
   ]
  },
  {
   "cell_type": "code",
   "execution_count": 76,
   "id": "842d93e0",
   "metadata": {},
   "outputs": [],
   "source": [
    "def pretty_print_path( world: List[List[str]], path: List[Tuple[int, int]], start: Tuple[int, int], goal: Tuple[int, int], costs: Dict[str, int]) -> int:\n",
    "    goalPrize = '🎁'\n",
    "    mapSymbols = []\n",
    "    listOfCost =[]\n",
    "\n",
    "#     for step in path:\n",
    "# #         print(step)\n",
    "# #         print(path)\n",
    "# #         print(deltaPath(path)[step])\n",
    "#         if step != goal:\n",
    "#              mapSymbols.append(deltaPath(path)[step])\n",
    "#         else:\n",
    "#              mapSymbols.append(goalPrize)\n",
    "    for pathStep in path:\n",
    "#         print(costs[world[pathStep[1]][pathStep[0]]])\n",
    "        listOfCost.append(costs[world[pathStep[1]][pathStep[0]]])\n",
    "    for i in path:\n",
    "        if i == goal:\n",
    "            world[i[1]][i[0]] = goalPrize\n",
    "        else:\n",
    "            world[i[1]][i[0]] = deltaPath(path)[(i[0],i[1])]\n",
    "#     print(world)\n",
    "    for i in world:\n",
    "        print(\"\".join(i))\n",
    "    \n",
    "    return sum(listOfCost) # replace with the real value!"
   ]
  },
  {
   "cell_type": "code",
   "execution_count": 77,
   "id": "8458e4f4",
   "metadata": {},
   "outputs": [],
   "source": [
    "small_start = (0, 0)\n",
    "small_goal = (2, 0)\n",
    "small_path = a_star_search(small_world, small_start, small_goal, COSTS, MOVES, heuristic)"
   ]
  },
  {
   "cell_type": "code",
   "execution_count": 78,
   "id": "da443e22",
   "metadata": {},
   "outputs": [
    {
     "name": "stdout",
     "output_type": "stream",
     "text": [
      "[(0, 0), (0, 1), (0, 2), (0, 3), (0, 4), (0, 5), (0, 6), (1, 6), (2, 6), (3, 6), (4, 6), (5, 6), (6, 6), (6, 5), (6, 4), (5, 4), (4, 4), (3, 4), (2, 4), (2, 3), (2, 2), (3, 2), (4, 2), (5, 2), (6, 2), (6, 1), (6, 0), (5, 0), (4, 0), (3, 0), (2, 0)]\n"
     ]
    }
   ],
   "source": [
    "print(small_path)"
   ]
  },
  {
   "cell_type": "code",
   "execution_count": 79,
   "id": "b493f398",
   "metadata": {},
   "outputs": [
    {
     "name": "stdout",
     "output_type": "stream",
     "text": [
      "⏬🌲🎁⏪⏪⏪⏪\n",
      "⏬🌲🌲🌲🌲🌲⏫\n",
      "⏬🌲⏩⏩⏩⏩⏫\n",
      "⏬🌾⏫🌾🌾🌾🌾\n",
      "⏬🌲⏫⏪⏪⏪⏪\n",
      "⏬🌲🌲🌲🌲🌲⏫\n",
      "⏩⏩⏩⏩⏩⏩⏫\n"
     ]
    }
   ],
   "source": [
    "small_path_cost = pretty_print_path(small_world, small_path, small_start, small_goal, COSTS)"
   ]
  },
  {
   "cell_type": "code",
   "execution_count": 34,
   "id": "3e5abdd3",
   "metadata": {},
   "outputs": [
    {
     "name": "stdout",
     "output_type": "stream",
     "text": [
      "29\n"
     ]
    }
   ],
   "source": [
    "print(small_path_cost)"
   ]
  },
  {
   "cell_type": "code",
   "execution_count": null,
   "id": "57d7cb31",
   "metadata": {},
   "outputs": [],
   "source": [
    "def DFS( world: List[List[str]], start: Tuple[int, int], goal: Tuple[int, int], moves: List[Tuple[int, int]]) -> List[Tuple[int, int]]:\n",
    "    frontier = []\n",
    "    explored = []\n",
    "    path = []\n",
    "    frontier.append(start)\n",
    "    path.append(start)\n",
    "    while len(frontier) != 0:\n",
    "        current_state = frontier.pop()\n",
    "        if isterminal(goal, current_state):\n",
    "            explored.append(current_state)\n",
    "            path.append(current_state)\n",
    "            return explored\n",
    "        children = successors(current_state, world, moves)\n",
    "        for child in children:\n",
    "            if child not in explored + frontier:\n",
    "                frontier.append(child)\n",
    "        explored.append(current_state)\n",
    "    return explored # change to return the real answer"
   ]
  },
  {
   "cell_type": "code",
   "execution_count": 36,
   "id": "e8324b52",
   "metadata": {},
   "outputs": [],
   "source": [
    "def a(x):\n",
    "    return x+x\n",
    "    \n",
    "    \n",
    "    "
   ]
  },
  {
   "cell_type": "code",
   "execution_count": 37,
   "id": "a0360a67",
   "metadata": {},
   "outputs": [
    {
     "data": {
      "text/plain": [
       "True"
      ]
     },
     "execution_count": 37,
     "metadata": {},
     "output_type": "execute_result"
    }
   ],
   "source": [
    "callable(a)"
   ]
  },
  {
   "cell_type": "code",
   "execution_count": 40,
   "id": "a412e84c",
   "metadata": {},
   "outputs": [],
   "source": [
    "import math\n"
   ]
  },
  {
   "cell_type": "code",
   "execution_count": 48,
   "id": "3c7ca3c4",
   "metadata": {},
   "outputs": [
    {
     "data": {
      "text/plain": [
       "5"
      ]
     },
     "execution_count": 48,
     "metadata": {},
     "output_type": "execute_result"
    }
   ],
   "source": [
    "math.floor(math.sqrt((3)**2 + (4)**2))"
   ]
  },
  {
   "cell_type": "code",
   "execution_count": 82,
   "id": "45e90e94",
   "metadata": {},
   "outputs": [],
   "source": [
    "\n",
    "a = {\"child\":[1,2,3,4]}"
   ]
  },
  {
   "cell_type": "code",
   "execution_count": 84,
   "id": "8adb12ed",
   "metadata": {},
   "outputs": [],
   "source": [
    "a = {\"child1\":[1,2,3,4,5], \"child2\":[10,9,8]}"
   ]
  },
  {
   "cell_type": "code",
   "execution_count": 85,
   "id": "5dc83b50",
   "metadata": {},
   "outputs": [
    {
     "data": {
      "text/plain": [
       "[1, 2, 3, 4, 5]"
      ]
     },
     "execution_count": 85,
     "metadata": {},
     "output_type": "execute_result"
    }
   ],
   "source": [
    "a[\"child1\"]"
   ]
  },
  {
   "cell_type": "code",
   "execution_count": 86,
   "id": "16c65a89",
   "metadata": {},
   "outputs": [],
   "source": [
    "a[\"child1\"]=[1,2]"
   ]
  },
  {
   "cell_type": "code",
   "execution_count": 87,
   "id": "f63e3138",
   "metadata": {},
   "outputs": [
    {
     "name": "stdout",
     "output_type": "stream",
     "text": [
      "{'child1': [1, 2], 'child2': [10, 9, 8]}\n"
     ]
    }
   ],
   "source": [
    "print(a)"
   ]
  },
  {
   "cell_type": "code",
   "execution_count": 89,
   "id": "cc6777bf",
   "metadata": {},
   "outputs": [
    {
     "ename": "TypeError",
     "evalue": "'int' object is not iterable",
     "output_type": "error",
     "traceback": [
      "\u001b[1;31m---------------------------------------------------------------------------\u001b[0m",
      "\u001b[1;31mTypeError\u001b[0m                                 Traceback (most recent call last)",
      "Cell \u001b[1;32mIn[89], line 1\u001b[0m\n\u001b[1;32m----> 1\u001b[0m \u001b[38;5;28;43mtuple\u001b[39;49m\u001b[43m(\u001b[49m\u001b[38;5;241;43m1\u001b[39;49m\u001b[43m)\u001b[49m\n",
      "\u001b[1;31mTypeError\u001b[0m: 'int' object is not iterable"
     ]
    }
   ],
   "source": [
    "tuple(1)"
   ]
  },
  {
   "cell_type": "code",
   "execution_count": 93,
   "id": "d8fb90e6",
   "metadata": {},
   "outputs": [],
   "source": [
    "a =[((1,2),4),((1,2),1), ((1,2),3)]"
   ]
  },
  {
   "cell_type": "code",
   "execution_count": 94,
   "id": "200a8c8b",
   "metadata": {},
   "outputs": [],
   "source": [
    "a.sort(reverse=True)"
   ]
  },
  {
   "cell_type": "code",
   "execution_count": 95,
   "id": "6c0df858",
   "metadata": {},
   "outputs": [
    {
     "name": "stdout",
     "output_type": "stream",
     "text": [
      "[((1, 2), 4), ((1, 2), 3), ((1, 2), 1)]\n"
     ]
    }
   ],
   "source": [
    "print(a)"
   ]
  },
  {
   "cell_type": "code",
   "execution_count": 96,
   "id": "babf81bf",
   "metadata": {},
   "outputs": [],
   "source": [
    "b=[1]"
   ]
  },
  {
   "cell_type": "code",
   "execution_count": 98,
   "id": "09da324a",
   "metadata": {},
   "outputs": [],
   "source": [
    "b.sort(reverse=True)"
   ]
  },
  {
   "cell_type": "code",
   "execution_count": 99,
   "id": "1bfe5f56",
   "metadata": {},
   "outputs": [],
   "source": [
    "c=[]"
   ]
  },
  {
   "cell_type": "code",
   "execution_count": 100,
   "id": "bbea857d",
   "metadata": {},
   "outputs": [],
   "source": [
    "c.sort(reverse=True)"
   ]
  },
  {
   "cell_type": "code",
   "execution_count": null,
   "id": "ead33232",
   "metadata": {},
   "outputs": [],
   "source": [
    "def a_star_search2( world: List[List[str]], start: Tuple[int, int], goal: Tuple[int, int], costs: Dict[str, int], moves: List[Tuple[int, int]], heuristic: Callable) -> List[Tuple[int, int]]:\n",
    "    frontier = []\n",
    "    explored = []\n",
    "    path = {start:[]}\n",
    "    frontier.append((start,heuristic(start, goal, path[start], world, costs))) # Tuple(Node,Heuristic)\n",
    "    while len(frontier) != 0:\n",
    "        print(\"path in A*\", path)\n",
    "        current_state = frontier.pop()[0]\n",
    "        if goal == current_state:\n",
    "            explored.append(current_state)\n",
    "            return path[current_state]\n",
    "        children = successors(current_state, world, moves)\n",
    "        for child in children:\n",
    "            parentList= []\n",
    "            if child not in explored + frontier:\n",
    "                print(\"child:\", child)\n",
    "                if child in path.keys(): # check dict for child\n",
    "                    print(\"update child's parents\")\n",
    "                    parentList = path[child] # copy parent list\n",
    "                    path[child]=parentList.append(current_state) #update parent list\n",
    "                else:\n",
    "                    path[child]=[current_state] # create new child parent dict\n",
    "# #                 print(\"path[child]\", path[child])\n",
    "#                 print(\"frontier:\",frontier)\n",
    "#                 print(\"(child,heuristic)\", (child,heuristic(child, goal, path[child], world, costs)) )\n",
    "                frontier.append((child,heuristic(child, goal, path[child], world, costs))) # weigh child first\n",
    "                frontier.sort(reverse=True)\n",
    "        explored.append(current_state)\n",
    "    return path[current_state] # change to return the real answer"
   ]
  },
  {
   "cell_type": "code",
   "execution_count": null,
   "id": "cc67adc5",
   "metadata": {},
   "outputs": [],
   "source": [
    "def makeListOfParents(child, current_state, path):\n",
    "    if child in path.keys(): # check dict for child\n",
    "        print(\"update child's parents\")\n",
    "        parentList = path[child] # copy parent list\n",
    "        path[child]=parentList.append(current_state) #update parent list\n",
    "    else:\n",
    "        path[child]=[current_state] # create new child parent dict"
   ]
  },
  {
   "cell_type": "code",
   "execution_count": 123,
   "id": "7694be7d",
   "metadata": {},
   "outputs": [],
   "source": [
    "l={}\n",
    "g=[1,2]\n",
    "g.append(3)\n",
    "l[\"child1\"]=g\n"
   ]
  },
  {
   "cell_type": "code",
   "execution_count": 124,
   "id": "d9e5023b",
   "metadata": {},
   "outputs": [
    {
     "name": "stdout",
     "output_type": "stream",
     "text": [
      "{'child1': [1, 2, 3]}\n"
     ]
    }
   ],
   "source": [
    "print(l)"
   ]
  },
  {
   "cell_type": "code",
   "execution_count": 125,
   "id": "d23b1efa",
   "metadata": {},
   "outputs": [
    {
     "name": "stdout",
     "output_type": "stream",
     "text": [
      "{'node0': {'node1': {'node2': {}, 'node3': {}}, 'node4': {}}}\n"
     ]
    }
   ],
   "source": [
    "edges = [\n",
    "    (\"node0\", \"node1\"),\n",
    "    (\"node1\", \"node2\"),\n",
    "    (\"node1\", \"node3\"),\n",
    "    (\"node0\", \"node4\")\n",
    "]\n",
    "\n",
    "nodes = {}\n",
    "root = next(iter(set(start for start, _ in edges) - set(end for _, end in edges)))\n",
    "for start, end in edges:\n",
    "    nodes.setdefault(start, {})[end] = nodes.setdefault(end, {}) \n",
    "\n",
    "tree = { root: nodes[root] }\n",
    "print(tree)"
   ]
  },
  {
   "cell_type": "code",
   "execution_count": null,
   "id": "096bb771",
   "metadata": {},
   "outputs": [],
   "source": []
  }
 ],
 "metadata": {
  "kernelspec": {
   "display_name": "Python (en605645)",
   "language": "python",
   "name": "en605645"
  },
  "language_info": {
   "codemirror_mode": {
    "name": "ipython",
    "version": 3
   },
   "file_extension": ".py",
   "mimetype": "text/x-python",
   "name": "python",
   "nbconvert_exporter": "python",
   "pygments_lexer": "ipython3",
   "version": "3.10.8"
  }
 },
 "nbformat": 4,
 "nbformat_minor": 5
}
