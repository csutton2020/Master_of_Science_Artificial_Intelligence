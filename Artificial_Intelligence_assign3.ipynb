{
 "cells": [
  {
   "cell_type": "markdown",
   "metadata": {},
   "source": [
    "# Module 3 - Programming Assignment\n"
   ]
  },
  {
   "cell_type": "markdown",
   "metadata": {},
   "source": [
    "## k Nearest Neighbors and Model Evaluation\n",
    "\n",
    "In this programming assignment you will use k Nearest Neighbors (kNN) to build a \"model\" that will estimate the compressive strength of various types of concrete. This assignment has several objectives:\n",
    "\n",
    "1. Implement the kNN algorithm with k=9. Remember...the data + distance function is the model in kNN. In addition to asserts that unit test your code, you should \"test drive\" the model, showing output that a non-technical person could interpret.\n",
    "\n",
    "2. You are going to compare the kNN model above against the baseline model described in the course notes (the mean of the training set's target variable). You should use 10 fold cross validation and Mean Squared Error (MSE):\n",
    "\n",
    "$$MSE = \\frac{1}{n}\\sum^n_i (y_i - \\hat{y}_i)^2$$\n",
    "\n",
    "as the evaluation metric (\"error\"). Refer to the course notes for the format your output should take. Don't forget a discussion of the results.\n",
    "\n",
    "3. use validation curves to tune a *hyperparameter* of the model. \n",
    "In this case, the hyperparameter is *k*, the number of neighbors. Don't forget a discussion of the results.\n",
    "\n",
    "4. evaluate the *generalization error* of the new model.\n",
    "Because you may have just created a new, better model, you need a sense of its generalization error, calculate that. Again, what would you like to see as output here? Refer to the course notes. Don't forget a discussion of the results. Did the new model do better than either model in Q2?\n",
    "\n",
    "5. pick one of the \"Choose Your Own Adventure\" options.\n",
    "\n",
    "Refer to the \"course notes\" for this module for most of this assignment.\n",
    "Anytime you just need test/train split, use fold index 0 for the test set and the remainder as the training set.\n",
    "Discuss any results."
   ]
  },
  {
   "cell_type": "markdown",
   "metadata": {},
   "source": [
    "## Load the Data\n",
    "\n",
    "The function `parse_data` loads the data from the specified file and returns a List of Lists. The outer List is the data set and each element (List) is a specific observation. Each value of an observation is for a particular measurement. This is what we mean by \"tidy\" data.\n",
    "\n",
    "The function also returns the *shuffled* data because the data might have been collected in a particular order that *might* bias training."
   ]
  },
  {
   "cell_type": "code",
   "execution_count": 1,
   "metadata": {},
   "outputs": [],
   "source": [
    "import random\n",
    "from typing import List, Dict, Tuple, Callable\n"
   ]
  },
  {
   "cell_type": "code",
   "execution_count": 2,
   "metadata": {},
   "outputs": [],
   "source": [
    "def parse_data(file_name: str) -> List[List]:\n",
    "    data = []\n",
    "    file = open(file_name, \"r\")\n",
    "    for line in file:\n",
    "        datum = [float(value) for value in line.rstrip().split(\",\")]\n",
    "        data.append(datum)\n",
    "    random.shuffle(data)\n",
    "    return data"
   ]
  },
  {
   "cell_type": "code",
   "execution_count": 3,
   "metadata": {},
   "outputs": [],
   "source": [
    "data = parse_data(\"concrete_compressive_strength.csv\")"
   ]
  },
  {
   "cell_type": "code",
   "execution_count": 4,
   "metadata": {
    "tags": []
   },
   "outputs": [
    {
     "data": {
      "text/plain": [
       "[222.4, 0.0, 96.7, 189.3, 4.5, 967.1, 870.3, 28.0, 24.89]"
      ]
     },
     "execution_count": 4,
     "metadata": {},
     "output_type": "execute_result"
    }
   ],
   "source": [
    "data[0]"
   ]
  },
  {
   "cell_type": "code",
   "execution_count": 5,
   "metadata": {},
   "outputs": [
    {
     "data": {
      "text/plain": [
       "1030"
      ]
     },
     "execution_count": 5,
     "metadata": {},
     "output_type": "execute_result"
    }
   ],
   "source": [
    "len(data)"
   ]
  },
  {
   "cell_type": "markdown",
   "metadata": {},
   "source": [
    "There are 1,030 observations and each observation has 8 measurements. The data dictionary for this data set tells us the definitions of the individual variables (columns/indices):\n",
    "\n",
    "| Index | Variable | Definition |\n",
    "|-------|----------|------------|\n",
    "| 0     | cement   | kg in a cubic meter mixture |\n",
    "| 1     | slag     | kg in a cubic meter mixture |\n",
    "| 2     | ash      | kg in a cubic meter mixture |\n",
    "| 3     | water    | kg in a cubic meter mixture |\n",
    "| 4     | superplasticizer | kg in a cubic meter mixture |\n",
    "| 5     | coarse aggregate | kg in a cubic meter mixture |\n",
    "| 6     | fine aggregate | kg in a cubic meter mixture |\n",
    "| 7     | age | days |\n",
    "| 8     | concrete compressive strength | MPa |\n",
    "\n",
    "The target (\"y\") variable is a Index 8, concrete compressive strength in (Mega?) [Pascals](https://en.wikipedia.org/wiki/Pascal_(unit))."
   ]
  },
  {
   "cell_type": "markdown",
   "metadata": {},
   "source": [
    "## Train/Test Splits - n folds\n",
    "\n",
    "With n fold cross validation, we divide our data set into n subgroups called \"folds\" and then use those folds for training and testing. You pick n based on the size of your data set. If you have a small data set--100 observations--and you used n=10, each fold would only have 10 observations. That's probably too small. You want at least 30. At the other extreme, we generally don't use n > 10.\n",
    "\n",
    "With 1,030 observations, n = 10 is fine so we will have 10 folds.\n",
    "`create_folds` will take a list (xs) and split it into `n` equal folds with each fold containing one-tenth of the observations."
   ]
  },
  {
   "cell_type": "code",
   "execution_count": 6,
   "metadata": {},
   "outputs": [],
   "source": [
    "def create_folds(xs: List, n: int) -> List[List[List]]:\n",
    "    k, m = divmod(len(xs), n)\n",
    "    # be careful of generators...\n",
    "    return list(xs[i * k + min(i, m):(i + 1) * k + min(i + 1, m)] for i in range(n))"
   ]
  },
  {
   "cell_type": "code",
   "execution_count": 7,
   "metadata": {},
   "outputs": [],
   "source": [
    "folds = create_folds(data, 10)"
   ]
  },
  {
   "cell_type": "code",
   "execution_count": 8,
   "metadata": {},
   "outputs": [
    {
     "data": {
      "text/plain": [
       "10"
      ]
     },
     "execution_count": 8,
     "metadata": {},
     "output_type": "execute_result"
    }
   ],
   "source": [
    "len(folds)"
   ]
  },
  {
   "cell_type": "markdown",
   "metadata": {},
   "source": [
    "We always use one of the n folds as a test set (and, sometimes, one of the folds as a *pruning* set but not for kNN), and the remaining folds as a training set.\n",
    "We need a function that'll take our n folds and return the train and test sets:"
   ]
  },
  {
   "cell_type": "code",
   "execution_count": 9,
   "metadata": {},
   "outputs": [],
   "source": [
    "def create_train_test(folds: List[List[List]], index: int) -> Tuple[List[List], List[List]]:\n",
    "    training = []\n",
    "    test = []\n",
    "    for i, fold in enumerate(folds):\n",
    "        if i == index:\n",
    "            test = fold\n",
    "        else:\n",
    "            training = training + fold\n",
    "    return training, test"
   ]
  },
  {
   "cell_type": "markdown",
   "metadata": {},
   "source": [
    "We can test the function to give us a train and test datasets where the test set is the fold at index 0:"
   ]
  },
  {
   "cell_type": "code",
   "execution_count": 10,
   "metadata": {},
   "outputs": [],
   "source": [
    "train, test = create_train_test(folds, 0)"
   ]
  },
  {
   "cell_type": "code",
   "execution_count": 11,
   "metadata": {},
   "outputs": [
    {
     "data": {
      "text/plain": [
       "927"
      ]
     },
     "execution_count": 11,
     "metadata": {},
     "output_type": "execute_result"
    }
   ],
   "source": [
    "len(train)"
   ]
  },
  {
   "cell_type": "code",
   "execution_count": 12,
   "metadata": {},
   "outputs": [
    {
     "data": {
      "text/plain": [
       "103"
      ]
     },
     "execution_count": 12,
     "metadata": {},
     "output_type": "execute_result"
    }
   ],
   "source": [
    "len(test)"
   ]
  },
  {
   "cell_type": "markdown",
   "metadata": {},
   "source": [
    "## Answers\n",
    "\n",
    "Answer the questions above in the space provided below, adding cells as you need to.\n",
    "Put everything in the helper functions and document them.\n",
    "Document everything (what you're doing and why).\n",
    "If you're not sure what format the output should take, refer to the course notes and what they do for that particular topic/algorithm."
   ]
  },
  {
   "cell_type": "markdown",
   "metadata": {},
   "source": [
    "## Problem 1: kNN\n",
    "\n",
    "Implement k Nearest Neighbors with k = 9."
   ]
  },
  {
   "cell_type": "code",
   "execution_count": 13,
   "metadata": {},
   "outputs": [],
   "source": [
    "import numpy as np"
   ]
  },
  {
   "cell_type": "markdown",
   "metadata": {},
   "source": [
    "<a id=\"distance\"></a>\n",
    "## distance\n",
    "\n",
    "Simple Euclidean distance measurement as a basis for determining KNN **Used by**: [find_all_distances](#find_all_distances)\n",
    "\n",
    "* **point1**  List[float]: Query point \n",
    "* **point2**  List[float]: Point to measure distance to\n",
    "    \n",
    "\n",
    "* **returns** float Euclidean distance"
   ]
  },
  {
   "cell_type": "code",
   "execution_count": 14,
   "metadata": {},
   "outputs": [],
   "source": [
    "def distance(point1: List[float], point2: List[float])-> float:\n",
    "        return np.sqrt(np.sum((np.array(point1[:7]) - np.array(point2[:7])) ** 2))"
   ]
  },
  {
   "cell_type": "code",
   "execution_count": 15,
   "metadata": {},
   "outputs": [],
   "source": [
    "assert distance([3,4], [0,0]) == 5\n",
    "assert distance([3,4,5], [0,0,0]) ==5*np.sqrt(2)\n",
    "assert distance([3,4,5], [1,1,1]) == np.sqrt(29)"
   ]
  },
  {
   "cell_type": "markdown",
   "metadata": {},
   "source": [
    "<a id=\"find_all_distances\"></a>\n",
    "## find_all_distances\n",
    "\n",
    "Simple Euclidean distance measurement as a basis for determining KNN **Uses** [distance](#distance). **Used by**: [k_best](#k_best)\n",
    "\n",
    "* **queryPoint** List[float]: Query point \n",
    "* **train_set** List[Float]: training fold    \n",
    "\n",
    "* **returns** List[float]: List of distance for query point from the training set"
   ]
  },
  {
   "cell_type": "code",
   "execution_count": 16,
   "metadata": {},
   "outputs": [],
   "source": [
    "def find_all_distances(queryPoint: List[float], train_set: List[List[float]])->List[float] :\n",
    "        distances = [distance(queryPoint, train_x) for train_x in train_set]\n",
    "        return distances"
   ]
  },
  {
   "cell_type": "code",
   "execution_count": 17,
   "metadata": {},
   "outputs": [],
   "source": [
    "assert find_all_distances([0,0,0], [[3,4,5], [0,0,0], [1,1,1]]) == [5*np.sqrt(2), 0, np.sqrt(3)]\n",
    "assert find_all_distances([1,1,1], [[3,4,5], [0,0,0], [1,1,1]]) == [np.sqrt(29), np.sqrt(3), 0]\n",
    "assert find_all_distances([1,1,1], [[0,0,0], [0,0,0], [0,0,0]]) == [np.sqrt(3), np.sqrt(3), np.sqrt(3)]"
   ]
  },
  {
   "cell_type": "markdown",
   "metadata": {},
   "source": [
    "<a id=\"k_best\"></a>\n",
    "## k_best\n",
    "\n",
    "k best distances for a given fold **Uses** [find_all_distances](#find_all_distances). **Used by**: [knn](#knn)\n",
    "\n",
    "* **k** int: number of nearest neighbours  \n",
    "* **train_set** List[List[float]]: fold of training set\n",
    "\n",
    "* **returns** List[float]: List y value for k neighbours"
   ]
  },
  {
   "cell_type": "code",
   "execution_count": 18,
   "metadata": {},
   "outputs": [],
   "source": [
    "def k_best(k: int, list_of_distance: List[float], train_set: List[List[float]]):\n",
    "        k_sorted = np.argsort(list_of_distance)[:k]\n",
    "        return [train_set[i][8] for i in  k_sorted]\n",
    "        "
   ]
  },
  {
   "cell_type": "code",
   "execution_count": 19,
   "metadata": {},
   "outputs": [],
   "source": [
    "assert k_best(1,[5*np.sqrt(2), 0, np.sqrt(3)], [[3,4,5,0,0,0,0,0,3], [0,0,0,0,0,0,0,0,1], [1,1,1,0,0,0,0,0,2]]) ==[1]\n",
    "assert k_best(2,[5*np.sqrt(2), 0, np.sqrt(3)], [[3,4,5,0,0,0,0,0,3], [0,0,0,0,0,0,0,0,1], [1,1,0,0,0,0,0,1,2]]) ==[1, 2]\n",
    "assert k_best(3,[5*np.sqrt(2), 0, np.sqrt(3)], [[3,4,5,0,0,0,0,0,3], [0,0,0,0,0,0,0,0,1], [1,1,1,0,0,0,0,0,2]]) ==[1,2,3]"
   ]
  },
  {
   "cell_type": "markdown",
   "metadata": {},
   "source": [
    "<a id=\"knn\"></a>\n",
    "## knn\n",
    "\n",
    "finds Knn of a dataset using a euclidean distance measurement between a query point (test point) and a training (dataset)\n",
    "\n",
    "* **k** int: number of nearest neighbours  \n",
    "* **train_set** List[List[float]]: training set \n",
    "* **test_set**  List[List[float]]: test set\n",
    "\n",
    "* **returns** List[float]: List y value for k neighbours"
   ]
  },
  {
   "cell_type": "code",
   "execution_count": 424,
   "metadata": {},
   "outputs": [],
   "source": [
    "def knn(k: int, train_set: List[List[float]], query_point: List[float]):\n",
    "    return np.mean(k_best(k, find_all_distances(query_point, train_set), train_set))\n",
    "     "
   ]
  },
  {
   "cell_type": "code",
   "execution_count": null,
   "metadata": {},
   "outputs": [],
   "source": []
  },
  {
   "cell_type": "markdown",
   "metadata": {},
   "source": [
    "## Problem 2: Evaluation vs. The Mean\n",
    "\n",
    "Using Mean Squared Error (MSE) as your evaluation metric, evaluate your implement above and the Null model, the mean."
   ]
  },
  {
   "cell_type": "markdown",
   "metadata": {},
   "source": [
    "<a id=\"null_model\"></a>\n",
    "## null_model\n",
    "\n",
    "null model, the mean value of y in the training set **Used by**: [evaluation](#evaluation)\n",
    "\n",
    "* **train_set** List[List[float]]: training set\n",
    "\n",
    "* **returns** float: mean of y value from training set"
   ]
  },
  {
   "cell_type": "code",
   "execution_count": 425,
   "metadata": {},
   "outputs": [],
   "source": [
    "def null_model(train_set: List[List[float]])-> List[float]:\n",
    "    mean= np.sum([value[8] for value in train_set])/len(train_set)\n",
    "    return mean\n",
    "        "
   ]
  },
  {
   "cell_type": "markdown",
   "metadata": {},
   "source": [
    "<a id=\"MSE\"></a>\n",
    "## MSE\n",
    "\n",
    "finds Knn of a dataset using a eucliden distance measurement between a query point (test point) and a training (dataset) **Used by**: [evaluation](#evaluation)\n",
    "\n",
    "* **result** List[float]: list of results from the model\n",
    "* **test_set** List[float]: list of truth from y values\n",
    "\n",
    "* **returns** float: MSE of model"
   ]
  },
  {
   "cell_type": "code",
   "execution_count": 426,
   "metadata": {},
   "outputs": [],
   "source": [
    "def MSE(predicted, truth):\n",
    "    return np.sum((np.array(predicted)-np.array(truth))**2)/len(predicted)\n",
    "    "
   ]
  },
  {
   "cell_type": "markdown",
   "metadata": {},
   "source": [
    "<a id=\"evaluation\"></a>\n",
    "## evaluation\n",
    "\n",
    "finds Knn of a dataset using a eucliden distance measurement between a query point (test point) and a training (dataset) \n",
    "**Uses** [null_model](#null_model),  [MSE](#MSE). **Used by**: [ find_best_k](# find_best_k)\n",
    "\n",
    "* **switch** int: decides which evaluation method to cover (0= knn, 1= null model, 2= for use in finding best K)\n",
    "\n",
    "* **returns** float: MSE of model"
   ]
  },
  {
   "cell_type": "code",
   "execution_count": 427,
   "metadata": {},
   "outputs": [],
   "source": [
    "def evaluation(switch: int, k: int):\n",
    "    if switch == 0:\n",
    "        print(\"Fold    train    test\")\n",
    "        train_mse_0 =[]\n",
    "        test_mse_0 = []\n",
    "        for i in range(0,10):           \n",
    "            train_new, test_new = create_train_test(folds, i)\n",
    "            print(i,':   {0:1.6g}'.format(MSE(knn(k, train_new, train_new), [train_y[8] for train_y in train_new])),'    {0:1.6g}'.format(MSE(knn(k, train_new, test_new), [test_y[8] for test_y in test_new])))\n",
    "            train_mse_0.append(MSE(knn(k, train_new, train_new), [train_y[8] for train_y in train_new]))\n",
    "            test_mse_0.append(MSE(knn(k, train_new, test_new), [test_y[8] for test_y in test_new]))\n",
    "        print('-----')\n",
    "        print('avg    {0:1.6g}'.format(np.mean(train_mse_0)), '{0:1.6g}'.format(np.mean(test_mse_0)))\n",
    "        print('std    {0:1.6g}'.format(np.std(train_mse_0)), '{0:1.6g}'.format(np.std(test_mse_0)))\n",
    "    if switch == 1:\n",
    "        print(\"Fold    train    test\")\n",
    "        train_mse1 =[]\n",
    "        test_mse1 = []\n",
    "        for i in range(0,10):\n",
    "            train_new, test_new = create_train_test(folds, i)\n",
    "            print(i,':    {0:1.6g}'.format(MSE([null_model(train_new)]*len(train_new), [train_y[8] for train_y in train_new])),'    {0:1.6g}'.format(MSE([null_model(train_new)]*len(test_new), [test_y[8] for test_y in test_new])))\n",
    "            train_mse1.append(MSE([null_model(train_new)]*len(train_new), [train_y[8] for train_y in train_new]))\n",
    "            test_mse1.append(MSE([null_model(train_new)]*len(test_new), [test_y[8] for test_y in test_new]))\n",
    "        print('-----')\n",
    "        print('avg    {0:1.6g}'.format(np.mean(train_mse1)), '{0:1.6g}'.format(np.mean(test_mse1)))\n",
    "        print('std    {0:1.6g}'.format(np.std(train_mse1)), '{0:1.6g}'.format(np.std(test_mse1)))  \n",
    "    if switch == 2:\n",
    "        train_new, test_new = create_train_test(folds, 0)\n",
    "        return [MSE(knn(k, train_new, train_new), [train_y[8] for train_y in train_new]), MSE(knn(k, train_new, test_new), [test_y[8] for test_y in test_new])]\n",
    " \n",
    "    "
   ]
  },
  {
   "cell_type": "code",
   "execution_count": 428,
   "metadata": {},
   "outputs": [
    {
     "name": "stdout",
     "output_type": "stream",
     "text": [
      "Fold    train    test\n",
      "0 :    282.949     241.793\n",
      "1 :    274.889     314.157\n",
      "2 :    276.222     302.206\n",
      "3 :    274.249     320.372\n",
      "4 :    281.777     252.146\n",
      "5 :    277.101     294.255\n",
      "6 :    277.405     291.512\n",
      "7 :    285.049     222.905\n",
      "8 :    280.203     266.426\n",
      "9 :    278.106     285.332\n",
      "-----\n",
      "avg    278.795 279.11\n",
      "std    3.39206 30.538\n"
     ]
    }
   ],
   "source": [
    "evaluation(1, 9)"
   ]
  },
  {
   "cell_type": "code",
   "execution_count": 429,
   "metadata": {},
   "outputs": [
    {
     "name": "stdout",
     "output_type": "stream",
     "text": [
      "Fold    train    test\n",
      "0 :   90642.6     90030.3\n",
      "1 :   90619.8     98914.5\n",
      "2 :   89478.4     84821.5\n",
      "3 :   87666.3     90157.7\n",
      "4 :   91430.9     90342.9\n",
      "5 :   91389.9     88720.3\n",
      "6 :   88034.3     83576.7\n",
      "7 :   90690     86542.6\n",
      "8 :   89046.5     96717.3\n",
      "9 :   89877.3     88525.7\n",
      "-----\n",
      "avg    89887.6 89834.9\n",
      "std    1250.3 4564.02\n"
     ]
    }
   ],
   "source": [
    "evaluation(0, 9)"
   ]
  },
  {
   "cell_type": "markdown",
   "metadata": {},
   "source": [
    "## Problem 3: Hyperparameter Tuning\n",
    "\n",
    "Tune the value of k."
   ]
  },
  {
   "cell_type": "markdown",
   "metadata": {},
   "source": [
    "<a id=\" find_best_k\"></a>\n",
    "## find_best_k\n",
    "\n",
    "performs a search over values of k to create a list of training and test results at each k \n",
    "**Uses** [evaluation](#evaluation) **Used by**: [unkown](#unknown)\n",
    "\n",
    "* **switch** int: decides which evaluation method to cover (0= knn, 1= null model, 2= for use in finding best K)\n",
    "\n",
    "* **returns** float: MSE of model"
   ]
  },
  {
   "cell_type": "code",
   "execution_count": 430,
   "metadata": {},
   "outputs": [],
   "source": [
    "def find_best_k(lowest_k: int, highest_k: int):\n",
    "    list_of_results=[]\n",
    "    for i in range(lowest_k, highest_k):\n",
    "        list_of_results.append(evaluation(2, i))\n",
    "    return list_of_results\n",
    "        "
   ]
  },
  {
   "cell_type": "code",
   "execution_count": 431,
   "metadata": {},
   "outputs": [],
   "source": [
    "import matplotlib.pyplot as plt"
   ]
  },
  {
   "cell_type": "code",
   "execution_count": 432,
   "metadata": {},
   "outputs": [
    {
     "data": {
      "image/png": "[encoded data removed]",
      "text/plain": [
       "<Figure size 640x480 with 1 Axes>"
      ]
     },
     "metadata": {},
     "output_type": "display_data"
    }
   ],
   "source": [
    "list_of_results =find_best_k(1, 21)\n",
    "ks = list(range(1, 21))\n",
    "plt.plot(ks, [result[0] for result in list_of_results], 'b', ks,[result[1] for result in list_of_results], 'r') # plots a blue line for train metrics and a red line for test metrics\n",
    "plt.xlabel('k') # x-axis label\n",
    "plt.ylabel('MSE') # or Average MSE # y-axis label\n",
    "plt.gca().invert_xaxis()\n",
    "plt.show(); # plot it but suppress any noise."
   ]
  },
  {
   "cell_type": "markdown",
   "metadata": {},
   "source": [
    "## Problem 4: Generalization Error\n",
    "\n",
    "Analyze and discuss the generalization error of your model with the value of k from Problem 3."
   ]
  },
  {
   "cell_type": "code",
   "execution_count": null,
   "metadata": {},
   "outputs": [],
   "source": []
  },
  {
   "cell_type": "markdown",
   "metadata": {},
   "source": [
    "Using a value of k = 2 above, I find the folling results when 10 fold cross validation is used. \n",
    "The test result show a slightly higher average and slightly higher standard deviation but the results are close to the\n",
    "training result and are likely to generalize well to new X"
   ]
  },
  {
   "cell_type": "code",
   "execution_count": 436,
   "metadata": {},
   "outputs": [
    {
     "name": "stdout",
     "output_type": "stream",
     "text": [
      "Fold    train    test\n",
      "0 :   1702.46     1772.77\n",
      "1 :   1772.17     1833.2\n",
      "2 :   1832.69     1811.12\n",
      "3 :   1704.01     1861.67\n",
      "4 :   1718.66     1849.83\n",
      "5 :   1621.11     1856.93\n",
      "6 :   1727.43     1811.13\n",
      "7 :   1753.55     1912.74\n",
      "8 :   1638.36     1863.31\n",
      "9 :   1656.29     1602.44\n",
      "-----\n",
      "avg    1712.67 1817.51\n",
      "std    60.9377 80.1862\n"
     ]
    }
   ],
   "source": [
    "# near lowest k value '2'\n",
    "evaluation(0, 2)"
   ]
  },
  {
   "cell_type": "markdown",
   "metadata": {},
   "source": [
    "## Q5: Choose your own adventure\n",
    "\n",
    "You have three options for the next part:\n",
    "\n",
    "1. You can implement mean normalization (also called \"z-score standardization\") of the *features*; do not normalize the target, y. See if this improves the generalization error of your model (middle).\n",
    "\n",
    "2. You can implement *learning curves* to see if more data would likely improve your model (easiest).\n",
    "\n",
    "3. You can implement *weighted* kNN and use the real valued GA to choose the weights. weighted kNN assigns a weight to each item in the Euclidean distance calculation. For two points, j and k:\n",
    "$$\\sqrt{\\sum w_i (x^k_i - x^j_i)^2}$$\n",
    "\n",
    "You can think of normal Euclidean distance as the case where $w_i = 1$ for all features  (ambitious, but fun...you need to start EARLY because it takes a really long time to run).\n",
    "\n",
    "The easier the adventure the more correct it must be..."
   ]
  },
  {
   "cell_type": "code",
   "execution_count": 438,
   "metadata": {},
   "outputs": [],
   "source": [
    "def standardize(train_set: List[List[float]], test_set: List[List[float]])-> (List[List[float]], List[List[float]]):\n",
    "    train_array_transposed=np.array(train_set).T\n",
    "    means =[]\n",
    "    stds =[]\n",
    "    for i in range(0,8):\n",
    "        means.append(np.mean(train_arry_transposed[i]))\n",
    "        stds.append(np.std(train_arry_transposed[i]))\n",
    "    solution =[[]]\n",
    "    solution[0] = [means[0]]*len(train_set)\n",
    "        \n"
   ]
  },
  {
   "cell_type": "markdown",
   "metadata": {},
   "source": [
    "## Before You Submit...\n",
    "\n",
    "1. Did you provide output exactly as requested?\n",
    "2. Did you re-execute the entire notebook? (\"Restart Kernel and Rull All Cells...\")\n",
    "3. If you did not complete the assignment or had difficulty please explain what gave you the most difficulty in the Markdown cell below.\n",
    "4. Did you change the name of the file to `jhed_id.ipynb`?\n",
    "\n",
    "Do not submit any other files."
   ]
  }
 ],
 "metadata": {
  "kernelspec": {
   "display_name": "Python 3 (ipykernel)",
   "language": "python",
   "name": "python3"
  },
  "language_info": {
   "codemirror_mode": {
    "name": "ipython",
    "version": 3
   },
   "file_extension": ".py",
   "mimetype": "text/x-python",
   "name": "python",
   "nbconvert_exporter": "python",
   "pygments_lexer": "ipython3",
   "version": "3.11.7"
  },
  "toc": {
   "colors": {
    "hover_highlight": "#DAA520",
    "navigate_num": "#000000",
    "navigate_text": "#333333",
    "running_highlight": "#FF0000",
    "selected_highlight": "#FFD700",
    "sidebar_border": "#EEEEEE",
    "wrapper_background": "#FFFFFF"
   },
   "moveMenuLeft": true,
   "nav_menu": {
    "height": "117px",
    "width": "252px"
   },
   "navigate_menu": true,
   "number_sections": true,
   "sideBar": true,
   "threshold": 4,
   "toc_cell": false,
   "toc_section_display": "block",
   "toc_window_display": false,
   "widenNotebook": false
  }
 },
 "nbformat": 4,
 "nbformat_minor": 4
}
