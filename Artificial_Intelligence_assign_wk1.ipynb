{
 "cells": [
  {
   "cell_type": "markdown",
   "metadata": {},
   "source": [
    "# Module 1 - Programming Assignment\n"
   ]
  },
  {
   "cell_type": "markdown",
   "metadata": {},
   "source": [
    "# State Space Search with A* Search\n",
    "\n",
    "You are going to implement the A\\* Search algorithm for navigation problems.\n",
    "\n",
    "\n",
    "## Motivation\n",
    "\n",
    "Search is often used for path-finding in video games. Although the characters in a video game often move in continuous spaces,\n",
    "it is trivial to layout a \"waypoint\" system as a kind of navigation grid over the continuous space. Then if the character needs\n",
    "to get from Point A to Point B, it does a line of sight (LOS) scan to find the nearest waypoint (let's call it Waypoint A) and\n",
    "finds the nearest, LOS waypoint to Point B (let's call it Waypoint B). The agent then does a A* search for Waypoint B from Waypoint A to find the shortest path. The entire path is thus Point A to Waypoint A to Waypoint B to Point B.\n",
    "\n",
    "We're going to simplify the problem by working in a grid world. The symbols that form the grid have a special meaning as they\n",
    "specify the type of the terrain and the cost to enter a grid cell with that type of terrain:\n",
    "\n",
    "```\n",
    "token   terrain    cost \n",
    "🌾       plains     1\n",
    "🌲       forest     3\n",
    "⛰       hills      5\n",
    "🐊       swamp      7\n",
    "🌋       mountains  impassible\n",
    "```\n",
    "\n",
    "We can think of the raw format of the map as being something like:\n",
    "\n",
    "```\n",
    "🌾🌾🌾🌾🌲🌾🌾\n",
    "🌾🌾🌾🌲🌲🌲🌾\n",
    "🌾⛰⛰⛰🌾🌾🌾\n",
    "🌾🌾⛰⛰🌾🌾🌾\n",
    "🌾🌾⛰🌾🌾🌲🌲\n",
    "🌾🌾🌾🌾🌲🌲🌲\n",
    "🌾🌾🌾🌾🌾🌾🌾\n",
    "```"
   ]
  },
  {
   "cell_type": "markdown",
   "metadata": {},
   "source": [
    "## The World\n",
    "\n",
    "Given a map like the one above, we can easily represent each row as a `List` and the entire map as `List of Lists`:"
   ]
  },
  {
   "cell_type": "code",
   "execution_count": 1,
   "metadata": {},
   "outputs": [],
   "source": [
    "full_world = [\n",
    "['🌾', '🌾', '🌾', '🌾', '🌾', '🌲', '🌲', '🌲', '🌲', '🌲', '🌲', '🌲', '🌲', '🌲', '🌲', '🌾', '🌾', '🌾', '🌾', '🌾', '🌾', '🌾', '🌾', '🌾', '🌾', '🌾', '🌾'],\n",
    "['🌾', '🌾', '🌾', '🌾', '🌾', '🌾', '🌾', '🌲', '🌲', '🌲', '🌲', '🌲', '🌲', '🌲', '🌲', '🌲', '🌾', '🌾', '🌋', '🌋', '🌋', '🌋', '🌋', '🌋', '🌋', '🌾', '🌾'],\n",
    "['🌾', '🌾', '🌾', '🌾', '🌋', '🌋', '🌲', '🌲', '🌲', '🌲', '🌲', '🌲', '🌲', '🌲', '🌲', '🌲', '🌲', '🌋', '🌋', '🌋', '⛰', '⛰', '⛰', '🌋', '🌋', '⛰', '⛰'],\n",
    "['🌾', '🌾', '🌾', '🌾', '⛰', '🌋', '🌋', '🌋', '🌲', '🌲', '🌲', '🌲', '🐊', '🐊', '🌲', '🌲', '🌲', '🌲', '🌲', '🌾', '🌾', '⛰', '⛰', '🌋', '🌋', '⛰', '🌾'],\n",
    "['🌾', '🌾', '🌾', '⛰', '⛰', '🌋', '🌋', '🌲', '🌲', '🌾', '🌾', '🐊', '🐊', '🐊', '🐊', '🌲', '🌲', '🌲', '🌾', '🌾', '🌾', '⛰', '🌋', '🌋', '🌋', '⛰', '🌾'],\n",
    "['🌾', '⛰', '⛰', '⛰', '🌋', '🌋', '⛰', '⛰', '🌾', '🌾', '🌾', '🌾', '🐊', '🐊', '🐊', '🐊', '🐊', '🌾', '🌾', '🌾', '🌾', '🌾', '⛰', '🌋', '⛰', '🌾', '🌾'],\n",
    "['🌾', '⛰', '⛰', '🌋', '🌋', '⛰', '⛰', '🌾', '🌾', '🌾', '🌾', '⛰', '🌋', '🌋', '🌋', '🐊', '🐊', '🐊', '🌾', '🌾', '🌾', '🌾', '🌾', '⛰', '🌾', '🌾', '🌾'],\n",
    "['🌾', '🌾', '⛰', '⛰', '⛰', '⛰', '⛰', '🌾', '🌾', '🌾', '🌾', '🌾', '🌾', '⛰', '🌋', '🌋', '🌋', '🐊', '🐊', '🐊', '🌾', '🌾', '⛰', '⛰', '⛰', '🌾', '🌾'],\n",
    "['🌾', '🌾', '🌾', '⛰', '⛰', '⛰', '🌾', '🌾', '🌾', '🌾', '🌾', '🌾', '⛰', '⛰', '🌋', '🌋', '🌾', '🐊', '🐊', '🌾', '🌾', '⛰', '⛰', '⛰', '🌾', '🌾', '🌾'],\n",
    "['🌾', '🌾', '🌾', '🐊', '🐊', '🐊', '🌾', '🌾', '⛰', '⛰', '⛰', '🌋', '🌋', '🌋', '🌋', '🌾', '🌾', '🌾', '🐊', '🌾', '⛰', '⛰', '⛰', '🌾', '🌾', '🌾', '🌾'],\n",
    "['🌾', '🌾', '🐊', '🐊', '🐊', '🐊', '🐊', '🌾', '⛰', '⛰', '🌋', '🌋', '🌋', '⛰', '🌾', '🌾', '🌾', '🌾', '🌾', '⛰', '🌋', '🌋', '🌋', '⛰', '🌾', '🌾', '🌾'],\n",
    "['🌾', '🐊', '🐊', '🐊', '🐊', '🐊', '🌾', '🌾', '⛰', '🌋', '🌋', '⛰', '🌾', '🌾', '🌾', '🌾', '🐊', '🐊', '🌾', '🌾', '⛰', '🌋', '🌋', '⛰', '🌾', '🌾', '🌾'],\n",
    "['🐊', '🐊', '🐊', '🐊', '🐊', '🌾', '🌾', '⛰', '⛰', '🌋', '🌋', '⛰', '🌾', '🐊', '🐊', '🐊', '🐊', '🌾', '🌾', '🌾', '⛰', '🌋', '⛰', '🌾', '🌾', '🌾', '🌾'],\n",
    "['🌾', '🐊', '🐊', '🐊', '🐊', '🌾', '🌾', '⛰', '🌲', '🌲', '⛰', '🌾', '🌾', '🌾', '🌾', '🐊', '🐊', '🐊', '🐊', '🌾', '🌾', '⛰', '🌾', '🌾', '🌾', '🌾', '🌾'],\n",
    "['🌾', '🌾', '🌾', '🌾', '🌋', '🌾', '🌾', '🌲', '🌲', '🌲', '🌲', '⛰', '⛰', '⛰', '⛰', '🌾', '🐊', '🐊', '🐊', '🌾', '🌾', '⛰', '🌋', '⛰', '🌾', '🌾', '🌾'],\n",
    "['🌾', '🌾', '🌾', '🌋', '🌋', '🌋', '🌲', '🌲', '🌲', '🌲', '🌲', '🌲', '🌋', '🌋', '🌋', '⛰', '⛰', '🌾', '🐊', '🌾', '⛰', '🌋', '🌋', '⛰', '🌾', '🌾', '🌾'],\n",
    "['🌾', '🌾', '🌋', '🌋', '🌲', '🌲', '🌲', '🌲', '🌲', '🌲', '🌲', '🌲', '🌲', '🌲', '🌋', '🌋', '🌋', '🌾', '🌾', '🌋', '🌋', '🌋', '🌾', '🌾', '🌾', '🌾', '🌾'],\n",
    "['🌾', '🌾', '🌾', '🌋', '🌋', '🌲', '🌲', '🌲', '🌲', '🌲', '🌲', '🌲', '🌲', '🌲', '🌲', '🌲', '🌋', '🌋', '🌋', '🌋', '🌾', '🌾', '🌾', '🌾', '🌾', '🌾', '🌾'],\n",
    "['🌾', '🌾', '🌾', '🌋', '🌋', '🌋', '🌲', '🌲', '🌲', '🌲', '🌲', '🌲', '🌲', '🌲', '🌾', '🌾', '🌾', '⛰', '⛰', '🌾', '🌾', '🌾', '🌾', '🌾', '🌾', '🌾', '🌾'],\n",
    "['🌾', '🌾', '🌾', '🌾', '🌋', '🌋', '🌋', '🌲', '🌲', '🌲', '🌲', '🌲', '🌲', '🌾', '🌾', '🌾', '🌾', '🌾', '🌾', '🌾', '🌾', '🌾', '🌾', '🐊', '🐊', '🐊', '🐊'],\n",
    "['🌾', '🌾', '⛰', '⛰', '⛰', '⛰', '🌋', '🌋', '🌲', '🌲', '🌲', '🌲', '🌲', '🌾', '🌋', '🌾', '🌾', '🌾', '🌾', '🌾', '🐊', '🐊', '🐊', '🐊', '🐊', '🐊', '🐊'],\n",
    "['🌾', '🌾', '🌾', '🌾', '⛰', '⛰', '⛰', '🌋', '🌋', '🌋', '🌲', '🌲', '🌋', '🌋', '🌾', '🌾', '🌾', '🌾', '🌾', '🌾', '🐊', '🐊', '🐊', '🐊', '🐊', '🐊', '🐊'],\n",
    "['🌾', '🌾', '🌾', '🌾', '🌾', '🌾', '⛰', '⛰', '⛰', '🌋', '🌋', '🌋', '🌋', '🌾', '🌾', '🌾', '🌾', '⛰', '⛰', '🌾', '🌾', '🐊', '🐊', '🐊', '🐊', '🐊', '🐊'],\n",
    "['🌾', '⛰', '⛰', '🌾', '🌾', '⛰', '⛰', '⛰', '⛰', '⛰', '🌾', '🌾', '🌾', '🌾', '🌾', '⛰', '⛰', '🌋', '🌋', '⛰', '⛰', '🌾', '🐊', '🐊', '🐊', '🐊', '🐊'],\n",
    "['⛰', '🌋', '⛰', '⛰', '⛰', '⛰', '🌾', '🌾', '🌾', '🌾', '🌾', '🌋', '🌋', '🌋', '⛰', '⛰', '🌋', '🌋', '🌾', '🌋', '🌋', '⛰', '⛰', '🐊', '🐊', '🐊', '🐊'],\n",
    "['⛰', '🌋', '🌋', '🌋', '⛰', '🌾', '🌾', '🌾', '🌾', '🌾', '⛰', '⛰', '🌋', '🌋', '🌋', '🌋', '⛰', '⛰', '⛰', '⛰', '🌋', '🌋', '🌋', '🐊', '🐊', '🐊', '🐊'],\n",
    "['⛰', '⛰', '🌾', '🌾', '🌾', '🌾', '🌾', '🌾', '🌾', '🌾', '🌾', '🌾', '⛰', '⛰', '⛰', '⛰', '⛰', '🌾', '🌾', '🌾', '🌾', '⛰', '⛰', '⛰', '🌾', '🌾', '🌾']\n",
    "]"
   ]
  },
  {
   "cell_type": "code",
   "execution_count": 2,
   "metadata": {},
   "outputs": [
    {
     "name": "stdout",
     "output_type": "stream",
     "text": [
      "🌾🌾🌾🌾🌾🌲🌲🌲🌲🌲🌲🌲🌲🌲🌲🌾🌾🌾🌾🌾🌾🌾🌾🌾🌾🌾🌾\n",
      "🌾🌾🌾🌾🌾🌾🌾🌲🌲🌲🌲🌲🌲🌲🌲🌲🌾🌾🌋🌋🌋🌋🌋🌋🌋🌾🌾\n",
      "🌾🌾🌾🌾🌋🌋🌲🌲🌲🌲🌲🌲🌲🌲🌲🌲🌲🌋🌋🌋⛰⛰⛰🌋🌋⛰⛰\n",
      "🌾🌾🌾🌾⛰🌋🌋🌋🌲🌲🌲🌲🐊🐊🌲🌲🌲🌲🌲🌾🌾⛰⛰🌋🌋⛰🌾\n",
      "🌾🌾🌾⛰⛰🌋🌋🌲🌲🌾🌾🐊🐊🐊🐊🌲🌲🌲🌾🌾🌾⛰🌋🌋🌋⛰🌾\n",
      "🌾⛰⛰⛰🌋🌋⛰⛰🌾🌾🌾🌾🐊🐊🐊🐊🐊🌾🌾🌾🌾🌾⛰🌋⛰🌾🌾\n",
      "🌾⛰⛰🌋🌋⛰⛰🌾🌾🌾🌾⛰🌋🌋🌋🐊🐊🐊🌾🌾🌾🌾🌾⛰🌾🌾🌾\n",
      "🌾🌾⛰⛰⛰⛰⛰🌾🌾🌾🌾🌾🌾⛰🌋🌋🌋🐊🐊🐊🌾🌾⛰⛰⛰🌾🌾\n",
      "🌾🌾🌾⛰⛰⛰🌾🌾🌾🌾🌾🌾⛰⛰🌋🌋🌾🐊🐊🌾🌾⛰⛰⛰🌾🌾🌾\n",
      "🌾🌾🌾🐊🐊🐊🌾🌾⛰⛰⛰🌋🌋🌋🌋🌾🌾🌾🐊🌾⛰⛰⛰🌾🌾🌾🌾\n",
      "🌾🌾🐊🐊🐊🐊🐊🌾⛰⛰🌋🌋🌋⛰🌾🌾🌾🌾🌾⛰🌋🌋🌋⛰🌾🌾🌾\n",
      "🌾🐊🐊🐊🐊🐊🌾🌾⛰🌋🌋⛰🌾🌾🌾🌾🐊🐊🌾🌾⛰🌋🌋⛰🌾🌾🌾\n",
      "🐊🐊🐊🐊🐊🌾🌾⛰⛰🌋🌋⛰🌾🐊🐊🐊🐊🌾🌾🌾⛰🌋⛰🌾🌾🌾🌾\n",
      "🌾🐊🐊🐊🐊🌾🌾⛰🌲🌲⛰🌾🌾🌾🌾🐊🐊🐊🐊🌾🌾⛰🌾🌾🌾🌾🌾\n",
      "🌾🌾🌾🌾🌋🌾🌾🌲🌲🌲🌲⛰⛰⛰⛰🌾🐊🐊🐊🌾🌾⛰🌋⛰🌾🌾🌾\n",
      "🌾🌾🌾🌋🌋🌋🌲🌲🌲🌲🌲🌲🌋🌋🌋⛰⛰🌾🐊🌾⛰🌋🌋⛰🌾🌾🌾\n",
      "🌾🌾🌋🌋🌲🌲🌲🌲🌲🌲🌲🌲🌲🌲🌋🌋🌋🌾🌾🌋🌋🌋🌾🌾🌾🌾🌾\n",
      "🌾🌾🌾🌋🌋🌲🌲🌲🌲🌲🌲🌲🌲🌲🌲🌲🌋🌋🌋🌋🌾🌾🌾🌾🌾🌾🌾\n",
      "🌾🌾🌾🌋🌋🌋🌲🌲🌲🌲🌲🌲🌲🌲🌾🌾🌾⛰⛰🌾🌾🌾🌾🌾🌾🌾🌾\n",
      "🌾🌾🌾🌾🌋🌋🌋🌲🌲🌲🌲🌲🌲🌾🌾🌾🌾🌾🌾🌾🌾🌾🌾🐊🐊🐊🐊\n",
      "🌾🌾⛰⛰⛰⛰🌋🌋🌲🌲🌲🌲🌲🌾🌋🌾🌾🌾🌾🌾🐊🐊🐊🐊🐊🐊🐊\n",
      "🌾🌾🌾🌾⛰⛰⛰🌋🌋🌋🌲🌲🌋🌋🌾🌾🌾🌾🌾🌾🐊🐊🐊🐊🐊🐊🐊\n",
      "🌾🌾🌾🌾🌾🌾⛰⛰⛰🌋🌋🌋🌋🌾🌾🌾🌾⛰⛰🌾🌾🐊🐊🐊🐊🐊🐊\n",
      "🌾⛰⛰🌾🌾⛰⛰⛰⛰⛰🌾🌾🌾🌾🌾⛰⛰🌋🌋⛰⛰🌾🐊🐊🐊🐊🐊\n",
      "⛰🌋⛰⛰⛰⛰🌾🌾🌾🌾🌾🌋🌋🌋⛰⛰🌋🌋🌾🌋🌋⛰⛰🐊🐊🐊🐊\n",
      "⛰🌋🌋🌋⛰🌾🌾🌾🌾🌾⛰⛰🌋🌋🌋🌋⛰⛰⛰⛰🌋🌋🌋🐊🐊🐊🐊\n",
      "⛰⛰🌾🌾🌾🌾🌾🌾🌾🌾🌾🌾⛰⛰⛰⛰⛰🌾🌾🌾🌾⛰⛰⛰🌾🌾🌾\n"
     ]
    }
   ],
   "source": [
    "for line in full_world:\n",
    "    print(\"\".join(line))"
   ]
  },
  {
   "cell_type": "markdown",
   "metadata": {},
   "source": [
    "## Warning\n",
    "\n",
    "One implication of this representation is that (x, y) is world[ y][ x] so that (3, 2) is world[ 2][ 3] and world[ 7][ 9] is (9, 7). Yes, there are many ways to do this. I picked this representation because when you look at it, it *looks* like a regular x, y cartesian grid and it's easy to print out.\n",
    "\n",
    "It is often easier to begin your programming by operating on test input that has an obvious solution. If we had a small 7x7 world with the following characteristics:"
   ]
  },
  {
   "cell_type": "code",
   "execution_count": 3,
   "metadata": {},
   "outputs": [],
   "source": [
    "small_world = [\n",
    "    ['🌾', '🌲', '🌲', '🌲', '🌲', '🌲', '🌲'],\n",
    "    ['🌾', '🌲', '🌲', '🌲', '🌲', '🌲', '🌲'],\n",
    "    ['🌾', '🌲', '🌲', '🌲', '🌲', '🌲', '🌲'],\n",
    "    ['🌾', '🌾', '🌾', '🌾', '🌾', '🌾', '🌾'],\n",
    "    ['🌲', '🌲', '🌲', '🌲', '🌲', '🌲', '🌾'],\n",
    "    ['🌲', '🌲', '🌲', '🌲', '🌲', '🌲', '🌾'],\n",
    "    ['🌲', '🌲', '🌲', '🌲', '🌲', '🌲', '🌾']\n",
    "]"
   ]
  },
  {
   "cell_type": "markdown",
   "metadata": {},
   "source": [
    "**what do you expect the policy would be?** Think about it for a bit. This will help you with your programming and debugging."
   ]
  },
  {
   "cell_type": "markdown",
   "metadata": {},
   "source": [
    "## States and State Representation\n",
    "\n",
    "The canonical pieces of a State Space Search problem are the States, Actions, Transitions and Costs. \n",
    "\n",
    "We'll start with the state representation. For the navigation problem, a state is the current position of the agent, `(x,y)`. The entire set of possible states is implicitly represented by the world map."
   ]
  },
  {
   "cell_type": "markdown",
   "metadata": {},
   "source": [
    "## Actions and Transitions\n",
    "\n",
    "Next we need to specify the actions. In general, there are a number of different possible action sets in such a world. The agent might be constrained to move north/south/east/west or diagonal moves might be permitted as well (or really anything). When combined with the set of States, the *permissible* actions forms the Transition set.\n",
    "\n",
    "Rather than enumerate the Transition set directly, for this problem it's easier to calculate the available actions and transitions on the fly. This can be done by specifying a *movement model* as offsets to the current state and then checking to see which of the potential successor states are actually permitted. This can be done in the successor function mentioned in the pseudocode.\n",
    "\n",
    "One such example of a movement model is shown below."
   ]
  },
  {
   "cell_type": "code",
   "execution_count": 4,
   "metadata": {},
   "outputs": [],
   "source": [
    "MOVES = [(0,-1), (1,0), (0,1), (-1,0)]# down, right , up , left"
   ]
  },
  {
   "cell_type": "markdown",
   "metadata": {},
   "source": [
    "## Costs\n",
    "\n",
    "We can encode the costs described above in a `Dict`:"
   ]
  },
  {
   "cell_type": "code",
   "execution_count": 5,
   "metadata": {},
   "outputs": [],
   "source": [
    "COSTS = { '🌾': 1, '🌲': 3, '⛰': 5, '🐊': 7}"
   ]
  },
  {
   "cell_type": "markdown",
   "metadata": {},
   "source": [
    "## Specification\n",
    "\n",
    "You will implement a function called `a_star_search` that takes the parameters and returns the value as specified below. The return value is going to look like this:\n",
    "\n",
    "`[(0,1), (0,1), (0,1), (1,0), (1,0), (1,0), (1,0), (1,0), (1,0), (0,1), (0,1), (0,1)]`\n",
    "\n",
    "You should also implement a function called `pretty_print_path`. \n",
    "The `pretty_print_path` function prints an ASCII representation of the path generated by the `a_star_search` on top of the terrain map. \n",
    "For example, for the test world, it would print this:\n",
    "\n",
    "```\n",
    "⏬🌲🌲🌲🌲🌲🌲\n",
    "⏬🌲🌲🌲🌲🌲🌲\n",
    "⏬🌲🌲🌲🌲🌲🌲\n",
    "⏩⏩⏩⏩⏩⏩⏬\n",
    "🌲🌲🌲🌲🌲🌲⏬\n",
    "🌲🌲🌲🌲🌲🌲⏬\n",
    "🌲🌲🌲🌲🌲🌲🎁\n",
    "```\n",
    "\n",
    "using ⏩,⏪,⏫ ⏬ to represent actions and `🎁` to represent the goal. (Note the format of the output...there are no spaces, commas, or extraneous characters). You are printing the path over the terrain.\n",
    "This is an impure function (because it has side effects, the printing, before returning anything).\n",
    "\n",
    "Note that in Python:\n",
    "```\n",
    "> a = [\"*\", \"-\", \"*\"]\n",
    "> \"\".join(a)\n",
    "*-*\n",
    "```\n",
    "* Do not print raw data structures\n",
    "* Do not insert unneeded/unrequested spaces\n",
    "* Use the provided emojis!\n",
    "\n",
    "### Additional comments\n",
    "\n",
    "As Python is an interpreted language, you're going to need to insert all of your functions *before* the actual `a_star_search` function implementation. \n",
    "Do not make unwarranted assumptions (for example, do not assume that the start is always (0, 0).\n",
    "Do not refer to global variables, pass them as parameters (functional programming).\n",
    "\n",
    "Simple and correct is better than inefficient and incorrect, or worse, incomplete.\n",
    "For example, you can use a simple List, with some helper functions, as a Stack or a Queue or a Priority Queue.\n",
    "Avoid the Python implementations of HeapQ, PriorityQueue implementation unless you are very sure about what you're doing as they require *immutable* keys."
   ]
  },
  {
   "cell_type": "code",
   "execution_count": 6,
   "metadata": {},
   "outputs": [],
   "source": [
    "from typing import List, Tuple, Dict, Callable\n",
    "from copy import deepcopy\n",
    "import math"
   ]
  },
  {
   "cell_type": "markdown",
   "metadata": {},
   "source": [
    "*add as many markdown and code cells here as you need for helper functions. We have added `heuristic` for you*"
   ]
  },
  {
   "cell_type": "markdown",
   "metadata": {},
   "source": [
    "<a id=\"successors\"></a>\n",
    "## seccessors\n",
    "\n",
    "\n",
    "\n",
    "* **state** Tuple[int, int]: the starting location of the the node being checked\n",
    "* **world** List[List[str]]: the actual context for the navigation problem.\n",
    "\n",
    "* **returns** "
   ]
  },
  {
   "cell_type": "code",
   "execution_count": 7,
   "metadata": {},
   "outputs": [],
   "source": [
    "def successors(state: Tuple[int, int], w:  List[List[str]], m: List[Tuple[int, int]]) -> [Tuple[int, int]]:\n",
    "    children = []\n",
    "    world_size_Y = len(w)\n",
    "    world_size_X = len(w[0])\n",
    "    for move in m:\n",
    "        if 0 <= tuple(sum(x) for x in zip(state, move))[0] < world_size_X and 0 <=tuple(sum(x) for x in zip(state, move))[1] < world_size_Y:\n",
    "            children.append(tuple(sum(x) for x in zip(state, move)))\n",
    "        else:\n",
    "            pass # illegal move off of the board\n",
    "#     print(children)\n",
    "    \n",
    "    return children "
   ]
  },
  {
   "cell_type": "markdown",
   "metadata": {},
   "source": [
    "<a id=\"heuristic\"></a>\n",
    "## heuristic\n",
    "\n",
    "measures the estimated cost of reaching the goal\n",
    "\n",
    "* **state** Tuple[int, int]: the starting location of the the node being checked\n",
    "* **goal** Tuple[int, int]: the desired goal position for the bot, `(x, y)`.\n",
    "* **path** List[Tuple[int, int]]: the path from start to goal, in offsets.\n",
    "* **world** List[List[str]]: the actual context for the navigation problem.\n",
    "* **costs** Dict[str, int]: is a `Dict` of costs for each type of terrain in **world**.\n",
    "\n",
    "* **returns** Tuple(int, int): The total cost of the heuristic, The cost from start to node n"
   ]
  },
  {
   "cell_type": "code",
   "execution_count": 8,
   "metadata": {},
   "outputs": [],
   "source": [
    "def heuristic(state: Tuple[int, int], goal: Tuple[int, int], path: List[Tuple[int, int]], world: List[List[str]], costs: Dict[str, int]) -> int:\n",
    "    f_cost= 0 # total cost\n",
    "    g_cost= 0 # cost from start to n\n",
    "    h_cost= 0 # cost from n to goal\n",
    "    listOfCost = []\n",
    "    h_cost= math.floor(math.sqrt((goal[0] - state[0])**2 + (goal[1] - state[1])**2))\n",
    "    for pathStep in path:\n",
    "        listOfCost.append(costs[world[pathStep[1]][pathStep[0]]])\n",
    "    g_cost= sum(listOfCost)\n",
    "    f_cost= g_cost+ h_cost\n",
    "    return f_cost"
   ]
  },
  {
   "cell_type": "code",
   "execution_count": 9,
   "metadata": {},
   "outputs": [],
   "source": [
    "assert heuristic((0,0),(3,4), [(0,0)], small_world, COSTS) == 6\n",
    "assert heuristic((0,6),(3,4), [(0,0)], small_world, COSTS) == 4\n",
    "assert heuristic((0,6),(3,4), [(0,0), (0,1)], small_world, COSTS) == 5"
   ]
  },
  {
   "cell_type": "markdown",
   "metadata": {},
   "source": [
    "<a id=\"a_star_search\"></a>\n",
    "## a_star_search\n",
    "\n",
    "performs a graph search based on estimated (heristic measure) of cost to reach the goal\n",
    "\n",
    "* **world** List[List[str]]: the actual context for the navigation problem.\n",
    "* **start** Tuple[int, int]: the starting location of the bot, `(x, y)`.\n",
    "* **goal** Tuple[int, int]: the desired goal position for the bot, `(x, y)`.\n",
    "* **costs** Dict[str, int]: is a `Dict` of costs for each type of terrain in **world**.\n",
    "* **moves** List[Tuple[int, int]]: the legal movement model expressed in offsets in **world**.\n",
    "* **heuristic** Callable: is a heuristic function, $h(n)$.\n",
    "\n",
    "\n",
    "**returns** List[Tuple[int, int]]: the offsets needed to get from start state to the goal as a `List`.\n"
   ]
  },
  {
   "cell_type": "code",
   "execution_count": 10,
   "metadata": {},
   "outputs": [],
   "source": [
    "def a_star_search( world: List[List[str]], start: Tuple[int, int], goal: Tuple[int, int], costs: Dict[str, int], moves: List[Tuple[int, int]], heuristic: Callable) -> List[Tuple[int, int]]:\n",
    "    frontier = []\n",
    "    explored = []\n",
    "    path = {start:[]}\n",
    "    frontier.append((start,heuristic(start, goal, path[start], world, costs))) # Tuple(Node,Heuristic)\n",
    "    while len(frontier) != 0:\n",
    "        print(\"path in A*\", path)\n",
    "        print(\"frontier\", frontier)\n",
    "        current_state = frontier.pop()[0]\n",
    "        if goal == current_state:\n",
    "            explored.append(current_state)\n",
    "            return path[current_state]\n",
    "        children = successors(current_state, world, moves) # maybe successor should have cost via heuristic. however heuristic requires path which isn't availble at this stage\n",
    "        for child in children:\n",
    "            parentList= []\n",
    "            if child not in explored + frontier: # problem created here because (child, explored, frontier) are not similar for checking this\n",
    "                parentList.append(current_state)\n",
    "                path[child]= parentList # create new child parent dict\n",
    "                frontier.append((child,heuristic(child, goal, path[child], world, costs))) # weigh child first\n",
    "                frontier.sort(reverse=True)         \n",
    "        explored.append(current_state)\n",
    "    return 0 # change to return the real answer"
   ]
  },
  {
   "cell_type": "markdown",
   "metadata": {},
   "source": [
    "<a id=\"deltaPath\"></a>\n",
    "## deltaPath\n",
    "deltaPath measures the displacement of the next move and return a dict{path: arrow}\n",
    "\n",
    "path List[Tuple[int, int]]: the path from start to goal, in offsets.\n",
    "returns dict{state: arrow} - The appropriate arrows for the path "
   ]
  },
  {
   "cell_type": "code",
   "execution_count": 11,
   "metadata": {},
   "outputs": [],
   "source": [
    "def deltaPath(p):\n",
    "    trails = {(1,0):'⏩', (-1,0):'⏪', (0,1):'⏫', (0,-1):'⏬'}\n",
    "    steps={}\n",
    "    for i in range(len(p)-1):\n",
    "        steps[p[i]]=trails[(p[i+1][0]-p[i][0],p[i+1][1]-p[i][1])]\n",
    "    return steps"
   ]
  },
  {
   "cell_type": "code",
   "execution_count": 12,
   "metadata": {},
   "outputs": [],
   "source": [
    "p1 = ([(0,0),(0,1)])\n",
    "p2 = ([(0,0),(1,0)])\n",
    "p3 = ([(0,0),(0,-1)])\n",
    "p4 = ([(0,0),(-1,0)])\n",
    "assert  deltaPath(p1) == {(0, 0):'⏫'}\n",
    "assert  deltaPath(p2) == {(0, 0):'⏩'}\n",
    "assert  deltaPath(p3) == {(0, 0):'⏬'}\n",
    "assert  deltaPath(p4) == {(0, 0):'⏪'}"
   ]
  },
  {
   "cell_type": "markdown",
   "metadata": {},
   "source": [
    "<a id=\"pretty_print_path\"></a>\n",
    "## pretty_print_path\n",
    "\n",
    "prints a graph of the word with track while returning a interger measure of the path cost\n",
    "\n",
    "* **world** List[List[str]]: the world (terrain map) for the path to be printed upon.\n",
    "* **path** List[Tuple[int, int]]: the path from start to goal, in offsets.\n",
    "* **start** Tuple[int, int]: the starting location for the path.\n",
    "* **goal** Tuple[int, int]: the goal location for the path.\n",
    "* **costs** Dict[str, int]: the costs for each action.\n",
    "\n",
    "**returns** int - The path cost."
   ]
  },
  {
   "cell_type": "markdown",
   "metadata": {},
   "source": [
    "\n",
    "<div style=\"background: lemonchiffon; margin:20px; padding: 20px;\">\n",
    "    <strong>Important</strong>\n",
    "    <p>\n",
    "        Does your output of pretty_print_path really look like the specification? Go check again.\n",
    "    </p>\n",
    "</div>"
   ]
  },
  {
   "cell_type": "code",
   "execution_count": 13,
   "metadata": {},
   "outputs": [],
   "source": [
    "def pretty_print_path( world: List[List[str]], path: List[Tuple[int, int]], start: Tuple[int, int], goal: Tuple[int, int], costs: Dict[str, int]) -> int:\n",
    "    goalPrize = '🎁'\n",
    "    listOfCost =[]\n",
    "    for pathStep in path:\n",
    "        listOfCost.append(costs[world[pathStep[1]][pathStep[0]]])\n",
    "    for i in path:\n",
    "        if i == goal:\n",
    "            world[i[1]][i[0]] = goalPrize\n",
    "        else:\n",
    "            world[i[1]][i[0]] = deltaPath(path)[(i[0],i[1])]\n",
    "    for i in world:\n",
    "        print(\"\".join(i)) \n",
    "    return sum(listOfCost) # replace with the real value!"
   ]
  },
  {
   "cell_type": "markdown",
   "metadata": {},
   "source": [
    "## Problems"
   ]
  },
  {
   "cell_type": "markdown",
   "metadata": {},
   "source": [
    "## Problem 1. \n",
    "\n",
    "Execute `a_star_search` and `pretty_print_path` for the `small_world`.\n",
    "\n",
    "If you change any values while developing your code, make sure you change them back! (Better yet, don't do it. Copy them elsewhere and change the values, then delete those experiments)."
   ]
  },
  {
   "cell_type": "code",
   "execution_count": 14,
   "metadata": {},
   "outputs": [
    {
     "name": "stderr",
     "output_type": "stream",
     "text": [
      "IOPub data rate exceeded.\n",
      "The notebook server will temporarily stop sending output\n",
      "to the client in order to avoid crashing it.\n",
      "To change this limit, set the config variable\n",
      "`--NotebookApp.iopub_data_rate_limit`.\n",
      "\n",
      "Current values:\n",
      "NotebookApp.iopub_data_rate_limit=1000000.0 (bytes/sec)\n",
      "NotebookApp.rate_limit_window=3.0 (secs)\n",
      "\n"
     ]
    },
    {
     "name": "stdout",
     "output_type": "stream",
     "text": [
      "path in A* {(0, 0): [], (1, 0): [(0, 0)], (0, 1): [(0, 0)], (1, 1): [(1, 0)], (0, 2): [(0, 1)], (1, 2): [(1, 1)], (0, 3): [(0, 2)], (1, 3): [(1, 2)], (0, 4): [(0, 3)], (1, 4): [(1, 3)], (0, 5): [(0, 4)], (1, 5): [(1, 4)], (0, 6): [(0, 5)], (1, 6): [(1, 5)], (2, 0): [(1, 0)], (2, 1): [(2, 0)], (2, 2): [(2, 1)], (2, 3): [(2, 2)], (2, 4): [(2, 3)], (2, 5): [(2, 4)], (2, 6): [(2, 5)], (3, 0): [(2, 0)], (3, 1): [(3, 0)], (3, 2): [(3, 1)], (3, 3): [(3, 2)], (3, 4): [(3, 3)], (3, 5): [(3, 4)], (3, 6): [(3, 5)], (4, 0): [(3, 0)], (4, 1): [(4, 0)], (4, 2): [(4, 1)], (4, 3): [(4, 2)], (4, 4): [(4, 3)], (4, 5): [(4, 4)], (4, 6): [(4, 5)], (5, 0): [(4, 0)], (5, 1): [(5, 0)], (5, 2): [(5, 1)], (5, 3): [(5, 2)], (5, 4): [(5, 3)], (5, 5): [(5, 4)], (5, 6): [(5, 5)], (6, 0): [(5, 0)], (6, 1): [(6, 0)], (6, 2): [(6, 1)], (6, 3): [(6, 2)], (6, 4): [(6, 3)], (6, 5): [(6, 4)], (6, 6): [(6, 5)]}\n",
      "frontier [((6, 6), 3), ((6, 6), 3), ((6, 6), 3), ((6, 6), 3), ((6, 6), 3), ((6, 6), 3), ((6, 6), 3), ((6, 6), 3), ((6, 6), 3), ((6, 6), 3), ((6, 6), 3), ((6, 6), 3), ((6, 6), 3), ((6, 6), 3), ((6, 6), 3), ((6, 6), 3), ((6, 6), 3), ((6, 6), 3), ((6, 6), 3), ((6, 6), 3), ((6, 6), 3), ((6, 6), 3), ((6, 6), 3), ((6, 6), 3), ((6, 6), 3), ((6, 6), 3), ((6, 6), 3), ((6, 6), 3), ((6, 6), 3), ((6, 6), 3), ((6, 6), 3), ((6, 6), 3), ((6, 6), 3), ((6, 6), 3), ((6, 6), 3), ((6, 6), 3), ((6, 6), 3), ((6, 6), 3), ((6, 6), 3), ((6, 6), 3), ((6, 6), 3), ((6, 6), 3), ((6, 6), 3), ((6, 6), 3), ((6, 6), 3), ((6, 6), 3), ((6, 6), 3), ((6, 6), 3), ((6, 6), 3), ((6, 6), 3), ((6, 6), 3), ((6, 6), 3), ((6, 6), 3), ((6, 6), 3), ((6, 6), 3), ((6, 6), 3), ((6, 6), 3), ((6, 6), 3), ((6, 6), 3), ((6, 6), 3), ((6, 6), 3), ((6, 6), 3), ((6, 6), 3), ((6, 6), 3), ((6, 6), 3), ((6, 6), 3), ((6, 6), 3), ((6, 6), 3), ((6, 6), 3), ((6, 6), 3), ((6, 6), 3), ((6, 6), 3), ((6, 6), 3), ((6, 6), 3), ((6, 6), 3), ((6, 6), 3), ((6, 6), 3), ((6, 6), 3), ((6, 6), 3), ((6, 6), 3), ((6, 6), 3), ((6, 6), 3), ((6, 6), 3), ((6, 6), 3), ((6, 6), 3), ((6, 6), 3), ((6, 6), 3), ((6, 6), 3), ((6, 6), 3), ((6, 6), 3), ((6, 6), 3), ((6, 6), 3), ((6, 6), 3), ((6, 6), 3), ((6, 6), 3), ((6, 6), 3), ((6, 6), 3), ((6, 6), 3), ((6, 6), 3), ((6, 6), 3), ((6, 6), 3), ((6, 6), 3), ((6, 6), 3), ((6, 6), 3), ((6, 6), 3), ((6, 6), 3), ((6, 6), 3), ((6, 6), 3), ((6, 6), 3), ((6, 6), 3), ((6, 6), 3), ((6, 6), 3), ((6, 6), 3), ((6, 6), 3), ((6, 6), 3), ((6, 6), 3), ((6, 6), 3), ((6, 6), 3), ((6, 6), 3), ((6, 6), 3), ((6, 6), 3), ((6, 6), 3), ((6, 6), 3), ((6, 6), 3), ((6, 6), 3), ((6, 6), 3), ((6, 6), 3), ((6, 6), 3), ((6, 6), 3), ((6, 6), 3), ((6, 6), 3), ((6, 6), 3), ((6, 6), 3), ((6, 6), 3), ((6, 6), 3), ((6, 6), 3), ((6, 6), 3), ((6, 6), 3), ((6, 6), 3), ((6, 6), 3), ((6, 6), 3), ((6, 6), 3), ((6, 6), 3), ((6, 6), 3), ((6, 6), 3), ((6, 6), 3), ((6, 6), 3), ((6, 6), 3), ((6, 6), 3), ((6, 6), 3), ((6, 6), 3), ((6, 6), 3), ((6, 6), 3), ((6, 6), 3), ((6, 6), 3), ((6, 6), 3), ((6, 6), 3), ((6, 6), 3), ((6, 6), 3), ((6, 6), 3), ((6, 6), 3), ((6, 6), 3), ((6, 6), 3), ((6, 6), 3), ((6, 6), 3), ((6, 6), 3), ((6, 6), 3), ((6, 6), 3), ((6, 6), 3), ((6, 6), 3), ((6, 6), 3), ((6, 6), 3), ((6, 6), 3), ((6, 6), 3), ((6, 6), 3), ((6, 6), 3), ((6, 6), 3), ((6, 6), 3), ((6, 6), 3), ((6, 6), 3), ((6, 6), 3), ((6, 6), 3), ((6, 6), 3), ((6, 6), 3), ((6, 6), 3), ((6, 6), 3), ((6, 6), 3), ((6, 6), 3), ((6, 6), 3), ((6, 6), 3), ((6, 6), 3), ((6, 6), 3), ((6, 6), 3), ((6, 6), 3), ((6, 6), 3), ((6, 6), 3), ((6, 6), 3), ((6, 6), 3), ((6, 6), 3), ((6, 6), 3), ((6, 6), 3), ((6, 6), 3), ((6, 6), 3), ((6, 6), 3), ((6, 6), 3), ((6, 6), 3), ((6, 6), 3), ((6, 6), 3), ((6, 6), 3), ((6, 6), 3), ((6, 6), 3), ((6, 6), 3), ((6, 6), 3), ((6, 6), 3), ((6, 6), 3), ((6, 6), 3), ((6, 6), 3), ((6, 6), 3), ((6, 6), 3), ((6, 6), 3), ((6, 6), 3), ((6, 6), 3), ((6, 6), 3), ((6, 6), 3), ((6, 6), 3), ((6, 6), 3), ((6, 6), 3), ((6, 6), 3), ((6, 6), 3), ((6, 6), 3), ((6, 6), 3), ((6, 6), 3), ((6, 6), 3), ((6, 6), 3), ((6, 6), 3), ((6, 6), 3), ((6, 6), 3), ((6, 6), 3), ((6, 6), 3), ((6, 6), 3), ((6, 6), 3), ((6, 6), 3), ((6, 6), 3), ((6, 6), 3), ((6, 6), 3), ((6, 6), 3), ((6, 6), 3), ((6, 6), 3), ((6, 6), 3), ((6, 6), 3), ((6, 6), 3), ((6, 6), 3), ((6, 6), 3), ((6, 6), 3), ((6, 6), 3), ((6, 6), 3), ((6, 6), 3), ((6, 6), 3), ((6, 6), 3), ((6, 6), 3), ((6, 6), 3), ((6, 6), 3), ((6, 6), 3), ((6, 6), 3), ((6, 6), 3), ((6, 6), 3), ((6, 6), 3), ((6, 6), 3), ((6, 6), 3), ((6, 6), 3), ((6, 6), 3), ((6, 6), 3), ((6, 6), 3), ((6, 6), 3), ((6, 6), 3), ((6, 6), 3), ((6, 6), 3), ((6, 6), 3), ((6, 6), 3), ((6, 6), 3), ((6, 6), 3), ((6, 6), 3), ((6, 6), 3), ((6, 6), 3), ((6, 6), 3), ((6, 6), 3), ((6, 6), 3), ((6, 6), 3), ((6, 6), 3), ((6, 6), 3), ((6, 6), 3), ((6, 6), 3), ((6, 6), 3), ((6, 6), 3), ((6, 6), 3), ((6, 6), 3), ((6, 6), 3), ((6, 6), 3), ((6, 6), 3), ((6, 6), 3), ((6, 6), 3), ((6, 6), 3), ((6, 6), 3), ((6, 6), 3), ((6, 6), 3), ((6, 6), 3), ((6, 6), 3), ((6, 6), 3), ((6, 6), 3), ((6, 6), 3), ((6, 6), 3), ((6, 6), 3), ((6, 6), 3), ((6, 6), 3), ((6, 6), 3), ((6, 6), 3), ((6, 6), 3), ((6, 6), 3), ((6, 6), 3), ((6, 6), 3), ((6, 6), 3), ((6, 6), 3), ((6, 6), 3), ((6, 6), 3), ((6, 6), 3), ((6, 6), 3), ((6, 6), 3), ((6, 6), 3), ((6, 6), 3), ((6, 6), 3), ((6, 6), 3), ((6, 6), 3), ((6, 6), 3), ((6, 6), 3), ((6, 6), 3), ((6, 6), 3), ((6, 6), 3), ((6, 6), 3), ((6, 6), 3), ((6, 6), 3), ((6, 6), 3), ((6, 6), 3), ((6, 6), 3), ((6, 6), 3), ((6, 6), 3), ((6, 6), 3), ((6, 6), 3), ((6, 6), 3), ((6, 6), 3), ((6, 6), 3), ((6, 6), 3), ((6, 6), 3), ((6, 6), 3), ((6, 6), 3), ((6, 6), 3), ((6, 6), 3), ((6, 6), 3), ((6, 6), 3), ((6, 6), 3), ((6, 6), 3), ((6, 6), 3), ((6, 6), 3), ((6, 6), 3), ((6, 6), 3), ((6, 6), 3), ((6, 6), 3), ((6, 6), 3), ((6, 6), 3), ((6, 6), 3), ((6, 6), 3), ((6, 6), 3), ((6, 6), 3), ((6, 6), 3), ((6, 6), 3), ((6, 6), 3), ((6, 6), 3), ((6, 6), 3), ((6, 6), 3), ((6, 6), 3), ((6, 6), 3), ((6, 6), 3), ((6, 6), 3), ((6, 6), 3), ((6, 6), 3), ((6, 6), 3), ((6, 6), 3), ((6, 6), 3), ((6, 6), 3), ((6, 6), 3), ((6, 6), 3), ((6, 6), 3), ((6, 6), 3), ((6, 6), 3), ((6, 6), 3), ((6, 6), 3), ((6, 6), 3), ((6, 6), 3), ((6, 6), 3), ((6, 6), 3), ((6, 6), 3), ((6, 6), 3), ((6, 6), 3), ((6, 6), 3), ((6, 6), 3), ((6, 6), 3), ((6, 6), 3), ((6, 6), 3), ((6, 6), 3), ((6, 6), 3), ((6, 6), 3), ((6, 6), 3), ((6, 6), 3), ((6, 6), 3), ((6, 6), 3), ((6, 6), 3), ((6, 6), 3), ((6, 6), 3), ((6, 6), 3), ((6, 6), 3), ((6, 6), 3), ((6, 6), 3), ((6, 6), 3), ((6, 6), 3), ((6, 6), 3), ((6, 6), 3), ((6, 6), 3), ((6, 6), 3), ((6, 6), 3), ((6, 6), 3), ((6, 6), 3), ((6, 6), 3), ((6, 6), 3), ((6, 6), 3), ((6, 6), 3), ((6, 6), 3), ((6, 6), 3), ((6, 6), 3), ((6, 6), 3), ((6, 6), 3), ((6, 6), 3), ((6, 6), 3), ((6, 6), 3), ((6, 6), 3), ((6, 6), 3), ((6, 6), 3), ((6, 6), 3), ((6, 6), 3), ((6, 6), 3), ((6, 6), 3), ((6, 6), 3), ((6, 6), 3), ((6, 6), 3), ((6, 6), 3), ((6, 6), 3), ((6, 6), 3), ((6, 6), 3), ((6, 6), 3), ((6, 6), 3), ((6, 6), 3), ((6, 6), 3), ((6, 6), 3), ((6, 6), 3), ((6, 6), 1), ((6, 6), 1), ((6, 6), 1), ((6, 6), 1), ((6, 6), 1), ((6, 6), 1), ((6, 6), 1), ((6, 6), 1), ((6, 6), 1), ((6, 6), 1), ((6, 6), 1), ((6, 6), 1), ((6, 6), 1), ((6, 6), 1), ((6, 6), 1), ((6, 6), 1), ((6, 6), 1), ((6, 6), 1), ((6, 6), 1), ((6, 6), 1), ((6, 6), 1), ((6, 6), 1), ((6, 6), 1), ((6, 6), 1), ((6, 6), 1), ((6, 6), 1), ((6, 6), 1), ((6, 6), 1), ((6, 6), 1), ((6, 6), 1), ((6, 6), 1), ((6, 6), 1), ((6, 6), 1), ((6, 6), 1), ((6, 6), 1), ((6, 6), 1), ((6, 6), 1), ((6, 6), 1), ((6, 6), 1), ((6, 6), 1), ((6, 6), 1), ((6, 6), 1), ((6, 6), 1), ((6, 6), 1), ((6, 6), 1), ((6, 6), 1), ((6, 6), 1), ((6, 6), 1), ((6, 6), 1), ((6, 6), 1), ((6, 6), 1), ((6, 6), 1), ((6, 6), 1), ((6, 6), 1), ((6, 6), 1), ((6, 6), 1), ((6, 6), 1), ((6, 6), 1), ((6, 6), 1), ((6, 6), 1), ((6, 6), 1), ((6, 6), 1), ((6, 6), 1), ((6, 6), 1), ((6, 6), 1), ((6, 6), 1), ((6, 6), 1), ((6, 6), 1), ((6, 6), 1), ((6, 6), 1), ((6, 6), 1), ((6, 6), 1), ((6, 6), 1), ((6, 6), 1), ((6, 6), 1), ((6, 6), 1), ((6, 6), 1), ((6, 6), 1), ((6, 6), 1), ((6, 6), 1), ((6, 6), 1), ((6, 6), 1), ((6, 6), 1), ((6, 6), 1), ((6, 6), 1), ((6, 6), 1), ((6, 6), 1), ((6, 6), 1), ((6, 6), 1), ((6, 6), 1), ((6, 6), 1), ((6, 6), 1), ((6, 6), 1), ((6, 6), 1), ((6, 6), 1), ((6, 6), 1), ((6, 6), 1), ((6, 6), 1), ((6, 6), 1), ((6, 6), 1), ((6, 6), 1), ((6, 6), 1), ((6, 6), 1), ((6, 6), 1), ((6, 6), 1), ((6, 6), 1), ((6, 6), 1), ((6, 6), 1), ((6, 6), 1), ((6, 6), 1), ((6, 6), 1), ((6, 6), 1), ((6, 6), 1), ((6, 6), 1), ((6, 6), 1), ((6, 6), 1), ((6, 6), 1), ((6, 6), 1), ((6, 6), 1), ((6, 6), 1), ((6, 6), 1), ((6, 6), 1), ((6, 6), 1), ((6, 6), 1), ((6, 6), 1), ((6, 6), 1), ((6, 6), 1), ((6, 6), 1), ((6, 6), 1), ((6, 6), 1), ((6, 6), 1), ((6, 6), 1), ((6, 6), 1), ((6, 6), 1), ((6, 6), 1), ((6, 6), 1), ((6, 6), 1), ((6, 6), 1), ((6, 6), 1), ((6, 6), 1), ((6, 6), 1), ((6, 6), 1), ((6, 6), 1), ((6, 6), 1), ((6, 6), 1), ((6, 6), 1), ((6, 6), 1), ((6, 6), 1), ((6, 6), 1), ((6, 6), 1), ((6, 6), 1), ((6, 6), 1), ((6, 6), 1), ((6, 6), 1), ((6, 6), 1), ((6, 6), 1), ((6, 6), 1), ((6, 6), 1), ((6, 6), 1), ((6, 6), 1), ((6, 6), 1), ((6, 6), 1), ((6, 6), 1), ((6, 6), 1), ((6, 6), 1), ((6, 6), 1), ((6, 6), 1), ((6, 6), 1), ((6, 6), 1), ((6, 6), 1), ((6, 6), 1), ((6, 6), 1), ((6, 6), 1), ((6, 6), 1), ((6, 6), 1), ((6, 6), 1), ((6, 6), 1), ((6, 6), 1), ((6, 6), 1), ((6, 6), 1), ((6, 6), 1), ((6, 6), 1), ((6, 6), 1), ((6, 6), 1), ((6, 6), 1), ((6, 6), 1), ((6, 6), 1), ((6, 6), 1), ((6, 6), 1), ((6, 6), 1), ((6, 6), 1), ((6, 6), 1), ((6, 6), 1), ((6, 6), 1), ((6, 6), 1), ((6, 6), 1), ((6, 6), 1), ((6, 6), 1), ((6, 6), 1), ((6, 6), 1), ((6, 6), 1), ((6, 6), 1), ((6, 6), 1), ((6, 6), 1), ((6, 6), 1), ((6, 6), 1), ((6, 6), 1), ((6, 6), 1), ((6, 6), 1), ((6, 6), 1), ((6, 6), 1), ((6, 6), 1), ((6, 6), 1), ((6, 6), 1), ((6, 6), 1), ((6, 6), 1), ((6, 6), 1), ((6, 6), 1), ((6, 6), 1), ((6, 6), 1), ((6, 6), 1), ((6, 6), 1), ((6, 6), 1), ((6, 6), 1), ((6, 6), 1), ((6, 6), 1), ((6, 6), 1), ((6, 6), 1), ((6, 6), 1), ((6, 6), 1), ((6, 6), 1), ((6, 6), 1), ((6, 6), 1), ((6, 6), 1), ((6, 6), 1), ((6, 6), 1), ((6, 6), 1), ((6, 6), 1), ((6, 6), 1), ((6, 6), 1), ((6, 6), 1), ((6, 6), 1), ((6, 6), 1), ((6, 6), 1), ((6, 6), 1), ((6, 6), 1), ((6, 6), 1), ((6, 6), 1), ((6, 6), 1), ((6, 6), 1), ((6, 6), 1), ((6, 6), 1), ((6, 6), 1), ((6, 6), 1), ((6, 6), 1), ((6, 6), 1), ((6, 6), 1), ((6, 6), 1), ((6, 6), 1), ((6, 6), 1), ((6, 6), 1), ((6, 6), 1), ((6, 6), 1), ((6, 6), 1), ((6, 6), 1), ((6, 6), 1), ((6, 6), 1), ((6, 6), 1), ((6, 6), 1), ((6, 6), 1), ((6, 6), 1), ((6, 6), 1), ((6, 6), 1), ((6, 6), 1), ((6, 6), 1), ((6, 6), 1), ((6, 6), 1), ((6, 6), 1), ((6, 6), 1), ((6, 6), 1), ((6, 6), 1), ((6, 6), 1), ((6, 6), 1), ((6, 6), 1), ((6, 6), 1), ((6, 6), 1), ((6, 6), 1), ((6, 6), 1), ((6, 6), 1), ((6, 6), 1), ((6, 6), 1), ((6, 6), 1), ((6, 6), 1), ((6, 6), 1), ((6, 6), 1), ((6, 6), 1), ((6, 6), 1), ((6, 6), 1), ((6, 6), 1), ((6, 6), 1), ((6, 6), 1), ((6, 6), 1), ((6, 6), 1), ((6, 6), 1), ((6, 6), 1), ((6, 6), 1), ((6, 6), 1), ((6, 6), 1), ((6, 6), 1), ((6, 6), 1), ((6, 6), 1), ((6, 6), 1), ((6, 6), 1), ((6, 6), 1), ((6, 6), 1), ((6, 6), 1), ((6, 6), 1), ((6, 6), 1), ((6, 6), 1), ((6, 6), 1), ((6, 6), 1), ((6, 6), 1), ((6, 6), 1), ((6, 6), 1), ((6, 6), 1), ((6, 6), 1), ((6, 6), 1), ((6, 6), 1), ((6, 6), 1), ((6, 6), 1), ((6, 6), 1), ((6, 6), 1), ((6, 6), 1), ((6, 6), 1), ((6, 6), 1), ((6, 6), 1), ((6, 6), 1), ((6, 6), 1), ((6, 6), 1), ((6, 6), 1), ((6, 6), 1), ((6, 6), 1), ((6, 6), 1), ((6, 6), 1), ((6, 6), 1), ((6, 6), 1), ((6, 6), 1), ((6, 6), 1), ((6, 6), 1), ((6, 6), 1), ((6, 6), 1), ((6, 6), 1), ((6, 6), 1), ((6, 6), 1), ((6, 6), 1), ((6, 6), 1), ((6, 6), 1), ((6, 6), 1), ((6, 6), 1), ((6, 6), 1), ((6, 6), 1), ((6, 6), 1), ((6, 6), 1), ((6, 6), 1), ((6, 6), 1), ((6, 6), 1), ((6, 6), 1), ((6, 6), 1), ((6, 6), 1), ((6, 6), 1), ((6, 6), 1), ((6, 6), 1), ((6, 6), 1), ((6, 6), 1), ((6, 6), 1), ((6, 6), 1), ((6, 6), 1), ((6, 6), 1), ((6, 6), 1), ((6, 6), 1), ((6, 6), 1), ((6, 6), 1), ((6, 6), 1), ((6, 6), 1), ((6, 6), 1), ((6, 6), 1), ((6, 6), 1), ((6, 6), 1), ((6, 6), 1), ((6, 6), 1), ((6, 6), 1), ((6, 6), 1), ((6, 6), 1), ((6, 6), 1), ((6, 6), 1), ((6, 6), 1), ((6, 6), 1), ((6, 6), 1), ((6, 6), 1), ((6, 6), 1), ((6, 6), 1), ((6, 6), 1), ((6, 6), 1), ((6, 6), 1), ((6, 6), 1), ((6, 6), 1), ((6, 6), 1), ((6, 6), 1), ((6, 6), 1), ((6, 6), 1), ((6, 6), 1), ((6, 6), 1), ((6, 6), 1), ((6, 6), 1), ((6, 6), 1), ((6, 6), 1), ((6, 6), 1), ((6, 6), 1), ((6, 6), 1), ((6, 6), 1), ((6, 6), 1), ((6, 6), 1), ((6, 6), 1), ((6, 6), 1), ((6, 6), 1), ((6, 6), 1), ((6, 6), 1), ((6, 6), 1), ((6, 6), 1), ((6, 6), 1), ((6, 6), 1), ((6, 6), 1), ((6, 6), 1), ((6, 6), 1), ((6, 6), 1), ((6, 6), 1), ((6, 6), 1), ((6, 6), 1), ((6, 6), 1), ((6, 6), 1), ((6, 6), 1), ((6, 6), 1), ((6, 6), 1), ((6, 6), 1), ((6, 6), 1), ((6, 6), 1), ((6, 6), 1), ((6, 6), 1), ((6, 6), 1), ((6, 6), 1), ((6, 6), 1), ((6, 6), 1), ((6, 6), 1), ((6, 6), 1), ((6, 6), 1), ((6, 5), 4), ((6, 5), 4), ((6, 5), 4), ((6, 5), 4), ((6, 5), 4), ((6, 5), 4), ((6, 5), 4)]\n",
      "path in A* {(0, 0): [], (1, 0): [(0, 0)], (0, 1): [(0, 0)], (1, 1): [(1, 0)], (0, 2): [(0, 1)], (1, 2): [(1, 1)], (0, 3): [(0, 2)], (1, 3): [(1, 2)], (0, 4): [(0, 3)], (1, 4): [(1, 3)], (0, 5): [(0, 4)], (1, 5): [(1, 4)], (0, 6): [(0, 5)], (1, 6): [(1, 5)], (2, 0): [(1, 0)], (2, 1): [(2, 0)], (2, 2): [(2, 1)], (2, 3): [(2, 2)], (2, 4): [(2, 3)], (2, 5): [(2, 4)], (2, 6): [(2, 5)], (3, 0): [(2, 0)], (3, 1): [(3, 0)], (3, 2): [(3, 1)], (3, 3): [(3, 2)], (3, 4): [(3, 3)], (3, 5): [(3, 4)], (3, 6): [(3, 5)], (4, 0): [(3, 0)], (4, 1): [(4, 0)], (4, 2): [(4, 1)], (4, 3): [(4, 2)], (4, 4): [(4, 3)], (4, 5): [(4, 4)], (4, 6): [(4, 5)], (5, 0): [(4, 0)], (5, 1): [(5, 0)], (5, 2): [(5, 1)], (5, 3): [(5, 2)], (5, 4): [(5, 3)], (5, 5): [(5, 4)], (5, 6): [(5, 5)], (6, 0): [(5, 0)], (6, 1): [(6, 0)], (6, 2): [(6, 1)], (6, 3): [(6, 2)], (6, 4): [(6, 3)], (6, 5): [(6, 4)], (6, 6): [(6, 5)]}\n",
      "frontier [((6, 6), 3), ((6, 6), 3), ((6, 6), 3), ((6, 6), 3), ((6, 6), 3), ((6, 6), 3), ((6, 6), 3), ((6, 6), 3), ((6, 6), 3), ((6, 6), 3), ((6, 6), 3), ((6, 6), 3), ((6, 6), 3), ((6, 6), 3), ((6, 6), 3), ((6, 6), 3), ((6, 6), 3), ((6, 6), 3), ((6, 6), 3), ((6, 6), 3), ((6, 6), 3), ((6, 6), 3), ((6, 6), 3), ((6, 6), 3), ((6, 6), 3), ((6, 6), 3), ((6, 6), 3), ((6, 6), 3), ((6, 6), 3), ((6, 6), 3), ((6, 6), 3), ((6, 6), 3), ((6, 6), 3), ((6, 6), 3), ((6, 6), 3), ((6, 6), 3), ((6, 6), 3), ((6, 6), 3), ((6, 6), 3), ((6, 6), 3), ((6, 6), 3), ((6, 6), 3), ((6, 6), 3), ((6, 6), 3), ((6, 6), 3), ((6, 6), 3), ((6, 6), 3), ((6, 6), 3), ((6, 6), 3), ((6, 6), 3), ((6, 6), 3), ((6, 6), 3), ((6, 6), 3), ((6, 6), 3), ((6, 6), 3), ((6, 6), 3), ((6, 6), 3), ((6, 6), 3), ((6, 6), 3), ((6, 6), 3), ((6, 6), 3), ((6, 6), 3), ((6, 6), 3), ((6, 6), 3), ((6, 6), 3), ((6, 6), 3), ((6, 6), 3), ((6, 6), 3), ((6, 6), 3), ((6, 6), 3), ((6, 6), 3), ((6, 6), 3), ((6, 6), 3), ((6, 6), 3), ((6, 6), 3), ((6, 6), 3), ((6, 6), 3), ((6, 6), 3), ((6, 6), 3), ((6, 6), 3), ((6, 6), 3), ((6, 6), 3), ((6, 6), 3), ((6, 6), 3), ((6, 6), 3), ((6, 6), 3), ((6, 6), 3), ((6, 6), 3), ((6, 6), 3), ((6, 6), 3), ((6, 6), 3), ((6, 6), 3), ((6, 6), 3), ((6, 6), 3), ((6, 6), 3), ((6, 6), 3), ((6, 6), 3), ((6, 6), 3), ((6, 6), 3), ((6, 6), 3), ((6, 6), 3), ((6, 6), 3), ((6, 6), 3), ((6, 6), 3), ((6, 6), 3), ((6, 6), 3), ((6, 6), 3), ((6, 6), 3), ((6, 6), 3), ((6, 6), 3), ((6, 6), 3), ((6, 6), 3), ((6, 6), 3), ((6, 6), 3), ((6, 6), 3), ((6, 6), 3), ((6, 6), 3), ((6, 6), 3), ((6, 6), 3), ((6, 6), 3), ((6, 6), 3), ((6, 6), 3), ((6, 6), 3), ((6, 6), 3), ((6, 6), 3), ((6, 6), 3), ((6, 6), 3), ((6, 6), 3), ((6, 6), 3), ((6, 6), 3), ((6, 6), 3), ((6, 6), 3), ((6, 6), 3), ((6, 6), 3), ((6, 6), 3), ((6, 6), 3), ((6, 6), 3), ((6, 6), 3), ((6, 6), 3), ((6, 6), 3), ((6, 6), 3), ((6, 6), 3), ((6, 6), 3), ((6, 6), 3), ((6, 6), 3), ((6, 6), 3), ((6, 6), 3), ((6, 6), 3), ((6, 6), 3), ((6, 6), 3), ((6, 6), 3), ((6, 6), 3), ((6, 6), 3), ((6, 6), 3), ((6, 6), 3), ((6, 6), 3), ((6, 6), 3), ((6, 6), 3), ((6, 6), 3), ((6, 6), 3), ((6, 6), 3), ((6, 6), 3), ((6, 6), 3), ((6, 6), 3), ((6, 6), 3), ((6, 6), 3), ((6, 6), 3), ((6, 6), 3), ((6, 6), 3), ((6, 6), 3), ((6, 6), 3), ((6, 6), 3), ((6, 6), 3), ((6, 6), 3), ((6, 6), 3), ((6, 6), 3), ((6, 6), 3), ((6, 6), 3), ((6, 6), 3), ((6, 6), 3), ((6, 6), 3), ((6, 6), 3), ((6, 6), 3), ((6, 6), 3), ((6, 6), 3), ((6, 6), 3), ((6, 6), 3), ((6, 6), 3), ((6, 6), 3), ((6, 6), 3), ((6, 6), 3), ((6, 6), 3), ((6, 6), 3), ((6, 6), 3), ((6, 6), 3), ((6, 6), 3), ((6, 6), 3), ((6, 6), 3), ((6, 6), 3), ((6, 6), 3), ((6, 6), 3), ((6, 6), 3), ((6, 6), 3), ((6, 6), 3), ((6, 6), 3), ((6, 6), 3), ((6, 6), 3), ((6, 6), 3), ((6, 6), 3), ((6, 6), 3), ((6, 6), 3), ((6, 6), 3), ((6, 6), 3), ((6, 6), 3), ((6, 6), 3), ((6, 6), 3), ((6, 6), 3), ((6, 6), 3), ((6, 6), 3), ((6, 6), 3), ((6, 6), 3), ((6, 6), 3), ((6, 6), 3), ((6, 6), 3), ((6, 6), 3), ((6, 6), 3), ((6, 6), 3), ((6, 6), 3), ((6, 6), 3), ((6, 6), 3), ((6, 6), 3), ((6, 6), 3), ((6, 6), 3), ((6, 6), 3), ((6, 6), 3), ((6, 6), 3), ((6, 6), 3), ((6, 6), 3), ((6, 6), 3), ((6, 6), 3), ((6, 6), 3), ((6, 6), 3), ((6, 6), 3), ((6, 6), 3), ((6, 6), 3), ((6, 6), 3), ((6, 6), 3), ((6, 6), 3), ((6, 6), 3), ((6, 6), 3), ((6, 6), 3), ((6, 6), 3), ((6, 6), 3), ((6, 6), 3), ((6, 6), 3), ((6, 6), 3), ((6, 6), 3), ((6, 6), 3), ((6, 6), 3), ((6, 6), 3), ((6, 6), 3), ((6, 6), 3), ((6, 6), 3), ((6, 6), 3), ((6, 6), 3), ((6, 6), 3), ((6, 6), 3), ((6, 6), 3), ((6, 6), 3), ((6, 6), 3), ((6, 6), 3), ((6, 6), 3), ((6, 6), 3), ((6, 6), 3), ((6, 6), 3), ((6, 6), 3), ((6, 6), 3), ((6, 6), 3), ((6, 6), 3), ((6, 6), 3), ((6, 6), 3), ((6, 6), 3), ((6, 6), 3), ((6, 6), 3), ((6, 6), 3), ((6, 6), 3), ((6, 6), 3), ((6, 6), 3), ((6, 6), 3), ((6, 6), 3), ((6, 6), 3), ((6, 6), 3), ((6, 6), 3), ((6, 6), 3), ((6, 6), 3), ((6, 6), 3), ((6, 6), 3), ((6, 6), 3), ((6, 6), 3), ((6, 6), 3), ((6, 6), 3), ((6, 6), 3), ((6, 6), 3), ((6, 6), 3), ((6, 6), 3), ((6, 6), 3), ((6, 6), 3), ((6, 6), 3), ((6, 6), 3), ((6, 6), 3), ((6, 6), 3), ((6, 6), 3), ((6, 6), 3), ((6, 6), 3), ((6, 6), 3), ((6, 6), 3), ((6, 6), 3), ((6, 6), 3), ((6, 6), 3), ((6, 6), 3), ((6, 6), 3), ((6, 6), 3), ((6, 6), 3), ((6, 6), 3), ((6, 6), 3), ((6, 6), 3), ((6, 6), 3), ((6, 6), 3), ((6, 6), 3), ((6, 6), 3), ((6, 6), 3), ((6, 6), 3), ((6, 6), 3), ((6, 6), 3), ((6, 6), 3), ((6, 6), 3), ((6, 6), 3), ((6, 6), 3), ((6, 6), 3), ((6, 6), 3), ((6, 6), 3), ((6, 6), 3), ((6, 6), 3), ((6, 6), 3), ((6, 6), 3), ((6, 6), 3), ((6, 6), 3), ((6, 6), 3), ((6, 6), 3), ((6, 6), 3), ((6, 6), 3), ((6, 6), 3), ((6, 6), 3), ((6, 6), 3), ((6, 6), 3), ((6, 6), 3), ((6, 6), 3), ((6, 6), 3), ((6, 6), 3), ((6, 6), 3), ((6, 6), 3), ((6, 6), 3), ((6, 6), 3), ((6, 6), 3), ((6, 6), 3), ((6, 6), 3), ((6, 6), 3), ((6, 6), 3), ((6, 6), 3), ((6, 6), 3), ((6, 6), 3), ((6, 6), 3), ((6, 6), 3), ((6, 6), 3), ((6, 6), 3), ((6, 6), 3), ((6, 6), 3), ((6, 6), 3), ((6, 6), 3), ((6, 6), 3), ((6, 6), 3), ((6, 6), 3), ((6, 6), 3), ((6, 6), 3), ((6, 6), 3), ((6, 6), 3), ((6, 6), 3), ((6, 6), 3), ((6, 6), 3), ((6, 6), 3), ((6, 6), 3), ((6, 6), 3), ((6, 6), 3), ((6, 6), 3), ((6, 6), 3), ((6, 6), 3), ((6, 6), 3), ((6, 6), 3), ((6, 6), 3), ((6, 6), 3), ((6, 6), 3), ((6, 6), 3), ((6, 6), 3), ((6, 6), 3), ((6, 6), 3), ((6, 6), 3), ((6, 6), 3), ((6, 6), 3), ((6, 6), 3), ((6, 6), 3), ((6, 6), 3), ((6, 6), 3), ((6, 6), 3), ((6, 6), 3), ((6, 6), 3), ((6, 6), 3), ((6, 6), 3), ((6, 6), 3), ((6, 6), 3), ((6, 6), 3), ((6, 6), 3), ((6, 6), 3), ((6, 6), 3), ((6, 6), 3), ((6, 6), 3), ((6, 6), 3), ((6, 6), 3), ((6, 6), 3), ((6, 6), 3), ((6, 6), 3), ((6, 6), 3), ((6, 6), 3), ((6, 6), 3), ((6, 6), 3), ((6, 6), 3), ((6, 6), 3), ((6, 6), 3), ((6, 6), 3), ((6, 6), 3), ((6, 6), 3), ((6, 6), 3), ((6, 6), 3), ((6, 6), 3), ((6, 6), 3), ((6, 6), 3), ((6, 6), 3), ((6, 6), 3), ((6, 6), 3), ((6, 6), 3), ((6, 6), 3), ((6, 6), 3), ((6, 6), 3), ((6, 6), 3), ((6, 6), 3), ((6, 6), 3), ((6, 6), 3), ((6, 6), 3), ((6, 6), 3), ((6, 6), 3), ((6, 6), 3), ((6, 6), 3), ((6, 6), 3), ((6, 6), 1), ((6, 6), 1), ((6, 6), 1), ((6, 6), 1), ((6, 6), 1), ((6, 6), 1), ((6, 6), 1), ((6, 6), 1), ((6, 6), 1), ((6, 6), 1), ((6, 6), 1), ((6, 6), 1), ((6, 6), 1), ((6, 6), 1), ((6, 6), 1), ((6, 6), 1), ((6, 6), 1), ((6, 6), 1), ((6, 6), 1), ((6, 6), 1), ((6, 6), 1), ((6, 6), 1), ((6, 6), 1), ((6, 6), 1), ((6, 6), 1), ((6, 6), 1), ((6, 6), 1), ((6, 6), 1), ((6, 6), 1), ((6, 6), 1), ((6, 6), 1), ((6, 6), 1), ((6, 6), 1), ((6, 6), 1), ((6, 6), 1), ((6, 6), 1), ((6, 6), 1), ((6, 6), 1), ((6, 6), 1), ((6, 6), 1), ((6, 6), 1), ((6, 6), 1), ((6, 6), 1), ((6, 6), 1), ((6, 6), 1), ((6, 6), 1), ((6, 6), 1), ((6, 6), 1), ((6, 6), 1), ((6, 6), 1), ((6, 6), 1), ((6, 6), 1), ((6, 6), 1), ((6, 6), 1), ((6, 6), 1), ((6, 6), 1), ((6, 6), 1), ((6, 6), 1), ((6, 6), 1), ((6, 6), 1), ((6, 6), 1), ((6, 6), 1), ((6, 6), 1), ((6, 6), 1), ((6, 6), 1), ((6, 6), 1), ((6, 6), 1), ((6, 6), 1), ((6, 6), 1), ((6, 6), 1), ((6, 6), 1), ((6, 6), 1), ((6, 6), 1), ((6, 6), 1), ((6, 6), 1), ((6, 6), 1), ((6, 6), 1), ((6, 6), 1), ((6, 6), 1), ((6, 6), 1), ((6, 6), 1), ((6, 6), 1), ((6, 6), 1), ((6, 6), 1), ((6, 6), 1), ((6, 6), 1), ((6, 6), 1), ((6, 6), 1), ((6, 6), 1), ((6, 6), 1), ((6, 6), 1), ((6, 6), 1), ((6, 6), 1), ((6, 6), 1), ((6, 6), 1), ((6, 6), 1), ((6, 6), 1), ((6, 6), 1), ((6, 6), 1), ((6, 6), 1), ((6, 6), 1), ((6, 6), 1), ((6, 6), 1), ((6, 6), 1), ((6, 6), 1), ((6, 6), 1), ((6, 6), 1), ((6, 6), 1), ((6, 6), 1), ((6, 6), 1), ((6, 6), 1), ((6, 6), 1), ((6, 6), 1), ((6, 6), 1), ((6, 6), 1), ((6, 6), 1), ((6, 6), 1), ((6, 6), 1), ((6, 6), 1), ((6, 6), 1), ((6, 6), 1), ((6, 6), 1), ((6, 6), 1), ((6, 6), 1), ((6, 6), 1), ((6, 6), 1), ((6, 6), 1), ((6, 6), 1), ((6, 6), 1), ((6, 6), 1), ((6, 6), 1), ((6, 6), 1), ((6, 6), 1), ((6, 6), 1), ((6, 6), 1), ((6, 6), 1), ((6, 6), 1), ((6, 6), 1), ((6, 6), 1), ((6, 6), 1), ((6, 6), 1), ((6, 6), 1), ((6, 6), 1), ((6, 6), 1), ((6, 6), 1), ((6, 6), 1), ((6, 6), 1), ((6, 6), 1), ((6, 6), 1), ((6, 6), 1), ((6, 6), 1), ((6, 6), 1), ((6, 6), 1), ((6, 6), 1), ((6, 6), 1), ((6, 6), 1), ((6, 6), 1), ((6, 6), 1), ((6, 6), 1), ((6, 6), 1), ((6, 6), 1), ((6, 6), 1), ((6, 6), 1), ((6, 6), 1), ((6, 6), 1), ((6, 6), 1), ((6, 6), 1), ((6, 6), 1), ((6, 6), 1), ((6, 6), 1), ((6, 6), 1), ((6, 6), 1), ((6, 6), 1), ((6, 6), 1), ((6, 6), 1), ((6, 6), 1), ((6, 6), 1), ((6, 6), 1), ((6, 6), 1), ((6, 6), 1), ((6, 6), 1), ((6, 6), 1), ((6, 6), 1), ((6, 6), 1), ((6, 6), 1), ((6, 6), 1), ((6, 6), 1), ((6, 6), 1), ((6, 6), 1), ((6, 6), 1), ((6, 6), 1), ((6, 6), 1), ((6, 6), 1), ((6, 6), 1), ((6, 6), 1), ((6, 6), 1), ((6, 6), 1), ((6, 6), 1), ((6, 6), 1), ((6, 6), 1), ((6, 6), 1), ((6, 6), 1), ((6, 6), 1), ((6, 6), 1), ((6, 6), 1), ((6, 6), 1), ((6, 6), 1), ((6, 6), 1), ((6, 6), 1), ((6, 6), 1), ((6, 6), 1), ((6, 6), 1), ((6, 6), 1), ((6, 6), 1), ((6, 6), 1), ((6, 6), 1), ((6, 6), 1), ((6, 6), 1), ((6, 6), 1), ((6, 6), 1), ((6, 6), 1), ((6, 6), 1), ((6, 6), 1), ((6, 6), 1), ((6, 6), 1), ((6, 6), 1), ((6, 6), 1), ((6, 6), 1), ((6, 6), 1), ((6, 6), 1), ((6, 6), 1), ((6, 6), 1), ((6, 6), 1), ((6, 6), 1), ((6, 6), 1), ((6, 6), 1), ((6, 6), 1), ((6, 6), 1), ((6, 6), 1), ((6, 6), 1), ((6, 6), 1), ((6, 6), 1), ((6, 6), 1), ((6, 6), 1), ((6, 6), 1), ((6, 6), 1), ((6, 6), 1), ((6, 6), 1), ((6, 6), 1), ((6, 6), 1), ((6, 6), 1), ((6, 6), 1), ((6, 6), 1), ((6, 6), 1), ((6, 6), 1), ((6, 6), 1), ((6, 6), 1), ((6, 6), 1), ((6, 6), 1), ((6, 6), 1), ((6, 6), 1), ((6, 6), 1), ((6, 6), 1), ((6, 6), 1), ((6, 6), 1), ((6, 6), 1), ((6, 6), 1), ((6, 6), 1), ((6, 6), 1), ((6, 6), 1), ((6, 6), 1), ((6, 6), 1), ((6, 6), 1), ((6, 6), 1), ((6, 6), 1), ((6, 6), 1), ((6, 6), 1), ((6, 6), 1), ((6, 6), 1), ((6, 6), 1), ((6, 6), 1), ((6, 6), 1), ((6, 6), 1), ((6, 6), 1), ((6, 6), 1), ((6, 6), 1), ((6, 6), 1), ((6, 6), 1), ((6, 6), 1), ((6, 6), 1), ((6, 6), 1), ((6, 6), 1), ((6, 6), 1), ((6, 6), 1), ((6, 6), 1), ((6, 6), 1), ((6, 6), 1), ((6, 6), 1), ((6, 6), 1), ((6, 6), 1), ((6, 6), 1), ((6, 6), 1), ((6, 6), 1), ((6, 6), 1), ((6, 6), 1), ((6, 6), 1), ((6, 6), 1), ((6, 6), 1), ((6, 6), 1), ((6, 6), 1), ((6, 6), 1), ((6, 6), 1), ((6, 6), 1), ((6, 6), 1), ((6, 6), 1), ((6, 6), 1), ((6, 6), 1), ((6, 6), 1), ((6, 6), 1), ((6, 6), 1), ((6, 6), 1), ((6, 6), 1), ((6, 6), 1), ((6, 6), 1), ((6, 6), 1), ((6, 6), 1), ((6, 6), 1), ((6, 6), 1), ((6, 6), 1), ((6, 6), 1), ((6, 6), 1), ((6, 6), 1), ((6, 6), 1), ((6, 6), 1), ((6, 6), 1), ((6, 6), 1), ((6, 6), 1), ((6, 6), 1), ((6, 6), 1), ((6, 6), 1), ((6, 6), 1), ((6, 6), 1), ((6, 6), 1), ((6, 6), 1), ((6, 6), 1), ((6, 6), 1), ((6, 6), 1), ((6, 6), 1), ((6, 6), 1), ((6, 6), 1), ((6, 6), 1), ((6, 6), 1), ((6, 6), 1), ((6, 6), 1), ((6, 6), 1), ((6, 6), 1), ((6, 6), 1), ((6, 6), 1), ((6, 6), 1), ((6, 6), 1), ((6, 6), 1), ((6, 6), 1), ((6, 6), 1), ((6, 6), 1), ((6, 6), 1), ((6, 6), 1), ((6, 6), 1), ((6, 6), 1), ((6, 6), 1), ((6, 6), 1), ((6, 6), 1), ((6, 6), 1), ((6, 6), 1), ((6, 6), 1), ((6, 6), 1), ((6, 6), 1), ((6, 6), 1), ((6, 6), 1), ((6, 6), 1), ((6, 6), 1), ((6, 6), 1), ((6, 6), 1), ((6, 6), 1), ((6, 6), 1), ((6, 6), 1), ((6, 6), 1), ((6, 6), 1), ((6, 6), 1), ((6, 6), 1), ((6, 6), 1), ((6, 6), 1), ((6, 6), 1), ((6, 6), 1), ((6, 6), 1), ((6, 6), 1), ((6, 6), 1), ((6, 6), 1), ((6, 6), 1), ((6, 6), 1), ((6, 6), 1), ((6, 6), 1), ((6, 6), 1), ((6, 6), 1), ((6, 6), 1), ((6, 6), 1), ((6, 6), 1), ((6, 6), 1), ((6, 6), 1), ((6, 6), 1), ((6, 6), 1), ((6, 6), 1), ((6, 6), 1), ((6, 6), 1), ((6, 6), 1), ((6, 6), 1), ((6, 6), 1), ((6, 6), 1), ((6, 6), 1), ((6, 6), 1), ((6, 6), 1), ((6, 6), 1), ((6, 6), 1), ((6, 6), 1), ((6, 6), 1), ((6, 6), 1), ((6, 6), 1), ((6, 6), 1), ((6, 6), 1), ((6, 6), 1), ((6, 6), 1), ((6, 6), 1), ((6, 6), 1), ((6, 6), 1), ((6, 6), 1), ((6, 6), 1), ((6, 6), 1), ((6, 6), 1), ((6, 6), 1), ((6, 6), 1), ((6, 6), 1), ((6, 6), 1), ((6, 6), 1), ((6, 6), 1), ((6, 6), 1), ((6, 6), 1), ((6, 6), 1), ((6, 6), 1), ((6, 6), 1), ((6, 6), 1), ((6, 6), 1), ((6, 6), 1), ((6, 6), 1), ((6, 6), 1), ((6, 6), 1), ((6, 6), 1), ((6, 6), 1), ((6, 5), 4), ((6, 5), 4), ((6, 5), 4), ((6, 5), 4), ((6, 5), 4), ((6, 5), 4)]\n",
      "path in A* {(0, 0): [], (1, 0): [(0, 0)], (0, 1): [(0, 0)], (1, 1): [(1, 0)], (0, 2): [(0, 1)], (1, 2): [(1, 1)], (0, 3): [(0, 2)], (1, 3): [(1, 2)], (0, 4): [(0, 3)], (1, 4): [(1, 3)], (0, 5): [(0, 4)], (1, 5): [(1, 4)], (0, 6): [(0, 5)], (1, 6): [(1, 5)], (2, 0): [(1, 0)], (2, 1): [(2, 0)], (2, 2): [(2, 1)], (2, 3): [(2, 2)], (2, 4): [(2, 3)], (2, 5): [(2, 4)], (2, 6): [(2, 5)], (3, 0): [(2, 0)], (3, 1): [(3, 0)], (3, 2): [(3, 1)], (3, 3): [(3, 2)], (3, 4): [(3, 3)], (3, 5): [(3, 4)], (3, 6): [(3, 5)], (4, 0): [(3, 0)], (4, 1): [(4, 0)], (4, 2): [(4, 1)], (4, 3): [(4, 2)], (4, 4): [(4, 3)], (4, 5): [(4, 4)], (4, 6): [(4, 5)], (5, 0): [(4, 0)], (5, 1): [(5, 0)], (5, 2): [(5, 1)], (5, 3): [(5, 2)], (5, 4): [(5, 3)], (5, 5): [(5, 4)], (5, 6): [(5, 5)], (6, 0): [(5, 0)], (6, 1): [(6, 0)], (6, 2): [(6, 1)], (6, 3): [(6, 2)], (6, 4): [(6, 3)], (6, 5): [(6, 4)], (6, 6): [(6, 5)]}\n",
      "frontier [((6, 6), 3), ((6, 6), 3), ((6, 6), 3), ((6, 6), 3), ((6, 6), 3), ((6, 6), 3), ((6, 6), 3), ((6, 6), 3), ((6, 6), 3), ((6, 6), 3), ((6, 6), 3), ((6, 6), 3), ((6, 6), 3), ((6, 6), 3), ((6, 6), 3), ((6, 6), 3), ((6, 6), 3), ((6, 6), 3), ((6, 6), 3), ((6, 6), 3), ((6, 6), 3), ((6, 6), 3), ((6, 6), 3), ((6, 6), 3), ((6, 6), 3), ((6, 6), 3), ((6, 6), 3), ((6, 6), 3), ((6, 6), 3), ((6, 6), 3), ((6, 6), 3), ((6, 6), 3), ((6, 6), 3), ((6, 6), 3), ((6, 6), 3), ((6, 6), 3), ((6, 6), 3), ((6, 6), 3), ((6, 6), 3), ((6, 6), 3), ((6, 6), 3), ((6, 6), 3), ((6, 6), 3), ((6, 6), 3), ((6, 6), 3), ((6, 6), 3), ((6, 6), 3), ((6, 6), 3), ((6, 6), 3), ((6, 6), 3), ((6, 6), 3), ((6, 6), 3), ((6, 6), 3), ((6, 6), 3), ((6, 6), 3), ((6, 6), 3), ((6, 6), 3), ((6, 6), 3), ((6, 6), 3), ((6, 6), 3), ((6, 6), 3), ((6, 6), 3), ((6, 6), 3), ((6, 6), 3), ((6, 6), 3), ((6, 6), 3), ((6, 6), 3), ((6, 6), 3), ((6, 6), 3), ((6, 6), 3), ((6, 6), 3), ((6, 6), 3), ((6, 6), 3), ((6, 6), 3), ((6, 6), 3), ((6, 6), 3), ((6, 6), 3), ((6, 6), 3), ((6, 6), 3), ((6, 6), 3), ((6, 6), 3), ((6, 6), 3), ((6, 6), 3), ((6, 6), 3), ((6, 6), 3), ((6, 6), 3), ((6, 6), 3), ((6, 6), 3), ((6, 6), 3), ((6, 6), 3), ((6, 6), 3), ((6, 6), 3), ((6, 6), 3), ((6, 6), 3), ((6, 6), 3), ((6, 6), 3), ((6, 6), 3), ((6, 6), 3), ((6, 6), 3), ((6, 6), 3), ((6, 6), 3), ((6, 6), 3), ((6, 6), 3), ((6, 6), 3), ((6, 6), 3), ((6, 6), 3), ((6, 6), 3), ((6, 6), 3), ((6, 6), 3), ((6, 6), 3), ((6, 6), 3), ((6, 6), 3), ((6, 6), 3), ((6, 6), 3), ((6, 6), 3), ((6, 6), 3), ((6, 6), 3), ((6, 6), 3), ((6, 6), 3), ((6, 6), 3), ((6, 6), 3), ((6, 6), 3), ((6, 6), 3), ((6, 6), 3), ((6, 6), 3), ((6, 6), 3), ((6, 6), 3), ((6, 6), 3), ((6, 6), 3), ((6, 6), 3), ((6, 6), 3), ((6, 6), 3), ((6, 6), 3), ((6, 6), 3), ((6, 6), 3), ((6, 6), 3), ((6, 6), 3), ((6, 6), 3), ((6, 6), 3), ((6, 6), 3), ((6, 6), 3), ((6, 6), 3), ((6, 6), 3), ((6, 6), 3), ((6, 6), 3), ((6, 6), 3), ((6, 6), 3), ((6, 6), 3), ((6, 6), 3), ((6, 6), 3), ((6, 6), 3), ((6, 6), 3), ((6, 6), 3), ((6, 6), 3), ((6, 6), 3), ((6, 6), 3), ((6, 6), 3), ((6, 6), 3), ((6, 6), 3), ((6, 6), 3), ((6, 6), 3), ((6, 6), 3), ((6, 6), 3), ((6, 6), 3), ((6, 6), 3), ((6, 6), 3), ((6, 6), 3), ((6, 6), 3), ((6, 6), 3), ((6, 6), 3), ((6, 6), 3), ((6, 6), 3), ((6, 6), 3), ((6, 6), 3), ((6, 6), 3), ((6, 6), 3), ((6, 6), 3), ((6, 6), 3), ((6, 6), 3), ((6, 6), 3), ((6, 6), 3), ((6, 6), 3), ((6, 6), 3), ((6, 6), 3), ((6, 6), 3), ((6, 6), 3), ((6, 6), 3), ((6, 6), 3), ((6, 6), 3), ((6, 6), 3), ((6, 6), 3), ((6, 6), 3), ((6, 6), 3), ((6, 6), 3), ((6, 6), 3), ((6, 6), 3), ((6, 6), 3), ((6, 6), 3), ((6, 6), 3), ((6, 6), 3), ((6, 6), 3), ((6, 6), 3), ((6, 6), 3), ((6, 6), 3), ((6, 6), 3), ((6, 6), 3), ((6, 6), 3), ((6, 6), 3), ((6, 6), 3), ((6, 6), 3), ((6, 6), 3), ((6, 6), 3), ((6, 6), 3), ((6, 6), 3), ((6, 6), 3), ((6, 6), 3), ((6, 6), 3), ((6, 6), 3), ((6, 6), 3), ((6, 6), 3), ((6, 6), 3), ((6, 6), 3), ((6, 6), 3), ((6, 6), 3), ((6, 6), 3), ((6, 6), 3), ((6, 6), 3), ((6, 6), 3), ((6, 6), 3), ((6, 6), 3), ((6, 6), 3), ((6, 6), 3), ((6, 6), 3), ((6, 6), 3), ((6, 6), 3), ((6, 6), 3), ((6, 6), 3), ((6, 6), 3), ((6, 6), 3), ((6, 6), 3), ((6, 6), 3), ((6, 6), 3), ((6, 6), 3), ((6, 6), 3), ((6, 6), 3), ((6, 6), 3), ((6, 6), 3), ((6, 6), 3), ((6, 6), 3), ((6, 6), 3), ((6, 6), 3), ((6, 6), 3), ((6, 6), 3), ((6, 6), 3), ((6, 6), 3), ((6, 6), 3), ((6, 6), 3), ((6, 6), 3), ((6, 6), 3), ((6, 6), 3), ((6, 6), 3), ((6, 6), 3), ((6, 6), 3), ((6, 6), 3), ((6, 6), 3), ((6, 6), 3), ((6, 6), 3), ((6, 6), 3), ((6, 6), 3), ((6, 6), 3), ((6, 6), 3), ((6, 6), 3), ((6, 6), 3), ((6, 6), 3), ((6, 6), 3), ((6, 6), 3), ((6, 6), 3), ((6, 6), 3), ((6, 6), 3), ((6, 6), 3), ((6, 6), 3), ((6, 6), 3), ((6, 6), 3), ((6, 6), 3), ((6, 6), 3), ((6, 6), 3), ((6, 6), 3), ((6, 6), 3), ((6, 6), 3), ((6, 6), 3), ((6, 6), 3), ((6, 6), 3), ((6, 6), 3), ((6, 6), 3), ((6, 6), 3), ((6, 6), 3), ((6, 6), 3), ((6, 6), 3), ((6, 6), 3), ((6, 6), 3), ((6, 6), 3), ((6, 6), 3), ((6, 6), 3), ((6, 6), 3), ((6, 6), 3), ((6, 6), 3), ((6, 6), 3), ((6, 6), 3), ((6, 6), 3), ((6, 6), 3), ((6, 6), 3), ((6, 6), 3), ((6, 6), 3), ((6, 6), 3), ((6, 6), 3), ((6, 6), 3), ((6, 6), 3), ((6, 6), 3), ((6, 6), 3), ((6, 6), 3), ((6, 6), 3), ((6, 6), 3), ((6, 6), 3), ((6, 6), 3), ((6, 6), 3), ((6, 6), 3), ((6, 6), 3), ((6, 6), 3), ((6, 6), 3), ((6, 6), 3), ((6, 6), 3), ((6, 6), 3), ((6, 6), 3), ((6, 6), 3), ((6, 6), 3), ((6, 6), 3), ((6, 6), 3), ((6, 6), 3), ((6, 6), 3), ((6, 6), 3), ((6, 6), 3), ((6, 6), 3), ((6, 6), 3), ((6, 6), 3), ((6, 6), 3), ((6, 6), 3), ((6, 6), 3), ((6, 6), 3), ((6, 6), 3), ((6, 6), 3), ((6, 6), 3), ((6, 6), 3), ((6, 6), 3), ((6, 6), 3), ((6, 6), 3), ((6, 6), 3), ((6, 6), 3), ((6, 6), 3), ((6, 6), 3), ((6, 6), 3), ((6, 6), 3), ((6, 6), 3), ((6, 6), 3), ((6, 6), 3), ((6, 6), 3), ((6, 6), 3), ((6, 6), 3), ((6, 6), 3), ((6, 6), 3), ((6, 6), 3), ((6, 6), 3), ((6, 6), 3), ((6, 6), 3), ((6, 6), 3), ((6, 6), 3), ((6, 6), 3), ((6, 6), 3), ((6, 6), 3), ((6, 6), 3), ((6, 6), 3), ((6, 6), 3), ((6, 6), 3), ((6, 6), 3), ((6, 6), 3), ((6, 6), 3), ((6, 6), 3), ((6, 6), 3), ((6, 6), 3), ((6, 6), 3), ((6, 6), 3), ((6, 6), 3), ((6, 6), 3), ((6, 6), 3), ((6, 6), 3), ((6, 6), 3), ((6, 6), 3), ((6, 6), 3), ((6, 6), 3), ((6, 6), 3), ((6, 6), 3), ((6, 6), 3), ((6, 6), 3), ((6, 6), 3), ((6, 6), 3), ((6, 6), 3), ((6, 6), 3), ((6, 6), 3), ((6, 6), 3), ((6, 6), 3), ((6, 6), 3), ((6, 6), 3), ((6, 6), 3), ((6, 6), 3), ((6, 6), 3), ((6, 6), 3), ((6, 6), 3), ((6, 6), 3), ((6, 6), 3), ((6, 6), 3), ((6, 6), 3), ((6, 6), 3), ((6, 6), 3), ((6, 6), 3), ((6, 6), 3), ((6, 6), 3), ((6, 6), 3), ((6, 6), 3), ((6, 6), 3), ((6, 6), 3), ((6, 6), 3), ((6, 6), 3), ((6, 6), 3), ((6, 6), 3), ((6, 6), 3), ((6, 6), 3), ((6, 6), 3), ((6, 6), 3), ((6, 6), 3), ((6, 6), 3), ((6, 6), 3), ((6, 6), 3), ((6, 6), 3), ((6, 6), 3), ((6, 6), 3), ((6, 6), 3), ((6, 6), 3), ((6, 6), 3), ((6, 6), 3), ((6, 6), 3), ((6, 6), 3), ((6, 6), 3), ((6, 6), 3), ((6, 6), 3), ((6, 6), 3), ((6, 6), 3), ((6, 6), 3), ((6, 6), 3), ((6, 6), 3), ((6, 6), 3), ((6, 6), 3), ((6, 6), 3), ((6, 6), 3), ((6, 6), 1), ((6, 6), 1), ((6, 6), 1), ((6, 6), 1), ((6, 6), 1), ((6, 6), 1), ((6, 6), 1), ((6, 6), 1), ((6, 6), 1), ((6, 6), 1), ((6, 6), 1), ((6, 6), 1), ((6, 6), 1), ((6, 6), 1), ((6, 6), 1), ((6, 6), 1), ((6, 6), 1), ((6, 6), 1), ((6, 6), 1), ((6, 6), 1), ((6, 6), 1), ((6, 6), 1), ((6, 6), 1), ((6, 6), 1), ((6, 6), 1), ((6, 6), 1), ((6, 6), 1), ((6, 6), 1), ((6, 6), 1), ((6, 6), 1), ((6, 6), 1), ((6, 6), 1), ((6, 6), 1), ((6, 6), 1), ((6, 6), 1), ((6, 6), 1), ((6, 6), 1), ((6, 6), 1), ((6, 6), 1), ((6, 6), 1), ((6, 6), 1), ((6, 6), 1), ((6, 6), 1), ((6, 6), 1), ((6, 6), 1), ((6, 6), 1), ((6, 6), 1), ((6, 6), 1), ((6, 6), 1), ((6, 6), 1), ((6, 6), 1), ((6, 6), 1), ((6, 6), 1), ((6, 6), 1), ((6, 6), 1), ((6, 6), 1), ((6, 6), 1), ((6, 6), 1), ((6, 6), 1), ((6, 6), 1), ((6, 6), 1), ((6, 6), 1), ((6, 6), 1), ((6, 6), 1), ((6, 6), 1), ((6, 6), 1), ((6, 6), 1), ((6, 6), 1), ((6, 6), 1), ((6, 6), 1), ((6, 6), 1), ((6, 6), 1), ((6, 6), 1), ((6, 6), 1), ((6, 6), 1), ((6, 6), 1), ((6, 6), 1), ((6, 6), 1), ((6, 6), 1), ((6, 6), 1), ((6, 6), 1), ((6, 6), 1), ((6, 6), 1), ((6, 6), 1), ((6, 6), 1), ((6, 6), 1), ((6, 6), 1), ((6, 6), 1), ((6, 6), 1), ((6, 6), 1), ((6, 6), 1), ((6, 6), 1), ((6, 6), 1), ((6, 6), 1), ((6, 6), 1), ((6, 6), 1), ((6, 6), 1), ((6, 6), 1), ((6, 6), 1), ((6, 6), 1), ((6, 6), 1), ((6, 6), 1), ((6, 6), 1), ((6, 6), 1), ((6, 6), 1), ((6, 6), 1), ((6, 6), 1), ((6, 6), 1), ((6, 6), 1), ((6, 6), 1), ((6, 6), 1), ((6, 6), 1), ((6, 6), 1), ((6, 6), 1), ((6, 6), 1), ((6, 6), 1), ((6, 6), 1), ((6, 6), 1), ((6, 6), 1), ((6, 6), 1), ((6, 6), 1), ((6, 6), 1), ((6, 6), 1), ((6, 6), 1), ((6, 6), 1), ((6, 6), 1), ((6, 6), 1), ((6, 6), 1), ((6, 6), 1), ((6, 6), 1), ((6, 6), 1), ((6, 6), 1), ((6, 6), 1), ((6, 6), 1), ((6, 6), 1), ((6, 6), 1), ((6, 6), 1), ((6, 6), 1), ((6, 6), 1), ((6, 6), 1), ((6, 6), 1), ((6, 6), 1), ((6, 6), 1), ((6, 6), 1), ((6, 6), 1), ((6, 6), 1), ((6, 6), 1), ((6, 6), 1), ((6, 6), 1), ((6, 6), 1), ((6, 6), 1), ((6, 6), 1), ((6, 6), 1), ((6, 6), 1), ((6, 6), 1), ((6, 6), 1), ((6, 6), 1), ((6, 6), 1), ((6, 6), 1), ((6, 6), 1), ((6, 6), 1), ((6, 6), 1), ((6, 6), 1), ((6, 6), 1), ((6, 6), 1), ((6, 6), 1), ((6, 6), 1), ((6, 6), 1), ((6, 6), 1), ((6, 6), 1), ((6, 6), 1), ((6, 6), 1), ((6, 6), 1), ((6, 6), 1), ((6, 6), 1), ((6, 6), 1), ((6, 6), 1), ((6, 6), 1), ((6, 6), 1), ((6, 6), 1), ((6, 6), 1), ((6, 6), 1), ((6, 6), 1), ((6, 6), 1), ((6, 6), 1), ((6, 6), 1), ((6, 6), 1), ((6, 6), 1), ((6, 6), 1), ((6, 6), 1), ((6, 6), 1), ((6, 6), 1), ((6, 6), 1), ((6, 6), 1), ((6, 6), 1), ((6, 6), 1), ((6, 6), 1), ((6, 6), 1), ((6, 6), 1), ((6, 6), 1), ((6, 6), 1), ((6, 6), 1), ((6, 6), 1), ((6, 6), 1), ((6, 6), 1), ((6, 6), 1), ((6, 6), 1), ((6, 6), 1), ((6, 6), 1), ((6, 6), 1), ((6, 6), 1), ((6, 6), 1), ((6, 6), 1), ((6, 6), 1), ((6, 6), 1), ((6, 6), 1), ((6, 6), 1), ((6, 6), 1), ((6, 6), 1), ((6, 6), 1), ((6, 6), 1), ((6, 6), 1), ((6, 6), 1), ((6, 6), 1), ((6, 6), 1), ((6, 6), 1), ((6, 6), 1), ((6, 6), 1), ((6, 6), 1), ((6, 6), 1), ((6, 6), 1), ((6, 6), 1), ((6, 6), 1), ((6, 6), 1), ((6, 6), 1), ((6, 6), 1), ((6, 6), 1), ((6, 6), 1), ((6, 6), 1), ((6, 6), 1), ((6, 6), 1), ((6, 6), 1), ((6, 6), 1), ((6, 6), 1), ((6, 6), 1), ((6, 6), 1), ((6, 6), 1), ((6, 6), 1), ((6, 6), 1), ((6, 6), 1), ((6, 6), 1), ((6, 6), 1), ((6, 6), 1), ((6, 6), 1), ((6, 6), 1), ((6, 6), 1), ((6, 6), 1), ((6, 6), 1), ((6, 6), 1), ((6, 6), 1), ((6, 6), 1), ((6, 6), 1), ((6, 6), 1), ((6, 6), 1), ((6, 6), 1), ((6, 6), 1), ((6, 6), 1), ((6, 6), 1), ((6, 6), 1), ((6, 6), 1), ((6, 6), 1), ((6, 6), 1), ((6, 6), 1), ((6, 6), 1), ((6, 6), 1), ((6, 6), 1), ((6, 6), 1), ((6, 6), 1), ((6, 6), 1), ((6, 6), 1), ((6, 6), 1), ((6, 6), 1), ((6, 6), 1), ((6, 6), 1), ((6, 6), 1), ((6, 6), 1), ((6, 6), 1), ((6, 6), 1), ((6, 6), 1), ((6, 6), 1), ((6, 6), 1), ((6, 6), 1), ((6, 6), 1), ((6, 6), 1), ((6, 6), 1), ((6, 6), 1), ((6, 6), 1), ((6, 6), 1), ((6, 6), 1), ((6, 6), 1), ((6, 6), 1), ((6, 6), 1), ((6, 6), 1), ((6, 6), 1), ((6, 6), 1), ((6, 6), 1), ((6, 6), 1), ((6, 6), 1), ((6, 6), 1), ((6, 6), 1), ((6, 6), 1), ((6, 6), 1), ((6, 6), 1), ((6, 6), 1), ((6, 6), 1), ((6, 6), 1), ((6, 6), 1), ((6, 6), 1), ((6, 6), 1), ((6, 6), 1), ((6, 6), 1), ((6, 6), 1), ((6, 6), 1), ((6, 6), 1), ((6, 6), 1), ((6, 6), 1), ((6, 6), 1), ((6, 6), 1), ((6, 6), 1), ((6, 6), 1), ((6, 6), 1), ((6, 6), 1), ((6, 6), 1), ((6, 6), 1), ((6, 6), 1), ((6, 6), 1), ((6, 6), 1), ((6, 6), 1), ((6, 6), 1), ((6, 6), 1), ((6, 6), 1), ((6, 6), 1), ((6, 6), 1), ((6, 6), 1), ((6, 6), 1), ((6, 6), 1), ((6, 6), 1), ((6, 6), 1), ((6, 6), 1), ((6, 6), 1), ((6, 6), 1), ((6, 6), 1), ((6, 6), 1), ((6, 6), 1), ((6, 6), 1), ((6, 6), 1), ((6, 6), 1), ((6, 6), 1), ((6, 6), 1), ((6, 6), 1), ((6, 6), 1), ((6, 6), 1), ((6, 6), 1), ((6, 6), 1), ((6, 6), 1), ((6, 6), 1), ((6, 6), 1), ((6, 6), 1), ((6, 6), 1), ((6, 6), 1), ((6, 6), 1), ((6, 6), 1), ((6, 6), 1), ((6, 6), 1), ((6, 6), 1), ((6, 6), 1), ((6, 6), 1), ((6, 6), 1), ((6, 6), 1), ((6, 6), 1), ((6, 6), 1), ((6, 6), 1), ((6, 6), 1), ((6, 6), 1), ((6, 6), 1), ((6, 6), 1), ((6, 6), 1), ((6, 6), 1), ((6, 6), 1), ((6, 6), 1), ((6, 6), 1), ((6, 6), 1), ((6, 6), 1), ((6, 6), 1), ((6, 6), 1), ((6, 6), 1), ((6, 6), 1), ((6, 6), 1), ((6, 6), 1), ((6, 6), 1), ((6, 6), 1), ((6, 6), 1), ((6, 6), 1), ((6, 6), 1), ((6, 6), 1), ((6, 6), 1), ((6, 6), 1), ((6, 6), 1), ((6, 6), 1), ((6, 6), 1), ((6, 6), 1), ((6, 6), 1), ((6, 6), 1), ((6, 6), 1), ((6, 6), 1), ((6, 6), 1), ((6, 6), 1), ((6, 6), 1), ((6, 6), 1), ((6, 6), 1), ((6, 6), 1), ((6, 6), 1), ((6, 6), 1), ((6, 6), 1), ((6, 6), 1), ((6, 6), 1), ((6, 6), 1), ((6, 6), 1), ((6, 6), 1), ((6, 6), 1), ((6, 6), 1), ((6, 6), 1), ((6, 6), 1), ((6, 6), 1), ((6, 6), 1), ((6, 6), 1), ((6, 6), 1), ((6, 6), 1), ((6, 6), 1), ((6, 6), 1), ((6, 6), 1), ((6, 6), 1), ((6, 6), 1), ((6, 6), 1), ((6, 6), 1), ((6, 6), 1), ((6, 6), 1), ((6, 6), 1), ((6, 6), 1), ((6, 6), 1), ((6, 6), 1), ((6, 6), 1), ((6, 6), 1), ((6, 6), 1), ((6, 6), 1), ((6, 6), 1), ((6, 6), 1), ((6, 5), 4), ((6, 5), 4), ((6, 5), 4), ((6, 5), 4), ((6, 5), 4)]\n",
      "path in A* {(0, 0): [], (1, 0): [(0, 0)], (0, 1): [(0, 0)], (1, 1): [(1, 0)], (0, 2): [(0, 1)], (1, 2): [(1, 1)], (0, 3): [(0, 2)], (1, 3): [(1, 2)], (0, 4): [(0, 3)], (1, 4): [(1, 3)], (0, 5): [(0, 4)], (1, 5): [(1, 4)], (0, 6): [(0, 5)], (1, 6): [(1, 5)], (2, 0): [(1, 0)], (2, 1): [(2, 0)], (2, 2): [(2, 1)], (2, 3): [(2, 2)], (2, 4): [(2, 3)], (2, 5): [(2, 4)], (2, 6): [(2, 5)], (3, 0): [(2, 0)], (3, 1): [(3, 0)], (3, 2): [(3, 1)], (3, 3): [(3, 2)], (3, 4): [(3, 3)], (3, 5): [(3, 4)], (3, 6): [(3, 5)], (4, 0): [(3, 0)], (4, 1): [(4, 0)], (4, 2): [(4, 1)], (4, 3): [(4, 2)], (4, 4): [(4, 3)], (4, 5): [(4, 4)], (4, 6): [(4, 5)], (5, 0): [(4, 0)], (5, 1): [(5, 0)], (5, 2): [(5, 1)], (5, 3): [(5, 2)], (5, 4): [(5, 3)], (5, 5): [(5, 4)], (5, 6): [(5, 5)], (6, 0): [(5, 0)], (6, 1): [(6, 0)], (6, 2): [(6, 1)], (6, 3): [(6, 2)], (6, 4): [(6, 3)], (6, 5): [(6, 4)], (6, 6): [(6, 5)]}\n",
      "frontier [((6, 6), 3), ((6, 6), 3), ((6, 6), 3), ((6, 6), 3), ((6, 6), 3), ((6, 6), 3), ((6, 6), 3), ((6, 6), 3), ((6, 6), 3), ((6, 6), 3), ((6, 6), 3), ((6, 6), 3), ((6, 6), 3), ((6, 6), 3), ((6, 6), 3), ((6, 6), 3), ((6, 6), 3), ((6, 6), 3), ((6, 6), 3), ((6, 6), 3), ((6, 6), 3), ((6, 6), 3), ((6, 6), 3), ((6, 6), 3), ((6, 6), 3), ((6, 6), 3), ((6, 6), 3), ((6, 6), 3), ((6, 6), 3), ((6, 6), 3), ((6, 6), 3), ((6, 6), 3), ((6, 6), 3), ((6, 6), 3), ((6, 6), 3), ((6, 6), 3), ((6, 6), 3), ((6, 6), 3), ((6, 6), 3), ((6, 6), 3), ((6, 6), 3), ((6, 6), 3), ((6, 6), 3), ((6, 6), 3), ((6, 6), 3), ((6, 6), 3), ((6, 6), 3), ((6, 6), 3), ((6, 6), 3), ((6, 6), 3), ((6, 6), 3), ((6, 6), 3), ((6, 6), 3), ((6, 6), 3), ((6, 6), 3), ((6, 6), 3), ((6, 6), 3), ((6, 6), 3), ((6, 6), 3), ((6, 6), 3), ((6, 6), 3), ((6, 6), 3), ((6, 6), 3), ((6, 6), 3), ((6, 6), 3), ((6, 6), 3), ((6, 6), 3), ((6, 6), 3), ((6, 6), 3), ((6, 6), 3), ((6, 6), 3), ((6, 6), 3), ((6, 6), 3), ((6, 6), 3), ((6, 6), 3), ((6, 6), 3), ((6, 6), 3), ((6, 6), 3), ((6, 6), 3), ((6, 6), 3), ((6, 6), 3), ((6, 6), 3), ((6, 6), 3), ((6, 6), 3), ((6, 6), 3), ((6, 6), 3), ((6, 6), 3), ((6, 6), 3), ((6, 6), 3), ((6, 6), 3), ((6, 6), 3), ((6, 6), 3), ((6, 6), 3), ((6, 6), 3), ((6, 6), 3), ((6, 6), 3), ((6, 6), 3), ((6, 6), 3), ((6, 6), 3), ((6, 6), 3), ((6, 6), 3), ((6, 6), 3), ((6, 6), 3), ((6, 6), 3), ((6, 6), 3), ((6, 6), 3), ((6, 6), 3), ((6, 6), 3), ((6, 6), 3), ((6, 6), 3), ((6, 6), 3), ((6, 6), 3), ((6, 6), 3), ((6, 6), 3), ((6, 6), 3), ((6, 6), 3), ((6, 6), 3), ((6, 6), 3), ((6, 6), 3), ((6, 6), 3), ((6, 6), 3), ((6, 6), 3), ((6, 6), 3), ((6, 6), 3), ((6, 6), 3), ((6, 6), 3), ((6, 6), 3), ((6, 6), 3), ((6, 6), 3), ((6, 6), 3), ((6, 6), 3), ((6, 6), 3), ((6, 6), 3), ((6, 6), 3), ((6, 6), 3), ((6, 6), 3), ((6, 6), 3), ((6, 6), 3), ((6, 6), 3), ((6, 6), 3), ((6, 6), 3), ((6, 6), 3), ((6, 6), 3), ((6, 6), 3), ((6, 6), 3), ((6, 6), 3), ((6, 6), 3), ((6, 6), 3), ((6, 6), 3), ((6, 6), 3), ((6, 6), 3), ((6, 6), 3), ((6, 6), 3), ((6, 6), 3), ((6, 6), 3), ((6, 6), 3), ((6, 6), 3), ((6, 6), 3), ((6, 6), 3), ((6, 6), 3), ((6, 6), 3), ((6, 6), 3), ((6, 6), 3), ((6, 6), 3), ((6, 6), 3), ((6, 6), 3), ((6, 6), 3), ((6, 6), 3), ((6, 6), 3), ((6, 6), 3), ((6, 6), 3), ((6, 6), 3), ((6, 6), 3), ((6, 6), 3), ((6, 6), 3), ((6, 6), 3), ((6, 6), 3), ((6, 6), 3), ((6, 6), 3), ((6, 6), 3), ((6, 6), 3), ((6, 6), 3), ((6, 6), 3), ((6, 6), 3), ((6, 6), 3), ((6, 6), 3), ((6, 6), 3), ((6, 6), 3), ((6, 6), 3), ((6, 6), 3), ((6, 6), 3), ((6, 6), 3), ((6, 6), 3), ((6, 6), 3), ((6, 6), 3), ((6, 6), 3), ((6, 6), 3), ((6, 6), 3), ((6, 6), 3), ((6, 6), 3), ((6, 6), 3), ((6, 6), 3), ((6, 6), 3), ((6, 6), 3), ((6, 6), 3), ((6, 6), 3), ((6, 6), 3), ((6, 6), 3), ((6, 6), 3), ((6, 6), 3), ((6, 6), 3), ((6, 6), 3), ((6, 6), 3), ((6, 6), 3), ((6, 6), 3), ((6, 6), 3), ((6, 6), 3), ((6, 6), 3), ((6, 6), 3), ((6, 6), 3), ((6, 6), 3), ((6, 6), 3), ((6, 6), 3), ((6, 6), 3), ((6, 6), 3), ((6, 6), 3), ((6, 6), 3), ((6, 6), 3), ((6, 6), 3), ((6, 6), 3), ((6, 6), 3), ((6, 6), 3), ((6, 6), 3), ((6, 6), 3), ((6, 6), 3), ((6, 6), 3), ((6, 6), 3), ((6, 6), 3), ((6, 6), 3), ((6, 6), 3), ((6, 6), 3), ((6, 6), 3), ((6, 6), 3), ((6, 6), 3), ((6, 6), 3), ((6, 6), 3), ((6, 6), 3), ((6, 6), 3), ((6, 6), 3), ((6, 6), 3), ((6, 6), 3), ((6, 6), 3), ((6, 6), 3), ((6, 6), 3), ((6, 6), 3), ((6, 6), 3), ((6, 6), 3), ((6, 6), 3), ((6, 6), 3), ((6, 6), 3), ((6, 6), 3), ((6, 6), 3), ((6, 6), 3), ((6, 6), 3), ((6, 6), 3), ((6, 6), 3), ((6, 6), 3), ((6, 6), 3), ((6, 6), 3), ((6, 6), 3), ((6, 6), 3), ((6, 6), 3), ((6, 6), 3), ((6, 6), 3), ((6, 6), 3), ((6, 6), 3), ((6, 6), 3), ((6, 6), 3), ((6, 6), 3), ((6, 6), 3), ((6, 6), 3), ((6, 6), 3), ((6, 6), 3), ((6, 6), 3), ((6, 6), 3), ((6, 6), 3), ((6, 6), 3), ((6, 6), 3), ((6, 6), 3), ((6, 6), 3), ((6, 6), 3), ((6, 6), 3), ((6, 6), 3), ((6, 6), 3), ((6, 6), 3), ((6, 6), 3), ((6, 6), 3), ((6, 6), 3), ((6, 6), 3), ((6, 6), 3), ((6, 6), 3), ((6, 6), 3), ((6, 6), 3), ((6, 6), 3), ((6, 6), 3), ((6, 6), 3), ((6, 6), 3), ((6, 6), 3), ((6, 6), 3), ((6, 6), 3), ((6, 6), 3), ((6, 6), 3), ((6, 6), 3), ((6, 6), 3), ((6, 6), 3), ((6, 6), 3), ((6, 6), 3), ((6, 6), 3), ((6, 6), 3), ((6, 6), 3), ((6, 6), 3), ((6, 6), 3), ((6, 6), 3), ((6, 6), 3), ((6, 6), 3), ((6, 6), 3), ((6, 6), 3), ((6, 6), 3), ((6, 6), 3), ((6, 6), 3), ((6, 6), 3), ((6, 6), 3), ((6, 6), 3), ((6, 6), 3), ((6, 6), 3), ((6, 6), 3), ((6, 6), 3), ((6, 6), 3), ((6, 6), 3), ((6, 6), 3), ((6, 6), 3), ((6, 6), 3), ((6, 6), 3), ((6, 6), 3), ((6, 6), 3), ((6, 6), 3), ((6, 6), 3), ((6, 6), 3), ((6, 6), 3), ((6, 6), 3), ((6, 6), 3), ((6, 6), 3), ((6, 6), 3), ((6, 6), 3), ((6, 6), 3), ((6, 6), 3), ((6, 6), 3), ((6, 6), 3), ((6, 6), 3), ((6, 6), 3), ((6, 6), 3), ((6, 6), 3), ((6, 6), 3), ((6, 6), 3), ((6, 6), 3), ((6, 6), 3), ((6, 6), 3), ((6, 6), 3), ((6, 6), 3), ((6, 6), 3), ((6, 6), 3), ((6, 6), 3), ((6, 6), 3), ((6, 6), 3), ((6, 6), 3), ((6, 6), 3), ((6, 6), 3), ((6, 6), 3), ((6, 6), 3), ((6, 6), 3), ((6, 6), 3), ((6, 6), 3), ((6, 6), 3), ((6, 6), 3), ((6, 6), 3), ((6, 6), 3), ((6, 6), 3), ((6, 6), 3), ((6, 6), 3), ((6, 6), 3), ((6, 6), 3), ((6, 6), 3), ((6, 6), 3), ((6, 6), 3), ((6, 6), 3), ((6, 6), 3), ((6, 6), 3), ((6, 6), 3), ((6, 6), 3), ((6, 6), 3), ((6, 6), 3), ((6, 6), 3), ((6, 6), 3), ((6, 6), 3), ((6, 6), 3), ((6, 6), 3), ((6, 6), 3), ((6, 6), 3), ((6, 6), 3), ((6, 6), 3), ((6, 6), 3), ((6, 6), 3), ((6, 6), 3), ((6, 6), 3), ((6, 6), 3), ((6, 6), 3), ((6, 6), 3), ((6, 6), 3), ((6, 6), 3), ((6, 6), 3), ((6, 6), 3), ((6, 6), 3), ((6, 6), 3), ((6, 6), 3), ((6, 6), 3), ((6, 6), 3), ((6, 6), 3), ((6, 6), 3), ((6, 6), 3), ((6, 6), 3), ((6, 6), 3), ((6, 6), 3), ((6, 6), 3), ((6, 6), 3), ((6, 6), 3), ((6, 6), 3), ((6, 6), 3), ((6, 6), 3), ((6, 6), 3), ((6, 6), 3), ((6, 6), 3), ((6, 6), 3), ((6, 6), 3), ((6, 6), 3), ((6, 6), 3), ((6, 6), 3), ((6, 6), 3), ((6, 6), 3), ((6, 6), 3), ((6, 6), 3), ((6, 6), 3), ((6, 6), 3), ((6, 6), 3), ((6, 6), 3), ((6, 6), 3), ((6, 6), 3), ((6, 6), 3), ((6, 6), 3), ((6, 6), 3), ((6, 6), 3), ((6, 6), 3), ((6, 6), 3), ((6, 6), 1), ((6, 6), 1), ((6, 6), 1), ((6, 6), 1), ((6, 6), 1), ((6, 6), 1), ((6, 6), 1), ((6, 6), 1), ((6, 6), 1), ((6, 6), 1), ((6, 6), 1), ((6, 6), 1), ((6, 6), 1), ((6, 6), 1), ((6, 6), 1), ((6, 6), 1), ((6, 6), 1), ((6, 6), 1), ((6, 6), 1), ((6, 6), 1), ((6, 6), 1), ((6, 6), 1), ((6, 6), 1), ((6, 6), 1), ((6, 6), 1), ((6, 6), 1), ((6, 6), 1), ((6, 6), 1), ((6, 6), 1), ((6, 6), 1), ((6, 6), 1), ((6, 6), 1), ((6, 6), 1), ((6, 6), 1), ((6, 6), 1), ((6, 6), 1), ((6, 6), 1), ((6, 6), 1), ((6, 6), 1), ((6, 6), 1), ((6, 6), 1), ((6, 6), 1), ((6, 6), 1), ((6, 6), 1), ((6, 6), 1), ((6, 6), 1), ((6, 6), 1), ((6, 6), 1), ((6, 6), 1), ((6, 6), 1), ((6, 6), 1), ((6, 6), 1), ((6, 6), 1), ((6, 6), 1), ((6, 6), 1), ((6, 6), 1), ((6, 6), 1), ((6, 6), 1), ((6, 6), 1), ((6, 6), 1), ((6, 6), 1), ((6, 6), 1), ((6, 6), 1), ((6, 6), 1), ((6, 6), 1), ((6, 6), 1), ((6, 6), 1), ((6, 6), 1), ((6, 6), 1), ((6, 6), 1), ((6, 6), 1), ((6, 6), 1), ((6, 6), 1), ((6, 6), 1), ((6, 6), 1), ((6, 6), 1), ((6, 6), 1), ((6, 6), 1), ((6, 6), 1), ((6, 6), 1), ((6, 6), 1), ((6, 6), 1), ((6, 6), 1), ((6, 6), 1), ((6, 6), 1), ((6, 6), 1), ((6, 6), 1), ((6, 6), 1), ((6, 6), 1), ((6, 6), 1), ((6, 6), 1), ((6, 6), 1), ((6, 6), 1), ((6, 6), 1), ((6, 6), 1), ((6, 6), 1), ((6, 6), 1), ((6, 6), 1), ((6, 6), 1), ((6, 6), 1), ((6, 6), 1), ((6, 6), 1), ((6, 6), 1), ((6, 6), 1), ((6, 6), 1), ((6, 6), 1), ((6, 6), 1), ((6, 6), 1), ((6, 6), 1), ((6, 6), 1), ((6, 6), 1), ((6, 6), 1), ((6, 6), 1), ((6, 6), 1), ((6, 6), 1), ((6, 6), 1), ((6, 6), 1), ((6, 6), 1), ((6, 6), 1), ((6, 6), 1), ((6, 6), 1), ((6, 6), 1), ((6, 6), 1), ((6, 6), 1), ((6, 6), 1), ((6, 6), 1), ((6, 6), 1), ((6, 6), 1), ((6, 6), 1), ((6, 6), 1), ((6, 6), 1), ((6, 6), 1), ((6, 6), 1), ((6, 6), 1), ((6, 6), 1), ((6, 6), 1), ((6, 6), 1), ((6, 6), 1), ((6, 6), 1), ((6, 6), 1), ((6, 6), 1), ((6, 6), 1), ((6, 6), 1), ((6, 6), 1), ((6, 6), 1), ((6, 6), 1), ((6, 6), 1), ((6, 6), 1), ((6, 6), 1), ((6, 6), 1), ((6, 6), 1), ((6, 6), 1), ((6, 6), 1), ((6, 6), 1), ((6, 6), 1), ((6, 6), 1), ((6, 6), 1), ((6, 6), 1), ((6, 6), 1), ((6, 6), 1), ((6, 6), 1), ((6, 6), 1), ((6, 6), 1), ((6, 6), 1), ((6, 6), 1), ((6, 6), 1), ((6, 6), 1), ((6, 6), 1), ((6, 6), 1), ((6, 6), 1), ((6, 6), 1), ((6, 6), 1), ((6, 6), 1), ((6, 6), 1), ((6, 6), 1), ((6, 6), 1), ((6, 6), 1), ((6, 6), 1), ((6, 6), 1), ((6, 6), 1), ((6, 6), 1), ((6, 6), 1), ((6, 6), 1), ((6, 6), 1), ((6, 6), 1), ((6, 6), 1), ((6, 6), 1), ((6, 6), 1), ((6, 6), 1), ((6, 6), 1), ((6, 6), 1), ((6, 6), 1), ((6, 6), 1), ((6, 6), 1), ((6, 6), 1), ((6, 6), 1), ((6, 6), 1), ((6, 6), 1), ((6, 6), 1), ((6, 6), 1), ((6, 6), 1), ((6, 6), 1), ((6, 6), 1), ((6, 6), 1), ((6, 6), 1), ((6, 6), 1), ((6, 6), 1), ((6, 6), 1), ((6, 6), 1), ((6, 6), 1), ((6, 6), 1), ((6, 6), 1), ((6, 6), 1), ((6, 6), 1), ((6, 6), 1), ((6, 6), 1), ((6, 6), 1), ((6, 6), 1), ((6, 6), 1), ((6, 6), 1), ((6, 6), 1), ((6, 6), 1), ((6, 6), 1), ((6, 6), 1), ((6, 6), 1), ((6, 6), 1), ((6, 6), 1), ((6, 6), 1), ((6, 6), 1), ((6, 6), 1), ((6, 6), 1), ((6, 6), 1), ((6, 6), 1), ((6, 6), 1), ((6, 6), 1), ((6, 6), 1), ((6, 6), 1), ((6, 6), 1), ((6, 6), 1), ((6, 6), 1), ((6, 6), 1), ((6, 6), 1), ((6, 6), 1), ((6, 6), 1), ((6, 6), 1), ((6, 6), 1), ((6, 6), 1), ((6, 6), 1), ((6, 6), 1), ((6, 6), 1), ((6, 6), 1), ((6, 6), 1), ((6, 6), 1), ((6, 6), 1), ((6, 6), 1), ((6, 6), 1), ((6, 6), 1), ((6, 6), 1), ((6, 6), 1), ((6, 6), 1), ((6, 6), 1), ((6, 6), 1), ((6, 6), 1), ((6, 6), 1), ((6, 6), 1), ((6, 6), 1), ((6, 6), 1), ((6, 6), 1), ((6, 6), 1), ((6, 6), 1), ((6, 6), 1), ((6, 6), 1), ((6, 6), 1), ((6, 6), 1), ((6, 6), 1), ((6, 6), 1), ((6, 6), 1), ((6, 6), 1), ((6, 6), 1), ((6, 6), 1), ((6, 6), 1), ((6, 6), 1), ((6, 6), 1), ((6, 6), 1), ((6, 6), 1), ((6, 6), 1), ((6, 6), 1), ((6, 6), 1), ((6, 6), 1), ((6, 6), 1), ((6, 6), 1), ((6, 6), 1), ((6, 6), 1), ((6, 6), 1), ((6, 6), 1), ((6, 6), 1), ((6, 6), 1), ((6, 6), 1), ((6, 6), 1), ((6, 6), 1), ((6, 6), 1), ((6, 6), 1), ((6, 6), 1), ((6, 6), 1), ((6, 6), 1), ((6, 6), 1), ((6, 6), 1), ((6, 6), 1), ((6, 6), 1), ((6, 6), 1), ((6, 6), 1), ((6, 6), 1), ((6, 6), 1), ((6, 6), 1), ((6, 6), 1), ((6, 6), 1), ((6, 6), 1), ((6, 6), 1), ((6, 6), 1), ((6, 6), 1), ((6, 6), 1), ((6, 6), 1), ((6, 6), 1), ((6, 6), 1), ((6, 6), 1), ((6, 6), 1), ((6, 6), 1), ((6, 6), 1), ((6, 6), 1), ((6, 6), 1), ((6, 6), 1), ((6, 6), 1), ((6, 6), 1), ((6, 6), 1), ((6, 6), 1), ((6, 6), 1), ((6, 6), 1), ((6, 6), 1), ((6, 6), 1), ((6, 6), 1), ((6, 6), 1), ((6, 6), 1), ((6, 6), 1), ((6, 6), 1), ((6, 6), 1), ((6, 6), 1), ((6, 6), 1), ((6, 6), 1), ((6, 6), 1), ((6, 6), 1), ((6, 6), 1), ((6, 6), 1), ((6, 6), 1), ((6, 6), 1), ((6, 6), 1), ((6, 6), 1), ((6, 6), 1), ((6, 6), 1), ((6, 6), 1), ((6, 6), 1), ((6, 6), 1), ((6, 6), 1), ((6, 6), 1), ((6, 6), 1), ((6, 6), 1), ((6, 6), 1), ((6, 6), 1), ((6, 6), 1), ((6, 6), 1), ((6, 6), 1), ((6, 6), 1), ((6, 6), 1), ((6, 6), 1), ((6, 6), 1), ((6, 6), 1), ((6, 6), 1), ((6, 6), 1), ((6, 6), 1), ((6, 6), 1), ((6, 6), 1), ((6, 6), 1), ((6, 6), 1), ((6, 6), 1), ((6, 6), 1), ((6, 6), 1), ((6, 6), 1), ((6, 6), 1), ((6, 6), 1), ((6, 6), 1), ((6, 6), 1), ((6, 6), 1), ((6, 6), 1), ((6, 6), 1), ((6, 6), 1), ((6, 6), 1), ((6, 6), 1), ((6, 6), 1), ((6, 6), 1), ((6, 6), 1), ((6, 6), 1), ((6, 6), 1), ((6, 6), 1), ((6, 6), 1), ((6, 6), 1), ((6, 6), 1), ((6, 6), 1), ((6, 6), 1), ((6, 6), 1), ((6, 6), 1), ((6, 6), 1), ((6, 6), 1), ((6, 6), 1), ((6, 6), 1), ((6, 6), 1), ((6, 6), 1), ((6, 6), 1), ((6, 6), 1), ((6, 6), 1), ((6, 6), 1), ((6, 6), 1), ((6, 6), 1), ((6, 6), 1), ((6, 6), 1), ((6, 6), 1), ((6, 6), 1), ((6, 6), 1), ((6, 6), 1), ((6, 6), 1), ((6, 6), 1), ((6, 6), 1), ((6, 6), 1), ((6, 6), 1), ((6, 6), 1), ((6, 6), 1), ((6, 6), 1), ((6, 6), 1), ((6, 6), 1), ((6, 6), 1), ((6, 6), 1), ((6, 6), 1), ((6, 6), 1), ((6, 6), 1), ((6, 6), 1), ((6, 6), 1), ((6, 6), 1), ((6, 6), 1), ((6, 6), 1), ((6, 6), 1), ((6, 6), 1), ((6, 6), 1), ((6, 6), 1), ((6, 6), 1), ((6, 6), 1), ((6, 6), 1), ((6, 6), 1), ((6, 6), 1), ((6, 6), 1), ((6, 6), 1), ((6, 5), 4), ((6, 5), 4), ((6, 5), 4), ((6, 5), 4)]\n",
      "path in A* {(0, 0): [], (1, 0): [(0, 0)], (0, 1): [(0, 0)], (1, 1): [(1, 0)], (0, 2): [(0, 1)], (1, 2): [(1, 1)], (0, 3): [(0, 2)], (1, 3): [(1, 2)], (0, 4): [(0, 3)], (1, 4): [(1, 3)], (0, 5): [(0, 4)], (1, 5): [(1, 4)], (0, 6): [(0, 5)], (1, 6): [(1, 5)], (2, 0): [(1, 0)], (2, 1): [(2, 0)], (2, 2): [(2, 1)], (2, 3): [(2, 2)], (2, 4): [(2, 3)], (2, 5): [(2, 4)], (2, 6): [(2, 5)], (3, 0): [(2, 0)], (3, 1): [(3, 0)], (3, 2): [(3, 1)], (3, 3): [(3, 2)], (3, 4): [(3, 3)], (3, 5): [(3, 4)], (3, 6): [(3, 5)], (4, 0): [(3, 0)], (4, 1): [(4, 0)], (4, 2): [(4, 1)], (4, 3): [(4, 2)], (4, 4): [(4, 3)], (4, 5): [(4, 4)], (4, 6): [(4, 5)], (5, 0): [(4, 0)], (5, 1): [(5, 0)], (5, 2): [(5, 1)], (5, 3): [(5, 2)], (5, 4): [(5, 3)], (5, 5): [(5, 4)], (5, 6): [(5, 5)], (6, 0): [(5, 0)], (6, 1): [(6, 0)], (6, 2): [(6, 1)], (6, 3): [(6, 2)], (6, 4): [(6, 3)], (6, 5): [(6, 4)], (6, 6): [(6, 5)]}\n",
      "frontier [((6, 6), 3), ((6, 6), 3), ((6, 6), 3), ((6, 6), 3), ((6, 6), 3), ((6, 6), 3), ((6, 6), 3), ((6, 6), 3), ((6, 6), 3), ((6, 6), 3), ((6, 6), 3), ((6, 6), 3), ((6, 6), 3), ((6, 6), 3), ((6, 6), 3), ((6, 6), 3), ((6, 6), 3), ((6, 6), 3), ((6, 6), 3), ((6, 6), 3), ((6, 6), 3), ((6, 6), 3), ((6, 6), 3), ((6, 6), 3), ((6, 6), 3), ((6, 6), 3), ((6, 6), 3), ((6, 6), 3), ((6, 6), 3), ((6, 6), 3), ((6, 6), 3), ((6, 6), 3), ((6, 6), 3), ((6, 6), 3), ((6, 6), 3), ((6, 6), 3), ((6, 6), 3), ((6, 6), 3), ((6, 6), 3), ((6, 6), 3), ((6, 6), 3), ((6, 6), 3), ((6, 6), 3), ((6, 6), 3), ((6, 6), 3), ((6, 6), 3), ((6, 6), 3), ((6, 6), 3), ((6, 6), 3), ((6, 6), 3), ((6, 6), 3), ((6, 6), 3), ((6, 6), 3), ((6, 6), 3), ((6, 6), 3), ((6, 6), 3), ((6, 6), 3), ((6, 6), 3), ((6, 6), 3), ((6, 6), 3), ((6, 6), 3), ((6, 6), 3), ((6, 6), 3), ((6, 6), 3), ((6, 6), 3), ((6, 6), 3), ((6, 6), 3), ((6, 6), 3), ((6, 6), 3), ((6, 6), 3), ((6, 6), 3), ((6, 6), 3), ((6, 6), 3), ((6, 6), 3), ((6, 6), 3), ((6, 6), 3), ((6, 6), 3), ((6, 6), 3), ((6, 6), 3), ((6, 6), 3), ((6, 6), 3), ((6, 6), 3), ((6, 6), 3), ((6, 6), 3), ((6, 6), 3), ((6, 6), 3), ((6, 6), 3), ((6, 6), 3), ((6, 6), 3), ((6, 6), 3), ((6, 6), 3), ((6, 6), 3), ((6, 6), 3), ((6, 6), 3), ((6, 6), 3), ((6, 6), 3), ((6, 6), 3), ((6, 6), 3), ((6, 6), 3), ((6, 6), 3), ((6, 6), 3), ((6, 6), 3), ((6, 6), 3), ((6, 6), 3), ((6, 6), 3), ((6, 6), 3), ((6, 6), 3), ((6, 6), 3), ((6, 6), 3), ((6, 6), 3), ((6, 6), 3), ((6, 6), 3), ((6, 6), 3), ((6, 6), 3), ((6, 6), 3), ((6, 6), 3), ((6, 6), 3), ((6, 6), 3), ((6, 6), 3), ((6, 6), 3), ((6, 6), 3), ((6, 6), 3), ((6, 6), 3), ((6, 6), 3), ((6, 6), 3), ((6, 6), 3), ((6, 6), 3), ((6, 6), 3), ((6, 6), 3), ((6, 6), 3), ((6, 6), 3), ((6, 6), 3), ((6, 6), 3), ((6, 6), 3), ((6, 6), 3), ((6, 6), 3), ((6, 6), 3), ((6, 6), 3), ((6, 6), 3), ((6, 6), 3), ((6, 6), 3), ((6, 6), 3), ((6, 6), 3), ((6, 6), 3), ((6, 6), 3), ((6, 6), 3), ((6, 6), 3), ((6, 6), 3), ((6, 6), 3), ((6, 6), 3), ((6, 6), 3), ((6, 6), 3), ((6, 6), 3), ((6, 6), 3), ((6, 6), 3), ((6, 6), 3), ((6, 6), 3), ((6, 6), 3), ((6, 6), 3), ((6, 6), 3), ((6, 6), 3), ((6, 6), 3), ((6, 6), 3), ((6, 6), 3), ((6, 6), 3), ((6, 6), 3), ((6, 6), 3), ((6, 6), 3), ((6, 6), 3), ((6, 6), 3), ((6, 6), 3), ((6, 6), 3), ((6, 6), 3), ((6, 6), 3), ((6, 6), 3), ((6, 6), 3), ((6, 6), 3), ((6, 6), 3), ((6, 6), 3), ((6, 6), 3), ((6, 6), 3), ((6, 6), 3), ((6, 6), 3), ((6, 6), 3), ((6, 6), 3), ((6, 6), 3), ((6, 6), 3), ((6, 6), 3), ((6, 6), 3), ((6, 6), 3), ((6, 6), 3), ((6, 6), 3), ((6, 6), 3), ((6, 6), 3), ((6, 6), 3), ((6, 6), 3), ((6, 6), 3), ((6, 6), 3), ((6, 6), 3), ((6, 6), 3), ((6, 6), 3), ((6, 6), 3), ((6, 6), 3), ((6, 6), 3), ((6, 6), 3), ((6, 6), 3), ((6, 6), 3), ((6, 6), 3), ((6, 6), 3), ((6, 6), 3), ((6, 6), 3), ((6, 6), 3), ((6, 6), 3), ((6, 6), 3), ((6, 6), 3), ((6, 6), 3), ((6, 6), 3), ((6, 6), 3), ((6, 6), 3), ((6, 6), 3), ((6, 6), 3), ((6, 6), 3), ((6, 6), 3), ((6, 6), 3), ((6, 6), 3), ((6, 6), 3), ((6, 6), 3), ((6, 6), 3), ((6, 6), 3), ((6, 6), 3), ((6, 6), 3), ((6, 6), 3), ((6, 6), 3), ((6, 6), 3), ((6, 6), 3), ((6, 6), 3), ((6, 6), 3), ((6, 6), 3), ((6, 6), 3), ((6, 6), 3), ((6, 6), 3), ((6, 6), 3), ((6, 6), 3), ((6, 6), 3), ((6, 6), 3), ((6, 6), 3), ((6, 6), 3), ((6, 6), 3), ((6, 6), 3), ((6, 6), 3), ((6, 6), 3), ((6, 6), 3), ((6, 6), 3), ((6, 6), 3), ((6, 6), 3), ((6, 6), 3), ((6, 6), 3), ((6, 6), 3), ((6, 6), 3), ((6, 6), 3), ((6, 6), 3), ((6, 6), 3), ((6, 6), 3), ((6, 6), 3), ((6, 6), 3), ((6, 6), 3), ((6, 6), 3), ((6, 6), 3), ((6, 6), 3), ((6, 6), 3), ((6, 6), 3), ((6, 6), 3), ((6, 6), 3), ((6, 6), 3), ((6, 6), 3), ((6, 6), 3), ((6, 6), 3), ((6, 6), 3), ((6, 6), 3), ((6, 6), 3), ((6, 6), 3), ((6, 6), 3), ((6, 6), 3), ((6, 6), 3), ((6, 6), 3), ((6, 6), 3), ((6, 6), 3), ((6, 6), 3), ((6, 6), 3), ((6, 6), 3), ((6, 6), 3), ((6, 6), 3), ((6, 6), 3), ((6, 6), 3), ((6, 6), 3), ((6, 6), 3), ((6, 6), 3), ((6, 6), 3), ((6, 6), 3), ((6, 6), 3), ((6, 6), 3), ((6, 6), 3), ((6, 6), 3), ((6, 6), 3), ((6, 6), 3), ((6, 6), 3), ((6, 6), 3), ((6, 6), 3), ((6, 6), 3), ((6, 6), 3), ((6, 6), 3), ((6, 6), 3), ((6, 6), 3), ((6, 6), 3), ((6, 6), 3), ((6, 6), 3), ((6, 6), 3), ((6, 6), 3), ((6, 6), 3), ((6, 6), 3), ((6, 6), 3), ((6, 6), 3), ((6, 6), 3), ((6, 6), 3), ((6, 6), 3), ((6, 6), 3), ((6, 6), 3), ((6, 6), 3), ((6, 6), 3), ((6, 6), 3), ((6, 6), 3), ((6, 6), 3), ((6, 6), 3), ((6, 6), 3), ((6, 6), 3), ((6, 6), 3), ((6, 6), 3), ((6, 6), 3), ((6, 6), 3), ((6, 6), 3), ((6, 6), 3), ((6, 6), 3), ((6, 6), 3), ((6, 6), 3), ((6, 6), 3), ((6, 6), 3), ((6, 6), 3), ((6, 6), 3), ((6, 6), 3), ((6, 6), 3), ((6, 6), 3), ((6, 6), 3), ((6, 6), 3), ((6, 6), 3), ((6, 6), 3), ((6, 6), 3), ((6, 6), 3), ((6, 6), 3), ((6, 6), 3), ((6, 6), 3), ((6, 6), 3), ((6, 6), 3), ((6, 6), 3), ((6, 6), 3), ((6, 6), 3), ((6, 6), 3), ((6, 6), 3), ((6, 6), 3), ((6, 6), 3), ((6, 6), 3), ((6, 6), 3), ((6, 6), 3), ((6, 6), 3), ((6, 6), 3), ((6, 6), 3), ((6, 6), 3), ((6, 6), 3), ((6, 6), 3), ((6, 6), 3), ((6, 6), 3), ((6, 6), 3), ((6, 6), 3), ((6, 6), 3), ((6, 6), 3), ((6, 6), 3), ((6, 6), 3), ((6, 6), 3), ((6, 6), 3), ((6, 6), 3), ((6, 6), 3), ((6, 6), 3), ((6, 6), 3), ((6, 6), 3), ((6, 6), 3), ((6, 6), 3), ((6, 6), 3), ((6, 6), 3), ((6, 6), 3), ((6, 6), 3), ((6, 6), 3), ((6, 6), 3), ((6, 6), 3), ((6, 6), 3), ((6, 6), 3), ((6, 6), 3), ((6, 6), 3), ((6, 6), 3), ((6, 6), 3), ((6, 6), 3), ((6, 6), 3), ((6, 6), 3), ((6, 6), 3), ((6, 6), 3), ((6, 6), 3), ((6, 6), 3), ((6, 6), 3), ((6, 6), 3), ((6, 6), 3), ((6, 6), 3), ((6, 6), 3), ((6, 6), 3), ((6, 6), 3), ((6, 6), 3), ((6, 6), 3), ((6, 6), 3), ((6, 6), 3), ((6, 6), 3), ((6, 6), 3), ((6, 6), 3), ((6, 6), 3), ((6, 6), 3), ((6, 6), 3), ((6, 6), 3), ((6, 6), 3), ((6, 6), 3), ((6, 6), 3), ((6, 6), 3), ((6, 6), 3), ((6, 6), 3), ((6, 6), 3), ((6, 6), 3), ((6, 6), 3), ((6, 6), 3), ((6, 6), 3), ((6, 6), 3), ((6, 6), 3), ((6, 6), 3), ((6, 6), 3), ((6, 6), 3), ((6, 6), 3), ((6, 6), 3), ((6, 6), 3), ((6, 6), 3), ((6, 6), 3), ((6, 6), 3), ((6, 6), 3), ((6, 6), 3), ((6, 6), 3), ((6, 6), 3), ((6, 6), 3), ((6, 6), 3), ((6, 6), 3), ((6, 6), 1), ((6, 6), 1), ((6, 6), 1), ((6, 6), 1), ((6, 6), 1), ((6, 6), 1), ((6, 6), 1), ((6, 6), 1), ((6, 6), 1), ((6, 6), 1), ((6, 6), 1), ((6, 6), 1), ((6, 6), 1), ((6, 6), 1), ((6, 6), 1), ((6, 6), 1), ((6, 6), 1), ((6, 6), 1), ((6, 6), 1), ((6, 6), 1), ((6, 6), 1), ((6, 6), 1), ((6, 6), 1), ((6, 6), 1), ((6, 6), 1), ((6, 6), 1), ((6, 6), 1), ((6, 6), 1), ((6, 6), 1), ((6, 6), 1), ((6, 6), 1), ((6, 6), 1), ((6, 6), 1), ((6, 6), 1), ((6, 6), 1), ((6, 6), 1), ((6, 6), 1), ((6, 6), 1), ((6, 6), 1), ((6, 6), 1), ((6, 6), 1), ((6, 6), 1), ((6, 6), 1), ((6, 6), 1), ((6, 6), 1), ((6, 6), 1), ((6, 6), 1), ((6, 6), 1), ((6, 6), 1), ((6, 6), 1), ((6, 6), 1), ((6, 6), 1), ((6, 6), 1), ((6, 6), 1), ((6, 6), 1), ((6, 6), 1), ((6, 6), 1), ((6, 6), 1), ((6, 6), 1), ((6, 6), 1), ((6, 6), 1), ((6, 6), 1), ((6, 6), 1), ((6, 6), 1), ((6, 6), 1), ((6, 6), 1), ((6, 6), 1), ((6, 6), 1), ((6, 6), 1), ((6, 6), 1), ((6, 6), 1), ((6, 6), 1), ((6, 6), 1), ((6, 6), 1), ((6, 6), 1), ((6, 6), 1), ((6, 6), 1), ((6, 6), 1), ((6, 6), 1), ((6, 6), 1), ((6, 6), 1), ((6, 6), 1), ((6, 6), 1), ((6, 6), 1), ((6, 6), 1), ((6, 6), 1), ((6, 6), 1), ((6, 6), 1), ((6, 6), 1), ((6, 6), 1), ((6, 6), 1), ((6, 6), 1), ((6, 6), 1), ((6, 6), 1), ((6, 6), 1), ((6, 6), 1), ((6, 6), 1), ((6, 6), 1), ((6, 6), 1), ((6, 6), 1), ((6, 6), 1), ((6, 6), 1), ((6, 6), 1), ((6, 6), 1), ((6, 6), 1), ((6, 6), 1), ((6, 6), 1), ((6, 6), 1), ((6, 6), 1), ((6, 6), 1), ((6, 6), 1), ((6, 6), 1), ((6, 6), 1), ((6, 6), 1), ((6, 6), 1), ((6, 6), 1), ((6, 6), 1), ((6, 6), 1), ((6, 6), 1), ((6, 6), 1), ((6, 6), 1), ((6, 6), 1), ((6, 6), 1), ((6, 6), 1), ((6, 6), 1), ((6, 6), 1), ((6, 6), 1), ((6, 6), 1), ((6, 6), 1), ((6, 6), 1), ((6, 6), 1), ((6, 6), 1), ((6, 6), 1), ((6, 6), 1), ((6, 6), 1), ((6, 6), 1), ((6, 6), 1), ((6, 6), 1), ((6, 6), 1), ((6, 6), 1), ((6, 6), 1), ((6, 6), 1), ((6, 6), 1), ((6, 6), 1), ((6, 6), 1), ((6, 6), 1), ((6, 6), 1), ((6, 6), 1), ((6, 6), 1), ((6, 6), 1), ((6, 6), 1), ((6, 6), 1), ((6, 6), 1), ((6, 6), 1), ((6, 6), 1), ((6, 6), 1), ((6, 6), 1), ((6, 6), 1), ((6, 6), 1), ((6, 6), 1), ((6, 6), 1), ((6, 6), 1), ((6, 6), 1), ((6, 6), 1), ((6, 6), 1), ((6, 6), 1), ((6, 6), 1), ((6, 6), 1), ((6, 6), 1), ((6, 6), 1), ((6, 6), 1), ((6, 6), 1), ((6, 6), 1), ((6, 6), 1), ((6, 6), 1), ((6, 6), 1), ((6, 6), 1), ((6, 6), 1), ((6, 6), 1), ((6, 6), 1), ((6, 6), 1), ((6, 6), 1), ((6, 6), 1), ((6, 6), 1), ((6, 6), 1), ((6, 6), 1), ((6, 6), 1), ((6, 6), 1), ((6, 6), 1), ((6, 6), 1), ((6, 6), 1), ((6, 6), 1), ((6, 6), 1), ((6, 6), 1), ((6, 6), 1), ((6, 6), 1), ((6, 6), 1), ((6, 6), 1), ((6, 6), 1), ((6, 6), 1), ((6, 6), 1), ((6, 6), 1), ((6, 6), 1), ((6, 6), 1), ((6, 6), 1), ((6, 6), 1), ((6, 6), 1), ((6, 6), 1), ((6, 6), 1), ((6, 6), 1), ((6, 6), 1), ((6, 6), 1), ((6, 6), 1), ((6, 6), 1), ((6, 6), 1), ((6, 6), 1), ((6, 6), 1), ((6, 6), 1), ((6, 6), 1), ((6, 6), 1), ((6, 6), 1), ((6, 6), 1), ((6, 6), 1), ((6, 6), 1), ((6, 6), 1), ((6, 6), 1), ((6, 6), 1), ((6, 6), 1), ((6, 6), 1), ((6, 6), 1), ((6, 6), 1), ((6, 6), 1), ((6, 6), 1), ((6, 6), 1), ((6, 6), 1), ((6, 6), 1), ((6, 6), 1), ((6, 6), 1), ((6, 6), 1), ((6, 6), 1), ((6, 6), 1), ((6, 6), 1), ((6, 6), 1), ((6, 6), 1), ((6, 6), 1), ((6, 6), 1), ((6, 6), 1), ((6, 6), 1), ((6, 6), 1), ((6, 6), 1), ((6, 6), 1), ((6, 6), 1), ((6, 6), 1), ((6, 6), 1), ((6, 6), 1), ((6, 6), 1), ((6, 6), 1), ((6, 6), 1), ((6, 6), 1), ((6, 6), 1), ((6, 6), 1), ((6, 6), 1), ((6, 6), 1), ((6, 6), 1), ((6, 6), 1), ((6, 6), 1), ((6, 6), 1), ((6, 6), 1), ((6, 6), 1), ((6, 6), 1), ((6, 6), 1), ((6, 6), 1), ((6, 6), 1), ((6, 6), 1), ((6, 6), 1), ((6, 6), 1), ((6, 6), 1), ((6, 6), 1), ((6, 6), 1), ((6, 6), 1), ((6, 6), 1), ((6, 6), 1), ((6, 6), 1), ((6, 6), 1), ((6, 6), 1), ((6, 6), 1), ((6, 6), 1), ((6, 6), 1), ((6, 6), 1), ((6, 6), 1), ((6, 6), 1), ((6, 6), 1), ((6, 6), 1), ((6, 6), 1), ((6, 6), 1), ((6, 6), 1), ((6, 6), 1), ((6, 6), 1), ((6, 6), 1), ((6, 6), 1), ((6, 6), 1), ((6, 6), 1), ((6, 6), 1), ((6, 6), 1), ((6, 6), 1), ((6, 6), 1), ((6, 6), 1), ((6, 6), 1), ((6, 6), 1), ((6, 6), 1), ((6, 6), 1), ((6, 6), 1), ((6, 6), 1), ((6, 6), 1), ((6, 6), 1), ((6, 6), 1), ((6, 6), 1), ((6, 6), 1), ((6, 6), 1), ((6, 6), 1), ((6, 6), 1), ((6, 6), 1), ((6, 6), 1), ((6, 6), 1), ((6, 6), 1), ((6, 6), 1), ((6, 6), 1), ((6, 6), 1), ((6, 6), 1), ((6, 6), 1), ((6, 6), 1), ((6, 6), 1), ((6, 6), 1), ((6, 6), 1), ((6, 6), 1), ((6, 6), 1), ((6, 6), 1), ((6, 6), 1), ((6, 6), 1), ((6, 6), 1), ((6, 6), 1), ((6, 6), 1), ((6, 6), 1), ((6, 6), 1), ((6, 6), 1), ((6, 6), 1), ((6, 6), 1), ((6, 6), 1), ((6, 6), 1), ((6, 6), 1), ((6, 6), 1), ((6, 6), 1), ((6, 6), 1), ((6, 6), 1), ((6, 6), 1), ((6, 6), 1), ((6, 6), 1), ((6, 6), 1), ((6, 6), 1), ((6, 6), 1), ((6, 6), 1), ((6, 6), 1), ((6, 6), 1), ((6, 6), 1), ((6, 6), 1), ((6, 6), 1), ((6, 6), 1), ((6, 6), 1), ((6, 6), 1), ((6, 6), 1), ((6, 6), 1), ((6, 6), 1), ((6, 6), 1), ((6, 6), 1), ((6, 6), 1), ((6, 6), 1), ((6, 6), 1), ((6, 6), 1), ((6, 6), 1), ((6, 6), 1), ((6, 6), 1), ((6, 6), 1), ((6, 6), 1), ((6, 6), 1), ((6, 6), 1), ((6, 6), 1), ((6, 6), 1), ((6, 6), 1), ((6, 6), 1), ((6, 6), 1), ((6, 6), 1), ((6, 6), 1), ((6, 6), 1), ((6, 6), 1), ((6, 6), 1), ((6, 6), 1), ((6, 6), 1), ((6, 6), 1), ((6, 6), 1), ((6, 6), 1), ((6, 6), 1), ((6, 6), 1), ((6, 6), 1), ((6, 6), 1), ((6, 6), 1), ((6, 6), 1), ((6, 6), 1), ((6, 6), 1), ((6, 6), 1), ((6, 6), 1), ((6, 6), 1), ((6, 6), 1), ((6, 6), 1), ((6, 6), 1), ((6, 6), 1), ((6, 6), 1), ((6, 6), 1), ((6, 6), 1), ((6, 6), 1), ((6, 6), 1), ((6, 6), 1), ((6, 6), 1), ((6, 6), 1), ((6, 6), 1), ((6, 6), 1), ((6, 6), 1), ((6, 6), 1), ((6, 6), 1), ((6, 6), 1), ((6, 6), 1), ((6, 6), 1), ((6, 6), 1), ((6, 6), 1), ((6, 6), 1), ((6, 6), 1), ((6, 6), 1), ((6, 6), 1), ((6, 6), 1), ((6, 6), 1), ((6, 6), 1), ((6, 6), 1), ((6, 6), 1), ((6, 6), 1), ((6, 6), 1), ((6, 6), 1), ((6, 6), 1), ((6, 6), 1), ((6, 6), 1), ((6, 6), 1), ((6, 6), 1), ((6, 6), 1), ((6, 6), 1), ((6, 6), 1), ((6, 6), 1), ((6, 6), 1), ((6, 6), 1), ((6, 6), 1), ((6, 6), 1), ((6, 6), 1), ((6, 5), 4), ((6, 5), 4), ((6, 5), 4)]\n",
      "path in A* {(0, 0): [], (1, 0): [(0, 0)], (0, 1): [(0, 0)], (1, 1): [(1, 0)], (0, 2): [(0, 1)], (1, 2): [(1, 1)], (0, 3): [(0, 2)], (1, 3): [(1, 2)], (0, 4): [(0, 3)], (1, 4): [(1, 3)], (0, 5): [(0, 4)], (1, 5): [(1, 4)], (0, 6): [(0, 5)], (1, 6): [(1, 5)], (2, 0): [(1, 0)], (2, 1): [(2, 0)], (2, 2): [(2, 1)], (2, 3): [(2, 2)], (2, 4): [(2, 3)], (2, 5): [(2, 4)], (2, 6): [(2, 5)], (3, 0): [(2, 0)], (3, 1): [(3, 0)], (3, 2): [(3, 1)], (3, 3): [(3, 2)], (3, 4): [(3, 3)], (3, 5): [(3, 4)], (3, 6): [(3, 5)], (4, 0): [(3, 0)], (4, 1): [(4, 0)], (4, 2): [(4, 1)], (4, 3): [(4, 2)], (4, 4): [(4, 3)], (4, 5): [(4, 4)], (4, 6): [(4, 5)], (5, 0): [(4, 0)], (5, 1): [(5, 0)], (5, 2): [(5, 1)], (5, 3): [(5, 2)], (5, 4): [(5, 3)], (5, 5): [(5, 4)], (5, 6): [(5, 5)], (6, 0): [(5, 0)], (6, 1): [(6, 0)], (6, 2): [(6, 1)], (6, 3): [(6, 2)], (6, 4): [(6, 3)], (6, 5): [(6, 4)], (6, 6): [(6, 5)]}\n",
      "frontier [((6, 6), 3), ((6, 6), 3), ((6, 6), 3), ((6, 6), 3), ((6, 6), 3), ((6, 6), 3), ((6, 6), 3), ((6, 6), 3), ((6, 6), 3), ((6, 6), 3), ((6, 6), 3), ((6, 6), 3), ((6, 6), 3), ((6, 6), 3), ((6, 6), 3), ((6, 6), 3), ((6, 6), 3), ((6, 6), 3), ((6, 6), 3), ((6, 6), 3), ((6, 6), 3), ((6, 6), 3), ((6, 6), 3), ((6, 6), 3), ((6, 6), 3), ((6, 6), 3), ((6, 6), 3), ((6, 6), 3), ((6, 6), 3), ((6, 6), 3), ((6, 6), 3), ((6, 6), 3), ((6, 6), 3), ((6, 6), 3), ((6, 6), 3), ((6, 6), 3), ((6, 6), 3), ((6, 6), 3), ((6, 6), 3), ((6, 6), 3), ((6, 6), 3), ((6, 6), 3), ((6, 6), 3), ((6, 6), 3), ((6, 6), 3), ((6, 6), 3), ((6, 6), 3), ((6, 6), 3), ((6, 6), 3), ((6, 6), 3), ((6, 6), 3), ((6, 6), 3), ((6, 6), 3), ((6, 6), 3), ((6, 6), 3), ((6, 6), 3), ((6, 6), 3), ((6, 6), 3), ((6, 6), 3), ((6, 6), 3), ((6, 6), 3), ((6, 6), 3), ((6, 6), 3), ((6, 6), 3), ((6, 6), 3), ((6, 6), 3), ((6, 6), 3), ((6, 6), 3), ((6, 6), 3), ((6, 6), 3), ((6, 6), 3), ((6, 6), 3), ((6, 6), 3), ((6, 6), 3), ((6, 6), 3), ((6, 6), 3), ((6, 6), 3), ((6, 6), 3), ((6, 6), 3), ((6, 6), 3), ((6, 6), 3), ((6, 6), 3), ((6, 6), 3), ((6, 6), 3), ((6, 6), 3), ((6, 6), 3), ((6, 6), 3), ((6, 6), 3), ((6, 6), 3), ((6, 6), 3), ((6, 6), 3), ((6, 6), 3), ((6, 6), 3), ((6, 6), 3), ((6, 6), 3), ((6, 6), 3), ((6, 6), 3), ((6, 6), 3), ((6, 6), 3), ((6, 6), 3), ((6, 6), 3), ((6, 6), 3), ((6, 6), 3), ((6, 6), 3), ((6, 6), 3), ((6, 6), 3), ((6, 6), 3), ((6, 6), 3), ((6, 6), 3), ((6, 6), 3), ((6, 6), 3), ((6, 6), 3), ((6, 6), 3), ((6, 6), 3), ((6, 6), 3), ((6, 6), 3), ((6, 6), 3), ((6, 6), 3), ((6, 6), 3), ((6, 6), 3), ((6, 6), 3), ((6, 6), 3), ((6, 6), 3), ((6, 6), 3), ((6, 6), 3), ((6, 6), 3), ((6, 6), 3), ((6, 6), 3), ((6, 6), 3), ((6, 6), 3), ((6, 6), 3), ((6, 6), 3), ((6, 6), 3), ((6, 6), 3), ((6, 6), 3), ((6, 6), 3), ((6, 6), 3), ((6, 6), 3), ((6, 6), 3), ((6, 6), 3), ((6, 6), 3), ((6, 6), 3), ((6, 6), 3), ((6, 6), 3), ((6, 6), 3), ((6, 6), 3), ((6, 6), 3), ((6, 6), 3), ((6, 6), 3), ((6, 6), 3), ((6, 6), 3), ((6, 6), 3), ((6, 6), 3), ((6, 6), 3), ((6, 6), 3), ((6, 6), 3), ((6, 6), 3), ((6, 6), 3), ((6, 6), 3), ((6, 6), 3), ((6, 6), 3), ((6, 6), 3), ((6, 6), 3), ((6, 6), 3), ((6, 6), 3), ((6, 6), 3), ((6, 6), 3), ((6, 6), 3), ((6, 6), 3), ((6, 6), 3), ((6, 6), 3), ((6, 6), 3), ((6, 6), 3), ((6, 6), 3), ((6, 6), 3), ((6, 6), 3), ((6, 6), 3), ((6, 6), 3), ((6, 6), 3), ((6, 6), 3), ((6, 6), 3), ((6, 6), 3), ((6, 6), 3), ((6, 6), 3), ((6, 6), 3), ((6, 6), 3), ((6, 6), 3), ((6, 6), 3), ((6, 6), 3), ((6, 6), 3), ((6, 6), 3), ((6, 6), 3), ((6, 6), 3), ((6, 6), 3), ((6, 6), 3), ((6, 6), 3), ((6, 6), 3), ((6, 6), 3), ((6, 6), 3), ((6, 6), 3), ((6, 6), 3), ((6, 6), 3), ((6, 6), 3), ((6, 6), 3), ((6, 6), 3), ((6, 6), 3), ((6, 6), 3), ((6, 6), 3), ((6, 6), 3), ((6, 6), 3), ((6, 6), 3), ((6, 6), 3), ((6, 6), 3), ((6, 6), 3), ((6, 6), 3), ((6, 6), 3), ((6, 6), 3), ((6, 6), 3), ((6, 6), 3), ((6, 6), 3), ((6, 6), 3), ((6, 6), 3), ((6, 6), 3), ((6, 6), 3), ((6, 6), 3), ((6, 6), 3), ((6, 6), 3), ((6, 6), 3), ((6, 6), 3), ((6, 6), 3), ((6, 6), 3), ((6, 6), 3), ((6, 6), 3), ((6, 6), 3), ((6, 6), 3), ((6, 6), 3), ((6, 6), 3), ((6, 6), 3), ((6, 6), 3), ((6, 6), 3), ((6, 6), 3), ((6, 6), 3), ((6, 6), 3), ((6, 6), 3), ((6, 6), 3), ((6, 6), 3), ((6, 6), 3), ((6, 6), 3), ((6, 6), 3), ((6, 6), 3), ((6, 6), 3), ((6, 6), 3), ((6, 6), 3), ((6, 6), 3), ((6, 6), 3), ((6, 6), 3), ((6, 6), 3), ((6, 6), 3), ((6, 6), 3), ((6, 6), 3), ((6, 6), 3), ((6, 6), 3), ((6, 6), 3), ((6, 6), 3), ((6, 6), 3), ((6, 6), 3), ((6, 6), 3), ((6, 6), 3), ((6, 6), 3), ((6, 6), 3), ((6, 6), 3), ((6, 6), 3), ((6, 6), 3), ((6, 6), 3), ((6, 6), 3), ((6, 6), 3), ((6, 6), 3), ((6, 6), 3), ((6, 6), 3), ((6, 6), 3), ((6, 6), 3), ((6, 6), 3), ((6, 6), 3), ((6, 6), 3), ((6, 6), 3), ((6, 6), 3), ((6, 6), 3), ((6, 6), 3), ((6, 6), 3), ((6, 6), 3), ((6, 6), 3), ((6, 6), 3), ((6, 6), 3), ((6, 6), 3), ((6, 6), 3), ((6, 6), 3), ((6, 6), 3), ((6, 6), 3), ((6, 6), 3), ((6, 6), 3), ((6, 6), 3), ((6, 6), 3), ((6, 6), 3), ((6, 6), 3), ((6, 6), 3), ((6, 6), 3), ((6, 6), 3), ((6, 6), 3), ((6, 6), 3), ((6, 6), 3), ((6, 6), 3), ((6, 6), 3), ((6, 6), 3), ((6, 6), 3), ((6, 6), 3), ((6, 6), 3), ((6, 6), 3), ((6, 6), 3), ((6, 6), 3), ((6, 6), 3), ((6, 6), 3), ((6, 6), 3), ((6, 6), 3), ((6, 6), 3), ((6, 6), 3), ((6, 6), 3), ((6, 6), 3), ((6, 6), 3), ((6, 6), 3), ((6, 6), 3), ((6, 6), 3), ((6, 6), 3), ((6, 6), 3), ((6, 6), 3), ((6, 6), 3), ((6, 6), 3), ((6, 6), 3), ((6, 6), 3), ((6, 6), 3), ((6, 6), 3), ((6, 6), 3), ((6, 6), 3), ((6, 6), 3), ((6, 6), 3), ((6, 6), 3), ((6, 6), 3), ((6, 6), 3), ((6, 6), 3), ((6, 6), 3), ((6, 6), 3), ((6, 6), 3), ((6, 6), 3), ((6, 6), 3), ((6, 6), 3), ((6, 6), 3), ((6, 6), 3), ((6, 6), 3), ((6, 6), 3), ((6, 6), 3), ((6, 6), 3), ((6, 6), 3), ((6, 6), 3), ((6, 6), 3), ((6, 6), 3), ((6, 6), 3), ((6, 6), 3), ((6, 6), 3), ((6, 6), 3), ((6, 6), 3), ((6, 6), 3), ((6, 6), 3), ((6, 6), 3), ((6, 6), 3), ((6, 6), 3), ((6, 6), 3), ((6, 6), 3), ((6, 6), 3), ((6, 6), 3), ((6, 6), 3), ((6, 6), 3), ((6, 6), 3), ((6, 6), 3), ((6, 6), 3), ((6, 6), 3), ((6, 6), 3), ((6, 6), 3), ((6, 6), 3), ((6, 6), 3), ((6, 6), 3), ((6, 6), 3), ((6, 6), 3), ((6, 6), 3), ((6, 6), 3), ((6, 6), 3), ((6, 6), 3), ((6, 6), 3), ((6, 6), 3), ((6, 6), 3), ((6, 6), 3), ((6, 6), 3), ((6, 6), 3), ((6, 6), 3), ((6, 6), 3), ((6, 6), 3), ((6, 6), 3), ((6, 6), 3), ((6, 6), 3), ((6, 6), 3), ((6, 6), 3), ((6, 6), 3), ((6, 6), 3), ((6, 6), 3), ((6, 6), 3), ((6, 6), 3), ((6, 6), 3), ((6, 6), 3), ((6, 6), 3), ((6, 6), 3), ((6, 6), 3), ((6, 6), 3), ((6, 6), 3), ((6, 6), 3), ((6, 6), 3), ((6, 6), 3), ((6, 6), 3), ((6, 6), 3), ((6, 6), 3), ((6, 6), 3), ((6, 6), 3), ((6, 6), 3), ((6, 6), 3), ((6, 6), 3), ((6, 6), 3), ((6, 6), 3), ((6, 6), 3), ((6, 6), 3), ((6, 6), 3), ((6, 6), 3), ((6, 6), 3), ((6, 6), 3), ((6, 6), 3), ((6, 6), 3), ((6, 6), 3), ((6, 6), 3), ((6, 6), 3), ((6, 6), 3), ((6, 6), 3), ((6, 6), 3), ((6, 6), 3), ((6, 6), 3), ((6, 6), 3), ((6, 6), 3), ((6, 6), 3), ((6, 6), 3), ((6, 6), 3), ((6, 6), 3), ((6, 6), 3), ((6, 6), 3), ((6, 6), 3), ((6, 6), 3), ((6, 6), 3), ((6, 6), 3), ((6, 6), 1), ((6, 6), 1), ((6, 6), 1), ((6, 6), 1), ((6, 6), 1), ((6, 6), 1), ((6, 6), 1), ((6, 6), 1), ((6, 6), 1), ((6, 6), 1), ((6, 6), 1), ((6, 6), 1), ((6, 6), 1), ((6, 6), 1), ((6, 6), 1), ((6, 6), 1), ((6, 6), 1), ((6, 6), 1), ((6, 6), 1), ((6, 6), 1), ((6, 6), 1), ((6, 6), 1), ((6, 6), 1), ((6, 6), 1), ((6, 6), 1), ((6, 6), 1), ((6, 6), 1), ((6, 6), 1), ((6, 6), 1), ((6, 6), 1), ((6, 6), 1), ((6, 6), 1), ((6, 6), 1), ((6, 6), 1), ((6, 6), 1), ((6, 6), 1), ((6, 6), 1), ((6, 6), 1), ((6, 6), 1), ((6, 6), 1), ((6, 6), 1), ((6, 6), 1), ((6, 6), 1), ((6, 6), 1), ((6, 6), 1), ((6, 6), 1), ((6, 6), 1), ((6, 6), 1), ((6, 6), 1), ((6, 6), 1), ((6, 6), 1), ((6, 6), 1), ((6, 6), 1), ((6, 6), 1), ((6, 6), 1), ((6, 6), 1), ((6, 6), 1), ((6, 6), 1), ((6, 6), 1), ((6, 6), 1), ((6, 6), 1), ((6, 6), 1), ((6, 6), 1), ((6, 6), 1), ((6, 6), 1), ((6, 6), 1), ((6, 6), 1), ((6, 6), 1), ((6, 6), 1), ((6, 6), 1), ((6, 6), 1), ((6, 6), 1), ((6, 6), 1), ((6, 6), 1), ((6, 6), 1), ((6, 6), 1), ((6, 6), 1), ((6, 6), 1), ((6, 6), 1), ((6, 6), 1), ((6, 6), 1), ((6, 6), 1), ((6, 6), 1), ((6, 6), 1), ((6, 6), 1), ((6, 6), 1), ((6, 6), 1), ((6, 6), 1), ((6, 6), 1), ((6, 6), 1), ((6, 6), 1), ((6, 6), 1), ((6, 6), 1), ((6, 6), 1), ((6, 6), 1), ((6, 6), 1), ((6, 6), 1), ((6, 6), 1), ((6, 6), 1), ((6, 6), 1), ((6, 6), 1), ((6, 6), 1), ((6, 6), 1), ((6, 6), 1), ((6, 6), 1), ((6, 6), 1), ((6, 6), 1), ((6, 6), 1), ((6, 6), 1), ((6, 6), 1), ((6, 6), 1), ((6, 6), 1), ((6, 6), 1), ((6, 6), 1), ((6, 6), 1), ((6, 6), 1), ((6, 6), 1), ((6, 6), 1), ((6, 6), 1), ((6, 6), 1), ((6, 6), 1), ((6, 6), 1), ((6, 6), 1), ((6, 6), 1), ((6, 6), 1), ((6, 6), 1), ((6, 6), 1), ((6, 6), 1), ((6, 6), 1), ((6, 6), 1), ((6, 6), 1), ((6, 6), 1), ((6, 6), 1), ((6, 6), 1), ((6, 6), 1), ((6, 6), 1), ((6, 6), 1), ((6, 6), 1), ((6, 6), 1), ((6, 6), 1), ((6, 6), 1), ((6, 6), 1), ((6, 6), 1), ((6, 6), 1), ((6, 6), 1), ((6, 6), 1), ((6, 6), 1), ((6, 6), 1), ((6, 6), 1), ((6, 6), 1), ((6, 6), 1), ((6, 6), 1), ((6, 6), 1), ((6, 6), 1), ((6, 6), 1), ((6, 6), 1), ((6, 6), 1), ((6, 6), 1), ((6, 6), 1), ((6, 6), 1), ((6, 6), 1), ((6, 6), 1), ((6, 6), 1), ((6, 6), 1), ((6, 6), 1), ((6, 6), 1), ((6, 6), 1), ((6, 6), 1), ((6, 6), 1), ((6, 6), 1), ((6, 6), 1), ((6, 6), 1), ((6, 6), 1), ((6, 6), 1), ((6, 6), 1), ((6, 6), 1), ((6, 6), 1), ((6, 6), 1), ((6, 6), 1), ((6, 6), 1), ((6, 6), 1), ((6, 6), 1), ((6, 6), 1), ((6, 6), 1), ((6, 6), 1), ((6, 6), 1), ((6, 6), 1), ((6, 6), 1), ((6, 6), 1), ((6, 6), 1), ((6, 6), 1), ((6, 6), 1), ((6, 6), 1), ((6, 6), 1), ((6, 6), 1), ((6, 6), 1), ((6, 6), 1), ((6, 6), 1), ((6, 6), 1), ((6, 6), 1), ((6, 6), 1), ((6, 6), 1), ((6, 6), 1), ((6, 6), 1), ((6, 6), 1), ((6, 6), 1), ((6, 6), 1), ((6, 6), 1), ((6, 6), 1), ((6, 6), 1), ((6, 6), 1), ((6, 6), 1), ((6, 6), 1), ((6, 6), 1), ((6, 6), 1), ((6, 6), 1), ((6, 6), 1), ((6, 6), 1), ((6, 6), 1), ((6, 6), 1), ((6, 6), 1), ((6, 6), 1), ((6, 6), 1), ((6, 6), 1), ((6, 6), 1), ((6, 6), 1), ((6, 6), 1), ((6, 6), 1), ((6, 6), 1), ((6, 6), 1), ((6, 6), 1), ((6, 6), 1), ((6, 6), 1), ((6, 6), 1), ((6, 6), 1), ((6, 6), 1), ((6, 6), 1), ((6, 6), 1), ((6, 6), 1), ((6, 6), 1), ((6, 6), 1), ((6, 6), 1), ((6, 6), 1), ((6, 6), 1), ((6, 6), 1), ((6, 6), 1), ((6, 6), 1), ((6, 6), 1), ((6, 6), 1), ((6, 6), 1), ((6, 6), 1), ((6, 6), 1), ((6, 6), 1), ((6, 6), 1), ((6, 6), 1), ((6, 6), 1), ((6, 6), 1), ((6, 6), 1), ((6, 6), 1), ((6, 6), 1), ((6, 6), 1), ((6, 6), 1), ((6, 6), 1), ((6, 6), 1), ((6, 6), 1), ((6, 6), 1), ((6, 6), 1), ((6, 6), 1), ((6, 6), 1), ((6, 6), 1), ((6, 6), 1), ((6, 6), 1), ((6, 6), 1), ((6, 6), 1), ((6, 6), 1), ((6, 6), 1), ((6, 6), 1), ((6, 6), 1), ((6, 6), 1), ((6, 6), 1), ((6, 6), 1), ((6, 6), 1), ((6, 6), 1), ((6, 6), 1), ((6, 6), 1), ((6, 6), 1), ((6, 6), 1), ((6, 6), 1), ((6, 6), 1), ((6, 6), 1), ((6, 6), 1), ((6, 6), 1), ((6, 6), 1), ((6, 6), 1), ((6, 6), 1), ((6, 6), 1), ((6, 6), 1), ((6, 6), 1), ((6, 6), 1), ((6, 6), 1), ((6, 6), 1), ((6, 6), 1), ((6, 6), 1), ((6, 6), 1), ((6, 6), 1), ((6, 6), 1), ((6, 6), 1), ((6, 6), 1), ((6, 6), 1), ((6, 6), 1), ((6, 6), 1), ((6, 6), 1), ((6, 6), 1), ((6, 6), 1), ((6, 6), 1), ((6, 6), 1), ((6, 6), 1), ((6, 6), 1), ((6, 6), 1), ((6, 6), 1), ((6, 6), 1), ((6, 6), 1), ((6, 6), 1), ((6, 6), 1), ((6, 6), 1), ((6, 6), 1), ((6, 6), 1), ((6, 6), 1), ((6, 6), 1), ((6, 6), 1), ((6, 6), 1), ((6, 6), 1), ((6, 6), 1), ((6, 6), 1), ((6, 6), 1), ((6, 6), 1), ((6, 6), 1), ((6, 6), 1), ((6, 6), 1), ((6, 6), 1), ((6, 6), 1), ((6, 6), 1), ((6, 6), 1), ((6, 6), 1), ((6, 6), 1), ((6, 6), 1), ((6, 6), 1), ((6, 6), 1), ((6, 6), 1), ((6, 6), 1), ((6, 6), 1), ((6, 6), 1), ((6, 6), 1), ((6, 6), 1), ((6, 6), 1), ((6, 6), 1), ((6, 6), 1), ((6, 6), 1), ((6, 6), 1), ((6, 6), 1), ((6, 6), 1), ((6, 6), 1), ((6, 6), 1), ((6, 6), 1), ((6, 6), 1), ((6, 6), 1), ((6, 6), 1), ((6, 6), 1), ((6, 6), 1), ((6, 6), 1), ((6, 6), 1), ((6, 6), 1), ((6, 6), 1), ((6, 6), 1), ((6, 6), 1), ((6, 6), 1), ((6, 6), 1), ((6, 6), 1), ((6, 6), 1), ((6, 6), 1), ((6, 6), 1), ((6, 6), 1), ((6, 6), 1), ((6, 6), 1), ((6, 6), 1), ((6, 6), 1), ((6, 6), 1), ((6, 6), 1), ((6, 6), 1), ((6, 6), 1), ((6, 6), 1), ((6, 6), 1), ((6, 6), 1), ((6, 6), 1), ((6, 6), 1), ((6, 6), 1), ((6, 6), 1), ((6, 6), 1), ((6, 6), 1), ((6, 6), 1), ((6, 6), 1), ((6, 6), 1), ((6, 6), 1), ((6, 6), 1), ((6, 6), 1), ((6, 6), 1), ((6, 6), 1), ((6, 6), 1), ((6, 6), 1), ((6, 6), 1), ((6, 6), 1), ((6, 6), 1), ((6, 6), 1), ((6, 6), 1), ((6, 6), 1), ((6, 6), 1), ((6, 6), 1), ((6, 6), 1), ((6, 6), 1), ((6, 6), 1), ((6, 6), 1), ((6, 6), 1), ((6, 6), 1), ((6, 6), 1), ((6, 6), 1), ((6, 6), 1), ((6, 6), 1), ((6, 6), 1), ((6, 6), 1), ((6, 6), 1), ((6, 6), 1), ((6, 6), 1), ((6, 6), 1), ((6, 6), 1), ((6, 6), 1), ((6, 6), 1), ((6, 6), 1), ((6, 6), 1), ((6, 6), 1), ((6, 6), 1), ((6, 6), 1), ((6, 6), 1), ((6, 6), 1), ((6, 6), 1), ((6, 6), 1), ((6, 6), 1), ((6, 6), 1), ((6, 6), 1), ((6, 6), 1), ((6, 6), 1), ((6, 6), 1), ((6, 6), 1), ((6, 6), 1), ((6, 6), 1), ((6, 6), 1), ((6, 6), 1), ((6, 6), 1), ((6, 6), 1), ((6, 6), 1), ((6, 6), 1), ((6, 5), 4), ((6, 5), 4)]\n",
      "path in A* {(0, 0): [], (1, 0): [(0, 0)], (0, 1): [(0, 0)], (1, 1): [(1, 0)], (0, 2): [(0, 1)], (1, 2): [(1, 1)], (0, 3): [(0, 2)], (1, 3): [(1, 2)], (0, 4): [(0, 3)], (1, 4): [(1, 3)], (0, 5): [(0, 4)], (1, 5): [(1, 4)], (0, 6): [(0, 5)], (1, 6): [(1, 5)], (2, 0): [(1, 0)], (2, 1): [(2, 0)], (2, 2): [(2, 1)], (2, 3): [(2, 2)], (2, 4): [(2, 3)], (2, 5): [(2, 4)], (2, 6): [(2, 5)], (3, 0): [(2, 0)], (3, 1): [(3, 0)], (3, 2): [(3, 1)], (3, 3): [(3, 2)], (3, 4): [(3, 3)], (3, 5): [(3, 4)], (3, 6): [(3, 5)], (4, 0): [(3, 0)], (4, 1): [(4, 0)], (4, 2): [(4, 1)], (4, 3): [(4, 2)], (4, 4): [(4, 3)], (4, 5): [(4, 4)], (4, 6): [(4, 5)], (5, 0): [(4, 0)], (5, 1): [(5, 0)], (5, 2): [(5, 1)], (5, 3): [(5, 2)], (5, 4): [(5, 3)], (5, 5): [(5, 4)], (5, 6): [(5, 5)], (6, 0): [(5, 0)], (6, 1): [(6, 0)], (6, 2): [(6, 1)], (6, 3): [(6, 2)], (6, 4): [(6, 3)], (6, 5): [(6, 4)], (6, 6): [(6, 5)]}\n",
      "frontier [((6, 6), 3), ((6, 6), 3), ((6, 6), 3), ((6, 6), 3), ((6, 6), 3), ((6, 6), 3), ((6, 6), 3), ((6, 6), 3), ((6, 6), 3), ((6, 6), 3), ((6, 6), 3), ((6, 6), 3), ((6, 6), 3), ((6, 6), 3), ((6, 6), 3), ((6, 6), 3), ((6, 6), 3), ((6, 6), 3), ((6, 6), 3), ((6, 6), 3), ((6, 6), 3), ((6, 6), 3), ((6, 6), 3), ((6, 6), 3), ((6, 6), 3), ((6, 6), 3), ((6, 6), 3), ((6, 6), 3), ((6, 6), 3), ((6, 6), 3), ((6, 6), 3), ((6, 6), 3), ((6, 6), 3), ((6, 6), 3), ((6, 6), 3), ((6, 6), 3), ((6, 6), 3), ((6, 6), 3), ((6, 6), 3), ((6, 6), 3), ((6, 6), 3), ((6, 6), 3), ((6, 6), 3), ((6, 6), 3), ((6, 6), 3), ((6, 6), 3), ((6, 6), 3), ((6, 6), 3), ((6, 6), 3), ((6, 6), 3), ((6, 6), 3), ((6, 6), 3), ((6, 6), 3), ((6, 6), 3), ((6, 6), 3), ((6, 6), 3), ((6, 6), 3), ((6, 6), 3), ((6, 6), 3), ((6, 6), 3), ((6, 6), 3), ((6, 6), 3), ((6, 6), 3), ((6, 6), 3), ((6, 6), 3), ((6, 6), 3), ((6, 6), 3), ((6, 6), 3), ((6, 6), 3), ((6, 6), 3), ((6, 6), 3), ((6, 6), 3), ((6, 6), 3), ((6, 6), 3), ((6, 6), 3), ((6, 6), 3), ((6, 6), 3), ((6, 6), 3), ((6, 6), 3), ((6, 6), 3), ((6, 6), 3), ((6, 6), 3), ((6, 6), 3), ((6, 6), 3), ((6, 6), 3), ((6, 6), 3), ((6, 6), 3), ((6, 6), 3), ((6, 6), 3), ((6, 6), 3), ((6, 6), 3), ((6, 6), 3), ((6, 6), 3), ((6, 6), 3), ((6, 6), 3), ((6, 6), 3), ((6, 6), 3), ((6, 6), 3), ((6, 6), 3), ((6, 6), 3), ((6, 6), 3), ((6, 6), 3), ((6, 6), 3), ((6, 6), 3), ((6, 6), 3), ((6, 6), 3), ((6, 6), 3), ((6, 6), 3), ((6, 6), 3), ((6, 6), 3), ((6, 6), 3), ((6, 6), 3), ((6, 6), 3), ((6, 6), 3), ((6, 6), 3), ((6, 6), 3), ((6, 6), 3), ((6, 6), 3), ((6, 6), 3), ((6, 6), 3), ((6, 6), 3), ((6, 6), 3), ((6, 6), 3), ((6, 6), 3), ((6, 6), 3), ((6, 6), 3), ((6, 6), 3), ((6, 6), 3), ((6, 6), 3), ((6, 6), 3), ((6, 6), 3), ((6, 6), 3), ((6, 6), 3), ((6, 6), 3), ((6, 6), 3), ((6, 6), 3), ((6, 6), 3), ((6, 6), 3), ((6, 6), 3), ((6, 6), 3), ((6, 6), 3), ((6, 6), 3), ((6, 6), 3), ((6, 6), 3), ((6, 6), 3), ((6, 6), 3), ((6, 6), 3), ((6, 6), 3), ((6, 6), 3), ((6, 6), 3), ((6, 6), 3), ((6, 6), 3), ((6, 6), 3), ((6, 6), 3), ((6, 6), 3), ((6, 6), 3), ((6, 6), 3), ((6, 6), 3), ((6, 6), 3), ((6, 6), 3), ((6, 6), 3), ((6, 6), 3), ((6, 6), 3), ((6, 6), 3), ((6, 6), 3), ((6, 6), 3), ((6, 6), 3), ((6, 6), 3), ((6, 6), 3), ((6, 6), 3), ((6, 6), 3), ((6, 6), 3), ((6, 6), 3), ((6, 6), 3), ((6, 6), 3), ((6, 6), 3), ((6, 6), 3), ((6, 6), 3), ((6, 6), 3), ((6, 6), 3), ((6, 6), 3), ((6, 6), 3), ((6, 6), 3), ((6, 6), 3), ((6, 6), 3), ((6, 6), 3), ((6, 6), 3), ((6, 6), 3), ((6, 6), 3), ((6, 6), 3), ((6, 6), 3), ((6, 6), 3), ((6, 6), 3), ((6, 6), 3), ((6, 6), 3), ((6, 6), 3), ((6, 6), 3), ((6, 6), 3), ((6, 6), 3), ((6, 6), 3), ((6, 6), 3), ((6, 6), 3), ((6, 6), 3), ((6, 6), 3), ((6, 6), 3), ((6, 6), 3), ((6, 6), 3), ((6, 6), 3), ((6, 6), 3), ((6, 6), 3), ((6, 6), 3), ((6, 6), 3), ((6, 6), 3), ((6, 6), 3), ((6, 6), 3), ((6, 6), 3), ((6, 6), 3), ((6, 6), 3), ((6, 6), 3), ((6, 6), 3), ((6, 6), 3), ((6, 6), 3), ((6, 6), 3), ((6, 6), 3), ((6, 6), 3), ((6, 6), 3), ((6, 6), 3), ((6, 6), 3), ((6, 6), 3), ((6, 6), 3), ((6, 6), 3), ((6, 6), 3), ((6, 6), 3), ((6, 6), 3), ((6, 6), 3), ((6, 6), 3), ((6, 6), 3), ((6, 6), 3), ((6, 6), 3), ((6, 6), 3), ((6, 6), 3), ((6, 6), 3), ((6, 6), 3), ((6, 6), 3), ((6, 6), 3), ((6, 6), 3), ((6, 6), 3), ((6, 6), 3), ((6, 6), 3), ((6, 6), 3), ((6, 6), 3), ((6, 6), 3), ((6, 6), 3), ((6, 6), 3), ((6, 6), 3), ((6, 6), 3), ((6, 6), 3), ((6, 6), 3), ((6, 6), 3), ((6, 6), 3), ((6, 6), 3), ((6, 6), 3), ((6, 6), 3), ((6, 6), 3), ((6, 6), 3), ((6, 6), 3), ((6, 6), 3), ((6, 6), 3), ((6, 6), 3), ((6, 6), 3), ((6, 6), 3), ((6, 6), 3), ((6, 6), 3), ((6, 6), 3), ((6, 6), 3), ((6, 6), 3), ((6, 6), 3), ((6, 6), 3), ((6, 6), 3), ((6, 6), 3), ((6, 6), 3), ((6, 6), 3), ((6, 6), 3), ((6, 6), 3), ((6, 6), 3), ((6, 6), 3), ((6, 6), 3), ((6, 6), 3), ((6, 6), 3), ((6, 6), 3), ((6, 6), 3), ((6, 6), 3), ((6, 6), 3), ((6, 6), 3), ((6, 6), 3), ((6, 6), 3), ((6, 6), 3), ((6, 6), 3), ((6, 6), 3), ((6, 6), 3), ((6, 6), 3), ((6, 6), 3), ((6, 6), 3), ((6, 6), 3), ((6, 6), 3), ((6, 6), 3), ((6, 6), 3), ((6, 6), 3), ((6, 6), 3), ((6, 6), 3), ((6, 6), 3), ((6, 6), 3), ((6, 6), 3), ((6, 6), 3), ((6, 6), 3), ((6, 6), 3), ((6, 6), 3), ((6, 6), 3), ((6, 6), 3), ((6, 6), 3), ((6, 6), 3), ((6, 6), 3), ((6, 6), 3), ((6, 6), 3), ((6, 6), 3), ((6, 6), 3), ((6, 6), 3), ((6, 6), 3), ((6, 6), 3), ((6, 6), 3), ((6, 6), 3), ((6, 6), 3), ((6, 6), 3), ((6, 6), 3), ((6, 6), 3), ((6, 6), 3), ((6, 6), 3), ((6, 6), 3), ((6, 6), 3), ((6, 6), 3), ((6, 6), 3), ((6, 6), 3), ((6, 6), 3), ((6, 6), 3), ((6, 6), 3), ((6, 6), 3), ((6, 6), 3), ((6, 6), 3), ((6, 6), 3), ((6, 6), 3), ((6, 6), 3), ((6, 6), 3), ((6, 6), 3), ((6, 6), 3), ((6, 6), 3), ((6, 6), 3), ((6, 6), 3), ((6, 6), 3), ((6, 6), 3), ((6, 6), 3), ((6, 6), 3), ((6, 6), 3), ((6, 6), 3), ((6, 6), 3), ((6, 6), 3), ((6, 6), 3), ((6, 6), 3), ((6, 6), 3), ((6, 6), 3), ((6, 6), 3), ((6, 6), 3), ((6, 6), 3), ((6, 6), 3), ((6, 6), 3), ((6, 6), 3), ((6, 6), 3), ((6, 6), 3), ((6, 6), 3), ((6, 6), 3), ((6, 6), 3), ((6, 6), 3), ((6, 6), 3), ((6, 6), 3), ((6, 6), 3), ((6, 6), 3), ((6, 6), 3), ((6, 6), 3), ((6, 6), 3), ((6, 6), 3), ((6, 6), 3), ((6, 6), 3), ((6, 6), 3), ((6, 6), 3), ((6, 6), 3), ((6, 6), 3), ((6, 6), 3), ((6, 6), 3), ((6, 6), 3), ((6, 6), 3), ((6, 6), 3), ((6, 6), 3), ((6, 6), 3), ((6, 6), 3), ((6, 6), 3), ((6, 6), 3), ((6, 6), 3), ((6, 6), 3), ((6, 6), 3), ((6, 6), 3), ((6, 6), 3), ((6, 6), 3), ((6, 6), 3), ((6, 6), 3), ((6, 6), 3), ((6, 6), 3), ((6, 6), 3), ((6, 6), 3), ((6, 6), 3), ((6, 6), 3), ((6, 6), 3), ((6, 6), 3), ((6, 6), 3), ((6, 6), 3), ((6, 6), 3), ((6, 6), 3), ((6, 6), 3), ((6, 6), 3), ((6, 6), 3), ((6, 6), 3), ((6, 6), 3), ((6, 6), 3), ((6, 6), 3), ((6, 6), 3), ((6, 6), 3), ((6, 6), 3), ((6, 6), 3), ((6, 6), 3), ((6, 6), 3), ((6, 6), 3), ((6, 6), 3), ((6, 6), 3), ((6, 6), 3), ((6, 6), 3), ((6, 6), 3), ((6, 6), 3), ((6, 6), 3), ((6, 6), 3), ((6, 6), 3), ((6, 6), 3), ((6, 6), 3), ((6, 6), 3), ((6, 6), 3), ((6, 6), 3), ((6, 6), 3), ((6, 6), 3), ((6, 6), 3), ((6, 6), 3), ((6, 6), 3), ((6, 6), 3), ((6, 6), 3), ((6, 6), 3), ((6, 6), 3), ((6, 6), 1), ((6, 6), 1), ((6, 6), 1), ((6, 6), 1), ((6, 6), 1), ((6, 6), 1), ((6, 6), 1), ((6, 6), 1), ((6, 6), 1), ((6, 6), 1), ((6, 6), 1), ((6, 6), 1), ((6, 6), 1), ((6, 6), 1), ((6, 6), 1), ((6, 6), 1), ((6, 6), 1), ((6, 6), 1), ((6, 6), 1), ((6, 6), 1), ((6, 6), 1), ((6, 6), 1), ((6, 6), 1), ((6, 6), 1), ((6, 6), 1), ((6, 6), 1), ((6, 6), 1), ((6, 6), 1), ((6, 6), 1), ((6, 6), 1), ((6, 6), 1), ((6, 6), 1), ((6, 6), 1), ((6, 6), 1), ((6, 6), 1), ((6, 6), 1), ((6, 6), 1), ((6, 6), 1), ((6, 6), 1), ((6, 6), 1), ((6, 6), 1), ((6, 6), 1), ((6, 6), 1), ((6, 6), 1), ((6, 6), 1), ((6, 6), 1), ((6, 6), 1), ((6, 6), 1), ((6, 6), 1), ((6, 6), 1), ((6, 6), 1), ((6, 6), 1), ((6, 6), 1), ((6, 6), 1), ((6, 6), 1), ((6, 6), 1), ((6, 6), 1), ((6, 6), 1), ((6, 6), 1), ((6, 6), 1), ((6, 6), 1), ((6, 6), 1), ((6, 6), 1), ((6, 6), 1), ((6, 6), 1), ((6, 6), 1), ((6, 6), 1), ((6, 6), 1), ((6, 6), 1), ((6, 6), 1), ((6, 6), 1), ((6, 6), 1), ((6, 6), 1), ((6, 6), 1), ((6, 6), 1), ((6, 6), 1), ((6, 6), 1), ((6, 6), 1), ((6, 6), 1), ((6, 6), 1), ((6, 6), 1), ((6, 6), 1), ((6, 6), 1), ((6, 6), 1), ((6, 6), 1), ((6, 6), 1), ((6, 6), 1), ((6, 6), 1), ((6, 6), 1), ((6, 6), 1), ((6, 6), 1), ((6, 6), 1), ((6, 6), 1), ((6, 6), 1), ((6, 6), 1), ((6, 6), 1), ((6, 6), 1), ((6, 6), 1), ((6, 6), 1), ((6, 6), 1), ((6, 6), 1), ((6, 6), 1), ((6, 6), 1), ((6, 6), 1), ((6, 6), 1), ((6, 6), 1), ((6, 6), 1), ((6, 6), 1), ((6, 6), 1), ((6, 6), 1), ((6, 6), 1), ((6, 6), 1), ((6, 6), 1), ((6, 6), 1), ((6, 6), 1), ((6, 6), 1), ((6, 6), 1), ((6, 6), 1), ((6, 6), 1), ((6, 6), 1), ((6, 6), 1), ((6, 6), 1), ((6, 6), 1), ((6, 6), 1), ((6, 6), 1), ((6, 6), 1), ((6, 6), 1), ((6, 6), 1), ((6, 6), 1), ((6, 6), 1), ((6, 6), 1), ((6, 6), 1), ((6, 6), 1), ((6, 6), 1), ((6, 6), 1), ((6, 6), 1), ((6, 6), 1), ((6, 6), 1), ((6, 6), 1), ((6, 6), 1), ((6, 6), 1), ((6, 6), 1), ((6, 6), 1), ((6, 6), 1), ((6, 6), 1), ((6, 6), 1), ((6, 6), 1), ((6, 6), 1), ((6, 6), 1), ((6, 6), 1), ((6, 6), 1), ((6, 6), 1), ((6, 6), 1), ((6, 6), 1), ((6, 6), 1), ((6, 6), 1), ((6, 6), 1), ((6, 6), 1), ((6, 6), 1), ((6, 6), 1), ((6, 6), 1), ((6, 6), 1), ((6, 6), 1), ((6, 6), 1), ((6, 6), 1), ((6, 6), 1), ((6, 6), 1), ((6, 6), 1), ((6, 6), 1), ((6, 6), 1), ((6, 6), 1), ((6, 6), 1), ((6, 6), 1), ((6, 6), 1), ((6, 6), 1), ((6, 6), 1), ((6, 6), 1), ((6, 6), 1), ((6, 6), 1), ((6, 6), 1), ((6, 6), 1), ((6, 6), 1), ((6, 6), 1), ((6, 6), 1), ((6, 6), 1), ((6, 6), 1), ((6, 6), 1), ((6, 6), 1), ((6, 6), 1), ((6, 6), 1), ((6, 6), 1), ((6, 6), 1), ((6, 6), 1), ((6, 6), 1), ((6, 6), 1), ((6, 6), 1), ((6, 6), 1), ((6, 6), 1), ((6, 6), 1), ((6, 6), 1), ((6, 6), 1), ((6, 6), 1), ((6, 6), 1), ((6, 6), 1), ((6, 6), 1), ((6, 6), 1), ((6, 6), 1), ((6, 6), 1), ((6, 6), 1), ((6, 6), 1), ((6, 6), 1), ((6, 6), 1), ((6, 6), 1), ((6, 6), 1), ((6, 6), 1), ((6, 6), 1), ((6, 6), 1), ((6, 6), 1), ((6, 6), 1), ((6, 6), 1), ((6, 6), 1), ((6, 6), 1), ((6, 6), 1), ((6, 6), 1), ((6, 6), 1), ((6, 6), 1), ((6, 6), 1), ((6, 6), 1), ((6, 6), 1), ((6, 6), 1), ((6, 6), 1), ((6, 6), 1), ((6, 6), 1), ((6, 6), 1), ((6, 6), 1), ((6, 6), 1), ((6, 6), 1), ((6, 6), 1), ((6, 6), 1), ((6, 6), 1), ((6, 6), 1), ((6, 6), 1), ((6, 6), 1), ((6, 6), 1), ((6, 6), 1), ((6, 6), 1), ((6, 6), 1), ((6, 6), 1), ((6, 6), 1), ((6, 6), 1), ((6, 6), 1), ((6, 6), 1), ((6, 6), 1), ((6, 6), 1), ((6, 6), 1), ((6, 6), 1), ((6, 6), 1), ((6, 6), 1), ((6, 6), 1), ((6, 6), 1), ((6, 6), 1), ((6, 6), 1), ((6, 6), 1), ((6, 6), 1), ((6, 6), 1), ((6, 6), 1), ((6, 6), 1), ((6, 6), 1), ((6, 6), 1), ((6, 6), 1), ((6, 6), 1), ((6, 6), 1), ((6, 6), 1), ((6, 6), 1), ((6, 6), 1), ((6, 6), 1), ((6, 6), 1), ((6, 6), 1), ((6, 6), 1), ((6, 6), 1), ((6, 6), 1), ((6, 6), 1), ((6, 6), 1), ((6, 6), 1), ((6, 6), 1), ((6, 6), 1), ((6, 6), 1), ((6, 6), 1), ((6, 6), 1), ((6, 6), 1), ((6, 6), 1), ((6, 6), 1), ((6, 6), 1), ((6, 6), 1), ((6, 6), 1), ((6, 6), 1), ((6, 6), 1), ((6, 6), 1), ((6, 6), 1), ((6, 6), 1), ((6, 6), 1), ((6, 6), 1), ((6, 6), 1), ((6, 6), 1), ((6, 6), 1), ((6, 6), 1), ((6, 6), 1), ((6, 6), 1), ((6, 6), 1), ((6, 6), 1), ((6, 6), 1), ((6, 6), 1), ((6, 6), 1), ((6, 6), 1), ((6, 6), 1), ((6, 6), 1), ((6, 6), 1), ((6, 6), 1), ((6, 6), 1), ((6, 6), 1), ((6, 6), 1), ((6, 6), 1), ((6, 6), 1), ((6, 6), 1), ((6, 6), 1), ((6, 6), 1), ((6, 6), 1), ((6, 6), 1), ((6, 6), 1), ((6, 6), 1), ((6, 6), 1), ((6, 6), 1), ((6, 6), 1), ((6, 6), 1), ((6, 6), 1), ((6, 6), 1), ((6, 6), 1), ((6, 6), 1), ((6, 6), 1), ((6, 6), 1), ((6, 6), 1), ((6, 6), 1), ((6, 6), 1), ((6, 6), 1), ((6, 6), 1), ((6, 6), 1), ((6, 6), 1), ((6, 6), 1), ((6, 6), 1), ((6, 6), 1), ((6, 6), 1), ((6, 6), 1), ((6, 6), 1), ((6, 6), 1), ((6, 6), 1), ((6, 6), 1), ((6, 6), 1), ((6, 6), 1), ((6, 6), 1), ((6, 6), 1), ((6, 6), 1), ((6, 6), 1), ((6, 6), 1), ((6, 6), 1), ((6, 6), 1), ((6, 6), 1), ((6, 6), 1), ((6, 6), 1), ((6, 6), 1), ((6, 6), 1), ((6, 6), 1), ((6, 6), 1), ((6, 6), 1), ((6, 6), 1), ((6, 6), 1), ((6, 6), 1), ((6, 6), 1), ((6, 6), 1), ((6, 6), 1), ((6, 6), 1), ((6, 6), 1), ((6, 6), 1), ((6, 6), 1), ((6, 6), 1), ((6, 6), 1), ((6, 6), 1), ((6, 6), 1), ((6, 6), 1), ((6, 6), 1), ((6, 6), 1), ((6, 6), 1), ((6, 6), 1), ((6, 6), 1), ((6, 6), 1), ((6, 6), 1), ((6, 6), 1), ((6, 6), 1), ((6, 6), 1), ((6, 6), 1), ((6, 6), 1), ((6, 6), 1), ((6, 6), 1), ((6, 6), 1), ((6, 6), 1), ((6, 6), 1), ((6, 6), 1), ((6, 6), 1), ((6, 6), 1), ((6, 6), 1), ((6, 6), 1), ((6, 6), 1), ((6, 6), 1), ((6, 6), 1), ((6, 6), 1), ((6, 6), 1), ((6, 6), 1), ((6, 6), 1), ((6, 6), 1), ((6, 6), 1), ((6, 6), 1), ((6, 6), 1), ((6, 6), 1), ((6, 6), 1), ((6, 6), 1), ((6, 6), 1), ((6, 6), 1), ((6, 6), 1), ((6, 6), 1), ((6, 6), 1), ((6, 6), 1), ((6, 6), 1), ((6, 6), 1), ((6, 6), 1), ((6, 6), 1), ((6, 6), 1), ((6, 6), 1), ((6, 6), 1), ((6, 6), 1), ((6, 6), 1), ((6, 6), 1), ((6, 6), 1), ((6, 6), 1), ((6, 6), 1), ((6, 6), 1), ((6, 6), 1), ((6, 6), 1), ((6, 6), 1), ((6, 6), 1), ((6, 6), 1), ((6, 6), 1), ((6, 6), 1), ((6, 6), 1), ((6, 6), 1), ((6, 6), 1), ((6, 6), 1), ((6, 6), 1), ((6, 6), 1), ((6, 6), 1), ((6, 6), 1), ((6, 6), 1), ((6, 6), 1), ((6, 5), 4)]\n",
      "path in A* {(0, 0): [], (1, 0): [(0, 0)], (0, 1): [(0, 0)], (1, 1): [(1, 0)], (0, 2): [(0, 1)], (1, 2): [(1, 1)], (0, 3): [(0, 2)], (1, 3): [(1, 2)], (0, 4): [(0, 3)], (1, 4): [(1, 3)], (0, 5): [(0, 4)], (1, 5): [(1, 4)], (0, 6): [(0, 5)], (1, 6): [(1, 5)], (2, 0): [(1, 0)], (2, 1): [(2, 0)], (2, 2): [(2, 1)], (2, 3): [(2, 2)], (2, 4): [(2, 3)], (2, 5): [(2, 4)], (2, 6): [(2, 5)], (3, 0): [(2, 0)], (3, 1): [(3, 0)], (3, 2): [(3, 1)], (3, 3): [(3, 2)], (3, 4): [(3, 3)], (3, 5): [(3, 4)], (3, 6): [(3, 5)], (4, 0): [(3, 0)], (4, 1): [(4, 0)], (4, 2): [(4, 1)], (4, 3): [(4, 2)], (4, 4): [(4, 3)], (4, 5): [(4, 4)], (4, 6): [(4, 5)], (5, 0): [(4, 0)], (5, 1): [(5, 0)], (5, 2): [(5, 1)], (5, 3): [(5, 2)], (5, 4): [(5, 3)], (5, 5): [(5, 4)], (5, 6): [(5, 5)], (6, 0): [(5, 0)], (6, 1): [(6, 0)], (6, 2): [(6, 1)], (6, 3): [(6, 2)], (6, 4): [(6, 3)], (6, 5): [(6, 4)], (6, 6): [(6, 5)]}\n",
      "frontier [((6, 6), 3), ((6, 6), 3), ((6, 6), 3), ((6, 6), 3), ((6, 6), 3), ((6, 6), 3), ((6, 6), 3), ((6, 6), 3), ((6, 6), 3), ((6, 6), 3), ((6, 6), 3), ((6, 6), 3), ((6, 6), 3), ((6, 6), 3), ((6, 6), 3), ((6, 6), 3), ((6, 6), 3), ((6, 6), 3), ((6, 6), 3), ((6, 6), 3), ((6, 6), 3), ((6, 6), 3), ((6, 6), 3), ((6, 6), 3), ((6, 6), 3), ((6, 6), 3), ((6, 6), 3), ((6, 6), 3), ((6, 6), 3), ((6, 6), 3), ((6, 6), 3), ((6, 6), 3), ((6, 6), 3), ((6, 6), 3), ((6, 6), 3), ((6, 6), 3), ((6, 6), 3), ((6, 6), 3), ((6, 6), 3), ((6, 6), 3), ((6, 6), 3), ((6, 6), 3), ((6, 6), 3), ((6, 6), 3), ((6, 6), 3), ((6, 6), 3), ((6, 6), 3), ((6, 6), 3), ((6, 6), 3), ((6, 6), 3), ((6, 6), 3), ((6, 6), 3), ((6, 6), 3), ((6, 6), 3), ((6, 6), 3), ((6, 6), 3), ((6, 6), 3), ((6, 6), 3), ((6, 6), 3), ((6, 6), 3), ((6, 6), 3), ((6, 6), 3), ((6, 6), 3), ((6, 6), 3), ((6, 6), 3), ((6, 6), 3), ((6, 6), 3), ((6, 6), 3), ((6, 6), 3), ((6, 6), 3), ((6, 6), 3), ((6, 6), 3), ((6, 6), 3), ((6, 6), 3), ((6, 6), 3), ((6, 6), 3), ((6, 6), 3), ((6, 6), 3), ((6, 6), 3), ((6, 6), 3), ((6, 6), 3), ((6, 6), 3), ((6, 6), 3), ((6, 6), 3), ((6, 6), 3), ((6, 6), 3), ((6, 6), 3), ((6, 6), 3), ((6, 6), 3), ((6, 6), 3), ((6, 6), 3), ((6, 6), 3), ((6, 6), 3), ((6, 6), 3), ((6, 6), 3), ((6, 6), 3), ((6, 6), 3), ((6, 6), 3), ((6, 6), 3), ((6, 6), 3), ((6, 6), 3), ((6, 6), 3), ((6, 6), 3), ((6, 6), 3), ((6, 6), 3), ((6, 6), 3), ((6, 6), 3), ((6, 6), 3), ((6, 6), 3), ((6, 6), 3), ((6, 6), 3), ((6, 6), 3), ((6, 6), 3), ((6, 6), 3), ((6, 6), 3), ((6, 6), 3), ((6, 6), 3), ((6, 6), 3), ((6, 6), 3), ((6, 6), 3), ((6, 6), 3), ((6, 6), 3), ((6, 6), 3), ((6, 6), 3), ((6, 6), 3), ((6, 6), 3), ((6, 6), 3), ((6, 6), 3), ((6, 6), 3), ((6, 6), 3), ((6, 6), 3), ((6, 6), 3), ((6, 6), 3), ((6, 6), 3), ((6, 6), 3), ((6, 6), 3), ((6, 6), 3), ((6, 6), 3), ((6, 6), 3), ((6, 6), 3), ((6, 6), 3), ((6, 6), 3), ((6, 6), 3), ((6, 6), 3), ((6, 6), 3), ((6, 6), 3), ((6, 6), 3), ((6, 6), 3), ((6, 6), 3), ((6, 6), 3), ((6, 6), 3), ((6, 6), 3), ((6, 6), 3), ((6, 6), 3), ((6, 6), 3), ((6, 6), 3), ((6, 6), 3), ((6, 6), 3), ((6, 6), 3), ((6, 6), 3), ((6, 6), 3), ((6, 6), 3), ((6, 6), 3), ((6, 6), 3), ((6, 6), 3), ((6, 6), 3), ((6, 6), 3), ((6, 6), 3), ((6, 6), 3), ((6, 6), 3), ((6, 6), 3), ((6, 6), 3), ((6, 6), 3), ((6, 6), 3), ((6, 6), 3), ((6, 6), 3), ((6, 6), 3), ((6, 6), 3), ((6, 6), 3), ((6, 6), 3), ((6, 6), 3), ((6, 6), 3), ((6, 6), 3), ((6, 6), 3), ((6, 6), 3), ((6, 6), 3), ((6, 6), 3), ((6, 6), 3), ((6, 6), 3), ((6, 6), 3), ((6, 6), 3), ((6, 6), 3), ((6, 6), 3), ((6, 6), 3), ((6, 6), 3), ((6, 6), 3), ((6, 6), 3), ((6, 6), 3), ((6, 6), 3), ((6, 6), 3), ((6, 6), 3), ((6, 6), 3), ((6, 6), 3), ((6, 6), 3), ((6, 6), 3), ((6, 6), 3), ((6, 6), 3), ((6, 6), 3), ((6, 6), 3), ((6, 6), 3), ((6, 6), 3), ((6, 6), 3), ((6, 6), 3), ((6, 6), 3), ((6, 6), 3), ((6, 6), 3), ((6, 6), 3), ((6, 6), 3), ((6, 6), 3), ((6, 6), 3), ((6, 6), 3), ((6, 6), 3), ((6, 6), 3), ((6, 6), 3), ((6, 6), 3), ((6, 6), 3), ((6, 6), 3), ((6, 6), 3), ((6, 6), 3), ((6, 6), 3), ((6, 6), 3), ((6, 6), 3), ((6, 6), 3), ((6, 6), 3), ((6, 6), 3), ((6, 6), 3), ((6, 6), 3), ((6, 6), 3), ((6, 6), 3), ((6, 6), 3), ((6, 6), 3), ((6, 6), 3), ((6, 6), 3), ((6, 6), 3), ((6, 6), 3), ((6, 6), 3), ((6, 6), 3), ((6, 6), 3), ((6, 6), 3), ((6, 6), 3), ((6, 6), 3), ((6, 6), 3), ((6, 6), 3), ((6, 6), 3), ((6, 6), 3), ((6, 6), 3), ((6, 6), 3), ((6, 6), 3), ((6, 6), 3), ((6, 6), 3), ((6, 6), 3), ((6, 6), 3), ((6, 6), 3), ((6, 6), 3), ((6, 6), 3), ((6, 6), 3), ((6, 6), 3), ((6, 6), 3), ((6, 6), 3), ((6, 6), 3), ((6, 6), 3), ((6, 6), 3), ((6, 6), 3), ((6, 6), 3), ((6, 6), 3), ((6, 6), 3), ((6, 6), 3), ((6, 6), 3), ((6, 6), 3), ((6, 6), 3), ((6, 6), 3), ((6, 6), 3), ((6, 6), 3), ((6, 6), 3), ((6, 6), 3), ((6, 6), 3), ((6, 6), 3), ((6, 6), 3), ((6, 6), 3), ((6, 6), 3), ((6, 6), 3), ((6, 6), 3), ((6, 6), 3), ((6, 6), 3), ((6, 6), 3), ((6, 6), 3), ((6, 6), 3), ((6, 6), 3), ((6, 6), 3), ((6, 6), 3), ((6, 6), 3), ((6, 6), 3), ((6, 6), 3), ((6, 6), 3), ((6, 6), 3), ((6, 6), 3), ((6, 6), 3), ((6, 6), 3), ((6, 6), 3), ((6, 6), 3), ((6, 6), 3), ((6, 6), 3), ((6, 6), 3), ((6, 6), 3), ((6, 6), 3), ((6, 6), 3), ((6, 6), 3), ((6, 6), 3), ((6, 6), 3), ((6, 6), 3), ((6, 6), 3), ((6, 6), 3), ((6, 6), 3), ((6, 6), 3), ((6, 6), 3), ((6, 6), 3), ((6, 6), 3), ((6, 6), 3), ((6, 6), 3), ((6, 6), 3), ((6, 6), 3), ((6, 6), 3), ((6, 6), 3), ((6, 6), 3), ((6, 6), 3), ((6, 6), 3), ((6, 6), 3), ((6, 6), 3), ((6, 6), 3), ((6, 6), 3), ((6, 6), 3), ((6, 6), 3), ((6, 6), 3), ((6, 6), 3), ((6, 6), 3), ((6, 6), 3), ((6, 6), 3), ((6, 6), 3), ((6, 6), 3), ((6, 6), 3), ((6, 6), 3), ((6, 6), 3), ((6, 6), 3), ((6, 6), 3), ((6, 6), 3), ((6, 6), 3), ((6, 6), 3), ((6, 6), 3), ((6, 6), 3), ((6, 6), 3), ((6, 6), 3), ((6, 6), 3), ((6, 6), 3), ((6, 6), 3), ((6, 6), 3), ((6, 6), 3), ((6, 6), 3), ((6, 6), 3), ((6, 6), 3), ((6, 6), 3), ((6, 6), 3), ((6, 6), 3), ((6, 6), 3), ((6, 6), 3), ((6, 6), 3), ((6, 6), 3), ((6, 6), 3), ((6, 6), 3), ((6, 6), 3), ((6, 6), 3), ((6, 6), 3), ((6, 6), 3), ((6, 6), 3), ((6, 6), 3), ((6, 6), 3), ((6, 6), 3), ((6, 6), 3), ((6, 6), 3), ((6, 6), 3), ((6, 6), 3), ((6, 6), 3), ((6, 6), 3), ((6, 6), 3), ((6, 6), 3), ((6, 6), 3), ((6, 6), 3), ((6, 6), 3), ((6, 6), 3), ((6, 6), 3), ((6, 6), 3), ((6, 6), 3), ((6, 6), 3), ((6, 6), 3), ((6, 6), 3), ((6, 6), 3), ((6, 6), 3), ((6, 6), 3), ((6, 6), 3), ((6, 6), 3), ((6, 6), 3), ((6, 6), 3), ((6, 6), 3), ((6, 6), 3), ((6, 6), 3), ((6, 6), 3), ((6, 6), 3), ((6, 6), 3), ((6, 6), 3), ((6, 6), 3), ((6, 6), 3), ((6, 6), 3), ((6, 6), 3), ((6, 6), 3), ((6, 6), 3), ((6, 6), 3), ((6, 6), 3), ((6, 6), 3), ((6, 6), 3), ((6, 6), 3), ((6, 6), 3), ((6, 6), 3), ((6, 6), 3), ((6, 6), 3), ((6, 6), 3), ((6, 6), 3), ((6, 6), 3), ((6, 6), 3), ((6, 6), 3), ((6, 6), 3), ((6, 6), 3), ((6, 6), 3), ((6, 6), 3), ((6, 6), 3), ((6, 6), 3), ((6, 6), 3), ((6, 6), 3), ((6, 6), 3), ((6, 6), 3), ((6, 6), 3), ((6, 6), 3), ((6, 6), 3), ((6, 6), 3), ((6, 6), 3), ((6, 6), 3), ((6, 6), 3), ((6, 6), 3), ((6, 6), 3), ((6, 6), 3), ((6, 6), 3), ((6, 6), 3), ((6, 6), 3), ((6, 6), 3), ((6, 6), 1), ((6, 6), 1), ((6, 6), 1), ((6, 6), 1), ((6, 6), 1), ((6, 6), 1), ((6, 6), 1), ((6, 6), 1), ((6, 6), 1), ((6, 6), 1), ((6, 6), 1), ((6, 6), 1), ((6, 6), 1), ((6, 6), 1), ((6, 6), 1), ((6, 6), 1), ((6, 6), 1), ((6, 6), 1), ((6, 6), 1), ((6, 6), 1), ((6, 6), 1), ((6, 6), 1), ((6, 6), 1), ((6, 6), 1), ((6, 6), 1), ((6, 6), 1), ((6, 6), 1), ((6, 6), 1), ((6, 6), 1), ((6, 6), 1), ((6, 6), 1), ((6, 6), 1), ((6, 6), 1), ((6, 6), 1), ((6, 6), 1), ((6, 6), 1), ((6, 6), 1), ((6, 6), 1), ((6, 6), 1), ((6, 6), 1), ((6, 6), 1), ((6, 6), 1), ((6, 6), 1), ((6, 6), 1), ((6, 6), 1), ((6, 6), 1), ((6, 6), 1), ((6, 6), 1), ((6, 6), 1), ((6, 6), 1), ((6, 6), 1), ((6, 6), 1), ((6, 6), 1), ((6, 6), 1), ((6, 6), 1), ((6, 6), 1), ((6, 6), 1), ((6, 6), 1), ((6, 6), 1), ((6, 6), 1), ((6, 6), 1), ((6, 6), 1), ((6, 6), 1), ((6, 6), 1), ((6, 6), 1), ((6, 6), 1), ((6, 6), 1), ((6, 6), 1), ((6, 6), 1), ((6, 6), 1), ((6, 6), 1), ((6, 6), 1), ((6, 6), 1), ((6, 6), 1), ((6, 6), 1), ((6, 6), 1), ((6, 6), 1), ((6, 6), 1), ((6, 6), 1), ((6, 6), 1), ((6, 6), 1), ((6, 6), 1), ((6, 6), 1), ((6, 6), 1), ((6, 6), 1), ((6, 6), 1), ((6, 6), 1), ((6, 6), 1), ((6, 6), 1), ((6, 6), 1), ((6, 6), 1), ((6, 6), 1), ((6, 6), 1), ((6, 6), 1), ((6, 6), 1), ((6, 6), 1), ((6, 6), 1), ((6, 6), 1), ((6, 6), 1), ((6, 6), 1), ((6, 6), 1), ((6, 6), 1), ((6, 6), 1), ((6, 6), 1), ((6, 6), 1), ((6, 6), 1), ((6, 6), 1), ((6, 6), 1), ((6, 6), 1), ((6, 6), 1), ((6, 6), 1), ((6, 6), 1), ((6, 6), 1), ((6, 6), 1), ((6, 6), 1), ((6, 6), 1), ((6, 6), 1), ((6, 6), 1), ((6, 6), 1), ((6, 6), 1), ((6, 6), 1), ((6, 6), 1), ((6, 6), 1), ((6, 6), 1), ((6, 6), 1), ((6, 6), 1), ((6, 6), 1), ((6, 6), 1), ((6, 6), 1), ((6, 6), 1), ((6, 6), 1), ((6, 6), 1), ((6, 6), 1), ((6, 6), 1), ((6, 6), 1), ((6, 6), 1), ((6, 6), 1), ((6, 6), 1), ((6, 6), 1), ((6, 6), 1), ((6, 6), 1), ((6, 6), 1), ((6, 6), 1), ((6, 6), 1), ((6, 6), 1), ((6, 6), 1), ((6, 6), 1), ((6, 6), 1), ((6, 6), 1), ((6, 6), 1), ((6, 6), 1), ((6, 6), 1), ((6, 6), 1), ((6, 6), 1), ((6, 6), 1), ((6, 6), 1), ((6, 6), 1), ((6, 6), 1), ((6, 6), 1), ((6, 6), 1), ((6, 6), 1), ((6, 6), 1), ((6, 6), 1), ((6, 6), 1), ((6, 6), 1), ((6, 6), 1), ((6, 6), 1), ((6, 6), 1), ((6, 6), 1), ((6, 6), 1), ((6, 6), 1), ((6, 6), 1), ((6, 6), 1), ((6, 6), 1), ((6, 6), 1), ((6, 6), 1), ((6, 6), 1), ((6, 6), 1), ((6, 6), 1), ((6, 6), 1), ((6, 6), 1), ((6, 6), 1), ((6, 6), 1), ((6, 6), 1), ((6, 6), 1), ((6, 6), 1), ((6, 6), 1), ((6, 6), 1), ((6, 6), 1), ((6, 6), 1), ((6, 6), 1), ((6, 6), 1), ((6, 6), 1), ((6, 6), 1), ((6, 6), 1), ((6, 6), 1), ((6, 6), 1), ((6, 6), 1), ((6, 6), 1), ((6, 6), 1), ((6, 6), 1), ((6, 6), 1), ((6, 6), 1), ((6, 6), 1), ((6, 6), 1), ((6, 6), 1), ((6, 6), 1), ((6, 6), 1), ((6, 6), 1), ((6, 6), 1), ((6, 6), 1), ((6, 6), 1), ((6, 6), 1), ((6, 6), 1), ((6, 6), 1), ((6, 6), 1), ((6, 6), 1), ((6, 6), 1), ((6, 6), 1), ((6, 6), 1), ((6, 6), 1), ((6, 6), 1), ((6, 6), 1), ((6, 6), 1), ((6, 6), 1), ((6, 6), 1), ((6, 6), 1), ((6, 6), 1), ((6, 6), 1), ((6, 6), 1), ((6, 6), 1), ((6, 6), 1), ((6, 6), 1), ((6, 6), 1), ((6, 6), 1), ((6, 6), 1), ((6, 6), 1), ((6, 6), 1), ((6, 6), 1), ((6, 6), 1), ((6, 6), 1), ((6, 6), 1), ((6, 6), 1), ((6, 6), 1), ((6, 6), 1), ((6, 6), 1), ((6, 6), 1), ((6, 6), 1), ((6, 6), 1), ((6, 6), 1), ((6, 6), 1), ((6, 6), 1), ((6, 6), 1), ((6, 6), 1), ((6, 6), 1), ((6, 6), 1), ((6, 6), 1), ((6, 6), 1), ((6, 6), 1), ((6, 6), 1), ((6, 6), 1), ((6, 6), 1), ((6, 6), 1), ((6, 6), 1), ((6, 6), 1), ((6, 6), 1), ((6, 6), 1), ((6, 6), 1), ((6, 6), 1), ((6, 6), 1), ((6, 6), 1), ((6, 6), 1), ((6, 6), 1), ((6, 6), 1), ((6, 6), 1), ((6, 6), 1), ((6, 6), 1), ((6, 6), 1), ((6, 6), 1), ((6, 6), 1), ((6, 6), 1), ((6, 6), 1), ((6, 6), 1), ((6, 6), 1), ((6, 6), 1), ((6, 6), 1), ((6, 6), 1), ((6, 6), 1), ((6, 6), 1), ((6, 6), 1), ((6, 6), 1), ((6, 6), 1), ((6, 6), 1), ((6, 6), 1), ((6, 6), 1), ((6, 6), 1), ((6, 6), 1), ((6, 6), 1), ((6, 6), 1), ((6, 6), 1), ((6, 6), 1), ((6, 6), 1), ((6, 6), 1), ((6, 6), 1), ((6, 6), 1), ((6, 6), 1), ((6, 6), 1), ((6, 6), 1), ((6, 6), 1), ((6, 6), 1), ((6, 6), 1), ((6, 6), 1), ((6, 6), 1), ((6, 6), 1), ((6, 6), 1), ((6, 6), 1), ((6, 6), 1), ((6, 6), 1), ((6, 6), 1), ((6, 6), 1), ((6, 6), 1), ((6, 6), 1), ((6, 6), 1), ((6, 6), 1), ((6, 6), 1), ((6, 6), 1), ((6, 6), 1), ((6, 6), 1), ((6, 6), 1), ((6, 6), 1), ((6, 6), 1), ((6, 6), 1), ((6, 6), 1), ((6, 6), 1), ((6, 6), 1), ((6, 6), 1), ((6, 6), 1), ((6, 6), 1), ((6, 6), 1), ((6, 6), 1), ((6, 6), 1), ((6, 6), 1), ((6, 6), 1), ((6, 6), 1), ((6, 6), 1), ((6, 6), 1), ((6, 6), 1), ((6, 6), 1), ((6, 6), 1), ((6, 6), 1), ((6, 6), 1), ((6, 6), 1), ((6, 6), 1), ((6, 6), 1), ((6, 6), 1), ((6, 6), 1), ((6, 6), 1), ((6, 6), 1), ((6, 6), 1), ((6, 6), 1), ((6, 6), 1), ((6, 6), 1), ((6, 6), 1), ((6, 6), 1), ((6, 6), 1), ((6, 6), 1), ((6, 6), 1), ((6, 6), 1), ((6, 6), 1), ((6, 6), 1), ((6, 6), 1), ((6, 6), 1), ((6, 6), 1), ((6, 6), 1), ((6, 6), 1), ((6, 6), 1), ((6, 6), 1), ((6, 6), 1), ((6, 6), 1), ((6, 6), 1), ((6, 6), 1), ((6, 6), 1), ((6, 6), 1), ((6, 6), 1), ((6, 6), 1), ((6, 6), 1), ((6, 6), 1), ((6, 6), 1), ((6, 6), 1), ((6, 6), 1), ((6, 6), 1), ((6, 6), 1), ((6, 6), 1), ((6, 6), 1), ((6, 6), 1), ((6, 6), 1), ((6, 6), 1), ((6, 6), 1), ((6, 6), 1), ((6, 6), 1), ((6, 6), 1), ((6, 6), 1), ((6, 6), 1), ((6, 6), 1), ((6, 6), 1), ((6, 6), 1), ((6, 6), 1), ((6, 6), 1), ((6, 6), 1), ((6, 6), 1), ((6, 6), 1), ((6, 6), 1), ((6, 6), 1), ((6, 6), 1), ((6, 6), 1), ((6, 6), 1), ((6, 6), 1), ((6, 6), 1), ((6, 6), 1), ((6, 6), 1), ((6, 6), 1), ((6, 6), 1), ((6, 6), 1), ((6, 6), 1), ((6, 6), 1), ((6, 6), 1), ((6, 6), 1), ((6, 6), 1), ((6, 6), 1), ((6, 6), 1), ((6, 6), 1), ((6, 6), 1), ((6, 6), 1), ((6, 6), 1), ((6, 6), 1), ((6, 6), 1), ((6, 6), 1), ((6, 6), 1), ((6, 6), 1), ((6, 6), 1), ((6, 6), 1), ((6, 6), 1), ((6, 6), 1), ((6, 6), 1), ((6, 6), 1), ((6, 6), 1), ((6, 6), 1), ((6, 6), 1), ((6, 6), 1), ((6, 6), 1), ((6, 6), 1), ((6, 6), 1), ((6, 6), 1), ((6, 6), 1), ((6, 6), 1), ((6, 6), 1), ((6, 6), 1), ((6, 6), 1), ((6, 6), 1), ((6, 6), 1), ((6, 6), 1), ((6, 6), 1)]\n"
     ]
    },
    {
     "ename": "KeyError",
     "evalue": "(6, 5)",
     "output_type": "error",
     "traceback": [
      "\u001b[1;31m---------------------------------------------------------------------------\u001b[0m",
      "\u001b[1;31mKeyError\u001b[0m                                  Traceback (most recent call last)",
      "Cell \u001b[1;32mIn[14], line 4\u001b[0m\n\u001b[0;32m      2\u001b[0m small_goal \u001b[38;5;241m=\u001b[39m (\u001b[38;5;28mlen\u001b[39m(small_world[\u001b[38;5;241m0\u001b[39m]) \u001b[38;5;241m-\u001b[39m \u001b[38;5;241m1\u001b[39m, \u001b[38;5;28mlen\u001b[39m(small_world) \u001b[38;5;241m-\u001b[39m \u001b[38;5;241m1\u001b[39m)\n\u001b[0;32m      3\u001b[0m small_path \u001b[38;5;241m=\u001b[39m a_star_search(small_world, small_start, small_goal, COSTS, MOVES, heuristic)\n\u001b[1;32m----> 4\u001b[0m small_path_cost \u001b[38;5;241m=\u001b[39m \u001b[43mpretty_print_path\u001b[49m\u001b[43m(\u001b[49m\u001b[43msmall_world\u001b[49m\u001b[43m,\u001b[49m\u001b[43m \u001b[49m\u001b[43msmall_path\u001b[49m\u001b[43m,\u001b[49m\u001b[43m \u001b[49m\u001b[43msmall_start\u001b[49m\u001b[43m,\u001b[49m\u001b[43m \u001b[49m\u001b[43msmall_goal\u001b[49m\u001b[43m,\u001b[49m\u001b[43m \u001b[49m\u001b[43mCOSTS\u001b[49m\u001b[43m)\u001b[49m\n\u001b[0;32m      5\u001b[0m \u001b[38;5;28mprint\u001b[39m(\u001b[38;5;124mf\u001b[39m\u001b[38;5;124m\"\u001b[39m\u001b[38;5;124mtotal path cost: \u001b[39m\u001b[38;5;132;01m{\u001b[39;00msmall_path_cost\u001b[38;5;132;01m}\u001b[39;00m\u001b[38;5;124m\"\u001b[39m)\n\u001b[0;32m      6\u001b[0m \u001b[38;5;28mprint\u001b[39m(small_path)\n",
      "Cell \u001b[1;32mIn[13], line 10\u001b[0m, in \u001b[0;36mpretty_print_path\u001b[1;34m(world, path, start, goal, costs)\u001b[0m\n\u001b[0;32m      8\u001b[0m         world[i[\u001b[38;5;241m1\u001b[39m]][i[\u001b[38;5;241m0\u001b[39m]] \u001b[38;5;241m=\u001b[39m goalPrize\n\u001b[0;32m      9\u001b[0m     \u001b[38;5;28;01melse\u001b[39;00m:\n\u001b[1;32m---> 10\u001b[0m         world[i[\u001b[38;5;241m1\u001b[39m]][i[\u001b[38;5;241m0\u001b[39m]] \u001b[38;5;241m=\u001b[39m \u001b[43mdeltaPath\u001b[49m\u001b[43m(\u001b[49m\u001b[43mpath\u001b[49m\u001b[43m)\u001b[49m\u001b[43m[\u001b[49m\u001b[43m(\u001b[49m\u001b[43mi\u001b[49m\u001b[43m[\u001b[49m\u001b[38;5;241;43m0\u001b[39;49m\u001b[43m]\u001b[49m\u001b[43m,\u001b[49m\u001b[43mi\u001b[49m\u001b[43m[\u001b[49m\u001b[38;5;241;43m1\u001b[39;49m\u001b[43m]\u001b[49m\u001b[43m)\u001b[49m\u001b[43m]\u001b[49m\n\u001b[0;32m     11\u001b[0m \u001b[38;5;28;01mfor\u001b[39;00m i \u001b[38;5;129;01min\u001b[39;00m world:\n\u001b[0;32m     12\u001b[0m     \u001b[38;5;28mprint\u001b[39m(\u001b[38;5;124m\"\u001b[39m\u001b[38;5;124m\"\u001b[39m\u001b[38;5;241m.\u001b[39mjoin(i)) \n",
      "\u001b[1;31mKeyError\u001b[0m: (6, 5)"
     ]
    }
   ],
   "source": [
    "small_start = (0, 0)\n",
    "small_goal = (len(small_world[0]) - 1, len(small_world) - 1)\n",
    "small_path = a_star_search(small_world, small_start, small_goal, COSTS, MOVES, heuristic)\n",
    "small_path_cost = pretty_print_path(small_world, small_path, small_start, small_goal, COSTS)\n",
    "print(f\"total path cost: {small_path_cost}\")\n",
    "print(small_path)"
   ]
  },
  {
   "cell_type": "markdown",
   "metadata": {},
   "source": [
    "## Problem 2\n",
    "\n",
    "Execute `a_star_search` and `print_path` for the `full_world`"
   ]
  },
  {
   "cell_type": "code",
   "execution_count": null,
   "metadata": {},
   "outputs": [],
   "source": [
    "full_start = (0, 0)\n",
    "full_goal = (len(full_world[0]) - 1, len(full_world) - 1)\n",
    "full_path = a_star_search(full_world, full_start, full_goal, COSTS, MOVES, heuristic)\n",
    "full_path_cost = pretty_print_path(full_world, full_path, full_start, full_goal, COSTS)\n",
    "print(f\"total path cost: {full_path_cost}\")\n",
    "print(full_path)"
   ]
  },
  {
   "cell_type": "markdown",
   "metadata": {},
   "source": [
    "## Comments\n",
    "\n",
    "(This is the place to leave me comments)"
   ]
  },
  {
   "cell_type": "markdown",
   "metadata": {},
   "source": [
    "## To think about for future assignments..."
   ]
  },
  {
   "cell_type": "markdown",
   "metadata": {},
   "source": [
    "This first assignment may not have been difficult for you if you've encountered A* search before in your Algorithms course. In preparation for future assignments that build on State Space Search, you can think about the following or even do an implementation if you like. You should **not** submit it as part of this assignment.\n",
    "\n",
    "In several future assignments, we will have a need for a \"plain ol'\" Depth First Search algorithm.\n",
    "\n",
    "1. Implement DFS Search to solve the problem presented in this programming assignment. Try to be as general as possible (don't hard code anything you can pass as a formal parameter).\n",
    "2. Can you implement DFS Search as a higher order function and supply your own `is_goal`, `successors`, and `path` functions? How do you handle *state*?\n",
    "3. Can you write a version of DFS that returns all the solutions?\n",
    "\n",
    "In one future assignment a Breadth First Search algorithm will be very handy. Can you implement a search algorithm that changes whether it uses DFS or BFS by parameterization?"
   ]
  },
  {
   "cell_type": "markdown",
   "metadata": {},
   "source": [
    "## Before You Submit...\n",
    "\n",
    "1. Did you provide output exactly as requested?\n",
    "2. Did you follow the Programming Requirements on Canvas?\n",
    "\n",
    "Do not submit any other files."
   ]
  }
 ],
 "metadata": {
  "kernelspec": {
   "display_name": "Python 3 (ipykernel)",
   "language": "python",
   "name": "python3"
  },
  "language_info": {
   "codemirror_mode": {
    "name": "ipython",
    "version": 3
   },
   "file_extension": ".py",
   "mimetype": "text/x-python",
   "name": "python",
   "nbconvert_exporter": "python",
   "pygments_lexer": "ipython3",
   "version": "3.11.7"
  },
  "toc": {
   "colors": {
    "hover_highlight": "#DAA520",
    "navigate_num": "#000000",
    "navigate_text": "#333333",
    "running_highlight": "#FF0000",
    "selected_highlight": "#FFD700",
    "sidebar_border": "#EEEEEE",
    "wrapper_background": "#FFFFFF"
   },
   "moveMenuLeft": true,
   "nav_menu": {
    "height": "192px",
    "width": "252px"
   },
   "navigate_menu": true,
   "number_sections": true,
   "sideBar": true,
   "threshold": 4,
   "toc_cell": false,
   "toc_section_display": "block",
   "toc_window_display": false,
   "widenNotebook": false
  }
 },
 "nbformat": 4,
 "nbformat_minor": 4
}
