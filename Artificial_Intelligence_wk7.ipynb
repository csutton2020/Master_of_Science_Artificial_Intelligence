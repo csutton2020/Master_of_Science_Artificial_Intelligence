{
 "cells": [
  {
   "cell_type": "markdown",
   "metadata": {},
   "source": [
    "# Module 7 - Programming Assignment\n"
   ]
  },
  {
   "cell_type": "markdown",
   "metadata": {},
   "source": [
    "# Unification\n",
    "\n",
    "This is actually Part I of a two part assignment. In a later module, you'll implement a Forward Planner. In order to do that, however, you need to have a unifier. It is important to note that you *only* need to implement a unifier. Although the module talked about resolution, you do not need to implement anything like \"standardizing apart\". From the unifier's point of view, that should already have been done.\n",
    "\n",
    "Unification is simply the *syntactic* balancing of expressions. There are only 3 kinds of expressions: constants, lists and (logic) variables. Constants and lists are only equal to each other if they're exactly the same thing or can be made to be the same thing by *binding* a value to a variable.\n",
    "\n",
    "It really is that simple...expressions must be literally the same (identical) except if one or the other (or both) has a variable in that \"spot\".\n",
    "\n",
    "## S-Expressions\n",
    "\n",
    "With that out of the way, we need a language with which to express our constants, variables and predicates and that language will be based on s-expressions.\n",
    "\n",
    "**constants** - There are two types of constants, values and predicates. Values should start with an uppercase letter. Fred is a constant value, so is Barney and Food. Predicates are named using lowercase letters. loves is a predicate and so is hates. This is only a convention. Secret: your code does not need to treat these two types of constants differently.\n",
    "\n",
    "**variables** - these are named using lowercase letters but always start with a question mark. ?x is a variable and so is ?yum. This is not a convention.\n",
    "\n",
    "**expressions (lists)** - these use the S-expression syntax a la LISP. (loves Fred Wilma) is an expression as is (friend-of Barney Fred) and (loves ?x ?y).\n",
    "\n",
    "## Parsing\n",
    "\n",
    "These functions are already included in the starter .py file."
   ]
  },
  {
   "cell_type": "code",
   "execution_count": 47,
   "metadata": {},
   "outputs": [],
   "source": [
    "import tokenize\n",
    "from io import StringIO"
   ]
  },
  {
   "cell_type": "markdown",
   "metadata": {},
   "source": [
    "This uses the above libraries to build a Lisp structure based on atoms. It is adapted from [simple iterator parser](http://effbot.org/zone/simple-iterator-parser.htm). The first function is the `atom` function."
   ]
  },
  {
   "cell_type": "code",
   "execution_count": 48,
   "metadata": {},
   "outputs": [],
   "source": [
    "def atom( next, token):\n",
    "    if token[ 1] == '(':\n",
    "        out = []\n",
    "        token = next()\n",
    "        while token[ 1] != ')':\n",
    "            out.append( atom( next, token))\n",
    "            token = next()\n",
    "            if token[ 1] == ' ':\n",
    "                token = next()\n",
    "        return out\n",
    "    elif token[ 1] == '?':\n",
    "        token = next()\n",
    "        return \"?\" + token[ 1]\n",
    "    else:\n",
    "        return token[ 1]"
   ]
  },
  {
   "cell_type": "markdown",
   "metadata": {},
   "source": [
    "The next function is the actual `parse` function:"
   ]
  },
  {
   "cell_type": "code",
   "execution_count": 49,
   "metadata": {},
   "outputs": [],
   "source": [
    "def parse(exp):\n",
    "    src = StringIO(exp).readline\n",
    "    tokens = tokenize.generate_tokens(src)\n",
    "    return atom(tokens.__next__, tokens.__next__())"
   ]
  },
  {
   "cell_type": "markdown",
   "metadata": {},
   "source": [
    "**Note** there was a change between 2.7 and 3.0 that \"hid\" the next() function in the tokenizer."
   ]
  },
  {
   "cell_type": "markdown",
   "metadata": {},
   "source": [
    "From a Python perspective, we want to turn something like \"(loves Fred ?x)\" to [\"loves\" \"Fred\" \"?x\"] and then work with the second representation as a list of strings. The strings then have the syntactic meaning we gave them previously."
   ]
  },
  {
   "cell_type": "code",
   "execution_count": 50,
   "metadata": {},
   "outputs": [
    {
     "data": {
      "text/plain": [
       "'Fred'"
      ]
     },
     "execution_count": 50,
     "metadata": {},
     "output_type": "execute_result"
    }
   ],
   "source": [
    "parse(\"Fred\")"
   ]
  },
  {
   "cell_type": "code",
   "execution_count": 51,
   "metadata": {},
   "outputs": [
    {
     "data": {
      "text/plain": [
       "'?x'"
      ]
     },
     "execution_count": 51,
     "metadata": {},
     "output_type": "execute_result"
    }
   ],
   "source": [
    "parse( \"?x\")"
   ]
  },
  {
   "cell_type": "code",
   "execution_count": 52,
   "metadata": {},
   "outputs": [
    {
     "data": {
      "text/plain": [
       "['loves', 'Fred', '?x']"
      ]
     },
     "execution_count": 52,
     "metadata": {},
     "output_type": "execute_result"
    }
   ],
   "source": [
    "parse( \"(loves Fred ?x)\")"
   ]
  },
  {
   "cell_type": "code",
   "execution_count": 53,
   "metadata": {},
   "outputs": [
    {
     "data": {
      "text/plain": [
       "['father_of', 'Barney', ['son_of', 'Barney']]"
      ]
     },
     "execution_count": 53,
     "metadata": {},
     "output_type": "execute_result"
    }
   ],
   "source": [
    "parse( \"(father_of Barney (son_of Barney))\")"
   ]
  },
  {
   "cell_type": "markdown",
   "metadata": {},
   "source": [
    "## Unifier\n",
    "\n",
    "Now that that's out of the way, here is the imperative pseudocode for unification. This is a classic recursive program with a number of base cases. Students for some reason don't like it, try the algorithm in the book, can't get it to work and then come back to this pseudocode.\n",
    "\n",
    "Work through the algorithm by hand with your Self-Check examples if you need to but I'd suggest sticking with this implementation. It does work.\n",
    "\n",
    "Here is imperative pseudocode for the algorithm:\n",
    "\n",
    "```\n",
    "def unification( exp1, exp2):\n",
    "    # base cases\n",
    "    if exp1 and exp2 are constants or the empty list:\n",
    "        if exp1 = exp2 then return {}\n",
    "        else return FAIL\n",
    "    if exp1 is a variable:\n",
    "        if exp1 occurs in exp2 then return FAIL\n",
    "        else return {exp1/exp2}\n",
    "    if exp2 is a variable:\n",
    "        if exp2 occurs in exp1 then return FAIL\n",
    "        else return {exp2/exp1}\n",
    "\n",
    "    # inductive step\n",
    "    first1 = first element of exp1\n",
    "    first2 = first element of exp2\n",
    "    result1 = unification( first1, first2)\n",
    "    if result1 = FAIL then return FAIL\n",
    "    apply result1 to rest of exp1 and exp2\n",
    "    result2 = unification( rest of exp1, rest of exp2)\n",
    "    if result2 = FAIL then return FAIL\n",
    "    return composition of result1 and result2\n",
    "```\n",
    "\n",
    "`unification` can return...\n",
    "\n",
    "1. `None` (if unification completely fails)\n",
    "2. `{}` (the empty substitution list) or \n",
    "3. a substitution list that has variables as keys and substituted values as values, like {\"?x\": \"Fred\"}. \n",
    "\n",
    "Note that the middle case sometimes confuses people...\"Sam\" unifying with \"Sam\" is not a failure so you return {} because there were no variables so there were no substitutions. You do not need to further resolve variables. If a variable resolves to an expression that contains a variable, you don't need to do the substition.\n",
    "\n",
    "If you think of a typical database table, there is a column, row and value. This Tuple is a *relation* and in some uses of unification, the \"thing\" in the first spot...\"love\" above is called the relation. If you have a table of users with user_id, username and the value then the relation is:\n",
    "\n",
    "`(login ?user_id ?username)`\n",
    "\n",
    "*most* of the time, the relation name is specified. But it's not impossible for the relation name to be represented by a variable:\n",
    "\n",
    "`(?relation 12345 \"smooth_operator\")`\n",
    "\n",
    "Your code should handle this case (the pseudocode does handle this case so all  you have to do is not futz with it).\n",
    "\n",
    "Our type system is very simple. We can get by with just a few boolean functions. The first tests to see if an expression is a variable."
   ]
  },
  {
   "cell_type": "code",
   "execution_count": 54,
   "metadata": {},
   "outputs": [],
   "source": [
    "def is_variable( exp):\n",
    "    return isinstance( exp, str) and exp[ 0] == \"?\""
   ]
  },
  {
   "cell_type": "code",
   "execution_count": 55,
   "metadata": {},
   "outputs": [
    {
     "data": {
      "text/plain": [
       "False"
      ]
     },
     "execution_count": 55,
     "metadata": {},
     "output_type": "execute_result"
    }
   ],
   "source": [
    "is_variable( \"Fred\")"
   ]
  },
  {
   "cell_type": "code",
   "execution_count": 56,
   "metadata": {},
   "outputs": [
    {
     "data": {
      "text/plain": [
       "True"
      ]
     },
     "execution_count": 56,
     "metadata": {},
     "output_type": "execute_result"
    }
   ],
   "source": [
    "is_variable( \"?fred\")"
   ]
  },
  {
   "cell_type": "markdown",
   "metadata": {},
   "source": [
    "The second tests to see if an expression is a constant:"
   ]
  },
  {
   "cell_type": "code",
   "execution_count": 57,
   "metadata": {},
   "outputs": [],
   "source": [
    "def is_constant( exp):\n",
    "    return isinstance( exp, str) and not is_variable( exp)"
   ]
  },
  {
   "cell_type": "code",
   "execution_count": 58,
   "metadata": {},
   "outputs": [
    {
     "data": {
      "text/plain": [
       "True"
      ]
     },
     "execution_count": 58,
     "metadata": {},
     "output_type": "execute_result"
    }
   ],
   "source": [
    "is_constant( \"Fred\")"
   ]
  },
  {
   "cell_type": "code",
   "execution_count": 59,
   "metadata": {},
   "outputs": [
    {
     "data": {
      "text/plain": [
       "False"
      ]
     },
     "execution_count": 59,
     "metadata": {},
     "output_type": "execute_result"
    }
   ],
   "source": [
    "is_constant( \"?fred\")"
   ]
  },
  {
   "cell_type": "code",
   "execution_count": 60,
   "metadata": {},
   "outputs": [
    {
     "data": {
      "text/plain": [
       "False"
      ]
     },
     "execution_count": 60,
     "metadata": {},
     "output_type": "execute_result"
    }
   ],
   "source": [
    "is_constant( [\"loves\", \"Fred\", \"?wife\"])"
   ]
  },
  {
   "cell_type": "markdown",
   "metadata": {},
   "source": [
    "It might also be useful to know that:\n",
    "\n",
    "<code>\n",
    "type( \"a\")\n",
    "&lt;type 'str'>\n",
    "type( \"a\") == str\n",
    "True\n",
    "type( \"a\") == list\n",
    "False\n",
    "type( [\"a\"]) == list\n",
    "True\n",
    "</code>\n",
    "\n",
    "\n",
    "You need to write the `unification` function described above. It should work with two expressions of the type returned by `parse`. See `unify` for how it will be called. It should return the result of unification for the two expressions as detailed above and in the book. It does not have to make all the necessary substitions (for example, if ?y is bound to ?x and 1 is bound to ?y, ?x doesn't have to be replaced everywhere with 1. It's enough to return {\"?x\":\"?y\", \"?y\":1}. For an actual application, you would need to fix this!)\n",
    "\n",
    "-----"
   ]
  },
  {
   "cell_type": "markdown",
   "metadata": {},
   "source": [
    "<a id=\"apply\"></a>\n",
    "## apply\n",
    "\n",
    "applies replacements to atomic sentences to prevent the unification algorithm from having to check the assignment history or have different variable point to the same constant\n",
    "\n",
    "**Used by**: [unify](#unify)\n",
    "\n",
    "* **result** dict: result of the unification of atomic sentences\n",
    "* **rest_of_list1** list: list of atomic sentences \n",
    "* **rest_of_list12** list: list of atomic sentences  \n",
    "\n",
    "* **returns** Tuple(List[str],List[Str]: updated list of atomic sentences"
   ]
  },
  {
   "cell_type": "code",
   "execution_count": 61,
   "metadata": {},
   "outputs": [],
   "source": [
    "def apply(result, rest_of_list1, rest_of_list2):\n",
    "    if any(key in rest_of_list1 for key in result.keys()):\n",
    "        for key, value in result.items():\n",
    "            for i in range(len(rest_of_list1)):\n",
    "                if rest_of_list1[i] == key:\n",
    "                    rest_of_list1[i] = value \n",
    "    if any(key in rest_of_list2 for key in result.keys()):\n",
    "          for key, value in result.items():\n",
    "            for i in range(len(rest_of_list2)):\n",
    "                if rest_of_list2[i] == key:\n",
    "                    rest_of_list2[i] = value\n",
    "    return rest_of_list1, rest_of_list2"
   ]
  },
  {
   "cell_type": "code",
   "execution_count": 62,
   "metadata": {},
   "outputs": [],
   "source": [
    "assert apply({\"?x\":\"bob\", \"?y\":\"sussan\"}, [\"?x\",\"?b\",\"?c\"], [\"kevin\",\"?x\",[\"?x\", 'father_of_kim']]) == (['bob', '?b', '?c'], ['kevin', 'bob', ['?x', 'father_of_kim']])\n",
    "assert apply({\"?x\":\"bob\", \"?y\":\"sussan\"}, [\"?x\",\"?y\",\"?c\"], [\"kevin\",\"?x\",[\"?y\", 'father_of_kim']]) == (['bob', 'sussan', '?c'], ['kevin', 'bob', ['?y', 'father_of_kim']])\n",
    "assert apply({\"?x\":\"bob\", \"?y\":\"sussan\"}, [\"?a\",\"?b\",\"?c\"], [\"kevin\",\"?b\",[\"?d\", 'father_of_kim']]) == ([\"?a\",\"?b\",\"?c\"], [\"kevin\",\"?b\",[\"?d\", 'father_of_kim']])"
   ]
  },
  {
   "cell_type": "code",
   "execution_count": 63,
   "metadata": {},
   "outputs": [],
   "source": [
    "def occurs(list_expression1, list_expression2):\n",
    "    for item in list_expression1:\n",
    "        if item in list_expression2 and is_variable(item):\n",
    "            return True\n",
    "        else:\n",
    "            return False"
   ]
  },
  {
   "cell_type": "markdown",
   "metadata": {},
   "source": [
    "<a id=\"unification\"></a>\n",
    "## unification\n",
    "\n",
    "finds all instances in the knowledgebase that unify with a given sentence for the purpose of eliminating the instantation step in first order proofs \n",
    "\n",
    "**Used by**: [unify](#unify)\n",
    "\n",
    "* **list_expression1** list: list of atomic sentences \n",
    "* **list_expression2** list: list of atomic sentences \n",
    "\n",
    "\n",
    "* **returns** dict: substitutions as the result unification of atomic sentences "
   ]
  },
  {
   "cell_type": "code",
   "execution_count": 94,
   "metadata": {},
   "outputs": [],
   "source": [
    "def unification(list_expression1, list_expression2):\n",
    "    # base cases\n",
    "    if is_constant(list_expression1) and is_constant(list_expression2) or len(list_expression1)==0 or len(list_expression2)==0:\n",
    "        if list_expression1 == list_expression2:\n",
    "            return {}\n",
    "        else:\n",
    "            return None\n",
    "    if is_variable(list_expression1):\n",
    "        if occurs(list_expression1, list_expression2):\n",
    "            return None\n",
    "        else:\n",
    "            return {list_expression1:list_expression2}\n",
    "    if is_variable(list_expression2):\n",
    "        if occurs(list_expression2, list_expression1):\n",
    "            return None\n",
    "        else:\n",
    "            return {list_expression2:list_expression1}\n",
    "    # inductive step\n",
    "    first1 = list_expression1[0]\n",
    "    first2 = list_expression2[0]\n",
    "    result1 = unification( first1, first2)\n",
    "#     print('result1: ',result1)\n",
    "    if result1 == None:\n",
    "        return None\n",
    "    rest_of_list1, rest_of_list2 = apply(result1, list_expression1[1:], list_expression2[1:])\n",
    "#     print( rest_of_list1, rest_of_list2)\n",
    "    result2 = unification(rest_of_list1, rest_of_list2)\n",
    "#     print('result2: ',result2)\n",
    "    if result2 == None:\n",
    "        return None\n",
    "#     print('comb: ',result1.update(result2))\n",
    "    return result1 | result2"
   ]
  },
  {
   "cell_type": "code",
   "execution_count": 97,
   "metadata": {},
   "outputs": [],
   "source": [
    "assert unification(['?x','mary'], ['bob','?y']) == {'?x': 'bob', '?y': 'mary'}\n",
    "assert unification(['bob','mary'], ['bob','?y']) == { '?y': 'mary'}\n",
    "assert unification(['?x','?y'], ['bob',['father', 'jeff']]) == {'?x': 'bob', '?y': ['father', 'jeff']}"
   ]
  },
  {
   "cell_type": "code",
   "execution_count": 98,
   "metadata": {},
   "outputs": [],
   "source": [
    "def list_check(parsed_expression):\n",
    "    if isinstance(parsed_expression, list):\n",
    "        return parsed_expression\n",
    "    return [parsed_expression]"
   ]
  },
  {
   "cell_type": "markdown",
   "metadata": {},
   "source": [
    "The `unification` pseudocode only takes lists so we have to make sure that we only pass a list.\n",
    "However, this has the side effect of making \"foo\" unify with [\"foo\"], at the start.\n",
    "That's ok."
   ]
  },
  {
   "cell_type": "code",
   "execution_count": 99,
   "metadata": {},
   "outputs": [],
   "source": [
    "def unify( s_expression1, s_expression2):\n",
    "    list_expression1 = list_check(parse(s_expression1))\n",
    "    list_expression2 = list_check(parse(s_expression2))\n",
    "    return unification( list_expression1, list_expression2)"
   ]
  },
  {
   "cell_type": "markdown",
   "metadata": {},
   "source": [
    "**Note** If you see the error,\n",
    "\n",
    "```\n",
    "tokenize.TokenError: ('EOF in multi-line statement', (2, 0))\n",
    "```\n",
    "You most likely have unbalanced parentheses in your s-expression.\n",
    "\n",
    "## Test Cases\n",
    "\n",
    "Use the expressions from the Self Check as your test cases..."
   ]
  },
  {
   "cell_type": "code",
   "execution_count": 121,
   "metadata": {},
   "outputs": [
    {
     "name": "stdout",
     "output_type": "stream",
     "text": [
      "actual = None\n",
      "expected = None\n",
      "\n",
      "\n",
      "actual = {}\n",
      "expected = {}\n",
      "\n",
      "\n",
      "actual = {'?x': 'Fred'}\n",
      "expected = {'?x': 'Fred'}\n",
      "\n",
      "\n",
      "actual = {'?y': 'Barney', '?x': 'Bam_Bam'}\n",
      "expected = {'?y': 'Barney', '?x': 'Bam_Bam'}\n",
      "\n",
      "\n",
      "actual = {'?x': 'Barney', '?y': 'Wilma'}\n",
      "expected = {'?x': 'Barney', '?y': 'Wilma'}\n",
      "\n",
      "\n",
      "actual = {'?y': 'Barney', '?x': ['son', 'Barney']}\n",
      "expected = {'?y': 'Barney', '?x': ['son', 'Barney']}\n",
      "\n",
      "\n",
      "actual = {'?y': 'Barney', '?x': ['son', '?y']}\n",
      "expected = {'?y': 'Barney', '?x': ['son', '?y']}\n",
      "\n",
      "\n",
      "actual = None\n",
      "expected = None\n",
      "\n",
      "\n",
      "actual = {'?x': 'Fred'}\n",
      "expected = {'?x': 'Fred'}\n",
      "\n",
      "\n",
      "actual = None\n",
      "expected = None\n",
      "\n",
      "\n"
     ]
    }
   ],
   "source": [
    "self_check_test_cases = [\n",
    "    ['(Fred)', '(Barney)', None],  ['(Pebbles)', '(Pebbles)', {}], \n",
    "    ['(quarry_worker Fred)', '(quarry_worker ?x)', {'?x':'Fred'}],\n",
    "    ['(son Barney ?x)', '(son ?y Bam_Bam)', {'?y':'Barney', '?x':'Bam_Bam'}],\n",
    "    ['(married ?x ?y)', '(married Barney Wilma)', {'?x':'Barney', '?y':'Wilma'}],\n",
    "    ['(son Barney ?x)', '(son ?y (son Barney))', {'?y':'Barney', '?x':['son', 'Barney']}],\n",
    "    ['(son Barney ?x)', '(son ?y (son ?y))', {'?y':'Barney', '?x':['son', '?y']}],\n",
    "    ['(son Barney Bam_Bam)', '(son ?y (son Barney))', None],\n",
    "    ['(loves Fred Fred)', '(loves ?x ?x)', {'?x':'Fred'} ],\n",
    "    ['(future George Fred)', '(future ?y ?y)', None]\n",
    "]\n",
    "for case in self_check_test_cases:\n",
    "    exp1, exp2, expected = case\n",
    "    actual = unify(exp1, exp2)\n",
    "    print(f\"actual = {actual}\")\n",
    "    print(f\"expected = {expected}\")\n",
    "    print(\"\\n\")\n",
    "    assert expected == actual"
   ]
  },
  {
   "cell_type": "markdown",
   "metadata": {},
   "source": [
    "Now add at least **five (5)** additional test cases of your own making, explaining exactly what you are testing. They should not be testing the same things as the self check test cases above."
   ]
  },
  {
   "cell_type": "code",
   "execution_count": 131,
   "metadata": {},
   "outputs": [
    {
     "name": "stdout",
     "output_type": "stream",
     "text": [
      "Testing equal constants...\n",
      "actual = {}\n",
      "expected = {}\n",
      "\n",
      "\n",
      "Testing assignment of x twice...\n",
      "actual = None\n",
      "expected = None\n",
      "\n",
      "\n",
      "Testing fail on constant equal to a list...\n",
      "actual = None\n",
      "expected = None\n",
      "\n",
      "\n",
      "Testing assigmnet inside of nested list...\n",
      "actual = {'?x': 'daughter', '?y': 'Wilma', '?z': ['Pebbles']}\n",
      "expected = {'?x': 'daughter', '?y': 'Wilma', '?z': ['Pebbles']}\n",
      "\n",
      "\n",
      "Testing looking for equiv to ['Pennsylvania', 'Barney']...\n",
      "actual = {'?x': 'Barney', '?y': ['Pennsylvania', '?x']}\n",
      "expected = {'?x': 'Barney', '?y': ['Pennsylvania', '?x']}\n",
      "\n",
      "\n"
     ]
    }
   ],
   "source": [
    "new_test_cases = [\n",
    "    ['(Kim Barney Megan)', '(Kim Barney Megan)', {}, \"equal constants\"], \n",
    "    ['(son ?x Barney)', '(Kim Barney ?x)', None, \"assignment of x twice\"], \n",
    "    ['(Kim Barney (?x florida))', '(Kim Barney (Pebbles (New_Jersey)))', None, \"fail on constant equal to a list\"], \n",
    "    ['(?x (?y ?z))', '(daughter (Wilma (Pebbles)))', {'?x':'daughter', '?y':'Wilma', '?z':['Pebbles']}, \"assigmnet inside of nested list\"], \n",
    "    ['(Barney ?y)', '(?x (Pennsylvania ?x))', {'?x':'Barney', '?y':['Pennsylvania', '?x']}, \"looking for equiv to ['Pennsylvania', 'Barney']\"]\n",
    "]\n",
    "for case in new_test_cases:\n",
    "    exp1, exp2, expected, message = case\n",
    "    actual = unify(exp1, exp2)\n",
    "    print(f\"Testing {message}...\")\n",
    "    print(f\"actual = {actual}\")\n",
    "    print(f\"expected = {expected}\")\n",
    "    print(\"\\n\")\n",
    "    assert expected == actual"
   ]
  },
  {
   "cell_type": "markdown",
   "metadata": {},
   "source": [
    "## Before You Submit...\n",
    "\n",
    "1. Did you provide output exactly as requested?\n",
    "2. Did you re-execute the entire notebook? (\"Restart Kernel and Rull All Cells...\")\n",
    "3. If you did not complete the assignment or had difficulty please explain what gave you the most difficulty in the Markdown cell below.\n",
    "4. Did you change the name of the file to `jhed_id.ipynb`?\n",
    "\n",
    "Do not submit any other files."
   ]
  },
  {
   "cell_type": "markdown",
   "metadata": {},
   "source": []
  }
 ],
 "metadata": {
  "kernelspec": {
   "display_name": "Python 3 (ipykernel)",
   "language": "python",
   "name": "python3"
  },
  "language_info": {
   "codemirror_mode": {
    "name": "ipython",
    "version": 3
   },
   "file_extension": ".py",
   "mimetype": "text/x-python",
   "name": "python",
   "nbconvert_exporter": "python",
   "pygments_lexer": "ipython3",
   "version": "3.11.7"
  },
  "toc": {
   "colors": {
    "hover_highlight": "#DAA520",
    "navigate_num": "#000000",
    "navigate_text": "#333333",
    "running_highlight": "#FF0000",
    "selected_highlight": "#FFD700",
    "sidebar_border": "#EEEEEE",
    "wrapper_background": "#FFFFFF"
   },
   "moveMenuLeft": true,
   "nav_menu": {
    "height": "120px",
    "width": "252px"
   },
   "navigate_menu": true,
   "number_sections": true,
   "sideBar": true,
   "threshold": 4,
   "toc_cell": false,
   "toc_section_display": "block",
   "toc_window_display": false,
   "widenNotebook": false
  }
 },
 "nbformat": 4,
 "nbformat_minor": 4
}
