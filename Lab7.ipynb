{
 "cells": [
  {
   "cell_type": "markdown",
   "metadata": {
    "id": "yeO6RsN5o2Ol"
   },
   "source": [
    "####Chris Sutton####\n",
    "####Lab 7####\n",
    "\n"
   ]
  },
  {
   "cell_type": "markdown",
   "metadata": {
    "id": "25ZFKo8ppAsF"
   },
   "source": [
    "This lab was an interesting use of simple regular expressions to find quick solutions to hypernyms. Instead of building a model and training data through a classifier or other statistical process, a simple pattern match is helpful to obtain new hypernyms. Exposure to wordnet was also interesting and I can forsee powerful use cases implementing wordnet's sense of a word. "
   ]
  },
  {
   "cell_type": "code",
   "execution_count": null,
   "metadata": {
    "colab": {
     "base_uri": "https://localhost:8080/"
    },
    "executionInfo": {
     "elapsed": 593,
     "status": "ok",
     "timestamp": 1667146988407,
     "user": {
      "displayName": "Chris S",
      "userId": "08468368996988622896"
     },
     "user_tz": 240
    },
    "id": "mH3anYmeskwK",
    "outputId": "6b683527-012d-4305-88fd-b2933d74cbf1"
   },
   "outputs": [
    {
     "name": "stderr",
     "output_type": "stream",
     "text": [
      "[nltk_data] Downloading package wordnet to /root/nltk_data...\n",
      "[nltk_data]   Package wordnet is already up-to-date!\n",
      "[nltk_data] Downloading package omw-1.4 to /root/nltk_data...\n"
     ]
    },
    {
     "data": {
      "text/plain": [
       "True"
      ]
     },
     "execution_count": 10,
     "metadata": {},
     "output_type": "execute_result"
    }
   ],
   "source": [
    "import nltk\n",
    "nltk.download('wordnet')\n",
    "nltk.download('omw-1.4')"
   ]
  },
  {
   "cell_type": "code",
   "execution_count": null,
   "metadata": {
    "id": "7LntCByFsAra"
   },
   "outputs": [],
   "source": [
    "from nltk.corpus import wordnet as wn"
   ]
  },
  {
   "cell_type": "markdown",
   "metadata": {
    "id": "gAuOudMOy7WT"
   },
   "source": [
    "***(2 points) How many synsets are there for the English word ‘sink? How many different parts of speech are found for ‘sink’?***"
   ]
  },
  {
   "cell_type": "code",
   "execution_count": null,
   "metadata": {
    "colab": {
     "base_uri": "https://localhost:8080/"
    },
    "executionInfo": {
     "elapsed": 310,
     "status": "ok",
     "timestamp": 1667149050548,
     "user": {
      "displayName": "Chris S",
      "userId": "08468368996988622896"
     },
     "user_tz": 240
    },
    "id": "AoRt8cM0sF5e",
    "outputId": "e5bbdfe0-b8ae-4e76-e279-8fbd29cb1c25"
   },
   "outputs": [
    {
     "data": {
      "text/plain": [
       "[Synset('sink.n.01'),\n",
       " Synset('sink.n.02'),\n",
       " Synset('sinkhole.n.01'),\n",
       " Synset('cesspool.n.01'),\n",
       " Synset('sink.v.01'),\n",
       " Synset('sink.v.02'),\n",
       " Synset('sink.v.03'),\n",
       " Synset('sink.v.04'),\n",
       " Synset('sink.v.05'),\n",
       " Synset('dip.v.08'),\n",
       " Synset('slump.v.03'),\n",
       " Synset('slump.v.02'),\n",
       " Synset('bury.v.05')]"
      ]
     },
     "execution_count": 18,
     "metadata": {},
     "output_type": "execute_result"
    }
   ],
   "source": [
    "# There are 13 Synsets for \"sink\"\n",
    "# There are two different parts of speach of \"sink\". There are 2 noun forms and five verb forms of \"sink\" for a total of 7 uses\n",
    "wn.synsets('sink')"
   ]
  },
  {
   "cell_type": "markdown",
   "metadata": {
    "id": "2lSxI4RV08h2"
   },
   "source": [
    "***(2 points) What is the direct hypernym (superclass) of the most common noun sense of sink (sink.n.01)?***"
   ]
  },
  {
   "cell_type": "code",
   "execution_count": null,
   "metadata": {
    "colab": {
     "base_uri": "https://localhost:8080/"
    },
    "executionInfo": {
     "elapsed": 310,
     "status": "ok",
     "timestamp": 1667149538645,
     "user": {
      "displayName": "Chris S",
      "userId": "08468368996988622896"
     },
     "user_tz": 240
    },
    "id": "yhg7rjL507sK",
    "outputId": "1d26fa70-171d-463e-826a-d05eeba5f26d"
   },
   "outputs": [
    {
     "data": {
      "text/plain": [
       "[Synset('plumbing_fixture.n.01')]"
      ]
     },
     "execution_count": 19,
     "metadata": {},
     "output_type": "execute_result"
    }
   ],
   "source": [
    "# The most common noun sense of sink is plumbing_fixture.n.01\n",
    "wn.synset('sink.n.01').hypernyms()"
   ]
  },
  {
   "cell_type": "markdown",
   "metadata": {
    "id": "DAQYbhiE3BBt"
   },
   "source": [
    "***(2 points) What are the direct troponyms (specific ways) of drink.v.01? (hint: may be called hyponyms in the API)***\n"
   ]
  },
  {
   "cell_type": "code",
   "execution_count": null,
   "metadata": {
    "colab": {
     "base_uri": "https://localhost:8080/"
    },
    "executionInfo": {
     "elapsed": 308,
     "status": "ok",
     "timestamp": 1667150097784,
     "user": {
      "displayName": "Chris S",
      "userId": "08468368996988622896"
     },
     "user_tz": 240
    },
    "id": "GU6PQyf33Enw",
    "outputId": "3425ddeb-2a29-4a50-f2db-2bcdcbe93209"
   },
   "outputs": [
    {
     "data": {
      "text/plain": [
       "[Synset('drain_the_cup.v.01'),\n",
       " Synset('guggle.v.03'),\n",
       " Synset('gulp.v.01'),\n",
       " Synset('guzzle.v.01'),\n",
       " Synset('lap.v.04'),\n",
       " Synset('sip.v.01'),\n",
       " Synset('suck.v.01'),\n",
       " Synset('swill.v.02'),\n",
       " Synset('toss_off.v.02')]"
      ]
     },
     "execution_count": 21,
     "metadata": {},
     "output_type": "execute_result"
    }
   ],
   "source": [
    "# The troponyms of drink.v.01 are:\n",
    "# drain_the_cup =1\n",
    "# guggle, gulp =1 \n",
    "# lap =1\n",
    "# sip =1\n",
    "# suck =1\n",
    "# swill, toss off, guzzle =1 \n",
    "\n",
    "# There are 6 troponyms of drink.v.01, some noisy, some slow, and some simply greedy \n",
    "\n",
    "wn.synset('drink.v.01').hyponyms()"
   ]
  },
  {
   "cell_type": "markdown",
   "metadata": {
    "id": "lOkaE6hX79Fk"
   },
   "source": [
    "***(2 points) What is the closest common ancestor in the IS-A hierarchy for dog.n.01 and insect.n.01?***\n"
   ]
  },
  {
   "cell_type": "code",
   "execution_count": null,
   "metadata": {
    "colab": {
     "base_uri": "https://localhost:8080/"
    },
    "executionInfo": {
     "elapsed": 251,
     "status": "ok",
     "timestamp": 1667152177494,
     "user": {
      "displayName": "Chris S",
      "userId": "08468368996988622896"
     },
     "user_tz": 240
    },
    "id": "yIS2d9qQ7_GK",
    "outputId": "64d10184-1073-4d57-cebc-58d680002952"
   },
   "outputs": [
    {
     "name": "stdout",
     "output_type": "stream",
     "text": [
      "[Synset('canine.n.02'), Synset('domestic_animal.n.01'), Synset('carnivore.n.01'), Synset('animal.n.01'), Synset('placental.n.01'), Synset('organism.n.01'), Synset('mammal.n.01'), Synset('living_thing.n.01'), Synset('vertebrate.n.01'), Synset('whole.n.02'), Synset('chordate.n.01'), Synset('object.n.01'), Synset('physical_entity.n.01'), Synset('entity.n.01')]\n",
      "[Synset('arthropod.n.01'), Synset('invertebrate.n.01'), Synset('animal.n.01'), Synset('organism.n.01'), Synset('living_thing.n.01'), Synset('whole.n.02'), Synset('object.n.01'), Synset('physical_entity.n.01'), Synset('entity.n.01')]\n"
     ]
    }
   ],
   "source": [
    "# the closest IS-A hierarchy is \"animal.n.01\"\n",
    "print(list(wn.synset('dog.n.01').closure(lambda s : s.hypernyms())))\n",
    "print(list(wn.synset('insect.n.01').closure(lambda s : s.hypernyms())))"
   ]
  },
  {
   "cell_type": "markdown",
   "metadata": {
    "id": "CXCDMdtBA7Dr"
   },
   "source": [
    "***(2 points) How many named astronauts are instances of astronaut.n.01?***"
   ]
  },
  {
   "cell_type": "code",
   "execution_count": null,
   "metadata": {
    "colab": {
     "base_uri": "https://localhost:8080/"
    },
    "executionInfo": {
     "elapsed": 522,
     "status": "ok",
     "timestamp": 1667159810558,
     "user": {
      "displayName": "Chris S",
      "userId": "08468368996988622896"
     },
     "user_tz": 240
    },
    "id": "qb7hvJADA9FK",
    "outputId": "cb662b14-f032-4a11-f365-484452da6775"
   },
   "outputs": [
    {
     "name": "stdout",
     "output_type": "stream",
     "text": [
      "[Synset('armstrong.n.01'), Synset('gagarin.n.01'), Synset('glenn.n.01'), Synset('shepard.n.02'), Synset('tereshkova.n.01')]\n"
     ]
    }
   ],
   "source": [
    "# There are five named astronauts\n",
    "print(list(wn.synset('astronaut.n.01').closure(lambda s: s.instance_hyponyms(), depth=1)))"
   ]
  },
  {
   "cell_type": "markdown",
   "metadata": {
    "id": "W-eJcEjdOOQt"
   },
   "source": [
    "***(10 points) Implement at least two Hearst patterns using regular expressions***\n"
   ]
  },
  {
   "cell_type": "code",
   "execution_count": 81,
   "metadata": {
    "colab": {
     "base_uri": "https://localhost:8080/",
     "height": 0
    },
    "executionInfo": {
     "elapsed": 962,
     "status": "ok",
     "timestamp": 1667250139581,
     "user": {
      "displayName": "Chris S",
      "userId": "08468368996988622896"
     },
     "user_tz": 240
    },
    "id": "2Jqo_TFaOVmw",
    "outputId": "97e53c25-113f-40ce-db0f-c6738b967a0b"
   },
   "outputs": [
    {
     "name": "stdout",
     "output_type": "stream",
     "text": [
      "Drive already mounted at /content/drive; to attempt to forcibly remount, call drive.mount(\"/content/drive\", force_remount=True).\n"
     ]
    }
   ],
   "source": [
    "from google.colab import drive\n",
    "drive.mount('/content/drive')\n",
    "import re"
   ]
  },
  {
   "cell_type": "code",
   "execution_count": 82,
   "metadata": {
    "colab": {
     "base_uri": "https://localhost:8080/",
     "height": 0
    },
    "executionInfo": {
     "elapsed": 346,
     "status": "ok",
     "timestamp": 1667250141916,
     "user": {
      "displayName": "Chris S",
      "userId": "08468368996988622896"
     },
     "user_tz": 240
    },
    "id": "g8xSsz_4tl0W",
    "outputId": "ac0f3674-9acd-4ad4-d3b3-2e549cda07df"
   },
   "outputs": [
    {
     "name": "stdout",
     "output_type": "stream",
     "text": [
      "/content/drive/My Drive/NaturalLangaugeProcessing/lab07\n",
      "wiki.test.txt  wiki.train_other.txt  wiki.train_such.txt  wiki.train.txt\n"
     ]
    }
   ],
   "source": [
    "labdir = '/content/drive/My Drive/NaturalLangaugeProcessing/lab07'\n",
    "%cd \"$labdir\"\n",
    "!ls"
   ]
  },
  {
   "cell_type": "markdown",
   "metadata": {
    "id": "PwuY7EWe0VrG"
   },
   "source": [
    "***(10 points) Implement at least two Hearst patterns using regular expressions***\n"
   ]
  },
  {
   "cell_type": "code",
   "execution_count": 83,
   "metadata": {
    "executionInfo": {
     "elapsed": 160,
     "status": "ok",
     "timestamp": 1667250162639,
     "user": {
      "displayName": "Chris S",
      "userId": "08468368996988622896"
     },
     "user_tz": 240
    },
    "id": "Wwamd56cuecR"
   },
   "outputs": [],
   "source": [
    "data= open('wiki.train.txt',encoding='utf-8').read()"
   ]
  },
  {
   "cell_type": "code",
   "execution_count": 90,
   "metadata": {
    "executionInfo": {
     "elapsed": 33071,
     "status": "ok",
     "timestamp": 1667250669293,
     "user": {
      "displayName": "Chris S",
      "userId": "08468368996988622896"
     },
     "user_tz": 240
    },
    "id": "qKG4wgXQ24-d"
   },
   "outputs": [],
   "source": [
    "result= re.findall(r\"(\\w+)\\t(\\w+).* (\\w+) such as (\\w+)\",data, re.MULTILINE) #such (\\w+) as (?:(.*)(?:and |or )(\\w+)|(\\w+))\n",
    "result2= re.findall(r\"(\\w+)\\t(\\w+).* (\\w+) or other (\\w+)\",data, re.MULTILINE)"
   ]
  },
  {
   "cell_type": "code",
   "execution_count": 91,
   "metadata": {
    "colab": {
     "base_uri": "https://localhost:8080/",
     "height": 0
    },
    "executionInfo": {
     "elapsed": 184,
     "status": "ok",
     "timestamp": 1667250672042,
     "user": {
      "displayName": "Chris S",
      "userId": "08468368996988622896"
     },
     "user_tz": 240
    },
    "id": "E7DdzUcPxHsG",
    "outputId": "56872107-cc8c-46f9-f6da-1ad45b662942"
   },
   "outputs": [
    {
     "name": "stdout",
     "output_type": "stream",
     "text": [
      "[('castle', 'accommodation', 'zone', 'a'), ('hotel', 'accommodation', 'accommodation', 'a'), ('mime', 'actor', 'things', 'machinery'), ('alcoholism', 'addiction', 'addictions', 'alcoholism'), ('horticulture', 'agriculture', 'industries', 'olive'), ('airliner', 'aircraft', 'aircraft', 'the'), ('airplane', 'aircraft', 'aircraft', 'the'), ('airplane', 'aircraft', 'aircraft', 'the'), ('bomber', 'aircraft', 'aircraft', 'the'), ('helicopter', 'aircraft', 'aircraft', 'the'), ('continental', 'airline', 'countries', 'Spain'), ('klm', 'airline', 'publicity', 'magazine'), ('qantas', 'airline', 'airlines', 'Qantas'), ('southwest', 'airline', 'notables', 'James'), ('ethanol', 'alcohol', 'antiseptic', 'povidone'), ('brass', 'alloy', 'alloy', 'brass'), ('arginine', 'amino', 'proteins', 'histones'), ('arginine', 'amino', 'acid', 'arginine'), ('glycine', 'amino', 'elements', 'sulfur'), ('phenylalanine', 'amino', 'analogue', 'para'), ('bear', 'animal', 'spirits', 'the'), ('bear', 'animal', 'species', 'moose'), ('cat', 'animal', 'singly', 'the'), ('deer', 'animal', 'species', 'camels'), ('deer', 'animal', 'companions', 'rams'), ('lizard', 'animal', 'kingdom', 'Spider'), ('owl', 'animal', 'endangered', 'the'), ('owl', 'animal', 'species', 'the'), ('rabbit', 'animal', 'animals', 'sheep'), ('rabbit', 'animal', 'suits', 'a'), ('turtle', 'animal', 'literature', 'Yertle'), ('maalox', 'antacid', 'formulations', 'Maalox'), ('gazelle', 'antelope', 'game', 'antelope'), ('oryx', 'antelope', 'display', 'babirusa'), ('expression', 'appearance', 'was', 'to'), ('illustration', 'art', 'visualization', 'a'), ('printmaking', 'art', 'practices', 'painting'), ('robotics', 'artificial', 'fields', 'biology'), ('robotics', 'artificial', 'researchers', 'Rodney'), ('iranian', 'asian', 'tribes', 'the'), ('iranian', 'asian', 'problems', 'the'), ('pakistani', 'asian', 'food', 'Indian'), ('evaluation', 'assessment', 'activities', 'developing'), ('evaluation', 'assessment', 'include', 'designing'), ('sovereignty', 'autonomy', 'areas', 'education'), ('rosary', 'beads', 'practice', 'rosary'), ('soy', 'bean', 'protein', 'yeast'), ('bird', 'beast', 'activities', 'bird'), ('coffee', 'beverage', 'chains', 'Starbucks'), ('coffee', 'beverage', 'brands', 'Segafredo'), ('archaeopteryx', 'bird', 'dinosaurs', 'the'), ('bustard', 'bird', 'species', 'Black'), ('bustard', 'bird', 'species', 'the'), ('cockatoo', 'bird', 'species', 'the'), ('fowl', 'bird', 'ones', 'crows'), ('goose', 'bird', 'species', 'White'), ('hen', 'bird', 'species', 'the'), ('tern', 'bird', 'waders', 'curlew'), ('vulture', 'bird', 'raptors', 'kites'), ('redwing', 'blackbird', 'thrushes', 'the'), ('membership', 'body', 'functions', 'membership'), ('beer', 'brew', 'grains', 'rice'), ('saguaro', 'cactus', 'vegetation', 'saguaro'), ('leukemia', 'cancer', 'conditions', 'leukemia'), ('hardtop', 'car', 'cars', 'EDAG'), ('jeep', 'car', 'performances', 'a'), ('subcompact', 'car', 'subclassifications', 'subcompact'), ('starch', 'carbohydrate', 'foodgrains', 'moisture'), ('graphite', 'carbon', 'materials', 'Graphite'), ('graphite', 'carbon', 'fluorocarbons', 'e'), ('bridge', 'card', 'sections', 'basketball'), ('magic', 'card', 'packs', 'Magic'), ('lion', 'cat', 'family', 'lions'), ('longhorn', 'cattle', 'birds', 'skylark'), ('corn', 'cereal', 'adjuncts', 'corn'), ('induction', 'ceremony', 'pioneers', 'Raymond'), ('goofy', 'character', 'shows', 'Captain'), ('bleu', 'cheese', 'cheese', 'Cantal'), ('camembert', 'cheese', 'styles', 'feta'), ('feta', 'cheese', 'fruits', 'dates'), ('halloumi', 'cheese', 'delicacies', 'halloumi'), ('mozzarella', 'cheese', 'ingredients', 'mushrooms'), ('mozzarella', 'cheese', 'cheeses', 'Mozzarella'), ('pizza', 'cheese', 'projects', 'an'), ('pizza', 'cheese', 'vegetables', 'potatoes'), ('quark', 'cheese', 'region', 'the'), ('ranchero', 'cheese', 'cheeses', 'queso'), ('soy', 'cheese', 'foodstuffs', 'cheese'), ('soy', 'cheese', 'products', 'milk'), ('stilton', 'cheese', 'items', 'Stilton'), ('abidjan', 'city', 'weaponry', 'rockets'), ('aqaba', 'city', 'companies', 'APM'), ('aqaba', 'city', 'Aqaba', 'the'), ('calgary', 'city', 'activities', 'protests'), ('christchurch', 'city', 'furniture', 'signs'), ('danzig', 'city', 'cities', 'Elbing'), ('durban', 'city', 'places', 'Dubai'), ('ghent', 'city', 'Flanders', 'Bruges'), ('granada', 'city', 'shows', 'Lift'), ('guadalajara', 'city', 'locations', 'Mexico'), ('hamburg', 'city', 'cities', 'Chicago'), ('izmir', 'city', 'city', 'Izmir'), ('newcastle', 'city', 'clubs', 'Manchester'), ('peshawar', 'city', 'Pakistan', 'Mianwali'), ('reno', 'city', 'nightclubs', 'Reno'), ('rostov', 'city', 'sites', 'Timerevo'), ('seville', 'city', 'places', 'Rome'), ('tulsa', 'city', 'venues', 'The'), ('tyre', 'city', 'neighbours', 'Tyre'), ('windsor', 'city', 'thrillers', 'City'), ('espresso', 'coffee', 'coffee', 'espresso'), ('espresso', 'coffee', 'beverages', 'cappuccinos'), ('data', 'collection', 'features', 'notifications'), ('data', 'collection', 'surveys', 'the'), ('amherst', 'college', 'institutions', 'Harvard'), ('wesleyan', 'college', 'institutions', 'SMU'), ('pine', 'conifer', 'trees', 'pines'), ('aquarius', 'constellation', 'constellations', 'Aquarius'), ('cuisine', 'cooking', 'herbs', 'Oregano'), ('cuisine', 'cooking', 'cooking', 'nouvelle'), ('inventory', 'database', 'systems', 'eBay'), ('moose', 'deer', 'species', 'moose'), ('sambar', 'deer', 'mammals', 'deer'), ('sambar', 'deer', 'mammals', 'the'), ('sika', 'deer', 'species', 'Central'), ('whitetail', 'deer', 'wildlife', 'whitetail'), ('whitetail', 'deer', 'wildlife', 'the'), ('libel', 'defamation', 'politicians', 'Joshua'), ('doe', 'department', 'agencies', 'the'), ('hud', 'department', 'topics', 'maximizing'), ('warehouse', 'depot', 'outparcels', 'Applebee'), ('commercialization', 'development', 'diseases', 'diabetes'), ('proliferation', 'development', 'processes', 'proliferation'), ('proliferation', 'development', 'processes', 'cell'), ('proliferation', 'development', 'processes', 'proliferation'), ('diversity', 'difference', 'factors', 'the'), ('trend', 'direction', 'artists', 'Yukari'), ('frisbee', 'disc', 'Frisbee', 'Distance'), ('aids', 'disease', 'diseases', 'AIDS'), ('aids', 'disease', 'organizations', 'Aid'), ('alzheimers', 'disease', 'websites', 'Alzheimers'), ('arthritis', 'disease', 'diseases', 'heart'), ('arthritis', 'disease', 'diseases', 'rheumatoid'), ('arthritis', 'disease', 'tract', 'skin'), ('atherosclerosis', 'disease', 'materials', 'cholesterol'), ('bifida', 'disease', 'defects', 'spina'), ('cirrhosis', 'disease', 'disease', 'cirrhosis'), ('cirrhosis', 'disease', 'absorption', 'orlistat'), ('colitis', 'disease', 'diseases', 'psoriasis'), ('colitis', 'disease', 'used', 'TNF'), ('jakob', 'disease', 'encephalopathies', 'Variant'), ('jakob', 'disease', 'diseases', 'new'), ('jakob', 'disease', 'risks', 'variant'), ('jakob', 'disease', 'diseases', 'human'), ('diabetes', 'disease', 'disorders', 'diabetes'), ('diabetes', 'disease', 'DNA', 'diabetes'), ('diarrhoea', 'disease', 'conditions', 'diarrhoea'), ('dysentery', 'disease', 'problems', 'dysentery'), ('ehrlichiosis', 'disease', 'illnesses', 'Lyme'), ('encephalitis', 'disease', 'diseases', 'human'), ('encephalitis', 'disease', 'pathogens', 'the'), ('epidemic', 'disease', 'disease', 'certain'), ('epilepsy', 'disease', 'disorders', 'apathy'), ('flu', 'disease', 'diseases', 'norovirus'), ('hepatitis', 'disease', 'conditions', 'hepatitis'), ('hepatitis', 'disease', 'infections', 'diverticulitis'), ('herpes', 'disease', 'ailments', 'cancer'), ('influenza', 'disease', 'animals', 'donkeys'), ('influenza', 'disease', 'issues', 'water'), ('leprosy', 'disease', 'disease', 'leprosy'), ('leprosy', 'disease', 'demoralization', 'gambling'), ('lupus', 'disease', 'disease', 'lupus'), ('lupus', 'disease', 'diseases', 'lupus'), ('lymphoma', 'disease', 'disease', 'leukemia'), ('macrovascular', 'disease', 'complications', 'stroke'), ('malaria', 'disease', 'countries', 'Italy'), ('malnutrition', 'disease', 'diseases', 'diarrhea'), ('measles', 'disease', 'illness', 'measles'), ('measles', 'disease', 'disease', 'measles'), ('measles', 'disease', 'diseases', 'measles'), ('osteoporosis', 'disease', 'disease', 'osteoporosis'), ('osteoporosis', 'disease', 'disorders', 'osteoporosis'), ('pneumonia', 'disease', 'disorders', 'Chronic'), ('pneumonia', 'disease', 'diseases', 'pneumonia'), ('rabies', 'disease', 'consequences', 'cat'), ('retinopathy', 'disease', 'disorders', 'cerebral'), ('rheumatism', 'disease', 'disease', 'rheumatism'), ('schizophrenia', 'disease', 'illnesses', 'schizophrenia'), ('schizophrenia', 'disease', 'illness', 'schizophrenia'), ('sepsis', 'disease', 'hypoxia', 'chronic'), ('smallpox', 'disease', 'disease', 'smallpox'), ('stroke', 'disease', 'diseases', 'coronary'), ('stroke', 'disease', 'disorders', 'Parkinson'), ('tetanus', 'disease', 'diseases', 'tetanus'), ('urethritis', 'disease', 'disease', 'urinary'), ('chili', 'dish', 'vegetables', 'green'), ('soup', 'dish', 'courses', 'dessert'), ('bulimia', 'disorder', 'disorders', 'Anorexia'), ('bulimia', 'disorder', 'disorder', 'bulimia'), ('bulimia', 'disorder', 'diagnosis', 'major'), ('chaos', 'disorder', 'terms', 'disorder'), ('epilepsy', 'disorder', 'common', 'stroke'), ('hysteria', 'disorder', 'categories', 'somatization'), ('insomnia', 'disorder', 'disorders', 'social'), ('india', 'district', 'changed', 'in'), ('precinct', 'district', 'titles', 'commander'), ('township', 'district', 'district', 'Somerset'), ('waterfront', 'district', 'services', 'the'), ('furosemide', 'diuretic', 'diuretic', 'furosemide'), ('canada', 'dominion', 'countries', 'India'), ('capitalism', 'economy', 'analysts', 'Janet'), ('capitalism', 'economy', 'theses', 'Natural'), ('joy', 'emotion', 'emotion', 'joy'), ('city', 'entity', 'cities', 'Gatineau'), ('sheriff', 'entity', 'services', 'the'), ('ecology', 'environment', 'departments', 'theEnvironmental'), ('habitat', 'environment', 'botanists', 'Joseph'), ('sphere', 'environment', 'concerns', 'armed'), ('reconstruction', 'era', 'history', 'the'), ('accident', 'event', 'event', 'an'), ('emergency', 'event', 'systems', 'locks'), ('movie', 'event', 'program', 'an'), ('outcome', 'event', 'event', 'a'), ('performance', 'event', 'task', 'an'), ('repetition', 'event', 'constructions', 'de'), ('tide', 'event', 'event', 'a'), ('malfunction', 'failure', 'circuits', 'CPUs'), ('cotton', 'fiber', 'materials', 'perlite'), ('jute', 'fiber', 'district', 'rice'), ('cod', 'fish', 'fish', 'cod'), ('cod', 'fish', 'fish', 'cod'), ('cod', 'fish', 'countries', 'Canada'), ('cod', 'fish', 'fish', 'herring'), ('mackerel', 'fish', 'gear', 'bottom'), ('mackerel', 'fish', 'carangids', 'rainbow'), ('salmon', 'fish', 'sources', 'soy'), ('salmon', 'fish', 'species', 'Pacific'), ('trout', 'fish', 'fish', 'steelhead'), ('trout', 'fish', 'fish', 'trout'), ('tuna', 'fish', 'stocks', 'tuna'), ('syrup', 'flavoring', 'flavoring', 'ginger'), ('semolina', 'flour', 'flour', 'semolina'), ('piccolo', 'flute', 'instruments', 'the'), ('apple', 'food', 'food', 'banana'), ('beet', 'food', 'crops', 'sugar'), ('beverage', 'food', 'manufacturers', 'Snapple'), ('bread', 'food', 'work', 'gathering'), ('bread', 'food', 'work', 'gathering'), ('candy', 'food', 'items', 'candy'), ('cheese', 'food', 'products', 'pizza'), ('coconut', 'food', 'crops', 'coconut'), ('coffee', 'food', 'food', 'muffins'), ('confectionery', 'food', 'companies', 'the'), ('corn', 'food', 'drinks', 'pinolillo'), ('cranberry', 'food', 'flavonoids', 'proanthocyanidins'), ('dinner', 'food', 'programs', 'Dinner'), ('flour', 'food', 'necessities', 'rice'), ('flour', 'food', 'food', 'noodles'), ('flour', 'food', 'products', 'wheat'), ('garlic', 'food', 'smells', 'onion'), ('hamburger', 'food', 'shows', 'American'), ('juice', 'food', 'microbe', 'Lactobacillus'), ('lettuce', 'food', 'vegetables', 'cooked'), ('liquor', 'food', 'producers', 'Kanye'), ('liquor', 'food', 'drinks', 'sorghum'), ('margarine', 'food', 'products', 'margarine'), ('meat', 'food', 'items', 'meat'), ('oatmeal', 'food', 'again', 'oatmeal'), ('pasta', 'food', 'BSA', 'the'), ('perishables', 'food', 'bear', 'food'), ('pizza', 'food', 'food', 'hot'), ('pizza', 'food', 'trades', 'pizza'), ('potato', 'food', 'providers', 'Sysco'), ('potato', 'food', 'food', 'potato'), ('rabbit', 'food', 'food', 'chicken'), ('ration', 'food', 'amenities', 'running'), ('ration', 'food', 'tasks', 'opening'), ('rice', 'food', 'crops', 'rice'), ('rice', 'food', 'plants', 'alfalfa'), ('salmon', 'food', 'brands', 'wild'), ('salmon', 'food', 'animals', 'black'), ('sausage', 'food', 'activities', 'paper'), ('sausage', 'food', 'fruits', 'banana'), ('soup', 'food', 'companies', 'Nestlé'), ('soup', 'food', 'companies', 'Campbell'), ('spinach', 'food', 'vegetables', 'zucchini'), ('spinach', 'food', 'vegetables', 'collards'), ('spirits', 'food', 'publications', 'Food'), ('squid', 'food', 'crustaceans', 'crabs'), ('squid', 'food', 'baits', 'chicken'), ('steak', 'food', 'dishes', 'steak'), ('steak', 'food', 'restaurants', 'Burger'), ('tea', 'food', 'suppressants', 'tea'), ('tuna', 'food', 'cans', 'cat'), ('tuna', 'food', 'treats', 'canned'), ('whiskey', 'food', 'supplies', 'food'), ('whisky', 'food', 'companies', 'Cesar'), ('yogurt', 'food', 'products', 'cheese'), ('beach', 'formation', 'environments', 'outer'), ('canyon', 'formation', 'features', 'The'), ('column', 'formation', 'battles', 'Mengling'), ('trough', 'formation', 'basins', 'the'), ('table', 'furniture', 'furniture', 'living'), ('merlot', 'grape', 'varieties', 'Cabernet'), ('merlot', 'grape', 'variety', 'Cabernet'), ('cortisol', 'hormone', 'glucocorticoids', 'cortisol'), ('estrogen', 'hormone', 'conditions', 'benign'), ('gonadotropin', 'hormone', 'agonist', 'leuprolide'), ('insulin', 'hormone', 'effectors', 'glucose'), ('mustang', 'horse', 'works', 'the'), ('mustang', 'horse', 'horses', 'the'), ('pony', 'horse', 'names', 'Falabella'), ('pony', 'horse', 'contests', 'soil'), ('disease', 'illness', 'illness', 'inflammatory'), ('flu', 'illness', 'illness', 'the'), ('malnutrition', 'illness', 'illness', 'rickets'), ('production', 'industry', 'countries', 'Morocco'), ('production', 'industry', 'models', 'the'), ('candidiasis', 'infection', 'infections', 'athlete'), ('sepsis', 'infection', 'infections', 'blood'), ('mosquito', 'insect', 'animals', 'mosquito'), ('moth', 'insect', 'herbivores', 'aphids'), ('moth', 'insect', 'creatures', 'mosquitoes'), ('thrips', 'insect', 'pests', 'whitefly'), ('islam', 'institution', 'merchants', 'the'), ('radiometer', 'instrument', 'interpolation', 'kernel'), ('confidentiality', 'integrity', 'models', 'Biba'), ('analysis', 'investigating', 'questions', 'the'), ('surveillance', 'investigation', 'topics', 'crime'), ('bayonet', 'knife', 'soldiers', 'Army'), ('bayonet', 'knife', 'products', 'the'), ('dagger', 'knife', 'used', 'the'), ('scalpel', 'knife', 'blade', 'a'), ('pond', 'lake', 'lakes', 'Dashueiku'), ('candle', 'lamp', 'objects', 'a'), ('afrikaans', 'language', 'languages', 'Afrikaans'), ('akkadian', 'language', 'others', 'Hurrian'), ('amharic', 'language', 'languages', 'Oromifa'), ('arabic', 'language', 'languages', 'English'), ('aramaic', 'language', 'Iraq', 'Alqosh'), ('baluchi', 'language', 'languages', 'Azari'), ('fortran', 'language', 'executables', 'BASIC'), ('gujarati', 'language', 'communities', 'the'), ('hindi', 'language', 'films', 'Minsara'), ('kannada', 'language', 'Haridasas', 'Vijaya'), ('mandinka', 'language', 'languages', 'Mandinka'), ('mongolian', 'language', 'scripts', 'Chinese'), ('nynorsk', 'language', 'intellectuals', 'Ernst'), ('sanskrit', 'language', 'languages', 'English'), ('urdu', 'language', 'cultures', 'the'), ('zulu', 'language', 'languages', 'Zulu'), ('abc', 'law', 'series', 'Law'), ('legislation', 'law', 'legislation', 'the'), ('shariah', 'law', 'institutions', 'civil'), ('ldl', 'lipoprotein', 'drugs', 'statins'), ('bag', 'luggage', 'services', 'checking'), ('artist', 'magazine', 'sites', 'Blackbook'), ('artist', 'magazine', 'features', 'The'), ('audubon', 'magazine', 'publications', 'Golf'), ('banker', 'magazine', 'publications', 'The'), ('century', 'magazine', 'works', 'James'), ('color', 'magazine', 'titles', 'Color'), ('confidential', 'magazine', 'publications', 'Punk'), ('confidential', 'magazine', 'magazines', 'INSTYLE'), ('confidential', 'magazine', 'features', 'School'), ('fangoria', 'magazine', 'magazines', 'Fangoria'), ('fangoria', 'magazine', 'magazines', 'Rue'), ('fhm', 'magazine', 'magazines', 'GQ'), ('frame', 'magazine', 'glitches', 'frame'), ('hustler', 'magazine', 'magazines', 'Playboy'), ('jane', 'magazine', 'outlets', 'various'), ('money', 'magazine', 'places', 'South'), ('nature', 'magazine', 'series', 'ITV'), ('oprah', 'magazine', 'programs', 'The'), ('outlook', 'magazine', 'magazines', 'St'), ('savoy', 'magazine', 'notables', 'Teresa'), ('seventeen', 'magazine', 'magazines', 'Vivi'), ('seventeen', 'magazine', 'websites', 'Pageantry'), ('spectator', 'magazine', 'newspapers', 'The'), ('success', 'magazine', 'clones', 'Softek'), ('travel', 'magazine', 'publications', 'Newsweek'), ('vogue', 'magazine', 'magazines', 'Vogue'), ('vogue', 'magazine', 'magazines', 'the'), ('vogue', 'magazine', 'publications', 'The'), ('vogue', 'magazine', 'magazine', 'Photo'), ('wallpaper', 'magazine', 'newspapers', 'V'), ('xxl', 'magazine', 'publications', 'XXL'), ('producer', 'maker', 'producers', 'Dee'), ('monogamy', 'marriage', 'monogamy', 'marriage'), ('monogamy', 'marriage', 'monogamy', 'marriage'), ('supper', 'meal', 'advice', 'announcing'), ('nuance', 'meaning', 'sentences', 'the'), ('observation', 'measurement', 'symptoms', 'nausea'), ('bacon', 'meat', 'ingredients', 'burgers'), ('chicken', 'meat', 'shellfish', 'loco'), ('mutton', 'meat', 'fillings', 'mushrooms'), ('mutton', 'meat', 'occasions', 'celebrations'), ('offal', 'meat', 'offal', 'kidneys'), ('pork', 'meat', 'tradition', 'canederli'), ('steak', 'meat', 'heat', 'braising'), ('steak', 'meat', 'meat', 'strip'), ('veal', 'meat', 'mammals', 'milk'), ('pediatrics', 'medicine', 'medicine', 'Internal'), ('cucumber', 'melon', 'crops', 'courgette'), ('cucumber', 'melon', 'crops', 'maize'), ('schizophrenia', 'mental', 'illness', 'schizoaffective'), ('sorghum', 'millet', 'vegetables', 'yams'), ('collagen', 'molecule', 'aggregates', 'fibrils'), ('amplitude', 'movement', 'function', 'velocity'), ('minimalism', 'movement', 'painters', 'Frank'), ('minimalism', 'movement', 'painters', 'Frank'), ('tremor', 'movement', 'disorders', 'chronic'), ('vibration', 'movement', 'commodities', 'steam'), ('quadriceps', 'muscle', 'groups', 'the'), ('guggenheim', 'museum', 'guests', 'Ian'), ('heard', 'museum', 'setting', 'a'), ('janus', 'mutual', 'groups', 'Janus'), ('sarin', 'nerve', 'threat', 'nerve'), ('cacophony', 'noise', 'elements', 'cacophony'), ('heroin', 'opiate', 'agonists', 'heroin'), ('liver', 'organ', 'parts', 'left'), ('mafia', 'organized', 'organizations', 'the'), ('combustion', 'oxidation', 'diagnostics', 'thin'), ('alhambra', 'palace', 'Sites', 'the'), ('collider', 'particle', 'accelerator', 'the'), ('collider', 'particle', 'detectors', 'the'), ('electron', 'particle', 'accelerators', 'SLAC'), ('grain', 'particle', 'competitors', 'a'), ('hadron', 'particle', 'accelerators', 'the'), ('photon', 'particle', 'particle', 'a'), ('banquet', 'party', 'occasions', 'a'), ('penne', 'pasta', 'sauces', 'pesto'), ('wheat', 'pasta', 'staples', 'bread'), ('wheat', 'pasta', 'products', 'wheat'), ('wheat', 'pasta', 'humans', 'bread'), ('growth', 'phenomenon', 'areas', 'Harrow'), ('reaction', 'phenomenon', 'antithesis', 'analysis'), ('aristotle', 'philosopher', 'thinkers', 'Thomas'), ('nibiru', 'planet', 'planet', 'Nibiru'), ('pluto', 'planet', 'developments', 'the'), ('havel', 'playwright', 'filmmakers', 'Miloš'), ('havel', 'playwright', 'writers', 'Václav'), ('enjoyment', 'pleasure', 'feelings', 'engagement'), ('detective', 'police', 'series', 'Traveler'), ('smog', 'pollution', 'conditions', 'asthma'), ('turkey', 'poultry', 'preparations', 'turkey'), ('supplication', 'prayer', 'request', 'guidance'), ('rainfall', 'precipitation', 'factors', 'distribution'), ('edition', 'printing', 'composers', 'Mihail'), ('directory', 'product', 'services', 'Sponsored'), ('freight', 'product', 'contexts', 'for'), ('algol', 'programming', 'words', 'if'), ('apl', 'programming', 'CSMP', 'OOSCMP'), ('php', 'programming', 'language', 'PHP'), ('simple', 'programming', 'scripts', 'quizzes'), ('mohammed', 'prophet', 'writers', 'Edgar'), ('moses', 'prophet', 'prophet', 'Moses'), ('moses', 'prophet', 'Bible', 'Abraham'), ('health', 'prosperity', 'blessings', 'fertility'), ('antihero', 'protagonist', 'series', 'Super'), ('schizophrenia', 'psychosis', 'psychosis', 'schizophrenia'), ('schizophrenia', 'psychosis', 'misdiagnosis', 'schizophrenia'), ('schizophrenia', 'psychosis', 'psychosis', 'schizophrenia'), ('anthology', 'publication', 'works', 'short'), ('anthology', 'publication', 'works', 'short'), ('directory', 'publication', 'magazine', 'feature'), ('owl', 'raptor', 'species', 'Short'), ('phenolic', 'resin', 'materials', 'phenolic'), ('polyester', 'resin', 'labels', 'polyester'), ('azalea', 'rhododendron', 'species', 'Yellow'), ('mouse', 'rodent', 'rodent', 'a'), ('watergate', 'scandal', 'topics', 'disco'), ('astronomer', 'scientist', 'bodies', 'planets'), ('component', 'section', 'features', 'accessibility'), ('element', 'section', 'movements', 'in'), ('incest', 'sex', 'abuses', 'intimidating'), ('masturbation', 'sex', 'acts', 'masturbation'), ('promiscuity', 'sex', 'grounds', 'those'), ('sneaker', 'shoe', 'forums', 'Niketalk'), ('cemetery', 'site', 'features', 'a'), ('nike', 'sneakers', 'companies', 'Nike'), ('nike', 'sneakers', 'sneakers', 'Nike'), ('spreadsheet', 'software', 'software', 'basic'), ('mezzo', 'soprano', 'singers', 'Elisabeth'), ('mezzo', 'soprano', 'singers', 'Celine'), ('broth', 'soup', 'liquids', 'soup'), ('broth', 'soup', 'soup', 'Scotch'), ('gazpacho', 'soup', 'dishes', 'caracoles'), ('nutmeg', 'spice', 'plants', 'clove'), ('pepper', 'spice', 'cards', 'Red'), ('version', 'statement', 'witnesses', 'Otto'), ('sauna', 'steam', 'activities', 'badminton'), ('chicago', 'stock', 'buildings', 'the'), ('london', 'stock', 'groups', 'the'), ('nasdaq', 'stock', 'indices', 'the'), ('harakiri', 'suicide', 'practices', 'harakiri'), ('loyalist', 'supporter', 'pamphlets', 'A'), ('badge', 'symbol', 'flag', 'a'), ('molasses', 'syrup', 'Sweeteners', 'maple'), ('sump', 'tank', 'equipment', 'protein'), ('america', 'territory', 'gangs', 'the'), ('brazil', 'territory', 'riches', 'gold'), ('palestine', 'territory', 'groups', 'Betar'), ('switzerland', 'territory', 'towns', 'Tägermoos'), ('embezzlement', 'theft', 'crimes', 'fraud'), ('robbery', 'theft', 'rackets', 'gambling'), ('shoplifting', 'theft', 'crimes', 'shoplifting'), ('shoplifting', 'theft', 'theft', 'shoplifting'), ('robber', 'thief', 'jobs', 'an'), ('mri', 'tomography', 'techniques', 'MRI'), ('crest', 'toothpaste', 'products', 'Crest'), ('bethlehem', 'town', 'hymns', 'Amazing'), ('galveston', 'town', 'cities', 'Mobile'), ('kingston', 'town', 'neighborhoods', 'Riverton'), ('massawa', 'town', 'islands', 'the'), ('logo', 'trademark', 'products', 'sunglasses'), ('acupuncture', 'treatment', 'those', 'tingles'), ('chiropractic', 'treatment', 'techniques', 'physiotherapy'), ('baobab', 'tree', 'river', 'the'), ('cacao', 'tree', 'episodes', 'the'), ('conifer', 'tree', 'trees', 'the'), ('pine', 'tree', 'conifer', 'pine'), ('poplar', 'tree', 'weather', 'Hurricane'), ('yale', 'university', 'universities', 'Columbia'), ('technology', 'utilisation', 'power', 'Brokers'), ('deviation', 'variation', 'aggregates', 'count'), ('retinol', 'vitamin', 'sites', 'the'), ('jihad', 'war', 'tribes', 'the'), ('jihad', 'war', 'tribes', 'the'), ('medicare', 'welfare', 'policies', 'universal'), ('serval', 'wildcat', 'carnivores', 'the'), ('sherry', 'wine', 'beverages', 'wine'), ('vintage', 'wine', 'sacrifices', 'selling'), ('vintage', 'wine', 'charities', 'Mencap'), ('coyote', 'wolf', 'dogs', 'the'), ('mahogany', 'wood', 'woods', 'mahogany'), ('maple', 'wood', 'caliber', 'American'), ('maple', 'wood', 'varieties', 'ash'), ('sawdust', 'wood', 'substance', 'powdered'), ('sawdust', 'wood', 'finish', 'shellac'), ('sawdust', 'wood', 'materials', 'wood'), ('bartender', 'worker', 'parts', 'policemen'), ('carpenter', 'worker', 'species', 'the'), ('aerobics', 'workout', 'disciplines', 'T'), ('airways', 'airline', 'agreements', 'Emirates'), ('chips', 'food', 'combinations', 'fish'), ('atlanta', 'college', 'university', 'Spelman'), ('beat', 'magazine', 'magazines', '16'), ('beauty', 'princess', 'cartoons', 'Snow'), ('blanc', 'white', 'wine', 'Sauvignon'), ('pressure', 'disease', 'disease', 'obesity'), ('pressure', 'disease', 'conditions', 'high'), ('pressure', 'disease', 'things', 'coronary'), ('bohr', 'physicist', 'physicist', 'Hans'), ('caml', 'programming', 'preprocessors', 'Objective'), ('caruso', 'singer', 'performers', 'French'), ('cerevisiae', 'yeast', 'yeasts', 'the'), ('cerevisiae', 'yeast', 'strains', 'Candida'), ('chowder', 'dish', 'dishes', 'fish'), ('cream', 'food', 'additions', 'fish'), ('cream', 'food', 'flavors', 'Cherry'), ('cream', 'topping', 'desserts', 'pie'), ('dakota', 'territory', 'states', 'West'), ('disorder', 'disease', 'disorders', 'anorexia'), ('disorder', 'disease', 'illnesses', 'Huntington'), ('dystrophy', 'disease', 'states', 'muscular'), ('eagle', 'bird', 'species', 'the'), ('edison', 'inventor', 'figures', 'American'), ('english', 'language', 'variations', 'British'), ('feynman', 'physicist', 'covered', 'the'), ('fibrosis', 'disease', 'diseases', 'Down'), ('fibrosis', 'disease', 'illnesses', 'heart'), ('fortune', 'luck', 'evil', 'Lucksuckers'), ('fries', 'food', 'food', 'french'), ('garfield', 'president', 'figures', 'President'), ('goods', 'food', 'goods', 'yeast'), ('goods', 'food', 'food', 'canned'), ('hendrix', 'guitarist', 'performers', 'Little'), ('hope', 'comedian', 'comedians', 'Bob'), ('international', 'magazine', 'magazines', 'Essence'), ('jefferson', 'president', 'newspapers', 'the'), ('kong', 'city', 'films', 'The'), ('fu', 'magazine', 'publications', 'an'), ('lucas', 'creator', 'works', 'Beowulf'), ('lung', 'disease', 'culture', 'mining'), ('news', 'magazine', 'competitors', 'Sports'), ('observateur', 'magazine', 'magazines', 'Le'), ('digest', 'magazine', 'critics', 'magazine'), ('osborne', 'playwright', 'film', 'playwright'), ('pictorial', 'magazine', 'artists', 'Tom'), ('pie', 'spice', 'blends', 'pumpkin'), ('plague', 'disease', 'disasters', 'disease'), ('processor', 'software', 'software', 'the'), ('rain', 'pollution', 'topics', 'acid'), ('reporter', 'magazine', 'periodicals', 'the'), ('republic', 'magazine', 'periodicals', 'Poetry'), ('imaging', 'tomography', 'tests', 'bone'), ('imaging', 'tomography', 'techniques', 'functional'), ('sclerosis', 'disease', 'diseases', 'multiple'), ('sclerosis', 'disease', 'disease', 'Multiple'), ('sclerosis', 'disease', 'affections', 'Multiple'), ('sclerosis', 'disease', 'disorders', 'multiple'), ('sclerosis', 'disease', 'diseases', 'autoimmune'), ('agency', 'intelligence', 'agencies', 'the'), ('sickness', 'disease', 'diseases', 'leishmaniasis'), ('square', 'district', 'outlets', 'Sogo'), ('university', 'college', 'schools', 'Grambling'), ('statesman', 'magazine', 'publications', 'The'), ('steel', 'alloy', 'grades', 'Superalloy'), ('steel', 'alloy', 'steels', 'austenitic'), ('stew', 'food', 'gatherings', 'church'), ('stokowski', 'conductor', 'figures', 'Leopold'), ('thorvaldsen', 'sculptor', 'images', 'Saint'), ('throw', 'shot', 'things', 'defensive'), ('vegas', 'city', 'venues', 'ones'), ('wayne', 'actor', 'movies', 'Flying'), ('week', 'magazine', 'magazines', 'Business'), ('yorker', 'magazine', 'publications', 'American')]\n"
     ]
    }
   ],
   "source": [
    "print(result)"
   ]
  },
  {
   "cell_type": "code",
   "execution_count": 92,
   "metadata": {
    "colab": {
     "base_uri": "https://localhost:8080/",
     "height": 0
    },
    "executionInfo": {
     "elapsed": 140,
     "status": "ok",
     "timestamp": 1667250696309,
     "user": {
      "displayName": "Chris S",
      "userId": "08468368996988622896"
     },
     "user_tz": 240
    },
    "id": "jwc53eyLyM-S",
    "outputId": "92c2e0d9-10b6-483b-a06c-c4b531bf9ff6"
   },
   "outputs": [
    {
     "name": "stdout",
     "output_type": "stream",
     "text": [
      "[('cat', 'animal', 'cat', 'animal'), ('illustration', 'art', 'photograph', 'work'), ('cannon', 'artillery', 'gunpowder', 'usually'), ('bangladeshi', 'asian', 'Thai', 'Southeast'), ('carillon', 'bell', 'church', 'municipal'), ('liquor', 'beverage', 'liquor', 'chocolate'), ('wine', 'beverage', 'wine', 'beverage'), ('raven', 'bird', 'Raven', 'land'), ('jug', 'bottle', 'bottle', 'reusable'), ('hospital', 'building', 'compound', 'places'), ('magic', 'card', 'cards', 'trading'), ('wheat', 'cereal', 'wheat', 'cereal'), ('baptism', 'ceremony', 'ceremony', 'ceremony'), ('rite', 'ceremony', 'dragon', 'spawn'), ('data', 'collection', 'engine', 'services'), ('internet', 'computer', 'computer', 'network'), ('merger', 'consolidation', 'merger', 'business'), ('alzheimer', 'disease', 'dementia', 'mental'), ('carcinoma', 'disease', 'disease', 'medical'), ('epidemic', 'disease', 'epidemic', 'disease'), ('fibrosis', 'disease', 'fibrosis', 'lung'), ('urethritis', 'disease', 'infections', 'forms'), ('agent', 'entity', 'police', 'entity'), ('california', 'entity', 'FTC', 'entity'), ('person', 'entity', 'sale', 'transfer'), ('habitat', 'environment', 'water', 'habitat'), ('catastrophe', 'event', 'warfare', 'catastrophe'), ('collision', 'event', 'collision', 'mishap'), ('emergency', 'event', 'war', 'emergency'), ('cotton', 'fiber', 'cotton', 'natural'), ('cotton', 'fiber', 'fiber', 'substrates'), ('jute', 'fiber', 'jute', 'natural'), ('corn', 'food', 'corn', 'food'), ('meat', 'food', 'meat', 'food'), ('perishables', 'food', 'food', 'perishables'), ('pork', 'food', 'hocks', 'smoked'), ('tea', 'food', 'jam', 'spread'), ('chair', 'furniture', 'Cushion', 'Household'), ('manslaughter', 'homicide', 'manslaughter', 'types'), ('diabetes', 'illness', 'infection', 'illness'), ('hiv', 'infection', 'infection', 'STIs'), ('church', 'institution', 'church', 'religious'), ('hospital', 'institution', 'hospital', 'institution'), ('pond', 'lake', 'cleaning', 'uses'), ('constitution', 'law', 'law', 'regulation'), ('steak', 'meat', 'wine', 'spirits'), ('piano', 'musical', 'piano', 'fingered'), ('insect', 'organism', 'insect', 'small'), ('neutron', 'particle', 'accelerator', 'radioactive'), ('pie', 'pastry', 'chocolate', 'flavors'), ('pie', 'pastry', 'pastry', 'covering'), ('pie', 'pastry', 'crust', 'pastry'), ('chicken', 'poultry', 'chicken', 'poultry'), ('trial', 'proceeding', 'trial', 'judicial'), ('eagle', 'raptor', 'eagle', 'raptor'), ('dinosaur', 'reptile', 'dinosaur', 'reptile'), ('insurance', 'security', 'bond', 'obligation'), ('promiscuity', 'sex', 'religious', 'grounds'), ('pepper', 'spice', 'cayenne', 'forms'), ('logo', 'symbol', 'slogan', 'message'), ('medal', 'symbol', 'flag', 'imagery'), ('germany', 'territory', 'Germany', 'enemy'), ('deviation', 'variation', 'light', 'electromagnetic'), ('coyote', 'wolf', 'coyote', 'canine'), ('care', 'treatment', 'care', 'less'), ('cream', 'food', 'cream', 'activities'), ('ground', 'site', 'cultural', 'activities'), ('security', 'welfare', 'security', 'social'), ('throw', 'shot', 'arms', 'objects'), ('water', 'food', 'water', 'environmental')]\n"
     ]
    }
   ],
   "source": [
    "print(result2)"
   ]
  },
  {
   "cell_type": "markdown",
   "metadata": {
    "id": "nIoQemEV0rWP"
   },
   "source": [
    "***(5 points) Describe your approach, and show a success and a failure for each pattern you that you\n",
    "implement.***"
   ]
  },
  {
   "cell_type": "markdown",
   "metadata": {
    "id": "15lzB7Ts0ySM"
   },
   "source": [
    "The regEx expression \"(\\w+)\\t(\\w+).* (\\w+) such as (\\w+)\" is intended to represent part of the (hypernym, hyponym) expression (1) in Marti A. Hearst's Automatic Acquisition of Hyponyms from Large Text Corpora. \n",
    "An example of a great match is: ('municipalities', 'Phoenix', ', Philadelphia, San Antonio, Pittsburgh, Newark, Buffalo, Trenton') while and example of a bad match is ('hotspots', 'Philadelphia') where the real result is  \"hotspots as Philadelphia, Tucson and Kansas City\"\n",
    "\n",
    "The regEx expression \"(\\w+)\\t(\\w+).* (\\w+) or other (\\w+)\" is intended to represent part of the (word, hyponym) expression (3) in Marti A. Hearst's Automatic Acquisition of Hyponyms from Large Text Corpora. An example of a great match is: ('wine', 'beverage') while a bad match is ('church', 'municipal')"
   ]
  },
  {
   "cell_type": "markdown",
   "metadata": {
    "id": "ayg0HjkrjGYg"
   },
   "source": [
    "***(5 points) Estimate the apparent precision and recall of the method. The exact details are up to you. One\n",
    "way would be to make predictions on wiki.test.txt (or a subset) and manually make some judgments to\n",
    "quantify the results. You should expect errors of both over-production (precision mistakes) and underproduction\n",
    "(recall errors).***"
   ]
  },
  {
   "cell_type": "markdown",
   "metadata": {
    "id": "WzGvq_Sv48Wo"
   },
   "source": [
    "![image.png](data:image/png;base64,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)"
   ]
  },
  {
   "cell_type": "code",
   "execution_count": 14,
   "metadata": {
    "executionInfo": {
     "elapsed": 145,
     "status": "ok",
     "timestamp": 1667228147331,
     "user": {
      "displayName": "Chris S",
      "userId": "08468368996988622896"
     },
     "user_tz": 240
    },
    "id": "bYsCd5WJ9MhS"
   },
   "outputs": [],
   "source": [
    "data2= open('wiki.test.txt',encoding='utf-8').read()"
   ]
  },
  {
   "cell_type": "code",
   "execution_count": 97,
   "metadata": {
    "executionInfo": {
     "elapsed": 16464,
     "status": "ok",
     "timestamp": 1667251392549,
     "user": {
      "displayName": "Chris S",
      "userId": "08468368996988622896"
     },
     "user_tz": 240
    },
    "id": "a_FQo8pEEtGB"
   },
   "outputs": [],
   "source": [
    "resultTest= re.findall(r\"(\\w+)\\t(\\w+).* (\\w+) such as (\\w+)\",data2, re.MULTILINE) #(\\w+)\\t(\\w+).*such (\\w+) as (?:(\\w+)|(.*),)+\n",
    "resultTest2= re.findall(r\"(\\w+)\\t(\\w+).* (\\w+) or other (\\w+)\",data2, re.MULTILINE)"
   ]
  },
  {
   "cell_type": "code",
   "execution_count": 98,
   "metadata": {
    "colab": {
     "base_uri": "https://localhost:8080/",
     "height": 0
    },
    "executionInfo": {
     "elapsed": 168,
     "status": "ok",
     "timestamp": 1667251398640,
     "user": {
      "displayName": "Chris S",
      "userId": "08468368996988622896"
     },
     "user_tz": 240
    },
    "id": "u3zZUabci72K",
    "outputId": "fac5d46c-afab-48d5-828d-2861fff2d939"
   },
   "outputs": [
    {
     "name": "stdout",
     "output_type": "stream",
     "text": [
      "[('fda', 'agency', 'agencies', 'the'), ('fda', 'agency', 'Agencies', 'the'), ('nrc', 'agency', 'agencies', 'the'), ('brussels', 'airport', 'companies', 'Ryanair'), ('hangzhou', 'airport', 'away', 'Yiwu'), ('heathrow', 'airport', 'destinations', 'Heathrow'), ('jeddah', 'airport', 'cities', 'Galkacyo'), ('newark', 'airport', 'airports', 'Philadelphia'), ('seattle', 'airport', 'hubs', 'Anchorage'), ('subang', 'airport', 'expressways', 'Elite'), ('nato', 'alignment', 'countries', 'Austria'), ('benadryl', 'antihistamine', 'Antihistamine', 'Diphenhydramine'), ('benadryl', 'antihistamine', 'antihistamine', 'Benadryl'), ('palestinian', 'arab', 'subjects', 'the'), ('saudi', 'arab', 'states', 'the'), ('matisse', 'artist', 'painters', 'Cézanne'), ('photographer', 'artist', 'artists', 'British'), ('cartel', 'association', 'companies', 'Rough'), ('shepard', 'astronaut', 'individuals', 'Everett'), ('bard', 'author', 'authors', 'Julia'), ('collins', 'author', 'authors', 'Jackie'), ('lyricist', 'author', 'odes', 'the'), ('mayor', 'authority', 'projects', 'the'), ('pilsener', 'beer', 'styles', 'the'), ('tandem', 'bicycle', 'bicycle', 'a'), ('ferry', 'boat', 'road', 'Jelalong'), ('ferry', 'boat', 'road', 'Kuala'), ('pond', 'body', 'facility', 'a'), ('femur', 'bone', 'bones', 'the'), ('shortbread', 'cake', 'recipes', 'shortbread'), ('camcorder', 'camera', 'available', 'an'), ('taffy', 'candy', 'treats', 'chocolate'), ('atlanta', 'capital', 'marketplaces', 'eBay'), ('belgrade', 'capital', 'others', 'Marko'), ('dhaka', 'capital', 'cities', 'Chittagong'), ('london', 'capital', 'capital', 'London'), ('nashville', 'capital', 'entrepreneurs', 'Roy'), ('prague', 'capital', 'institutions', 'the'), ('sacramento', 'capital', 'hubs', 'San'), ('tarot', 'card', 'games', 'ombre'), ('earth', 'celestial', 'position', 'Earth'), ('mclachlin', 'chief', 'Alberta', 'the'), ('camel', 'cigarette', 'personalities', 'news'), ('opera', 'classical', 'expression', 'opera'), ('bentonite', 'clay', 'agents', 'Montmorillonite'), ('flame', 'combustion', 'sink', 'a'), ('farce', 'comedy', 'pantomimes', 'Babes'), ('addition', 'component', 'methods', 'Membrane'), ('mozart', 'composer', 'programs', 'Mezzo'), ('tchaikovsky', 'composer', 'master', 'Tchaikovsky'), ('laptop', 'computer', 'goods', 'airfare'), ('sauce', 'condiment', 'applications', 'baking'), ('apartment', 'construction', 'sources', 'restaurants'), ('brewery', 'construction', 'jobs', 'washing'), ('cellar', 'construction', 'topics', 'root'), ('mart', 'construction', 'hypermarkets', 'Costco'), ('mart', 'construction', 'landmarks', 'the'), ('restaurant', 'construction', 'sectors', 'restaurant'), ('stadium', 'construction', 'projects', 'the'), ('window', 'construction', 'activities', 'climbing'), ('bottle', 'container', 'container', 'a'), ('bottle', 'container', 'container', 'a'), ('holstein', 'cows', 'cows', 'Holstein'), ('battleship', 'craft', 'craft', 'torpedo'), ('helicopter', 'craft', 'thrust', 'the'), ('woodworking', 'craft', 'crafts', 'painting'), ('imagination', 'creativity', 'traits', 'intelligence'), ('imagination', 'creativity', 'skills', 'social'), ('mastercard', 'credit', 'networks', 'VISA'), ('visa', 'credit', 'names', 'Visa'), ('burglary', 'crime', 'cases', 'burglary'), ('fraud', 'crime', 'crime', 'child'), ('prostitution', 'crime', 'activity', 'prostitution'), ('theft', 'crime', 'crime', 'housebreaking'), ('coinage', 'currency', 'locations', 'in'), ('lynx', 'deodorant', 'brand', 'South'), ('spray', 'deodorant', 'products', 'Ban'), ('clay', 'dirt', 'overhaul', 'sealed'), ('mud', 'dirt', 'objects', 'buildings'), ('sexism', 'discrimination', 'issues', 'poverty'), ('comedy', 'drama', 'series', 'Corner'), ('copper', 'element', 'metals', 'cobalt'), ('plutonium', 'element', 'actinide', 'uranium'), ('plutonium', 'element', 'elements', 'plutonium'), ('silicon', 'element', 'element', 'yttrium'), ('uranium', 'element', 'element', 'uranium'), ('technology', 'employment', 'certifications', 'CompTIA'), ('sunlight', 'energy', 'catalyst', 'zinc'), ('turbofan', 'engine', 'turbofan', 'General'), ('portal', 'entry', 'legs', 'metatarso'), ('peroxidase', 'enzyme', 'catalysts', 'manganese'), ('housings', 'equipment', 'equipment', 'cranks'), ('modem', 'equipment', 'equipment', 'a'), ('phone', 'equipment', 'equipment', 'CD'), ('receiver', 'equipment', 'equipment', 'the'), ('receiver', 'equipment', 'equipment', 'VTRs'), ('satellite', 'equipment', 'equipment', 'satellite'), ('satellite', 'equipment', 'equipment', 'satellite'), ('satellite', 'equipment', 'observatories', 'SOHO'), ('stereo', 'equipment', 'designs', 'mini'), ('stereo', 'equipment', 'companies', 'Niles'), ('television', 'equipment', 'equipment', 'television'), ('humboldt', 'explorer', 'patrons', 'Joseph'), ('brocade', 'fabric', 'services', 'firewalls'), ('linen', 'fabric', 'base', 'burlap'), ('silk', 'fabric', 'fibres', 'silk'), ('velvet', 'fabric', 'fabric', 'velvet'), ('burglary', 'felony', 'felony', 'armed'), ('myth', 'fiction', 'novels', 'The'), ('presidio', 'fort', 'stand', 'those'), ('apricot', 'fruit', 'there', 'apricot'), ('nut', 'fruit', 'flavoring', 'fresh'), ('pineapple', 'fruit', 'ingredients', 'guava'), ('pineapple', 'fruit', 'crops', 'pineapple'), ('mink', 'fur', 'escapees', 'coypu'), ('otter', 'fur', 'animals', 'beef'), ('furniture', 'furnishings', 'furnishings', 'clocks'), ('auction', 'game', 'trappings', 'a'), ('venison', 'game', 'game', 'venison'), ('landscaping', 'gardening', 'newspapers', 'The'), ('landscaping', 'gardening', 'work', 'landscaping'), ('pyrex', 'glass', 'glass', 'Pyrex'), ('quartz', 'glass', 'surfaces', 'glass'), ('purpose', 'goal', 'philosophers', 'Aristotle'), ('barley', 'grain', 'grain', 'barley'), ('barley', 'grain', 'products', 'wheat'), ('mane', 'hair', 'equines', 'the'), ('satisfaction', 'happiness', 'fields', 'psychology'), ('medicaid', 'health', 'programs', 'SCHIP'), ('basil', 'herb', 'seasoning', 'basil'), ('mustard', 'herb', 'plants', 'herb'), ('thyme', 'herb', 'flavourings', 'onion'), ('cytomegalovirus', 'herpes', 'viruses', 'enterovirus'), ('lesbianism', 'homosexuality', 'disorder', 'trauma'), ('guitart', 'hotel', 'years', 'Alpha'), ('motel', 'hotel', 'entertainers', 'David'), ('novotel', 'hotel', 'hotels', 'Novotel'), ('ramada', 'hotel', 'sites', 'Paseo'), ('ramada', 'hotel', 'hotels', 'Hyatt'), ('noon', 'hour', 'that', 'are'), ('sunrise', 'hour', 'events', 'birds'), ('benzene', 'hydrocarbon', 'products', 'Liquid'), ('benzene', 'hydrocarbon', 'toxins', 'benzene'), ('naphtha', 'hydrocarbon', 'products', 'naphtha'), ('diagnosis', 'identification', 'symptoms', 'abnormally'), ('diagnosis', 'identification', 'activity', 'assessment'), ('idol', 'image', 'object', 'a'), ('idol', 'image', 'individuals', 'Billy'), ('snapshot', 'image', 'metadata', 'options'), ('sauce', 'ingredient', 'vegetables', 'steamed'), ('seasoning', 'ingredient', 'variations', 'dak'), ('syrup', 'ingredient', 'drinks', 'the'), ('singer', 'instrumentalist', 'instruments', 'çiftelia'), ('singer', 'instrumentalist', 'artists', 'Oasis'), ('abaco', 'island', 'places', 'Cedar'), ('anacapa', 'island', 'pinnipeds', 'California'), ('crannog', 'island', 'lochs', 'Lochspouts'), ('crete', 'island', 'provinces', 'Lato'), ('gibraltar', 'island', 'members', 'Gibraltar'), ('hokkaido', 'island', 'places', 'Izumo'), ('islay', 'island', 'plants', 'oaks'), ('martinique', 'island', 'islands', 'Haiti'), ('molokai', 'island', 'products', 'Molokai'), ('oahu', 'island', 'islands', 'Maui'), ('palau', 'island', 'nations', 'Tuvalu'), ('tobago', 'island', 'artists', 'Mighty'), ('loneliness', 'isolation', 'themes', 'loneliness'), ('diamond', 'jewelry', 'movies', 'NBC'), ('carpentry', 'job', 'convicts', 'bricklaying'), ('chairmanship', 'job', 'leaders', 'Senator'), ('genocide', 'killing', 'organizations', 'the'), ('bradley', 'leader', 'bands', 'Nine'), ('candidate', 'leader', 'figures', 'Fergus'), ('hero', 'leader', 'tips', 'turning'), ('patriarch', 'leader', 'representatives', 'the'), ('pope', 'leader', 'leader', 'the'), ('pope', 'leader', 'figures', 'John'), ('suede', 'leather', 'fabric', 'cloth'), ('whiskey', 'liquor', 'documents', 'Abraham'), ('lidocaine', 'local', 'anesthetic', '2'), ('lidocaine', 'local', 'anesthetic', '2'), ('lidocaine', 'local', 'anesthetic', '2'), ('blaine', 'magician', 'launches', 'the'), ('randi', 'magician', 'abilities', 'spoon'), ('mascara', 'makeup', 'lashes', 'eyelash'), ('cat', 'mammal', 'mammal', 'a'), ('deer', 'mammal', 'areas', 'the'), ('deer', 'mammal', 'countries', 'the'), ('rat', 'mammal', 'animals', 'Common'), ('sale', 'marketing', 'activities', 'deliveries'), ('encouragement', 'message', 'groups', 'the'), ('information', 'message', 'information', 'fuel'), ('propaganda', 'message', 'symbols', 'the'), ('calcite', 'mineral', 'minerals', 'calcite'), ('chalcopyrite', 'mineral', 'mineral', 'pyrrhotite'), ('kaolinite', 'mineral', 'goods', 'hand'), ('magnetite', 'mineral', 'conditions', 'epilepsy'), ('ore', 'mineral', 'minerals', 'mohawkite'), ('pyrite', 'mineral', 'mineral', 'pyrite'), ('rutile', 'mineral', 'species', 'the'), ('abm', 'missile', 'countermeasures', 'decoys'), ('baboon', 'monkey', 'species', 'sitatunga'), ('august', 'month', 'merchandise', 'key'), ('talkie', 'movie', 'decades', 'the'), ('city', 'municipality', 'municipality', 'a'), ('chess', 'musical', 'schools', 'the'), ('evita', 'musical', 'musicals', 'The'), ('grease', 'musical', 'acts', 'Bobby'), ('oliver', 'musical', 'speakers', 'Oliver'), ('parade', 'musical', 'parades', 'the'), ('singer', 'musician', 'singers', 'Paul'), ('singer', 'musician', 'artists', 'British'), ('marseillaise', 'national', 'compositions', 'Chopin'), ('ethernet', 'network', 'products', 'non'), ('ethernet', 'network', 'protocols', 'DECnet'), ('internet', 'network', 'devices', 'digital'), ('lan', 'network', 'situations', 'a'), ('nation', 'newspaper', 'venues', 'Haaretz'), ('sun', 'newspaper', 'publications', 'Al'), ('debt', 'obligation', 'assets', 'bonds'), ('driver', 'operator', 'jobs', 'truck'), ('cattleya', 'orchid', 'sale', 'Dendrobium'), ('industry', 'organisation', 'owners', 'ITV'), ('pollock', 'painter', 'artists', 'Jackson'), ('titian', 'painter', 'names', 'Giorgione'), ('fresco', 'painting', 'Istria', 'the'), ('card', 'paper', 'medium', 'a'), ('cardboard', 'paper', 'surface', 'smooth'), ('newsprint', 'paper', 'paper', 'newsprint'), ('stationery', 'paper', 'businesses', 'auto'), ('body', 'perfume', 'smells', 'perfume'), ('humanism', 'philosophy', 'ideas', 'liberalism'), ('humanism', 'philosophy', 'philosophy', 'humanist'), ('cameraman', 'photographer', 'filmmakers', 'Jacques'), ('mechanics', 'physics', 'mathematics', 'control'), ('liszt', 'pianist', 'musicians', 'Ferenc'), ('liszt', 'pianist', 'pianists', 'Leslie'), ('chlorophyll', 'pigment', 'pigments', 'heme'), ('melanin', 'pigment', 'places', 'the'), ('tanka', 'poem', 'forms', 'tanka'), ('goethe', 'poet', 'matters', 'psychiatry'), ('interference', 'policy', 'means', 'filibustering'), ('deprivation', 'poverty', 'issues', 'the'), ('confidentiality', 'privacy', 'guideline', 'NPR'), ('tracheotomy', 'procedure', 'procedure', 'subglottic'), ('dividend', 'profits', 'departments', 'CDA'), ('armor', 'protection', 'rockets', 'the'), ('helmet', 'protection', 'means', 'goggles'), ('insurance', 'protection', 'administration', 'improvements'), ('preservation', 'protection', 'groups', 'the'), ('albumin', 'protein', 'proteins', 'albumin'), ('antibody', 'protein', 'surface', 'glass'), ('antibody', 'protein', 'objects', 'bacteria'), ('immunoglobulin', 'protein', 'proteins', 'Protein'), ('immunoglobulin', 'protein', 'proteins', 'Protein'), ('kinase', 'protein', 'kinases', 'Rho'), ('kinase', 'protein', 'processes', 'glucose'), ('protease', 'protein', 'inhibitors', 'trappin'), ('gansu', 'province', 'sites', 'elsewhere'), ('execution', 'punishment', 'state', 'treason'), ('bombardment', 'radiation', 'radiation', 'beta'), ('metro', 'railroad', 'counterparts', 'Metra'), ('insurgency', 'rebellion', 'tactics', 'divide'), ('buddhism', 'religion', 'works', 'Zhang'), ('jainism', 'religion', 'state', 'the'), ('satanism', 'religion', 'topics', 'serial'), ('vedic', 'religion', 'religions', 'that'), ('adige', 'river', 'neighbors', 'Venice'), ('beet', 'root', 'vegetables', 'spinach'), ('freeway', 'route', 'districts', 'Hahndorf'), ('despot', 'ruler', 'officers', 'John'), ('hamburger', 'sandwich', 'sandwich', 'a'), ('mayonnaise', 'sauce', 'condiments', 'ketchup'), ('mayonnaise', 'sauce', 'sauce', 'ketchup'), ('catfish', 'seafood', 'dish', 'Shrimp'), ('lobster', 'seafood', 'variety', 'crayfish'), ('sale', 'selling', 'media', 'newspapers'), ('maid', 'servant', 'novels', 'Velaikaari'), ('formica', 'sheet', 'materials', 'metal'), ('membrane', 'sheet', 'membrane', 'bituminous'), ('disease', 'sickness', 'substances', 'bacteria'), ('crisis', 'situation', 'situation', 'extreme'), ('bath', 'soap', 'antiseptics', 'bleach'), ('deodorant', 'soap', 'products', 'liquid'), ('dial', 'soap', 'brands', 'Ken'), ('glycerin', 'soap', 'areas', 'for'), ('glycerin', 'soap', 'ingredients', 'neatsfoot'), ('ivory', 'soap', 'companies', 'the'), ('ivory', 'soap', 'brands', 'Jollibee'), ('lemon', 'soap', 'chemical', 'alcohol'), ('lux', 'soap', 'brands', 'Jollibee'), ('palmolive', 'soap', 'products', 'Palmolive'), ('cola', 'soft', 'manufacturers', 'Coca'), ('trooper', 'soldier', 'designations', 'cavalryman'), ('cocker', 'spaniel', 'breeds', 'the'), ('cocker', 'spaniel', 'breeds', 'the'), ('dialogue', 'speech', 'issues', 'homosexuality'), ('sermon', 'speech', 'placenames', 'Creag'), ('tone', 'speech', 'sokuon', 'oppajimeru'), ('tone', 'speech', 'speech', 'the'), ('amnesty', 'status', 'issues', 'amnesty'), ('disease', 'status', 'event', 'disease'), ('disease', 'status', 'indicators', 'life'), ('hiv', 'status', 'drawbacks', 'possible'), ('priority', 'status', 'factors', 'the'), ('stature', 'status', 'fields', 'science'), ('wealth', 'status', 'programs', 'Joe'), ('activation', 'stimulation', 'measures', 'microcredit'), ('bosporus', 'strait', 'concentrated', 'the'), ('boulevard', 'street', 'streets', 'Saksahanskoho'), ('superman', 'superhero', 'heroes', 'Dr'), ('men', 'superhero', 'comics', 'Batman'), ('laparoscopic', 'surgery', 'surgery', 'the'), ('lasik', 'surgery', 'surgery', 'LASIK'), ('aspartame', 'sweetener', 'substitutes', 'honey'), ('snorkeling', 'swimming', 'activities', 'golf'), ('snorkeling', 'swimming', 'activities', 'swimming'), ('apnea', 'symptom', 'disorders', 'narcolepsy'), ('fever', 'symptom', 'system', 'unstable'), ('altar', 'table', 'six', '12'), ('altar', 'table', 'thrones', 'La'), ('desk', 'table', 'words', 'desk'), ('automation', 'technology', 'technology', 'solid'), ('robotics', 'technology', 'classes', 'Automotive'), ('robotics', 'technology', 'disciplines', 'materials'), ('roughness', 'texture', 'stimuli', 'roughness'), ('bone', 'tissue', 'liquids', 'blood'), ('endometrium', 'tissue', 'symptoms', 'hot'), ('epithelium', 'tissue', 'proteins', 'noggin'), ('lego', 'toy', 'characters', 'the'), ('euphonium', 'tuba', 'family', 'the'), ('euphonium', 'tuba', 'instruments', 'the'), ('diode', 'tube', 'regulator', 'a'), ('tetrode', 'tube', 'undesirable', 'in'), ('leatherback', 'turtle', 'research', 'tagging'), ('engineering', 'utilization', 'Findings', 'these'), ('technology', 'utilization', 'innovations', 'utilization'), ('cabbage', 'vegetable', 'ingredient', 'napa'), ('potato', 'vegetable', 'production', 'seed'), ('ambulance', 'vehicle', 'roles', 'a'), ('car', 'vehicle', 'vehicles', 'car'), ('interceptor', 'vehicle', 'designs', 'the'), ('jeep', 'vehicle', 'glider', 'CG'), ('pickup', 'vehicle', 'vehicles', '4x4'), ('snowmobile', 'vehicle', 'vehicle', 'a'), ('spacecraft', 'vehicle', 'spacecraft', 'the'), ('spacecraft', 'vehicle', 'spacecraft', 'ISRO'), ('submarine', 'vehicle', 'vehicle', 'a'), ('niacin', 'vitamin', 'vitamins', 'niacin'), ('niacin', 'vitamin', 'acids', 'tryptophan'), ('aircraft', 'weapon', 'aircraft', 'the'), ('bomb', 'weapon', 'areas', 'South'), ('broadsword', 'weapon', 'weapons', 'spear'), ('dagger', 'weapon', 'areas', 'striking'), ('dagger', 'weapon', 'weapon', 'a'), ('grenade', 'weapon', 'rifles', 'the'), ('grenade', 'weapon', 'launchers', 'the'), ('laser', 'weapon', 'objects', 'armored'), ('missile', 'weapon', 'classes', 'Rangers'), ('nightstick', 'weapon', 'alternatives', 'tasers'), ('projectile', 'weapon', 'vehicles', 'tanks'), ('shank', 'weapon', 'weapon', 'a'), ('shotgun', 'weapon', 'items', 'more'), ('submarine', 'weapon', 'warships', 'destroyers'), ('sword', 'weapon', 'implement', 'a'), ('taser', 'weapon', 'generations', 'the'), ('orca', 'whale', 'Whales', 'the'), ('durum', 'wheat', 'grains', 'durum'), ('durum', 'wheat', 'specialties', 'falafel'), ('fleece', 'wool', 'materials', 'wool'), ('page', 'word', 'text', 'the'), ('mandamus', 'writ', 'law', 'the'), ('acid', 'vitamin', 'essentials', 'folic'), ('age', 'religion', 'concepts', 'the'), ('aldrin', 'astronaut', 'novels', 'Encounter'), ('amin', 'dictator', 'figures', 'Ugandan'), ('administration', 'agency', 'agencies', 'the'), ('commission', 'office', 'regulation', 'the'), ('tobago', 'island', 'favourites', 'ponche'), ('times', 'newspaper', 'leaders', 'the'), ('arm', 'weapon', 'explosives', 'frag'), ('asimov', 'writer', 'solvent', 'methane'), ('bureau', 'office', 'positions', 'section'), ('bush', 'first', 'figures', 'former'), ('cage', 'composer', 'circle', 'Jessie'), ('capone', 'gangster', 'gangsters', 'John'), ('carbine', 'weapon', 'firearms', 'the'), ('castro', 'leader', 'people', 'Andy'), ('catholic', 'religion', 'rituals', 'benedictions'), ('church', 'religion', 'areas', 'social'), ('church', 'religion', 'religions', 'Hellenic'), ('columbia', 'province', 'provinces', 'British'), ('cream', 'dessert', 'items', 'cookies'), ('defense', 'protection', 'protection', 'emergency'), ('disobedience', 'resistance', 'anarchists', 'Agorists'), ('dylan', 'artist', 'artist', 'Ray'), ('salaam', 'airport', 'airports', 'Nairobi'), ('figaro', 'newspaper', 'Newspaper', 'Les_Échos_'), ('fund', 'investment', 'organizations', 'Investment'), ('game', 'simulation', 'techniques', 'a'), ('gear', 'equipment', 'gear', 'spears'), ('gun', 'musical', 'shows', 'Number'), ('grande', 'river', 'Westerns', 'Denver'), ('hemingway', 'writer', 'authors', 'Ernest'), ('house', 'theater', 'theaters', 'the'), ('huxley', 'author', 'writers', 'Guy'), ('huxley', 'author', 'writers', 'Guy'), ('idol', 'television', 'shows', 'The'), ('ii', 'queen', 'projects', 'the'), ('intelligence', 'engineering', 'areas', 'Artificial'), ('intelligence', 'technology', 'technologies', 'robotics'), ('intelligence', 'technology', 'technology', 'artificial'), ('lerner', 'lyricist', 'shows', 'My'), ('keys', 'coral', 'services', 'marine'), ('kit', 'equipment', 'bike', 'windscreen'), ('life', 'painting', 'artists', 'Jan'), ('lindbergh', 'aviator', 'divers', 'Zale'), ('louis', 'boxer', 'boxers', 'Joe'), ('borges', 'writer', 'artists', 'Jorge'), ('lumpur', 'airport', 'facilities', 'high'), ('lumpur', 'airport', 'countries', 'Malaysia'), ('lumpur', 'capital', 'acts', 'snatch'), ('mall', 'construction', 'towns', 'Manor'), ('marrow', 'tissue', 'organs', 'the'), ('master', 'artist', 'painters', 'Georges'), ('mechanics', 'physics', 'areas', 'optics'), ('nast', 'cartoonist', 'writers', 'American'), ('hare', 'airport', 'groups', 'CNN'), ('science', 'degree', 'qualification', 'a'), ('orleans', 'airport', 'airports', 'Houston'), ('service', 'office', 'agencies', 'the'), ('penh', 'capital', 'Cambodia', 'Surin'), ('rodgers', 'composer', 'producers', 'Lawrence'), ('roosevelt', 'first', 'notables', 'former'), ('salvador', 'capital', 'cities', 'Santa'), ('science', 'engineering', 'programmes', 'Business'), ('science', 'technology', 'fields', 'information'), ('service', 'company', 'companies', 'the'), ('stravinsky', 'composer', 'suites', 'the'), ('system', 'equipment', 'ancillaries', 'the'), ('television', 'video', 'channels', 'Showtime'), ('television', 'video', 'software', 'video'), ('television', 'video', 'sites', 'YouTube'), ('times', 'newspaper', 'publications', 'British'), ('trek', 'television', 'programing', 'The'), ('turbine', 'engine', 'problems', 'clogging'), ('vegas', 'airport', 'destinations', 'Washington'), ('vinci', 'artist', 'works', 'Taccola'), ('whitman', 'poet', 'America', 'the'), ('word', 'word', 'processor', 'Microsoft'), ('works', 'construction', 'works', 'the')]\n"
     ]
    }
   ],
   "source": [
    "print(resultTest)"
   ]
  },
  {
   "cell_type": "code",
   "execution_count": 108,
   "metadata": {
    "executionInfo": {
     "elapsed": 170,
     "status": "ok",
     "timestamp": 1667251944687,
     "user": {
      "displayName": "Chris S",
      "userId": "08468368996988622896"
     },
     "user_tz": 240
    },
    "id": "v1dZh0fmo3UI"
   },
   "outputs": [],
   "source": [
    "# test 1\n",
    "TP=0\n",
    "FP=0\n",
    "FN=0\n",
    "for element in resultTest:\n",
    "  if element[1] == element[2].lower() and element[0] == element[3].lower():\n",
    "    TP+=1\n",
    "  elif element[1] != element[2].lower() and element[0] == element[3].lower():\n",
    "    FP+=1\n",
    "  elif element[0] == element[3].lower():\n",
    "    FN+=1\n",
    "\n"
   ]
  },
  {
   "cell_type": "code",
   "execution_count": 110,
   "metadata": {
    "colab": {
     "base_uri": "https://localhost:8080/",
     "height": 0
    },
    "executionInfo": {
     "elapsed": 297,
     "status": "ok",
     "timestamp": 1667251955994,
     "user": {
      "displayName": "Chris S",
      "userId": "08468368996988622896"
     },
     "user_tz": 240
    },
    "id": "do3Xqjut0gSS",
    "outputId": "7dc54a22-4df6-4d26-fd9c-f6d9646709f0"
   },
   "outputs": [
    {
     "name": "stdout",
     "output_type": "stream",
     "text": [
      "precision of \"(\\w+) such as (\\w+)\"  : 0.2978723404255319 Recall : 1.0\n"
     ]
    }
   ],
   "source": [
    "print('precision of \"(\\w+) such as (\\w+)\"  :', TP/(TP+FP),'Recall :', TP/(TP+FN))"
   ]
  },
  {
   "cell_type": "code",
   "execution_count": 99,
   "metadata": {
    "colab": {
     "base_uri": "https://localhost:8080/",
     "height": 0
    },
    "executionInfo": {
     "elapsed": 169,
     "status": "ok",
     "timestamp": 1667251469608,
     "user": {
      "displayName": "Chris S",
      "userId": "08468368996988622896"
     },
     "user_tz": 240
    },
    "id": "FpFXDsZ6Fq5y",
    "outputId": "d95673a9-1f18-47a5-d513-a404eb02e541"
   },
   "outputs": [
    {
     "name": "stdout",
     "output_type": "stream",
     "text": [
      "[('leg', 'body', 'leg', 'body'), ('pond', 'body', 'pond', 'body'), ('earth', 'celestial', 'body', 'point'), ('planet', 'celestial', 'planet', 'celestial'), ('window', 'construction', 'construction', 'offshore'), ('bottle', 'container', 'bottle', 'container'), ('canoe', 'craft', 'paddles', 'projects'), ('embezzlement', 'crime', 'embezzlement', 'crime'), ('chlorine', 'element', 'chlorine', 'chemical'), ('dysprosium', 'element', 'holmium', 'rare'), ('version', 'explanation', 'theologians', 'people'), ('pyrex', 'glass', 'Pyrex', 'types'), ('bitterness', 'hatred', 'men', 'women'), ('disease', 'health', 'disease', 'health'), ('idol', 'image', 'image', 'material'), ('acetone', 'ketone', 'peroxide', 'oxidizers'), ('law', 'legal', 'Understanding', 'legal'), ('information', 'message', 'campaign', 'social'), ('sam', 'missile', 'aircraft', 'missiles'), ('card', 'paper', 'paper', 'traditional'), ('synagogue', 'place', 'synagogue', 'place'), ('bishop', 'priest', 'bishop', 'priest'), ('bishop', 'priest', 'factory', 'place'), ('antibody', 'protein', 'protein', 'gene'), ('imprisonment', 'punishment', 'fines', 'punishment'), ('disc', 'recording', 'English', 'foreign'), ('museum', 'repository', 'closets', 'repository'), ('hamburger', 'sandwich', 'mayonnaise', 'dressing'), ('shellfish', 'seafood', 'lobsters', 'marine'), ('crisis', 'situation', 'constitution', 'basic'), ('detergent', 'soap', 'soap', 'types'), ('safety', 'status', 'West', 'non'), ('nyse', 'stock', 'NYSE', 'major'), ('nerve', 'tissue', 'ropes', 'bindings'), ('spleen', 'tissue', 'spleen', 'tissue'), ('automobile', 'vehicle', 'automobile', 'motor'), ('missile', 'vehicle', 'aircraft', 'vehicle'), ('hawker', 'vendor', 'street', 'public'), ('boiler', 'vessel', 'water', 'fluid'), ('riot', 'violence', 'riot', 'violence'), ('cannon', 'weapon', 'cannon', 'small'), ('explosive', 'weapon', 'officer', 'person'), ('firearm', 'weapon', 'firearm', 'dangerous'), ('handgun', 'weapon', 'handgun', 'weapon'), ('sword', 'weapon', 'saber', 'swords')]\n"
     ]
    }
   ],
   "source": [
    "print(resultTest2)"
   ]
  },
  {
   "cell_type": "code",
   "execution_count": 126,
   "metadata": {
    "executionInfo": {
     "elapsed": 151,
     "status": "ok",
     "timestamp": 1667252254120,
     "user": {
      "displayName": "Chris S",
      "userId": "08468368996988622896"
     },
     "user_tz": 240
    },
    "id": "uKjX3XsU0I8u"
   },
   "outputs": [],
   "source": [
    "# test 2\n",
    "TP=0\n",
    "FP=0\n",
    "FN=0\n",
    "for element in resultTest2:\n",
    "  if element[0] == element[2] and element[1] == element[3]:\n",
    "    TP+=1\n",
    "  elif element[0] != element[2] and element[1] == element[3]:\n",
    "    FP+=1\n",
    "  elif element[0] == element[3]:\n",
    "    FN+=1\n"
   ]
  },
  {
   "cell_type": "code",
   "execution_count": 127,
   "metadata": {
    "colab": {
     "base_uri": "https://localhost:8080/",
     "height": 0
    },
    "executionInfo": {
     "elapsed": 154,
     "status": "ok",
     "timestamp": 1667252260557,
     "user": {
      "displayName": "Chris S",
      "userId": "08468368996988622896"
     },
     "user_tz": 240
    },
    "id": "FbXZm1vXxo1z",
    "outputId": "8eeb296e-fc71-4981-da3d-14e9776dea73"
   },
   "outputs": [
    {
     "name": "stdout",
     "output_type": "stream",
     "text": [
      "45 11 4 0\n"
     ]
    }
   ],
   "source": [
    "print(len(resultTest2), TP, FP, FN)"
   ]
  },
  {
   "cell_type": "code",
   "execution_count": 128,
   "metadata": {
    "colab": {
     "base_uri": "https://localhost:8080/",
     "height": 0
    },
    "executionInfo": {
     "elapsed": 146,
     "status": "ok",
     "timestamp": 1667252261732,
     "user": {
      "displayName": "Chris S",
      "userId": "08468368996988622896"
     },
     "user_tz": 240
    },
    "id": "6StaM4n1yEdf",
    "outputId": "afc4ac30-f179-4b22-f276-a6592a356f24"
   },
   "outputs": [
    {
     "name": "stdout",
     "output_type": "stream",
     "text": [
      "precision of \"(\\w+) or other (\\w+)\" : 0.7333333333333333 Recall : 1.0\n"
     ]
    }
   ],
   "source": [
    "print('precision of \"(\\w+) or other (\\w+)\" :', TP/(TP+FP),'Recall :', TP/(TP+FN))"
   ]
  },
  {
   "cell_type": "markdown",
   "metadata": {
    "id": "xrfdthWt6aY6"
   },
   "source": [
    "***Develop regular expressions to extract some other lexico-semantic relationship besides hypernym/hyponym\n",
    "pairs. For example, you could try to extract meronyms or troponyms.***\n",
    "\n",
    "***(6 points) Implement an extension.***\n"
   ]
  },
  {
   "cell_type": "code",
   "execution_count": 172,
   "metadata": {
    "executionInfo": {
     "elapsed": 955,
     "status": "ok",
     "timestamp": 1667254463970,
     "user": {
      "displayName": "Chris S",
      "userId": "08468368996988622896"
     },
     "user_tz": 240
    },
    "id": "rqsZWASo1ZkB"
   },
   "outputs": [],
   "source": [
    "extend= re.findall(r\"(\\w+) is made of (\\w+)\",data2, re.MULTILINE) \n",
    "extend2= re.findall(r\"(\\w+) part of the (\\w+)\",data2, re.MULTILINE) "
   ]
  },
  {
   "cell_type": "code",
   "execution_count": 173,
   "metadata": {
    "colab": {
     "base_uri": "https://localhost:8080/",
     "height": 0
    },
    "executionInfo": {
     "elapsed": 3,
     "status": "ok",
     "timestamp": 1667254463971,
     "user": {
      "displayName": "Chris S",
      "userId": "08468368996988622896"
     },
     "user_tz": 240
    },
    "id": "cAx5jo361oaw",
    "outputId": "00efc854-935f-4258-8c90-0524e798e701"
   },
   "outputs": [
    {
     "name": "stdout",
     "output_type": "stream",
     "text": [
      "[('bridge', 'pre'), ('wood', '48'), ('Pyrex', 'Corning'), ('glassware', 'borosilicate'), ('Kitchen', 'tempered'), ('It', 'silicon'), ('mention', 'Lew'), ('use', 'this')]\n"
     ]
    }
   ],
   "source": [
    "print(extend)"
   ]
  },
  {
   "cell_type": "code",
   "execution_count": 174,
   "metadata": {
    "colab": {
     "base_uri": "https://localhost:8080/",
     "height": 0
    },
    "executionInfo": {
     "elapsed": 174,
     "status": "ok",
     "timestamp": 1667254504708,
     "user": {
      "displayName": "Chris S",
      "userId": "08468368996988622896"
     },
     "user_tz": 240
    },
    "id": "FLzBsruy2bxF",
    "outputId": "a6ac73bb-ffd5-41cf-a822-c9c50449bc02"
   },
   "outputs": [
    {
     "name": "stdout",
     "output_type": "stream",
     "text": [
      "[('as', 'Korean'), ('autonomous', 'East'), ('is', 'California'), ('Though', 'FBI'), ('southeastern', 'state'), ('southern', 'city'), ('As', 'planning'), ('been', 'leadership'), ('western', 'Dili'), ('as', 'airport'), ('is', 'Lufthansa'), ('as', '66th'), ('is', 'CTA'), ('as', '10'), ('as', 'challenge'), ('As', 'latter'), ('early', '20th'), ('then', 'USSR'), ('is', 'Federal'), ('up', 'Cornubian'), ('up', 'Cornubian'), ('both', 'Chiloé'), ('became', 'editorial'), ('integral', 'femur'), ('top', 'femur'), ('proximal', 'bone'), ('also', 'Creswell'), ('annexed', 'Bronx'), ('southwestern', 'borough'), ('became', 'County'), ('became', 'Metropolitan'), ('became', 'County'), ('became', 'Metropolitan'), ('became', 'County'), ('became', 'Metropolitan'), ('became', 'County'), ('became', 'Metropolitan'), ('became', 'County'), ('became', 'Metropolitan'), ('became', 'County'), ('became', 'Metropolitan'), ('became', 'County'), ('became', 'Metropolitan'), ('big', 'Assyrians'), ('significant', 'City'), ('south', 'capital'), ('western', 'Canadian'), ('another', 'country'), ('for', 'cost'), ('a', 'University'), ('then', 'Russian'), ('then', 'Russian'), ('western', 'Hungarian'), ('geographically', 'Monaro'), ('considered', 'region'), ('was', 'Eyalet'), ('was', 'Capital'), ('be', 'new'), ('eastern', 'country'), ('eastern', 'country'), ('that', 'British'), ('as', 'cycle'), ('A', 'famous'), ('are', 'Managua'), ('As', 'former'), ('eastern', 'country'), ('became', 'Second'), ('and', 'Levski'), ('was', 'squad'), ('then', 'Soviet'), ('then', 'Russian'), ('was', 'Independent'), ('are', 'Railway'), ('eastern', 'horoscope'), ('as', 'Established'), ('the', 'client'), ('large', 'country'), ('was', 'ruling'), ('as', 'cooking'), ('one', 'since'), ('least', 'perceptual'), ('as', 'stress'), ('of', 'West'), ('as', 'demolition'), ('form', 'door'), ('on', 'site'), ('As', 'sideline'), ('first', 'new'), ('paying', 'profits'), ('a', '2007'), ('on', 'site'), ('main', 'hall'), ('over', 'double'), ('residential', 'kibbutz'), ('a', 'Chinese'), ('his', 'crime'), ('as', 'Ice'), ('a', 'defense'), ('is', 'New'), ('as', 'duo'), ('was', 'ensemble'), ('actually', 'name'), ('distal', 'small'), ('quilted', 'outer'), ('and', 'basement'), ('important', 'history'), ('originally', 'Garden'), ('As', 'protest'), ('major', 'diet'), ('no', 'furniture'), ('a', 'Villa'), ('and', 'Canadian'), ('as', 'Dakota'), ('as', 'Dakota'), ('first', '1950s'), ('a', 'encore'), ('Breton', 'Bay'), ('became', 'Kingdom'), ('early', '1870s'), ('was', 'creative'), ('this', 'beach'), ('forms', 'Left'), ('a', 'state'), ('as', 'East'), ('was', 'landing'), ('is', 'Channel'), ('is', 'Channel'), ('is', 'country'), ('is', 'Kingdom'), ('As', 'Scanian'), ('ethnically', 'Solomon'), ('now', 'North'), ('as', 'regimental'), ('be', 'collection'), ('southern', 'island'), ('formed', 'island'), ('southern', 'island'), ('controlled', 'island'), ('controlled', 'island'), ('was', 'city'), ('became', 'Leeward'), ('be', 'east'), ('is', 'Islands'), ('as', 'Airport'), ('is', 'Lantau'), ('northern', 'Aegean'), ('northeastern', 'Greek'), ('northern', 'Samar'), ('a', 'Ambon'), ('are', 'Maluku'), ('small', 'island'), ('southwest', 'Philippine'), ('is', 'Calamian'), ('a', 'what'), ('as', 'Pacific'), ('formed', 'Duchy'), ('remained', 'nation'), ('is', 'Outer'), ('as', 'carrier'), ('is', 'Pemba'), ('is', 'town'), ('central', 'island'), ('as', 'defences'), ('main', 'city'), ('forms', 'North'), ('is', 'rim'), ('western', 'Barents'), ('occupies', 'vast'), ('southern', 'island'), ('northern', 'island'), ('themselves', 'Society'), ('themselves', 'Society'), ('themselves', 'Society'), ('Eastern', 'island'), ('northern', 'island'), ('every', 'island'), ('northeastern', 'island'), ('southeastern', 'island'), ('southeast', 'island'), ('eastern', 'Spanish'), ('and', 'province'), ('Indonesian', 'island'), ('eastern', 'island'), ('forms', 'archipelago'), ('Strait', 'Korea'), ('forms', 'north'), ('considerable', 'Edomites'), ('be', 'gang'), ('this', 'castle'), ('latter', 'nineteenth'), ('are', 'worldwide'), ('a', 'Perl'), ('as', 'Citizens'), ('as', 'Citizens'), ('was', 'team'), ('A', 'parish'), ('southern', 'Brazilian'), ('the', 'Russian'), ('being', 'pop'), ('a', 'World'), ('originally', 'Department'), ('sometimes', 'global'), ('is', 'permanent'), ('as', 'Dürer'), ('were', 'Postal'), ('one', 'modern'), ('only', 'brain'), ('a', 'Navy'), ('is', 'armed'), ('is', 'GMG'), ('not', 'originally'), ('front', 'chassis'), ('became', 'new'), ('became', 'new'), ('forms', 'commune'), ('a', 'Shannan'), ('singing', 'circus'), ('currently', 'North'), ('is', 'Province'), ('Any', 'city'), ('any', 'body'), ('ultraviolet', 'light'), ('a', 'band'), ('a', 'druidic'), ('a', 'Arab'), ('a', 'diversity'), ('a', 'Bible'), ('a', 'Bible'), ('a', 'Bible'), ('a', 'Bible'), ('a', 'Bible'), ('a', 'Bible'), ('a', 'Bible'), ('a', 'Bible'), ('a', 'Bible'), ('a', 'Bible'), ('a', 'Vodou'), ('that', 'Christian'), ('a', 'Chattahoochee'), ('intentional', 'plan'), ('formerly', 'Archbishopric'), ('west', 'province'), ('upper', 'Sacramento'), ('been', 'turnback'), ('was', 'Nordic'), ('was', 'Nordic'), ('important', 'land'), ('As', 'Aktion'), ('As', 'Fox'), ('major', 'road'), ('major', 'road'), ('major', 'road'), ('major', 'road'), ('major', 'road'), ('now', 'main'), ('any', 'station'), ('forms', 'boundary'), ('northernmost', 'Robert'), ('a', 'Empire'), ('As', 'war'), ('using', 'former'), ('as', 'Salyut'), ('was', '1999'), ('key', 'squad'), ('a', 'Atlante'), ('early', '20th'), ('as', '2001'), ('valuable', 'Byzantine'), ('as', 'WTA'), ('forms', 'boundary'), ('are', 'stratum'), ('outermost', 'epidermis'), ('lower', 'stratum'), ('is', 'phenomenon'), ('early', '21st'), ('anterior', 'body'), ('be', 'trend'), ('main', 'yam'), ('on', 'utility'), ('also', 'consultation'), ('of', 'body'), ('lower', 'vessel'), ('as', 'Singapore'), ('is', 'Continental'), ('forms', 'adjacent'), ('small', 'basin'), ('each', 'tank'), ('forms', 'Nuyorical'), ('as', 'plot'), ('central', 'island'), ('defining', 'culture'), ('still', 'Netherlands'), ('still', 'Netherlands'), ('still', 'Netherlands'), ('southwest', 'Netherlands'), ('northern', 'country'), ('currently', 'Faslane'), ('as', 'larger'), ('as', 'Franklin'), ('southern', 'island'), ('as', 'harem'), ('was', 'original'), ('is', 'RPCGA'), ('is', 'metropolitan'), ('a', 'Houston'), ('designed', 'French'), ('southern', 'county'), ('is', 'volcanic'), ('a', 'KIPP'), ('as', 'Treaty'), ('as', 'second'), ('as', '1988'), ('northern', 'Orange'), ('western', 'Orange'), ('on', 'efforts'), ('as', 'crew'), ('also', 'band'), ('restored', 'old'), ('been', 'memorabilia'), ('a', 'Biddeford'), ('were', 'amphibious'), ('northwest', 'female'), ('northeastern', 'island'), ('Western', 'island'), ('is', 'Nacula'), ('western', 'island'), ('as', 'East'), ('as', 'East'), ('as', 'East'), ('as', 'East'), ('is', 'flood'), ('as', 'Yugoslav'), ('a', 'Coast'), ('any', 'world'), ('good', 'gas'), ('southernmost', 'island'), ('as', 'ASIMO'), ('a', 'Wisconsin'), ('later', 'domain'), ('as', 'Forward'), ('as', 'big'), ('and', 'area'), ('northeastern', 'Brava'), ('all', 'Local'), ('As', 'same'), ('unwritten', 'novel'), ('is', 'Kingsoft'), ('as', 'Bicentennial'), ('and', 'northern'), ('central', 'Kara')]\n"
     ]
    }
   ],
   "source": [
    "print(extend2)"
   ]
  },
  {
   "cell_type": "markdown",
   "metadata": {
    "id": "Cq2csPVq6jV4"
   },
   "source": [
    "***(4 points) Describe your approach and results.***"
   ]
  },
  {
   "cell_type": "markdown",
   "metadata": {
    "id": "2tVpYjwbAVl7"
   },
   "source": [
    " The apporach used was to try and use phrases that might capture meronyms and holonyms. I did happen to capture \"Ultraviolet part of the light\" and \" glassware is made of borosilicate\" which reflects part/whole, whole/part relationship."
   ]
  }
 ],
 "metadata": {
  "colab": {
   "authorship_tag": "ABX9TyPqABpwKPCpn/vvjnwyXzcE",
   "collapsed_sections": [],
   "provenance": []
  },
  "kernelspec": {
   "display_name": "Python 3 (ipykernel)",
   "language": "python",
   "name": "python3"
  },
  "language_info": {
   "codemirror_mode": {
    "name": "ipython",
    "version": 3
   },
   "file_extension": ".py",
   "mimetype": "text/x-python",
   "name": "python",
   "nbconvert_exporter": "python",
   "pygments_lexer": "ipython3",
   "version": "3.11.7"
  }
 },
 "nbformat": 4,
 "nbformat_minor": 4
}
