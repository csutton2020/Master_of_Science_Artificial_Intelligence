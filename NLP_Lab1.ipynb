{
 "cells": [
  {
   "cell_type": "markdown",
   "metadata": {},
   "source": [
    "## Chris Sutton\n",
    "##\n",
    "## Lab#1"
   ]
  },
  {
   "cell_type": "code",
   "execution_count": 1,
   "metadata": {},
   "outputs": [],
   "source": [
    "import re\n",
    "import collections"
   ]
  },
  {
   "cell_type": "markdown",
   "metadata": {},
   "source": [
    "## (a) Tokenization."
   ]
  },
  {
   "cell_type": "markdown",
   "metadata": {},
   "source": [
    "### 2 points: Describe your processing."
   ]
  },
  {
   "cell_type": "raw",
   "metadata": {},
   "source": [
    "In the code below, Python re.findall is used to match all instances of:\n",
    "symbols not whitespace [^ ]\\W\n",
    "decimal numbers [0-9]+\\.[0-9]+\n",
    "whole words w+"
   ]
  },
  {
   "cell_type": "code",
   "execution_count": 2,
   "metadata": {},
   "outputs": [],
   "source": [
    "txt = '''NAC has developed a National HIV/AIDS/STI/TB Intervention Strategic Plan (2002-2005) that \n",
    "aims to reduce the HIV prevalence rate among Zambians from 19.3% to 11.7% and improve the health\n",
    "status of people living with HIV/AIDS by 2005.'''\n",
    "result = re.findall(r\"[^ ]\\W|[0-9]+\\.[0-9]+|\\w+\" , txt)"
   ]
  },
  {
   "cell_type": "markdown",
   "metadata": {},
   "source": [
    "### 2 points: Describe any common sources of error or undesirable results in your initial approach; explain how you addressed them – if you did; and indicate what undesirable results might remain."
   ]
  },
  {
   "cell_type": "raw",
   "metadata": {},
   "source": [
    "I had problems capturing the decimal numbers from the test sentence so I corrected by specifying an large decimal with < |[0-9]+\\.[0-9]+|>. Next I had to capture symbols but not whitespace so I added <[^ ]\\W|> to the regular expression to find the items. "
   ]
  },
  {
   "cell_type": "markdown",
   "metadata": {},
   "source": [
    "### 1 point: Show the results of processing the first ten lines of the tokens.txt input file."
   ]
  },
  {
   "cell_type": "code",
   "execution_count": 3,
   "metadata": {},
   "outputs": [
    {
     "data": {
      "text/plain": [
       "['Russian',\n",
       " 'for',\n",
       " 'plastic',\n",
       " 'bag',\n",
       " 'is',\n",
       " 'полиэтиленовый',\n",
       " 'пакет',\n",
       " '. ',\n",
       " '7.',\n",
       " '3 ',\n",
       " 'out',\n",
       " 'of',\n",
       " '10',\n",
       " 'statistics',\n",
       " 'is',\n",
       " 'made',\n",
       " 'up',\n",
       " '. ',\n",
       " 'I ',\n",
       " 'do',\n",
       " 'not',\n",
       " 'like',\n",
       " 'green',\n",
       " 'eggs',\n",
       " 'and',\n",
       " 'ham',\n",
       " 'I ',\n",
       " 'do',\n",
       " 'not',\n",
       " 'like',\n",
       " 'them',\n",
       " 'Sam',\n",
       " 'I-',\n",
       " 'Am',\n",
       " '. ',\n",
       " 'Dr',\n",
       " '. ',\n",
       " 'Mulholland',\n",
       " 'lives',\n",
       " 'on',\n",
       " 'Mulholland',\n",
       " 'Dr',\n",
       " '. ',\n",
       " 'in',\n",
       " 'Hollywood',\n",
       " '. ',\n",
       " '1,',\n",
       " '2,',\n",
       " '3.',\n",
       " '..',\n",
       " 'slashdot',\n",
       " 'com',\n",
       " 'has',\n",
       " 'some',\n",
       " 'interesting',\n",
       " 'articles',\n",
       " '. ',\n",
       " \"I'\",\n",
       " 'm ',\n",
       " 'going',\n",
       " 'to',\n",
       " 'update',\n",
       " 'my',\n",
       " 'resumé',\n",
       " '. ',\n",
       " 'J.',\n",
       " 'H.',\n",
       " 'U.',\n",
       " 'has',\n",
       " 'a ',\n",
       " 'great',\n",
       " 'la',\n",
       " 'crosse',\n",
       " 'team',\n",
       " '. ',\n",
       " 'Born',\n",
       " 'in',\n",
       " 'the',\n",
       " 'U.',\n",
       " 'S.',\n",
       " 'of',\n",
       " 'A.',\n",
       " 'Incorrect',\n",
       " 'plurala',\n",
       " 'can',\n",
       " 'be',\n",
       " 'fun',\n",
       " '. ',\n",
       " 'is',\n",
       " 'capitalization',\n",
       " 'sp',\n",
       " '?)',\n",
       " 'truly',\n",
       " 'necessary',\n",
       " '? ',\n",
       " 'i ',\n",
       " 'think',\n",
       " 'lower',\n",
       " 'case',\n",
       " 'is',\n",
       " 'more',\n",
       " 'legible',\n",
       " '. ',\n",
       " 'WHEN',\n",
       " 'PEOPLE',\n",
       " 'WRITE',\n",
       " 'IN',\n",
       " 'ALL',\n",
       " 'CAPS',\n",
       " ', ',\n",
       " 'IT',\n",
       " 'FEELS',\n",
       " 'LIKE',\n",
       " 'THEY',\n",
       " 'RE',\n",
       " 'YELLING',\n",
       " '! ',\n",
       " 'It',\n",
       " 'is',\n",
       " 'precisely',\n",
       " 'to',\n",
       " 'these',\n",
       " 'substances',\n",
       " 'that',\n",
       " 'the',\n",
       " 'so',\n",
       " 'called',\n",
       " 'French',\n",
       " 'Paradox',\n",
       " 'is',\n",
       " 'ascribed',\n",
       " ': ',\n",
       " 'although',\n",
       " 'the',\n",
       " 'French',\n",
       " 'certainly',\n",
       " 'aren',\n",
       " 't ',\n",
       " 'stingy',\n",
       " 'with',\n",
       " 'food',\n",
       " 'and',\n",
       " 'don',\n",
       " 't ',\n",
       " 'exercise',\n",
       " 'much',\n",
       " ', ',\n",
       " 'they',\n",
       " 'suffer',\n",
       " 'from',\n",
       " 'far',\n",
       " 'fewer',\n",
       " 'heart',\n",
       " 'attacks',\n",
       " 'than',\n",
       " 'do',\n",
       " 'people',\n",
       " 'in',\n",
       " 'other',\n",
       " 'countries',\n",
       " '. ',\n",
       " 'We',\n",
       " 've',\n",
       " 'made',\n",
       " 'some',\n",
       " 'real',\n",
       " 'serious',\n",
       " 'changes',\n",
       " 'in',\n",
       " 'the',\n",
       " 'last',\n",
       " 'couple',\n",
       " 'of',\n",
       " 'years',\n",
       " ', ',\n",
       " 'and',\n",
       " 'we',\n",
       " 've',\n",
       " 'made',\n",
       " 'a ',\n",
       " 'lot',\n",
       " 'of',\n",
       " 'cuts',\n",
       " 'in',\n",
       " 'some',\n",
       " 'areas',\n",
       " '.\\n',\n",
       " 'The',\n",
       " 'feds',\n",
       " 'also',\n",
       " 'charged',\n",
       " 'Diiorio',\n",
       " 'with',\n",
       " 'using',\n",
       " 'the',\n",
       " 'fake',\n",
       " 'badge',\n",
       " 'at',\n",
       " 'a ',\n",
       " 'hotel',\n",
       " 'in',\n",
       " 'June',\n",
       " '. ',\n",
       " 'This',\n",
       " 'is',\n",
       " 'the',\n",
       " 'first',\n",
       " 'song',\n",
       " 'I’',\n",
       " 've',\n",
       " 'ever',\n",
       " 'written',\n",
       " 'with',\n",
       " 'lyrics',\n",
       " ', ',\n",
       " 'and',\n",
       " 'it',\n",
       " 's ',\n",
       " 'an',\n",
       " 'anthem',\n",
       " 'for',\n",
       " 'myself',\n",
       " 'or',\n",
       " 'a ',\n",
       " 'reminder',\n",
       " 'to',\n",
       " 'look',\n",
       " 'inward',\n",
       " '. ',\n",
       " 'Asia',\n",
       " 'will',\n",
       " 'continue',\n",
       " 'to',\n",
       " 'lead',\n",
       " 'global',\n",
       " 'IPO',\n",
       " 'activity',\n",
       " 'as',\n",
       " 'domestic']"
      ]
     },
     "execution_count": 3,
     "metadata": {},
     "output_type": "execute_result"
    }
   ],
   "source": [
    "f = open('C:/Users/physi/Desktop/NaturalLanguageProcessing/tokens.txt','r',encoding='utf-8')\n",
    "firstTen = ''\n",
    "for x in range(9):\n",
    "    firstTen +=f.readline()\n",
    "f.close()\n",
    "re.findall(r\"[^ ]\\W|[0-9]+\\.[0-9]+|\\w+\" , firstTen)"
   ]
  },
  {
   "cell_type": "markdown",
   "metadata": {},
   "source": [
    "### (b) Corpus statistics. After refining your tokenization method, use it to process the entire tokens.txt file and collect the following statistics based on the tokens that are observed. You can and should compute these statistics in one pass over the input file. It is easy to store counts (i.e., frequencies) for tokens in a dictionary or hashtable."
   ]
  },
  {
   "cell_type": "raw",
   "metadata": {},
   "source": [
    "1 point: Report the number of lines you processed. \n",
    "\n",
    "\n",
    "2 points: Report the number of unique tokens observed (vocabulary size), and the total number of tokens\n",
    "encountered (collection size). Unique tokens are sometimes called types. = \n",
    "\n",
    "4 points: Calculate the total number of times each unique token is seen (collection frequency of the type).\n",
    "Then sort the types by frequency and list the most frequent types at ranks 1 through 100 and at ranks 500,\n",
    "1,000, 5,000, and 10,000. DO NOT just provide a list of the top 10,000 most common tokens.\n",
    "\n",
    "3 points: Calculate and report the number of tokens that occur exactly one time and the percentage of the\n",
    "vocabulary that such words constitute. Such words are known as hapex legomena. We do not want to see the\n",
    "words themselves. Your answer here should be just a single count and its percentage (e.g., \"5,000 words or\n",
    "10.36% of vocabulary\")."
   ]
  },
  {
   "cell_type": "code",
   "execution_count": 20,
   "metadata": {},
   "outputs": [
    {
     "name": "stdout",
     "output_type": "stream",
     "text": [
      "# number of lines processed : 944802\n",
      "number of types : 330762\n",
      "total number of tokens :  22796250\n",
      "[('the', 1008111), ('. ', 870324), (', ', 851855), ('to', 560758), ('and', 522417), ('of', 486728), ('a ', 422347), ('in', 366458), ('for', 203989), ('is', 200229), ('that', 191592), ('s ', 172529), ('on', 159334), ('The', 147631), ('with', 143361), ('was', 130433), ('at', 121567), ('it', 113441), ('be', 107382), ('as', 102845), ('are', 100582), ('I ', 98620), ('said', 94317), ('have', 90375), ('from', 87397), ('by', 83187), ('will', 79767), ('he', 73766), ('has', 73548), ('this', 69958), ('you', 69159), ('not', 67378), ('an', 65246), ('his', 63637), ('.\\n', 60150), ('they', 59657), (',\\n', 59647), (': ', 59182), ('their', 58507), ('we', 57668), ('or', 55616), ('but', 51184), ('who', 50807), ('t ', 48355), ('more', 46587), ('all', 44756), ('about', 44711), ('one', 44491), ('were', 44369), ('can', 43824), ('had', 42813), ('It', 42610), ('been', 42049), ('up', 42017), (',”', 41281), ('out', 39917), ('her', 37733), ('year', 37632), ('would', 37622), ('also', 37458), ('our', 36075), ('.”', 35977), ('people', 35688), ('which', 35070), ('We', 34185), ('time', 33736), ('she', 31988), ('there', 31440), ('He', 31055), ('when', 30492), ('two', 30003), ('its', 29222), ('what', 28721), ('your', 28582), ('so', 28169), ('than', 27865), ('years', 27718), ('first', 27340), ('In', 27200), ('them', 27131), ('like', 26920), ('just', 26749), ('other', 26603), ('into', 26499), ('do', 26452), ('new', 26262), ('over', 25639), ('my', 25092), ('some', 25011), (') ', 24908), ('? ', 24873), ('after', 24616), ('A ', 23658), ('This', 22901), ('if', 22804), ('get', 22719), (',\"', 22547), ('no', 22233), ('only', 21194), ('.\"', 20559)]\n",
      "Rank 500:  ('death', 4663)\n",
      "Rank 1000:  ('resident', 2474)\n",
      "Rank 5000:  ('abandoned', 414)\n",
      "Rank 10000:  ('outright', 155)\n",
      "# of types appearing once :  174854  or  52.86399284077373  percent\n"
     ]
    }
   ],
   "source": [
    "#input file and read\n",
    "file = open('C:/Users/physi/Desktop/NaturalLanguageProcessing/tokens.txt','rt',encoding='utf-8')\n",
    "stringText=file.read()\n",
    "\n",
    "#perform regex of tokens\n",
    "resultOfRegEx =re.findall(r\"[^ ]\\W|[0-9]+\\.[0-9]+|\\w+\" , stringText)\n",
    "\n",
    "#find number of lines via regex of \\n\n",
    "print(\"# number of lines processed :\",len(re.findall(r\"\\n\" , stringText)))\n",
    "\n",
    "#count types\n",
    "uniqueItems= collections.Counter(resultOfRegEx).most_common()\n",
    "print(\"number of types :\",len(uniqueItems))\n",
    "#sum total number of tokens\n",
    "countTotal=0\n",
    "for x in range(len(uniqueItems)):\n",
    "    countTotal+=uniqueItems[x][1]\n",
    "print(\"total number of tokens : \", countTotal)\n",
    "#print rankings\n",
    "print(uniqueItems[0:100])\n",
    "print(\"Rank 500: \",uniqueItems[500])\n",
    "print(\"Rank 1000: \",uniqueItems[1000])\n",
    "print(\"Rank 5000: \",uniqueItems[5000])\n",
    "print(\"Rank 10000: \",uniqueItems[10000])\n",
    "\n",
    "#find the number of items appearing once\n",
    "coun=0\n",
    "for x in range(len(uniqueItems)):\n",
    "    if uniqueItems[x][1] ==1:\n",
    "        coun+=1\n",
    "print('# of types appearing once : ',coun, \" or \", coun/len(uniqueItems)*100, \" percent\")"
   ]
  },
  {
   "cell_type": "markdown",
   "metadata": {},
   "source": [
    "### (c) Zipf’s Law. Zipf’s law predicts that the number of times the ith most frequent word will be seen is about k/i times the frequency of the most common word, for some k. Put another way, Zipf’s law states that the product of a term’s frequency and its rank is roughly constant. Create a graphical plot of frequency (vertical) vs. rank (horizontal) for the vocabulary terms, and determine whether Zipf's law holds for this dataset. You can create a plot programmatically (e.g., using Python's matplotlib) or using a separate tool (e.g., MS Excel or Google Sheets). Please produce a log-log plot (i.e., both axes should use a logarithmic scale)."
   ]
  },
  {
   "cell_type": "raw",
   "metadata": {},
   "source": [
    "3 points: Create a plot that illustrates the relationship between frequency and rank.\n",
    "\n",
    "1 point: Explain whether the plotted data follows Zipf's law, and how you reach that determination"
   ]
  },
  {
   "cell_type": "code",
   "execution_count": 21,
   "metadata": {},
   "outputs": [
    {
     "name": "stdout",
     "output_type": "stream",
     "text": [
      "[[0, 1008111], [1, 870324], [2, 851855], [3, 560758], [4, 522417], [5, 486728], [6, 422347], [7, 366458], [8, 203989], [9, 200229]]\n"
     ]
    }
   ],
   "source": [
    "#build list to export to excel of rank/frequency \n",
    "import csv\n",
    "outputlist =[]\n",
    "for x in range(len(uniqueItems)):\n",
    "    outputlist.append([x,uniqueItems[x][1]])\n",
    "print(outputlist[0:10])\n",
    "\n",
    "f = open('testcsvZipf.csv', 'w')\n",
    "\n",
    "# using csv.writer method from CSV package\n",
    "write = csv.writer(f)\n",
    "write.writerows(outputlist)"
   ]
  },
  {
   "attachments": {
    "Screenshot%202022-09-06%20231421.jpg": {
     "image/jpeg": "[encoded data removed]"
    }
   },
   "cell_type": "markdown",
   "metadata": {},
   "source": [
    "![Screenshot%202022-09-06%20231421.jpg](attachment:Screenshot%202022-09-06%20231421.jpg)"
   ]
  },
  {
   "cell_type": "raw",
   "metadata": {},
   "source": [
    "Zipf’s law predicts that the product of the frequency times the rank is nearly constant. given the linear plot of frequency vs rank in the log/log window shows for this dataset this is true"
   ]
  }
 ],
 "metadata": {
  "kernelspec": {
   "display_name": "Python 3 (ipykernel)",
   "language": "python",
   "name": "python3"
  },
  "language_info": {
   "codemirror_mode": {
    "name": "ipython",
    "version": 3
   },
   "file_extension": ".py",
   "mimetype": "text/x-python",
   "name": "python",
   "nbconvert_exporter": "python",
   "pygments_lexer": "ipython3",
   "version": "3.11.7"
  }
 },
 "nbformat": 4,
 "nbformat_minor": 4
}
