{
 "cells": [
  {
   "cell_type": "markdown",
   "metadata": {
    "id": "o5szuIBYTkOs"
   },
   "source": [
    "####Chris Sutton\n",
    "####Lab 8\n",
    "\n"
   ]
  },
  {
   "cell_type": "code",
   "execution_count": 1,
   "metadata": {
    "colab": {
     "base_uri": "https://localhost:8080/",
     "height": 0
    },
    "executionInfo": {
     "elapsed": 19979,
     "status": "ok",
     "timestamp": 1668473430050,
     "user": {
      "displayName": "Chris S",
      "userId": "08468368996988622896"
     },
     "user_tz": 300
    },
    "id": "ZiiXTix-TyHf",
    "outputId": "b8c381a3-2330-40c9-d9c2-4d2a5d64d326"
   },
   "outputs": [
    {
     "name": "stdout",
     "output_type": "stream",
     "text": [
      "Mounted at /content/drive\n"
     ]
    }
   ],
   "source": [
    "from google.colab import drive\n",
    "drive.mount('/content/drive')\n",
    "import re"
   ]
  },
  {
   "cell_type": "code",
   "execution_count": 2,
   "metadata": {
    "colab": {
     "base_uri": "https://localhost:8080/",
     "height": 0
    },
    "executionInfo": {
     "elapsed": 811,
     "status": "ok",
     "timestamp": 1668473430858,
     "user": {
      "displayName": "Chris S",
      "userId": "08468368996988622896"
     },
     "user_tz": 300
    },
    "id": "eJvhNE3thwBi",
    "outputId": "0a0dfcbf-5853-4888-b3f2-c7fe623a3231"
   },
   "outputs": [
    {
     "name": "stdout",
     "output_type": "stream",
     "text": [
      "/content/drive/My Drive/NaturalLangaugeProcessing/lab08\n",
      "obits.test.txt\tobits.train.txt\n"
     ]
    }
   ],
   "source": [
    "labdir = '/content/drive/My Drive/NaturalLangaugeProcessing/lab08'\n",
    "%cd \"$labdir\"\n",
    "!ls"
   ]
  },
  {
   "cell_type": "code",
   "execution_count": 3,
   "metadata": {
    "executionInfo": {
     "elapsed": 189,
     "status": "ok",
     "timestamp": 1668473431045,
     "user": {
      "displayName": "Chris S",
      "userId": "08468368996988622896"
     },
     "user_tz": 300
    },
    "id": "WwKHNUGzibQF"
   },
   "outputs": [],
   "source": [
    "data= open('obits.test.txt',encoding='utf-8').read()"
   ]
  },
  {
   "cell_type": "code",
   "execution_count": 4,
   "metadata": {
    "executionInfo": {
     "elapsed": 13,
     "status": "ok",
     "timestamp": 1668473431045,
     "user": {
      "displayName": "Chris S",
      "userId": "08468368996988622896"
     },
     "user_tz": 300
    },
    "id": "oCPaqgJ9G0a_"
   },
   "outputs": [],
   "source": [
    "# (.*), .*(\\d{3}|\\d{2})(,|) of (\\w+)\n",
    "# (.*), .*(\\d{3}|\\d{2})(,|) of (\\w+).* (he |his |she |her )\n",
    "# (.*),( | age )(\\d{3}|\\d{2})(,|) of (\\w+).* (he |she |her | his)\n",
    "# re.sub(pattern, repl, string, count=0, flags=0)¶\n",
    "# re.findall(r\"(\\w+) is made of (\\w+)\",data2, re.MULTILINE) \n",
    "# (.*),( | age )(\\d{3}|\\d{2})(,|) of (\\w+).* (he |she |her | his)\n",
    "# (.*),( | age )(\\d{3}|\\d{2})(,|) (of|formerly) (\\w+).* (he |she |her | his).* (husband|wife)(,|) (\\w+)\n",
    "# .* ((husband|wife)(,|)|married) (\\w+)\n",
    "# .* (?:survived by (?:his|her)|Survivors include (?:his|her)) (\\w+)\n",
    "# survived by his son <PER> (.*) <ORG>"
   ]
  },
  {
   "cell_type": "code",
   "execution_count": 5,
   "metadata": {
    "executionInfo": {
     "elapsed": 12,
     "status": "ok",
     "timestamp": 1668473431045,
     "user": {
      "displayName": "Chris S",
      "userId": "08468368996988622896"
     },
     "user_tz": 300
    },
    "id": "KPDeIMsfjtJ2"
   },
   "outputs": [],
   "source": [
    "# print(data)"
   ]
  },
  {
   "cell_type": "code",
   "execution_count": 6,
   "metadata": {
    "executionInfo": {
     "elapsed": 13,
     "status": "ok",
     "timestamp": 1668473431046,
     "user": {
      "displayName": "Chris S",
      "userId": "08468368996988622896"
     },
     "user_tz": 300
    },
    "id": "VJcONzk-gdzw"
   },
   "outputs": [],
   "source": [
    "d= re.sub(r\"(\\.\\n|\\. \\n|\\!\\n)\",\". \", data)"
   ]
  },
  {
   "cell_type": "code",
   "execution_count": 7,
   "metadata": {
    "colab": {
     "base_uri": "https://localhost:8080/",
     "height": 0
    },
    "executionInfo": {
     "elapsed": 13,
     "status": "ok",
     "timestamp": 1668473431046,
     "user": {
      "displayName": "Chris S",
      "userId": "08468368996988622896"
     },
     "user_tz": 300
    },
    "id": "dQDwvQ6ohDG5",
    "outputId": "e3f89ebd-fb7b-4543-d906-8b5fe350a2e2"
   },
   "outputs": [
    {
     "name": "stdout",
     "output_type": "stream",
     "text": [
      "<P ID=100>\n",
      "Bernard Pugh, 90, of Centerville, passed away on April 21, 2019 at his residence. Bernard was born on December 22, 1928 in Fox River Township, Davis County to Earl and Beryl (John) Pugh. He attended country school near his home and then Bloomfield High School, graduating in 1947. In 1950 he fell in love at first sight and 4 months later was united in marriage to Jewell Richmond in Unionville, Iowa. They lived on his parents’ farm until 1952, when he was drafted into the United States Army, serving in the Signal Corps. Upon discharge, Bernard took advantage of the GI Bill to attend Centerville Community College and then headed to Kirksville, Missouri for teacher’s college. Later he would go on to obtain a Masters in Education from Iowa State University. Bernard worked as a high school teacher several years and ten years as a guidance counselor at Moravia and Moulton-Udell schools. From about 1980-1990 he served as school superintendent in Watertown South Dakota. Following retirement from education, Bernard worked as a financial advisor as well as a cattle farmer. Bernard enjoyed: sports (especially baseball and football) learning new things, gardening (and canning), growing wonderful rose bushes, playing cards, spending time with his family and hunting. He attended First Baptist Church and was a former president of the Lions’ Club, where he would often bring one of his homemade angel food cakes to share. Bernard is survived by his daughter, Cheryl “Cheri” Pugh; nieces: Janice Barnett, Renee Nevitt and Rhea Richmond; nephews: Jim Barnett and Bob (Lauren) Waffle and his “grandson”, Matthew Waffle. He was preceded in death by his parents; wife, Jewell and sisters: Lorraine Stevenson, LaVelle Hodges and Hazel Barnett. Funeral services will be held at 10:00 a.m. on Friday, April 26, 2019 at Thomas Funeral Home in Centerville with Rev. Dennis Higgins officiating. Interment will immediately follow at West Grove Cemetery. Visitation will take place one hour prior to the service from 9-10:00 a.m. </P>\n",
      "\n",
      "<P ID=101>\n",
      "Sherri Oden, 62, of Cincinnati, passed away on April 11, 2019 at Mercy Medical Center in Des Moines. Sherri was born on July 31, 1956 in Unionville, Missouri to Richard and Margaret (Logston) McClure. Sherri married Paul Oden and to this union, two children were born. The couple later divorced. Following graduation from Centerville High School in 1974, Sherri attended Indian Hills Community College where she studied health and nutrition. She worked as a dietary supervisor for several years. Sherri enjoyed: flowers, gardening, talking on the phone, garage sale shopping with her mom and daughter, watching her son, Cory participate in demolition derbies, going to the casino and spending time with her family; especially her grandchildren. Sherri is survived by her son, Cory (Sara) Oden; daughter, Chelsea Oden; brothers: Rich (Mary), Rick (Ogie) and Russ (Lisa) McClure; sister, Sandra (Larry) Robinson; grandchildren: Cainen Oden and Maggie Edwards and numerous extended family members. She was preceded in death by her parents; nephew, Jared Robinson and significant other, Gary Hogg. Funeral services will be held at 2:00 p.m. on Sunday, April 14, 2019 at Thomas Funeral Home in Centerville. Interment will immediately follow at Pleasant Hill Cemetery in Cincinnati. Visitation will be held two hours prior to the funeral from 12:00-2:00 p.m. </P>\n",
      "\n",
      "<P ID=102>\n",
      "Dennis Strickler, 62 of Moravia passed away Friday, April 5, 2019 at Mercy Medical Center in Des Moines. Dennis was born on February 28, 1957 in Centerville to E.J. “Hank” & Florence (Davis) Strickler. On July 21st, 1984, Dennis was united in marriage to Vicky Lockman at Moravia Grace United Methodist Church in Moravia, Iowa. To this union came four children: Billy, Clarissa, Marci and Jake. Dennis was employed as an electrician with a contractor at Cargill in Eddyville, Iowa. Throughout his life he worked for various companies providing electrical and carpentry work. Dennis enjoyed spending time with his family, especially his children and grandchildren. He loved cooking breakfast, and grilling for his family. He also enjoyed gardening and landscaping. Dennis was an outdoorsman who was considered an avid hunter and fisherman. Survivors include his wife Vicky of Moravia, children: Billy Strickler (Brandi) of Albia, Clarissa Cabossart (Rusty) of Ankeny, Marci Kraber (John) of Blakesburg, Jake Strickler (Katelyn) of Ottumwa, grandchildren: Jaxon & Eva Strickler, Riley & Autumn Cabossart, Anna Marie & Grady Kraber, Kiley, Cohen & soon to be Demi Strickler, siblings: Jim Strickler (Theresa) of Centerville, Pat Alston of Newton, Gary Strickler of Centerville, Joyce Baker of Centerville and numerous extended family. He was preceded in death by his parents and a brother, Ron Strickler. Funeral service will be 1:00 pm, Wednesday, April 10, 2019 at Moravia Grace United Methodist Church with Rev. Christy Ehrle officiating. Internment will immediately follow at Iconium Cemetery. Visitation will be Tuesday at Thomas Funeral Home in Centerville with the family present from 5-8 pm. </P>\n",
      "\n",
      "<P ID=103>\n",
      "Candita Marie Furlin, age 42 of Des Moines and formerly of Seymour passed away on March 26, 2019 surrounded by her loved ones at Iowa Methodist Hospital. Candita was born on August 3, 1976 to Dennis and Cynthia Furlin in Centerville, Iowa. She attended school at Seymour and graduated from Seymour High School with the class of 1994. Growing up Candita loved playing sports and was very good at them. She had many friends, and she enjoyed spending time with her nieces and her nephew. Her passion was for her dogs, especially Socks. She loved listening to music and her favorites were Garth Brooks and Bob Marley. Candita was a supporter and an active participant of the annual Epilepsy Walk. Candita’s Crusaders include her parents Dennis and Cindy Furlin, fiancé Matt Horak, sister, Brandita Taylor (Jeremy), brother, Chris Furlin (Shonda), nieces Olivia and Zoe, nephew Hunter, grandparents Les and Marilyn Krieger and Bill Frampton and Lucille Medearis and numerous aunts, uncles, cousins and many friends. She was preceded in death by her grandfather John Furlin. Funeral service will be Saturday March 30, 2019 at 10:30 a.m. at Thomas Funeral Home in Seymour with Pastor Dennis Higgins officiating. Visitation will be from 2-7 p.m. Friday March 29, 2019 with family present from 5-7 p.m. at Thomas Funeral Home in Seymour. eInterment will be at Southlawn Cemetery. </P>\n",
      "\n",
      "<P ID=104>\n",
      "Virginia Elizabeth Koestner, 97 of Centerville passed away Wednesday, March 13, 2019 at her home she shared with her daughter. Virginia was born in Moravia to Grant & Bess (Veach) Everman on November 2, 1921. She received her education from Centerville Schools, graduating in 1939, one year after Centerville High School burnt to the ground. She was active in band and orchestra. On November 9, 1941, Virginia was united in marriage to John Koestner in Centerville at First Lutheran Church less than a month before WWII was declared. Their marriage survived 62 years through thick and thin. As Pops always bragged he knew how to pick a good one and he certainly did. He preceded her in death on July 18, 2004. Both did what the “Greatest Generation” did during the war years. Cindy was a byproduct before he shipped off overseas to save the world from his cousins in Germany and son Kris who was part of the “Baby Boomers” after the war. Mama was a lifelong Republican until Trump came along which made for many lively discussions; her son thought that it was important to keep her blood pressure up. Virginia worked her entire life within the family businesses, not always by choice from her and John’s venture at the Blue Bird Café starting in 1958 through 1968 on the Centerville square where all members of the family started a tradition of working together and being involved. Then later with John and son Kris they opened the J&K Market, with her grandson Chad joining later, making it a 3 generation business that lasted 48 years on the Square. During this same time period the family created a niche market with the J&K Barn that lasted 30 years where hundreds of banquets, weddings and dances were held. This is where grandson Mike learned knife, fork and spoon. There was no dishwasher except for Mama and good friend Pat Cisler, who washed thousands of dishes. Mama would also assist in working with her son and grandson at J&K; becoming famous for her homemade pies. In the early days of the Good Ship J&K, Virginia loved making brownies for the party cruises. Virginia enjoyed bird watching; daily readings of her bible, newspapers and church bulletins. She was always happy clipping articles from papers and bulletins to make scrap books for her family. In her later years, Virginia and John spent countless evenings on their front deck at the J&K cabin overlooking the pond watching the birds, wildlife, sunsets and stars. A few years after John’s passing, Virginia moved in to town to be with her daughter Cindy; this brought out the good and bad with any Mama and daughter close relationship. It was a win-win situation for Mama. Being a few steps away to the door of our church, First Lutheran. She enjoyed being close to the church and Pastor Kathy Franzenburg, which made it possible to remain active within First Lutheran and Karen King, who became almost like a daughter to her and her good friends Mike and Kay Toom. Virginia was a 78 year member of First Lutheran Church. Survivors include her children: Cindy Keene, Kris Koestner, grandchildren: Mike Keene, Tina Koestner, Chad Koestner (Courtney), TJ Carson-Koestner (JC), great grandchildren: Quinton, Alyssa, Zander, Maclin, Kinzie and Tegan. She was preceded in death by her parents, husband, “Honest John”, favorite son-in-law, Roscoe Keene, siblings: Patsy Everman, Bart Everman and Nancy Blazina (Ed). Funeral service will be 1:30 pm, Monday, March 18, 2019 at First Lutheran Church in Centerville with Rev. Jeremey McElvain officiating. Interment will follow in Oakland Cemetery next to her husband John. Visitation will be Sunday, March 17 at Thomas Funeral Home from 12-4 pm with the family present from 1-4 pm. </P>\n",
      "\n",
      "<P ID=105>\n",
      "Florence R. Schau, 91, formerly of South Wheeling, died Saturday, April 27, 2019 at Good Shepherd Nursing Home. She was born in Wheeling on December 6, 1927, daughter of the late John and Jennetta Lash Marshlenski. Florence was a member of Trinity Lutheran Church and was part owner of the Double J Club in South Wheeling. She was also a homemaker. In addition to her parents, she was preceded in death by her husband, Tony Schau; sons, Jack Lucas and Michael Alley; sisters, Louella Edge and Jeanette Acres. Surviving is her daughter, Trudy Lynn (Steve) Habursky; son, Keith Calmbacher (fiancee, Madeline Gosney); 3 grandchildren, Kari Lynn (Nathan) Nyland, Devin Keith (Stacey) Calmbacher and Conner Michael Calmbacher; a great-granddaughter, Reese Lynn Nyland; several nieces and nephews. The family would like to thank the staff at Good Shepherd Nursing Home, especially 3 south, and her special friend, Theresa. Friends will be received at Kepner Funeral Home, 3545 Jacob Street, Wheeling, WV 26003 (304-232-4060) on Tuesday, April 30, 2019 from 11 am until time of services at 2 pm with Pastor Sean Smith officiating. Interment to follow in Mt. Zion Cemetery, Wheeling. </P>\n",
      "\n",
      "<P ID=106>\n",
      "Linda Kay Yee, 68, of Wheeling, passed peacefully to the house of the Lord Tuesday, April 23, 2019, at home. She was born February 1, 1951 in Wheeling the daughter of the late Quong (Eddie) Shing Yee and Jen (Jean) Tong Yee. In addition to her parents, Linda was preceded in death by three brothers, James K. Yee, Walter Y. Yee and Gilbert J. Yee. Linda was energetic and very outgoing who knew no strangers. She loved her cats and enjoyed watching Days of Our Lives. Her family meant everything to her, especially her nieces, nephews and great nephews. Surviving are her brothers and sisters, Richard H. Yee of Seymour, Tenn; Phillip H. Yee , his wife, Norma of Rockledge, FL; Mary A. Poole, her husband, Donald of Middleport, OH; Patty L. Butler, her husband, Paul of Mt. Clare, WV; Edward P.Yee of Severn, Md; Alfred Q. Yee of Enon, Ohio and Daniel D. Yee of Santa Monica, CA; nieces and nephews, Erica L. Poole, David (Chelsea) E.Poole, Sean (Megan) Butler, Ryan (Megan) Butler, Jessica Yee, J.T. Yee, Ashley (Chris) Vela; great-nephews, Leo and Max Poole; and two special friends, Grace Lee & Jan. Friends will be received on Saturday, April 27, 2019 from 12 pm until time of service at 4 pm with Pastor P. David Forsythe officiating at Kepner Funeral Home, 900 National Road, Wheeling (304-232-2732). Interment in the Greenwood Cemetery, Wheeling. In lieu of flowers, donations may be made to the Gateway Apostolic Church, 464 Main St, Bridgeport, OH or to the Catholic Neighborhood Center, 125- 18th St., Wheeling, WV. 26003. </P>\n",
      "\n",
      "<P ID=107>\n",
      "Clyde William “Casey” Caseman, 90, of Wheeling, WV, passed away peacefully Wednesday, April 17, 2019 at his home. He was born February 4, 1929, in Brooke County, WV, son of the late William M. and Ilo Bonar Caseman. He was an Army Veteran who served during the Korean War and a member of West Liberty Christian Church. Clyde enjoyed spending time with family and friends. He loved genealogy and was the expert about family and local history. He spent as much time as possible each summer at Lake Seneca Resorts in Senecaville, Ohio, and was always up for a game of Euchre. In addition to his parents, he was preceded in death by his wife of 63 years, Alicia McCombs Caseman; grandson, Robert Caseman Miller; two sisters, Dorothy Wheeler and Eura Caseman; and brother, Carl Caseman. He is survived by his four daughters, Holly J. Caseman, Amy (Robert) Miller, Lou Ann (Rick) Ray and Kelly (Scott) Beatty; five grandchildren, Ashley (Brian) Dunn, Nick (Alyssa Duncan) Miller, Ethan (Katherine Dentz) Otte, Patrick Beatty and Kate Beatty; two great-grandchildren, Mason & Evie Lou; brother, Joseph W. Caseman; numerous nieces and nephews, and his beloved dog, Jiggs. The family wishes to extend special thanks to Clyde’s care givers at IC Care and Amedisys Hospice. Honoring Clyde’s wish, his family donated his body to science at WVU Human Gift Registry in Morgantown, WV. A memorial service will be held on Saturday, April 27th, 11:00 a.m. at West Liberty Christian Church, 742 Van Meter Way, West Liberty, WV. In lieu of flowers, donations can be made to West Liberty Christian Church or to Ohio County Animal Shelter. </P>\n",
      "\n",
      "<P ID=108>\n",
      "John Patrick “Pud” Moyle, 97, of Wheeling, WV passed away on Tuesday, April 2, 2019 and is reunited with his wife of 64 years, Mary Jane. He was born, September 8, 1921 in Wheeling, WV – a town that he loved and called home his entire life. Always ready to tell a story or make someone laugh, Pud was full of life and love during his time here on earth. A member of Corpus Christi Parish for 68 years, he was a devout Catholic and prayed the novena daily. A wealth of knowledge, Pud loved his jobs as a tour guide at the Capitol Music Hall and also summers working the Jamboree In The Hills information booth. He was proud to be Irish and loved being Santa to his grandchildren. He was an avid golfer and played cards with the Knight of the Columbus of which he was a member for 50 years. He was the proud owner of a brand new car that he bought when he turned 95 and passed his driver’s test. He was strong, determined, and independent. He loved penny candy and anything sweet, but most of all, he loved his family. He was preceded in death by his wife, Mary Jane (Corcoran) Moyle and his son, Michael Moyle. He is survived by his son John Patrick (Judy) Moyle Jr. of Dunnellon, FL; his daughter Kathleen (Anthony) Cupp of Wheeling, WV; daughter-in-law, Lynne (Boury) Moyle; 11 grandchildren; and 21 great-grandchildren. Mass of Christian Burial will be held on Friday, April 5, 2019 at 11 am at Corpus Christi Catholic Church with Father Paul M., C.S.T. and Msgr. Eugene S. Ostrowski as concelebrants. Interment to be held at Mt. Calvary Cemetery, Wheeling. In lieu of flowers, donations can be made to Corpus Christi School. </P>\n",
      "\n",
      "<P ID=109>\n",
      "Haines, William \"Spencer\", 103 of Weirton, WV formerly of Bethlehem, WV died on Saturday, March 23, 2019 in the Weirton Medical Center, Weirton, WV. He was born February 9, 1916 in Wetzel County, WV the son of the late W. Donley Haines and Ora O. Cain Haines. Spence, as he was known to his family, was a high school graduate of the former Littleton High School in Littleton, and an Army Veteran of WWII having served in the Army Medical Department. He was a retired Insurance Agent with Berry, Bippus, Chison and Foose in Wheeling, and a member of Christ United Methodist Church, Wheeling where he was past member of the Administrative Board and past member of the Pastor Parish Relations Committee. He was a past member and past President of the Wheeling Kiwanis Club through District 90; a past board member of the Russell Nesbitt Services, Wheeling; a past member of the Wheeling B.P.O.E. Elks #28 and a member of the National Road Association. Reading and American History were his passions. He also loved to travel with his family and watching them grow up throughout the years. In addition to his parents, Spence was preceded in death by his loving wife, Ruth Kiger Haines who passed away in August of 2001, a son, William S. Haines, Jr in 2011 and a brother and sister in law, Woodrow and Lucille Haines. Surviving are his son, Marvin L. (Marsha) Haines of Houston, TX; two daughters, Peggy (Robert \"Butch\") Weaver of Follansbee and Susan L. Haines of Wheeling; his daughter-in-law, Janice Haines of Elkins, WV; his grandchildren, Patty (Mike) McGinnis, Kelly (Robert) Jusino all of Follansbee, Marvin Lee (Michelle) Haines of Hillsboro, VA, Martha E. Haines of San Diego, CA and Nathan Haines of Pittsburgh, PA; great grandson and granddaughter, Marcus and Mya Haines of Hillsboro, VA, and several grandchildren, great grandchildren, great great-grandchildren, nieces, nephews and their families. Friends will be received on Tuesday, March 26, 2019 from 11 a.m. until time of service at 2 p.m. at Christ United Methodist Church, 1232 National Rd, Wheeling with the Reverend Jake Steele officiating. Interment in Greenwood Cemetery, Wheeling where Moundsville Veteran Honor Guard will conduct military graveside services. Arrangements by Kepner Funeral Home, 166 Kruger St,, Wheeling, WV 26003 (304-242-2311). In lieu of flowers, memorial contributions may be made to the Russell Nesbitt Services, Fulton St, Wheeling, WV 26003. </P>\n",
      "\n"
     ]
    }
   ],
   "source": [
    "print(d)"
   ]
  },
  {
   "cell_type": "code",
   "execution_count": 8,
   "metadata": {
    "executionInfo": {
     "elapsed": 11,
     "status": "ok",
     "timestamp": 1668473431046,
     "user": {
      "displayName": "Chris S",
      "userId": "08468368996988622896"
     },
     "user_tz": 300
    },
    "id": "1MZ6CtxLkgGm"
   },
   "outputs": [],
   "source": [
    "result = re.findall(r\"(.*),(?: | age )(\\d{3}|\\d{2})(?:,|) (?:of|formerly of) (\\w+).* (he|she|her|his) \",d, re.MULTILINE) "
   ]
  },
  {
   "cell_type": "code",
   "execution_count": 9,
   "metadata": {
    "colab": {
     "base_uri": "https://localhost:8080/",
     "height": 0
    },
    "executionInfo": {
     "elapsed": 10,
     "status": "ok",
     "timestamp": 1668473431046,
     "user": {
      "displayName": "Chris S",
      "userId": "08468368996988622896"
     },
     "user_tz": 300
    },
    "id": "zk_K1A2hnpAL",
    "outputId": "4010c584-86d6-42fb-bf83-250b16aaefb3"
   },
   "outputs": [
    {
     "name": "stdout",
     "output_type": "stream",
     "text": [
      "[('Bernard Pugh', '90', 'Centerville', 'his'), ('Sherri Oden', '62', 'Cincinnati', 'her'), ('Dennis Strickler', '62', 'Moravia', 'his'), ('Candita Marie Furlin', '42', 'Des', 'her'), ('Virginia Elizabeth Koestner', '97', 'Centerville', 'her'), ('Florence R. Schau', '91', 'South', 'her'), ('Linda Kay Yee', '68', 'Wheeling', 'her'), ('Clyde William “Casey” Caseman', '90', 'Wheeling', 'his'), ('John Patrick “Pud” Moyle', '97', 'Wheeling', 'his'), ('Haines, William \"Spencer\"', '103', 'Weirton', 'his')]\n"
     ]
    }
   ],
   "source": [
    "print(result)"
   ]
  },
  {
   "cell_type": "code",
   "execution_count": 10,
   "metadata": {
    "executionInfo": {
     "elapsed": 5,
     "status": "ok",
     "timestamp": 1668473431047,
     "user": {
      "displayName": "Chris S",
      "userId": "08468368996988622896"
     },
     "user_tz": 300
    },
    "id": "pFgEiss1e4AO"
   },
   "outputs": [],
   "source": [
    "obsplit = d.split('</P>\\n')"
   ]
  },
  {
   "cell_type": "code",
   "execution_count": 11,
   "metadata": {
    "executionInfo": {
     "elapsed": 5,
     "status": "ok",
     "timestamp": 1668473431047,
     "user": {
      "displayName": "Chris S",
      "userId": "08468368996988622896"
     },
     "user_tz": 300
    },
    "id": "BVy5YcjyepBg"
   },
   "outputs": [],
   "source": [
    "# spouse =[re.findall(r\".* (?:(?:husband|wife)(?:,|)|married) (\\w+)\", rx) for rx in obsplit]\n",
    "spouse = list(map(lambda x : re.findall(r\".* (?:(?:husband|wife)(?:,|)|married) (\\w+)\", x), obsplit))[:-1]"
   ]
  },
  {
   "cell_type": "code",
   "execution_count": 12,
   "metadata": {
    "colab": {
     "base_uri": "https://localhost:8080/",
     "height": 0
    },
    "executionInfo": {
     "elapsed": 167,
     "status": "ok",
     "timestamp": 1668473431209,
     "user": {
      "displayName": "Chris S",
      "userId": "08468368996988622896"
     },
     "user_tz": 300
    },
    "id": "S3XINhax9uWD",
    "outputId": "e4008ae3-4063-4c38-cf7b-7b8cb396268d"
   },
   "outputs": [
    {
     "name": "stdout",
     "output_type": "stream",
     "text": [
      "[['Jewell'], ['Paul'], ['Vicky'], [], ['John'], ['Tony'], ['Paul'], ['of'], ['Mary'], ['Ruth']]\n"
     ]
    }
   ],
   "source": [
    "print(spouse)"
   ]
  },
  {
   "cell_type": "code",
   "execution_count": 13,
   "metadata": {
    "executionInfo": {
     "elapsed": 10,
     "status": "ok",
     "timestamp": 1668473431210,
     "user": {
      "displayName": "Chris S",
      "userId": "08468368996988622896"
     },
     "user_tz": 300
    },
    "id": "HcQsuWaNA2qE"
   },
   "outputs": [],
   "source": [
    "final=[]\n",
    "for s,r in zip(spouse,result):\n",
    "  if len(s) ==0:\n",
    "    final.append((r[0],r[1],r[2],r[3],''))\n",
    "  else:\n",
    "    final.append((r[0],r[1],r[2],r[3],s[0]))"
   ]
  },
  {
   "cell_type": "code",
   "execution_count": 14,
   "metadata": {
    "colab": {
     "base_uri": "https://localhost:8080/",
     "height": 0
    },
    "executionInfo": {
     "elapsed": 10,
     "status": "ok",
     "timestamp": 1668473431210,
     "user": {
      "displayName": "Chris S",
      "userId": "08468368996988622896"
     },
     "user_tz": 300
    },
    "id": "1h2L6odVLMn1",
    "outputId": "fbca8897-06cf-474f-e994-62c752d923ec"
   },
   "outputs": [
    {
     "name": "stdout",
     "output_type": "stream",
     "text": [
      "[('Bernard Pugh', '90', 'Centerville', 'his', 'Jewell'), ('Sherri Oden', '62', 'Cincinnati', 'her', 'Paul'), ('Dennis Strickler', '62', 'Moravia', 'his', 'Vicky'), ('Candita Marie Furlin', '42', 'Des', 'her', ''), ('Virginia Elizabeth Koestner', '97', 'Centerville', 'her', 'John'), ('Florence R. Schau', '91', 'South', 'her', 'Tony'), ('Linda Kay Yee', '68', 'Wheeling', 'her', 'Paul'), ('Clyde William “Casey” Caseman', '90', 'Wheeling', 'his', 'of'), ('John Patrick “Pud” Moyle', '97', 'Wheeling', 'his', 'Mary'), ('Haines, William \"Spencer\"', '103', 'Weirton', 'his', 'Ruth')]\n"
     ]
    }
   ],
   "source": [
    "print(final)"
   ]
  },
  {
   "cell_type": "code",
   "execution_count": 15,
   "metadata": {
    "executionInfo": {
     "elapsed": 8,
     "status": "ok",
     "timestamp": 1668473431210,
     "user": {
      "displayName": "Chris S",
      "userId": "08468368996988622896"
     },
     "user_tz": 300
    },
    "id": "kz0LHeWQfUFT"
   },
   "outputs": [],
   "source": [
    "for i in range(len(final)):\n",
    "  if final[i][3] == 'his' or final[i][3] == 'he':\n",
    "    if len(final[i][4]) ==0:\n",
    "      final[i] = (final[i][0],final[i][1],final[i][2],'male',final[i][4])\n",
    "    else:\n",
    "      final[i] = (final[i][0],final[i][1],final[i][2],'male',final[i][4]+' '+final[i][0].split(' ')[-1])\n",
    "  else:\n",
    "    if len(final[i][4]) ==0:\n",
    "      final[i] = (final[i][0],final[i][1],final[i][2],'female',final[i][4])\n",
    "    else:\n",
    "      final[i] = (final[i][0],final[i][1],final[i][2],'female',final[i][4]+' '+final[i][0].split(' ')[-1])\n",
    "\n",
    "    "
   ]
  },
  {
   "cell_type": "markdown",
   "metadata": {
    "id": "sGHkuySIbwJC"
   },
   "source": [
    "#### (12 points) Your task is to extract these relations about the deceased:\n",
    "#### • name of deceased individual: usually the first noun in the first sentence, and may not be identified otherwise\n",
    "#### • sex of the deceased\n",
    "#### • age at death (in years)\n",
    "#### • location(s) where the deceased was a resident of (may be more than one)\n",
    "#### • spouse(s) of the deceased"
   ]
  },
  {
   "cell_type": "code",
   "execution_count": 16,
   "metadata": {
    "colab": {
     "base_uri": "https://localhost:8080/",
     "height": 0
    },
    "executionInfo": {
     "elapsed": 8,
     "status": "ok",
     "timestamp": 1668473431210,
     "user": {
      "displayName": "Chris S",
      "userId": "08468368996988622896"
     },
     "user_tz": 300
    },
    "id": "0APSdnglmmBB",
    "outputId": "557287f3-8d42-4caf-82c8-4372340c4bcf"
   },
   "outputs": [
    {
     "name": "stdout",
     "output_type": "stream",
     "text": [
      "[('Bernard Pugh', '90', 'Centerville', 'male', 'Jewell Pugh'), ('Sherri Oden', '62', 'Cincinnati', 'female', 'Paul Oden'), ('Dennis Strickler', '62', 'Moravia', 'male', 'Vicky Strickler'), ('Candita Marie Furlin', '42', 'Des', 'female', ''), ('Virginia Elizabeth Koestner', '97', 'Centerville', 'female', 'John Koestner'), ('Florence R. Schau', '91', 'South', 'female', 'Tony Schau'), ('Linda Kay Yee', '68', 'Wheeling', 'female', 'Paul Yee'), ('Clyde William “Casey” Caseman', '90', 'Wheeling', 'male', 'of Caseman'), ('John Patrick “Pud” Moyle', '97', 'Wheeling', 'male', 'Mary Moyle'), ('Haines, William \"Spencer\"', '103', 'Weirton', 'male', 'Ruth \"Spencer\"')]\n"
     ]
    }
   ],
   "source": [
    "print(final)"
   ]
  },
  {
   "cell_type": "markdown",
   "metadata": {
    "id": "UGiyIZhaqdpT"
   },
   "source": []
  },
  {
   "cell_type": "code",
   "execution_count": 17,
   "metadata": {
    "executionInfo": {
     "elapsed": 7,
     "status": "ok",
     "timestamp": 1668473431211,
     "user": {
      "displayName": "Chris S",
      "userId": "08468368996988622896"
     },
     "user_tz": 300
    },
    "id": "kSm92EoUtBgq"
   },
   "outputs": [],
   "source": [
    "ner= re.sub(r\", | \",\"\\n\", d)"
   ]
  },
  {
   "cell_type": "code",
   "execution_count": 18,
   "metadata": {
    "colab": {
     "base_uri": "https://localhost:8080/",
     "height": 0
    },
    "executionInfo": {
     "elapsed": 7,
     "status": "ok",
     "timestamp": 1668473431211,
     "user": {
      "displayName": "Chris S",
      "userId": "08468368996988622896"
     },
     "user_tz": 300
    },
    "id": "mTzJVic7tb8X",
    "outputId": "f63e848a-ccbc-429c-c09b-ea70385ed99d"
   },
   "outputs": [
    {
     "name": "stdout",
     "output_type": "stream",
     "text": [
      "/content/drive/My Drive/NaturalLangaugeProcessing/lab06\n",
      "checkpoint  data  LM-LSTM-CRF\n"
     ]
    }
   ],
   "source": [
    "# Change this path to point to your own directory:\n",
    "labdir = '/content/drive/My Drive/NaturalLangaugeProcessing/lab06'\n",
    "# !mkdir -p \"$labdir\"\n",
    "# !mkdir -p \"$labdir/data\"\n",
    "# !mkdir -p \"$labdir/checkpoint\"\n",
    "%cd \"$labdir\"\n",
    "!ls"
   ]
  },
  {
   "cell_type": "code",
   "execution_count": 19,
   "metadata": {
    "colab": {
     "base_uri": "https://localhost:8080/",
     "height": 0
    },
    "executionInfo": {
     "elapsed": 98957,
     "status": "ok",
     "timestamp": 1668473530164,
     "user": {
      "displayName": "Chris S",
      "userId": "08468368996988622896"
     },
     "user_tz": 300
    },
    "id": "g3F9IRIRvKCV",
    "outputId": "b2e97a97-49d9-48b8-de31-040ee0e4c077"
   },
   "outputs": [
    {
     "name": "stdout",
     "output_type": "stream",
     "text": [
      "Looking in indexes: https://pypi.org/simple, https://us-python.pkg.dev/colab-wheels/public/simple/\n",
      "Collecting torch==1.2.0\n",
      "  Downloading torch-1.2.0-cp37-cp37m-manylinux1_x86_64.whl (748.9 MB)\n",
      "\u001b[K     |████████████████████████████████| 748.9 MB 622 bytes/s \n",
      "\u001b[?25hCollecting torchvision==0.4.0\n",
      "  Downloading torchvision-0.4.0-cp37-cp37m-manylinux1_x86_64.whl (8.8 MB)\n",
      "\u001b[K     |████████████████████████████████| 8.8 MB 49.1 MB/s \n",
      "\u001b[?25hRequirement already satisfied: numpy in /usr/local/lib/python3.7/dist-packages (from torch==1.2.0) (1.21.6)\n",
      "Requirement already satisfied: six in /usr/local/lib/python3.7/dist-packages (from torchvision==0.4.0) (1.15.0)\n",
      "Requirement already satisfied: pillow>=4.1.1 in /usr/local/lib/python3.7/dist-packages (from torchvision==0.4.0) (7.1.2)\n",
      "Installing collected packages: torch, torchvision\n",
      "  Attempting uninstall: torch\n",
      "    Found existing installation: torch 1.12.1+cu113\n",
      "    Uninstalling torch-1.12.1+cu113:\n",
      "      Successfully uninstalled torch-1.12.1+cu113\n",
      "  Attempting uninstall: torchvision\n",
      "    Found existing installation: torchvision 0.13.1+cu113\n",
      "    Uninstalling torchvision-0.13.1+cu113:\n",
      "      Successfully uninstalled torchvision-0.13.1+cu113\n",
      "\u001b[31mERROR: pip's dependency resolver does not currently take into account all the packages that are installed. This behaviour is the source of the following dependency conflicts.\n",
      "torchtext 0.13.1 requires torch==1.12.1, but you have torch 1.2.0 which is incompatible.\n",
      "torchaudio 0.12.1+cu113 requires torch==1.12.1, but you have torch 1.2.0 which is incompatible.\n",
      "fastai 2.7.10 requires torch<1.14,>=1.7, but you have torch 1.2.0 which is incompatible.\n",
      "fastai 2.7.10 requires torchvision>=0.8.2, but you have torchvision 0.4.0 which is incompatible.\u001b[0m\n",
      "Successfully installed torch-1.2.0 torchvision-0.4.0\n"
     ]
    }
   ],
   "source": [
    "!pip install torch==1.2.0 torchvision==0.4.0"
   ]
  },
  {
   "cell_type": "code",
   "execution_count": 20,
   "metadata": {
    "colab": {
     "base_uri": "https://localhost:8080/",
     "height": 0
    },
    "executionInfo": {
     "elapsed": 12228,
     "status": "ok",
     "timestamp": 1668473542384,
     "user": {
      "displayName": "Chris S",
      "userId": "08468368996988622896"
     },
     "user_tz": 300
    },
    "id": "N0C42G1iwjXX",
    "outputId": "faa22746-e6b7-40c6-8f19-14f5ee3a7722"
   },
   "outputs": [
    {
     "name": "stdout",
     "output_type": "stream",
     "text": [
      "loading dictionary\n",
      "loading corpus\n",
      "loading model\n",
      "annotating\n"
     ]
    }
   ],
   "source": [
    "!cd LM-LSTM-CRF ;python3 -W ignore seq_wc.py --load_arg ../checkpoint/ner_cwlm_lstm_crf.json\\\n",
    " --load_check_point ../checkpoint/ner_cwlm_lstm_crf.model --gpu 0\\\n",
    "  --input_file ../data/testUpdatedNER.txt --output_file my-test-file-Suttonlab08.out"
   ]
  },
  {
   "cell_type": "code",
   "execution_count": 23,
   "metadata": {
    "executionInfo": {
     "elapsed": 126,
     "status": "ok",
     "timestamp": 1668473753045,
     "user": {
      "displayName": "Chris S",
      "userId": "08468368996988622896"
     },
     "user_tz": 300
    },
    "id": "wU8owzgMxvY-"
   },
   "outputs": [],
   "source": [
    "dataNER= open('LM-LSTM-CRF/my-test-file-Suttonlab08.out',encoding='utf-8').read()"
   ]
  },
  {
   "cell_type": "code",
   "execution_count": 24,
   "metadata": {
    "executionInfo": {
     "elapsed": 118,
     "status": "ok",
     "timestamp": 1668473807922,
     "user": {
      "displayName": "Chris S",
      "userId": "08468368996988622896"
     },
     "user_tz": 300
    },
    "id": "FhFPeMjGySGk"
   },
   "outputs": [],
   "source": [
    "D_NER =dataNER.split('</P>')\n"
   ]
  },
  {
   "cell_type": "code",
   "execution_count": 25,
   "metadata": {
    "colab": {
     "base_uri": "https://localhost:8080/",
     "height": 0
    },
    "executionInfo": {
     "elapsed": 143,
     "status": "ok",
     "timestamp": 1668473825123,
     "user": {
      "displayName": "Chris S",
      "userId": "08468368996988622896"
     },
     "user_tz": 300
    },
    "id": "XoPnXm3vyf_8",
    "outputId": "fdde723b-cdef-4cfe-e68a-b85ca1df43a5"
   },
   "outputs": [
    {
     "name": "stdout",
     "output_type": "stream",
     "text": [
      "['-DOCSTART- -DOCSTART- -DOCSTART-\\n\\n<P ID=100> <PER> Bernard Pugh </PER> 90 of <LOC> Centerville </LOC> passed away on April 21 2019 at his residence. <PER> Bernard </PER> was born on December 22 1928 in <LOC> Fox River Township Davis County </LOC> to <LOC> Earl </LOC> and <PER> Beryl (John) Pugh. </PER> He attended country school near his home and then <LOC> Bloomfield High School </LOC> graduating in 1947. In 1950 he fell in love at first sight and 4 months later was united in marriage to <LOC> Jewell Richmond </LOC> in <LOC> Unionville Iowa. </LOC> They lived on his parents’ farm until 1952 when he was drafted into the <LOC> United States Army </LOC> serving in the <ORG> Signal Corps. </ORG> Upon discharge <PER> Bernard </PER> took advantage of the <MISC> GI Bill </MISC> to attend <LOC> Centerville Community College </LOC> and then headed to <LOC> Kirksville Missouri </LOC> for teacher’s college. Later he would go on to obtain a <MISC> Masters </MISC> in Education from <LOC> Iowa State </LOC> University. \\n\\n<PER> Bernard </PER> worked as a high school teacher several years and ten years as a guidance counselor at <LOC> Moravia </LOC> and <LOC> Moulton-Udell </LOC> schools. From about 1980-1990 he served as school superintendent in <LOC> Watertown South Dakota. </LOC> Following retirement from education <PER> Bernard </PER> worked as a financial advisor as well as a cattle farmer. \\n\\n<PER> Bernard </PER> enjoyed: sports (especially baseball and football) learning new things gardening (and canning) growing wonderful rose bushes playing cards spending time with his family and hunting. He attended <ORG> First Baptist Church </ORG> and was a former president of the <ORG> Lions’ Club </ORG> where he would often bring one of his homemade angel food cakes to share! <PER> Bernard </PER> is survived by his daughter <PER> Cheryl “Cheri” Pugh; </PER> nieces: <PER> Janice Barnett Renee Nevitt </PER> and <PER> Rhea Richmond; </PER> nephews: <PER> Jim Barnett </PER> and <PER> Bob (Lauren) Waffle </PER> and his “grandson” <PER> Matthew Waffle. </PER> He was preceded in death by his parents; wife <PER> Jewell </PER> and sisters: <PER> Lorraine Stevenson LaVelle Hodges </PER> and <PER> Hazel Barnett. </PER> Funeral services will be held at 10:00 a.m. on Friday April 26 2019 at <LOC> Thomas Funeral Home </LOC> in <LOC> Centerville </LOC> with Rev. <PER> Dennis Higgins </PER> officiating. Interment will immediately follow at <LOC> West Grove Cemetery. Visitation </LOC> will take place one hour prior to the service from 9-10:00 a.m. ', ' \\n\\n<P ID=101> <PER> Sherri Oden </PER> 62 of <LOC> Cincinnati </LOC> passed away on April 11 2019 at <ORG> Mercy Medical Center </ORG> in <LOC> Des Moines. Sherri </LOC> was born on July 31 1956 in <LOC> Unionville Missouri </LOC> to <LOC> Richard </LOC> and <PER> Margaret (Logston) McClure. Sherri </PER> married <PER> Paul Oden </PER> and to this union two children were born. The couple later divorced. Following graduation from <LOC> Centerville High School </LOC> in 1974 <PER> Sherri </PER> attended <LOC> Indian Hills Community College </LOC> where she studied health and nutrition. She worked as a dietary supervisor for several years. <MISC> Sherri </MISC> enjoyed: flowers gardening talking on the phone garage sale shopping with her mom and daughter watching her son <PER> Cory </PER> participate in demolition derbies going to the casino and spending time with her family; especially her grandchildren. \\n\\n<PER> Sherri </PER> is survived by her son <PER> Cory (Sara) Oden; </PER> daughter <PER> Chelsea Oden; </PER> brothers: Rich (Mary) <PER> Rick (Ogie) </PER> and <PER> Russ (Lisa) McClure; </PER> sister <PER> Sandra (Larry) Robinson; </PER> grandchildren: <PER> Cainen Oden </PER> and <PER> Maggie Edwards </PER> and numerous extended family members. She was preceded in death by her parents; nephew <PER> Jared Robinson </PER> and significant other <PER> Gary Hogg. </PER> Funeral services will be held at 2:00 p.m. on Sunday April 14 2019 at <LOC> Thomas Funeral Home </LOC> in <LOC> Centerville. Interment </LOC> will immediately follow at <LOC> Pleasant Hill Cemetery </LOC> in <LOC> Cincinnati. Visitation </LOC> will be held two hours prior to the funeral from 12:00-2:00 p.m. ', ' \\n\\n<P ID=102> <PER> Dennis Strickler </PER> 62 of <LOC> Moravia </LOC> passed away Friday April 5 2019 at <ORG> Mercy Medical Center </ORG> in <LOC> Des Moines. </LOC> \\n\\n<PER> Dennis </PER> was born on February 28 1957 in <LOC> Centerville </LOC> to <LOC> E.J. “Hank” </LOC> & <LOC> Florence (Davis) Strickler. </LOC> On July 21st 1984 <PER> Dennis </PER> was united in marriage to <PER> Vicky Lockman </PER> at <LOC> Moravia Grace United Methodist Church </LOC> in <LOC> Moravia Iowa. </LOC> To this union came four children: <PER> Billy Clarissa Marci </PER> and <PER> Jake. Dennis </PER> was employed as an electrician with a contractor at <LOC> Cargill </LOC> in <LOC> Eddyville Iowa. Throughout </LOC> his life he worked for various companies providing electrical and carpentry work. <PER> Dennis </PER> enjoyed spending time with his family especially his children and grandchildren. He loved cooking breakfast and grilling for his family. He also enjoyed gardening and landscaping. <PER> Dennis </PER> was an outdoorsman who was considered an avid hunter and fisherman. \\n\\nSurvivors include his wife <PER> Vicky </PER> of <LOC> Moravia </LOC> children: <PER> Billy Strickler (Brandi) </PER> of <PER> Albia Clarissa Cabossart (Rusty) </PER> of <ORG> Ankeny Marci Kraber (John) of Blakesburg Jake Strickler (Katelyn) </ORG> of <LOC> Ottumwa </LOC> grandchildren: <ORG> Jaxon & Eva Strickler Riley & Autumn Cabossart Anna Marie & Grady Kraber Kiley Cohen & </ORG> soon to be <PER> Demi Strickler </PER> siblings: <PER> Jim Strickler (Theresa) </PER> of Centerville <PER> Pat Alston </PER> of <MISC> Newton </MISC> <PER> Gary Strickler </PER> of <LOC> Centerville Joyce Baker of Centerville </LOC> and numerous extended family. He was preceded in death by his parents and a brother <PER> Ron Strickler. </PER> \\n\\nFuneral service will be 1:00 pm Wednesday April 10 2019 at <LOC> Moravia Grace United Methodist Church </LOC> with Rev. <PER> Christy Ehrle </PER> officiating. <MISC> Internment </MISC> will immediately follow at <LOC> Iconium Cemetery. Visitation </LOC> will be Tuesday at <LOC> Thomas Funeral Home </LOC> in <LOC> Centerville </LOC> with the family present from 5-8 pm. ', ' \\n\\n<P ID=103> <PER> Candita Marie Furlin </PER> age 42 of <LOC> Des Moines </LOC> and formerly of <LOC> Seymour </LOC> passed away on March 26 2019 surrounded by her loved ones at <LOC> Iowa Methodist Hospital. Candita </LOC> was born on August 3 1976 to <PER> Dennis </PER> and <PER> Cynthia Furlin </PER> in <LOC> Centerville Iowa. </LOC> She attended school at <LOC> Seymour </LOC> and graduated from <LOC> Seymour High School </LOC> with the class of 1994. Growing up <MISC> Candita </MISC> loved playing sports and was very good at them. She had many friends and she enjoyed spending time with her nieces and her nephew. Her passion was for her dogs especially <PER> Socks. </PER> She loved listening to music and her favorites were <PER> Garth Brooks </PER> and <PER> Bob Marley. Candita </PER> was a supporter and an active participant of the annual <MISC> Epilepsy Walk. </MISC> <ORG> Candita’s Crusaders </ORG> include her parents <PER> Dennis </PER> and <PER> Cindy Furlin </PER> fiancé <PER> Matt Horak </PER> sister <PER> Brandita Taylor (Jeremy) </PER> brother <PER> Chris Furlin (Shonda) </PER> nieces <PER> Olivia </PER> and <PER> Zoe </PER> nephew <PER> Hunter grandparents Les </PER> and <PER> Marilyn Krieger </PER> and <PER> Bill Frampton </PER> and <PER> Lucille Medearis </PER> and numerous aunts uncles cousins and many friends. She was preceded in death by her grandfather <PER> John Furlin. </PER> Funeral service will be Saturday March 30 2019 at 10:30 a.m. at <LOC> Thomas Funeral Home </LOC> in <LOC> Seymour </LOC> with Pastor <PER> Dennis Higgins </PER> officiating. <PER> Visitation </PER> will be from 2-7 p.m. Friday March 29 2019 with family present from 5-7 p.m. at <PER> Thomas Funeral </PER> Home in <LOC> Seymour. eInterment </LOC> will be at <LOC> Southlawn Cemetery. </LOC> ', ' \\n\\n<P ID=104> <LOC> Virginia Elizabeth Koestner </LOC> 97 of <LOC> Centerville </LOC> passed away Wednesday March 13 2019 at her home she shared with her daughter. <LOC> Virginia </LOC> was born in <LOC> Moravia </LOC> to <ORG> Grant & Bess (Veach) Everman </ORG> on November 2 1921. She received her education from <LOC> Centerville Schools </LOC> graduating in 1939 one year after <LOC> Centerville High School </LOC> burnt to the ground. She was active in band and orchestra. On November 9 1941 <LOC> Virginia </LOC> was united in marriage to <PER> John Koestner </PER> in <LOC> Centerville </LOC> at <LOC> First Lutheran Church </LOC> less than a month before <MISC> WWII </MISC> was declared. Their marriage survived 62 years through thick and thin. As <PER> Pops </PER> always bragged he knew how to pick a good one and he certainly did. He preceded her in death on July 18 2004. Both did what the <PER> “Greatest Generation” </PER> did during the war years. <PER> Cindy </PER> was a byproduct before he shipped off overseas to save the world from his cousins in <LOC> Germany </LOC> and son <PER> Kris </PER> who was part of the <LOC> “Baby Boomers” </LOC> after the war. <PER> Mama </PER> was a lifelong <MISC> Republican </MISC> until <PER> Trump </PER> came along which made for many lively discussions; her son thought that it was important to keep her blood pressure up. <LOC> Virginia </LOC> worked her entire life within the family businesses not always by choice from her and <MISC> John’s </MISC> venture at the <ORG> Blue Bird Café </ORG> starting in 1958 through 1968 on the <LOC> Centerville </LOC> square where all members of the family started a tradition of working together and being involved. Then later with <PER> John </PER> and son <PER> Kris </PER> they opened the <ORG> J&K Market </ORG> with her grandson <LOC> Chad </LOC> joining later making it a 3 generation business that lasted 48 years on the <MISC> Square. </MISC> During this same time period the family created a niche market with the <ORG> J&K Barn </ORG> that lasted 30 years where hundreds of banquets weddings and dances were held. This is where grandson <PER> Mike </PER> learned knife fork and spoon. There was no dishwasher except for <PER> Mama </PER> and good friend <PER> Pat Cisler </PER> who washed thousands of dishes. <PER> Mama </PER> would also assist in working with her son and grandson at <LOC> J&K; </LOC> becoming famous for her homemade pies. In the early days of the <ORG> Good Ship J&K Virginia </ORG> loved making brownies for the party cruises. \\n\\n<LOC> Virginia </LOC> enjoyed bird watching; daily readings of her bible newspapers and church bulletins. She was always happy clipping articles from papers and bulletins to make scrap books for her family. In her later years <LOC> Virginia </LOC> and <PER> John </PER> spent countless evenings on their front deck at the <LOC> J&K </LOC> cabin overlooking the pond watching the birds wildlife sunsets and stars. A few years after <MISC> John’s </MISC> passing <LOC> Virginia </LOC> moved in to town to be with her daughter <PER> Cindy; </PER> this brought out the good and bad with any <PER> Mama </PER> and daughter close relationship. It was a win-win situation for <MISC> Mama. </MISC> Being a few steps away to the door of our church <PER> First Lutheran. </PER> She enjoyed being close to the church and Pastor <PER> Kathy Franzenburg </PER> which made it possible to remain active within <ORG> First Lutheran </ORG> and <PER> Karen King </PER> who became almost like a daughter to her and her good friends <PER> Mike </PER> and <PER> Kay Toom. Virginia </PER> was a 78 year member of <ORG> First Lutheran Church. Survivors </ORG> include her children: <PER> Cindy Keene Kris Koestner </PER> grandchildren: <PER> Mike Keene Tina </PER> Koestner <PER> Chad Koestner </PER> (Courtney) <PER> TJ Carson-Koestner (JC) </PER> great grandchildren: <PER> Quinton Alyssa </PER> Zander <PER> Maclin Kinzie </PER> and <PER> Tegan. She </PER> was preceded in death by her parents husband <PER> “Honest John” </PER> favorite son-in-law <PER> Roscoe Keene </PER> siblings: <PER> Patsy Everman Bart Everman </PER> and <PER> Nancy Blazina (Ed). </PER> Funeral service will be 1:30 pm Monday March 18 2019 at <ORG> First Lutheran Church </ORG> in <LOC> Centerville </LOC> with Rev. <PER> Jeremey McElvain </PER> officiating. Interment will follow in <LOC> Oakland Cemetery </LOC> next to her husband <PER> John. Visitation </PER> will be Sunday March 17 at <LOC> Thomas Funeral Home </LOC> from 12-4 pm with the family present from 1-4 pm. ', ' \\n\\n<P ID=105> <PER> Florence R. Schau </PER> 91 formerly of <LOC> South Wheeling </LOC> died Saturday April 27 2019 at <LOC> Good Shepherd Nursing Home. </LOC> She was born in <LOC> Wheeling </LOC> on December 6 1927 daughter of the late <PER> John </PER> and <PER> Jennetta Lash Marshlenski. Florence </PER> was a member of <LOC> Trinity Lutheran Church </LOC> and was part owner of the <ORG> Double J Club </ORG> in <LOC> South Wheeling. </LOC> She was also a homemaker. In addition to her parents she was preceded in death by her husband <PER> Tony Schau; </PER> sons <PER> Jack Lucas </PER> and <PER> Michael Alley; </PER> sisters <PER> Louella Edge </PER> and <PER> Jeanette Acres. Surviving </PER> is her daughter <PER> Trudy Lynn (Steve) Habursky; </PER> son <PER> Keith Calmbacher </PER> (fiancee <PER> Madeline Gosney); </PER> 3 grandchildren <PER> Kari Lynn </PER> (Nathan) <PER> Nyland Devin </PER> Keith <PER> (Stacey) Calmbacher </PER> and <PER> Conner Michael Calmbacher; </PER> a great-granddaughter <PER> Reese Lynn Nyland; </PER> several nieces and nephews. The family would like to thank the staff at <ORG> Good Shepherd Nursing Home </ORG> especially 3 south and her special friend <PER> Theresa. Friends </PER> will be received at <LOC> Kepner Funeral Home </LOC> 3545 <LOC> Jacob Street Wheeling </LOC> WV 26003 (304-232-4060) on Tuesday April 30 2019 from 11 am until time of services at 2 pm with Pastor <PER> Sean Smith </PER> officiating. Interment to follow in <LOC> Mt. Zion Cemetery Wheeling. </LOC> ', ' \\n\\n<P ID=106> <PER> Linda Kay Yee </PER> 68 of <LOC> Wheeling </LOC> passed peacefully to the house of the Lord Tuesday April 23 2019 at home. She was born February 1 1951 in <LOC> Wheeling </LOC> the daughter of the late <PER> Quong (Eddie) Shing Yee </PER> and <PER> Jen (Jean) Tong Yee. </PER> In addition to her parents <PER> Linda </PER> was preceded in death by three brothers <PER> James K. Yee </PER> Walter <PER> Y. Yee </PER> and <PER> Gilbert J. Yee. Linda </PER> was energetic and very outgoing who knew no strangers. She loved her cats and enjoyed watching Days of <ORG> Our Lives. </ORG> Her family meant everything to her especially her nieces nephews and great nephews. <MISC> Surviving </MISC> are her brothers and sisters <PER> Richard H. Yee </PER> of <PER> Seymour Tenn; </PER> Phillip <PER> H. Yee </PER> \\n\\nhis wife <PER> Norma </PER> of <LOC> Rockledge </LOC> FL; <PER> Mary A. Poole </PER> her husband <PER> Donald </PER> of <LOC> Middleport </LOC> OH; <PER> Patty L. Butler </PER> her husband <PER> Paul </PER> of <LOC> Mt. Clare </LOC> WV; <PER> Edward P.Yee </PER> of <LOC> Severn Md; </LOC> Alfred <PER> Q. Yee </PER> of <LOC> Enon Ohio </LOC> and <PER> Daniel D. Yee </PER> of <LOC> Santa Monica CA; </LOC> nieces and nephews <PER> Erica L. Poole David </PER> (Chelsea) <PER> E.Poole Sean </PER> (Megan) <PER> Butler Ryan </PER> (Megan) <PER> Butler Jessica </PER> Yee <PER> J.T. Yee </PER> Ashley <PER> (Chris) Vela; </PER> great-nephews <PER> Leo </PER> and <PER> Max Poole; </PER> and two special friends <PER> Grace Lee </PER> & Jan. Friends will be received on Saturday April 27 2019 from 12 pm until time of service at 4 pm with Pastor <PER> P. David Forsythe </PER> officiating at <LOC> Kepner Funeral Home 900 National Road Wheeling </LOC> (304-232-2732). Interment in the <LOC> Greenwood Cemetery Wheeling. </LOC> In lieu of flowers donations may be made to the <LOC> Gateway Apostolic Church </LOC> 464 <LOC> Main St Bridgeport OH </LOC> or to the <ORG> Catholic Neighborhood Center </ORG> 125- 18th <LOC> St. Wheeling </LOC> WV. 26003. ', ' \\n\\n<P ID=107> <PER> Clyde William “Casey” Caseman </PER> 90 of <LOC> Wheeling WV </LOC> passed away peacefully Wednesday April 17 2019 at his home. He was born February 4 1929 in <LOC> Brooke County WV </LOC> son of the late <PER> William M. </PER> and Ilo <PER> Bonar Caseman. </PER> He was an <ORG> Army Veteran </ORG> who served during the <MISC> Korean War </MISC> and a member of <ORG> West Liberty Christian Church. </ORG> \\n\\n<PER> Clyde </PER> enjoyed spending time with family and friends. He loved genealogy and was the expert about family and local history. He spent as much time as possible each summer at <LOC> Lake Seneca Resorts </LOC> in <LOC> Senecaville Ohio </LOC> and was always up for a game of <MISC> Euchre. </MISC> In addition to his parents he was preceded in death by his wife of 63 years <PER> Alicia McCombs Caseman; </PER> grandson <PER> Robert Caseman Miller; </PER> two sisters <PER> Dorothy Wheeler </PER> and <PER> Eura Caseman; </PER> and brother <PER> Carl Caseman. </PER> He is survived by his four daughters <PER> Holly J. </PER> Caseman <PER> Amy (Robert) Miller </PER> Lou <PER> Ann (Rick) Ray </PER> and <PER> Kelly (Scott) Beatty; </PER> five grandchildren <PER> Ashley (Brian) </PER> Dunn <PER> Nick (Alyssa </PER> Duncan) <PER> Miller Ethan (Katherine </PER> Dentz) <PER> Otte Patrick Beatty </PER> and <PER> Kate Beatty; </PER> two great-grandchildren <PER> Mason & Evie Lou; </PER> brother <PER> Joseph W. Caseman; </PER> numerous nieces and nephews and his beloved dog <ORG> Jiggs. The </ORG> family wishes to extend special thanks to <MISC> Clyde’s </MISC> care givers at <ORG> IC Care </ORG> and <ORG> Amedisys Hospice. Honoring Clyde’s </ORG> wish his family donated his body to science at <ORG> WVU Human Gift Registry </ORG> in <LOC> Morgantown WV. </LOC> A memorial service will be held on Saturday April 27th 11:00 a.m. at <LOC> West Liberty Christian Church </LOC> 742 <LOC> Van Meter Way West Liberty </LOC> WV. \\n\\nIn lieu of flowers donations can be made to <LOC> West Liberty Christian Church </LOC> or to <LOC> Ohio County Animal Shelter. </LOC> \\n\\n', ' \\n\\n<P ID=108> <PER> John Patrick “Pud” Moyle </PER> 97 of <LOC> Wheeling WV </LOC> passed away on Tuesday April 2 2019 and is reunited with his wife of 64 years <PER> Mary Jane. </PER> \\n\\nHe was born September 8 1921 in <LOC> Wheeling WV </LOC> – a town that he loved and called home his entire life. \\n\\nAlways ready to tell a story or make someone laugh <PER> Pud </PER> was full of life and love during his time here on earth. A member of <LOC> Corpus Christi Parish </LOC> for 68 years he was a devout <MISC> Catholic </MISC> and prayed the novena daily. A wealth of knowledge <MISC> Pud </MISC> loved his jobs as a tour guide at the <ORG> Capitol Music Hall </ORG> and also summers working the <LOC> Jamboree In The Hills </LOC> information booth. He was proud to be <MISC> Irish </MISC> and loved being <LOC> Santa </LOC> to his grandchildren. He was an avid golfer and played cards with the <ORG> Knight of the Columbus </ORG> of which he was a member for 50 years. He was the proud owner of a brand new car that he bought when he turned 95 and passed his driver’s test. He was strong determined and independent. He loved penny candy and anything sweet but most of all he loved his family. \\n\\nHe was preceded in death by his wife <PER> Mary Jane (Corcoran) Moyle </PER> and his son <PER> Michael Moyle. </PER> \\n\\nHe is survived by his son <PER> John Patrick </PER> (Judy) <PER> Moyle Jr. </PER> of <PER> Dunnellon FL; </PER> his daughter <PER> Kathleen (Anthony) Cupp </PER> of <LOC> Wheeling WV; </LOC> daughter-in-law <PER> Lynne (Boury) Moyle; </PER> 11 grandchildren; and 21 great-grandchildren. <ORG> Mass of Christian Burial </ORG> will be held on Friday April 5 2019 at 11 am at <LOC> Corpus Christi Catholic Church </LOC> with Father <PER> Paul M. C.S.T. </PER> and Msgr. <PER> Eugene S. Ostrowski </PER> as concelebrants. Interment to be held at <LOC> Mt. Calvary Cemetery Wheeling. </LOC> In lieu of flowers donations can be made to <LOC> Corpus Christi School. </LOC> ', ' \\n\\n<P ID=109> <PER> Haines William \"Spencer\" </PER> 103 of <LOC> Weirton WV </LOC> formerly of <LOC> Bethlehem WV </LOC> died on Saturday March 23 2019 in the <ORG> Weirton Medical Center Weirton WV. </ORG> He was born February 9 1916 in <LOC> Wetzel County WV </LOC> the son of the late <PER> W. Donley Haines </PER> and <PER> Ora O. Cain Haines. Spence </PER> as he was known to his family was a high school graduate of the former <LOC> Littleton High School </LOC> in <LOC> Littleton </LOC> and an <ORG> Army Veteran of WWII </ORG> having served in the <ORG> Army Medical Department. </ORG> He was a retired <ORG> Insurance Agent </ORG> with <PER> Berry Bippus Chison </PER> and <PER> Foose </PER> in <LOC> Wheeling </LOC> and a member of <LOC> Christ United Methodist Church Wheeling </LOC> where he was past member of the <ORG> Administrative Board </ORG> and past member of the <ORG> Pastor Parish Relations Committee. </ORG> He was a past member and past President of the <LOC> Wheeling Kiwanis Club </LOC> through District 90; a past board member of the <ORG> Russell Nesbitt Services Wheeling; </ORG> a past member of the <LOC> Wheeling B.P.O.E. Elks </LOC> #28 and a member of the <ORG> National Road Association. Reading </ORG> and <MISC> American History </MISC> were his passions. He also loved to travel with his family and watching them grow up throughout the years. In addition to his parents <PER> Spence </PER> was preceded in death by his loving wife <PER> Ruth Kiger Haines </PER> who passed away in August of 2001 a son <PER> William S. Haines Jr </PER> in 2011 and a brother and sister in law <PER> Woodrow </PER> and <PER> Lucille Haines. </PER> Surviving are his son <PER> Marvin L. (Marsha) Haines </PER> of <LOC> Houston TX; </LOC> two daughters <PER> Peggy (Robert \"Butch\") Weaver </PER> of <LOC> Follansbee </LOC> and <PER> Susan L. Haines </PER> of <LOC> Wheeling; </LOC> his daughter-in-law <PER> Janice Haines </PER> of <LOC> Elkins WV; </LOC> his grandchildren <PER> Patty (Mike) </PER> McGinnis <PER> Kelly (Robert) Jusino </PER> all of <PER> Follansbee Marvin Lee (Michelle) Haines </PER> of <LOC> Hillsboro VA </LOC> Martha <PER> E. Haines </PER> of <LOC> San Diego CA </LOC> and <PER> Nathan Haines </PER> of <LOC> Pittsburgh PA; </LOC> great grandson and granddaughter <PER> Marcus </PER> and <PER> Mya Haines </PER> of <LOC> Hillsboro VA </LOC> and several grandchildren great grandchildren great great-grandchildren nieces nephews and their families. Friends will be received on Tuesday March 26 2019 from 11 a.m. until time of service at 2 p.m. at <LOC> Christ United Methodist Church </LOC> 1232 <LOC> National Rd Wheeling </LOC> with the Reverend <PER> Jake Steele </PER> officiating. Interment in <LOC> Greenwood Cemetery Wheeling </LOC> where <LOC> Moundsville Veteran Honor Guard </LOC> will conduct military graveside services. Arrangements by <ORG> Kepner Funeral Home </ORG> 166 <LOC> Kruger St, Wheeling </LOC> WV 26003 (304-242-2311). In lieu of flowers memorial contributions may be made to the <ORG> Russell Nesbitt Services Fulton St Wheeling </ORG> WV 26003. ', ' \\n\\n']\n"
     ]
    }
   ],
   "source": [
    "print(D_NER)"
   ]
  },
  {
   "cell_type": "code",
   "execution_count": 30,
   "metadata": {
    "colab": {
     "base_uri": "https://localhost:8080/",
     "height": 0
    },
    "executionInfo": {
     "elapsed": 124,
     "status": "ok",
     "timestamp": 1668475873787,
     "user": {
      "displayName": "Chris S",
      "userId": "08468368996988622896"
     },
     "user_tz": 300
    },
    "id": "QZDDLSH86TlR",
    "outputId": "12553d2c-559d-4825-f869-abb7656a2890"
   },
   "outputs": [
    {
     "data": {
      "text/plain": [
       "11"
      ]
     },
     "execution_count": 30,
     "metadata": {},
     "output_type": "execute_result"
    }
   ],
   "source": [
    "len(D_NER)"
   ]
  },
  {
   "cell_type": "code",
   "execution_count": 44,
   "metadata": {
    "executionInfo": {
     "elapsed": 104,
     "status": "ok",
     "timestamp": 1668477107785,
     "user": {
      "displayName": "Chris S",
      "userId": "08468368996988622896"
     },
     "user_tz": 300
    },
    "id": "nsY-Wqnfzfak"
   },
   "outputs": [],
   "source": [
    "# (?:survived|Surviving).*<PER>(.*)</PER>\n",
    "survived= list(map(lambda x: re.findall(r\"(?:survived|Surviving|Survivors)(.*)</PER> (?:Funeral)?\", x,re.MULTILINE),D_NER))[:-1]\n"
   ]
  },
  {
   "cell_type": "markdown",
   "metadata": {
    "id": "Cfuk9MroL2mc"
   },
   "source": [
    "#### (12 points) Additionally, try to extract two or more of the following relations, though they may often\n",
    "#### be missing and are more difficult:"
   ]
  },
  {
   "cell_type": "code",
   "execution_count": 46,
   "metadata": {
    "colab": {
     "base_uri": "https://localhost:8080/",
     "height": 0
    },
    "executionInfo": {
     "elapsed": 118,
     "status": "ok",
     "timestamp": 1668477121382,
     "user": {
      "displayName": "Chris S",
      "userId": "08468368996988622896"
     },
     "user_tz": 300
    },
    "id": "VM5hqTfp5pnn",
    "outputId": "328d16d5-2c4e-400e-8102-6b89ad6e39da"
   },
   "outputs": [
    {
     "name": "stdout",
     "output_type": "stream",
     "text": [
      "[[' by his daughter <PER> Cheryl “Cheri” Pugh; </PER> nieces: <PER> Janice Barnett Renee Nevitt </PER> and <PER> Rhea Richmond; </PER> nephews: <PER> Jim Barnett </PER> and <PER> Bob (Lauren) Waffle </PER> and his “grandson” <PER> Matthew Waffle. </PER> He was preceded in death by his parents; wife <PER> Jewell </PER> and sisters: <PER> Lorraine Stevenson LaVelle Hodges </PER> and <PER> Hazel Barnett. </PER> Funeral services will be held at 10:00 a.m. on Friday April 26 2019 at <LOC> Thomas Funeral Home </LOC> in <LOC> Centerville </LOC> with Rev. <PER> Dennis Higgins '], [' by her son <PER> Cory (Sara) Oden; </PER> daughter <PER> Chelsea Oden; </PER> brothers: Rich (Mary) <PER> Rick (Ogie) </PER> and <PER> Russ (Lisa) McClure; </PER> sister <PER> Sandra (Larry) Robinson; </PER> grandchildren: <PER> Cainen Oden </PER> and <PER> Maggie Edwards </PER> and numerous extended family members. She was preceded in death by her parents; nephew <PER> Jared Robinson </PER> and significant other <PER> Gary Hogg. '], [' include his wife <PER> Vicky </PER> of <LOC> Moravia </LOC> children: <PER> Billy Strickler (Brandi) </PER> of <PER> Albia Clarissa Cabossart (Rusty) </PER> of <ORG> Ankeny Marci Kraber (John) of Blakesburg Jake Strickler (Katelyn) </ORG> of <LOC> Ottumwa </LOC> grandchildren: <ORG> Jaxon & Eva Strickler Riley & Autumn Cabossart Anna Marie & Grady Kraber Kiley Cohen & </ORG> soon to be <PER> Demi Strickler </PER> siblings: <PER> Jim Strickler (Theresa) </PER> of Centerville <PER> Pat Alston </PER> of <MISC> Newton </MISC> <PER> Gary Strickler </PER> of <LOC> Centerville Joyce Baker of Centerville </LOC> and numerous extended family. He was preceded in death by his parents and a brother <PER> Ron Strickler. '], [], [' 62 years through thick and thin. As <PER> Pops </PER> always bragged he knew how to pick a good one and he certainly did. He preceded her in death on July 18 2004. Both did what the <PER> “Greatest Generation” </PER> did during the war years. <PER> Cindy </PER> was a byproduct before he shipped off overseas to save the world from his cousins in <LOC> Germany </LOC> and son <PER> Kris </PER> who was part of the <LOC> “Baby Boomers” </LOC> after the war. <PER> Mama </PER> was a lifelong <MISC> Republican </MISC> until <PER> Trump </PER> came along which made for many lively discussions; her son thought that it was important to keep her blood pressure up. <LOC> Virginia </LOC> worked her entire life within the family businesses not always by choice from her and <MISC> John’s </MISC> venture at the <ORG> Blue Bird Café </ORG> starting in 1958 through 1968 on the <LOC> Centerville </LOC> square where all members of the family started a tradition of working together and being involved. Then later with <PER> John </PER> and son <PER> Kris </PER> they opened the <ORG> J&K Market </ORG> with her grandson <LOC> Chad </LOC> joining later making it a 3 generation business that lasted 48 years on the <MISC> Square. </MISC> During this same time period the family created a niche market with the <ORG> J&K Barn </ORG> that lasted 30 years where hundreds of banquets weddings and dances were held. This is where grandson <PER> Mike </PER> learned knife fork and spoon. There was no dishwasher except for <PER> Mama </PER> and good friend <PER> Pat Cisler </PER> who washed thousands of dishes. <PER> Mama ', ' </ORG> include her children: <PER> Cindy Keene Kris Koestner </PER> grandchildren: <PER> Mike Keene Tina </PER> Koestner <PER> Chad Koestner </PER> (Courtney) <PER> TJ Carson-Koestner (JC) </PER> great grandchildren: <PER> Quinton Alyssa </PER> Zander <PER> Maclin Kinzie </PER> and <PER> Tegan. She </PER> was preceded in death by her parents husband <PER> “Honest John” </PER> favorite son-in-law <PER> Roscoe Keene </PER> siblings: <PER> Patsy Everman Bart Everman </PER> and <PER> Nancy Blazina (Ed). </PER> Funeral service will be 1:30 pm Monday March 18 2019 at <ORG> First Lutheran Church </ORG> in <LOC> Centerville </LOC> with Rev. <PER> Jeremey McElvain </PER> officiating. Interment will follow in <LOC> Oakland Cemetery </LOC> next to her husband <PER> John. Visitation '], [' </PER> is her daughter <PER> Trudy Lynn (Steve) Habursky; </PER> son <PER> Keith Calmbacher </PER> (fiancee <PER> Madeline Gosney); </PER> 3 grandchildren <PER> Kari Lynn </PER> (Nathan) <PER> Nyland Devin </PER> Keith <PER> (Stacey) Calmbacher </PER> and <PER> Conner Michael Calmbacher; </PER> a great-granddaughter <PER> Reese Lynn Nyland; </PER> several nieces and nephews. The family would like to thank the staff at <ORG> Good Shepherd Nursing Home </ORG> especially 3 south and her special friend <PER> Theresa. Friends </PER> will be received at <LOC> Kepner Funeral Home </LOC> 3545 <LOC> Jacob Street Wheeling </LOC> WV 26003 (304-232-4060) on Tuesday April 30 2019 from 11 am until time of services at 2 pm with Pastor <PER> Sean Smith '], [' </MISC> are her brothers and sisters <PER> Richard H. Yee </PER> of <PER> Seymour Tenn; </PER> Phillip <PER> H. Yee '], [' by his four daughters <PER> Holly J. </PER> Caseman <PER> Amy (Robert) Miller </PER> Lou <PER> Ann (Rick) Ray </PER> and <PER> Kelly (Scott) Beatty; </PER> five grandchildren <PER> Ashley (Brian) </PER> Dunn <PER> Nick (Alyssa </PER> Duncan) <PER> Miller Ethan (Katherine </PER> Dentz) <PER> Otte Patrick Beatty </PER> and <PER> Kate Beatty; </PER> two great-grandchildren <PER> Mason & Evie Lou; </PER> brother <PER> Joseph W. Caseman; '], [' by his son <PER> John Patrick </PER> (Judy) <PER> Moyle Jr. </PER> of <PER> Dunnellon FL; </PER> his daughter <PER> Kathleen (Anthony) Cupp </PER> of <LOC> Wheeling WV; </LOC> daughter-in-law <PER> Lynne (Boury) Moyle; </PER> 11 grandchildren; and 21 great-grandchildren. <ORG> Mass of Christian Burial </ORG> will be held on Friday April 5 2019 at 11 am at <LOC> Corpus Christi Catholic Church </LOC> with Father <PER> Paul M. C.S.T. </PER> and Msgr. <PER> Eugene S. Ostrowski '], [' are his son <PER> Marvin L. (Marsha) Haines </PER> of <LOC> Houston TX; </LOC> two daughters <PER> Peggy (Robert \"Butch\") Weaver </PER> of <LOC> Follansbee </LOC> and <PER> Susan L. Haines </PER> of <LOC> Wheeling; </LOC> his daughter-in-law <PER> Janice Haines </PER> of <LOC> Elkins WV; </LOC> his grandchildren <PER> Patty (Mike) </PER> McGinnis <PER> Kelly (Robert) Jusino </PER> all of <PER> Follansbee Marvin Lee (Michelle) Haines </PER> of <LOC> Hillsboro VA </LOC> Martha <PER> E. Haines </PER> of <LOC> San Diego CA </LOC> and <PER> Nathan Haines </PER> of <LOC> Pittsburgh PA; </LOC> great grandson and granddaughter <PER> Marcus </PER> and <PER> Mya Haines </PER> of <LOC> Hillsboro VA </LOC> and several grandchildren great grandchildren great great-grandchildren nieces nephews and their families. Friends will be received on Tuesday March 26 2019 from 11 a.m. until time of service at 2 p.m. at <LOC> Christ United Methodist Church </LOC> 1232 <LOC> National Rd Wheeling </LOC> with the Reverend <PER> Jake Steele ']]\n"
     ]
    }
   ],
   "source": [
    "# survived by-----------------\n",
    "print(survived)"
   ]
  },
  {
   "cell_type": "code",
   "execution_count": 99,
   "metadata": {
    "executionInfo": {
     "elapsed": 355,
     "status": "ok",
     "timestamp": 1668479246321,
     "user": {
      "displayName": "Chris S",
      "userId": "08468368996988622896"
     },
     "user_tz": 300
    },
    "id": "snDsn8FEAciu"
   },
   "outputs": [],
   "source": [
    "# passed away on ---------------\n",
    "\n",
    "# (?:passed away (?:on|)|died (?:on|))(.*\\d+) (?:at|surrounded by|with)\n",
    "passed = list(map(lambda x: re.findall(r\"(?:passed away (?:on|)|died (?:on|))((?:\\w+|) \\w+ \\d+ \\d+) (?:at|surrounded by|with)\", x,re.MULTILINE),D_NER))[:-1]"
   ]
  },
  {
   "cell_type": "code",
   "execution_count": 100,
   "metadata": {
    "colab": {
     "base_uri": "https://localhost:8080/",
     "height": 0
    },
    "executionInfo": {
     "elapsed": 190,
     "status": "ok",
     "timestamp": 1668479247441,
     "user": {
      "displayName": "Chris S",
      "userId": "08468368996988622896"
     },
     "user_tz": 300
    },
    "id": "RR0-NkekCTgK",
    "outputId": "90ec6644-466a-4db3-c52a-3d0baf2446ac"
   },
   "outputs": [
    {
     "name": "stdout",
     "output_type": "stream",
     "text": [
      "[[' April 21 2019'], [' April 11 2019'], ['Friday April 5 2019'], [' March 26 2019'], ['Wednesday March 13 2019'], ['Saturday April 27 2019'], [], [], [], []]\n"
     ]
    }
   ],
   "source": [
    "print(passed)"
   ]
  },
  {
   "cell_type": "code",
   "execution_count": 101,
   "metadata": {
    "colab": {
     "base_uri": "https://localhost:8080/",
     "height": 0
    },
    "executionInfo": {
     "elapsed": 501,
     "status": "ok",
     "timestamp": 1668481189910,
     "user": {
      "displayName": "Chris S",
      "userId": "08468368996988622896"
     },
     "user_tz": 300
    },
    "id": "SzjrOp7nMQ3k",
    "outputId": "51d503f5-d150-454f-e83a-551b65d468bc"
   },
   "outputs": [
    {
     "name": "stdout",
     "output_type": "stream",
     "text": [
      "/content/drive/My Drive/NaturalLangaugeProcessing/lab08\n",
      "obits.test.txt\tobits.train.txt\n"
     ]
    }
   ],
   "source": [
    "labdir = '/content/drive/My Drive/NaturalLangaugeProcessing/lab08'\n",
    "%cd \"$labdir\"\n",
    "!ls"
   ]
  },
  {
   "cell_type": "code",
   "execution_count": 102,
   "metadata": {
    "executionInfo": {
     "elapsed": 291,
     "status": "ok",
     "timestamp": 1668481327735,
     "user": {
      "displayName": "Chris S",
      "userId": "08468368996988622896"
     },
     "user_tz": 300
    },
    "id": "6_GNRIvAOpNB"
   },
   "outputs": [],
   "source": [
    "# in error I've been working on the test set from the begining. So to rectify this, I test on the training set without having seen it\n",
    "data= open('obits.train.txt',encoding='utf-8').read()"
   ]
  },
  {
   "cell_type": "code",
   "execution_count": 103,
   "metadata": {
    "executionInfo": {
     "elapsed": 112,
     "status": "ok",
     "timestamp": 1668481350148,
     "user": {
      "displayName": "Chris S",
      "userId": "08468368996988622896"
     },
     "user_tz": 300
    },
    "id": "_FqaTfvbPOsm"
   },
   "outputs": [],
   "source": [
    "d= re.sub(r\"(\\.\\n|\\. \\n|\\!\\n)\",\". \", data)"
   ]
  },
  {
   "cell_type": "code",
   "execution_count": 104,
   "metadata": {
    "executionInfo": {
     "elapsed": 492,
     "status": "ok",
     "timestamp": 1668481393265,
     "user": {
      "displayName": "Chris S",
      "userId": "08468368996988622896"
     },
     "user_tz": 300
    },
    "id": "Iz-fGN5uPX_w"
   },
   "outputs": [],
   "source": [
    "result = re.findall(r\"(.*),(?: | age )(\\d{3}|\\d{2})(?:,|) (?:of|formerly of) (\\w+).* (he|she|her|his) \",d, re.MULTILINE) "
   ]
  },
  {
   "cell_type": "code",
   "execution_count": 105,
   "metadata": {
    "executionInfo": {
     "elapsed": 111,
     "status": "ok",
     "timestamp": 1668481427442,
     "user": {
      "displayName": "Chris S",
      "userId": "08468368996988622896"
     },
     "user_tz": 300
    },
    "id": "ws5hFozvPhtu"
   },
   "outputs": [],
   "source": [
    "obsplit = d.split('</P>\\n')"
   ]
  },
  {
   "cell_type": "code",
   "execution_count": 106,
   "metadata": {
    "executionInfo": {
     "elapsed": 115,
     "status": "ok",
     "timestamp": 1668481455697,
     "user": {
      "displayName": "Chris S",
      "userId": "08468368996988622896"
     },
     "user_tz": 300
    },
    "id": "R0W_69q8PobA"
   },
   "outputs": [],
   "source": [
    "# spouse =[re.findall(r\".* (?:(?:husband|wife)(?:,|)|married) (\\w+)\", rx) for rx in obsplit]\n",
    "spouse = list(map(lambda x : re.findall(r\".* (?:(?:husband|wife)(?:,|)|married) (\\w+)\", x), obsplit))[:-1]"
   ]
  },
  {
   "cell_type": "code",
   "execution_count": 107,
   "metadata": {
    "executionInfo": {
     "elapsed": 105,
     "status": "ok",
     "timestamp": 1668481493365,
     "user": {
      "displayName": "Chris S",
      "userId": "08468368996988622896"
     },
     "user_tz": 300
    },
    "id": "pP3wyEBKPxnx"
   },
   "outputs": [],
   "source": [
    "final=[]\n",
    "for s,r in zip(spouse,result):\n",
    "  if len(s) ==0:\n",
    "    final.append((r[0],r[1],r[2],r[3],''))\n",
    "  else:\n",
    "    final.append((r[0],r[1],r[2],r[3],s[0]))"
   ]
  },
  {
   "cell_type": "code",
   "execution_count": 108,
   "metadata": {
    "executionInfo": {
     "elapsed": 134,
     "status": "ok",
     "timestamp": 1668481547227,
     "user": {
      "displayName": "Chris S",
      "userId": "08468368996988622896"
     },
     "user_tz": 300
    },
    "id": "lMy1LW8ZP6vH"
   },
   "outputs": [],
   "source": [
    "for i in range(len(final)):\n",
    "  if final[i][3] == 'his' or final[i][3] == 'he':\n",
    "    if len(final[i][4]) ==0:\n",
    "      final[i] = (final[i][0],final[i][1],final[i][2],'male',final[i][4])\n",
    "    else:\n",
    "      final[i] = (final[i][0],final[i][1],final[i][2],'male',final[i][4]+' '+final[i][0].split(' ')[-1])\n",
    "  else:\n",
    "    if len(final[i][4]) ==0:\n",
    "      final[i] = (final[i][0],final[i][1],final[i][2],'female',final[i][4])\n",
    "    else:\n",
    "      final[i] = (final[i][0],final[i][1],final[i][2],'female',final[i][4]+' '+final[i][0].split(' ')[-1])\n",
    "\n",
    "    "
   ]
  },
  {
   "cell_type": "code",
   "execution_count": 109,
   "metadata": {
    "colab": {
     "base_uri": "https://localhost:8080/",
     "height": 0
    },
    "executionInfo": {
     "elapsed": 133,
     "status": "ok",
     "timestamp": 1668481577561,
     "user": {
      "displayName": "Chris S",
      "userId": "08468368996988622896"
     },
     "user_tz": 300
    },
    "id": "1NxoU1-0QGPv",
    "outputId": "f4962b43-917f-47a6-e388-2936f7e4fe94"
   },
   "outputs": [
    {
     "name": "stdout",
     "output_type": "stream",
     "text": [
      "[('Milan “Mickey” D. Milisich', '70', 'Ft', 'male', 'of Milisich'), ('Robert (Bob) A. Kahelin', '87', 'Osterville', 'male', 'to Kahelin'), ('Mark Josef Leonardi', '49', 'Sanibel', 'male', 'Edward Leonardi'), ('Rudd, Martha Cheek', '91', 'Fort', 'female', 'mother Cheek'), ('Lucille Dorine Vieira', '91', 'Fort', 'female', 'Maria Vieira'), ('Robert \"Bobby\" Rittel', '101', 'Cape', 'male', 'Charlie Rittel')]\n"
     ]
    }
   ],
   "source": [
    "print(final)"
   ]
  },
  {
   "cell_type": "markdown",
   "metadata": {
    "id": "SqhEqbv0RE8Q"
   },
   "source": [
    "metric         |  Precision      | recall    |     F1\n",
    "---------------|-----------------|-----------|---------\n",
    "Name  |  (6/6)       100.0% |        (6/20)   30.0% |  12/(26) 46.1%\n",
    "Age |  6/6         100.0%      |(6/20)   30.0% | 12/(26) 46.1%\n",
    "Location | 0       0.0% |  0       0.0% | 0%\n",
    "sex |6/6         100.0%  |(6/20)   30.0% | 12/(26) 46.1%\n",
    "Spouse |0          0.0% | 0       0.0% | 0%\n"
   ]
  },
  {
   "cell_type": "markdown",
   "metadata": {
    "id": "tpMRZBx7Yf1a"
   },
   "source": [
    "#### (6 points) In addition to scores, describe what was easy and what was difficult, why some errors occur, and\n",
    "#### whether errors observed are easily repairable or are more complicated to correct. Be sure to include\n",
    "#### plentiful examples."
   ]
  },
  {
   "cell_type": "markdown",
   "metadata": {
    "id": "aa2n5uJieUYV"
   },
   "source": [
    "#### This lab I completely messed up, I worked on the test set accidentally. I hadn't noticed the name of the file I was working on as I simply was\n",
    "#### refering to variables. The cover the questions asked here: It seemed that out of the five fields location was difficult because I could be stated in many forms (city; \n",
    "#### city, state ; location in city). An example is: Des Moines or wheeling, south wheeling, wheeling, Wv\n",
    "\n",
    "#### The addditonal fields  chose to capture were \"survived by\" and \"passed away on\". These were extremely troubling to deal with. I passsed the text through conlleval to tag\n",
    "#### people with the hope I could figure out a search for <PER> </PER> but the best I could come up with is to capture as much of the text as I could in bulk. Passed away on, went \n",
    "#### easier as it was more straight forward to caputure dates, however, there was still trouble due to variablity in the text. "
   ]
  },
  {
   "cell_type": "markdown",
   "metadata": {
    "id": "7yjyKbMUcU_y"
   },
   "source": []
  }
 ],
 "metadata": {
  "accelerator": "GPU",
  "colab": {
   "authorship_tag": "ABX9TyOPCn82ArTHPZDQLbyLd16b",
   "collapsed_sections": [],
   "provenance": []
  },
  "gpuClass": "standard",
  "kernelspec": {
   "display_name": "Python 3 (ipykernel)",
   "language": "python",
   "name": "python3"
  },
  "language_info": {
   "codemirror_mode": {
    "name": "ipython",
    "version": 3
   },
   "file_extension": ".py",
   "mimetype": "text/x-python",
   "name": "python",
   "nbconvert_exporter": "python",
   "pygments_lexer": "ipython3",
   "version": "3.11.7"
  }
 },
 "nbformat": 4,
 "nbformat_minor": 4
}
