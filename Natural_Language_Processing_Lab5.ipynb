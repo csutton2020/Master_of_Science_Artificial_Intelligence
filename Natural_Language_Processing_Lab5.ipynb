{
 "cells": [
  {
   "cell_type": "code",
   "execution_count": null,
   "metadata": {
    "id": "rvd5SMlTv4BM"
   },
   "outputs": [],
   "source": []
  },
  {
   "cell_type": "markdown",
   "metadata": {
    "id": "kejixeeXxDU8"
   },
   "source": [
    "#### Chris sutton\n",
    "#### Lab 5\n"
   ]
  },
  {
   "cell_type": "markdown",
   "metadata": {
    "id": "_4DHz3PHw_5p"
   },
   "source": [
    "The lab was interesting but I had serveral unresolved problems. \n",
    "\n",
    "Part A\n",
    " I ran out of time tryig to solve getting the PCA vectors to resolve in the same plane as the data. i realize the key was I have to find the plane with the cross product of the two vectors then find the dot product with the word data in order to project the pca vectors corrrectly. \n",
    "\n",
    "Part B\n",
    "\n",
    "I had a bug I couldn't resolve in time. Word, Vec in embeddings.py was throwing errors when seeing only a newline. I tried to bypass this by creating a if statement to skip that row of string but i realize now that the headers feed matrix size data along with setting how the matrix gets filled. By using a continue statement I beleive it was corrupting the output files and I couldn't a acheive a result for part b"
   ]
  },
  {
   "cell_type": "code",
   "execution_count": null,
   "metadata": {
    "id": "8VT7Egx_xaZZ"
   },
   "outputs": [],
   "source": []
  },
  {
   "cell_type": "markdown",
   "metadata": {
    "id": "DFUJBEUhxecp"
   },
   "source": []
  },
  {
   "cell_type": "code",
   "execution_count": null,
   "metadata": {
    "id": "kj_E_br0xf_W"
   },
   "outputs": [],
   "source": [
    "#### use to discuss lab results\n"
   ]
  },
  {
   "cell_type": "code",
   "execution_count": 1,
   "metadata": {
    "executionInfo": {
     "elapsed": 7025,
     "status": "ok",
     "timestamp": 1665449164650,
     "user": {
      "displayName": "Chris S",
      "userId": "08468368996988622896"
     },
     "user_tz": 240
    },
    "id": "fklDQWSPxk72"
   },
   "outputs": [],
   "source": [
    "import gensim\n",
    "from gensim.models import Word2Vec, KeyedVectors\n",
    "import matplotlib\n",
    "from matplotlib import pyplot as plt\n",
    "import sklearn\n",
    "from sklearn.decomposition import PCA\n",
    "import spacy\n",
    "from nltk.tokenize import word_tokenize\n",
    "import numpy as np"
   ]
  },
  {
   "cell_type": "code",
   "execution_count": 2,
   "metadata": {
    "colab": {
     "base_uri": "https://localhost:8080/"
    },
    "executionInfo": {
     "elapsed": 10707,
     "status": "ok",
     "timestamp": 1665449175353,
     "user": {
      "displayName": "Chris S",
      "userId": "08468368996988622896"
     },
     "user_tz": 240
    },
    "id": "8RG61JN4xsIx",
    "outputId": "9ece3aef-96f2-405a-d4ad-49da4a8bba61"
   },
   "outputs": [
    {
     "name": "stdout",
     "output_type": "stream",
     "text": [
      "2022-10-11 00:46:09.321559: E tensorflow/stream_executor/cuda/cuda_driver.cc:271] failed call to cuInit: CUDA_ERROR_NO_DEVICE: no CUDA-capable device is detected\n",
      "Looking in indexes: https://pypi.org/simple, https://us-python.pkg.dev/colab-wheels/public/simple/\n",
      "Collecting en-core-web-sm==3.4.0\n",
      "  Downloading https://github.com/explosion/spacy-models/releases/download/en_core_web_sm-3.4.0/en_core_web_sm-3.4.0-py3-none-any.whl (12.8 MB)\n",
      "\u001b[K     |████████████████████████████████| 12.8 MB 5.2 MB/s \n",
      "\u001b[?25hRequirement already satisfied: spacy<3.5.0,>=3.4.0 in /usr/local/lib/python3.7/dist-packages (from en-core-web-sm==3.4.0) (3.4.1)\n",
      "Requirement already satisfied: typing-extensions<4.2.0,>=3.7.4 in /usr/local/lib/python3.7/dist-packages (from spacy<3.5.0,>=3.4.0->en-core-web-sm==3.4.0) (4.1.1)\n",
      "Requirement already satisfied: requests<3.0.0,>=2.13.0 in /usr/local/lib/python3.7/dist-packages (from spacy<3.5.0,>=3.4.0->en-core-web-sm==3.4.0) (2.23.0)\n",
      "Requirement already satisfied: langcodes<4.0.0,>=3.2.0 in /usr/local/lib/python3.7/dist-packages (from spacy<3.5.0,>=3.4.0->en-core-web-sm==3.4.0) (3.3.0)\n",
      "Requirement already satisfied: murmurhash<1.1.0,>=0.28.0 in /usr/local/lib/python3.7/dist-packages (from spacy<3.5.0,>=3.4.0->en-core-web-sm==3.4.0) (1.0.8)\n",
      "Requirement already satisfied: pydantic!=1.8,!=1.8.1,<1.10.0,>=1.7.4 in /usr/local/lib/python3.7/dist-packages (from spacy<3.5.0,>=3.4.0->en-core-web-sm==3.4.0) (1.9.2)\n",
      "Requirement already satisfied: numpy>=1.15.0 in /usr/local/lib/python3.7/dist-packages (from spacy<3.5.0,>=3.4.0->en-core-web-sm==3.4.0) (1.21.6)\n",
      "Requirement already satisfied: jinja2 in /usr/local/lib/python3.7/dist-packages (from spacy<3.5.0,>=3.4.0->en-core-web-sm==3.4.0) (2.11.3)\n",
      "Requirement already satisfied: spacy-legacy<3.1.0,>=3.0.9 in /usr/local/lib/python3.7/dist-packages (from spacy<3.5.0,>=3.4.0->en-core-web-sm==3.4.0) (3.0.10)\n",
      "Requirement already satisfied: catalogue<2.1.0,>=2.0.6 in /usr/local/lib/python3.7/dist-packages (from spacy<3.5.0,>=3.4.0->en-core-web-sm==3.4.0) (2.0.8)\n",
      "Requirement already satisfied: srsly<3.0.0,>=2.4.3 in /usr/local/lib/python3.7/dist-packages (from spacy<3.5.0,>=3.4.0->en-core-web-sm==3.4.0) (2.4.4)\n",
      "Requirement already satisfied: wasabi<1.1.0,>=0.9.1 in /usr/local/lib/python3.7/dist-packages (from spacy<3.5.0,>=3.4.0->en-core-web-sm==3.4.0) (0.10.1)\n",
      "Requirement already satisfied: tqdm<5.0.0,>=4.38.0 in /usr/local/lib/python3.7/dist-packages (from spacy<3.5.0,>=3.4.0->en-core-web-sm==3.4.0) (4.64.1)\n",
      "Requirement already satisfied: preshed<3.1.0,>=3.0.2 in /usr/local/lib/python3.7/dist-packages (from spacy<3.5.0,>=3.4.0->en-core-web-sm==3.4.0) (3.0.7)\n",
      "Requirement already satisfied: thinc<8.2.0,>=8.1.0 in /usr/local/lib/python3.7/dist-packages (from spacy<3.5.0,>=3.4.0->en-core-web-sm==3.4.0) (8.1.2)\n",
      "Requirement already satisfied: setuptools in /usr/local/lib/python3.7/dist-packages (from spacy<3.5.0,>=3.4.0->en-core-web-sm==3.4.0) (57.4.0)\n",
      "Requirement already satisfied: spacy-loggers<2.0.0,>=1.0.0 in /usr/local/lib/python3.7/dist-packages (from spacy<3.5.0,>=3.4.0->en-core-web-sm==3.4.0) (1.0.3)\n",
      "Requirement already satisfied: packaging>=20.0 in /usr/local/lib/python3.7/dist-packages (from spacy<3.5.0,>=3.4.0->en-core-web-sm==3.4.0) (21.3)\n",
      "Requirement already satisfied: typer<0.5.0,>=0.3.0 in /usr/local/lib/python3.7/dist-packages (from spacy<3.5.0,>=3.4.0->en-core-web-sm==3.4.0) (0.4.2)\n",
      "Requirement already satisfied: pathy>=0.3.5 in /usr/local/lib/python3.7/dist-packages (from spacy<3.5.0,>=3.4.0->en-core-web-sm==3.4.0) (0.6.2)\n",
      "Requirement already satisfied: cymem<2.1.0,>=2.0.2 in /usr/local/lib/python3.7/dist-packages (from spacy<3.5.0,>=3.4.0->en-core-web-sm==3.4.0) (2.0.6)\n",
      "Requirement already satisfied: zipp>=0.5 in /usr/local/lib/python3.7/dist-packages (from catalogue<2.1.0,>=2.0.6->spacy<3.5.0,>=3.4.0->en-core-web-sm==3.4.0) (3.8.1)\n",
      "Requirement already satisfied: pyparsing!=3.0.5,>=2.0.2 in /usr/local/lib/python3.7/dist-packages (from packaging>=20.0->spacy<3.5.0,>=3.4.0->en-core-web-sm==3.4.0) (3.0.9)\n",
      "Requirement already satisfied: smart-open<6.0.0,>=5.2.1 in /usr/local/lib/python3.7/dist-packages (from pathy>=0.3.5->spacy<3.5.0,>=3.4.0->en-core-web-sm==3.4.0) (5.2.1)\n",
      "Requirement already satisfied: idna<3,>=2.5 in /usr/local/lib/python3.7/dist-packages (from requests<3.0.0,>=2.13.0->spacy<3.5.0,>=3.4.0->en-core-web-sm==3.4.0) (2.10)\n",
      "Requirement already satisfied: certifi>=2017.4.17 in /usr/local/lib/python3.7/dist-packages (from requests<3.0.0,>=2.13.0->spacy<3.5.0,>=3.4.0->en-core-web-sm==3.4.0) (2022.9.24)\n",
      "Requirement already satisfied: chardet<4,>=3.0.2 in /usr/local/lib/python3.7/dist-packages (from requests<3.0.0,>=2.13.0->spacy<3.5.0,>=3.4.0->en-core-web-sm==3.4.0) (3.0.4)\n",
      "Requirement already satisfied: urllib3!=1.25.0,!=1.25.1,<1.26,>=1.21.1 in /usr/local/lib/python3.7/dist-packages (from requests<3.0.0,>=2.13.0->spacy<3.5.0,>=3.4.0->en-core-web-sm==3.4.0) (1.24.3)\n",
      "Requirement already satisfied: confection<1.0.0,>=0.0.1 in /usr/local/lib/python3.7/dist-packages (from thinc<8.2.0,>=8.1.0->spacy<3.5.0,>=3.4.0->en-core-web-sm==3.4.0) (0.0.2)\n",
      "Requirement already satisfied: blis<0.8.0,>=0.7.8 in /usr/local/lib/python3.7/dist-packages (from thinc<8.2.0,>=8.1.0->spacy<3.5.0,>=3.4.0->en-core-web-sm==3.4.0) (0.7.8)\n",
      "Requirement already satisfied: click<9.0.0,>=7.1.1 in /usr/local/lib/python3.7/dist-packages (from typer<0.5.0,>=0.3.0->spacy<3.5.0,>=3.4.0->en-core-web-sm==3.4.0) (7.1.2)\n",
      "Requirement already satisfied: MarkupSafe>=0.23 in /usr/local/lib/python3.7/dist-packages (from jinja2->spacy<3.5.0,>=3.4.0->en-core-web-sm==3.4.0) (2.0.1)\n",
      "\u001b[38;5;2m✔ Download and installation successful\u001b[0m\n",
      "You can now load the package via spacy.load('en_core_web_sm')\n"
     ]
    }
   ],
   "source": [
    "!python -m spacy download en_core_web_sm"
   ]
  },
  {
   "cell_type": "code",
   "execution_count": 3,
   "metadata": {
    "colab": {
     "base_uri": "https://localhost:8080/"
    },
    "executionInfo": {
     "elapsed": 2395,
     "status": "ok",
     "timestamp": 1665449177741,
     "user": {
      "displayName": "Chris S",
      "userId": "08468368996988622896"
     },
     "user_tz": 240
    },
    "id": "JPMSxMdhx9DT",
    "outputId": "8b66edaa-a926-4503-9065-b198e322f1bb"
   },
   "outputs": [
    {
     "name": "stdout",
     "output_type": "stream",
     "text": [
      "Mounted at /content/drive\n"
     ]
    }
   ],
   "source": [
    "from google.colab import drive\n",
    "gdrive_mount ='/content/drive'\n",
    "drive.mount(gdrive_mount, force_remount=True)"
   ]
  },
  {
   "cell_type": "code",
   "execution_count": 4,
   "metadata": {
    "colab": {
     "base_uri": "https://localhost:8080/"
    },
    "executionInfo": {
     "elapsed": 318,
     "status": "ok",
     "timestamp": 1665449183662,
     "user": {
      "displayName": "Chris S",
      "userId": "08468368996988622896"
     },
     "user_tz": 240
    },
    "id": "JxmInQDfyNuw",
    "outputId": "4fa2df2f-8449-46e5-8a89-9394909b7c96"
   },
   "outputs": [
    {
     "name": "stdout",
     "output_type": "stream",
     "text": [
      "/content/drive/My Drive/NaturalLangaugeProcessing/lab05\n",
      "data  models  vecmap\n"
     ]
    }
   ],
   "source": [
    "labdir ='/content/drive/My Drive/NaturalLangaugeProcessing/lab05'\n",
    "# !mkdir -p \"$labdir\"\n",
    "# !mkdir -p \"$labdir/data\"\n",
    "# !mkdir -p \"$labdir/models\"\n",
    "%cd \"$labdir\"\n",
    "!ls"
   ]
  },
  {
   "cell_type": "code",
   "execution_count": 5,
   "metadata": {
    "executionInfo": {
     "elapsed": 1158,
     "status": "ok",
     "timestamp": 1665449189127,
     "user": {
      "displayName": "Chris S",
      "userId": "08468368996988622896"
     },
     "user_tz": 240
    },
    "id": "5CXJlsd235bV"
   },
   "outputs": [],
   "source": [
    "nlp = spacy.load('en_core_web_sm', disable = ['ner','parser'])"
   ]
  },
  {
   "cell_type": "code",
   "execution_count": 6,
   "metadata": {
    "executionInfo": {
     "elapsed": 264720,
     "status": "ok",
     "timestamp": 1665426947251,
     "user": {
      "displayName": "Chris S",
      "userId": "08468368996988622896"
     },
     "user_tz": 240
    },
    "id": "bgnC56Zu4Az_"
   },
   "outputs": [],
   "source": [
    "with open('data/small.txt','r') as infile:\n",
    "  collection = [[token.text for token in nlp(line.lower()) if not token.is_punct] for  line in infile]"
   ]
  },
  {
   "cell_type": "code",
   "execution_count": 7,
   "metadata": {
    "colab": {
     "base_uri": "https://localhost:8080/"
    },
    "executionInfo": {
     "elapsed": 5,
     "status": "ok",
     "timestamp": 1665426947252,
     "user": {
      "displayName": "Chris S",
      "userId": "08468368996988622896"
     },
     "user_tz": 240
    },
    "id": "lC2G9E6qDhpL",
    "outputId": "ecdd5675-26af-48c1-a680-f1ba9d65a829"
   },
   "outputs": [
    {
     "name": "stdout",
     "output_type": "stream",
     "text": [
      "['apparently', 'mr', 'mace', 'says', 'when', 'the', 'camera', 'flashed', 'the', 'grizzly', 'slashed', '\\n']\n"
     ]
    }
   ],
   "source": [
    "assert len(collection) == 50000,\"Load of small.txt failed\"\n",
    "print(collection[43])"
   ]
  },
  {
   "cell_type": "code",
   "execution_count": 8,
   "metadata": {
    "colab": {
     "base_uri": "https://localhost:8080/"
    },
    "executionInfo": {
     "elapsed": 33195,
     "status": "ok",
     "timestamp": 1665426980444,
     "user": {
      "displayName": "Chris S",
      "userId": "08468368996988622896"
     },
     "user_tz": 240
    },
    "id": "b04z2rMQD64d",
    "outputId": "596d679a-7deb-48e1-a042-767401c295b4"
   },
   "outputs": [
    {
     "name": "stdout",
     "output_type": "stream",
     "text": [
      "Word2Vec(vocab=26733, size=100, alpha=0.025)\n"
     ]
    }
   ],
   "source": [
    "model = Word2Vec(sentences=collection, size=100, window=5, min_count=2, sg=1, negative=8)\n",
    "print(model)"
   ]
  },
  {
   "cell_type": "markdown",
   "metadata": {
    "id": "r-yzEiCG1aFZ"
   },
   "source": [
    "**(10 points) To visualize the vector relationships between related words, make a 2-dimensionalprojection using PCA (principal component analysis). Create a scatter plot for this list of words:\n",
    "['paris', 'istanbul', 'moscow', 'france', 'turkey', 'russia', 'cat', 'dog','truck', 'train', 'two', 'three', 'four']\n",
    ".\n",
    "You may use the SKLearn PCA package,imported above, or your own favorite package. Be sure to run the PCA over all of the words in themodel, not just this list of words.**"
   ]
  },
  {
   "cell_type": "code",
   "execution_count": 136,
   "metadata": {
    "colab": {
     "base_uri": "https://localhost:8080/",
     "height": 300
    },
    "executionInfo": {
     "elapsed": 745,
     "status": "ok",
     "timestamp": 1665446095889,
     "user": {
      "displayName": "Chris S",
      "userId": "08468368996988622896"
     },
     "user_tz": 240
    },
    "id": "nWQ92vCEPc6L",
    "outputId": "b6480def-e3db-45a3-80e3-2e39e7a96dd7"
   },
   "outputs": [
    {
     "data": {
      "image/png": "[encoded data removed]",
      "text/plain": [
       "<Figure size 432x288 with 1 Axes>"
      ]
     },
     "metadata": {
      "needs_background": "light"
     },
     "output_type": "display_data"
    },
    {
     "name": "stdout",
     "output_type": "stream",
     "text": [
      "0.31279958043972594\n",
      "-0.3470704\n"
     ]
    }
   ],
   "source": [
    "pca_list=[]\n",
    "for word in model.wv.vocab.keys():\n",
    " pca_list.append(model.wv[word])\n",
    "\n",
    "\n",
    "pca = PCA(n_components=2)\n",
    "Xfit=pca.fit_transform(pca_list)\n",
    "# np.linalg.norm(Xfit[:,0])\n",
    "\n",
    "\n",
    "\n",
    "\n",
    "\n",
    "x=[]\n",
    "y=[]\n",
    "txt=[]\n",
    "wordList=['paris', 'istanbul', 'moscow', 'france', 'turkey', 'russia', 'cat', 'dog', 'truck', 'train', 'two', 'three', 'four']\n",
    "for w in wordList:\n",
    "  x.append(model.wv[w][0])\n",
    "  y.append(model.wv[w][1])\n",
    "  txt.append(w)\n",
    "\n",
    "X1 = [-.4]\n",
    "Y1 = [.20]\n",
    "\n",
    "U1 = [Xfit[0][0]]  \n",
    "V1 = [Xfit[1][0]] \n",
    "U2 =[Xfit[0][1]]\n",
    "V2 =[Xfit[1][1]]\n",
    "\n",
    "plt.scatter(x, y)\n",
    "plt.quiver(X1, Y1, U1, V1, color='y', units='xy', scale=5)\n",
    "plt.quiver(X1, Y1, U2, V2, color='r', units='xy', scale=5)\n",
    "for i, txti in enumerate(txt):\n",
    "    plt.annotate(txti, (x[i], y[i]))\n",
    "\n",
    "plt.show()\n",
    "print(Xfit[1][0])\n",
    "print(model.wv['paris'][0])"
   ]
  },
  {
   "cell_type": "code",
   "execution_count": null,
   "metadata": {
    "id": "fTmH05a3PdnW"
   },
   "outputs": [],
   "source": []
  },
  {
   "cell_type": "code",
   "execution_count": null,
   "metadata": {
    "id": "YNtlQkmePd54"
   },
   "outputs": [],
   "source": []
  },
  {
   "cell_type": "code",
   "execution_count": null,
   "metadata": {
    "id": "YXz-pkX7PeBU"
   },
   "outputs": [],
   "source": [
    "model = KeyedVectors.load_word2vec_format(\"data/GoogleNews-vectors-negative300.bin\", binary=True)"
   ]
  },
  {
   "cell_type": "code",
   "execution_count": 32,
   "metadata": {
    "colab": {
     "base_uri": "https://localhost:8080/"
    },
    "executionInfo": {
     "elapsed": 209,
     "status": "ok",
     "timestamp": 1665435225838,
     "user": {
      "displayName": "Chris S",
      "userId": "08468368996988622896"
     },
     "user_tz": 240
    },
    "id": "iGPrLGa8YkU4",
    "outputId": "33f7e905-7aea-4341-d8f7-1fa213654c37"
   },
   "outputs": [
    {
     "name": "stdout",
     "output_type": "stream",
     "text": [
      "[-0.09557633  0.12834084 -0.0196477  -0.12792784 -0.10276476  0.1212372\n",
      "  0.09147494 -0.20112972 -0.16169445  0.07238343 -0.04731987 -0.02234955\n",
      "  0.0139107  -0.10171024  0.26285756 -0.10666576  0.11222386 -0.03552349\n",
      "  0.18187374 -0.06558789  0.05781915 -0.19507135 -0.10940044 -0.0012089\n",
      "  0.0483851  -0.0434776   0.40909618  0.2623347  -0.1551834   0.12443314\n",
      " -0.0697987   0.3730893   0.01661772 -0.02401005  0.22415335 -0.33751926\n",
      "  0.21889485 -0.06299019  0.28127187 -0.25818458 -0.04431643  0.09503945\n",
      "  0.33766317  0.17448215  0.04475486  0.13554735 -0.06883849  0.00805323\n",
      " -0.00616184  0.06051381  0.24137019 -0.11565018 -0.01134476  0.0351477\n",
      "  0.11994879 -0.0042499   0.18992023  0.03546664  0.11726101 -0.29147878\n",
      " -0.17448571 -0.15612671 -0.07528943 -0.13552198  0.01067847  0.24790879\n",
      "  0.21992356  0.04451312 -0.0077791   0.10975255  0.0987324   0.16470413\n",
      " -0.18274347 -0.22847559  0.00439905 -0.1573938   0.09526734  0.09075328\n",
      " -0.37637007  0.01713455  0.1651875   0.00393039  0.07148931 -0.04898896\n",
      "  0.0136927  -0.2071919  -0.22950369 -0.17180921  0.14944613  0.08267787\n",
      " -0.17949708  0.40799102 -0.02086043 -0.1197935   0.00859684 -0.08620658\n",
      " -0.1732235   0.11454305 -0.22703925 -0.05503926]\n"
     ]
    },
    {
     "name": "stderr",
     "output_type": "stream",
     "text": [
      "/usr/local/lib/python3.7/dist-packages/ipykernel_launcher.py:1: DeprecationWarning: Call to deprecated `__getitem__` (Method will be removed in 4.0.0, use self.wv.__getitem__() instead).\n",
      "  \"\"\"Entry point for launching an IPython kernel.\n"
     ]
    }
   ],
   "source": [
    "print(model['purple'])"
   ]
  },
  {
   "cell_type": "code",
   "execution_count": null,
   "metadata": {
    "id": "B3RupKzKYmzB"
   },
   "outputs": [],
   "source": [
    "# model.wv['mr'] #: vector for word x\n",
    "# model.wv.similarity('you','mr')  #cosine similarity between vectors for x and y\n",
    "# model.wv.distance('you', 'mr')  #: 1 - cosine similarity of x and y\n",
    "# model.wv.most_similar(positive=[x, y, z], negative=[a, b, c], topn=k):  return k-most similar\n",
    "# model.wv.most_similar_cosmul: like most_similar with a different function for three word analogies"
   ]
  },
  {
   "cell_type": "code",
   "execution_count": null,
   "metadata": {
    "colab": {
     "base_uri": "https://localhost:8080/"
    },
    "executionInfo": {
     "elapsed": 10080,
     "status": "ok",
     "timestamp": 1665353104746,
     "user": {
      "displayName": "Chris S",
      "userId": "08468368996988622896"
     },
     "user_tz": 240
    },
    "id": "fFVxyN62aBgM",
    "outputId": "2d0b504a-ae1d-4be3-c4c4-4b8a222dd02e"
   },
   "outputs": [
    {
     "data": {
      "text/plain": [
       "[('wines', 0.861979067325592),\n",
       " ('chardonnay', 0.7595281004905701),\n",
       " ('pinot_noir', 0.7584253549575806),\n",
       " ('sparkling_wine', 0.7562699317932129),\n",
       " ('sparkling_wines', 0.7555115222930908),\n",
       " ('pinot', 0.7421018481254578),\n",
       " ('rosé', 0.7397210597991943),\n",
       " ('vino', 0.7260570526123047),\n",
       " ('merlot', 0.7179162502288818),\n",
       " ('Pinot_Noir', 0.7176920175552368)]"
      ]
     },
     "execution_count": 13,
     "metadata": {},
     "output_type": "execute_result"
    }
   ],
   "source": [
    "model.most_similar (positive=['wine'])"
   ]
  },
  {
   "cell_type": "code",
   "execution_count": null,
   "metadata": {
    "id": "mx2OCqvpfVYq"
   },
   "outputs": [],
   "source": []
  },
  {
   "cell_type": "markdown",
   "metadata": {
    "id": "8meFC7ngfV0Y"
   },
   "source": [
    "**(3 points) Use the API to fi nd the words most similar to 'fascinating,' 'cultivate,' and  'eggplant,' and report your results. Is any of the  most similar words a reasonable synonym or  antonym for the inputword?**"
   ]
  },
  {
   "cell_type": "code",
   "execution_count": null,
   "metadata": {
    "colab": {
     "base_uri": "https://localhost:8080/"
    },
    "executionInfo": {
     "elapsed": 171,
     "status": "ok",
     "timestamp": 1665353104906,
     "user": {
      "displayName": "Chris S",
      "userId": "08468368996988622896"
     },
     "user_tz": 240
    },
    "id": "gBQ07WRwf4D4",
    "outputId": "392dcdaa-000b-42c0-e12d-a25c2770393f"
   },
   "outputs": [
    {
     "data": {
      "text/plain": [
       "[('interesting', 0.762306809425354),\n",
       " ('intriguing', 0.7245113849639893),\n",
       " ('enlightening', 0.6644250154495239),\n",
       " ('captivating', 0.6459898948669434),\n",
       " ('facinating', 0.6416683793067932),\n",
       " ('riveting', 0.6324825286865234),\n",
       " ('instructive', 0.6210989356040955),\n",
       " ('endlessly_fascinating', 0.618861198425293),\n",
       " ('revelatory', 0.6170243620872498),\n",
       " ('engrossing', 0.6126049160957336)]"
      ]
     },
     "execution_count": 14,
     "metadata": {},
     "output_type": "execute_result"
    }
   ],
   "source": [
    "model.most_similar (positive=['fascinating'])"
   ]
  },
  {
   "cell_type": "code",
   "execution_count": null,
   "metadata": {
    "colab": {
     "base_uri": "https://localhost:8080/"
    },
    "executionInfo": {
     "elapsed": 1183,
     "status": "ok",
     "timestamp": 1665353106088,
     "user": {
      "displayName": "Chris S",
      "userId": "08468368996988622896"
     },
     "user_tz": 240
    },
    "id": "rMtXbYIvgCFW",
    "outputId": "802db860-9cfd-44ab-8131-bd8f8b2a7276"
   },
   "outputs": [
    {
     "data": {
      "text/plain": [
       "[('cultivating', 0.7274794578552246),\n",
       " ('cultivated', 0.6766660213470459),\n",
       " ('nurture', 0.6695470809936523),\n",
       " ('cultivates', 0.6159786581993103),\n",
       " ('develop', 0.6053071618080139),\n",
       " ('Cultivate', 0.5910324454307556),\n",
       " ('Cultivating', 0.5667836666107178),\n",
       " ('nuture', 0.5440778732299805),\n",
       " ('nourish', 0.5328434705734253),\n",
       " ('grow', 0.5282535552978516)]"
      ]
     },
     "execution_count": 15,
     "metadata": {},
     "output_type": "execute_result"
    }
   ],
   "source": [
    "model.most_similar (positive=['cultivate'])"
   ]
  },
  {
   "cell_type": "code",
   "execution_count": null,
   "metadata": {
    "colab": {
     "base_uri": "https://localhost:8080/"
    },
    "executionInfo": {
     "elapsed": 10,
     "status": "ok",
     "timestamp": 1665353106088,
     "user": {
      "displayName": "Chris S",
      "userId": "08468368996988622896"
     },
     "user_tz": 240
    },
    "id": "RpnlmgfZgI1c",
    "outputId": "ee2a8ee7-c13e-408d-82eb-91e9064afbe3"
   },
   "outputs": [
    {
     "data": {
      "text/plain": [
       "[('zucchini', 0.726477861404419),\n",
       " ('cauliflower', 0.6968439221382141),\n",
       " ('eggplants', 0.6966414451599121),\n",
       " ('bok_choy', 0.690737247467041),\n",
       " ('bell_peppers', 0.6875451803207397),\n",
       " ('broccoli_rabe', 0.6864162087440491),\n",
       " ('bell_pepper', 0.685966432094574),\n",
       " ('asparagus', 0.6851089000701904),\n",
       " ('pesto', 0.6766840219497681),\n",
       " ('escarole', 0.6759322881698608)]"
      ]
     },
     "execution_count": 16,
     "metadata": {},
     "output_type": "execute_result"
    }
   ],
   "source": [
    "model.most_similar (positive=['eggplant'])"
   ]
  },
  {
   "cell_type": "markdown",
   "metadata": {
    "id": "vj8cjJw9Bohw"
   },
   "source": [
    "**(2 points) Do you believe that the similarity / distance functions are intuitive? For example, are pairs like mother/father closer than mother/ocean? Explain your reasoning.**"
   ]
  },
  {
   "cell_type": "markdown",
   "metadata": {
    "id": "eBQx7TZXDSa4"
   },
   "source": [
    "The cosine similarity measure shows that mother/ father are close in similiarty while mother / ocean is much less similar. The distance measure simply reflect the 1- cosine similarity of the pair"
   ]
  },
  {
   "cell_type": "code",
   "execution_count": null,
   "metadata": {
    "colab": {
     "base_uri": "https://localhost:8080/"
    },
    "executionInfo": {
     "elapsed": 8,
     "status": "ok",
     "timestamp": 1665353106089,
     "user": {
      "displayName": "Chris S",
      "userId": "08468368996988622896"
     },
     "user_tz": 240
    },
    "id": "sT9HVNAWClms",
    "outputId": "df6884cf-22ea-456e-9f2f-a248044b2f9e"
   },
   "outputs": [
    {
     "name": "stdout",
     "output_type": "stream",
     "text": [
      "The cosine similarity of mother/father is : 0.79014826 The distance is : 0.20985174179077148\n",
      "The cosine similarity of mother/ocean is : 0.10562345 The distance is : 0.8943765535950661\n"
     ]
    }
   ],
   "source": [
    "print('The cosine similarity of mother/father is :',model.similarity('mother','father'), 'The distance is :',model.distance('mother', 'father'))\n",
    "print('The cosine similarity of mother/ocean is :',model.similarity('mother','ocean'), 'The distance is :',model.distance('mother', 'ocean'))\n",
    "\n",
    "\n"
   ]
  },
  {
   "cell_type": "markdown",
   "metadata": {
    "id": "CJ6ecLvhHU-s"
   },
   "source": [
    "**(2 points) According to the API, which words best complete the analogy, puppies is to dog as X isto cat?**"
   ]
  },
  {
   "cell_type": "code",
   "execution_count": null,
   "metadata": {
    "colab": {
     "base_uri": "https://localhost:8080/"
    },
    "executionInfo": {
     "elapsed": 6,
     "status": "ok",
     "timestamp": 1665353106089,
     "user": {
      "displayName": "Chris S",
      "userId": "08468368996988622896"
     },
     "user_tz": 240
    },
    "id": "jdvaVvBnHaOs",
    "outputId": "d2034ba8-604d-4052-bf5e-b7cb54379a97"
   },
   "outputs": [
    {
     "data": {
      "text/plain": [
       "('kittens', 0.8321467638015747)"
      ]
     },
     "execution_count": 18,
     "metadata": {},
     "output_type": "execute_result"
    }
   ],
   "source": [
    "model.most_similar (positive=['puppies'])[0]"
   ]
  },
  {
   "cell_type": "markdown",
   "metadata": {
    "id": "FAWApyMvKKVG"
   },
   "source": [
    "**(4 points) A classic example is queen = (king - man) + woman. Find two other interesting analogies using the API.**"
   ]
  },
  {
   "cell_type": "markdown",
   "metadata": {
    "id": "rZ0lEGPCHcU3"
   },
   "source": []
  },
  {
   "cell_type": "code",
   "execution_count": null,
   "metadata": {
    "colab": {
     "base_uri": "https://localhost:8080/"
    },
    "executionInfo": {
     "elapsed": 473,
     "status": "ok",
     "timestamp": 1665353106558,
     "user": {
      "displayName": "Chris S",
      "userId": "08468368996988622896"
     },
     "user_tz": 240
    },
    "id": "Hc0mozRwHT5b",
    "outputId": "c2e29c3e-b7f7-4f56-d1ff-e580b15da4c2"
   },
   "outputs": [
    {
     "name": "stdout",
     "output_type": "stream",
     "text": [
      "('queen', 0.7118192911148071)\n",
      "('softball', 0.7290028929710388)\n",
      "('town', 0.448047012090683)\n",
      "('bungalow', 0.3816678524017334)\n"
     ]
    }
   ],
   "source": [
    "print(model.most_similar(positive=['king','woman'],negative=['man'])[0])\n",
    "print(model.most_similar(positive=['football','baseball','soccer', 'basketball'],negative=['players'])[0])\n",
    "print(model.most_similar(positive=['city'],negative=['crime'])[0])\n",
    "print((model.most_similar(positive=['house'],negative=['windows'])[0]))"
   ]
  },
  {
   "cell_type": "markdown",
   "metadata": {
    "id": "pcJnAsr-LLKq"
   },
   "source": [
    "**(6 points) Compare the embedding vectors for pairs of words that are synonyms, antonyms, similar,related, or subordinate/superordinate. Given a pair of words, do you think it is possible to determinewhether they are:\n",
    " a) synonymous, b) antonymous, c) similar, d) related, e) subordinate/superordinate, or f) unrelated, using only their embedding vectors? Give your reasoning for each category of relationship.**"
   ]
  },
  {
   "cell_type": "markdown",
   "metadata": {
    "id": "p0XmlK3r4BMm"
   },
   "source": []
  },
  {
   "cell_type": "code",
   "execution_count": null,
   "metadata": {
    "colab": {
     "base_uri": "https://localhost:8080/"
    },
    "executionInfo": {
     "elapsed": 226,
     "status": "ok",
     "timestamp": 1665358596702,
     "user": {
      "displayName": "Chris S",
      "userId": "08468368996988622896"
     },
     "user_tz": 240
    },
    "id": "tdrJ19sMLQbP",
    "outputId": "42a746b4-c972-4879-dd78-c49a90d3fdc1"
   },
   "outputs": [
    {
     "name": "stdout",
     "output_type": "stream",
     "text": [
      "Similarity between synonyms bad and awful : 0.5527253\n",
      "Similarity between antonyms early and late : 0.8121283\n",
      "Similarity between similar words car and truck : 0.67357904\n",
      "Similarity between related words flight and jet : 0.5873552\n",
      "Similarity between superordinate/subordinate home and apartment : 0.45603448\n",
      "Similarity between unrelated words apple and gasoline : 0.11532139\n"
     ]
    }
   ],
   "source": [
    "print('Similarity between synonyms bad and awful :',model.similarity('bad','awful'))\n",
    "print('Similarity between antonyms early and late :',model.similarity('early','late'))\n",
    "print('Similarity between similar words car and truck :',model.similarity('car','truck'))\n",
    "print('Similarity between related words flight and jet :',model.similarity('flight','jet'))\n",
    "print('Similarity between superordinate/subordinate home and apartment :',model.similarity('home','apartment'))\n",
    "print('Similarity between unrelated words apple and gasoline :',model.similarity('apple','gasoline'))"
   ]
  },
  {
   "cell_type": "code",
   "execution_count": null,
   "metadata": {
    "colab": {
     "base_uri": "https://localhost:8080/"
    },
    "executionInfo": {
     "elapsed": 1496,
     "status": "ok",
     "timestamp": 1665357812091,
     "user": {
      "displayName": "Chris S",
      "userId": "08468368996988622896"
     },
     "user_tz": 240
    },
    "id": "f10i05cUDyuZ",
    "outputId": "5949d119-6056-4bf5-f642-e3a7793a1b86"
   },
   "outputs": [
    {
     "data": {
      "text/plain": [
       "[('good', 0.7190051078796387),\n",
       " ('terrible', 0.6828612089157104),\n",
       " ('horrible', 0.6702598333358765),\n",
       " ('Bad', 0.6698919534683228),\n",
       " ('lousy', 0.6647640466690063),\n",
       " ('crummy', 0.5677819848060608),\n",
       " ('horrid', 0.5651682615280151),\n",
       " ('awful', 0.5527253150939941),\n",
       " ('dreadful', 0.5526429414749146),\n",
       " ('horrendous', 0.5445997714996338)]"
      ]
     },
     "execution_count": 30,
     "metadata": {},
     "output_type": "execute_result"
    }
   ],
   "source": [
    "model.most_similar (positive=['bad'])"
   ]
  },
  {
   "cell_type": "markdown",
   "metadata": {
    "id": "GoHwIPfOLRUD"
   },
   "source": [
    "**(3 points) Record any interesting observations, and report any examples you like of good or dubious performance.**"
   ]
  },
  {
   "cell_type": "markdown",
   "metadata": {
    "id": "ho_ftqao3_68"
   },
   "source": []
  },
  {
   "cell_type": "code",
   "execution_count": null,
   "metadata": {
    "id": "Zpp2acbmLYVb"
   },
   "outputs": [],
   "source": []
  },
  {
   "cell_type": "markdown",
   "metadata": {
    "id": "U7jmXQhZHwYs"
   },
   "source": [
    "#Part B: Using Word Embeddings to Learn Translations"
   ]
  },
  {
   "cell_type": "code",
   "execution_count": 20,
   "metadata": {
    "colab": {
     "base_uri": "https://localhost:8080/"
    },
    "executionInfo": {
     "elapsed": 868,
     "status": "ok",
     "timestamp": 1665453489155,
     "user": {
      "displayName": "Chris S",
      "userId": "08468368996988622896"
     },
     "user_tz": 240
    },
    "id": "Mdt2MPdpHymR",
    "outputId": "f0a5991a-17f5-4c48-d27a-b886e46b722f"
   },
   "outputs": [
    {
     "name": "stdout",
     "output_type": "stream",
     "text": [
      "Cloning into 'vecmap2'...\n",
      "fatal: could not read Username for 'https://github.com': No such device or address\n"
     ]
    }
   ],
   "source": [
    "!git clone https://github.com/artetxem/vecmap"
   ]
  },
  {
   "cell_type": "code",
   "execution_count": null,
   "metadata": {
    "colab": {
     "base_uri": "https://localhost:8080/"
    },
    "executionInfo": {
     "elapsed": 1418,
     "status": "ok",
     "timestamp": 1665361325888,
     "user": {
      "displayName": "Chris S",
      "userId": "08468368996988622896"
     },
     "user_tz": 240
    },
    "id": "wpcijBmsRRks",
    "outputId": "cd8b77be-f0ab-4a08-89a3-58bac02ab177"
   },
   "outputs": [
    {
     "name": "stdout",
     "output_type": "stream",
     "text": [
      "/content/drive/My Drive/NaturalLangaugeProcessing/lab05\n",
      "data  models  vecmap\n"
     ]
    }
   ],
   "source": [
    "labdir ='/content/drive/My Drive/NaturalLangaugeProcessing/lab05'\n",
    "!mkdir -p \"$labdir\"\n",
    "!mkdir -p \"$labdir/data\"\n",
    "!mkdir -p \"$labdir/models\"\n",
    "%cd \"$labdir\"\n",
    "!ls"
   ]
  },
  {
   "cell_type": "code",
   "execution_count": null,
   "metadata": {
    "id": "L-4J9ykAITir"
   },
   "outputs": [],
   "source": [
    "def loadfile(filename):\n",
    "  with open(filename,'r') as infile:\n",
    "    collection = [[token.text for token in nlp(line.lower()) if not token.is_punct] for  line in infile]\n",
    "  return collection\n",
    "ensents = loadfile('data/eng.txt')\n",
    "essents = loadfile('data/spa.txt')\n",
    "enmodel = Word2Vec(sentences=ensents, size=100, window=5, min_count=2, sg=1, negative=8)\n",
    "enmodel.wv.save_word2vec_format('models/eng.w2v.model')\n",
    "esmodel = Word2Vec(sentences=essents, size=100, window=5, min_count=2, sg=1, negative=8)\n",
    "esmodel.wv.save_word2vec_format('models/spa.w2v.model')"
   ]
  },
  {
   "cell_type": "code",
   "execution_count": 26,
   "metadata": {
    "colab": {
     "base_uri": "https://localhost:8080/"
    },
    "executionInfo": {
     "elapsed": 34874,
     "status": "ok",
     "timestamp": 1665455520900,
     "user": {
      "displayName": "Chris S",
      "userId": "08468368996988622896"
     },
     "user_tz": 240
    },
    "id": "zWCdcFKTIVMa",
    "outputId": "4c168aa8-d27c-4a57-ad58-48b088477028"
   },
   "outputs": [
    {
     "name": "stdout",
     "output_type": "stream",
     "text": [
      "['']\n",
      "['\\n']\n",
      "['\\x85\\n']\n",
      "WARNING: OOV dictionary entry (sure - sure)\n",
      "WARNING: OOV dictionary entry (employment - employment)\n",
      "WARNING: OOV dictionary entry (lubina - bass)\n",
      "WARNING: OOV dictionary entry (cornwall - cornwall)\n",
      "WARNING: OOV dictionary entry (ocm - com)\n"
     ]
    }
   ],
   "source": [
    "!python3 vecmap/map_embeddings.py --supervised data/es-en.train.txt models/spa.w2v.model models/eng.w2v.model \\\n",
    "\t\t\tmodels/spa_mapped.emb models/eng_mapped.emb"
   ]
  },
  {
   "cell_type": "code",
   "execution_count": 27,
   "metadata": {
    "colab": {
     "base_uri": "https://localhost:8080/",
     "height": 467
    },
    "executionInfo": {
     "elapsed": 13559,
     "status": "error",
     "timestamp": 1665455566154,
     "user": {
      "displayName": "Chris S",
      "userId": "08468368996988622896"
     },
     "user_tz": 240
    },
    "id": "qhQzRxunIlwn",
    "outputId": "4e4a22ff-3232-47cd-d056-90460ba1cd8d"
   },
   "outputs": [
    {
     "name": "stderr",
     "output_type": "stream",
     "text": [
      "WARNING:gensim.models.utils_any2vec:duplicate word '　' in models/spa_mapped.emb, ignoring all but first\n",
      "WARNING:gensim.models.utils_any2vec:duplicate word ' ' in models/spa_mapped.emb, ignoring all but first\n",
      "WARNING:gensim.models.utils_any2vec:duplicate word ' ' in models/spa_mapped.emb, ignoring all but first\n",
      "WARNING:gensim.models.utils_any2vec:duplicate word '   ' in models/spa_mapped.emb, ignoring all but first\n",
      "WARNING:gensim.models.utils_any2vec:duplicate word ' ' in models/spa_mapped.emb, ignoring all but first\n"
     ]
    },
    {
     "ename": "EOFError",
     "evalue": "ignored",
     "output_type": "error",
     "traceback": [
      "\u001b[0;31m---------------------------------------------------------------------------\u001b[0m",
      "\u001b[0;31mEOFError\u001b[0m                                  Traceback (most recent call last)",
      "\u001b[0;32m<ipython-input-27-521274e2b245>\u001b[0m in \u001b[0;36m<module>\u001b[0;34m\u001b[0m\n\u001b[0;32m----> 1\u001b[0;31m \u001b[0mspa2eng\u001b[0m \u001b[0;34m=\u001b[0m \u001b[0mgensim\u001b[0m\u001b[0;34m.\u001b[0m\u001b[0mmodels\u001b[0m\u001b[0;34m.\u001b[0m\u001b[0mKeyedVectors\u001b[0m\u001b[0;34m.\u001b[0m\u001b[0mload_word2vec_format\u001b[0m\u001b[0;34m(\u001b[0m\u001b[0;34m'models/spa_mapped.emb'\u001b[0m\u001b[0;34m)\u001b[0m\u001b[0;34m\u001b[0m\u001b[0;34m\u001b[0m\u001b[0m\n\u001b[0m\u001b[1;32m      2\u001b[0m \u001b[0meng2spa\u001b[0m \u001b[0;34m=\u001b[0m \u001b[0mgensim\u001b[0m\u001b[0;34m.\u001b[0m\u001b[0mmodels\u001b[0m\u001b[0;34m.\u001b[0m\u001b[0mKeyedVectors\u001b[0m\u001b[0;34m.\u001b[0m\u001b[0mload_word2vec_format\u001b[0m\u001b[0;34m(\u001b[0m\u001b[0;34m'models/eng_mapped.emb'\u001b[0m\u001b[0;34m)\u001b[0m\u001b[0;34m\u001b[0m\u001b[0;34m\u001b[0m\u001b[0m\n\u001b[1;32m      3\u001b[0m \u001b[0;34m\u001b[0m\u001b[0m\n\u001b[1;32m      4\u001b[0m for word in ['playa', 'villa', 'perros', 'naufragio', 'islas', 'cantar', 'calles', 'naranjas', 'bomberos', \\\n\u001b[1;32m      5\u001b[0m \t'escalera', 'nadó','frontera', 'pasaporte', 'fábrica']:\n",
      "\u001b[0;32m/usr/local/lib/python3.7/dist-packages/gensim/models/keyedvectors.py\u001b[0m in \u001b[0;36mload_word2vec_format\u001b[0;34m(cls, fname, fvocab, binary, encoding, unicode_errors, limit, datatype)\u001b[0m\n\u001b[1;32m   1436\u001b[0m         return _load_word2vec_format(\n\u001b[1;32m   1437\u001b[0m             \u001b[0mcls\u001b[0m\u001b[0;34m,\u001b[0m \u001b[0mfname\u001b[0m\u001b[0;34m,\u001b[0m \u001b[0mfvocab\u001b[0m\u001b[0;34m=\u001b[0m\u001b[0mfvocab\u001b[0m\u001b[0;34m,\u001b[0m \u001b[0mbinary\u001b[0m\u001b[0;34m=\u001b[0m\u001b[0mbinary\u001b[0m\u001b[0;34m,\u001b[0m \u001b[0mencoding\u001b[0m\u001b[0;34m=\u001b[0m\u001b[0mencoding\u001b[0m\u001b[0;34m,\u001b[0m \u001b[0municode_errors\u001b[0m\u001b[0;34m=\u001b[0m\u001b[0municode_errors\u001b[0m\u001b[0;34m,\u001b[0m\u001b[0;34m\u001b[0m\u001b[0;34m\u001b[0m\u001b[0m\n\u001b[0;32m-> 1438\u001b[0;31m             limit=limit, datatype=datatype)\n\u001b[0m\u001b[1;32m   1439\u001b[0m \u001b[0;34m\u001b[0m\u001b[0m\n\u001b[1;32m   1440\u001b[0m     \u001b[0;32mdef\u001b[0m \u001b[0mget_keras_embedding\u001b[0m\u001b[0;34m(\u001b[0m\u001b[0mself\u001b[0m\u001b[0;34m,\u001b[0m \u001b[0mtrain_embeddings\u001b[0m\u001b[0;34m=\u001b[0m\u001b[0;32mFalse\u001b[0m\u001b[0;34m)\u001b[0m\u001b[0;34m:\u001b[0m\u001b[0;34m\u001b[0m\u001b[0;34m\u001b[0m\u001b[0m\n",
      "\u001b[0;32m/usr/local/lib/python3.7/dist-packages/gensim/models/utils_any2vec.py\u001b[0m in \u001b[0;36m_load_word2vec_format\u001b[0;34m(cls, fname, fvocab, binary, encoding, unicode_errors, limit, datatype)\u001b[0m\n\u001b[1;32m    216\u001b[0m                 \u001b[0mline\u001b[0m \u001b[0;34m=\u001b[0m \u001b[0mfin\u001b[0m\u001b[0;34m.\u001b[0m\u001b[0mreadline\u001b[0m\u001b[0;34m(\u001b[0m\u001b[0;34m)\u001b[0m\u001b[0;34m\u001b[0m\u001b[0;34m\u001b[0m\u001b[0m\n\u001b[1;32m    217\u001b[0m                 \u001b[0;32mif\u001b[0m \u001b[0mline\u001b[0m \u001b[0;34m==\u001b[0m \u001b[0;34mb''\u001b[0m\u001b[0;34m:\u001b[0m\u001b[0;34m\u001b[0m\u001b[0;34m\u001b[0m\u001b[0m\n\u001b[0;32m--> 218\u001b[0;31m                     \u001b[0;32mraise\u001b[0m \u001b[0mEOFError\u001b[0m\u001b[0;34m(\u001b[0m\u001b[0;34m\"unexpected end of input; is count incorrect or file otherwise damaged?\"\u001b[0m\u001b[0;34m)\u001b[0m\u001b[0;34m\u001b[0m\u001b[0;34m\u001b[0m\u001b[0m\n\u001b[0m\u001b[1;32m    219\u001b[0m                 \u001b[0mparts\u001b[0m \u001b[0;34m=\u001b[0m \u001b[0mutils\u001b[0m\u001b[0;34m.\u001b[0m\u001b[0mto_unicode\u001b[0m\u001b[0;34m(\u001b[0m\u001b[0mline\u001b[0m\u001b[0;34m.\u001b[0m\u001b[0mrstrip\u001b[0m\u001b[0;34m(\u001b[0m\u001b[0;34m)\u001b[0m\u001b[0;34m,\u001b[0m \u001b[0mencoding\u001b[0m\u001b[0;34m=\u001b[0m\u001b[0mencoding\u001b[0m\u001b[0;34m,\u001b[0m \u001b[0merrors\u001b[0m\u001b[0;34m=\u001b[0m\u001b[0municode_errors\u001b[0m\u001b[0;34m)\u001b[0m\u001b[0;34m.\u001b[0m\u001b[0msplit\u001b[0m\u001b[0;34m(\u001b[0m\u001b[0;34m\" \"\u001b[0m\u001b[0;34m)\u001b[0m\u001b[0;34m\u001b[0m\u001b[0;34m\u001b[0m\u001b[0m\n\u001b[1;32m    220\u001b[0m                 \u001b[0;32mif\u001b[0m \u001b[0mlen\u001b[0m\u001b[0;34m(\u001b[0m\u001b[0mparts\u001b[0m\u001b[0;34m)\u001b[0m \u001b[0;34m!=\u001b[0m \u001b[0mvector_size\u001b[0m \u001b[0;34m+\u001b[0m \u001b[0;36m1\u001b[0m\u001b[0;34m:\u001b[0m\u001b[0;34m\u001b[0m\u001b[0;34m\u001b[0m\u001b[0m\n",
      "\u001b[0;31mEOFError\u001b[0m: unexpected end of input; is count incorrect or file otherwise damaged?"
     ]
    }
   ],
   "source": [
    "spa2eng = gensim.models.KeyedVectors.load_word2vec_format('models/spa_mapped.emb')\n",
    "eng2spa = gensim.models.KeyedVectors.load_word2vec_format('models/eng_mapped.emb')\n",
    "\n",
    "for word in ['playa', 'villa', 'perros', 'naufragio', 'islas', 'cantar', 'calles', 'naranjas', 'bomberos', \\\n",
    "\t'escalera', 'nadó','frontera', 'pasaporte', 'fábrica']:\n",
    "  print (\"%s %s\" % (word, eng2spa.similar_by_vector(spa2eng[word])[0]))"
   ]
  },
  {
   "cell_type": "markdown",
   "metadata": {
    "id": "zYpog7X4LY62"
   },
   "source": []
  }
 ],
 "metadata": {
  "colab": {
   "authorship_tag": "ABX9TyNOBQpQIVAlA6fk62flpsCu",
   "collapsed_sections": [],
   "machine_shape": "hm",
   "provenance": []
  },
  "kernelspec": {
   "display_name": "Python 3 (ipykernel)",
   "language": "python",
   "name": "python3"
  },
  "language_info": {
   "codemirror_mode": {
    "name": "ipython",
    "version": 3
   },
   "file_extension": ".py",
   "mimetype": "text/x-python",
   "name": "python",
   "nbconvert_exporter": "python",
   "pygments_lexer": "ipython3",
   "version": "3.11.7"
  }
 },
 "nbformat": 4,
 "nbformat_minor": 4
}
