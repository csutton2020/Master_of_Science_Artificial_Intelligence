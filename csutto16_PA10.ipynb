{
 "cells": [
  {
   "cell_type": "markdown",
   "metadata": {},
   "source": [
    "# Module 10 - Programming Assignment\n"
   ]
  },
  {
   "cell_type": "markdown",
   "metadata": {},
   "source": [
    "# Forward Planner\n",
    "\n",
    "## Unify\n",
    "\n",
    "Use the accompanying `unification.py` file for unification. For this assignment, you're almost certainly going to want to be able to:\n",
    "\n",
    "1. specify the problem in terms of S-expressions.\n",
    "2. parse them.\n",
    "3. work with the parsed versions.\n",
    "\n",
    "`parse` and `unification` work exactly like the programming assignment for last time."
   ]
  },
  {
   "cell_type": "code",
   "execution_count": 16,
   "metadata": {},
   "outputs": [],
   "source": [
    "from unification import parse, unification, unify "
   ]
  },
  {
   "cell_type": "markdown",
   "metadata": {},
   "source": [
    "## Forward Planner\n",
    "\n",
    "In this assigment, you're going to implement a Forward Planner. What does that mean? If you look in your book, you will not find pseudocode for a forward planner. It just says \"use state space search\" but this is less than helpful and it's a bit more complicated than that. **(but please please do not try to implement STRIPS or GraphPlan...that is wrong).**\n",
    "\n",
    "At a high level, a forward planner takes the current state of the world $S_0$ and attempts to derive a plan, basically by Depth First Search. We have all the ingredients we said we would need in Module 1: states, actions, a transition function and a goal test. We have a set of predicates that describe a state (and therefore all possible states), we have actions and we have, at least, an implicit transition function: applying an action in a state causes the state to change as described by the add and delete lists.\n",
    "\n",
    "Let's say we have a drill that's an item, two places such as home and store, and we know that I'm at home and the drill is at the store and I want to go buy a drill (have it be at home). We might represent that as:\n",
    "\n",
    "<code>\n",
    "start_state = [\n",
    "    \"(item Saw)\",\n",
    "    \"(item Drill)\",\n",
    "    \"(place Home)\",\n",
    "    \"(place Store)\",\n",
    "    \"(place Bank)\",\n",
    "    \"(agent Me)\",\n",
    "    \"(at Me Home)\",\n",
    "    \"(at Saw Store)\",\n",
    "    \"(at Drill Store)\",\n",
    "    \"(at Money Bank)\"\n",
    "]\n",
    "</code>\n",
    "\n",
    "And we have a goal state:\n",
    "\n",
    "<code>\n",
    "goal = [\n",
    "    \"(item Saw)\",\n",
    "    \"(item Drill)\",\n",
    "    \"(place Home)\",\n",
    "    \"(place Store)\",\n",
    "    \"(place Bank)\",\n",
    "    \"(agent Me)\",\n",
    "    \"(at Me Home)\",\n",
    "    \"(at Drill Me)\",\n",
    "    \"(at Saw Store)\",\n",
    "    \"(at Money Bank)\"\n",
    "]\n",
    "</code>\n",
    "\n",
    "The actions/operators are:\n",
    "\n",
    "<code>\n",
    "actions = {\n",
    "    \"drive\": {\n",
    "        \"action\": \"(drive ?agent ?from ?to)\",\n",
    "        \"conditions\": [\n",
    "            \"(agent ?agent)\",\n",
    "            \"(place ?from)\",\n",
    "            \"(place ?to)\",\n",
    "            \"(at ?agent ?from)\"\n",
    "        ],\n",
    "        \"add\": [\n",
    "            \"(at ?agent ?to)\"\n",
    "        ],\n",
    "        \"delete\": [\n",
    "            \"(at ?agent ?from)\"\n",
    "        ]\n",
    "    },\n",
    "    \"buy\": {\n",
    "        \"action\": \"(buy ?purchaser ?seller ?item)\",\n",
    "        \"conditions\": [\n",
    "            \"(item ?item)\",\n",
    "            \"(place ?seller)\",\n",
    "            \"(agent ?purchaser)\",\n",
    "            \"(at ?item ?seller)\",\n",
    "            \"(at ?purchaser ?seller)\"\n",
    "        ],\n",
    "        \"add\": [\n",
    "            \"(at ?item ?purchaser)\"\n",
    "        ],\n",
    "        \"delete\": [\n",
    "            \"(at ?item ?seller)\"\n",
    "        ]\n",
    "    }\n",
    "}\n",
    "</code>\n",
    "\n",
    "These will all need to be parsed from s-expressions to the underlying Python representation before you can use them. You might as well do it at the start of your algorithm, once. The order of the conditions is *not* arbitrary. It is much, much better for the unification and backtracking if you have the \"type\" predicates (item, place, agent) before the more complex ones. Trust me on this.\n",
    "\n",
    "As for the algorithm itself, there is going to be an *outer* level of search and an *inner* level of search.\n",
    "\n",
    "The *outer* level of search that is exactly what I describe here: you have a state, you generate successor states by applying actions to the current state, you examine those successor states as we did at the first week of the semester and if one is the goal you stop, if you see a repeat state, you put it on the explored list (you should implement graph search not tree search). What could be simpler?\n",
    "\n",
    "It turns out the Devil is in the details. There is an *inner* level of search hidden in \"you generate successor states by applying actions to the current state\". Where?\n",
    "\n",
    "How do you know if an action applies in a state? Only if the preconditions successfully unify with the current state. That seems easy enough...you check each predicate in the conditions to see if it unifies with the current state and if it does, you use the substitution list on the action, the add and delete lists and create the successor state based on them.\n",
    "\n",
    "Except for one small problem...there may be more than one way to unify an action with the current state. You must essentially search for all successful unifications of the candidate action and the current state. This is where my question through the semester appliesm, \"how would you modify state space search to return all the paths to the goal?\"\n",
    "\n",
    "Unification can be seen as state space search by trying to unify the first precondition with the current state, progressively working your way through the precondition list. If you fail at any point, you may need to backtrack because there might have been another unification of that predicate that would succeed. Similarly, as already mentioned, there may be more than one.\n",
    "\n",
    "So...by using unification and a properly defined <code>successors</code> function, you should be able to apply graph based search to the problem and return a \"path\" through the states from the initial state to the goal. You'll definitely want to use graph-based search since <code>( drive Me Store), (drive Me Home), (drive Me Store), (drive Me Home), (drive Me Store), (buy Me Store Drill), (drive Me Home)</code> is a valid plan.\n",
    "\n",
    "Your function should return the plan...a list of actions, fully instantiated, for the agent to do in order: [a1, a2, a3]. If you pass an extra intermediate=True parameter, it should also return the resulting state of each action: [s0, a1, s1, a2, s2, a3, s3].\n",
    "\n",
    "-----"
   ]
  },
  {
   "cell_type": "markdown",
   "metadata": {},
   "source": [
    "(you can just overwrite that one and add as many others as you need). Remember to follow the **Guidelines**.\n",
    "\n",
    "\n",
    "-----\n",
    "\n",
    "So you need to implement `forward_planner` as described above. `start_state`, `goal` and `actions` should all have the layout above and be s-expressions.\n",
    "\n",
    "Your implementation should return the plan as a **List of instantiated actions**. If `debug=True`, you should print out the intermediate states of the plan as well."
   ]
  },
  {
   "cell_type": "markdown",
   "metadata": {},
   "source": [
    "You will be solving the problem from above. Here is the start state:"
   ]
  },
  {
   "cell_type": "code",
   "execution_count": 17,
   "metadata": {},
   "outputs": [],
   "source": [
    "start_state = [\n",
    "    \"(item Saw)\",\n",
    "    \"(item Drill)\",\n",
    "    \"(place Home)\",\n",
    "    \"(place Store)\",\n",
    "    \"(place Bank)\",\n",
    "    \"(agent Me)\",\n",
    "    \"(at Me Home)\",\n",
    "    \"(at Saw Store)\",\n",
    "    \"(at Drill Store)\"\n",
    "]"
   ]
  },
  {
   "cell_type": "markdown",
   "metadata": {},
   "source": [
    "The goal state:"
   ]
  },
  {
   "cell_type": "code",
   "execution_count": 18,
   "metadata": {
    "tags": []
   },
   "outputs": [],
   "source": [
    "goal = [\n",
    "    \"(item Saw)\",    \n",
    "    \"(item Drill)\",\n",
    "    \"(place Home)\",\n",
    "    \"(place Store)\",\n",
    "    \"(place Bank)\",    \n",
    "    \"(agent Me)\",\n",
    "    \"(at Me Home)\",\n",
    "    \"(at Drill Me)\",\n",
    "    \"(at Saw Store)\"    \n",
    "]"
   ]
  },
  {
   "cell_type": "markdown",
   "metadata": {},
   "source": [
    "and the actions/operators:"
   ]
  },
  {
   "cell_type": "code",
   "execution_count": 19,
   "metadata": {},
   "outputs": [],
   "source": [
    "actions = {\n",
    "    \"drive\": {\n",
    "        \"action\": \"(drive ?agent ?from ?to)\",\n",
    "        \"conditions\": [\n",
    "            \"(agent ?agent)\",\n",
    "            \"(place ?from)\",\n",
    "            \"(place ?to)\",\n",
    "            \"(at ?agent ?from)\"\n",
    "        ],\n",
    "        \"add\": [\n",
    "            \"(at ?agent ?to)\"\n",
    "        ],\n",
    "        \"delete\": [\n",
    "            \"(at ?agent ?from)\"\n",
    "        ]\n",
    "    },\n",
    "    \"buy\": {\n",
    "        \"action\": \"(buy ?purchaser ?seller ?item)\",\n",
    "        \"conditions\": [\n",
    "            \"(item ?item)\",\n",
    "            \"(place ?seller)\",\n",
    "            \"(agent ?purchaser)\",\n",
    "            \"(at ?item ?seller)\",\n",
    "            \"(at ?purchaser ?seller)\"\n",
    "        ],\n",
    "        \"add\": [\n",
    "            \"(at ?item ?purchaser)\"\n",
    "        ],\n",
    "        \"delete\": [\n",
    "            \"(at ?item ?seller)\"\n",
    "        ]\n",
    "    }\n",
    "}"
   ]
  },
  {
   "cell_type": "markdown",
   "metadata": {},
   "source": [
    "<a id=\"goal_found\"></a>\n",
    "## goal_found\n",
    "\n",
    "Determine is the goal is found **Used by**: [forward_planner](#forward_planner)\n",
    "\n",
    "* **state: List[str]:** The current state of the program\n",
    "* **goal: List[str]:** The goal state of the program\n",
    "\n",
    "* **Returns Bool:** Return boolean of is a match is made"
   ]
  },
  {
   "cell_type": "code",
   "execution_count": 20,
   "metadata": {},
   "outputs": [],
   "source": [
    "def goal_found(state, goal):\n",
    "    return all(item in state for item in goal)"
   ]
  },
  {
   "cell_type": "code",
   "execution_count": 21,
   "metadata": {},
   "outputs": [],
   "source": [
    "assert goal_found([\"(item Saw)\"], [\"(item Saw)\"]) == True\n",
    "assert goal_found([\"(item any)\"], [\"(item any)\"]) == True\n",
    "assert goal_found([\"(item any)\"], [\"(any any)\"]) == False"
   ]
  },
  {
   "cell_type": "markdown",
   "metadata": {},
   "source": [
    "<a id=\"can_unify\"></a>\n",
    "## can_unify\n",
    "\n",
    "Bool test for posible unification of S-expressions **Used by**: [generate_allowed_actionsr](#generate_allowed_actions)\n",
    "\n",
    "\n",
    "* **conditions List[]:** list of conditions S-expressions \n",
    "* **state List[]:** list of state S-expressions \n",
    "* **retuns bool:** bool of if the whole condition is met in the current state"
   ]
  },
  {
   "cell_type": "code",
   "execution_count": 22,
   "metadata": {},
   "outputs": [],
   "source": [
    "def can_unify(conditions, state):\n",
    "    check=[]\n",
    "    result=[]\n",
    "    for condition_item in conditions:\n",
    "        for state_item in state:\n",
    "            check.append(unify(state_item, condition_item) != False)\n",
    "        result.append(any(check))\n",
    "    return all(result)"
   ]
  },
  {
   "cell_type": "code",
   "execution_count": 23,
   "metadata": {},
   "outputs": [],
   "source": [
    "assert can_unify([\"(agent ?agent)\",\"(place ?from)\",\"(place ?to)\",\"(at ?agent ?from)\"],\n",
    "                    [\"(item Saw)\", \"(item Drill)\", \"(place Home)\", \"(place Store)\", \"(place Bank)\", \"(agent Me)\", \"(at Me Home)\", \"(at Drill Me)\", \"(at Saw Store)\"]) ==True\n",
    "assert can_unify([\"(agent ?agent)\",\"(place ?from)\",\"(place ?to)\",\"(at ?agent ?from)\"],\n",
    "                    [\"(item Saw)\",\"(item Drill)\",\"(place Home)\",\"(place Store)\",\"(place Bank)\",\"(agent Me)\",\"(at Me Home)\",\"(at Saw Store)\",\"(at Drill Store)\"])== True\n",
    "assert can_unify([\"(agent ?agent)\",\"(place ?from)\",\"(place ?to)\",\"(at ?agent ?from)\"],\n",
    "                    [\"(item Saw)\",\"(item Drill)\",\"(place Home)\",\"(place Store)\",\"(place Bank)\",\"(notagent Me)\",\"(at Me Home)\",\"(at Saw Store)\",\"(at Drill Store)\"]) ==False"
   ]
  },
  {
   "cell_type": "markdown",
   "metadata": {},
   "source": [
    "<a id=\"replace\"></a>\n",
    "## replace\n",
    "\n",
    "replace variables in expression with sublist values **Used by**: [update](#update)\n",
    "\n",
    "* **expression dict:** expression being updated \n",
    "* **variable dict:** sublist used for replacement \n",
    "* **returns dict:** updated expression "
   ]
  },
  {
   "cell_type": "code",
   "execution_count": 24,
   "metadata": {},
   "outputs": [],
   "source": [
    "def replace(expression, variable_sublist):\n",
    "    for var, value in variable_sublist.items():\n",
    "        expression = expression.replace(var, value)\n",
    "    return expression"
   ]
  },
  {
   "cell_type": "code",
   "execution_count": null,
   "metadata": {},
   "outputs": [],
   "source": []
  },
  {
   "cell_type": "markdown",
   "metadata": {},
   "source": [
    "<a id=\"update\"></a>\n",
    "## update\n",
    "\n",
    "provides updated values from sublist for action **Used by**: [generate_allowed_actions](#generate_allowed_actions)\n",
    "\n",
    "* **action dict:** action to be updated\n",
    "* **sublist dict:** variable to use for updated action\n",
    "* **returns dict:**  updated action"
   ]
  },
  {
   "cell_type": "code",
   "execution_count": 25,
   "metadata": {},
   "outputs": [],
   "source": [
    "def update(action, sublist):\n",
    "    update_action = {\n",
    "        'action': replace(action['action'], sublist),\n",
    "        'add': [replace(effect, sublist) for effect in action['add']],\n",
    "        'delete': [replace(effect, sublist) for effect in action['delete']]\n",
    "    }\n",
    "    return update_action"
   ]
  },
  {
   "cell_type": "code",
   "execution_count": null,
   "metadata": {},
   "outputs": [],
   "source": []
  },
  {
   "cell_type": "code",
   "execution_count": null,
   "metadata": {},
   "outputs": [],
   "source": []
  },
  {
   "cell_type": "markdown",
   "metadata": {},
   "source": [
    "<a id=\"generate_allowed_actions\"></a>\n",
    "## generate_allowed_actions\n",
    "\n",
    "find the allowed actions found by unification **Used by**: [generate_sucessor_states](#generate_sucessor_states)\n",
    "\n",
    "* **current_state List[str]:** The current state of the planning algorithm \n",
    "* **actions dict:** The allowable actions in planning algorithm \n",
    "* **return List[]:** list of actions"
   ]
  },
  {
   "cell_type": "code",
   "execution_count": 26,
   "metadata": {},
   "outputs": [],
   "source": [
    "def generate_allowed_actions(current_state, actions):\n",
    "    applicable_actions = []\n",
    "    for action in list(actions.values()):\n",
    "        if can_unify(action['conditions'], current_state):\n",
    "            sublist = {}\n",
    "            for condition_item in action['conditions']:\n",
    "                for state_item in current_state:\n",
    "                    frame = unify(state_item, condition_item)\n",
    "                    if frame is not False:\n",
    "                        sublist.update(frame)\n",
    "                if sublist:\n",
    "                    applicable_actions.append(update(action, sublist))\n",
    "    return applicable_actions"
   ]
  },
  {
   "cell_type": "code",
   "execution_count": 27,
   "metadata": {},
   "outputs": [],
   "source": [
    "assert generate_allowed_actions([\"(blah Saw)\"], actions) == []\n"
   ]
  },
  {
   "cell_type": "markdown",
   "metadata": {},
   "source": [
    "<a id=\"generate_sucessor_states\"></a>\n",
    "## generate_sucessor_states\n",
    "\n",
    "updates the plan/successor states **Used by**: [forward_planner](#forward_planners)\n",
    "\n",
    "* **current_state dict:** current state being evaluted \n",
    "* **actions dict:** allowed actions \n",
    "* **returns list[dict]:** updated state and plan"
   ]
  },
  {
   "cell_type": "code",
   "execution_count": 28,
   "metadata": {},
   "outputs": [],
   "source": [
    "def generate_sucessor_states(current_state, actions):\n",
    "    result=[]\n",
    "    for action in generate_applicable_actions(current_state, actions):\n",
    "        pass"
   ]
  },
  {
   "cell_type": "code",
   "execution_count": null,
   "metadata": {},
   "outputs": [],
   "source": []
  },
  {
   "cell_type": "code",
   "execution_count": 29,
   "metadata": {},
   "outputs": [],
   "source": [
    "def forward_planner( start_state, goal, actions, debug=False):\n",
    "    frontier = []\n",
    "    explored = []\n",
    "    path = []\n",
    "    frontier.append(start_state)\n",
    "#     path.append(start)\n",
    "    while len(frontier) != 0: # needs work\n",
    "        current_state = frontier.pop()\n",
    "        if goal_found(state, goal):\n",
    "            explored.append(current_state)\n",
    "#             path.append(current_state)\n",
    "#             return explored\n",
    "        children = generate_sucessor_states(current_state, actions)\n",
    "        for child in children:\n",
    "            if child not in explored + frontier:\n",
    "                frontier.append(child)\n",
    "        explored.append(current_state)\n",
    "    return explored # change to return the real answer\n",
    "    return []"
   ]
  },
  {
   "cell_type": "markdown",
   "metadata": {},
   "source": [
    "**Note** The facts for each state are really an ordered set. When comparing two states, you may need to convert them to a Set first."
   ]
  },
  {
   "cell_type": "code",
   "execution_count": 30,
   "metadata": {},
   "outputs": [
    {
     "ename": "NameError",
     "evalue": "name 'state' is not defined",
     "output_type": "error",
     "traceback": [
      "\u001b[1;31m---------------------------------------------------------------------------\u001b[0m",
      "\u001b[1;31mNameError\u001b[0m                                 Traceback (most recent call last)",
      "Cell \u001b[1;32mIn[30], line 1\u001b[0m\n\u001b[1;32m----> 1\u001b[0m plan \u001b[38;5;241m=\u001b[39m \u001b[43mforward_planner\u001b[49m\u001b[43m(\u001b[49m\u001b[43m \u001b[49m\u001b[43mstart_state\u001b[49m\u001b[43m,\u001b[49m\u001b[43m \u001b[49m\u001b[43mgoal\u001b[49m\u001b[43m,\u001b[49m\u001b[43m \u001b[49m\u001b[43mactions\u001b[49m\u001b[43m)\u001b[49m\n",
      "Cell \u001b[1;32mIn[29], line 9\u001b[0m, in \u001b[0;36mforward_planner\u001b[1;34m(start_state, goal, actions, debug)\u001b[0m\n\u001b[0;32m      7\u001b[0m     \u001b[38;5;28;01mwhile\u001b[39;00m \u001b[38;5;28mlen\u001b[39m(frontier) \u001b[38;5;241m!=\u001b[39m \u001b[38;5;241m0\u001b[39m: \u001b[38;5;66;03m# needs work\u001b[39;00m\n\u001b[0;32m      8\u001b[0m         current_state \u001b[38;5;241m=\u001b[39m frontier\u001b[38;5;241m.\u001b[39mpop()\n\u001b[1;32m----> 9\u001b[0m         \u001b[38;5;28;01mif\u001b[39;00m goal_found(\u001b[43mstate\u001b[49m, goal):\n\u001b[0;32m     10\u001b[0m             explored\u001b[38;5;241m.\u001b[39mappend(current_state)\n\u001b[0;32m     11\u001b[0m \u001b[38;5;66;03m#             path.append(current_state)\u001b[39;00m\n\u001b[0;32m     12\u001b[0m \u001b[38;5;66;03m#             return explored\u001b[39;00m\n",
      "\u001b[1;31mNameError\u001b[0m: name 'state' is not defined"
     ]
    }
   ],
   "source": [
    "plan = forward_planner( start_state, goal, actions)"
   ]
  },
  {
   "cell_type": "code",
   "execution_count": 31,
   "metadata": {},
   "outputs": [
    {
     "ename": "NameError",
     "evalue": "name 'plan' is not defined",
     "output_type": "error",
     "traceback": [
      "\u001b[1;31m---------------------------------------------------------------------------\u001b[0m",
      "\u001b[1;31mNameError\u001b[0m                                 Traceback (most recent call last)",
      "Cell \u001b[1;32mIn[31], line 1\u001b[0m\n\u001b[1;32m----> 1\u001b[0m \u001b[38;5;28;01mfor\u001b[39;00m el \u001b[38;5;129;01min\u001b[39;00m \u001b[43mplan\u001b[49m:\n\u001b[0;32m      2\u001b[0m     \u001b[38;5;28mprint\u001b[39m(el)\n",
      "\u001b[1;31mNameError\u001b[0m: name 'plan' is not defined"
     ]
    }
   ],
   "source": [
    "for el in plan:\n",
    "    print(el)"
   ]
  },
  {
   "cell_type": "markdown",
   "metadata": {},
   "source": []
  },
  {
   "cell_type": "markdown",
   "metadata": {},
   "source": []
  }
 ],
 "metadata": {
  "kernelspec": {
   "display_name": "Python 3 (ipykernel)",
   "language": "python",
   "name": "python3"
  },
  "language_info": {
   "codemirror_mode": {
    "name": "ipython",
    "version": 3
   },
   "file_extension": ".py",
   "mimetype": "text/x-python",
   "name": "python",
   "nbconvert_exporter": "python",
   "pygments_lexer": "ipython3",
   "version": "3.11.7"
  },
  "toc": {
   "colors": {
    "hover_highlight": "#DAA520",
    "navigate_num": "#000000",
    "navigate_text": "#333333",
    "running_highlight": "#FF0000",
    "selected_highlight": "#FFD700",
    "sidebar_border": "#EEEEEE",
    "wrapper_background": "#FFFFFF"
   },
   "moveMenuLeft": true,
   "nav_menu": {
    "height": "102px",
    "width": "252px"
   },
   "navigate_menu": true,
   "number_sections": true,
   "sideBar": true,
   "threshold": 4,
   "toc_cell": false,
   "toc_section_display": "block",
   "toc_window_display": false,
   "widenNotebook": false
  }
 },
 "nbformat": 4,
 "nbformat_minor": 4
}
