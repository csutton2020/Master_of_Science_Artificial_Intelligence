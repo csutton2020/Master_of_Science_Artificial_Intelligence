{
 "cells": [
  {
   "cell_type": "markdown",
   "metadata": {},
   "source": [
    "# Module 11 - Programming Assignment\n"
   ]
  },
  {
   "cell_type": "markdown",
   "metadata": {},
   "source": [
    "## Reinforcement Learning with Value Iteration\n",
    "\n",
    "These are the same maps from Module 1 but the \"physics\" of the world have changed. In Module 1, the world was deterministic. When the agent moved \"south\", it went \"south\". When it moved \"east\", it went \"east\". Now, the agent only succeeds in going where it wants to go *sometimes*. There is a probability distribution over the possible states so that when the agent moves \"south\", there is a small probability that it will go \"east\", \"north\", or \"west\" instead and have to move from there.\n",
    "\n",
    "There are a variety of ways to handle this problem. For example, if using A\\* search, if the agent finds itself off the solution, you can simply calculate a new solution from where the agent ended up. Although this sounds like a really bad idea, it has actually been shown to work really well in video games that use formal planning algorithms (which we will cover later). When these algorithms were first designed, this was unthinkable. Thank you, Moore's Law!\n",
    "\n",
    "Another approach is to use Reinforcement Learning which covers problems where there is some kind of general uncertainty in the actions. We're going to model that uncertainty a bit unrealistically here but it'll show you how the algorithm works.\n",
    "\n",
    "As far as RL is concerned, there are a variety of options there: model-based and model-free, Value Iteration, Q-Learning and SARSA. You are going to use Value Iteration."
   ]
  },
  {
   "cell_type": "markdown",
   "metadata": {},
   "source": [
    "## The World Representation\n",
    "\n",
    "As before, we're going to simplify the problem by working in a grid world. The symbols that form the grid have a special meaning as they specify the type of the terrain and the cost to enter a grid cell with that type of terrain:\n",
    "\n",
    "```\n",
    "token   terrain    cost \n",
    ".       plains     1\n",
    "*       forest     3\n",
    "^       hills      5\n",
    "~       swamp      7\n",
    "x       mountains  impassible\n",
    "```\n",
    "\n",
    "When you go from a plains node to a forest node it costs 3. When you go from a forest node to a plains node, it costs 1. You can think of the grid as a big graph. Each grid cell (terrain symbol) is a node and there are edges to the north, south, east and west (except at the edges).\n",
    "\n",
    "There are quite a few differences between A\\* Search and Reinforcement Learning but one of the most salient is that A\\* Search returns a plan of N steps that gets us from A to Z, for example, A->C->E->G.... Reinforcement Learning, on the other hand, returns  a *policy* that tells us the best thing to do in **every state.**\n",
    "\n",
    "For example, the policy might say that the best thing to do in A is go to C. However, we might find ourselves in D instead. But the policy covers this possibility, it might say, D->E. Trying this action might land us in C and the policy will say, C->E, etc. At least with offline learning, everything will be learned in advance (in online learning, you can only learn by doing and so you may act according to a known but suboptimal policy).\n",
    "\n",
    "Nevertheless, if you were asked for a \"best case\" plan from (0, 0) to (n-1, n-1), you could (and will) be able to read it off the policy because there is a best action for every state. You will be asked to provide this in your assignment."
   ]
  },
  {
   "cell_type": "markdown",
   "metadata": {},
   "source": [
    "We have the same costs as before. Note that we've negated them this time because RL requires negative costs and positive rewards:"
   ]
  },
  {
   "cell_type": "code",
   "execution_count": 105,
   "metadata": {},
   "outputs": [
    {
     "data": {
      "text/plain": [
       "{'.': -1, '*': -3, '^': -5, '~': -7}"
      ]
     },
     "execution_count": 105,
     "metadata": {},
     "output_type": "execute_result"
    }
   ],
   "source": [
    "costs = { '.': -1, '*': -3, '^': -5, '~': -7}\n",
    "costs"
   ]
  },
  {
   "cell_type": "markdown",
   "metadata": {},
   "source": [
    "and a list of offsets for `cardinal_moves`. You'll need to work this into your **actions**, A, parameter."
   ]
  },
  {
   "cell_type": "code",
   "execution_count": 106,
   "metadata": {},
   "outputs": [],
   "source": [
    "cardinal_moves = [(0,-1), (1,0), (0,1), (-1,0)]"
   ]
  },
  {
   "cell_type": "code",
   "execution_count": null,
   "metadata": {},
   "outputs": [],
   "source": []
  },
  {
   "cell_type": "markdown",
   "metadata": {},
   "source": [
    "For Value Iteration, we require knowledge of the *transition* function, as a probability distribution.\n",
    "\n",
    "The transition function, T, for this problem is 0.70 for the desired direction, and 0.10 each for the other possible directions. That is, if the agent selects \"north\" then 70% of the time, it will go \"north\" but 10% of the time it will go \"east\", 10% of the time it will go \"west\", and 10% of the time it will go \"south\". If agent is at the edge of the map, it simply bounces back to the current state.\n",
    "\n",
    "You need to implement `value_iteration()` with the following parameters:\n",
    "\n",
    "+ world: a `List` of `List`s of terrain (this is S from S, A, T, gamma, R)\n",
    "+ costs: a `Dict` of costs by terrain (this is part of R)\n",
    "+ goal: A `Tuple` of (x, y) stating the goal state.\n",
    "+ reward: The reward for achieving the goal state.\n",
    "+ actions: a `List` of possible actions, A, as offsets.\n",
    "+ gamma: the discount rate\n",
    "\n",
    "you will return a policy: \n",
    "\n",
    "`{(x1, y1): action1, (x2, y2): action2, ...}`\n",
    "\n",
    "Remember...a policy is what to do in any state for all the states. Notice how this is different than A\\* search which only returns actions to take from the start to the goal. This also explains why reinforcement learning doesn't take a `start` state.\n",
    "\n",
    "You should also define a function `pretty_print_policy( cols, rows, policy)` that takes a policy and prints it out as a grid using \"^\" for up, \"<\" for left, \"v\" for down and \">\" for right. Use \"x\" for any mountain or other impassable square. Note that it doesn't need the `world` because the policy has a move for every state. However, you do need to know how big the grid is so you can pull the values out of the `Dict` that is returned.\n",
    "\n",
    "```\n",
    "vvvvvvv\n",
    "vvvvvvv\n",
    "vvvvvvv\n",
    ">>>>>>v\n",
    "^^^>>>v\n",
    "^^^>>>v\n",
    "^^^>>>G\n",
    "```\n",
    "\n",
    "(Note that that policy is completely made up and only illustrative of the desired output). Please print it out exactly as requested: **NO EXTRA SPACES OR LINES**.\n",
    "\n",
    "* If everything is otherwise the same, do you think that the path from (0,0) to the goal would be the same for both A\\* Search and Q-Learning?\n",
    "* What do you think if you have a map that looks like:\n",
    "\n",
    "```\n",
    "><>>^\n",
    ">>>>v\n",
    ">>>>v\n",
    ">>>>v\n",
    ">>>>G\n",
    "```\n",
    "\n",
    "has this converged? Is this a \"correct\" policy? What are the problems with this policy as it is?\n"
   ]
  },
  {
   "cell_type": "code",
   "execution_count": 107,
   "metadata": {},
   "outputs": [],
   "source": [
    "from typing import List, Tuple, Dict, Callable\n",
    "import numpy as np\n",
    "import copy"
   ]
  },
  {
   "cell_type": "code",
   "execution_count": 108,
   "metadata": {},
   "outputs": [],
   "source": [
    "def read_world(filename):\n",
    "    result = []\n",
    "    with open(filename) as f:\n",
    "        for line in f.readlines():\n",
    "            if len(line) > 0:\n",
    "                result.append(list(line.strip()))\n",
    "    return result"
   ]
  },
  {
   "cell_type": "markdown",
   "metadata": {},
   "source": [
    "<a id=\"max_of\"></a>\n",
    "## max_of\n",
    "\n",
    "finds the maximium value of the difference between V and V_last **Used by**: [value_iteration](#value_iteration)\n",
    "\n",
    "\n",
    "* **v_new List[List[str]]:** a matrix of max(R(s, a))\n",
    "* **v_last dict:** a copy of matrix of max(R(s, a)) from the prior iteration \n",
    "\n",
    "* **returns int:** max of the difference between the current state and prior state"
   ]
  },
  {
   "cell_type": "code",
   "execution_count": 116,
   "metadata": {},
   "outputs": [],
   "source": [
    "def max_of(v_new: List[List[int]], v_last: List[List[int]]):\n",
    "    v= np.array(v_new)\n",
    "    v_l= np.array(v_last)\n",
    "    return np.max( v-v_l)"
   ]
  },
  {
   "cell_type": "code",
   "execution_count": 117,
   "metadata": {},
   "outputs": [],
   "source": [
    "assert max_of([[1,1,5],[1,1,1],[1,1,1]], [[1,1,1],[1,1,1],[1,1,1]]) == 4\n",
    "assert max_of([[1,1,6],[1,1,1],[1,1,1]], [[1,1,1],[1,1,1],[1,1,1]]) == 5\n",
    "assert max_of([[1,1,7],[1,1,1],[1,1,1]], [[1,1,1],[1,1,1],[1,1,1]]) == 6"
   ]
  },
  {
   "cell_type": "markdown",
   "metadata": {},
   "source": [
    "<a id=\"reward\"></a>\n",
    "## reward\n",
    "\n",
    "finds the reward/cost given the state **Used by**: [value_iteration](#value_iteration)\n",
    "\n",
    "* **state Tuple[int,int]:** the cords in the world\n",
    "* **action Tuple[int, int]:** the offset move in the world\n",
    "* **world List[List[str]]:** a map of the terrain\n",
    "* **costs dict:** costs of terrain elements\n",
    "* **goal Tuple (int, int):** The goal state\n",
    "* **reward int:** the reward for achieving the goal state\n",
    "\n",
    "* **returns Tuple:** successor state"
   ]
  },
  {
   "cell_type": "code",
   "execution_count": 118,
   "metadata": {},
   "outputs": [],
   "source": [
    "def reward(state: Tuple[int,int], action: Tuple[int,int], world: List[List[str]], costs_: dict, goal_: Tuple[int, int], rewards_: int):\n",
    "    if state == goal_:\n",
    "        return rewards_\n",
    "    else:\n",
    "        return costs_[world[state[0]][state[1]]]"
   ]
  },
  {
   "cell_type": "code",
   "execution_count": 119,
   "metadata": {},
   "outputs": [],
   "source": [
    "small_world = read_world( \"small.txt\")\n",
    "assert reward((0,0), (0,1), small_world, costs, (3,3), 15) == -1\n",
    "assert reward((1,1), (0,1), small_world, costs, (3,3), 15) == -3\n",
    "assert reward((3,3), (0,1), small_world, costs, (3,3), 15) == 15"
   ]
  },
  {
   "cell_type": "markdown",
   "metadata": {},
   "source": [
    "<a id=\"seccessor_state\"></a>\n",
    "## seccessor_state\n",
    "\n",
    "finds the successor state given the state/action/world **Used by**: [value_iteration](#value_iteration)\n",
    "\n",
    "* **state Tuple[int,int]:** the cords in the world\n",
    "* **action Tuple[int, int]:** the offset move in the world\n",
    "* **world List[List[str]]:** the grid world\n",
    "\n",
    "* **returns Tuple[int, int]:** the resulting new state"
   ]
  },
  {
   "cell_type": "code",
   "execution_count": 120,
   "metadata": {},
   "outputs": [],
   "source": [
    "def seccessor_state(state: Tuple[int,int], action: Tuple[int,int], world: List[List[str]]):\n",
    "    assert state[0] in range(len(world))\n",
    "    assert state[1] in range(len(world[0]))\n",
    "    result = tuple(a+b for a,b in zip(state,action))\n",
    "    if result[0] not in range(len(world)):\n",
    "        return state\n",
    "    elif result[1] not in range(len(world[0])):\n",
    "        return state\n",
    "    else:\n",
    "        return result"
   ]
  },
  {
   "cell_type": "code",
   "execution_count": 121,
   "metadata": {},
   "outputs": [],
   "source": [
    "assert seccessor_state((1,1), (1,2), small_world) == (2,3)\n",
    "assert seccessor_state((0,0), (1,2), small_world) == (1,2)\n",
    "assert seccessor_state((6,5), (1,2), small_world) == (6,5)"
   ]
  },
  {
   "cell_type": "markdown",
   "metadata": {},
   "source": [
    "<a id=\"value_iteration\"></a>\n",
    "## value_iteration\n",
    "\n",
    "performs policy search by iterating over the states, actions and meauring costs/rewards and discounted costs from successor states. Finds the best polcy/plan given the goal/reward\n",
    "\n",
    "* **world List[List[str]]:** a map of the terrain\n",
    "* **costs dict:** costs of terrain elements\n",
    "* **goal Tuple (int, int):** The goal state\n",
    "* **reward int:** the reward for achieving the goal state\n",
    "* **actions List[]:** list of possible actions, A, as offsets.\n",
    "* **gamma float:** the discount rate\n",
    "\n",
    "* **returns dict:** a dict of policy"
   ]
  },
  {
   "cell_type": "code",
   "execution_count": 130,
   "metadata": {},
   "outputs": [],
   "source": [
    "def value_iteration(world: List[List[str]], costs: dict, goal: Tuple[int, int], rewards: int, actions: List[Tuple[int,int]], gamma: float):\n",
    "    V =[[0 for s in range(len(world[0]))] for s in range(len(world))] # t-1 values \n",
    "    t=0 \n",
    "    while True:\n",
    "        t= t+1  \n",
    "        V_last = copy.copy(V)\n",
    "        for s in [(i,j) for i in range(len(world)) for j in range(len(world[0]))]:\n",
    "            Q={}\n",
    "            for a in actions:\n",
    "                Q[s,a] = reward(s, a, world, costs, goal, rewards)+ gamma*V_last[seccessor_state(s,a, world)[0]][seccessor_state(s,a, world)[1]] # reward of state/action and successor state discounted reward\n",
    "            pi[s]= argmax(Q[s,a]) # store best action \n",
    "            V[s] = Q[s, pi[s]] # store reward of best action\n",
    "        if max_of(V,V_last) < .1: # measure \n",
    "            return pi\n",
    "            break"
   ]
  },
  {
   "cell_type": "markdown",
   "metadata": {},
   "source": [
    "<a id=\"pretty_print_policy\"></a>\n",
    "## pretty_print_policy\n",
    "\n",
    "\n",
    "* **cols int:** column dimension of the world\n",
    "* **rows int:** row dimension of the world\n",
    "* **policy dict:** The offline learned policy\n",
    "* **goal Tuple(int,int):** The position of the goal in the grid world\n",
    "\n",
    "\n",
    "* **returns str:** a printed map of policy across all states of the world"
   ]
  },
  {
   "cell_type": "code",
   "execution_count": 127,
   "metadata": {},
   "outputs": [],
   "source": [
    "def pretty_print_policy( cols, rows, policy, goal):\n",
    "    for c in range(cols):\n",
    "        for r in range(rows):\n",
    "            print(policy[r,c])\n",
    "        \n"
   ]
  },
  {
   "cell_type": "markdown",
   "metadata": {},
   "source": [
    "## Value Iteration\n",
    "\n",
    "### Small World"
   ]
  },
  {
   "cell_type": "code",
   "execution_count": 131,
   "metadata": {},
   "outputs": [
    {
     "data": {
      "text/plain": [
       "6"
      ]
     },
     "execution_count": 131,
     "metadata": {},
     "output_type": "execute_result"
    }
   ],
   "source": [
    "small_world = read_world( \"small.txt\")\n",
    "len(small_world[0])\n"
   ]
  },
  {
   "cell_type": "code",
   "execution_count": 132,
   "metadata": {},
   "outputs": [
    {
     "ename": "NameError",
     "evalue": "name 'Q' is not defined",
     "output_type": "error",
     "traceback": [
      "\u001b[1;31m---------------------------------------------------------------------------\u001b[0m",
      "\u001b[1;31mNameError\u001b[0m                                 Traceback (most recent call last)",
      "Cell \u001b[1;32mIn[132], line 4\u001b[0m\n\u001b[0;32m      1\u001b[0m goal \u001b[38;5;241m=\u001b[39m (\u001b[38;5;28mlen\u001b[39m(small_world[\u001b[38;5;241m0\u001b[39m])\u001b[38;5;241m-\u001b[39m\u001b[38;5;241m1\u001b[39m, \u001b[38;5;28mlen\u001b[39m(small_world)\u001b[38;5;241m-\u001b[39m\u001b[38;5;241m1\u001b[39m)\n\u001b[0;32m      2\u001b[0m gamma \u001b[38;5;241m=\u001b[39m \u001b[38;5;241m0.9\u001b[39m\n\u001b[1;32m----> 4\u001b[0m small_policy \u001b[38;5;241m=\u001b[39m \u001b[43mvalue_iteration\u001b[49m\u001b[43m(\u001b[49m\u001b[43msmall_world\u001b[49m\u001b[43m,\u001b[49m\u001b[43m \u001b[49m\u001b[43mcosts\u001b[49m\u001b[43m,\u001b[49m\u001b[43m \u001b[49m\u001b[43mgoal\u001b[49m\u001b[43m,\u001b[49m\u001b[43m \u001b[49m\u001b[43mreward\u001b[49m\u001b[43m,\u001b[49m\u001b[43m \u001b[49m\u001b[43mcardinal_moves\u001b[49m\u001b[43m,\u001b[49m\u001b[43m \u001b[49m\u001b[43mgamma\u001b[49m\u001b[43m)\u001b[49m\n",
      "Cell \u001b[1;32mIn[130], line 9\u001b[0m, in \u001b[0;36mvalue_iteration\u001b[1;34m(world, costs, goal, rewards, actions, gamma)\u001b[0m\n\u001b[0;32m      7\u001b[0m \u001b[38;5;28;01mfor\u001b[39;00m s \u001b[38;5;129;01min\u001b[39;00m [(i,j) \u001b[38;5;28;01mfor\u001b[39;00m i \u001b[38;5;129;01min\u001b[39;00m \u001b[38;5;28mrange\u001b[39m(\u001b[38;5;28mlen\u001b[39m(world)) \u001b[38;5;28;01mfor\u001b[39;00m j \u001b[38;5;129;01min\u001b[39;00m \u001b[38;5;28mrange\u001b[39m(\u001b[38;5;28mlen\u001b[39m(world[\u001b[38;5;241m0\u001b[39m]))]:\n\u001b[0;32m      8\u001b[0m     \u001b[38;5;28;01mfor\u001b[39;00m a \u001b[38;5;129;01min\u001b[39;00m actions:\n\u001b[1;32m----> 9\u001b[0m         \u001b[43mQ\u001b[49m[s,a] \u001b[38;5;241m=\u001b[39m reward(s, a, world, costs, goal, rewards)\u001b[38;5;241m+\u001b[39m gamma\u001b[38;5;241m*\u001b[39mV_last[seccessor_state(s,a, world)[\u001b[38;5;241m0\u001b[39m]][seccessor_state(s,a, world)[\u001b[38;5;241m1\u001b[39m]] \u001b[38;5;66;03m# reward of state/action and successor state discounted reward\u001b[39;00m\n\u001b[0;32m     10\u001b[0m     pi[s]\u001b[38;5;241m=\u001b[39m argmax(Q[s,a]) \u001b[38;5;66;03m# store best action \u001b[39;00m\n\u001b[0;32m     11\u001b[0m     V[s] \u001b[38;5;241m=\u001b[39m Q[s, pi[s]] \u001b[38;5;66;03m# store reward of best action\u001b[39;00m\n",
      "\u001b[1;31mNameError\u001b[0m: name 'Q' is not defined"
     ]
    }
   ],
   "source": [
    "goal = (len(small_world[0])-1, len(small_world)-1)\n",
    "gamma = 0.9\n",
    "\n",
    "small_policy = value_iteration(small_world, costs, goal, reward, cardinal_moves, gamma)"
   ]
  },
  {
   "cell_type": "code",
   "execution_count": null,
   "metadata": {},
   "outputs": [],
   "source": [
    "cols = len(small_world[0])\n",
    "rows = len(small_world)\n",
    "\n",
    "pretty_print_policy(cols, rows, test_policy, goal)"
   ]
  },
  {
   "cell_type": "markdown",
   "metadata": {},
   "source": [
    "### Large World"
   ]
  },
  {
   "cell_type": "code",
   "execution_count": null,
   "metadata": {},
   "outputs": [],
   "source": [
    "large_world = read_world( \"large.txt\")"
   ]
  },
  {
   "cell_type": "code",
   "execution_count": null,
   "metadata": {},
   "outputs": [],
   "source": [
    "goal = (len(large_world[0])-1, len(large_world)-1) # Lower Right Corner FILL ME IN\n",
    "gamma = 0.9\n",
    "\n",
    "large_policy = value_iteration(large_world, costs, goal, reward, cardinal_moves, gamma)"
   ]
  },
  {
   "cell_type": "code",
   "execution_count": null,
   "metadata": {},
   "outputs": [],
   "source": [
    "cols = len(large_world[0])\n",
    "rows = len(large_world)\n",
    "\n",
    "pretty_print_policy( cols, rows, large_policy, goal)"
   ]
  },
  {
   "cell_type": "markdown",
   "metadata": {},
   "source": []
  },
  {
   "cell_type": "markdown",
   "metadata": {},
   "source": []
  }
 ],
 "metadata": {
  "kernelspec": {
   "display_name": "Python 3 (ipykernel)",
   "language": "python",
   "name": "python3"
  },
  "language_info": {
   "codemirror_mode": {
    "name": "ipython",
    "version": 3
   },
   "file_extension": ".py",
   "mimetype": "text/x-python",
   "name": "python",
   "nbconvert_exporter": "python",
   "pygments_lexer": "ipython3",
   "version": "3.11.7"
  },
  "toc": {
   "colors": {
    "hover_highlight": "#DAA520",
    "navigate_num": "#000000",
    "navigate_text": "#333333",
    "running_highlight": "#FF0000",
    "selected_highlight": "#FFD700",
    "sidebar_border": "#EEEEEE",
    "wrapper_background": "#FFFFFF"
   },
   "moveMenuLeft": true,
   "nav_menu": {
    "height": "171px",
    "width": "252px"
   },
   "navigate_menu": true,
   "number_sections": true,
   "sideBar": true,
   "threshold": 4,
   "toc_cell": false,
   "toc_section_display": "block",
   "toc_window_display": false,
   "widenNotebook": false
  }
 },
 "nbformat": 4,
 "nbformat_minor": 4
}
