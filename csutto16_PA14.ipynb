{
 "cells": [
  {
   "cell_type": "code",
   "execution_count": 31,
   "id": "67234b95",
   "metadata": {},
   "outputs": [],
   "source": [
    "import torch\n",
    "import torch.nn.functional as F\n",
    "import matplotlib.pyplot as plt # for making figures\n",
    "%matplotlib inline"
   ]
  },
  {
   "cell_type": "markdown",
   "id": "e7977cc5",
   "metadata": {},
   "source": [
    "### Read in data"
   ]
  },
  {
   "cell_type": "code",
   "execution_count": 32,
   "id": "a486f0e6",
   "metadata": {},
   "outputs": [
    {
     "name": "stdout",
     "output_type": "stream",
     "text": [
      "32033\n",
      "15\n",
      "['emma', 'olivia', 'ava', 'isabella', 'sophia', 'charlotte', 'mia', 'amelia']\n"
     ]
    }
   ],
   "source": [
    "# read in all the words\n",
    "words = open('names.txt', 'r').read().splitlines()\n",
    "print(len(words))\n",
    "print(max(len(w) for w in words))\n",
    "print(words[:8])"
   ]
  },
  {
   "cell_type": "markdown",
   "id": "61c70698",
   "metadata": {},
   "source": [
    "### Build Vocabulary of data \n",
    "chars are arranged in dict to allow indexing and representing chars as an index"
   ]
  },
  {
   "cell_type": "code",
   "execution_count": 33,
   "id": "cf831e12",
   "metadata": {},
   "outputs": [
    {
     "name": "stdout",
     "output_type": "stream",
     "text": [
      "{1: 'a', 2: 'b', 3: 'c', 4: 'd', 5: 'e', 6: 'f', 7: 'g', 8: 'h', 9: 'i', 10: 'j', 11: 'k', 12: 'l', 13: 'm', 14: 'n', 15: 'o', 16: 'p', 17: 'q', 18: 'r', 19: 's', 20: 't', 21: 'u', 22: 'v', 23: 'w', 24: 'x', 25: 'y', 26: 'z', 0: '.'}\n",
      "27\n"
     ]
    }
   ],
   "source": [
    "# build the vocabulary of characters and mappings to/from integers\n",
    "chars = sorted(list(set(''.join(words))))\n",
    "stoi = {s:i+1 for i,s in enumerate(chars)}\n",
    "stoi['.'] = 0\n",
    "itos = {i:s for s,i in stoi.items()}\n",
    "vocab_size = len(itos)\n",
    "print(itos)\n",
    "print(vocab_size)"
   ]
  },
  {
   "cell_type": "markdown",
   "id": "423bd3fa",
   "metadata": {},
   "source": [
    "### Shuffle Data before building data set"
   ]
  },
  {
   "cell_type": "code",
   "execution_count": 34,
   "id": "593f20b7",
   "metadata": {},
   "outputs": [],
   "source": [
    "# shuffle up the words\n",
    "import random\n",
    "random.seed(42)\n",
    "random.shuffle(words)"
   ]
  },
  {
   "cell_type": "markdown",
   "id": "cc2b05c3",
   "metadata": {},
   "source": [
    "<a id=\"build_dataset\"></a>\n",
    "## build_dataset\n",
    "\n",
    "builds the tensor structure of the training and target values  **Used by**: [none](#none)\n",
    "\n",
    "* **word list[str]:** string representation of the dataset\n",
    "\n",
    "* **returns torch.tensor(X), torch.tensor(Y):** tensor of blocksize of (index dataset chars), tensor of target value (index of char)"
   ]
  },
  {
   "cell_type": "code",
   "execution_count": 35,
   "id": "5c3a434b",
   "metadata": {},
   "outputs": [
    {
     "name": "stdout",
     "output_type": "stream",
     "text": [
      "torch.Size([182625, 8]) torch.Size([182625])\n",
      "torch.Size([22655, 8]) torch.Size([22655])\n",
      "torch.Size([22866, 8]) torch.Size([22866])\n"
     ]
    }
   ],
   "source": [
    "# build the dataset\n",
    "block_size = 8 # context length: how many characters do we take to predict the next one?\n",
    "\n",
    "def build_dataset(words):  \n",
    "    X, Y = [], []\n",
    "  \n",
    "    for w in words:\n",
    "        context = [0] * block_size\n",
    "        for ch in w + '.':\n",
    "            ix = stoi[ch]\n",
    "            X.append(context)\n",
    "            Y.append(ix)\n",
    "            context = context[1:] + [ix] # crop and append\n",
    "\n",
    "    X = torch.tensor(X)\n",
    "    Y = torch.tensor(Y)\n",
    "    print(X.shape, Y.shape)\n",
    "    return X, Y\n",
    "\n",
    "n1 = int(0.8*len(words))\n",
    "n2 = int(0.9*len(words))\n",
    "Xtr,  Ytr  = build_dataset(words[:n1])     # 80%\n",
    "Xdev, Ydev = build_dataset(words[n1:n2])   # 10%\n",
    "Xte,  Yte  = build_dataset(words[n2:])     # 10%"
   ]
  },
  {
   "cell_type": "markdown",
   "id": "a0fc28f7",
   "metadata": {},
   "source": [
    "<a id=\"Linear\"></a>\n",
    "## Linear\n",
    "\n",
    "performs linear operations X @ W with bias depending on layer.  gaussian distribution maintained at intialization  **Used by**: [Sequential (model)](#Sequential (model))\n",
    "\n",
    "\n",
    "* **returns: torch.tensor(self.out)** linear combination of input an weights. Bias used in higher layers."
   ]
  },
  {
   "cell_type": "code",
   "execution_count": 36,
   "id": "542e3d11",
   "metadata": {},
   "outputs": [],
   "source": [
    "class Linear:\n",
    "    def __init__(self, fan_in, fan_out, bias=True):\n",
    "        self.weight = torch.randn((fan_in, fan_out)) / fan_in**0.5 # note: kaiming init\n",
    "        self.bias = torch.zeros(fan_out) if bias else None\n",
    "\n",
    "    def __call__(self, x):\n",
    "        self.out = x @ self.weight\n",
    "        if self.bias is not None:\n",
    "            self.out += self.bias\n",
    "        return self.out\n",
    "\n",
    "    def parameters(self):\n",
    "        return [self.weight] + ([] if self.bias is None else [self.bias])"
   ]
  },
  {
   "cell_type": "markdown",
   "id": "289a5d10",
   "metadata": {},
   "source": [
    "<a id=\"BatchNorm1d\"></a>\n",
    "## BatchNorm1d\n",
    "\n",
    "performs performs normalization of weights for regularization and minization of training loss  **Used by**: [Sequential (model)](#Sequential (model))\n",
    "\n",
    "\n",
    "* **returns: torch.tensor(self.out)** normalize weights. "
   ]
  },
  {
   "cell_type": "code",
   "execution_count": 38,
   "id": "156f2c38",
   "metadata": {},
   "outputs": [],
   "source": [
    "class BatchNorm1d:\n",
    "    def __init__(self, dim, eps=1e-5, momentum=0.1):\n",
    "        self.eps = eps\n",
    "        self.momentum = momentum\n",
    "        self.training = True\n",
    "        # parameters (trained with backprop)\n",
    "        self.gamma = torch.ones(dim)\n",
    "        self.beta = torch.zeros(dim)\n",
    "        # buffers (trained with a running 'momentum update')\n",
    "        self.running_mean = torch.zeros(dim)\n",
    "        self.running_var = torch.ones(dim)\n",
    "  \n",
    "    def __call__(self, x):\n",
    "        # calculate the forward pass\n",
    "        if self.training:\n",
    "            if x.ndim == 2:\n",
    "                dim = 0\n",
    "            elif x.ndim == 3:\n",
    "                dim = (0,1)\n",
    "            xmean = x.mean(dim, keepdim=True) # batch mean\n",
    "            xvar = x.var(dim, keepdim=True) # batch variance\n",
    "        else:\n",
    "            xmean = self.running_mean\n",
    "            xvar = self.running_var\n",
    "        xhat = (x - xmean) / torch.sqrt(xvar + self.eps) # normalize to unit variance\n",
    "        self.out = self.gamma * xhat + self.beta\n",
    "        # update the buffers\n",
    "        if self.training:\n",
    "            with torch.no_grad():\n",
    "                self.running_mean = (1 - self.momentum) * self.running_mean + self.momentum * xmean\n",
    "                self.running_var = (1 - self.momentum) * self.running_var + self.momentum * xvar\n",
    "        return self.out\n",
    "  \n",
    "    def parameters(self):\n",
    "        return [self.gamma, self.beta]"
   ]
  },
  {
   "cell_type": "markdown",
   "id": "03cdf0eb",
   "metadata": {},
   "source": [
    "<a id=\"Tanh\"></a>\n",
    "## Tanh\n",
    "\n",
    "performs non-linear activation of linear inputs  **Used by**: [Sequential (model)](#Sequential (model))\n",
    "\n",
    "\n",
    "* **returns: torch.tensor(self.out)** activation of inputs"
   ]
  },
  {
   "cell_type": "code",
   "execution_count": 39,
   "id": "8724979d",
   "metadata": {},
   "outputs": [],
   "source": [
    "class Tanh:\n",
    "    def __call__(self, x):\n",
    "        self.out = torch.tanh(x)\n",
    "        return self.out\n",
    "    def parameters(self):\n",
    "        return []"
   ]
  },
  {
   "cell_type": "markdown",
   "id": "eac9e079",
   "metadata": {},
   "source": [
    "<a id=\"Embedding\"></a>\n",
    "## Embedding\n",
    "\n",
    "set the size of the dimensionality of the character embedding vectors and the number of instances  **Used by**: [Sequential(model)](#Sequential(model))\n",
    "\n",
    "\n",
    "* **returns: torch.tensor(self.out)** activation of inputs"
   ]
  },
  {
   "cell_type": "code",
   "execution_count": 40,
   "id": "15785ba9",
   "metadata": {},
   "outputs": [],
   "source": [
    "class Embedding:\n",
    "  \n",
    "    def __init__(self, num_embeddings, embedding_dim):\n",
    "        self.weight = torch.randn((num_embeddings, embedding_dim))\n",
    "\n",
    "    def __call__(self, IX):\n",
    "        self.out = self.weight[IX]\n",
    "        return self.out\n",
    "\n",
    "    def parameters(self):\n",
    "        return [self.weight]"
   ]
  },
  {
   "cell_type": "markdown",
   "id": "92144061",
   "metadata": {},
   "source": [
    "<a id=\"FlattenConsecutive\"></a>\n",
    "## FlattenConsecutive\n",
    "\n",
    "performs shape change of tensors with creating new tensors  **Used by**: [Sequential (model)](#Sequential (model))\n",
    "\n",
    "\n",
    "* **returns: torch.tensor(self.out)** activation of inputs"
   ]
  },
  {
   "cell_type": "code",
   "execution_count": 41,
   "id": "ab564873",
   "metadata": {},
   "outputs": [],
   "source": [
    "class FlattenConsecutive:\n",
    "  \n",
    "    def __init__(self, n):\n",
    "        self.n = n\n",
    "\n",
    "    def __call__(self, x):\n",
    "        B, T, C = x.shape\n",
    "        x = x.view(B, T//self.n, C*self.n)\n",
    "        if x.shape[1] == 1:\n",
    "            x = x.squeeze(1)\n",
    "        self.out = x\n",
    "        return self.out\n",
    "\n",
    "    def parameters(self):\n",
    "        return []"
   ]
  },
  {
   "cell_type": "markdown",
   "id": "9137c15f",
   "metadata": {},
   "source": [
    "<a id=\"Sequential\"></a>\n",
    "## Sequential\n",
    "\n",
    "set architecture of layers  **Used by**: [train(model)](#train(model))\n",
    "\n",
    "\n",
    "* **returns:** torch.tensor(self.out) activation of inputs"
   ]
  },
  {
   "cell_type": "code",
   "execution_count": 52,
   "id": "6092a782",
   "metadata": {},
   "outputs": [],
   "source": [
    "class Sequential:\n",
    "  \n",
    "    def __init__(self, layers):\n",
    "        self.layers = layers\n",
    "  \n",
    "    def __call__(self, x):\n",
    "        for layer in self.layers:\n",
    "            x = layer(x)\n",
    "        self.out = x\n",
    "        return self.out\n",
    "  \n",
    "    def parameters(self):\n",
    "        # get parameters of all layers and stretch them out into one list\n",
    "        return [p for layer in self.layers for p in layer.parameters()]\n"
   ]
  },
  {
   "cell_type": "code",
   "execution_count": 43,
   "id": "7e7b7264",
   "metadata": {},
   "outputs": [],
   "source": [
    "torch.manual_seed(42); # seed rng for reproducibility"
   ]
  },
  {
   "cell_type": "markdown",
   "id": "45d2011d",
   "metadata": {},
   "source": [
    "<a id=\"hierarchical network\"></a>\n",
    "## hierarchical network\n",
    "\n",
    "set model architecture (size of embedding vector, hidden layers, batch norm and non-linear function)  **Used by**: [none](#none)\n",
    "\n",
    " \n",
    "* **returns:**  None (set hyperparameters)"
   ]
  },
  {
   "cell_type": "code",
   "execution_count": 44,
   "id": "846a2548",
   "metadata": {},
   "outputs": [],
   "source": [
    "# hierarchical network\n",
    "n_embd = 24 # the dimensionality of the character embedding vectors\n",
    "n_hidden = 128 # the number of neurons in the hidden layer of the MLP\n",
    "model = Sequential([\n",
    "    Embedding(vocab_size, n_embd),\n",
    "    FlattenConsecutive(2), Linear(n_embd * 2, n_hidden, bias=False), BatchNorm1d(n_hidden), Tanh(),\n",
    "    FlattenConsecutive(2), Linear(n_hidden*2, n_hidden, bias=False), BatchNorm1d(n_hidden), Tanh(),\n",
    "    FlattenConsecutive(2), Linear(n_hidden*2, n_hidden, bias=False), BatchNorm1d(n_hidden), Tanh(),\n",
    "    Linear(n_hidden, vocab_size),\n",
    "])"
   ]
  },
  {
   "cell_type": "markdown",
   "id": "fed734ef",
   "metadata": {},
   "source": [
    "<a id=\"parameter init\"></a>\n",
    "## parameter init\n",
    "\n",
    "performs parameter intialization while setting requires_grad true  **Used by**: [none](#none)\n",
    "\n",
    "\n",
    "* **returns:** None"
   ]
  },
  {
   "cell_type": "code",
   "execution_count": 45,
   "id": "f1695315",
   "metadata": {},
   "outputs": [
    {
     "name": "stdout",
     "output_type": "stream",
     "text": [
      "76579\n"
     ]
    }
   ],
   "source": [
    "# parameter init\n",
    "with torch.no_grad():\n",
    "    model.layers[-1].weight *= 0.1 # last layer make less confident\n",
    "\n",
    "parameters = model.parameters()\n",
    "print(sum(p.nelement() for p in parameters)) # number of parameters in total\n",
    "for p in parameters:\n",
    "    p.requires_grad = True"
   ]
  },
  {
   "cell_type": "markdown",
   "id": "4b7afe33",
   "metadata": {},
   "source": [
    "<a id=\"train\"></a>\n",
    "## train\n",
    "\n",
    "performs the forward and backward passes using a minibatch arhitecture to decrease training time. The learning rate decays while training  **Used by**: [none](#none)\n",
    "\n",
    "\n",
    "* **returns:** None (updates weights)"
   ]
  },
  {
   "cell_type": "code",
   "execution_count": 47,
   "id": "1822638f",
   "metadata": {},
   "outputs": [
    {
     "name": "stdout",
     "output_type": "stream",
     "text": [
      "      0/ 200000: 3.3167\n",
      "  10000/ 200000: 2.0576\n",
      "  20000/ 200000: 2.0723\n",
      "  30000/ 200000: 2.5134\n",
      "  40000/ 200000: 2.1476\n",
      "  50000/ 200000: 1.7836\n",
      "  60000/ 200000: 2.2592\n",
      "  70000/ 200000: 1.9331\n",
      "  80000/ 200000: 1.6875\n",
      "  90000/ 200000: 2.0395\n",
      " 100000/ 200000: 1.7736\n",
      " 110000/ 200000: 1.9569\n",
      " 120000/ 200000: 1.7465\n",
      " 130000/ 200000: 1.8126\n",
      " 140000/ 200000: 1.7406\n",
      " 150000/ 200000: 1.7466\n",
      " 160000/ 200000: 1.8806\n",
      " 170000/ 200000: 1.6266\n",
      " 180000/ 200000: 1.6476\n",
      " 190000/ 200000: 1.8555\n"
     ]
    }
   ],
   "source": [
    "# train\n",
    "max_steps = 200000\n",
    "batch_size = 32\n",
    "lossi = []\n",
    "\n",
    "for i in range(max_steps):\n",
    "    # minibatch construct\n",
    "    ix = torch.randint(0, Xtr.shape[0], (batch_size,))\n",
    "    Xb, Yb = Xtr[ix], Ytr[ix] # batch X,Y\n",
    "\n",
    "    # forward pass\n",
    "    logits = model(Xb)\n",
    "    loss = F.cross_entropy(logits, Yb) # loss function\n",
    "\n",
    "    # backward pass\n",
    "    for p in parameters:\n",
    "        p.grad = None\n",
    "    loss.backward()\n",
    "\n",
    "    # update: simple SGD\n",
    "    lr = 0.1 if i < 150000 else 0.01 # step learning rate decay\n",
    "    for p in parameters:\n",
    "        p.data += -lr * p.grad\n",
    "\n",
    "    # track stats\n",
    "    if i % 10000 == 0: # print every once in a while\n",
    "        print(f'{i:7d}/{max_steps:7d}: {loss.item():.4f}')\n",
    "    lossi.append(loss.log10().item())\n"
   ]
  },
  {
   "cell_type": "code",
   "execution_count": 48,
   "id": "1e6b864a",
   "metadata": {},
   "outputs": [
    {
     "data": {
      "text/plain": [
       "[<matplotlib.lines.Line2D at 0x1db5b971510>]"
      ]
     },
     "execution_count": 48,
     "metadata": {},
     "output_type": "execute_result"
    },
    {
     "data": {
      "image/png": "[encoded data removed]",
      "text/plain": [
       "<Figure size 640x480 with 1 Axes>"
      ]
     },
     "metadata": {},
     "output_type": "display_data"
    }
   ],
   "source": [
    "plt.plot(torch.tensor(lossi).view(-1, 1000).mean(1))"
   ]
  },
  {
   "cell_type": "markdown",
   "id": "ef2a8f73",
   "metadata": {},
   "source": [
    "<a id=\"eval mode\"></a>\n",
    "## eval mode\n",
    "\n",
    "sets state of model to deactivate batch_normalization estimation  **Used by**: [sequential (model)](#sequential (model))\n",
    "\n",
    "\n",
    "* **returns:** none"
   ]
  },
  {
   "cell_type": "code",
   "execution_count": 49,
   "id": "33610c5a",
   "metadata": {},
   "outputs": [],
   "source": [
    "# put layers into eval mode (needed for batchnorm especially)\n",
    "for layer in model.layers:\n",
    "    layer.training = False"
   ]
  },
  {
   "cell_type": "markdown",
   "id": "ede9699c",
   "metadata": {},
   "source": [
    "<a id=\"split_loss\"></a>\n",
    "## split_loss\n",
    "\n",
    "performs evaluation between the whole training data and the dev set after training is complete **Used by**: [none](#none)\n",
    "\n",
    "\n",
    "* **returns:**  None (prints loss comparision )"
   ]
  },
  {
   "cell_type": "code",
   "execution_count": 50,
   "id": "fb8f082f",
   "metadata": {},
   "outputs": [
    {
     "name": "stdout",
     "output_type": "stream",
     "text": [
      "train 1.7690284252166748\n",
      "val 1.9936530590057373\n"
     ]
    }
   ],
   "source": [
    "# evaluate the loss\n",
    "@torch.no_grad() # this decorator disables gradient tracking inside pytorch\n",
    "def split_loss(split):\n",
    "    x,y = {\n",
    "        'train': (Xtr, Ytr),\n",
    "        'val': (Xdev, Ydev),\n",
    "        'test': (Xte, Yte),\n",
    "    }[split]\n",
    "    logits = model(x)\n",
    "    loss = F.cross_entropy(logits, y)\n",
    "    print(split, loss.item())\n",
    "\n",
    "split_loss('train')\n",
    "split_loss('val')"
   ]
  },
  {
   "cell_type": "code",
   "execution_count": null,
   "id": "e94dfa92",
   "metadata": {},
   "outputs": [],
   "source": []
  },
  {
   "cell_type": "code",
   "execution_count": 51,
   "id": "99b1b3f4",
   "metadata": {},
   "outputs": [
    {
     "name": "stdout",
     "output_type": "stream",
     "text": [
      "arlij.\n",
      "chetta.\n",
      "heago.\n",
      "rocklei.\n",
      "hendrix.\n",
      "jamylie.\n",
      "broxin.\n",
      "denish.\n",
      "anslibt.\n",
      "marianah.\n",
      "astavia.\n",
      "annayve.\n",
      "aniah.\n",
      "jayce.\n",
      "nodiel.\n",
      "remita.\n",
      "niyelle.\n",
      "jaylene.\n",
      "aiyan.\n",
      "aubreana.\n"
     ]
    }
   ],
   "source": [
    "# sample from the model\n",
    "for _ in range(20):\n",
    "    out = []\n",
    "    context = [0] * block_size # initialize with all ...\n",
    "    while True:\n",
    "        # forward pass the neural net\n",
    "        logits = model(torch.tensor([context]))\n",
    "        probs = F.softmax(logits, dim=1)\n",
    "        # sample from the distribution\n",
    "        ix = torch.multinomial(probs, num_samples=1).item()\n",
    "        # shift the context window and track the samples\n",
    "        context = context[1:] + [ix]\n",
    "        out.append(ix)\n",
    "        # if we sample the special '.' token, break\n",
    "        if ix == 0:\n",
    "            break\n",
    "\n",
    "    print(''.join(itos[i] for i in out)) # decode and print the generated word"
   ]
  },
  {
   "cell_type": "code",
   "execution_count": null,
   "id": "8f809219",
   "metadata": {},
   "outputs": [],
   "source": []
  }
 ],
 "metadata": {
  "kernelspec": {
   "display_name": "Python 3 (ipykernel)",
   "language": "python",
   "name": "python3"
  },
  "language_info": {
   "codemirror_mode": {
    "name": "ipython",
    "version": 3
   },
   "file_extension": ".py",
   "mimetype": "text/x-python",
   "name": "python",
   "nbconvert_exporter": "python",
   "pygments_lexer": "ipython3",
   "version": "3.10.9"
  }
 },
 "nbformat": 4,
 "nbformat_minor": 5
}
