{
 "cells": [
  {
   "cell_type": "markdown",
   "metadata": {},
   "source": [
    "# Module 5 - Programming Assignment\n"
   ]
  },
  {
   "cell_type": "markdown",
   "metadata": {},
   "source": [
    "## Solving Normal Form Games"
   ]
  },
  {
   "cell_type": "code",
   "execution_count": 2,
   "metadata": {},
   "outputs": [],
   "source": [
    "from typing import List, Tuple, Dict, Callable"
   ]
  },
  {
   "cell_type": "markdown",
   "metadata": {},
   "source": [
    "In the lecture we talked about the Prisoner's Dilemma game, shown here in Normal Form:\n",
    "\n",
    "Player 1 / Player 2  | Defect | Cooperate\n",
    "------------- | ------------- | -------------\n",
    "Defect  | -5, -5 | -1, -10\n",
    "Cooperate  | -10, -1 | -2, -2\n",
    "\n",
    "where the payoff to Player 1 is the left number and the payoff to Player 2 is the right number. We can represent each payoff cell as a Tuple: `(-5, -5)`, for example. We can represent each row as a List of Tuples: `[(-5, -5), (-1, -10)]` would be the first row and the entire table as a List of Lists:"
   ]
  },
  {
   "cell_type": "code",
   "execution_count": 3,
   "metadata": {},
   "outputs": [
    {
     "data": {
      "text/plain": [
       "[[(-5, -5), (-1, -10)], [(-10, -1), (-2, -2)]]"
      ]
     },
     "execution_count": 3,
     "metadata": {},
     "output_type": "execute_result"
    }
   ],
   "source": [
    "prisoners_dilemma = [\n",
    " [( -5, -5), (-1,-10)],\n",
    " [(-10, -1), (-2, -2)]]\n",
    "\n",
    "prisoners_dilemma"
   ]
  },
  {
   "cell_type": "markdown",
   "metadata": {},
   "source": [
    "in which case the strategies are represented by indices into the List of Lists. For example, `(Defect, Cooperate)` for the above game becomes `prisoners_dilemma[ 0][ 1]` and returns the payoff `(-1, -10)` because 0 is the first row of the table (\"Defect\" for Player 1) and 1 is the 2nd column of the row (\"Cooperate\" for Player 2).\n",
    "\n",
    "For this assignment, you are going write a function that uses Successive Elimination of Dominated Strategies (SEDS) to find the **pure strategy** Nash Equilibrium of a Normal Form Game. The function is called `solve_game`:\n",
    "\n",
    "```python\n",
    "def solve_game( game: List[List[Tuple]], weak=False) -> List[Tuple]:\n",
    "    pass # returns strategy indices of Nash equilibrium or None.\n",
    "```\n",
    "\n",
    "and it takes two parameters: the game, in a format that we described earlier and an optional boolean flag that controls whether the algorithm considers only **strongly dominated strategies** (the default will be false) or whether it should consider **weakly dominated strategies** as well.\n",
    "\n",
    "It should work with game matrices of any size and it will return the **strategy indices** of the Nash Equilibrium. If there is no **pure strategy** equilibrium that can be found using SEDS, return the empty List (`[]`).\n",
    "\n",
    "\n",
    "<div style=\"background: mistyrose; color: firebrick; border: 2px solid darkred; padding: 5px; margin: 10px;\">\n",
    "Do not return the payoff. That's not useful. Return the strategy indices, any other output is incorrect.\n",
    "</div>\n",
    "\n",
    "As before, you must provide your implementation in the space below, one Markdown cell for documentation and one Code cell for implementation, one function and assertations per Codecell.\n",
    "\n",
    "\n",
    "---"
   ]
  },
  {
   "cell_type": "markdown",
   "metadata": {},
   "source": [
    "<a id=\"dominiated\"></a>\n",
    "## dominiated\n",
    "\n",
    "measures if a strategy is dominatated strongly or weakly  **Used by**: [solve_game](#solve_game)\n",
    "\n",
    "* **player**  int: player is either zero or one (index of the tuple to read) \n",
    "* **current_strategy** List[tuple]: current strategy to check\n",
    "* **other_strategy**   List[tuple]: adjacent strategy of the same player to check\n",
    "* **weak** Bool: evalutation type (strong or weak)\n",
    "\n",
    "* **returns** bool: whether the strategy is dominated"
   ]
  },
  {
   "cell_type": "code",
   "execution_count": 6,
   "metadata": {
    "scrolled": true
   },
   "outputs": [],
   "source": [
    "def dominiated(player: int, current_strategy: List[tuple], other_strategy: List[tuple], weak:bool):\n",
    "    if weak == False:\n",
    "        if all(x[player]<y[player]for x, y in zip(other_strategy, current_strategy)):\n",
    "            return True\n",
    "        else:\n",
    "            return False\n",
    "    if weak == True:\n",
    "        if any(x[player]<y[player] for x, y in zip(other_strategy, current_strategy)) and any(x[player]==y[player] for x, y in zip(other_strategy, current_strategy)):\n",
    "            return True\n",
    "        else:\n",
    "            return False"
   ]
  },
  {
   "cell_type": "code",
   "execution_count": 7,
   "metadata": {},
   "outputs": [],
   "source": [
    "assert dominiated(0, [(1,1),(1,1),(1,1)], [(5,5),(5,5),(5,5)], False) == False\n",
    "assert dominiated(0, [(5,5),(5,5),(5,5)], [(5,5),(5,5),(5,5)], False) == False\n",
    "assert dominiated(0, [(5,5),(5,5),(4,4)], [(5,5),(5,5),(5,5)], True) == False"
   ]
  },
  {
   "cell_type": "code",
   "execution_count": null,
   "metadata": {},
   "outputs": [],
   "source": [
    "def Check_player1():\n",
    "    "
   ]
  },
  {
   "cell_type": "markdown",
   "metadata": {},
   "source": [
    "<a id=\"solve_game\"></a>\n",
    "## solve_game\n",
    "\n",
    "finds the dominate strategy in a 2 player 3 strategy game by solving successive elimination of dominate strategies.\n",
    "\n",
    "**Used by**: [none](#none)\n",
    "\n",
    "* **game** List[List[Tuple]]: player is either zero or one (index of the tuple to read) \n",
    "* **weak** Bool: evalutation type (strong or weak)\n",
    "\n",
    "* **returns** List[Tuple]: index of dominate strategy"
   ]
  },
  {
   "cell_type": "code",
   "execution_count": 48,
   "metadata": {},
   "outputs": [],
   "source": [
    "def solve_game(game: List[List[Tuple]], weak:bool=False) -> List[Tuple]:\n",
    "    dominated =[]\n",
    "    frontier=[]\n",
    "    #player 1\n",
    "    for strategy in game:\n",
    "        frontier.append(strategy)\n",
    "    p1 = True\n",
    "    p2 = True\n",
    "    while p1 == True or p2 == True:\n",
    "        current = frontier.pop()\n",
    "        while len(frontier) !=0\n",
    "            for other_strategy in frontier:\n",
    "                if dominiated(0, current, other_strategy, False):\n",
    "                    frontier.remove(other_strategy)  \n",
    "            current= frontier.pop()\n",
    "        if    \n",
    "            \n",
    "            \n",
    "        frontier= list(zip(game))\n",
    "        current = frontier.pop()\n",
    "        for other_strategy in frontier:\n",
    "            if dominiated(0, current, other_strategy, False):\n",
    "                dominated.append(current)\n",
    "            current= frontier.pop()\n",
    "            \n",
    "            \n",
    "            \n",
    "            \n",
    "#      while len(frontier) != 0:\n",
    "#         current_state = frontier.pop()\n",
    "#         if isterminal(goal, current_state):\n",
    "#             explored.append(current_state)\n",
    "#             path.append(current_state)\n",
    "#             return explored\n",
    "#         children = successors(current_state, world, moves)\n",
    "#         for child in children:\n",
    "#             if child not in explored + frontier:\n",
    "#                 frontier.append(child)\n",
    "#         explored.append(current_state)   \n",
    "        \n",
    "        \n",
    "        \n",
    "    return []"
   ]
  },
  {
   "cell_type": "markdown",
   "metadata": {},
   "source": [
    "## Additional Directions\n",
    "\n",
    "Create three games as described and according to the following:\n",
    "\n",
    "1. Your games must be created and solved \"by hand\".\n",
    "2. The strategy pairs must **not** be on the main diagonal (0, 0), (1, 1), or (2, 2). And the solution cannot be the same for both Game 1 and Game 2.\n",
    "3. Make sure you fill out the Markdown (\"?\") with your game as well as the solution (\"?\").\n",
    "4. Remember, **do not return the payoff**, return the strategy indices (a list of them)."
   ]
  },
  {
   "cell_type": "markdown",
   "metadata": {},
   "source": [
    "## Before you code...\n",
    "\n",
    "Solve the following game by hand using SEDS and weakly dominated strategies. \n",
    "The game has three (pure) Nash Equilibriums. \n",
    "You should find all of them.\n",
    "This will help you think about what you need to implement to make the algorithm work.\n",
    "**Hint**: You will need State Space Search from Module 1 and SEDS from Module 5 to get the full algorithm to work.\n",
    "\n",
    "|\n",
    " Player 1 / Player 2  | 0 | 1 | 2 |\n",
    "|----|----|----|----|\n",
    "|0  | 1/0 | 3/1 | 1/1 |\n",
    "|1  | 1/1 | 3/0 | 0/1 |\n",
    "|2  | 2/2 | 3/3 | 0/2 |\n",
    "**Solutions**: (put them here)"
   ]
  },
  {
   "cell_type": "markdown",
   "metadata": {},
   "source": [
    "Solution 1\n",
    "\n",
    "| Player 1 / Player 2  | 0 | 1 | 2 |\n",
    "|----|----|----|----|\n",
    "|0  | 1/0 | 3/1 | 1/1 |\n",
    "|1  | 1/1 | 3/0 | 0/1 |\n",
    "|2  | 2/2 | 3/3 | 0/2 |\n",
    "\n",
    "| Player 1 / Player 2  | 0 | 1 | 2 |\n",
    "|----|----|----|----|\n",
    "|0  | - | 3/1 | 1/1 |\n",
    "|1  | - | 3/0 | 0/1 |\n",
    "|2  | - | 3/3 | 0/2 |\n",
    "\n",
    "| Player 1 / Player 2  | 0 | 1 | 2 |\n",
    "|----|----|----|----|\n",
    "|0  | - | 3/1 | 1/1 |\n",
    "|1  | - | 3/0 | 0/1|\n",
    "|2  | - | - | - |\n",
    "\n",
    "| Player 1 / Player 2  | 0 | 1 | 2 |\n",
    "|----|----|----|----|\n",
    "|0  | - | - | 1/1 |\n",
    "|1  | - | - | 0/1 |\n",
    "|2  | - | - | - |\n",
    "\n",
    "| Player 1 / Player 2  | 0 | 1 | 2 |\n",
    "|----|----|----|----|\n",
    "|0  | - | - | 1/1 |\n",
    "|1  | - | - | - |\n",
    "|2  | - | - | - |"
   ]
  },
  {
   "cell_type": "markdown",
   "metadata": {},
   "source": [
    "Solution 2\n",
    "\n",
    "| Player 1 / Player 2  | 0 | 1 | 2 |\n",
    "|----|----|----|----|\n",
    "|0  | 1/0 | 3/1 | 1/1 |\n",
    "|1  | 1/1 | 3/0 | 0/1 |\n",
    "|2  | 2/2 | 3/3 | 0/2 |\n",
    "\n",
    "| Player 1 / Player 2  | 0 | 1 | 2 |\n",
    "|----|----|----|----|\n",
    "|0  | 1/0 | 3/1 | 1/1 |\n",
    "|1  | - | - | - |\n",
    "|2  | 2/2 | 3/3 | 0/2 |\n",
    "\n",
    "| Player 1 / Player 2  | 0 | 1 | 2 |\n",
    "|----|----|----|----|\n",
    "|0  | 1/0 | 3/1 | - |\n",
    "|1  | - | - | - |\n",
    "|2  | 2/2 | 3/3 |-|\n",
    "\n",
    "| Player 1 / Player 2  | 0 | 1 | 2 |\n",
    "|----|----|----|----|\n",
    "|0  | - | - | - |\n",
    "|1  | - | - | - |\n",
    "|2  | 2/2 | 3/3 |-|\n",
    "\n",
    "| Player 1 / Player 2  | 0 | 1 | 2 |\n",
    "|----|----|----|----|\n",
    "|0  | - | - | - |\n",
    "|1  | - | - | - |\n",
    "|2  | - | 3/3 |-|"
   ]
  },
  {
   "cell_type": "markdown",
   "metadata": {},
   "source": [
    "Solution 3\n",
    "\n",
    "| Player 1 / Player 2  | 0 | 1 | 2 |\n",
    "|----|----|----|----|\n",
    "|0  | 1/0 | 3/1 | 1/1 |\n",
    "|1  | 1/1 | 3/0 | 0/1 |\n",
    "|2  | 2/2 | 3/3 | 0/2 |\n",
    "\n",
    "| Player 1 / Player 2  | 0 | 1 | 2 |\n",
    "|----|----|----|----|\n",
    "|0  | - | 3/1 | 1/1 |\n",
    "|1  | - | - | - |\n",
    "|2  | - | 3/3 | 0/2 |"
   ]
  },
  {
   "cell_type": "markdown",
   "metadata": {},
   "source": [
    "### Test Game 1. Create a 3x3 two player game\n",
    "\n",
    "**that can only be solved using the Successive Elimintation of Strongly Dominated Strategies**\n",
    "\n",
    "| Player 1 / Player 2  | 0 | 1 | 2 |\n",
    "|----|----|----|----|\n",
    "|0  | ? | ? | ? |\n",
    "|1  | ? | ? | ? |\n",
    "|2  | ? | ? | ? |\n",
    "\n",
    "**Solution:**? (strategy indices)"
   ]
  },
  {
   "cell_type": "markdown",
   "metadata": {},
   "source": [
    "| Player 1 / Player 2  | 0 | 1 | 2 |\n",
    "|----|----|----|----|\n",
    "|0  | 1/1 | 3/3 | 1/3 |\n",
    "|1  | 5/4 |  4/2| 3/3 |\n",
    "|2  | 4/2 | 3/1 | 2/5|\n",
    "\n",
    "\n",
    "| Player 1 / Player 2  | 0 | 1 | 2 |\n",
    "|----|----|----|----|\n",
    "|0  | - | - | - |\n",
    "|1  | 5/4 |  4/2| 3/3 |\n",
    "|2  | - | - | -|\n",
    "\n",
    "| Player 1 / Player 2  | 0 | 1 | 2 |\n",
    "|----|----|----|----|\n",
    "|0  | - | - | - |\n",
    "|1  | 5/4 |  -| -|\n",
    "|2  | - | - | -|"
   ]
  },
  {
   "cell_type": "code",
   "execution_count": 49,
   "metadata": {},
   "outputs": [
    {
     "name": "stdout",
     "output_type": "stream",
     "text": [
      "[]\n"
     ]
    }
   ],
   "source": [
    "test_game_1 = []\n",
    "\n",
    "solution = solve_game(test_game_1)\n",
    "print(solution)"
   ]
  },
  {
   "cell_type": "code",
   "execution_count": null,
   "metadata": {},
   "outputs": [],
   "source": []
  },
  {
   "cell_type": "code",
   "execution_count": 50,
   "metadata": {},
   "outputs": [],
   "source": [
    "assert solution == [] # insert your solution from above."
   ]
  },
  {
   "cell_type": "markdown",
   "metadata": {},
   "source": [
    "### Test Game 2. Create a 3x3 two player game\n",
    "\n",
    "**that can only be solved using the Successive Elimintation of Weakly Dominated Strategies**\n",
    "\n",
    "| Player 1 / Player 2  | 0 | 1 | 2 |\n",
    "|----|----|----|----|\n",
    "|0  | ? | ? | ? |\n",
    "|1  | ? | ? | ? |\n",
    "|2  | ? | ? | ? |\n",
    "\n",
    "**Solution:**? (strategy indices)"
   ]
  },
  {
   "cell_type": "markdown",
   "metadata": {},
   "source": [
    "| Player 1 / Player 2  | 0 | 1 | 2 |\n",
    "|----|----|----|----|\n",
    "|0  | 1/1 | 3/3 | 1/3 |\n",
    "|1  | 5/4 |  5/2| 3/3 |\n",
    "|2  | 6/2 | 5/4 | 3/3|\n",
    "\n",
    "| Player 1 / Player 2  | 0 | 1 | 2 |\n",
    "|----|----|----|----|\n",
    "|0  | - | - | - |\n",
    "|1  | - |  -| - |\n",
    "|2  | 6/2 | 5/4 | 3/3|\n",
    "\n",
    "| Player 1 / Player 2  | 0 | 1 | 2 |\n",
    "|----|----|----|----|\n",
    "|0  | - | - | - |\n",
    "|1  | - |  -| - |\n",
    "|2  | - | 5/4 | - |"
   ]
  },
  {
   "cell_type": "code",
   "execution_count": 51,
   "metadata": {},
   "outputs": [],
   "source": [
    "test_game_2 = []\n",
    "\n",
    "strong_solution = solve_game( test_game_2)\n",
    "weak_solution = solve_game( test_game_2, weak=True)"
   ]
  },
  {
   "cell_type": "code",
   "execution_count": 52,
   "metadata": {},
   "outputs": [],
   "source": [
    "assert strong_solution == []\n",
    "assert weak_solution == [] # insert your solution from above."
   ]
  },
  {
   "cell_type": "markdown",
   "metadata": {},
   "source": [
    "### Test Game 3. Create a 3x3 two player game\n",
    "\n",
    "**that cannot be solved using the Successive Elimintation of Dominated Strategies at all**\n",
    "\n",
    "| Player 1 / Player 2  | 0 | 1 | 2 |\n",
    "|----|----|----|----|\n",
    "|0  | ? | ? | ? |\n",
    "|1  | ? | ? | ? |\n",
    "|2  | ? | ? | ? |\n",
    "\n",
    "**Solution:** None"
   ]
  },
  {
   "cell_type": "markdown",
   "metadata": {},
   "source": [
    "| Player 1 / Player 2  | 0 | 1 | 2 |\n",
    "|----|----|----|----|\n",
    "|0  | 1/1 | 3/3 | 1/3 |\n",
    "|1  | 5/4 |  5/2| 6/3 |\n",
    "|2  | 7/2 | 6/4 | 3/3|\n",
    "\n",
    "| Player 1 / Player 2  | 0 | 1 | 2 |\n",
    "|----|----|----|----|\n",
    "|0  | - | - | - |\n",
    "|1  | 5/4 |  5/2| 6/3 |\n",
    "|2  | 7/2 | 6/4 | 3/3|"
   ]
  },
  {
   "cell_type": "code",
   "execution_count": null,
   "metadata": {},
   "outputs": [],
   "source": []
  },
  {
   "cell_type": "code",
   "execution_count": 53,
   "metadata": {},
   "outputs": [],
   "source": [
    "test_game_3 = []\n",
    "\n",
    "strong_solution = solve_game( test_game_3)\n",
    "weak_solution = solve_game( test_game_3, weak=True)"
   ]
  },
  {
   "cell_type": "code",
   "execution_count": 54,
   "metadata": {},
   "outputs": [],
   "source": [
    "assert strong_solution == []\n",
    "assert weak_solution == []"
   ]
  },
  {
   "cell_type": "markdown",
   "metadata": {},
   "source": [
    "### Test Game 4. Multiple Equilibria\n",
    "\n",
    "You solve the following game by hand, above.\n",
    "Now use your code to solve it.\n",
    "\n",
    "| Player 1 / Player 2  | 0 | 1 | 2 |\n",
    "|----|----|----|----|\n",
    "|0  | 1/0 | 3/1 | 1/1 |\n",
    "|1  | 1/1 | 3/0 | 0/1 |\n",
    "|2  | 2/2 | 3/3 | 0/2 |\n",
    "\n",
    "**Solutions:** (copy from above)"
   ]
  },
  {
   "cell_type": "code",
   "execution_count": 55,
   "metadata": {},
   "outputs": [
    {
     "ename": "KeyboardInterrupt",
     "evalue": "",
     "output_type": "error",
     "traceback": [
      "\u001b[1;31m---------------------------------------------------------------------------\u001b[0m",
      "\u001b[1;31mKeyboardInterrupt\u001b[0m                         Traceback (most recent call last)",
      "Cell \u001b[1;32mIn[55], line 6\u001b[0m\n\u001b[0;32m      1\u001b[0m test_game_4 \u001b[38;5;241m=\u001b[39m [\n\u001b[0;32m      2\u001b[0m [(\u001b[38;5;241m1\u001b[39m, \u001b[38;5;241m0\u001b[39m), (\u001b[38;5;241m3\u001b[39m, \u001b[38;5;241m1\u001b[39m), (\u001b[38;5;241m1\u001b[39m, \u001b[38;5;241m1\u001b[39m)],\n\u001b[0;32m      3\u001b[0m [(\u001b[38;5;241m1\u001b[39m, \u001b[38;5;241m1\u001b[39m), (\u001b[38;5;241m3\u001b[39m, \u001b[38;5;241m0\u001b[39m), (\u001b[38;5;241m0\u001b[39m, \u001b[38;5;241m3\u001b[39m)],\n\u001b[0;32m      4\u001b[0m [(\u001b[38;5;241m2\u001b[39m, \u001b[38;5;241m2\u001b[39m), (\u001b[38;5;241m3\u001b[39m, \u001b[38;5;241m3\u001b[39m), (\u001b[38;5;241m0\u001b[39m, \u001b[38;5;241m2\u001b[39m)]]\n\u001b[1;32m----> 6\u001b[0m strong_solution \u001b[38;5;241m=\u001b[39m \u001b[43msolve_game\u001b[49m\u001b[43m(\u001b[49m\u001b[43m \u001b[49m\u001b[43mtest_game_4\u001b[49m\u001b[43m)\u001b[49m\n\u001b[0;32m      7\u001b[0m weak_solution \u001b[38;5;241m=\u001b[39m solve_game( test_game_4, weak\u001b[38;5;241m=\u001b[39m\u001b[38;5;28;01mTrue\u001b[39;00m)\n",
      "Cell \u001b[1;32mIn[48], line 19\u001b[0m, in \u001b[0;36msolve_game\u001b[1;34m(game, weak)\u001b[0m\n\u001b[0;32m     17\u001b[0m current \u001b[38;5;241m=\u001b[39m frontier\u001b[38;5;241m.\u001b[39mpop()\n\u001b[0;32m     18\u001b[0m \u001b[38;5;28;01mfor\u001b[39;00m other_strategy \u001b[38;5;129;01min\u001b[39;00m frontier:\n\u001b[1;32m---> 19\u001b[0m     \u001b[38;5;28;01mif\u001b[39;00m \u001b[43mdominiated\u001b[49m\u001b[43m(\u001b[49m\u001b[38;5;241;43m0\u001b[39;49m\u001b[43m,\u001b[49m\u001b[43m \u001b[49m\u001b[43mcurrent\u001b[49m\u001b[43m,\u001b[49m\u001b[43m \u001b[49m\u001b[43mother_strategy\u001b[49m\u001b[43m,\u001b[49m\u001b[43m \u001b[49m\u001b[38;5;28;43;01mFalse\u001b[39;49;00m\u001b[43m)\u001b[49m:\n\u001b[0;32m     20\u001b[0m         dominated\u001b[38;5;241m.\u001b[39mappend(current)\n\u001b[0;32m     21\u001b[0m     current\u001b[38;5;241m=\u001b[39m frontier\u001b[38;5;241m.\u001b[39mpop()\n",
      "Cell \u001b[1;32mIn[46], line 3\u001b[0m, in \u001b[0;36mdominiated\u001b[1;34m(player, current_strategy, other_strategy, weak)\u001b[0m\n\u001b[0;32m      1\u001b[0m \u001b[38;5;28;01mdef\u001b[39;00m \u001b[38;5;21mdominiated\u001b[39m(player: \u001b[38;5;28mint\u001b[39m, current_strategy: List[\u001b[38;5;28mtuple\u001b[39m], other_strategy: List[\u001b[38;5;28mtuple\u001b[39m], weak:\u001b[38;5;28mbool\u001b[39m):\n\u001b[0;32m      2\u001b[0m     \u001b[38;5;28;01mif\u001b[39;00m weak \u001b[38;5;241m==\u001b[39m \u001b[38;5;28;01mFalse\u001b[39;00m:\n\u001b[1;32m----> 3\u001b[0m         \u001b[38;5;28;01mif\u001b[39;00m \u001b[38;5;28;43mall\u001b[39;49m\u001b[43m(\u001b[49m\u001b[43mx\u001b[49m\u001b[43m[\u001b[49m\u001b[43mplayer\u001b[49m\u001b[43m]\u001b[49m\u001b[38;5;241;43m<\u001b[39;49m\u001b[43my\u001b[49m\u001b[43m[\u001b[49m\u001b[43mplayer\u001b[49m\u001b[43m]\u001b[49m\u001b[38;5;28;43;01mfor\u001b[39;49;00m\u001b[43m \u001b[49m\u001b[43mx\u001b[49m\u001b[43m,\u001b[49m\u001b[43m \u001b[49m\u001b[43my\u001b[49m\u001b[43m \u001b[49m\u001b[38;5;129;43;01min\u001b[39;49;00m\u001b[43m \u001b[49m\u001b[38;5;28;43mzip\u001b[39;49m\u001b[43m(\u001b[49m\u001b[43mother_strategy\u001b[49m\u001b[43m,\u001b[49m\u001b[43m \u001b[49m\u001b[43mcurrent_strategy\u001b[49m\u001b[43m)\u001b[49m\u001b[43m)\u001b[49m:\n\u001b[0;32m      4\u001b[0m             \u001b[38;5;28;01mreturn\u001b[39;00m \u001b[38;5;28;01mTrue\u001b[39;00m\n\u001b[0;32m      5\u001b[0m         \u001b[38;5;28;01melse\u001b[39;00m:\n",
      "Cell \u001b[1;32mIn[46], line 3\u001b[0m, in \u001b[0;36m<genexpr>\u001b[1;34m(.0)\u001b[0m\n\u001b[0;32m      1\u001b[0m \u001b[38;5;28;01mdef\u001b[39;00m \u001b[38;5;21mdominiated\u001b[39m(player: \u001b[38;5;28mint\u001b[39m, current_strategy: List[\u001b[38;5;28mtuple\u001b[39m], other_strategy: List[\u001b[38;5;28mtuple\u001b[39m], weak:\u001b[38;5;28mbool\u001b[39m):\n\u001b[0;32m      2\u001b[0m     \u001b[38;5;28;01mif\u001b[39;00m weak \u001b[38;5;241m==\u001b[39m \u001b[38;5;28;01mFalse\u001b[39;00m:\n\u001b[1;32m----> 3\u001b[0m         \u001b[38;5;28;01mif\u001b[39;00m \u001b[38;5;28mall\u001b[39m(x[player]\u001b[38;5;241m<\u001b[39my[player]\u001b[38;5;28;01mfor\u001b[39;00m x, y \u001b[38;5;129;01min\u001b[39;00m \u001b[38;5;28mzip\u001b[39m(other_strategy, current_strategy)):\n\u001b[0;32m      4\u001b[0m             \u001b[38;5;28;01mreturn\u001b[39;00m \u001b[38;5;28;01mTrue\u001b[39;00m\n\u001b[0;32m      5\u001b[0m         \u001b[38;5;28;01melse\u001b[39;00m:\n",
      "\u001b[1;31mKeyboardInterrupt\u001b[0m: "
     ]
    }
   ],
   "source": [
    "test_game_4 = [\n",
    "[(1, 0), (3, 1), (1, 1)],\n",
    "[(1, 1), (3, 0), (0, 3)],\n",
    "[(2, 2), (3, 3), (0, 2)]]\n",
    "\n",
    "strong_solution = solve_game( test_game_4)\n",
    "weak_solution = solve_game( test_game_4, weak=True)"
   ]
  },
  {
   "cell_type": "code",
   "execution_count": 11,
   "metadata": {},
   "outputs": [],
   "source": [
    "assert strong_solution == []\n",
    "assert weak_solution == [] # put solution here"
   ]
  },
  {
   "cell_type": "markdown",
   "metadata": {},
   "source": [
    "## Before You Submit...\n",
    "\n",
    "1. Did you provide output exactly as requested? **Don't forget to fill out the Markdown tables with your games**.\n",
    "2. Did you re-execute the entire notebook? (\"Restart Kernel and Rull All Cells...\")\n",
    "3. If you did not complete the assignment or had difficulty please explain what gave you the most difficulty in the Markdown cell below.\n",
    "4. Did you change the name of the file to `jhed_id.ipynb`?\n",
    "\n",
    "Do not submit any other files."
   ]
  }
 ],
 "metadata": {
  "kernelspec": {
   "display_name": "Python (en605645)",
   "language": "python",
   "name": "en605645"
  },
  "language_info": {
   "codemirror_mode": {
    "name": "ipython",
    "version": 3
   },
   "file_extension": ".py",
   "mimetype": "text/x-python",
   "name": "python",
   "nbconvert_exporter": "python",
   "pygments_lexer": "ipython3",
   "version": "3.10.8"
  },
  "toc": {
   "colors": {
    "hover_highlight": "#DAA520",
    "navigate_num": "#000000",
    "navigate_text": "#333333",
    "running_highlight": "#FF0000",
    "selected_highlight": "#FFD700",
    "sidebar_border": "#EEEEEE",
    "wrapper_background": "#FFFFFF"
   },
   "moveMenuLeft": true,
   "nav_menu": {
    "height": "135px",
    "width": "252px"
   },
   "navigate_menu": true,
   "number_sections": true,
   "sideBar": true,
   "threshold": 4,
   "toc_cell": false,
   "toc_section_display": "block",
   "toc_window_display": false,
   "widenNotebook": false
  }
 },
 "nbformat": 4,
 "nbformat_minor": 4
}
